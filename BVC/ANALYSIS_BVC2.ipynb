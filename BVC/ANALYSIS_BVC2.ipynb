{
 "cells": [
  {
   "cell_type": "markdown",
   "metadata": {},
   "source": [
    "# DATA AND CORRELATION - COLCAP AND STOCKS"
   ]
  },
  {
   "cell_type": "markdown",
   "metadata": {},
   "source": [
    "### LIBRARIES"
   ]
  },
  {
   "cell_type": "code",
   "execution_count": 1,
   "metadata": {},
   "outputs": [],
   "source": [
    "import os\n",
    "import glob\n",
    "import pandas as pd"
   ]
  },
  {
   "cell_type": "code",
   "execution_count": 2,
   "metadata": {},
   "outputs": [],
   "source": [
    "# os.chdir(\"..\")"
   ]
  },
  {
   "cell_type": "markdown",
   "metadata": {},
   "source": [
    "### IDENTIFY THE NAME OF FOLDERS"
   ]
  },
  {
   "cell_type": "code",
   "execution_count": 2,
   "metadata": {},
   "outputs": [
    {
     "data": {
      "text/plain": [
       "['BBVA',\n",
       " 'BCOLOMBIA',\n",
       " 'BHI',\n",
       " 'BMC',\n",
       " 'BOGOTA',\n",
       " 'BVC',\n",
       " 'CELSIA',\n",
       " 'CEMARGOS',\n",
       " 'CNEC',\n",
       " 'CONCONCRETO',\n",
       " 'CORFICOL',\n",
       " 'ECOPETROL',\n",
       " 'ENKA',\n",
       " 'ETB',\n",
       " 'EXITO',\n",
       " 'FABRICATO',\n",
       " 'GEB',\n",
       " 'GRUBOLIVAR',\n",
       " 'GRUPOARGOS',\n",
       " 'GRUPOAVAL',\n",
       " 'GRUPOSURA',\n",
       " 'GXTESCOL',\n",
       " 'HCOLSEL',\n",
       " 'ICOLCAP',\n",
       " 'ISA',\n",
       " 'MINEROS',\n",
       " 'MSCI_COLCAP',\n",
       " 'NUTRESA',\n",
       " 'PEI',\n",
       " 'PFAVAL',\n",
       " 'PFBCOLOMBIA',\n",
       " 'PFCEMARGOS',\n",
       " 'PFCORFICOL',\n",
       " 'PFDAVVNDA',\n",
       " 'PFGRUPARG',\n",
       " 'PFGRUPOSURA',\n",
       " 'PROMIGAS',\n",
       " 'TERPEL']"
      ]
     },
     "execution_count": 2,
     "metadata": {},
     "output_type": "execute_result"
    }
   ],
   "source": [
    "# Get all folder names dynamically (excluding files)\n",
    "folders = [f for f in os.listdir() if os.path.isdir(f)]\n",
    "folders"
   ]
  },
  {
   "cell_type": "markdown",
   "metadata": {},
   "source": [
    "### DEBUGGING THE FILES TO AVOID PROBLEMS"
   ]
  },
  {
   "cell_type": "code",
   "execution_count": 3,
   "metadata": {},
   "outputs": [
    {
     "name": "stdout",
     "output_type": "stream",
     "text": [
      "Processing folder: BBVA | Found CSVs: ['BBVACOL_20250926_102924.csv', 'BBVACOL_20250926_102949.csv', 'BBVACOL_20250926_103001.csv', 'BBVACOL_20250926_103014.csv', 'BBVACOL_20250926_103026.csv', 'BBVACOL_20250926_103041.csv', 'BBVACOL_20250926_103051.csv', 'BBVACOL_20250926_103100.csv', 'BBVACOL_20250926_103114.csv', 'BBVACOL_20250926_103124.csv']\n",
      "Processing folder: BCOLOMBIA | Found CSVs: ['BCOLOMBIA_20250306_095438.csv', 'BCOLOMBIA_20250306_095448.csv', 'BCOLOMBIA_20250306_095453.csv', 'BCOLOMBIA_20250306_095459.csv', 'BCOLOMBIA_20250306_095504.csv', 'BCOLOMBIA_20250306_095510.csv', 'BCOLOMBIA_20250306_095518.csv', 'BCOLOMBIA_20250306_095525.csv', 'BCOLOMBIA_20250306_095532.csv', 'BCOLOMBIA_20250306_095537.csv', 'BCOLOMBIA_20250316_114657.csv', 'BCOLOMBIA_20250414_041704.csv', 'BCOLOMBIA_20250421_040242.csv', 'BCOLOMBIA_20250507_102507.csv', 'BCOLOMBIA_20250518_093921.csv', 'CIBEST_20250616_115556.csv', 'CIBEST_20250819_111335.csv', 'CIBEST_20250926_104124.csv']\n",
      "Processing folder: BHI | Found CSVs: ['BHI_20250311_075103.csv', 'BHI_20250311_075130.csv', 'BHI_20250311_075138.csv', 'BHI_20250311_075145.csv', 'BHI_20250311_075151.csv', 'BHI_20250311_075157.csv', 'BHI_20250316_115152.csv', 'BHI_20250414_042015.csv', 'BHI_20250421_040458.csv', 'BHI_20250507_102432.csv', 'BHI_20250518_093857.csv', 'BHI_20250616_115920.csv', 'BHI_20250819_111606.csv', 'BHI_20250926_103646.csv']\n",
      "Processing folder: BMC | Found CSVs: ['BMC_20250926_111639.csv', 'BMC_20250926_111651.csv', 'BMC_20250926_111701.csv', 'BMC_20250926_111713.csv', 'BMC_20250926_111725.csv', 'BMC_20250926_111845.csv', 'BMC_20250926_111908.csv', 'BMC_20250926_111928.csv', 'BMC_20250926_111938.csv', 'BMC_20250926_111946.csv']\n",
      "Processing folder: BOGOTA | Found CSVs: ['BOGOTA_20250311_084231.csv', 'BOGOTA_20250311_084240.csv', 'BOGOTA_20250311_084248.csv', 'BOGOTA_20250311_084255.csv', 'BOGOTA_20250311_084302.csv', 'BOGOTA_20250311_084308.csv', 'BOGOTA_20250311_084325.csv', 'BOGOTA_20250311_084331.csv', 'BOGOTA_20250311_084340.csv', 'BOGOTA_20250311_084347.csv', 'BOGOTA_20250316_115256.csv', 'BOGOTA_20250414_042125.csv', 'BOGOTA_20250421_040926.csv', 'BOGOTA_20250507_102401.csv', 'BOGOTA_20250518_093829.csv', 'BOGOTA_20250616_115810.csv', 'BOGOTA_20250819_111532.csv', 'BOGOTA_20250926_103802.csv']\n",
      "Processing folder: BVC | Found CSVs: ['BVC_20250311_084607.csv', 'BVC_20250311_084614.csv', 'BVC_20250311_084622.csv', 'BVC_20250311_084630.csv', 'BVC_20250311_084637.csv', 'BVC_20250311_084643.csv', 'BVC_20250311_084653.csv', 'BVC_20250311_084700.csv', 'BVC_20250311_084707.csv', 'BVC_20250311_084713.csv', 'BVC_20250316_115350.csv', 'BVC_20250414_042700.csv', 'BVC_20250421_041031.csv', 'BVC_20250507_102300.csv', 'BVC_20250518_093801.csv', 'BVC_20250616_115733.csv', 'BVC_20250819_111459.csv', 'BVC_20250926_103851.csv']\n",
      "Processing folder: CELSIA | Found CSVs: ['CELSIA_20250311_085123.csv', 'CELSIA_20250311_085130.csv', 'CELSIA_20250311_085137.csv', 'CELSIA_20250311_085142.csv', 'CELSIA_20250311_085159.csv', 'CELSIA_20250311_085206.csv', 'CELSIA_20250311_085218.csv', 'CELSIA_20250311_085224.csv', 'CELSIA_20250311_085231.csv', 'CELSIA_20250311_085237.csv', 'CELSIA_20250317_102345.csv', 'CELSIA_20250414_042755.csv', 'CELSIA_20250421_041109.csv', 'CELSIA_20250507_102206.csv', 'CELSIA_20250518_093725.csv', 'CELSIA_20250616_115706.csv', 'CELSIA_20250819_111435.csv', 'CELSIA_20250926_103937.csv']\n",
      "Processing folder: CEMARGOS | Found CSVs: ['CEMARGOS_20250311_074350.csv', 'CEMARGOS_20250311_074403.csv', 'CEMARGOS_20250311_074413.csv', 'CEMARGOS_20250311_074421.csv', 'CEMARGOS_20250311_074430.csv', 'CEMARGOS_20250311_074437.csv', 'CEMARGOS_20250311_074451.csv', 'CEMARGOS_20250311_074459.csv', 'CEMARGOS_20250311_074509.csv', 'CEMARGOS_20250311_074531.csv', 'CEMARGOS_20250317_102515.csv', 'CEMARGOS_20250414_042846.csv', 'CEMARGOS_20250421_041144.csv', 'CEMARGOS_20250507_102128.csv', 'CEMARGOS_20250518_093655.csv', 'CEMARGOS_20250616_115633.csv', 'CEMARGOS_20250819_111403.csv', 'CEMARGOS_20250926_104017.csv']\n",
      "Processing folder: CNEC | Found CSVs: ['CNEC_20250311_085409.csv', 'CNEC_20250311_085415.csv', 'CNEC_20250311_085422.csv', 'CNEC_20250311_085428.csv', 'CNEC_20250311_085433.csv', 'CNEC_20250311_085442.csv', 'CNEC_20250311_085453.csv', 'CNEC_20250311_085507.csv', 'CNEC_20250311_085547.csv', 'CNEC_20250311_085553.csv', 'CNEC_20250317_102627.csv', 'CNEC_20250414_043021.csv', 'CNEC_20250421_041815.csv', 'CNEC_20250507_102041.csv', 'CNEC_20250518_093622.csv', 'CNEC_20250616_115514.csv', 'CNEC_20250819_111308.csv', 'CNEC_20250926_104148.csv']\n",
      "Processing folder: CONCONCRETO | Found CSVs: ['CONCONCRET_20250311_091014.csv', 'CONCONCRET_20250311_091023.csv', 'CONCONCRET_20250311_091115.csv', 'CONCONCRET_20250311_091121.csv', 'CONCONCRET_20250311_091126.csv', 'CONCONCRET_20250311_091131.csv', 'CONCONCRET_20250311_091140.csv', 'CONCONCRET_20250311_091146.csv', 'CONCONCRET_20250311_091153.csv', 'CONCONCRET_20250311_091159.csv', 'CONCONCRET_20250317_102746.csv', 'CONCONCRET_20250414_043209.csv', 'CONCONCRET_20250421_041915.csv', 'CONCONCRET_20250507_101943.csv', 'CONCONCRET_20250518_093538.csv', 'CONCONCRET_20250616_115424.csv', 'CONCONCRET_20250819_111240.csv', 'CONCONCRET_20250926_104238.csv']\n",
      "Processing folder: CORFICOL | Found CSVs: ['CORFICOLCF_20250311_092126.csv', 'CORFICOLCF_20250311_092133.csv', 'CORFICOLCF_20250311_092143.csv', 'CORFICOLCF_20250311_092149.csv', 'CORFICOLCF_20250311_092155.csv', 'CORFICOLCF_20250311_092204.csv', 'CORFICOLCF_20250311_092215.csv', 'CORFICOLCF_20250311_092222.csv', 'CORFICOLCF_20250311_092227.csv', 'CORFICOLCF_20250311_092233.csv', 'CORFICOLCF_20250317_103255.csv', 'CORFICOLCF_20250414_043753.csv', 'CORFICOLCF_20250421_041948.csv', 'CORFICOLCF_20250507_101854.csv', 'CORFICOLCF_20250518_093506.csv', 'CORFICOLCF_20250616_115350.csv', 'CORFICOLCF_20250819_111206.csv', 'CORFICOLCF_20250926_104505.csv']\n",
      "Processing folder: ECOPETROL | Found CSVs: ['ECOPETROL_20250306_093927.csv', 'ECOPETROL_20250306_093935.csv', 'ECOPETROL_20250306_093942.csv', 'ECOPETROL_20250306_093949.csv', 'ECOPETROL_20250306_093954.csv', 'ECOPETROL_20250306_094001.csv', 'ECOPETROL_20250306_094008.csv', 'ECOPETROL_20250306_094014.csv', 'ECOPETROL_20250306_094020.csv', 'ECOPETROL_20250306_094027.csv', 'ECOPETROL_20250316_114518.csv', 'ECOPETROL_20250414_044558.csv', 'ECOPETROL_20250421_042042.csv', 'ECOPETROL_20250507_101752.csv', 'ECOPETROL_20250518_093427.csv', 'ECOPETROL_20250616_115310.csv', 'ECOPETROL_20250819_111127.csv', 'ECOPETROL_20250926_104548.csv']\n",
      "Processing folder: ENKA | Found CSVs: ['ENKA_20250311_092529.csv', 'ENKA_20250311_092535.csv', 'ENKA_20250311_092541.csv', 'ENKA_20250311_092547.csv', 'ENKA_20250311_092553.csv', 'ENKA_20250311_092559.csv', 'ENKA_20250311_092610.csv', 'ENKA_20250311_092616.csv', 'ENKA_20250311_092622.csv', 'ENKA_20250311_092628.csv', 'ENKA_20250317_103623.csv', 'ENKA_20250414_045538.csv', 'ENKA_20250421_042154.csv', 'ENKA_20250507_101537.csv', 'ENKA_20250518_094136.csv', 'ENKA_20250616_115229.csv', 'ENKA_20250819_111058.csv', 'ENKA_20250926_104634.csv']\n",
      "Processing folder: ETB | Found CSVs: ['ETB_20250311_093156.csv', 'ETB_20250311_093202.csv', 'ETB_20250311_093209.csv', 'ETB_20250311_093215.csv', 'ETB_20250311_093220.csv', 'ETB_20250311_093225.csv', 'ETB_20250311_093240.csv', 'ETB_20250311_093245.csv', 'ETB_20250311_093251.csv', 'ETB_20250311_093258.csv', 'ETB_20250317_103815.csv', 'ETB_20250414_045640.csv', 'ETB_20250421_042707.csv', 'ETB_20250507_101127.csv', 'ETB_20250518_093345.csv', 'ETB_20250616_115200.csv', 'ETB_20250819_110958.csv', 'ETB_20250926_104724.csv']\n",
      "Processing folder: EXITO | Found CSVs: ['EXITO_20250311_093503.csv', 'EXITO_20250311_093509.csv', 'EXITO_20250311_093516.csv', 'EXITO_20250311_093521.csv', 'EXITO_20250311_093526.csv', 'EXITO_20250311_093532.csv', 'EXITO_20250311_093540.csv', 'EXITO_20250311_093546.csv', 'EXITO_20250311_093551.csv', 'EXITO_20250311_093557.csv', 'EXITO_20250317_103917.csv', 'EXITO_20250414_045724.csv', 'EXITO_20250421_042815.csv', 'EXITO_20250507_101048.csv', 'EXITO_20250518_093235.csv', 'EXITO_20250616_115115.csv', 'EXITO_20250819_110914.csv', 'EXITO_20250926_104813.csv']\n",
      "Processing folder: FABRICATO | Found CSVs: ['FABRICATO_20250311_093702.csv', 'FABRICATO_20250311_093708.csv', 'FABRICATO_20250311_093722.csv', 'FABRICATO_20250311_093727.csv', 'FABRICATO_20250311_093733.csv', 'FABRICATO_20250311_093738.csv', 'FABRICATO_20250311_093748.csv', 'FABRICATO_20250311_093753.csv', 'FABRICATO_20250311_093806.csv', 'FABRICATO_20250311_093814.csv', 'FABRICATO_20250819_110837.csv', 'FABRICATO_20250926_104926.csv']\n",
      "Processing folder: GEB | Found CSVs: ['GEB_20250311_094138.csv', 'GEB_20250311_094144.csv', 'GEB_20250311_094151.csv', 'GEB_20250311_094156.csv', 'GEB_20250311_094202.csv', 'GEB_20250311_094208.csv', 'GEB_20250311_094217.csv', 'GEB_20250311_094224.csv', 'GEB_20250311_094231.csv', 'GEB_20250311_094238.csv', 'GEB_20250317_104059.csv', 'GEB_20250414_045804.csv', 'GEB_20250421_042847.csv', 'GEB_20250507_100831.csv', 'GEB_20250518_093129.csv', 'GEB_20250616_115041.csv', 'GEB_20250819_110801.csv', 'GEB_20250926_105006.csv']\n",
      "Processing folder: GRUBOLIVAR | Found CSVs: ['GRUBOLIVAR_20250311_094414.csv', 'GRUBOLIVAR_20250311_094422.csv', 'GRUBOLIVAR_20250311_094428.csv', 'GRUBOLIVAR_20250311_094433.csv', 'GRUBOLIVAR_20250311_094438.csv', 'GRUBOLIVAR_20250311_094443.csv', 'GRUBOLIVAR_20250311_094453.csv', 'GRUBOLIVAR_20250311_094505.csv', 'GRUBOLIVAR_20250311_094511.csv', 'GRUBOLIVAR_20250311_094518.csv', 'GRUBOLIVAR_20250311_094524.csv', 'GRUBOLIVAR_20250317_104155.csv', 'GRUBOLIVAR_20250414_045923.csv', 'GRUBOLIVAR_20250421_042922.csv', 'GRUBOLIVAR_20250507_100735.csv', 'GRUBOLIVAR_20250518_092914.csv', 'GRUBOLIVAR_20250616_114750.csv', 'GRUBOLIVAR_20250819_110642.csv', 'GRUBOLIVAR_20250926_105037.csv']\n",
      "Processing folder: GRUPOARGOS | Found CSVs: ['GRUPOARGOS_20250311_094711.csv', 'GRUPOARGOS_20250311_094717.csv', 'GRUPOARGOS_20250311_094723.csv', 'GRUPOARGOS_20250311_094728.csv', 'GRUPOARGOS_20250311_094735.csv', 'GRUPOARGOS_20250311_094740.csv', 'GRUPOARGOS_20250311_094749.csv', 'GRUPOARGOS_20250311_094755.csv', 'GRUPOARGOS_20250311_094802.csv', 'GRUPOARGOS_20250311_094808.csv', 'GRUPOARGOS_20250317_104253.csv', 'GRUPOARGOS_20250414_050023.csv', 'GRUPOARGOS_20250421_043025.csv', 'GRUPOARGOS_20250507_102831.csv', 'GRUPOARGOS_20250518_092842.csv', 'GRUPOARGOS_20250616_114045.csv', 'GRUPOARGOS_20250819_110536.csv', 'GRUPOARGOS_20250926_105136.csv']\n",
      "Processing folder: GRUPOAVAL | Found CSVs: ['GRUPOAVAL_20250313_093631.csv', 'GRUPOAVAL_20250313_093637.csv', 'GRUPOAVAL_20250313_093643.csv', 'GRUPOAVAL_20250313_093648.csv', 'GRUPOAVAL_20250313_093654.csv', 'GRUPOAVAL_20250313_093659.csv', 'GRUPOAVAL_20250313_093707.csv', 'GRUPOAVAL_20250313_093712.csv', 'GRUPOAVAL_20250313_093717.csv', 'GRUPOAVAL_20250313_093722.csv', 'GRUPOAVAL_20250316_115008.csv', 'GRUPOAVAL_20250414_050115.csv', 'GRUPOAVAL_20250421_043112.csv', 'GRUPOAVAL_20250507_100638.csv', 'GRUPOAVAL_20250518_092814.csv', 'GRUPOAVAL_20250616_114009.csv', 'GRUPOAVAL_20250819_110328.csv', 'GRUPOAVAL_20250926_105205.csv']\n",
      "Processing folder: GRUPOSURA | Found CSVs: ['GRUPOSURA_20250311_114126.csv', 'GRUPOSURA_20250311_114157.csv', 'GRUPOSURA_20250311_114204.csv', 'GRUPOSURA_20250311_114211.csv', 'GRUPOSURA_20250311_114217.csv', 'GRUPOSURA_20250311_114222.csv', 'GRUPOSURA_20250311_114233.csv', 'GRUPOSURA_20250311_114239.csv', 'GRUPOSURA_20250311_114246.csv', 'GRUPOSURA_20250311_114304.csv', 'GRUPOSURA_20250316_114839.csv', 'GRUPOSURA_20250414_050154.csv', 'GRUPOSURA_20250421_043154.csv', 'GRUPOSURA_20250507_100607.csv', 'GRUPOSURA_20250518_092729.csv', 'GRUPOSURA_20250616_113927.csv', 'GRUPOSURA_20250819_105740.csv', 'GRUPOSURA_20250926_105236.csv']\n",
      "Processing folder: GXTESCOL | Found CSVs: ['GXTESCOL_20250312_083936.csv', 'GXTESCOL_20250312_083943.csv', 'GXTESCOL_20250317_104623.csv', 'GXTESCOL_20250414_050252.csv', 'GXTESCOL_20250421_043228.csv', 'GXTESCOL_20250507_100415.csv', 'GXTESCOL_20250518_092646.csv', 'GXTESCOL_20250616_113854.csv', 'GXTESCOL_20250819_105517.csv', 'GXTESCOL_20250926_105314.csv']\n",
      "Processing folder: HCOLSEL | Found CSVs: ['HCOLSEL_20250312_084448.csv', 'HCOLSEL_20250312_084539.csv', 'HCOLSEL_20250312_084547.csv', 'HCOLSEL_20250312_084552.csv', 'HCOLSEL_20250312_084559.csv', 'HCOLSEL_20250312_084605.csv', 'HCOLSEL_20250312_084617.csv', 'HCOLSEL_20250312_084624.csv', 'HCOLSEL_20250312_084629.csv', 'HCOLSEL_20250312_084636.csv', 'HCOLSEL_20250317_104734.csv', 'HCOLSEL_20250414_050346.csv', 'HCOLSEL_20250421_043343.csv', 'HCOLSEL_20250507_100227.csv', 'HCOLSEL_20250518_092621.csv', 'HCOLSEL_20250616_113816.csv', 'HCOLSEL_20250819_105430.csv', 'HCOLSEL_20250926_105349.csv']\n",
      "Processing folder: ICOLCAP | Found CSVs: ['ICOLCAP_20250414_063934.csv', 'ICOLCAP_20250414_063941.csv', 'ICOLCAP_20250414_063948.csv', 'ICOLCAP_20250414_063954.csv', 'ICOLCAP_20250414_064001.csv', 'ICOLCAP_20250414_064007.csv', 'ICOLCAP_20250414_064013.csv', 'ICOLCAP_20250414_064019.csv', 'ICOLCAP_20250414_064026.csv', 'ICOLCAP_20250414_064032.csv', 'ICOLCAP_20250421_043416.csv', 'ICOLCAP_20250507_100038.csv', 'ICOLCAP_20250518_092550.csv', 'ICOLCAP_20250616_113729.csv', 'ICOLCAP_20250819_105341.csv', 'ICOLCAP_20250926_105427.csv']\n",
      "Processing folder: ISA | Found CSVs: ['ISA_20250312_084857.csv', 'ISA_20250312_084907.csv', 'ISA_20250312_084916.csv', 'ISA_20250312_085007.csv', 'ISA_20250312_085013.csv', 'ISA_20250312_085033.csv', 'ISA_20250312_085110.csv', 'ISA_20250312_085121.csv', 'ISA_20250312_085129.csv', 'ISA_20250312_085135.csv', 'ISA_20250317_104913.csv', 'ISA_20250414_050433.csv', 'ISA_20250421_043922.csv', 'ISA_20250507_095954.csv', 'ISA_20250518_092413.csv', 'ISA_20250616_113557.csv', 'ISA_20250819_105243.csv', 'ISA_20250926_105511.csv']\n",
      "Processing folder: MINEROS | Found CSVs: ['MINEROS_20250312_090150.csv', 'MINEROS_20250312_090159.csv', 'MINEROS_20250312_090205.csv', 'MINEROS_20250312_090212.csv', 'MINEROS_20250312_090218.csv', 'MINEROS_20250312_090226.csv', 'MINEROS_20250312_090237.csv', 'MINEROS_20250312_090242.csv', 'MINEROS_20250312_090248.csv', 'MINEROS_20250312_090255.csv', 'MINEROS_20250317_110118.csv', 'MINEROS_20250414_050601.csv', 'MINEROS_20250421_044035.csv', 'MINEROS_20250507_095916.csv', 'MINEROS_20250518_092341.csv', 'MINEROS_20250819_105138.csv', 'MINEROS_20250926_105606.csv']\n",
      "Processing folder: MSCI_COLCAP | Found CSVs: ['MSCI COLCAP_20250313 (1).csv', 'MSCI COLCAP_20250313 (2).csv', 'MSCI COLCAP_20250313 (3).csv', 'MSCI COLCAP_20250313 (4).csv', 'MSCI COLCAP_20250313 (5).csv', 'MSCI COLCAP_20250313 (6).csv', 'MSCI COLCAP_20250313 (7).csv', 'MSCI COLCAP_20250313 (8).csv', 'MSCI COLCAP_20250313 (9).csv', 'MSCI COLCAP_20250313.csv', 'MSCI COLCAP_20250317.csv', 'MSCI COLCAP_20250414.csv', 'MSCI COLCAP_20250421.csv', 'MSCI COLCAP_20250507.csv', 'MSCI COLCAP_20250518.csv', 'MSCI COLCAP_20250617.csv', 'MSCI COLCAP_20250819.csv']\n",
      "Processing folder: NUTRESA | Found CSVs: ['NUTRESA_20250312_090448.csv', 'NUTRESA_20250312_090456.csv', 'NUTRESA_20250312_090502.csv', 'NUTRESA_20250312_090507.csv', 'NUTRESA_20250312_090514.csv', 'NUTRESA_20250312_090520.csv', 'NUTRESA_20250312_090531.csv', 'NUTRESA_20250312_090537.csv', 'NUTRESA_20250312_090544.csv', 'NUTRESA_20250312_090550.csv', 'NUTRESA_20250317_110229.csv', 'NUTRESA_20250414_050816.csv', 'NUTRESA_20250421_050138.csv', 'NUTRESA_20250507_095734.csv', 'NUTRESA_20250518_092303.csv', 'NUTRESA_20250616_113500.csv', 'NUTRESA_20250819_104049.csv', 'NUTRESA_20250926_105642.csv']\n",
      "Processing folder: PEI | Found CSVs: ['PEI_20250312_090942.csv', 'PEI_20250312_090951.csv', 'PEI_20250312_090957.csv', 'PEI_20250312_091002.csv', 'PEI_20250312_091007.csv', 'PEI_20250312_091013.csv', 'PEI_20250317_110423.csv', 'PEI_20250414_050857.csv', 'PEI_20250421_050303.csv', 'PEI_20250507_092614.csv', 'PEI_20250518_092213.csv', 'PEI_20250616_113403.csv', 'PEI_20250819_103848.csv', 'PEI_20250926_105725.csv']\n",
      "Processing folder: PFAVAL | Found CSVs: ['PFAVAL_20250301_112045.csv', 'PFAVAL_20250301_112120.csv', 'PFAVAL_20250301_112133.csv', 'PFAVAL_20250301_112147.csv', 'PFAVAL_20250301_112204.csv', 'PFAVAL_20250301_112216.csv', 'PFAVAL_20250301_112229.csv', 'PFAVAL_20250301_112242.csv', 'PFAVAL_20250301_112253.csv', 'PFAVAL_20250301_112302.csv', 'PFAVAL_20250316_114225.csv', 'PFAVAL_20250414_051016.csv', 'PFAVAL_20250421_050341.csv', 'PFAVAL_20250507_103231.csv', 'PFAVAL_20250518_092139.csv', 'PFAVAL_20250616_113332.csv', 'PFAVAL_20250819_103818.csv', 'PFAVAL_20250926_110518.csv']\n",
      "Processing folder: PFBCOLOMBIA | Found CSVs: ['PFBCOLOM_20250306_094402.csv', 'PFBCOLOM_20250306_094410.csv', 'PFBCOLOM_20250306_094416.csv', 'PFBCOLOM_20250306_094421.csv', 'PFBCOLOM_20250306_094427.csv', 'PFBCOLOM_20250306_094432.csv', 'PFBCOLOM_20250306_094448.csv', 'PFBCOLOM_20250306_094454.csv', 'PFBCOLOM_20250306_094502.csv', 'PFBCOLOM_20250306_094508.csv', 'PFBCOLOM_20250316_114613.csv', 'PFBCOLOM_20250414_051053.csv', 'PFBCOLOM_20250421_050441.csv', 'PFBCOLOM_20250507_092430.csv', 'PFBCOLOM_20250518_092110.csv', 'PFCIBEST_20250616_113218.csv', 'PFCIBEST_20250819_103244.csv', 'PFCIBEST_20250926_110643.csv']\n",
      "Processing folder: PFCEMARGOS | Found CSVs: ['PFCEMARGOS_20250312_091220.csv', 'PFCEMARGOS_20250312_091226.csv', 'PFCEMARGOS_20250312_091232.csv', 'PFCEMARGOS_20250312_091238.csv', 'PFCEMARGOS_20250312_091244.csv', 'PFCEMARGOS_20250312_091249.csv', 'PFCEMARGOS_20250312_091257.csv', 'PFCEMARGOS_20250312_091303.csv', 'PFCEMARGOS_20250312_091310.csv', 'PFCEMARGOS_20250312_091316.csv', 'PFCEMARGOS_20250317_110918.csv', 'PFCEMARGOS_20250414_051138.csv', 'PFCEMARGOS_20250421_050609.csv', 'PFCEMARGOS_20250507_092347.csv', 'PFCEMARGOS_20250518_092037.csv', 'PFCEMARGOS_20250616_113300.csv', 'PFCEMARGOS_20250819_103714.csv', 'PFCEMARGOS_20250926_110602.csv']\n",
      "Processing folder: PFCORFICOL | Found CSVs: ['PFCORFICOL_20250312_091519.csv', 'PFCORFICOL_20250312_091526.csv', 'PFCORFICOL_20250312_091532.csv', 'PFCORFICOL_20250312_091537.csv', 'PFCORFICOL_20250312_091542.csv', 'PFCORFICOL_20250312_091547.csv', 'PFCORFICOL_20250312_091557.csv', 'PFCORFICOL_20250312_091602.csv', 'PFCORFICOL_20250312_091607.csv', 'PFCORFICOL_20250312_091612.csv', 'PFCORFICOL_20250317_111031.csv', 'PFCORFICOL_20250414_051348.csv', 'PFCORFICOL_20250421_050652.csv', 'PFCORFICOL_20250507_092224.csv', 'PFCORFICOL_20250518_091941.csv', 'PFCORFICOL_20250616_104339.csv', 'PFCORFICOL_20250819_103208.csv', 'PFCORFICOL_20250926_110722.csv']\n",
      "Processing folder: PFDAVVNDA | Found CSVs: ['PFDAVVNDA_20250306_090727.csv', 'PFDAVVNDA_20250306_090830.csv', 'PFDAVVNDA_20250306_090842.csv', 'PFDAVVNDA_20250306_090857.csv', 'PFDAVVNDA_20250306_090921.csv', 'PFDAVVNDA_20250306_090932.csv', 'PFDAVVNDA_20250306_090944.csv', 'PFDAVVNDA_20250306_090955.csv', 'PFDAVVNDA_20250306_091006.csv', 'PFDAVVNDA_20250306_091015.csv', 'PFDAVVNDA_20250316_114413.csv', 'PFDAVVNDA_20250414_051445.csv', 'PFDAVVNDA_20250421_045920.csv', 'PFDAVVNDA_20250507_092142.csv', 'PFDAVVNDA_20250518_091914.csv', 'PFDAVVNDA_20250616_104239.csv', 'PFDAVVNDA_20250819_103058.csv', 'PFDAVVNDA_20250926_110801.csv']\n",
      "Processing folder: PFGRUPARG | Found CSVs: ['PFGRUPOARG_20250312_092314.csv', 'PFGRUPOARG_20250312_092319.csv', 'PFGRUPOARG_20250312_092325.csv', 'PFGRUPOARG_20250312_092330.csv', 'PFGRUPOARG_20250312_092335.csv', 'PFGRUPOARG_20250312_092341.csv', 'PFGRUPOARG_20250312_092352.csv', 'PFGRUPOARG_20250312_092405.csv', 'PFGRUPOARG_20250312_092410.csv', 'PFGRUPOARG_20250312_092415.csv', 'PFGRUPOARG_20250317_111202.csv', 'PFGRUPOARG_20250414_051617.csv', 'PFGRUPOARG_20250421_050827.csv', 'PFGRUPOARG_20250507_085923.csv', 'PFGRUPOARG_20250518_091843.csv', 'PFGRUPOARG_20250616_104153.csv', 'PFGRUPOARG_20250819_102935.csv', 'PFGRUPOARG_20250926_110831.csv']\n",
      "Processing folder: PFGRUPOSURA | Found CSVs: ['PFGRUPSURA_20250306_095740.csv', 'PFGRUPSURA_20250306_095746.csv', 'PFGRUPSURA_20250306_095805.csv', 'PFGRUPSURA_20250306_095810.csv', 'PFGRUPSURA_20250306_095816.csv', 'PFGRUPSURA_20250306_095822.csv', 'PFGRUPSURA_20250306_095828.csv', 'PFGRUPSURA_20250306_095833.csv', 'PFGRUPSURA_20250306_095839.csv', 'PFGRUPSURA_20250306_095844.csv', 'PFGRUPSURA_20250317_104514.csv', 'PFGRUPSURA_20250414_051657.csv', 'PFGRUPSURA_20250421_050908.csv', 'PFGRUPSURA_20250507_085827.csv', 'PFGRUPSURA_20250518_091627.csv', 'PFGRUPSURA_20250616_103748.csv', 'PFGRUPSURA_20250819_102827.csv', 'PFGRUPSURA_20250926_110915.csv']\n",
      "Processing folder: PROMIGAS | Found CSVs: ['PROMIGAS_20250312_092601.csv', 'PROMIGAS_20250312_092606.csv', 'PROMIGAS_20250312_092612.csv', 'PROMIGAS_20250312_092619.csv', 'PROMIGAS_20250312_092624.csv', 'PROMIGAS_20250312_092630.csv', 'PROMIGAS_20250312_092639.csv', 'PROMIGAS_20250312_092644.csv', 'PROMIGAS_20250312_092649.csv', 'PROMIGAS_20250312_092654.csv', 'PROMIGAS_20250317_111350.csv', 'PROMIGAS_20250414_051741.csv', 'PROMIGAS_20250421_051102.csv', 'PROMIGAS_20250507_085739.csv', 'PROMIGAS_20250518_091450.csv', 'PROMIGAS_20250616_103427.csv', 'PROMIGAS_20250819_102726.csv', 'PROMIGAS_20250926_111018.csv']\n",
      "Processing folder: TERPEL | Found CSVs: ['TERPEL_20250312_092755.csv', 'TERPEL_20250312_092801.csv', 'TERPEL_20250312_092806.csv', 'TERPEL_20250312_092812.csv', 'TERPEL_20250312_092816.csv', 'TERPEL_20250312_092821.csv', 'TERPEL_20250312_092836.csv', 'TERPEL_20250312_092904.csv', 'TERPEL_20250312_092917.csv', 'TERPEL_20250312_092923.csv', 'TERPEL_20250414_051846.csv', 'TERPEL_20250421_051135.csv', 'TERPEL_20250507_085533.csv', 'TERPEL_20250518_091408.csv', 'TERPEL_20250616_103123.csv', 'TERPEL_20250819_102610.csv', 'TERPEL_20250926_111047.csv']\n"
     ]
    },
    {
     "data": {
      "text/html": [
       "<div>\n",
       "<style scoped>\n",
       "    .dataframe tbody tr th:only-of-type {\n",
       "        vertical-align: middle;\n",
       "    }\n",
       "\n",
       "    .dataframe tbody tr th {\n",
       "        vertical-align: top;\n",
       "    }\n",
       "\n",
       "    .dataframe thead th {\n",
       "        text-align: right;\n",
       "    }\n",
       "</style>\n",
       "<table border=\"1\" class=\"dataframe\">\n",
       "  <thead>\n",
       "    <tr style=\"text-align: right;\">\n",
       "      <th></th>\n",
       "      <th>Fecha</th>\n",
       "      <th>Nemotécnico</th>\n",
       "      <th>Precio cierre</th>\n",
       "      <th>Precio máximo</th>\n",
       "      <th>Precio promedio ponderado</th>\n",
       "      <th>Precio mínimo</th>\n",
       "      <th>Variación absoluta</th>\n",
       "      <th>Variación porcentual</th>\n",
       "      <th>Cantidad</th>\n",
       "      <th>Volumen</th>\n",
       "    </tr>\n",
       "  </thead>\n",
       "  <tbody>\n",
       "    <tr>\n",
       "      <th>0</th>\n",
       "      <td>2024-09-06</td>\n",
       "      <td>TERPEL</td>\n",
       "      <td>9,400.00</td>\n",
       "      <td>9,500.00</td>\n",
       "      <td>9,400.77</td>\n",
       "      <td>9,340.00</td>\n",
       "      <td>-100.0</td>\n",
       "      <td>-1.05</td>\n",
       "      <td>1,470,713.00</td>\n",
       "      <td>13,825,828,700.00</td>\n",
       "    </tr>\n",
       "    <tr>\n",
       "      <th>1</th>\n",
       "      <td>2024-09-09</td>\n",
       "      <td>TERPEL</td>\n",
       "      <td>9,640.00</td>\n",
       "      <td>9,640.00</td>\n",
       "      <td>9,556.00</td>\n",
       "      <td>9,500.00</td>\n",
       "      <td>240.0</td>\n",
       "      <td>2.55</td>\n",
       "      <td>26,147.00</td>\n",
       "      <td>249,860,710.00</td>\n",
       "    </tr>\n",
       "    <tr>\n",
       "      <th>2</th>\n",
       "      <td>2024-09-10</td>\n",
       "      <td>TERPEL</td>\n",
       "      <td>9,600.00</td>\n",
       "      <td>9,650.00</td>\n",
       "      <td>9,611.51</td>\n",
       "      <td>9,500.00</td>\n",
       "      <td>-40.0</td>\n",
       "      <td>-0.41</td>\n",
       "      <td>22,556.00</td>\n",
       "      <td>216,797,280.00</td>\n",
       "    </tr>\n",
       "    <tr>\n",
       "      <th>3</th>\n",
       "      <td>2024-09-11</td>\n",
       "      <td>TERPEL</td>\n",
       "      <td>9,400.00</td>\n",
       "      <td>9,500.00</td>\n",
       "      <td>9,455.91</td>\n",
       "      <td>9,400.00</td>\n",
       "      <td>-200.0</td>\n",
       "      <td>-2.08</td>\n",
       "      <td>38,380.00</td>\n",
       "      <td>362,917,900.00</td>\n",
       "    </tr>\n",
       "    <tr>\n",
       "      <th>4</th>\n",
       "      <td>2024-09-12</td>\n",
       "      <td>TERPEL</td>\n",
       "      <td>9,580.00</td>\n",
       "      <td>9,580.00</td>\n",
       "      <td>9,455.58</td>\n",
       "      <td>9,400.00</td>\n",
       "      <td>180.0</td>\n",
       "      <td>1.91</td>\n",
       "      <td>15,069.00</td>\n",
       "      <td>142,486,210.00</td>\n",
       "    </tr>\n",
       "    <tr>\n",
       "      <th>...</th>\n",
       "      <td>...</td>\n",
       "      <td>...</td>\n",
       "      <td>...</td>\n",
       "      <td>...</td>\n",
       "      <td>...</td>\n",
       "      <td>...</td>\n",
       "      <td>...</td>\n",
       "      <td>...</td>\n",
       "      <td>...</td>\n",
       "      <td>...</td>\n",
       "    </tr>\n",
       "    <tr>\n",
       "      <th>1349</th>\n",
       "      <td>2025-09-22</td>\n",
       "      <td>TERPEL</td>\n",
       "      <td>16,000.00</td>\n",
       "      <td>16,000.00</td>\n",
       "      <td>15,956.91</td>\n",
       "      <td>15,620.00</td>\n",
       "      <td>-800.0</td>\n",
       "      <td>-4.76</td>\n",
       "      <td>24,700.00</td>\n",
       "      <td>394,135,640.00</td>\n",
       "    </tr>\n",
       "    <tr>\n",
       "      <th>1350</th>\n",
       "      <td>2025-09-23</td>\n",
       "      <td>TERPEL</td>\n",
       "      <td>16,100.00</td>\n",
       "      <td>16,100.00</td>\n",
       "      <td>15,973.29</td>\n",
       "      <td>15,760.00</td>\n",
       "      <td>100.0</td>\n",
       "      <td>0.63</td>\n",
       "      <td>27,441.00</td>\n",
       "      <td>438,323,000.00</td>\n",
       "    </tr>\n",
       "    <tr>\n",
       "      <th>1351</th>\n",
       "      <td>2025-09-24</td>\n",
       "      <td>TERPEL</td>\n",
       "      <td>15,980.00</td>\n",
       "      <td>16,000.00</td>\n",
       "      <td>15,961.19</td>\n",
       "      <td>15,900.00</td>\n",
       "      <td>-120.0</td>\n",
       "      <td>-0.75</td>\n",
       "      <td>12,351.00</td>\n",
       "      <td>197,136,600.00</td>\n",
       "    </tr>\n",
       "    <tr>\n",
       "      <th>1352</th>\n",
       "      <td>2025-09-25</td>\n",
       "      <td>TERPEL</td>\n",
       "      <td>15,800.00</td>\n",
       "      <td>15,980.00</td>\n",
       "      <td>15,723.66</td>\n",
       "      <td>15,140.00</td>\n",
       "      <td>-180.0</td>\n",
       "      <td>-1.13</td>\n",
       "      <td>11,964.00</td>\n",
       "      <td>188,117,920.00</td>\n",
       "    </tr>\n",
       "    <tr>\n",
       "      <th>1353</th>\n",
       "      <td>2025-09-26</td>\n",
       "      <td>TERPEL</td>\n",
       "      <td>15,740.00</td>\n",
       "      <td>16,000.00</td>\n",
       "      <td>15,694.61</td>\n",
       "      <td>15,360.00</td>\n",
       "      <td>-60.0</td>\n",
       "      <td>-0.38</td>\n",
       "      <td>13,689.00</td>\n",
       "      <td>214,843,580.00</td>\n",
       "    </tr>\n",
       "  </tbody>\n",
       "</table>\n",
       "<p>1354 rows × 10 columns</p>\n",
       "</div>"
      ],
      "text/plain": [
       "           Fecha Nemotécnico Precio cierre Precio máximo  \\\n",
       "0     2024-09-06      TERPEL      9,400.00      9,500.00   \n",
       "1     2024-09-09      TERPEL      9,640.00      9,640.00   \n",
       "2     2024-09-10      TERPEL      9,600.00      9,650.00   \n",
       "3     2024-09-11      TERPEL      9,400.00      9,500.00   \n",
       "4     2024-09-12      TERPEL      9,580.00      9,580.00   \n",
       "...          ...         ...           ...           ...   \n",
       "1349  2025-09-22      TERPEL     16,000.00     16,000.00   \n",
       "1350  2025-09-23      TERPEL     16,100.00     16,100.00   \n",
       "1351  2025-09-24      TERPEL     15,980.00     16,000.00   \n",
       "1352  2025-09-25      TERPEL     15,800.00     15,980.00   \n",
       "1353  2025-09-26      TERPEL     15,740.00     16,000.00   \n",
       "\n",
       "     Precio promedio ponderado Precio mínimo Variación absoluta  \\\n",
       "0                     9,400.77      9,340.00             -100.0   \n",
       "1                     9,556.00      9,500.00              240.0   \n",
       "2                     9,611.51      9,500.00              -40.0   \n",
       "3                     9,455.91      9,400.00             -200.0   \n",
       "4                     9,455.58      9,400.00              180.0   \n",
       "...                        ...           ...                ...   \n",
       "1349                 15,956.91     15,620.00             -800.0   \n",
       "1350                 15,973.29     15,760.00              100.0   \n",
       "1351                 15,961.19     15,900.00             -120.0   \n",
       "1352                 15,723.66     15,140.00             -180.0   \n",
       "1353                 15,694.61     15,360.00              -60.0   \n",
       "\n",
       "      Variación porcentual      Cantidad            Volumen  \n",
       "0                    -1.05  1,470,713.00  13,825,828,700.00  \n",
       "1                     2.55     26,147.00     249,860,710.00  \n",
       "2                    -0.41     22,556.00     216,797,280.00  \n",
       "3                    -2.08     38,380.00     362,917,900.00  \n",
       "4                     1.91     15,069.00     142,486,210.00  \n",
       "...                    ...           ...                ...  \n",
       "1349                 -4.76     24,700.00     394,135,640.00  \n",
       "1350                  0.63     27,441.00     438,323,000.00  \n",
       "1351                 -0.75     12,351.00     197,136,600.00  \n",
       "1352                 -1.13     11,964.00     188,117,920.00  \n",
       "1353                 -0.38     13,689.00     214,843,580.00  \n",
       "\n",
       "[1354 rows x 10 columns]"
      ]
     },
     "execution_count": 3,
     "metadata": {},
     "output_type": "execute_result"
    }
   ],
   "source": [
    "df_list = []\n",
    "\n",
    "for folder in folders:\n",
    "    os.chdir(folder)  \n",
    "    all_files = glob.glob(\"*.csv\")\n",
    "\n",
    "    print(f\"Processing folder: {folder} | Found CSVs: {all_files}\")  # Debugging step\n",
    "\n",
    "    if not all_files:  # If no CSVs found, skip folder\n",
    "        print(f\"No CSV files found in {folder}, skipping...\")\n",
    "        os.chdir(\"..\")\n",
    "        continue\n",
    "\n",
    "    df_folder = pd.concat([pd.read_csv(f, sep=\";\", on_bad_lines='skip') for f in all_files], ignore_index=True)\n",
    "    \n",
    "    os.chdir(\"..\")\n",
    "    \n",
    "df_folder"
   ]
  },
  {
   "cell_type": "markdown",
   "metadata": {},
   "source": [
    "### MAIN PART OF THE CODE\n",
    "#### Identify, read, concatenate the csv files and make setups"
   ]
  },
  {
   "cell_type": "code",
   "execution_count": 4,
   "metadata": {},
   "outputs": [],
   "source": [
    "# List to store concatenated DataFrames for each folder\n",
    "#NEW PART\n",
    "#-------------------------------\n",
    "name_map = {\n",
    "    \"BCOLOMBIA\": \"CIBEST\",\n",
    "    \"PFBCOLOMB\": \"PFCIBEST\"\n",
    "}\n",
    "#-------------------------------\n",
    "\n",
    "df_list = []\n",
    "\n",
    "for folder in folders:\n",
    "    os.chdir(folder)  # Change to the folder\n",
    "    extension = 'csv'\n",
    "    \n",
    "    # Identify all CSV files in the folder\n",
    "    all_files = [i for i in glob.glob(f'*.{extension}')]\n",
    "\n",
    "    # Read and concatenate all CSVs in the current folder\n",
    "    # ORIGINAL --> df_folder = pd.concat([pd.read_csv(f,sep=\";\") for f in all_files], ignore_index=True)\n",
    "    df_folder = pd.concat([pd.read_csv(f, sep=\";\", on_bad_lines='skip') for f in all_files], ignore_index=True)\n",
    "\n",
    "    # Ensure 'Fecha' column is in datetime format\n",
    "    df_folder['Fecha'] = pd.to_datetime(df_folder['Fecha'], errors='coerce')\n",
    "\n",
    "    # NEW PART\n",
    "    #--------------------\n",
    "     # Replace old ticker names with new ones inside the 'Nemotécnico' column\n",
    "    if 'Nemotécnico' in df_folder.columns:\n",
    "        df_folder['Nemotécnico'] = df_folder['Nemotécnico'].replace(name_map)\n",
    "    #--------------------\n",
    "    \n",
    "    # Rename columns by adding folder name as a prefix (except 'Date')\n",
    "    # ORIGINAL --> df_folder = df_folder.rename(columns={col: f\"{folder}_{col}\" for col in df_folder.columns if col != \"Fecha\"})\n",
    "    df_folder = df_folder.rename(columns={col: f\"{folder}_{col}\" if col != \"Fecha\" else col for col in df_folder.columns})\n",
    "\n",
    "    # Append to list\n",
    "    df_list.append(df_folder)\n",
    "    os.chdir(\"..\")"
   ]
  },
  {
   "cell_type": "code",
   "execution_count": 6,
   "metadata": {},
   "outputs": [],
   "source": [
    "# # Ensure df_list is not empty before merging\n",
    "# if not df_list:\n",
    "#     raise ValueError(\"No data was loaded. Check if CSV files exist and contain valid data.\")\n",
    "\n",
    "# # Merge all DataFrames on 'Date', keeping all available dates\n",
    "# df_final = df_list[0]  # Start with the first DataFrame\n",
    "\n",
    "# for df in df_list[1:]:\n",
    "#     df_final = pd.merge(df_final, df, on=\"Fecha\", how=\"outer\", suffixes=('', '_dup'))\n",
    "\n",
    "# # Drop duplicate columns if merging added them (from stocks with same column names)\n",
    "# df_final = df_final.loc[:, ~df_final.columns.duplicated()]\n",
    "\n",
    "# # Sort by date\n",
    "# df_final = df_final.sort_values(by=\"Fecha\")\n",
    "\n",
    "# # Now df_final is a single DataFrame that you can manipulate with pandas\n",
    "# print(df_final.head())  # Show first few rows\n",
    "\n",
    "# # Save the merged DataFrame\n",
    "# df_final.to_csv(\"Final_Merged_Data2.csv\", index=False, encoding='utf-8-sig')\n",
    "\n",
    "# df_final\n"
   ]
  },
  {
   "cell_type": "code",
   "execution_count": 5,
   "metadata": {},
   "outputs": [
    {
     "name": "stdout",
     "output_type": "stream",
     "text": [
      "c:\\Users\\ACER\\OneDrive\\Documentos\\SEBASTIAN\\OneDrive\\Documentos\\SEBASTIAN\\Documentos\\HV_HTML\\BVC\n"
     ]
    }
   ],
   "source": [
    "# os.chdir(\"..\")\n",
    "print(os.getcwd())"
   ]
  },
  {
   "cell_type": "markdown",
   "metadata": {},
   "source": [
    "#### Merge all the csv in one csv"
   ]
  },
  {
   "cell_type": "code",
   "execution_count": 9,
   "metadata": {},
   "outputs": [
    {
     "name": "stdout",
     "output_type": "stream",
     "text": [
      "       Fecha BBVA_Nemotécnico  BBVA_Precio cierre  BBVA_Precio máximo  \\\n",
      "0 2020-03-02              NaN                 NaN                 NaN   \n",
      "1 2020-03-03              NaN                 NaN                 NaN   \n",
      "2 2020-03-04              NaN                 NaN                 NaN   \n",
      "3 2020-03-05              NaN                 NaN                 NaN   \n",
      "4 2020-03-06              NaN                 NaN                 NaN   \n",
      "\n",
      "   BBVA_Precio promedio ponderado  BBVA_Precio mínimo  \\\n",
      "0                             NaN                 NaN   \n",
      "1                             NaN                 NaN   \n",
      "2                             NaN                 NaN   \n",
      "3                             NaN                 NaN   \n",
      "4                             NaN                 NaN   \n",
      "\n",
      "   BBVA_Variación absoluta  BBVA_Variación porcentual BBVA_Cantidad  \\\n",
      "0                      NaN                        NaN           NaN   \n",
      "1                      NaN                        NaN           NaN   \n",
      "2                      NaN                        NaN           NaN   \n",
      "3                      NaN                        NaN           NaN   \n",
      "4                      NaN                        NaN           NaN   \n",
      "\n",
      "  BBVA_Volumen  ... PROMIGAS_Volumen TERPEL_Nemotécnico TERPEL_Precio cierre  \\\n",
      "0          NaN  ...              NaN                NaN                  NaN   \n",
      "1          NaN  ...              NaN                NaN                  NaN   \n",
      "2          NaN  ...              NaN                NaN                  NaN   \n",
      "3          NaN  ...              NaN                NaN                  NaN   \n",
      "4          NaN  ...              NaN                NaN                  NaN   \n",
      "\n",
      "  TERPEL_Precio máximo TERPEL_Precio promedio ponderado TERPEL_Precio mínimo  \\\n",
      "0                  NaN                              NaN                  NaN   \n",
      "1                  NaN                              NaN                  NaN   \n",
      "2                  NaN                              NaN                  NaN   \n",
      "3                  NaN                              NaN                  NaN   \n",
      "4                  NaN                              NaN                  NaN   \n",
      "\n",
      "   TERPEL_Variación absoluta TERPEL_Variación porcentual TERPEL_Cantidad  \\\n",
      "0                        NaN                         NaN             NaN   \n",
      "1                        NaN                         NaN             NaN   \n",
      "2                        NaN                         NaN             NaN   \n",
      "3                        NaN                         NaN             NaN   \n",
      "4                        NaN                         NaN             NaN   \n",
      "\n",
      "  TERPEL_Volumen  \n",
      "0            NaN  \n",
      "1            NaN  \n",
      "2            NaN  \n",
      "3            NaN  \n",
      "4            NaN  \n",
      "\n",
      "[5 rows x 340 columns]\n"
     ]
    }
   ],
   "source": [
    "# Merge all DataFrames on 'Date' (keeping only common dates)\n",
    "df_final = df_list[0]\n",
    "for df in df_list[1:]:\n",
    "    df_final = pd.merge(df_final, df, on=\"Fecha\", how=\"outer\", suffixes=('', '_dup'))\n",
    "    \n",
    "# Sort by date\n",
    "df_final = df_final.sort_values(by=\"Fecha\")\n",
    "\n",
    "# Identify numeric columns (excluding 'Date' and stock name columns)\n",
    "numeric_cols = df_final.columns[df_final.dtypes == 'object']\n",
    "\n",
    "# Apply string replacements to clean decimal format\n",
    "df_final[numeric_cols] = df_final[numeric_cols].apply(lambda x: x.str.replace(',', '', regex=False))\n",
    "\n",
    "# Identify numeric columns (excluding 'Date' and stock name columns)\n",
    "numeric_cols = df_final.select_dtypes(include=['number']).columns\n",
    "\n",
    "# Convert only numeric columns to float\n",
    "df_final[numeric_cols] = df_final[numeric_cols].apply(pd.to_numeric, errors='coerce')\n",
    "\n",
    "# Save final merged DataFrame\n",
    "df_final.to_csv(\"Final_Merged_Data.csv\", index=False, encoding='utf-8-sig')\n",
    "\n",
    "# Show the first few rows of the final DataFrame\n",
    "print(df_final.head())"
   ]
  },
  {
   "cell_type": "code",
   "execution_count": 10,
   "metadata": {},
   "outputs": [
    {
     "name": "stdout",
     "output_type": "stream",
     "text": [
      "<class 'pandas.core.frame.DataFrame'>\n",
      "Index: 1363 entries, 0 to 1362\n",
      "Columns: 340 entries, Fecha to TERPEL_Volumen\n",
      "dtypes: datetime64[ns](1), float64(77), object(262)\n",
      "memory usage: 3.5+ MB\n"
     ]
    }
   ],
   "source": [
    "df_final.info()"
   ]
  },
  {
   "cell_type": "code",
   "execution_count": 11,
   "metadata": {},
   "outputs": [
    {
     "name": "stdout",
     "output_type": "stream",
     "text": [
      "['Fecha', 'BBVA_Nemotécnico', 'BBVA_Precio cierre', 'BBVA_Precio máximo', 'BBVA_Precio promedio ponderado', 'BBVA_Precio mínimo', 'BBVA_Variación absoluta', 'BBVA_Variación porcentual', 'BBVA_Cantidad', 'BBVA_Volumen', 'BCOLOMBIA_Nemotécnico', 'BCOLOMBIA_Precio cierre', 'BCOLOMBIA_Precio máximo', 'BCOLOMBIA_Precio promedio ponderado', 'BCOLOMBIA_Precio mínimo', 'BCOLOMBIA_Variación absoluta', 'BCOLOMBIA_Variación porcentual', 'BCOLOMBIA_Cantidad', 'BCOLOMBIA_Volumen', 'BHI_Nemotécnico', 'BHI_Precio cierre', 'BHI_Precio máximo', 'BHI_Precio promedio ponderado', 'BHI_Precio mínimo', 'BHI_Variación absoluta', 'BHI_Variación porcentual', 'BHI_Cantidad', 'BHI_Volumen', 'BMC_Nemotécnico', 'BMC_Precio cierre', 'BMC_Precio máximo', 'BMC_Precio promedio ponderado', 'BMC_Precio mínimo', 'BMC_Variación absoluta', 'BMC_Variación porcentual', 'BMC_Cantidad', 'BMC_Volumen', 'BOGOTA_Nemotécnico', 'BOGOTA_Precio cierre', 'BOGOTA_Precio máximo', 'BOGOTA_Precio promedio ponderado', 'BOGOTA_Precio mínimo', 'BOGOTA_Variación absoluta', 'BOGOTA_Variación porcentual', 'BOGOTA_Cantidad', 'BOGOTA_Volumen', 'BVC_Nemotécnico', 'BVC_Precio cierre', 'BVC_Precio máximo', 'BVC_Precio promedio ponderado', 'BVC_Precio mínimo', 'BVC_Variación absoluta', 'BVC_Variación porcentual', 'BVC_Cantidad', 'BVC_Volumen', 'CELSIA_Nemotécnico', 'CELSIA_Precio cierre', 'CELSIA_Precio máximo', 'CELSIA_Precio promedio ponderado', 'CELSIA_Precio mínimo', 'CELSIA_Variación absoluta', 'CELSIA_Variación porcentual', 'CELSIA_Cantidad', 'CELSIA_Volumen', 'CEMARGOS_Nemotécnico', 'CEMARGOS_Precio cierre', 'CEMARGOS_Precio máximo', 'CEMARGOS_Precio promedio ponderado', 'CEMARGOS_Precio mínimo', 'CEMARGOS_Variación absoluta', 'CEMARGOS_Variación porcentual', 'CEMARGOS_Cantidad', 'CEMARGOS_Volumen', 'CNEC_Nemotécnico', 'CNEC_Precio cierre', 'CNEC_Precio máximo', 'CNEC_Precio promedio ponderado', 'CNEC_Precio mínimo', 'CNEC_Variación absoluta', 'CNEC_Variación porcentual', 'CNEC_Cantidad', 'CNEC_Volumen', 'CONCONCRETO_Nemotécnico', 'CONCONCRETO_Precio cierre', 'CONCONCRETO_Precio máximo', 'CONCONCRETO_Precio promedio ponderado', 'CONCONCRETO_Precio mínimo', 'CONCONCRETO_Variación absoluta', 'CONCONCRETO_Variación porcentual', 'CONCONCRETO_Cantidad', 'CONCONCRETO_Volumen', 'CORFICOL_Nemotécnico', 'CORFICOL_Precio cierre', 'CORFICOL_Precio máximo', 'CORFICOL_Precio promedio ponderado', 'CORFICOL_Precio mínimo', 'CORFICOL_Variación absoluta', 'CORFICOL_Variación porcentual', 'CORFICOL_Cantidad', 'CORFICOL_Volumen', 'ECOPETROL_Nemotécnico', 'ECOPETROL_Precio cierre', 'ECOPETROL_Precio máximo', 'ECOPETROL_Precio promedio ponderado', 'ECOPETROL_Precio mínimo', 'ECOPETROL_Variación absoluta', 'ECOPETROL_Variación porcentual', 'ECOPETROL_Cantidad', 'ECOPETROL_Volumen', 'ENKA_Nemotécnico', 'ENKA_Precio cierre', 'ENKA_Precio máximo', 'ENKA_Precio promedio ponderado', 'ENKA_Precio mínimo', 'ENKA_Variación absoluta', 'ENKA_Variación porcentual', 'ENKA_Cantidad', 'ENKA_Volumen', 'ETB_Nemotécnico', 'ETB_Precio cierre', 'ETB_Precio máximo', 'ETB_Precio promedio ponderado', 'ETB_Precio mínimo', 'ETB_Variación absoluta', 'ETB_Variación porcentual', 'ETB_Cantidad', 'ETB_Volumen', 'EXITO_Nemotécnico', 'EXITO_Precio cierre', 'EXITO_Precio máximo', 'EXITO_Precio promedio ponderado', 'EXITO_Precio mínimo', 'EXITO_Variación absoluta', 'EXITO_Variación porcentual', 'EXITO_Cantidad', 'EXITO_Volumen', 'FABRICATO_Nemotécnico', 'FABRICATO_Precio cierre', 'FABRICATO_Precio máximo', 'FABRICATO_Precio promedio ponderado', 'FABRICATO_Precio mínimo', 'FABRICATO_Variación absoluta', 'FABRICATO_Variación porcentual', 'FABRICATO_Cantidad', 'FABRICATO_Volumen', 'GEB_Nemotécnico', 'GEB_Precio cierre', 'GEB_Precio máximo', 'GEB_Precio promedio ponderado', 'GEB_Precio mínimo', 'GEB_Variación absoluta', 'GEB_Variación porcentual', 'GEB_Cantidad', 'GEB_Volumen', 'GRUBOLIVAR_Nemotécnico', 'GRUBOLIVAR_Precio cierre', 'GRUBOLIVAR_Precio máximo', 'GRUBOLIVAR_Precio promedio ponderado', 'GRUBOLIVAR_Precio mínimo', 'GRUBOLIVAR_Variación absoluta', 'GRUBOLIVAR_Variación porcentual', 'GRUBOLIVAR_Cantidad', 'GRUBOLIVAR_Volumen', 'GRUPOARGOS_Nemotécnico', 'GRUPOARGOS_Precio cierre', 'GRUPOARGOS_Precio máximo', 'GRUPOARGOS_Precio promedio ponderado', 'GRUPOARGOS_Precio mínimo', 'GRUPOARGOS_Variación absoluta', 'GRUPOARGOS_Variación porcentual', 'GRUPOARGOS_Cantidad', 'GRUPOARGOS_Volumen', 'GRUPOAVAL_Nemotécnico', 'GRUPOAVAL_Precio cierre', 'GRUPOAVAL_Precio máximo', 'GRUPOAVAL_Precio promedio ponderado', 'GRUPOAVAL_Precio mínimo', 'GRUPOAVAL_Variación absoluta', 'GRUPOAVAL_Variación porcentual', 'GRUPOAVAL_Cantidad', 'GRUPOAVAL_Volumen', 'GRUPOSURA_Nemotécnico', 'GRUPOSURA_Precio cierre', 'GRUPOSURA_Precio máximo', 'GRUPOSURA_Precio promedio ponderado', 'GRUPOSURA_Precio mínimo', 'GRUPOSURA_Variación absoluta', 'GRUPOSURA_Variación porcentual', 'GRUPOSURA_Cantidad', 'GRUPOSURA_Volumen', 'GXTESCOL_Nemotécnico', 'GXTESCOL_Precio cierre', 'GXTESCOL_Precio máximo', 'GXTESCOL_Precio promedio ponderado', 'GXTESCOL_Precio mínimo', 'GXTESCOL_Variación absoluta', 'GXTESCOL_Variación porcentual', 'GXTESCOL_Cantidad', 'GXTESCOL_Volumen', 'HCOLSEL_Nemotécnico', 'HCOLSEL_Precio cierre', 'HCOLSEL_Precio máximo', 'HCOLSEL_Precio promedio ponderado', 'HCOLSEL_Precio mínimo', 'HCOLSEL_Variación absoluta', 'HCOLSEL_Variación porcentual', 'HCOLSEL_Cantidad', 'HCOLSEL_Volumen', 'ICOLCAP_Nemotécnico', 'ICOLCAP_Precio cierre', 'ICOLCAP_Precio máximo', 'ICOLCAP_Precio promedio ponderado', 'ICOLCAP_Precio mínimo', 'ICOLCAP_Variación absoluta', 'ICOLCAP_Variación porcentual', 'ICOLCAP_Cantidad', 'ICOLCAP_Volumen', 'ISA_Nemotécnico', 'ISA_Precio cierre', 'ISA_Precio máximo', 'ISA_Precio promedio ponderado', 'ISA_Precio mínimo', 'ISA_Variación absoluta', 'ISA_Variación porcentual', 'ISA_Cantidad', 'ISA_Volumen', 'MINEROS_Nemotécnico', 'MINEROS_Precio cierre', 'MINEROS_Precio máximo', 'MINEROS_Precio promedio ponderado', 'MINEROS_Precio mínimo', 'MINEROS_Variación absoluta', 'MINEROS_Variación porcentual', 'MINEROS_Cantidad', 'MINEROS_Volumen', 'MSCI_COLCAP_Valor hoy', 'MSCI_COLCAP_Valor ayer', 'MSCI_COLCAP_Variación absoluta', 'MSCI_COLCAP_Variación porcentual', 'MSCI_COLCAP_Variación 12 meses', 'MSCI_COLCAP_Variación año', 'NUTRESA_Nemotécnico', 'NUTRESA_Precio cierre', 'NUTRESA_Precio máximo', 'NUTRESA_Precio promedio ponderado', 'NUTRESA_Precio mínimo', 'NUTRESA_Variación absoluta', 'NUTRESA_Variación porcentual', 'NUTRESA_Cantidad', 'NUTRESA_Volumen', 'PEI_Nemotécnico', 'PEI_Precio cierre', 'PEI_Precio máximo', 'PEI_Precio promedio ponderado', 'PEI_Precio mínimo', 'PEI_Variación absoluta', 'PEI_Variación porcentual', 'PEI_Cantidad', 'PEI_Volumen', 'PFAVAL_Nemotécnico', 'PFAVAL_Precio cierre', 'PFAVAL_Precio máximo', 'PFAVAL_Precio promedio ponderado', 'PFAVAL_Precio mínimo', 'PFAVAL_Variación absoluta', 'PFAVAL_Variación porcentual', 'PFAVAL_Cantidad', 'PFAVAL_Volumen', 'PFBCOLOMBIA_Nemotécnico', 'PFBCOLOMBIA_Precio cierre', 'PFBCOLOMBIA_Precio máximo', 'PFBCOLOMBIA_Precio promedio ponderado', 'PFBCOLOMBIA_Precio mínimo', 'PFBCOLOMBIA_Variación absoluta', 'PFBCOLOMBIA_Variación porcentual', 'PFBCOLOMBIA_Cantidad', 'PFBCOLOMBIA_Volumen', 'PFCEMARGOS_Nemotécnico', 'PFCEMARGOS_Precio cierre', 'PFCEMARGOS_Precio máximo', 'PFCEMARGOS_Precio promedio ponderado', 'PFCEMARGOS_Precio mínimo', 'PFCEMARGOS_Variación absoluta', 'PFCEMARGOS_Variación porcentual', 'PFCEMARGOS_Cantidad', 'PFCEMARGOS_Volumen', 'PFCORFICOL_Nemotécnico', 'PFCORFICOL_Precio cierre', 'PFCORFICOL_Precio máximo', 'PFCORFICOL_Precio promedio ponderado', 'PFCORFICOL_Precio mínimo', 'PFCORFICOL_Variación absoluta', 'PFCORFICOL_Variación porcentual', 'PFCORFICOL_Cantidad', 'PFCORFICOL_Volumen', 'PFDAVVNDA_Nemotécnico', 'PFDAVVNDA_Precio cierre', 'PFDAVVNDA_Precio máximo', 'PFDAVVNDA_Precio promedio ponderado', 'PFDAVVNDA_Precio mínimo', 'PFDAVVNDA_Variación absoluta', 'PFDAVVNDA_Variación porcentual', 'PFDAVVNDA_Cantidad', 'PFDAVVNDA_Volumen', 'PFGRUPARG_Nemotécnico', 'PFGRUPARG_Precio cierre', 'PFGRUPARG_Precio máximo', 'PFGRUPARG_Precio promedio ponderado', 'PFGRUPARG_Precio mínimo', 'PFGRUPARG_Variación absoluta', 'PFGRUPARG_Variación porcentual', 'PFGRUPARG_Cantidad', 'PFGRUPARG_Volumen', 'PFGRUPOSURA_Nemotécnico', 'PFGRUPOSURA_Precio cierre', 'PFGRUPOSURA_Precio máximo', 'PFGRUPOSURA_Precio promedio ponderado', 'PFGRUPOSURA_Precio mínimo', 'PFGRUPOSURA_Variación absoluta', 'PFGRUPOSURA_Variación porcentual', 'PFGRUPOSURA_Cantidad', 'PFGRUPOSURA_Volumen', 'PROMIGAS_Nemotécnico', 'PROMIGAS_Precio cierre', 'PROMIGAS_Precio máximo', 'PROMIGAS_Precio promedio ponderado', 'PROMIGAS_Precio mínimo', 'PROMIGAS_Variación absoluta', 'PROMIGAS_Variación porcentual', 'PROMIGAS_Cantidad', 'PROMIGAS_Volumen', 'TERPEL_Nemotécnico', 'TERPEL_Precio cierre', 'TERPEL_Precio máximo', 'TERPEL_Precio promedio ponderado', 'TERPEL_Precio mínimo', 'TERPEL_Variación absoluta', 'TERPEL_Variación porcentual', 'TERPEL_Cantidad', 'TERPEL_Volumen']\n"
     ]
    }
   ],
   "source": [
    "df = pd.read_csv(\"Final_Merged_Data.csv\", sep=',', parse_dates=[\"Fecha\"])\n",
    "df.columns = df.columns.str.strip()\n",
    "# df.columns = df.columns.str.strip().str.replace(\" \", \"_\")  # Normalize column names\n",
    "print(df.columns.tolist())"
   ]
  },
  {
   "cell_type": "code",
   "execution_count": 12,
   "metadata": {},
   "outputs": [
    {
     "name": "stdout",
     "output_type": "stream",
     "text": [
      "📌 Historical Correlation with MSCI_COLCAP_Valor hoy\n",
      "BBVA_Precio cierre          -0.199989\n",
      "BCOLOMBIA_Precio cierre      0.825396\n",
      "BHI_Precio cierre            0.819506\n",
      "BMC_Precio cierre            0.454839\n",
      "BOGOTA_Precio cierre        -0.007622\n",
      "BVC_Precio cierre            0.422641\n",
      "CELSIA_Precio cierre         0.519067\n",
      "CEMARGOS_Precio cierre       0.762199\n",
      "CNEC_Precio cierre          -0.447023\n",
      "CONCONCRETO_Precio cierre    0.514353\n",
      "CORFICOL_Precio cierre       0.140521\n",
      "ECOPETROL_Precio cierre      0.116689\n",
      "ENKA_Precio cierre           0.232556\n",
      "ETB_Precio cierre           -0.214416\n",
      "EXITO_Precio cierre         -0.038047\n",
      "FABRICATO_Precio cierre      0.133024\n",
      "GEB_Precio cierre            0.697134\n",
      "GRUBOLIVAR_Precio cierre     0.605150\n",
      "GRUPOARGOS_Precio cierre     0.790809\n",
      "GRUPOAVAL_Precio cierre      0.006655\n",
      "GRUPOSURA_Precio cierre      0.461499\n",
      "GXTESCOL_Precio cierre       0.407303\n",
      "HCOLSEL_Precio cierre        0.941323\n",
      "ICOLCAP_Precio cierre        0.994846\n",
      "ISA_Precio cierre            0.494475\n",
      "MINEROS_Precio cierre        0.717504\n",
      "NUTRESA_Precio cierre        0.602157\n",
      "PEI_Precio cierre            0.632941\n",
      "PFAVAL_Precio cierre         0.272907\n",
      "PFBCOLOMBIA_Precio cierre    0.938546\n",
      "PFCEMARGOS_Precio cierre     0.694748\n",
      "PFCORFICOL_Precio cierre     0.208380\n",
      "PFDAVVNDA_Precio cierre      0.170276\n",
      "PFGRUPARG_Precio cierre      0.737709\n",
      "PFGRUPOSURA_Precio cierre    0.865484\n",
      "PROMIGAS_Precio cierre       0.473923\n",
      "TERPEL_Precio cierre         0.840931\n",
      "Name: MSCI_COLCAP_Valor hoy, dtype: float64\n",
      "\n",
      "📌 Monthly Correlation with MSCI_COLCAP_Valor hoy\n",
      "              Fecha  BBVA_Precio cierre  BCOLOMBIA_Precio cierre  \\\n",
      "YearMonth                                                          \n",
      "2024-12   -0.365355            0.204960                 0.757821   \n",
      "2025-01    0.634973                 NaN                 0.950209   \n",
      "2025-02    0.929579           -0.776942                 0.965638   \n",
      "2025-03    0.494771                 NaN                 0.884529   \n",
      "2025-04    0.207631                 NaN                 0.801232   \n",
      "2025-05   -0.256619           -0.446418                 0.849088   \n",
      "2025-06    0.549112                 NaN                 0.867031   \n",
      "2025-07    0.861057                 NaN                 0.729824   \n",
      "2025-08    0.963661                 NaN                 0.923801   \n",
      "2025-09         NaN                 NaN                      NaN   \n",
      "\n",
      "           BHI_Precio cierre  BMC_Precio cierre  BOGOTA_Precio cierre  \\\n",
      "YearMonth                                                               \n",
      "2024-12             0.167488          -0.540137              0.459274   \n",
      "2025-01             0.198755                NaN              0.849637   \n",
      "2025-02             0.858792                NaN              0.839961   \n",
      "2025-03             0.253713                NaN              0.483338   \n",
      "2025-04             0.495148          -0.146977              0.787247   \n",
      "2025-05            -0.367476                NaN              0.189985   \n",
      "2025-06             0.117248           0.271039             -0.256017   \n",
      "2025-07             0.246939          -0.358917              0.513991   \n",
      "2025-08             0.686962           0.629553              0.929992   \n",
      "2025-09                  NaN                NaN                   NaN   \n",
      "\n",
      "           BVC_Precio cierre  CELSIA_Precio cierre  CEMARGOS_Precio cierre  \\\n",
      "YearMonth                                                                    \n",
      "2024-12             0.202125              0.195644               -0.100604   \n",
      "2025-01             0.896351             -0.274657                0.095396   \n",
      "2025-02             0.548603              0.829080               -0.131747   \n",
      "2025-03             0.609753              0.657937                0.466271   \n",
      "2025-04            -0.509692             -0.252217                0.625241   \n",
      "2025-05            -0.082445              0.222582                0.286665   \n",
      "2025-06            -0.232243              0.565730                0.233314   \n",
      "2025-07             0.079753              0.669521                0.132124   \n",
      "2025-08             0.915558              0.511296               -0.182835   \n",
      "2025-09                  NaN                   NaN                     NaN   \n",
      "\n",
      "           CNEC_Precio cierre  ...  PEI_Precio cierre  PFAVAL_Precio cierre  \\\n",
      "YearMonth                      ...                                            \n",
      "2024-12              0.470993  ...           0.176046                   NaN   \n",
      "2025-01             -0.118249  ...           0.459825                   NaN   \n",
      "2025-02              0.004128  ...          -0.412043                   NaN   \n",
      "2025-03              0.468122  ...          -0.275996                   NaN   \n",
      "2025-04             -0.060430  ...           0.380882                   NaN   \n",
      "2025-05              0.342600  ...           0.533451                   NaN   \n",
      "2025-06             -0.421732  ...          -0.167703                   NaN   \n",
      "2025-07             -0.650596  ...           0.661295                   NaN   \n",
      "2025-08             -0.960375  ...          -0.455505                   NaN   \n",
      "2025-09                   NaN  ...                NaN                   NaN   \n",
      "\n",
      "           PFBCOLOMBIA_Precio cierre  PFCEMARGOS_Precio cierre  \\\n",
      "YearMonth                                                        \n",
      "2024-12                     0.733177                  0.135863   \n",
      "2025-01                     0.958455                 -0.111791   \n",
      "2025-02                     0.974987                 -0.488419   \n",
      "2025-03                     0.777506                 -0.605613   \n",
      "2025-04                     0.953362                  0.293190   \n",
      "2025-05                     0.512444                  0.161061   \n",
      "2025-06                     0.919027                  0.150194   \n",
      "2025-07                     0.512249                  0.580176   \n",
      "2025-08                     0.977932                       NaN   \n",
      "2025-09                          NaN                       NaN   \n",
      "\n",
      "           PFCORFICOL_Precio cierre  PFDAVVNDA_Precio cierre  \\\n",
      "YearMonth                                                      \n",
      "2024-12                    0.264960                 0.314783   \n",
      "2025-01                    0.792927                 0.601613   \n",
      "2025-02                    0.863826                 0.938076   \n",
      "2025-03                    0.053921                 0.543523   \n",
      "2025-04                    0.724100                 0.521404   \n",
      "2025-05                   -0.058616                 0.619424   \n",
      "2025-06                   -0.180632                 0.079122   \n",
      "2025-07                    0.505868                -0.351453   \n",
      "2025-08                    0.954789                 0.976917   \n",
      "2025-09                         NaN                      NaN   \n",
      "\n",
      "           PFGRUPARG_Precio cierre  PFGRUPOSURA_Precio cierre  \\\n",
      "YearMonth                                                       \n",
      "2024-12                  -0.265076                  -0.115372   \n",
      "2025-01                  -0.014430                   0.956589   \n",
      "2025-02                   0.890935                   0.922473   \n",
      "2025-03                  -0.190793                   0.100546   \n",
      "2025-04                   0.306273                  -0.163864   \n",
      "2025-05                   0.059441                   0.233821   \n",
      "2025-06                   0.073926                   0.100651   \n",
      "2025-07                  -0.636907                  -0.220914   \n",
      "2025-08                  -0.665360                  -0.275940   \n",
      "2025-09                        NaN                        NaN   \n",
      "\n",
      "           PROMIGAS_Precio cierre  TERPEL_Precio cierre  \n",
      "YearMonth                                                \n",
      "2024-12                 -0.048672             -0.078926  \n",
      "2025-01                 -0.685147              0.020825  \n",
      "2025-02                  0.076774              0.788476  \n",
      "2025-03                 -0.171147              0.110226  \n",
      "2025-04                 -0.123677              0.620450  \n",
      "2025-05                  0.545555             -0.270615  \n",
      "2025-06                  0.639629             -0.193695  \n",
      "2025-07                 -0.284518              0.623783  \n",
      "2025-08                  0.763813              0.969623  \n",
      "2025-09                       NaN                   NaN  \n",
      "\n",
      "[10 rows x 38 columns]\n"
     ]
    },
    {
     "name": "stderr",
     "output_type": "stream",
     "text": [
      "C:\\Users\\ACER\\AppData\\Local\\Temp\\ipykernel_12848\\4085310268.py:24: FutureWarning: DataFrame.fillna with 'method' is deprecated and will raise in a future version. Use obj.ffill() or obj.bfill() instead.\n",
      "  df_close.fillna(method='ffill', inplace=True)  # Fill forward\n",
      "C:\\Users\\ACER\\AppData\\Local\\Temp\\ipykernel_12848\\4085310268.py:25: FutureWarning: DataFrame.fillna with 'method' is deprecated and will raise in a future version. Use obj.ffill() or obj.bfill() instead.\n",
      "  df_close.fillna(method='bfill', inplace=True)  # Fill backward\n"
     ]
    }
   ],
   "source": [
    "import pandas as pd\n",
    "\n",
    "# Load the merged DataFrame\n",
    "df = pd.read_csv(\"Final_Merged_Data.csv\", sep=',', parse_dates=[\"Fecha\"])\n",
    "\n",
    "# Select only 'Close' price columns and 'COLCAP_Valor hoy'\n",
    "close_cols = [col for col in df.columns if \"cierre\" in col.lower() or col == 'MSCI_COLCAP_Valor hoy']\n",
    "# Create a DataFrame with only 'Date', 'Close Price' columns, and 'COLCAP_Valor hoy'\n",
    "df_close = df[[\"Fecha\"] + close_cols].copy()\n",
    "\n",
    "# Ensure 'Date' column is in datetime format\n",
    "df_close[\"Fecha\"] = pd.to_datetime(df_close[\"Fecha\"])\n",
    "\n",
    "# Create 'YearMonth' column for grouping\n",
    "df_close[\"YearMonth\"] = df_close[\"Fecha\"].dt.to_period(\"M\")\n",
    "\n",
    "# Drop 'Date' and 'YearMonth' before correlation calculations\n",
    "df_corr = df_close.drop(columns=[\"Fecha\", \"YearMonth\"])\n",
    "\n",
    "# Compute monthly correlation and keep it as a DataFrame\n",
    "monthly_corr = df_close.groupby(\"YearMonth\").corr()\n",
    "\n",
    "# Handle missing data by forward-filling, then back-filling\n",
    "df_close.fillna(method='ffill', inplace=True)  # Fill forward\n",
    "df_close.fillna(method='bfill', inplace=True)  # Fill backward\n",
    "\n",
    "# Select the specific stock for correlation analysis\n",
    "target_stock = \"MSCI_COLCAP_Valor hoy\"  # Replace with your chosen stock column name\n",
    "\n",
    "# **1️⃣ Calculate Historical Correlation (Full Period)**\n",
    "historical_corr = df_corr.corr()[target_stock].drop(target_stock, errors=\"ignore\")\n",
    "# **2️⃣ Calculate Monthly Correlation**\n",
    "monthly_corr = monthly_corr.xs(target_stock, level=1, axis=0)\n",
    "\n",
    "# Drop self-correlation if needed\n",
    "monthly_corr = monthly_corr.drop(target_stock, axis=1, errors=\"ignore\")\n",
    "\n",
    "# Save results\n",
    "historical_corr.to_csv(\"Historical_Correlation.csv\")\n",
    "monthly_corr.to_csv(\"Monthly_Correlation.csv\")\n",
    "\n",
    "# Display results\n",
    "print(\"📌 Historical Correlation with\", target_stock)\n",
    "print(historical_corr)\n",
    "\n",
    "print(\"\\n📌 Monthly Correlation with\", target_stock)\n",
    "print(monthly_corr.tail(10))  # Show last 10 months\n"
   ]
  },
  {
   "cell_type": "markdown",
   "metadata": {},
   "source": [
    "### I created a table with the correlations of the last 5, 30, 90, 180 and 252 days"
   ]
  },
  {
   "cell_type": "code",
   "execution_count": 13,
   "metadata": {},
   "outputs": [
    {
     "name": "stdout",
     "output_type": "stream",
     "text": [
      "\n",
      "Rolling correlation for 5 days:\n",
      "            BBVA_Precio cierre  BCOLOMBIA_Precio cierre  BHI_Precio cierre  \\\n",
      "Fecha                                                                        \n",
      "2025-09-24                -inf                     -inf                NaN   \n",
      "2025-09-25                 NaN                      inf                NaN   \n",
      "2025-09-26                 NaN                      inf                NaN   \n",
      "\n",
      "            BMC_Precio cierre  BOGOTA_Precio cierre  BVC_Precio cierre  \\\n",
      "Fecha                                                                    \n",
      "2025-09-24                NaN                  -inf                NaN   \n",
      "2025-09-25                NaN                  -inf                NaN   \n",
      "2025-09-26                NaN                   NaN                NaN   \n",
      "\n",
      "            CELSIA_Precio cierre  CEMARGOS_Precio cierre  CNEC_Precio cierre  \\\n",
      "Fecha                                                                          \n",
      "2025-09-24                   NaN                     NaN                 NaN   \n",
      "2025-09-25                   NaN                     NaN                -inf   \n",
      "2025-09-26                   NaN                    -inf                -inf   \n",
      "\n",
      "            CONCONCRETO_Precio cierre  ...  PEI_Precio cierre  \\\n",
      "Fecha                                  ...                      \n",
      "2025-09-24                        NaN  ...                NaN   \n",
      "2025-09-25                        NaN  ...               -inf   \n",
      "2025-09-26                        NaN  ...                NaN   \n",
      "\n",
      "            PFAVAL_Precio cierre  PFBCOLOMBIA_Precio cierre  \\\n",
      "Fecha                                                         \n",
      "2025-09-24                   NaN                       -inf   \n",
      "2025-09-25                   NaN                       -inf   \n",
      "2025-09-26                   NaN                        inf   \n",
      "\n",
      "            PFCEMARGOS_Precio cierre  PFCORFICOL_Precio cierre  \\\n",
      "Fecha                                                            \n",
      "2025-09-24                       NaN                       inf   \n",
      "2025-09-25                       NaN                      -inf   \n",
      "2025-09-26                       NaN                       NaN   \n",
      "\n",
      "            PFDAVVNDA_Precio cierre  PFGRUPARG_Precio cierre  \\\n",
      "Fecha                                                          \n",
      "2025-09-24                      NaN                      NaN   \n",
      "2025-09-25                      NaN                      NaN   \n",
      "2025-09-26                      NaN                      NaN   \n",
      "\n",
      "            PFGRUPOSURA_Precio cierre  PROMIGAS_Precio cierre  \\\n",
      "Fecha                                                           \n",
      "2025-09-24                        NaN                     inf   \n",
      "2025-09-25                        NaN                     NaN   \n",
      "2025-09-26                        inf                     NaN   \n",
      "\n",
      "            TERPEL_Precio cierre  \n",
      "Fecha                             \n",
      "2025-09-24                   NaN  \n",
      "2025-09-25                   NaN  \n",
      "2025-09-26                   NaN  \n",
      "\n",
      "[3 rows x 38 columns]\n",
      "\n",
      "Rolling correlation for 30 days:\n",
      "            BBVA_Precio cierre  BCOLOMBIA_Precio cierre  BHI_Precio cierre  \\\n",
      "Fecha                                                                        \n",
      "2025-09-24            0.038639                 0.699886           0.569752   \n",
      "2025-09-25            0.026216                 0.064403           0.306207   \n",
      "2025-09-26           -0.061898                -0.092290          -0.658747   \n",
      "\n",
      "            BMC_Precio cierre  BOGOTA_Precio cierre  BVC_Precio cierre  \\\n",
      "Fecha                                                                    \n",
      "2025-09-24           0.589017              0.320733           0.362164   \n",
      "2025-09-25           0.468815              0.102044           0.133359   \n",
      "2025-09-26          -0.111866             -0.212936          -0.160214   \n",
      "\n",
      "            CELSIA_Precio cierre  CEMARGOS_Precio cierre  CNEC_Precio cierre  \\\n",
      "Fecha                                                                          \n",
      "2025-09-24             -0.207696               -0.192766            0.271849   \n",
      "2025-09-25              0.027614               -0.057064            0.147568   \n",
      "2025-09-26              0.262447                0.161905           -0.264891   \n",
      "\n",
      "            CONCONCRETO_Precio cierre  ...  PEI_Precio cierre  \\\n",
      "Fecha                                  ...                      \n",
      "2025-09-24                  -0.357129  ...           0.229021   \n",
      "2025-09-25                   0.045377  ...           0.118608   \n",
      "2025-09-26                   0.190312  ...          -0.231832   \n",
      "\n",
      "            PFAVAL_Precio cierre  PFBCOLOMBIA_Precio cierre  \\\n",
      "Fecha                                                         \n",
      "2025-09-24                   inf                   0.406647   \n",
      "2025-09-25                   NaN                   0.176955   \n",
      "2025-09-26                   NaN                  -0.184613   \n",
      "\n",
      "            PFCEMARGOS_Precio cierre  PFCORFICOL_Precio cierre  \\\n",
      "Fecha                                                            \n",
      "2025-09-24                  0.021848                  0.392044   \n",
      "2025-09-25                  0.016624                 -0.066168   \n",
      "2025-09-26                 -0.042244                 -0.044165   \n",
      "\n",
      "            PFDAVVNDA_Precio cierre  PFGRUPARG_Precio cierre  \\\n",
      "Fecha                                                          \n",
      "2025-09-24                -0.225754                -0.015637   \n",
      "2025-09-25                -0.130256                -0.043501   \n",
      "2025-09-26                 0.355000                 0.102628   \n",
      "\n",
      "            PFGRUPOSURA_Precio cierre  PROMIGAS_Precio cierre  \\\n",
      "Fecha                                                           \n",
      "2025-09-24                  -0.310436               -0.370179   \n",
      "2025-09-25                  -0.198226               -0.246357   \n",
      "2025-09-26                   0.180395                0.300188   \n",
      "\n",
      "            TERPEL_Precio cierre  \n",
      "Fecha                             \n",
      "2025-09-24              0.257225  \n",
      "2025-09-25              0.152862  \n",
      "2025-09-26             -0.183264  \n",
      "\n",
      "[3 rows x 38 columns]\n",
      "\n",
      "Rolling correlation for 90 days:\n",
      "            BBVA_Precio cierre  BCOLOMBIA_Precio cierre  BHI_Precio cierre  \\\n",
      "Fecha                                                                        \n",
      "2025-09-24            0.266134                 0.969063           0.834794   \n",
      "2025-09-25            0.277861                 0.970054           0.835879   \n",
      "2025-09-26            0.283283                 0.970740           0.836314   \n",
      "\n",
      "            BMC_Precio cierre  BOGOTA_Precio cierre  BVC_Precio cierre  \\\n",
      "Fecha                                                                    \n",
      "2025-09-24           0.276867              0.814551           0.666616   \n",
      "2025-09-25           0.283583              0.815368           0.666726   \n",
      "2025-09-26           0.287494              0.815083           0.669994   \n",
      "\n",
      "            CELSIA_Precio cierre  CEMARGOS_Precio cierre  CNEC_Precio cierre  \\\n",
      "Fecha                                                                          \n",
      "2025-09-24              0.726918               -0.321790           -0.531008   \n",
      "2025-09-25              0.727497               -0.312832           -0.523242   \n",
      "2025-09-26              0.725693               -0.308411           -0.513162   \n",
      "\n",
      "            CONCONCRETO_Precio cierre  ...  PEI_Precio cierre  \\\n",
      "Fecha                                  ...                      \n",
      "2025-09-24                  -0.891269  ...           0.661042   \n",
      "2025-09-25                  -0.892179  ...           0.672242   \n",
      "2025-09-26                  -0.895883  ...           0.683848   \n",
      "\n",
      "            PFAVAL_Precio cierre  PFBCOLOMBIA_Precio cierre  \\\n",
      "Fecha                                                         \n",
      "2025-09-24                  -inf                   0.953921   \n",
      "2025-09-25                   NaN                   0.954183   \n",
      "2025-09-26                   NaN                   0.954503   \n",
      "\n",
      "            PFCEMARGOS_Precio cierre  PFCORFICOL_Precio cierre  \\\n",
      "Fecha                                                            \n",
      "2025-09-24                  0.682474                  0.737367   \n",
      "2025-09-25                  0.681777                  0.746061   \n",
      "2025-09-26                  0.680092                  0.754896   \n",
      "\n",
      "            PFDAVVNDA_Precio cierre  PFGRUPARG_Precio cierre  \\\n",
      "Fecha                                                          \n",
      "2025-09-24                 0.653888                -0.875590   \n",
      "2025-09-25                 0.667614                -0.876574   \n",
      "2025-09-26                 0.685315                -0.877633   \n",
      "\n",
      "            PFGRUPOSURA_Precio cierre  PROMIGAS_Precio cierre  \\\n",
      "Fecha                                                           \n",
      "2025-09-24                  -0.551533               -0.557046   \n",
      "2025-09-25                  -0.560238               -0.560936   \n",
      "2025-09-26                  -0.568007               -0.562563   \n",
      "\n",
      "            TERPEL_Precio cierre  \n",
      "Fecha                             \n",
      "2025-09-24              0.892443  \n",
      "2025-09-25              0.892193  \n",
      "2025-09-26              0.891879  \n",
      "\n",
      "[3 rows x 38 columns]\n",
      "\n",
      "Rolling correlation for 180 days:\n",
      "            BBVA_Precio cierre  BCOLOMBIA_Precio cierre  BHI_Precio cierre  \\\n",
      "Fecha                                                                        \n",
      "2025-09-24            0.240610                 0.983054           0.863852   \n",
      "2025-09-25            0.274577                 0.982847           0.864680   \n",
      "2025-09-26            0.305950                 0.982712           0.866339   \n",
      "\n",
      "            BMC_Precio cierre  BOGOTA_Precio cierre  BVC_Precio cierre  \\\n",
      "Fecha                                                                    \n",
      "2025-09-24           0.470152              0.943482           0.593855   \n",
      "2025-09-25           0.480038              0.942538           0.582474   \n",
      "2025-09-26           0.489695              0.941396           0.571020   \n",
      "\n",
      "            CELSIA_Precio cierre  CEMARGOS_Precio cierre  CNEC_Precio cierre  \\\n",
      "Fecha                                                                          \n",
      "2025-09-24              0.844536                0.006633           -0.792536   \n",
      "2025-09-25              0.845707                0.008627           -0.792041   \n",
      "2025-09-26              0.846944                0.011175           -0.791547   \n",
      "\n",
      "            CONCONCRETO_Precio cierre  ...  PEI_Precio cierre  \\\n",
      "Fecha                                  ...                      \n",
      "2025-09-24                  -0.772353  ...           0.454706   \n",
      "2025-09-25                  -0.779097  ...           0.463409   \n",
      "2025-09-26                  -0.782090  ...           0.471027   \n",
      "\n",
      "            PFAVAL_Precio cierre  PFBCOLOMBIA_Precio cierre  \\\n",
      "Fecha                                                         \n",
      "2025-09-24                   NaN                   0.973315   \n",
      "2025-09-25                  -inf                   0.973048   \n",
      "2025-09-26                  -inf                   0.972866   \n",
      "\n",
      "            PFCEMARGOS_Precio cierre  PFCORFICOL_Precio cierre  \\\n",
      "Fecha                                                            \n",
      "2025-09-24                  0.279059                  0.561673   \n",
      "2025-09-25                  0.317115                  0.549314   \n",
      "2025-09-26                  0.354386                  0.535144   \n",
      "\n",
      "            PFDAVVNDA_Precio cierre  PFGRUPARG_Precio cierre  \\\n",
      "Fecha                                                          \n",
      "2025-09-24                 0.882567                -0.478060   \n",
      "2025-09-25                 0.881310                -0.488422   \n",
      "2025-09-26                 0.880066                -0.500098   \n",
      "\n",
      "            PFGRUPOSURA_Precio cierre  PROMIGAS_Precio cierre  \\\n",
      "Fecha                                                           \n",
      "2025-09-24                   0.603425               -0.725580   \n",
      "2025-09-25                   0.588024               -0.721126   \n",
      "2025-09-26                   0.571684               -0.716062   \n",
      "\n",
      "            TERPEL_Precio cierre  \n",
      "Fecha                             \n",
      "2025-09-24              0.711912  \n",
      "2025-09-25              0.717138  \n",
      "2025-09-26              0.723062  \n",
      "\n",
      "[3 rows x 38 columns]\n",
      "\n",
      "Rolling correlation for 252 days:\n",
      "            BBVA_Precio cierre  BCOLOMBIA_Precio cierre  BHI_Precio cierre  \\\n",
      "Fecha                                                                        \n",
      "2025-09-24           -0.455843                 0.988453           0.822231   \n",
      "2025-09-25           -0.444041                 0.988399           0.823441   \n",
      "2025-09-26           -0.431698                 0.988420           0.825277   \n",
      "\n",
      "            BMC_Precio cierre  BOGOTA_Precio cierre  BVC_Precio cierre  \\\n",
      "Fecha                                                                    \n",
      "2025-09-24           0.547335              0.954024           0.841898   \n",
      "2025-09-25           0.553222              0.954759           0.841301   \n",
      "2025-09-26           0.558905              0.955724           0.841010   \n",
      "\n",
      "            CELSIA_Precio cierre  CEMARGOS_Precio cierre  CNEC_Precio cierre  \\\n",
      "Fecha                                                                          \n",
      "2025-09-24              0.816717                0.652853           -0.741913   \n",
      "2025-09-25              0.819699                0.649772           -0.744835   \n",
      "2025-09-26              0.822664                0.646006           -0.747789   \n",
      "\n",
      "            CONCONCRETO_Precio cierre  ...  PEI_Precio cierre  \\\n",
      "Fecha                                  ...                      \n",
      "2025-09-24                   0.387688  ...           0.528977   \n",
      "2025-09-25                   0.378427  ...           0.538244   \n",
      "2025-09-26                   0.369285  ...           0.545871   \n",
      "\n",
      "            PFAVAL_Precio cierre  PFBCOLOMBIA_Precio cierre  \\\n",
      "Fecha                                                         \n",
      "2025-09-24                   NaN                   0.988632   \n",
      "2025-09-25                  -inf                   0.988631   \n",
      "2025-09-26                  -inf                   0.988653   \n",
      "\n",
      "            PFCEMARGOS_Precio cierre  PFCORFICOL_Precio cierre  \\\n",
      "Fecha                                                            \n",
      "2025-09-24                  0.725890                  0.820859   \n",
      "2025-09-25                  0.726305                  0.819801   \n",
      "2025-09-26                  0.726573                  0.818772   \n",
      "\n",
      "            PFDAVVNDA_Precio cierre  PFGRUPARG_Precio cierre  \\\n",
      "Fecha                                                          \n",
      "2025-09-24                 0.919158                 0.063408   \n",
      "2025-09-25                 0.919945                 0.046600   \n",
      "2025-09-26                 0.920868                 0.029937   \n",
      "\n",
      "            PFGRUPOSURA_Precio cierre  PROMIGAS_Precio cierre  \\\n",
      "Fecha                                                           \n",
      "2025-09-24                   0.864524               -0.883674   \n",
      "2025-09-25                   0.861431               -0.882689   \n",
      "2025-09-26                   0.858282               -0.881609   \n",
      "\n",
      "            TERPEL_Precio cierre  \n",
      "Fecha                             \n",
      "2025-09-24              0.843694  \n",
      "2025-09-25              0.843349  \n",
      "2025-09-26              0.843103  \n",
      "\n",
      "[3 rows x 38 columns]\n",
      "                           5 days   30 days   90 days  180 days  252 days\n",
      "BBVA_Precio cierre            NaN -0.061898  0.283283  0.305950 -0.431698\n",
      "BCOLOMBIA_Precio cierre       inf -0.092290  0.970740  0.982712  0.988420\n",
      "BHI_Precio cierre             NaN -0.658747  0.836314  0.866339  0.825277\n",
      "BMC_Precio cierre             NaN -0.111866  0.287494  0.489695  0.558905\n",
      "BOGOTA_Precio cierre          NaN -0.212936  0.815083  0.941396  0.955724\n",
      "BVC_Precio cierre             NaN -0.160214  0.669994  0.571020  0.841010\n",
      "CELSIA_Precio cierre          NaN  0.262447  0.725693  0.846944  0.822664\n",
      "CEMARGOS_Precio cierre       -inf  0.161905 -0.308411  0.011175  0.646006\n",
      "CNEC_Precio cierre           -inf -0.264891 -0.513162 -0.791547 -0.747789\n",
      "CONCONCRETO_Precio cierre     NaN  0.190312 -0.895883 -0.782090  0.369285\n",
      "CORFICOL_Precio cierre       -inf  0.021351 -0.150087  0.510044  0.800147\n",
      "ECOPETROL_Precio cierre       NaN -0.107624 -0.211263 -0.299673  0.131369\n",
      "ENKA_Precio cierre            NaN -0.320302  0.809695  0.919329  0.927655\n",
      "ETB_Precio cierre             NaN -0.557086 -0.941447 -0.746177 -0.908434\n",
      "EXITO_Precio cierre           NaN -0.038365  0.830312  0.820660  0.638655\n",
      "FABRICATO_Precio cierre       NaN -0.068571  0.637596  0.813733  0.546121\n",
      "GEB_Precio cierre            -inf  0.254849 -0.237041  0.746744  0.893005\n",
      "GRUBOLIVAR_Precio cierre      NaN -0.238175  0.857122  0.799441  0.894260\n",
      "GRUPOARGOS_Precio cierre      inf  0.101805 -0.812469 -0.369404  0.033113\n",
      "GRUPOAVAL_Precio cierre       NaN       NaN       NaN      -inf      -inf\n",
      "GRUPOSURA_Precio cierre       NaN  0.262835 -0.312602  0.651836  0.847571\n",
      "GXTESCOL_Precio cierre        NaN -0.158357  0.911687  0.873500  0.516907\n",
      "HCOLSEL_Precio cierre         NaN -0.125283  0.988964  0.986454  0.993433\n",
      "ICOLCAP_Precio cierre         inf  0.016596  0.992182  0.985742  0.994320\n",
      "ISA_Precio cierre             NaN  0.219827  0.923509  0.905070  0.925517\n",
      "MINEROS_Precio cierre         NaN -0.365757  0.828628  0.890176  0.926862\n",
      "NUTRESA_Precio cierre         NaN -0.338912  0.811752  0.927269  0.970814\n",
      "PEI_Precio cierre             NaN -0.231832  0.683848  0.471027  0.545871\n",
      "PFAVAL_Precio cierre          NaN       NaN       NaN      -inf      -inf\n",
      "PFBCOLOMBIA_Precio cierre     inf -0.184613  0.954503  0.972866  0.988653\n",
      "PFCEMARGOS_Precio cierre      NaN -0.042244  0.680092  0.354386  0.726573\n",
      "PFCORFICOL_Precio cierre      NaN -0.044165  0.754896  0.535144  0.818772\n",
      "PFDAVVNDA_Precio cierre       NaN  0.355000  0.685315  0.880066  0.920868\n",
      "PFGRUPARG_Precio cierre       NaN  0.102628 -0.877633 -0.500098  0.029937\n",
      "PFGRUPOSURA_Precio cierre     inf  0.180395 -0.568007  0.571684  0.858282\n",
      "PROMIGAS_Precio cierre        NaN  0.300188 -0.562563 -0.716062 -0.881609\n",
      "TERPEL_Precio cierre          NaN -0.183264  0.891879  0.723062  0.843103\n"
     ]
    },
    {
     "name": "stderr",
     "output_type": "stream",
     "text": [
      "C:\\Users\\ACER\\AppData\\Local\\Temp\\ipykernel_12848\\3026403410.py:13: FutureWarning: DataFrame.fillna with 'method' is deprecated and will raise in a future version. Use obj.ffill() or obj.bfill() instead.\n",
      "  df_close.fillna(method=\"ffill\", inplace=True)\n",
      "C:\\Users\\ACER\\AppData\\Local\\Temp\\ipykernel_12848\\3026403410.py:14: FutureWarning: DataFrame.fillna with 'method' is deprecated and will raise in a future version. Use obj.ffill() or obj.bfill() instead.\n",
      "  df_close.fillna(method=\"bfill\", inplace=True)\n"
     ]
    }
   ],
   "source": [
    "# Load the merged DataFrame\n",
    "df = pd.read_csv(\"Final_Merged_Data.csv\", parse_dates=[\"Fecha\"])\n",
    "\n",
    "# Define target stock (COLCAP index)\n",
    "target_stock = \"MSCI_COLCAP_Valor hoy\"\n",
    "\n",
    "# Filter only 'cierre' and target stock columns\n",
    "close_cols = [col for col in df.columns if \"cierre\" in col.lower() or col == target_stock]\n",
    "df_close = df[[\"Fecha\"] + close_cols].copy()\n",
    "\n",
    "# Preprocessing: Fill missing values\n",
    "df_close.sort_values(\"Fecha\", inplace=True)\n",
    "df_close.fillna(method=\"ffill\", inplace=True)\n",
    "df_close.fillna(method=\"bfill\", inplace=True)\n",
    "\n",
    "# Set date as index\n",
    "df_close.set_index(\"Fecha\", inplace=True)\n",
    "\n",
    "# Define rolling windows in trading days\n",
    "windows = {\n",
    "    \"5 days\": 5,\n",
    "    \"30 days\": 30,\n",
    "    \"90 days\": 90,\n",
    "    \"180 days\": 180,\n",
    "    \"252 days\": 252,\n",
    "}\n",
    "\n",
    "# Dictionary to collect correlation results\n",
    "rolling_corrs = {}\n",
    "\n",
    "# Iterate and calculate rolling correlations\n",
    "for label, window in windows.items():\n",
    "    rolling_corr = df_close.rolling(window).corr(df_close[target_stock])\n",
    "    print(f\"\\nRolling correlation for {label}:\")\n",
    "    print(rolling_corr.tail(3))\n",
    "    \n",
    "    # Get latest correlation (safely)\n",
    "    try:\n",
    "        latest_corr = rolling_corr.loc[df_close.index.max()]\n",
    "        if isinstance(latest_corr, pd.Series):\n",
    "            rolling_corrs[label] = latest_corr.drop(target_stock, errors=\"ignore\")\n",
    "    except KeyError:\n",
    "        print(f\"⚠️ Skipping {label} due to missing data\")\n",
    "\n",
    "# Combine results into DataFrame\n",
    "rolling_corrs_df = pd.DataFrame(rolling_corrs)\n",
    "\n",
    "# Display or save\n",
    "rolling_corrs_df.to_csv(\"Rolling_Correlations.csv\")\n",
    "print(rolling_corrs_df)\n"
   ]
  },
  {
   "cell_type": "code",
   "execution_count": 14,
   "metadata": {},
   "outputs": [
    {
     "name": "stdout",
     "output_type": "stream",
     "text": [
      "\n",
      "📌 Monthly Correlation with MSCI_COLCAP_Valor hoy\n",
      "              Fecha  BBVA_Precio cierre  BCOLOMBIA_Precio cierre  \\\n",
      "YearMonth                                                          \n",
      "2024-12   -0.365355            0.204960                 0.757821   \n",
      "2025-01    0.634973                 NaN                 0.950209   \n",
      "2025-02    0.929579           -0.776942                 0.965638   \n",
      "2025-03    0.494771                 NaN                 0.884529   \n",
      "2025-04    0.207631                 NaN                 0.801232   \n",
      "2025-05   -0.256619           -0.446418                 0.849088   \n",
      "2025-06    0.549112                 NaN                 0.867031   \n",
      "2025-07    0.861057                 NaN                 0.729824   \n",
      "2025-08    0.963661                 NaN                 0.923801   \n",
      "2025-09         NaN                 NaN                      NaN   \n",
      "\n",
      "           BHI_Precio cierre  BMC_Precio cierre  BOGOTA_Precio cierre  \\\n",
      "YearMonth                                                               \n",
      "2024-12             0.167488          -0.540137              0.459274   \n",
      "2025-01             0.198755                NaN              0.849637   \n",
      "2025-02             0.858792                NaN              0.839961   \n",
      "2025-03             0.253713                NaN              0.483338   \n",
      "2025-04             0.495148          -0.146977              0.787247   \n",
      "2025-05            -0.367476                NaN              0.189985   \n",
      "2025-06             0.117248           0.271039             -0.256017   \n",
      "2025-07             0.246939          -0.358917              0.513991   \n",
      "2025-08             0.686962           0.629553              0.929992   \n",
      "2025-09                  NaN                NaN                   NaN   \n",
      "\n",
      "           BVC_Precio cierre  CELSIA_Precio cierre  CEMARGOS_Precio cierre  \\\n",
      "YearMonth                                                                    \n",
      "2024-12             0.202125              0.195644               -0.100604   \n",
      "2025-01             0.896351             -0.274657                0.095396   \n",
      "2025-02             0.548603              0.829080               -0.131747   \n",
      "2025-03             0.609753              0.657937                0.466271   \n",
      "2025-04            -0.509692             -0.252217                0.625241   \n",
      "2025-05            -0.082445              0.222582                0.286665   \n",
      "2025-06            -0.232243              0.565730                0.233314   \n",
      "2025-07             0.079753              0.669521                0.132124   \n",
      "2025-08             0.915558              0.511296               -0.182835   \n",
      "2025-09                  NaN                   NaN                     NaN   \n",
      "\n",
      "           CNEC_Precio cierre  ...  PEI_Precio cierre  PFAVAL_Precio cierre  \\\n",
      "YearMonth                      ...                                            \n",
      "2024-12              0.470993  ...           0.176046                   NaN   \n",
      "2025-01             -0.118249  ...           0.459825                   NaN   \n",
      "2025-02              0.004128  ...          -0.412043                   NaN   \n",
      "2025-03              0.468122  ...          -0.275996                   NaN   \n",
      "2025-04             -0.060430  ...           0.380882                   NaN   \n",
      "2025-05              0.342600  ...           0.533451                   NaN   \n",
      "2025-06             -0.421732  ...          -0.167703                   NaN   \n",
      "2025-07             -0.650596  ...           0.661295                   NaN   \n",
      "2025-08             -0.960375  ...          -0.455505                   NaN   \n",
      "2025-09                   NaN  ...                NaN                   NaN   \n",
      "\n",
      "           PFBCOLOMBIA_Precio cierre  PFCEMARGOS_Precio cierre  \\\n",
      "YearMonth                                                        \n",
      "2024-12                     0.733177                  0.135863   \n",
      "2025-01                     0.958455                 -0.111791   \n",
      "2025-02                     0.974987                 -0.488419   \n",
      "2025-03                     0.777506                 -0.605613   \n",
      "2025-04                     0.953362                  0.293190   \n",
      "2025-05                     0.512444                  0.161061   \n",
      "2025-06                     0.919027                  0.150194   \n",
      "2025-07                     0.512249                  0.580176   \n",
      "2025-08                     0.977932                       NaN   \n",
      "2025-09                          NaN                       NaN   \n",
      "\n",
      "           PFCORFICOL_Precio cierre  PFDAVVNDA_Precio cierre  \\\n",
      "YearMonth                                                      \n",
      "2024-12                    0.264960                 0.314783   \n",
      "2025-01                    0.792927                 0.601613   \n",
      "2025-02                    0.863826                 0.938076   \n",
      "2025-03                    0.053921                 0.543523   \n",
      "2025-04                    0.724100                 0.521404   \n",
      "2025-05                   -0.058616                 0.619424   \n",
      "2025-06                   -0.180632                 0.079122   \n",
      "2025-07                    0.505868                -0.351453   \n",
      "2025-08                    0.954789                 0.976917   \n",
      "2025-09                         NaN                      NaN   \n",
      "\n",
      "           PFGRUPARG_Precio cierre  PFGRUPOSURA_Precio cierre  \\\n",
      "YearMonth                                                       \n",
      "2024-12                  -0.265076                  -0.115372   \n",
      "2025-01                  -0.014430                   0.956589   \n",
      "2025-02                   0.890935                   0.922473   \n",
      "2025-03                  -0.190793                   0.100546   \n",
      "2025-04                   0.306273                  -0.163864   \n",
      "2025-05                   0.059441                   0.233821   \n",
      "2025-06                   0.073926                   0.100651   \n",
      "2025-07                  -0.636907                  -0.220914   \n",
      "2025-08                  -0.665360                  -0.275940   \n",
      "2025-09                        NaN                        NaN   \n",
      "\n",
      "           PROMIGAS_Precio cierre  TERPEL_Precio cierre  \n",
      "YearMonth                                                \n",
      "2024-12                 -0.048672             -0.078926  \n",
      "2025-01                 -0.685147              0.020825  \n",
      "2025-02                  0.076774              0.788476  \n",
      "2025-03                 -0.171147              0.110226  \n",
      "2025-04                 -0.123677              0.620450  \n",
      "2025-05                  0.545555             -0.270615  \n",
      "2025-06                  0.639629             -0.193695  \n",
      "2025-07                 -0.284518              0.623783  \n",
      "2025-08                  0.763813              0.969623  \n",
      "2025-09                       NaN                   NaN  \n",
      "\n",
      "[10 rows x 38 columns]\n"
     ]
    }
   ],
   "source": [
    "print(\"\\n📌 Monthly Correlation with\", target_stock)\n",
    "print(monthly_corr.tail(10))  # Show last 10 months\n"
   ]
  },
  {
   "cell_type": "code",
   "execution_count": 15,
   "metadata": {},
   "outputs": [
    {
     "data": {
      "application/vnd.plotly.v1+json": {
       "config": {
        "plotlyServerURL": "https://plot.ly"
       },
       "data": [
        {
         "coloraxis": "coloraxis",
         "hovertemplate": "Month: %{x}<br>Stock: %{y}<br>Correlation: %{z}<extra></extra>",
         "name": "0",
         "type": "heatmap",
         "x": [
          "2020-03",
          "2020-04",
          "2020-05",
          "2020-06",
          "2020-07",
          "2020-08",
          "2020-09",
          "2020-10",
          "2020-11",
          "2020-12",
          "2021-01",
          "2021-02",
          "2021-03",
          "2021-04",
          "2021-05",
          "2021-06",
          "2021-07",
          "2021-08",
          "2021-09",
          "2021-10",
          "2021-11",
          "2021-12",
          "2022-01",
          "2022-02",
          "2022-03",
          "2022-04",
          "2022-05",
          "2022-06",
          "2022-07",
          "2022-08",
          "2022-09",
          "2022-10",
          "2022-11",
          "2022-12",
          "2023-01",
          "2023-02",
          "2023-03",
          "2023-04",
          "2023-05",
          "2023-06",
          "2023-07",
          "2023-08",
          "2023-09",
          "2023-10",
          "2023-11",
          "2023-12",
          "2024-01",
          "2024-02",
          "2024-03",
          "2024-04",
          "2024-05",
          "2024-06",
          "2024-07",
          "2024-08",
          "2024-09",
          "2024-10",
          "2024-11",
          "2024-12",
          "2025-01",
          "2025-02",
          "2025-03",
          "2025-04",
          "2025-05",
          "2025-06",
          "2025-07",
          "2025-08",
          "2025-09"
         ],
         "xaxis": "x",
         "y": [
          "Fecha",
          "BBVA_Precio cierre",
          "BCOLOMBIA_Precio cierre",
          "BHI_Precio cierre",
          "BMC_Precio cierre",
          "BOGOTA_Precio cierre",
          "BVC_Precio cierre",
          "CELSIA_Precio cierre",
          "CEMARGOS_Precio cierre",
          "CNEC_Precio cierre",
          "CONCONCRETO_Precio cierre",
          "CORFICOL_Precio cierre",
          "ECOPETROL_Precio cierre",
          "ENKA_Precio cierre",
          "ETB_Precio cierre",
          "EXITO_Precio cierre",
          "FABRICATO_Precio cierre",
          "GEB_Precio cierre",
          "GRUBOLIVAR_Precio cierre",
          "GRUPOARGOS_Precio cierre",
          "GRUPOAVAL_Precio cierre",
          "GRUPOSURA_Precio cierre",
          "GXTESCOL_Precio cierre",
          "HCOLSEL_Precio cierre",
          "ICOLCAP_Precio cierre",
          "ISA_Precio cierre",
          "MINEROS_Precio cierre",
          "NUTRESA_Precio cierre",
          "PEI_Precio cierre",
          "PFAVAL_Precio cierre",
          "PFBCOLOMBIA_Precio cierre",
          "PFCEMARGOS_Precio cierre",
          "PFCORFICOL_Precio cierre",
          "PFDAVVNDA_Precio cierre",
          "PFGRUPARG_Precio cierre",
          "PFGRUPOSURA_Precio cierre",
          "PROMIGAS_Precio cierre",
          "TERPEL_Precio cierre"
         ],
         "yaxis": "y",
         "z": [
          [
           0.39900239014945,
           0.059802634488944906,
           -0.3920311971745591,
           -0.420907205611656,
           0.7913803606261647,
           0.9369948489467771,
           -0.9628980626094729,
           -0.44061088965973355,
           0.946739680254395,
           0.873196629711945,
           -0.601987998886975,
           -0.43956186010050197,
           -0.784956405035374,
           -0.8970505467488862,
           -0.5412299477395958,
           0.4082032408693031,
           -0.7464675342600556,
           0.9040513121497956,
           0.34707255460353115,
           0.5896852485859881,
           -0.7192269939141491,
           -0.26023325626328503,
           0.8131628079932471,
           -0.3169871566083639,
           0.815810724434988,
           -0.7899660323996699,
           -0.441216518562866,
           -0.9773419065194429,
           -0.663730167016341,
           -0.24661862808252208,
           -0.8592933038829368,
           0.45979904076306094,
           0.1325002912556953,
           0.5566135428922243,
           -0.09497542810549649,
           -0.9459405685295216,
           -0.7478488213939255,
           0.042218807413512034,
           -0.9518839960427393,
           -0.5081423042446097,
           0.7840613999340336,
           -0.9418000608984795,
           0.8184471828265847,
           -0.27531779146690266,
           0.9494485831054313,
           0.8387295077006865,
           0.233027839115475,
           0.1723252127977144,
           0.6240984935937212,
           -0.513296586469765,
           0.5362324345479188,
           -0.803547345121259,
           -0.9334547285746742,
           0.5706729671570165,
           -0.5029520113165764,
           0.8244269372174222,
           0.7993814151295604,
           -0.3653552275735569,
           0.6349726300197325,
           0.9295789639103076,
           0.49477126071274974,
           0.2076313662091901,
           -0.25661861699563415,
           0.5491120375880993,
           0.8610566849826549,
           0.9636605187447753,
           null
          ],
          [
           null,
           null,
           null,
           null,
           null,
           null,
           null,
           -0.00983069783959235,
           0.6619032435248781,
           0.41178160997913904,
           -0.5534715088958012,
           0.32870068808459657,
           null,
           0.5663318745633298,
           -0.20590201251875695,
           null,
           null,
           0.9272628744115188,
           -0.21584580320311425,
           0.017141850142714337,
           0.46629870107715177,
           -0.6740129767162006,
           0.75413436149711,
           -0.7778688740423635,
           0.580609037395633,
           null,
           0.7115425073219627,
           0.8687881872864055,
           0.6568990124423784,
           0.1776488583653825,
           -0.4732324551379426,
           -0.06260319527737596,
           0.02940498095615691,
           null,
           0.34545158432595574,
           0.662174885704761,
           0.04148923654495479,
           0.22643299619354484,
           null,
           -0.09186801359867404,
           -0.6848118252056831,
           0.3293620032045424,
           0.7982384147587686,
           0.47333668879936325,
           null,
           null,
           0.011152400218566996,
           null,
           -0.6542542479860801,
           -0.07772030760939205,
           -0.6094942599811711,
           null,
           null,
           0.30388363685705805,
           0.47850031424403994,
           -0.4456851672246281,
           0.132791210698278,
           0.20496045237207436,
           null,
           -0.7769422114819059,
           null,
           null,
           -0.44641817546925106,
           null,
           null,
           null,
           null
          ],
          [
           0.9147693362460754,
           0.868561582627514,
           0.8840014320254236,
           0.9560019745759764,
           0.5380473494793436,
           0.9180209430221652,
           0.976841891752351,
           0.6843473987129108,
           0.9661319353527373,
           0.9773230781068636,
           0.7647606783913002,
           0.7944599003180702,
           0.7221983672798057,
           0.8272840879262702,
           0.9294132164795376,
           0.08098201460646548,
           0.22830973784972114,
           0.9949105862840971,
           0.962941351951111,
           0.8318305214952433,
           0.9621491863043281,
           0.8470284989325648,
           0.9821271878880571,
           0.8233836325461457,
           0.9588925678804754,
           0.9083370466871282,
           0.7464886905558961,
           0.9557806173783532,
           0.2066684171834643,
           0.8554488126059347,
           0.8513940803643885,
           0.6528860041651485,
           0.5535572464810913,
           0.1995411739210555,
           0.8990082228105634,
           0.9202484072380472,
           0.9462105399774084,
           0.8664819620935789,
           0.9590245390338942,
           0.9552914860323409,
           0.9275685535101595,
           0.950436731640428,
           0.8325187149468349,
           0.738292272230357,
           0.2725598473335571,
           0.8214001289806756,
           0.39429208214368616,
           0.6993022824438248,
           0.8966725942114987,
           0.860699349534896,
           0.921176368831639,
           0.8129679370270808,
           -0.7556979607107307,
           0.7863072767161768,
           0.6014493490785582,
           0.9275178775690662,
           0.8329004526524153,
           0.7578210221994071,
           0.9502090913687269,
           0.9656383096090528,
           0.8845286689540616,
           0.801232426951624,
           0.8490883333633658,
           0.8670313427585983,
           0.7298236881610991,
           0.9238010999487302,
           null
          ],
          [
           null,
           null,
           null,
           null,
           null,
           null,
           null,
           null,
           null,
           null,
           null,
           null,
           null,
           null,
           null,
           null,
           null,
           null,
           null,
           null,
           null,
           null,
           null,
           null,
           -0.5986965755445466,
           0.4422277299033306,
           0.033394567174077225,
           0.929535968156151,
           0.37639936156849685,
           0.45971489322916304,
           0.6044093897279665,
           0.45233132831720485,
           -0.23990713582575315,
           -0.5053759804731525,
           0.6002249744316805,
           0.9475335840073593,
           0.17983284984703965,
           0.6558467615217372,
           0.9030386827852429,
           -0.3384555830983087,
           0.7370828007818901,
           0.5240326292431996,
           -0.6601176138792142,
           -0.37845163848147667,
           -0.29217974573430555,
           0.16131993552715027,
           0.7842971467457825,
           -0.08278010383069406,
           0.8457863432494267,
           0.15605639214382713,
           0.16468008740287246,
           -0.6359201455120296,
           0.8811202397616107,
           0.8364152085409035,
           -0.05527142265978324,
           0.34264228631302357,
           -0.5499547589790623,
           0.1674882618570538,
           0.19875500434770899,
           0.8587916369861438,
           0.2537127085247286,
           0.49514830474266375,
           -0.36747558987548024,
           0.11724812235830594,
           0.24693856492405902,
           0.6869617837966258,
           null
          ],
          [
           null,
           null,
           null,
           null,
           null,
           null,
           null,
           null,
           null,
           null,
           null,
           null,
           null,
           null,
           null,
           null,
           null,
           0.8398264241696032,
           null,
           null,
           null,
           null,
           null,
           null,
           null,
           null,
           null,
           null,
           null,
           null,
           null,
           null,
           null,
           null,
           null,
           null,
           null,
           -0.15160162900884147,
           null,
           null,
           null,
           null,
           null,
           -0.029757408219575572,
           null,
           null,
           null,
           null,
           null,
           null,
           -0.04265406052527011,
           null,
           -0.3567512362228225,
           null,
           null,
           null,
           null,
           -0.5401366681511667,
           null,
           null,
           null,
           -0.14697660874940138,
           null,
           0.2710388498988168,
           -0.35891665490595287,
           0.6295530549863881,
           null
          ],
          [
           0.751578047661568,
           0.4146417684651228,
           0.600387474772242,
           0.3456821494026168,
           0.9201119903008428,
           0.9726171300515648,
           0.6366481236536793,
           0.06260955781887959,
           0.7383660153044326,
           0.8678680342667856,
           -0.5955412643542776,
           -0.001522262803583862,
           0.27729949123214426,
           0.07965655696889502,
           0.6160678822590584,
           -0.15334187040097513,
           0.7055454068911986,
           0.9080121093384367,
           0.030296903154051095,
           0.3655578630959814,
           0.6156972649288189,
           0.23481013237101142,
           0.8337308758082416,
           0.14556753216685975,
           -0.6943378766941242,
           0.5640878824201003,
           -0.1162478772302471,
           0.9067573481827557,
           0.8615511484906802,
           0.641158376504326,
           0.9426022190378138,
           -0.4141582847087483,
           0.1417007866667897,
           0.7265047208289831,
           0.6305079925014608,
           0.8810047492545828,
           -0.6923569822734403,
           0.6787154303584501,
           0.8876742506564573,
           0.7062982535283425,
           0.3445722566554869,
           0.826528599610037,
           -0.18205596268089258,
           0.7937668570287298,
           -0.6989421157325268,
           0.7584225543523431,
           0.2290595881932056,
           0.561402497940282,
           -0.5403277120344984,
           0.3876930530317983,
           -0.16751556724292666,
           0.6434904682586201,
           0.6364746509804242,
           0.4438079075682196,
           0.39711743766199425,
           0.4451695767467858,
           -0.13057340920143373,
           0.45927351639991815,
           0.8496368562442514,
           0.8399610310281432,
           0.48333804284374526,
           0.7872472717433434,
           0.18998462242743316,
           -0.2560169834521267,
           0.5139910890717448,
           0.9299924569761056,
           null
          ],
          [
           0.28345277573963457,
           -0.08080100649050524,
           0.3898732228151284,
           0.09018521552052253,
           0.6321006793103071,
           0.5898715489409047,
           0.6536266074669614,
           0.3975886284946951,
           0.8206688170275548,
           0.784471495868079,
           0.29120578911217637,
           0.09335833003205238,
           0.15569629550039193,
           -0.15843931047339477,
           0.0327088645011016,
           -0.17486705323887655,
           0.6417288489070068,
           -0.15552838403277902,
           0.4637268892725111,
           0.7320048626755443,
           0.8544989067742118,
           0.43945736704309957,
           0.9343038427463035,
           0.6181272703599713,
           -0.3738692487579639,
           0.2440298558462848,
           0.6866095911484777,
           0.9534991416226433,
           0.614892353716841,
           0.15692143103083198,
           0.28353073592800976,
           -0.17222208627224814,
           -0.5502059264160604,
           -0.3271059557606392,
           -0.5274411598159936,
           -0.7178361460999914,
           -0.856170587363699,
           -0.059990016623894776,
           -0.5270960969161697,
           0.28341862578291754,
           0.7462703785663567,
           0.328508387476906,
           -0.07714699879104443,
           -0.03993339678856988,
           0.9398200066923184,
           0.45123265491866826,
           -0.05602307095144992,
           0.20493524099852556,
           0.4250034454310689,
           0.4123088978326254,
           0.34033908137023267,
           -0.5525815391996942,
           null,
           -0.4962101771516887,
           0.5980437958030483,
           -0.39958985013929715,
           -0.27255871622033107,
           0.2021253670443726,
           0.8963512331040693,
           0.5486025160517555,
           0.6097534594774168,
           -0.5096924223076812,
           -0.08244460431195706,
           -0.23224334716550982,
           0.0797530046769023,
           0.9155575545912711,
           null
          ],
          [
           0.8244942520089868,
           0.4971738978295845,
           0.7536750791825713,
           0.6457434269156925,
           0.9165562721724733,
           0.9715857567245128,
           0.4427680345497328,
           0.7493723623613572,
           0.7864889729948887,
           0.6411078751482964,
           -0.28051973420784115,
           0.4730582787080477,
           0.2397607503742662,
           0.9445038109724679,
           0.8601267242168985,
           0.04855912699722846,
           0.8998963126553753,
           0.9045099501518374,
           0.38782554297246635,
           0.3510734201131366,
           0.6363699465386523,
           0.4489640443806801,
           0.873019372668311,
           0.3877264006673141,
           0.6584543786813265,
           0.5501231879421374,
           0.3488741105218606,
           0.9726360570910705,
           0.7178090991721132,
           0.7706533939587278,
           0.8439941148330912,
           -0.34836227012575516,
           0.5270922217225573,
           0.20606415866863165,
           0.8008203174820077,
           0.6905051027669412,
           -0.5755892435232003,
           0.5353934233098601,
           0.7425622538874501,
           0.7206738014902492,
           -0.058272742749761464,
           0.7703255368387436,
           0.5602378745966394,
           0.4107531130948172,
           0.6240115967671815,
           0.8914099433936052,
           0.23273977377360666,
           0.6633155965911277,
           0.3936376710422566,
           0.7199685239564533,
           0.8053717676818717,
           0.6475276690755698,
           0.5916885055546539,
           0.6763087125601799,
           0.7555846038590117,
           -0.4511202576986655,
           -0.4689786156168629,
           0.19564428716601312,
           -0.27465678051138265,
           0.8290802850170322,
           0.6579373409850984,
           -0.25221658918977186,
           0.22258168229116726,
           0.565729869760159,
           0.6695209150428068,
           0.5112964356432793,
           null
          ],
          [
           0.9823662027029123,
           0.16479028431589365,
           0.6146761698347913,
           0.8059574052689641,
           0.9608320512376908,
           0.9805848467012525,
           0.9094460210215797,
           0.8274312582615927,
           0.9431099384207727,
           0.9432504436696176,
           0.29624516251196864,
           0.40206181517212763,
           0.8842914497508001,
           0.4332636673774037,
           0.9584190958580905,
           0.7353401040239378,
           -0.004371024481429493,
           0.9267415350840652,
           0.5026474848139352,
           0.7380822540595351,
           0.7258229236391696,
           0.1576326906731231,
           0.901885499264113,
           0.3078912068024948,
           0.6454745623296724,
           0.8275801423172766,
           0.8428860093462158,
           0.9615560162387363,
           0.8371611636403926,
           0.4562860950485049,
           0.8082230056295451,
           -0.0345365705132524,
           0.45548655122697296,
           0.2568517128555497,
           0.5646659826722896,
           0.6468952081426953,
           -0.684312193406228,
           0.8244455566794846,
           -0.28975829541804426,
           0.8895462636274041,
           0.8242825064439714,
           0.9249586827007865,
           0.658440732081775,
           -0.06041326964556361,
           0.9198176542511223,
           0.6901281255019327,
           0.6391952983936985,
           0.6430461263358006,
           0.7603951350740108,
           0.6843182459863449,
           0.5298121340299407,
           -0.17000298423345578,
           0.27364043955381634,
           0.7942986681458027,
           0.44742464924620534,
           0.7312145074757481,
           0.8819314099587171,
           -0.10060427412303749,
           0.09539584673528775,
           -0.1317474003045663,
           0.4662710311432986,
           0.6252405430996067,
           0.2866652158275449,
           0.23331415614189643,
           0.1321241580330219,
           -0.18283498539346046,
           null
          ],
          [
           0.513040830110947,
           -0.03519347188649843,
           0.03162480242087356,
           0.5125836614310278,
           0.037648842942022843,
           0.7143345467266661,
           0.29948115924234564,
           -0.32101413822257474,
           0.8483716877714644,
           -0.540080407696423,
           -0.5583492647194436,
           0.5568446067296933,
           -0.09182600042503135,
           0.14797777909424112,
           0.26342407771651766,
           0.6186073266108364,
           0.8562398220710115,
           -0.5856432212721512,
           0.18140677896003737,
           0.6841874419313151,
           0.7598076622601441,
           0.3056261352726547,
           0.15636901283110732,
           0.507201427428592,
           -0.39504241634731735,
           0.8928726217681243,
           0.757311914949512,
           0.8864671604119618,
           0.5546741155167102,
           -0.11932064994895587,
           0.9422610700616935,
           0.605341190206075,
           0.23404317317335616,
           0.5990300915196765,
           -0.34018221290734213,
           0.9247471427068047,
           0.6350882315576097,
           -0.12551501190181893,
           -0.8386665610605358,
           0.5615409570891023,
           0.6049629698926987,
           0.9027736476848599,
           -0.7682483852267288,
           0.6014357279908717,
           0.3420483869247795,
           0.3263932339958326,
           -0.1684989618943466,
           0.1166210774138216,
           -0.4105897202873062,
           -0.17511376669947562,
           0.06035452434587991,
           -0.40387924945988735,
           0.2799987172437249,
           0.06568099299451029,
           0.8505880679092073,
           -0.7369474650770007,
           0.9075151055442907,
           0.4709931991296984,
           -0.11824855922245199,
           0.004128481862320518,
           0.4681221321980431,
           -0.06043040657311075,
           0.3426002156268398,
           -0.4217323683515792,
           -0.6505957712778425,
           -0.9603749645915926,
           null
          ],
          [
           -0.43477189504572883,
           -0.027478961431614074,
           0.622395268267337,
           0.3401213299963925,
           0.6950636472698191,
           -0.03725682379345422,
           0.758714189560006,
           0.43134115020423885,
           0.8386673274975287,
           0.44857852385149893,
           -0.07248749467089688,
           -0.32159107738159004,
           0.468290594150728,
           0.9336078139815193,
           0.6049272553662481,
           0.16178352070200225,
           0.7686133479668489,
           0.7788943807649168,
           -0.37454512693275527,
           -0.6660786995273318,
           0.6787879987579709,
           -0.7360265056594993,
           0.6218952746422926,
           0.7730300757097092,
           -0.11474954872633358,
           0.7352351983286975,
           0.6494820377300339,
           0.9145020913086622,
           0.5678401237446411,
           0.7931981107920454,
           0.0033630051639033996,
           -0.3535606728268256,
           0.3526587704492095,
           -0.3333752481898674,
           -0.041128373713608314,
           0.9098472987293316,
           -0.1565232943697184,
           0.6476755091870575,
           0.4984862074743661,
           0.30607335005631114,
           0.6490328138764708,
           0.8452778519034556,
           0.4662090519165709,
           -0.6520815553463326,
           -0.7536469410430651,
           0.8393695219612526,
           0.4280414896602787,
           0.020355996006125223,
           -0.24688914906964612,
           -0.19572463478323895,
           0.5602810744130307,
           0.5769997811056273,
           0.6483433842942545,
           0.7063630321247711,
           0.8117366087779252,
           0.6067502968214509,
           0.4748624421437074,
           -0.44719934823378976,
           0.28858986283005617,
           -0.8957941352211368,
           -0.340262739764024,
           0.5859152111489077,
           0.15699777156282116,
           0.16491735291255455,
           0.31080899437293036,
           -0.7876977375348222,
           null
          ],
          [
           0.9306382247765811,
           0.4712496959327532,
           0.7544820687067121,
           0.47696166483228913,
           -0.5245006538086688,
           0.8687639600730563,
           0.8558746210075646,
           -0.16330648210534376,
           0.9054389893057541,
           0.8499786947943851,
           -0.3615934474779031,
           -0.020717931427641872,
           0.07887888697518106,
           0.25940500667305266,
           0.7068747708062976,
           0.4862232788688399,
           0.8601629746323921,
           0.5511873036586284,
           0.05860658181857829,
           0.7810343028063698,
           0.8405868647175675,
           0.48289566087773633,
           0.897243613673292,
           0.30364059197264914,
           0.5166537259480264,
           -0.7837674807371777,
           0.6424667145769627,
           0.9621076346918401,
           0.8616144988239812,
           -0.2759396834370825,
           0.7498962339001645,
           -0.01961027737858101,
           0.5868247547815144,
           -0.2948579454662275,
           0.6411532786953645,
           0.9370836745294822,
           -0.07103853160431035,
           0.49383325228255553,
           -0.7113563766932189,
           0.827430649760065,
           0.8511408317445119,
           0.9196490541867136,
           0.8684172245145138,
           0.39824112986122573,
           -0.7740316909400813,
           0.7683544040652454,
           0.7826448970629473,
           -0.00877742104159363,
           -0.14062251983765298,
           0.34902087521670133,
           0.8572189709860893,
           0.8657515615805876,
           0.8894265664430316,
           0.2989392003219661,
           0.46014380325572923,
           0.9224004782549496,
           0.384815023387167,
           0.04003741545633434,
           0.7778501989344385,
           0.9328031818624035,
           -0.3452640826154276,
           0.7382649799917999,
           0.16443541447316806,
           0.22654081551858946,
           -0.3182087095184173,
           0.6888253646152775,
           null
          ],
          [
           0.9512665423073577,
           0.48936648556471823,
           0.49151073985878774,
           0.9592597726703559,
           0.8513969188286692,
           0.22647427999055364,
           0.9120491415104065,
           0.8644985932385137,
           0.9442893029774257,
           0.8351535840973595,
           0.9208688670222106,
           -0.13907304345059426,
           0.11850525420381577,
           0.5655021597409394,
           0.8855441119249845,
           0.6297263545412152,
           0.6699666810533959,
           0.3423448804113266,
           0.9398247195406063,
           0.8845283487647352,
           0.7589190046348904,
           0.47002214174729456,
           0.9625591194950343,
           0.05960453034912972,
           0.9086565378401521,
           0.836986954675086,
           0.8998289751325116,
           0.970701718260828,
           0.7740374722985286,
           0.08337665668723097,
           0.9332117647576806,
           0.8927552278096155,
           0.3019200843446859,
           0.9143415259123068,
           0.7389857062069459,
           -0.2944042501651914,
           0.9516288490342996,
           0.570846896943851,
           0.06385037786427888,
           0.38629757710644425,
           0.7575768854321436,
           -0.3648648444219786,
           -0.052654008975459694,
           0.6649832075204744,
           0.7332909309896573,
           -0.5597141739730196,
           0.08748932559768172,
           0.761434434186884,
           -0.3296775197582219,
           0.2680524967383044,
           0.523992143242834,
           0.28457944493938353,
           0.8542121013641234,
           -0.07141095730379313,
           0.6549988790469635,
           -0.8443918294933838,
           0.8116406690303797,
           0.36409237193849314,
           0.7764649053047825,
           0.6006193969000966,
           0.7200154347715496,
           0.30074668786034536,
           0.4937601578872774,
           -0.14878473943187592,
           -0.5204374346587161,
           0.8060403218082612,
           null
          ],
          [
           null,
           0.20928537621510532,
           -0.5419655650021461,
           -0.07541946124132233,
           0.49936240396889636,
           -0.829284685361816,
           0.49567057934330494,
           null,
           -0.6304065165964948,
           0.6794463686606643,
           0.5247812238226292,
           -0.6251384004828779,
           -0.7028256479304504,
           -0.1888230182773623,
           0.10180819012835236,
           -0.21458485809235014,
           0.5907240124258374,
           0.9397965139516105,
           0.043630428514478556,
           0.18999559897019033,
           0.8541041342334554,
           0.6562721834894747,
           0.7121681842030108,
           -0.06912333650844125,
           -0.7731268773782666,
           0.2296349136499535,
           0.6410301806576602,
           0.9674217234189338,
           -0.045170526658523134,
           0.2100871779237566,
           -0.8402088453317871,
           0.3805005791994869,
           -0.23086080864393557,
           -0.35633907056427194,
           null,
           0.8230734645200677,
           -0.6779621159920417,
           0.01336894090951586,
           0.9046068778556369,
           -0.2296811089324334,
           -0.9262684064884856,
           0.8345711084882894,
           null,
           null,
           -0.7008757160795782,
           -0.7376468991682502,
           0.14823959400985895,
           null,
           -0.27908137252871645,
           0.10030050516093435,
           -0.36454289911863047,
           0.7184077420743963,
           0.6861376801504498,
           0.018711278371812048,
           -0.07214107682302996,
           0.2958632806683172,
           -0.6795776232432581,
           0.295933696873903,
           0.7200608026533758,
           0.5424813774083558,
           0.6584347643215106,
           0.4858016396331641,
           0.39613455662057195,
           0.28938913579330966,
           0.36865818077603363,
           0.21342498796934298,
           null
          ],
          [
           0.44110413810593224,
           0.35320120692912277,
           0.2914322691720071,
           0.29980174224351336,
           0.1829338402929877,
           0.43167346085147207,
           0.2351676236476506,
           -0.01290599934401097,
           0.8883388339987659,
           0.3277715685355026,
           0.411644181918155,
           -0.27001008928985165,
           0.5404169234893981,
           0.6320319354349142,
           0.7643859909877793,
           -0.06266275984358372,
           0.5882042959976818,
           0.6248046624691043,
           0.1475900723253708,
           0.20535427467701028,
           0.6613707160591126,
           0.7379123280837198,
           -0.4908225158327336,
           -0.04623504725267015,
           -0.4798355163438606,
           0.8039921919841349,
           0.23622650737361375,
           0.22018469095497845,
           0.5436529794471936,
           0.6026737781616677,
           0.5633445736551463,
           -0.5166770482189543,
           -0.1629847433591858,
           -0.45179777717402525,
           0.30126694351703,
           null,
           0.3661070028685338,
           0.2258740907775649,
           -0.3144951406661076,
           -0.03969944080378795,
           -0.6495972652844842,
           -0.49315763517376243,
           null,
           -0.3234813417573972,
           -0.6534166221923556,
           0.7300583167387047,
           -0.1375289667395601,
           -0.4815564750796608,
           null,
           -0.4250638857138932,
           0.10569455948852426,
           -0.32559635987535346,
           0.8447264267752899,
           null,
           0.06394124395466433,
           null,
           -0.4724615320432732,
           null,
           -0.4698391391119146,
           -0.4503803005052988,
           -0.49327870801163215,
           null,
           -0.26045581561905196,
           -0.1943228647007211,
           -0.7466912364312164,
           -0.7846791520409527,
           null
          ],
          [
           -0.26462437192109844,
           -0.46663871646952626,
           -0.09781287679235202,
           0.6365418051747318,
           0.2936801869833433,
           0.9209264156570047,
           0.8724719455028359,
           0.5378975967371198,
           0.8475568953089614,
           0.5755144568669585,
           -0.24718975698071594,
           0.1398089844163338,
           0.143725571331217,
           0.7473537873651236,
           0.6704650515747158,
           0.6034093659396536,
           0.1254011331776641,
           -0.056973516920464005,
           -0.19679839874705501,
           0.1147078748683636,
           0.44519567817119715,
           -0.07773784434681304,
           0.8931123446416357,
           0.1510741304501554,
           0.33606711723026605,
           0.5491608929713042,
           0.6506930527119256,
           0.9386934227395289,
           0.7120511480526229,
           0.08818420910403743,
           0.6909435886490658,
           -0.14369159451220742,
           0.2553839262241281,
           -0.6266257233139189,
           0.267695705869727,
           -0.634245895078912,
           -0.6056371034949717,
           -0.35322655624722854,
           -0.6545014623565641,
           -0.3477999294306983,
           0.26611244248461674,
           0.8691225578763419,
           -0.04419877159657748,
           -0.05875101676665183,
           -0.4529142372115918,
           -0.27971617137512456,
           0.08864151701316461,
           0.3364598762345343,
           0.35493944340841954,
           0.6596023559593585,
           -0.5676113799004802,
           0.6728629978103781,
           -0.4707324514554935,
           0.3617569421699305,
           0.4096524045164318,
           0.1940984262020033,
           -0.8486722459152997,
           -0.07775328688768175,
           -0.4980378858978029,
           0.34400899944796914,
           -0.21771721471660938,
           0.4791533134201346,
           -0.30715757984745967,
           -0.05894616842544918,
           0.5045429108329417,
           0.8505299664082279,
           null
          ],
          [
           null,
           0.07918957290585045,
           null,
           0.03349479285659378,
           0.1924124747746197,
           0.4742385002947072,
           0.8115979474108769,
           null,
           0.7422939006449961,
           0.2663856544480489,
           0.6888417027296976,
           0.46442279572471085,
           0.6990873695579182,
           null,
           -0.6533565286454929,
           -0.2948160196255321,
           -0.03959390475479149,
           0.49358624622625985,
           0.7534043022034911,
           -0.22578138114605795,
           0.618258718130967,
           -0.6809034628334308,
           0.8455493031015529,
           -0.37041573307112163,
           -0.38200360886971274,
           -0.002506902747328293,
           0.792593153400427,
           0.7323980985114471,
           -0.34230549391475296,
           -0.3507626212996407,
           0.8204399699763529,
           0.5658124349722959,
           -0.4518013059956824,
           -0.529671106796041,
           -0.5025897054524021,
           null,
           0.751017266715055,
           -0.1855461665332469,
           0.7821851106686275,
           null,
           null,
           0.8606263131253856,
           null,
           null,
           null,
           null,
           -0.4001778347678223,
           -0.6262573911530342,
           0.2522729735755571,
           null,
           0.1507132614769525,
           null,
           null,
           null,
           null,
           -0.22577172913190424,
           null,
           0.5211638144963237,
           -0.4041093801052246,
           0.7968375280775827,
           null,
           null,
           null,
           0.6993808519406014,
           null,
           null,
           null
          ],
          [
           0.422487493749456,
           0.740071464555132,
           0.39956602240496497,
           0.12911439110414166,
           -0.06481666680356826,
           0.9398486459463153,
           -0.3498540729402688,
           0.8602060116958619,
           0.8671574574225699,
           -0.47929280997205276,
           -0.1939673481381473,
           0.4295526118680593,
           -0.3760627582173581,
           0.5774371100263452,
           0.8796731983487396,
           0.4290002294804145,
           0.3601746748073454,
           0.9515860788929407,
           0.42959997393739624,
           0.18718326259736093,
           0.7894959269202815,
           0.5529092731269787,
           0.9270826565014628,
           0.47439508746512643,
           -0.1481728828632482,
           -0.30273318882833616,
           0.7448990019018048,
           0.9194124510239557,
           0.8173217542514652,
           0.6985259701172932,
           0.4976288909086596,
           -0.3900884031912757,
           0.1439446275558976,
           -0.4221522115193988,
           0.3931801408222589,
           0.8759068311398743,
           -0.13033722028807904,
           0.037554980458,
           0.22619044401953411,
           0.7790691435505581,
           -0.006790057112142522,
           0.6730921405353786,
           0.2863204652912968,
           -0.3175932641579332,
           0.9241300199497505,
           0.47607740860082715,
           0.9133914421229067,
           0.8591449768388335,
           0.3318142280267719,
           0.9583150519678587,
           0.5406689388901835,
           0.5426431795089807,
           0.7182945329076222,
           0.6039036024416412,
           0.1228754730359992,
           0.8239270829013807,
           0.9182154315044094,
           0.7104420381477426,
           0.8791638874078151,
           0.7425186040829059,
           0.8593184359803324,
           0.5189022682099074,
           0.03285385323056388,
           0.8028162353603447,
           -0.5703285968228117,
           0.6720443718371903,
           null
          ],
          [
           0.3016074584681601,
           0.639341868038865,
           0.7486731912301793,
           0.07619679638869391,
           0.6301581937775329,
           0.6924816568660238,
           0.8038107905805306,
           0.7013608577872835,
           0.9104918726917755,
           0.8820323709286491,
           0.9044241960414403,
           0.4665781232838726,
           0.2545941864733658,
           -0.5151779689564744,
           -0.08208287601083988,
           -0.4302326424713007,
           0.5362503594536706,
           0.7434891669000354,
           0.12063994430233457,
           -0.4531519977770346,
           -0.43417782930517146,
           0.1710346971731046,
           0.7288828857119839,
           0.40065597610828757,
           -0.1391773794703475,
           -0.4988922374250029,
           0.7375799336429507,
           0.9306189298644449,
           0.7630371228261741,
           0.4587953332693336,
           0.6742114784673885,
           0.7325529553505518,
           0.5493409585023801,
           0.2340812769928058,
           -0.08432962736587078,
           0.8369936477402039,
           -0.7899237555542767,
           -0.13062213395129288,
           -0.873742055435243,
           0.6288649328828458,
           -0.2814984797975697,
           0.7612726641008606,
           -0.28112642813963196,
           0.14002494800007687,
           -0.8415827756522242,
           0.7523371982991724,
           0.19836004902253032,
           -0.05135275036003595,
           0.7483154946338086,
           0.7333402556927837,
           -0.11459526493319233,
           0.5634072874743583,
           0.9012367138913131,
           0.468268671021248,
           -0.023945003520338008,
           -0.23484549037485097,
           0.21347874787483703,
           0.35711751366146066,
           -0.14249811791377226,
           0.9077601800744868,
           0.09373864666700875,
           0.12233226426015574,
           0.3772944830362078,
           0.7639024006281309,
           0.7303882124122972,
           0.9690380695425681,
           null
          ],
          [
           0.9338821192151133,
           0.42407473115155847,
           0.72945915703804,
           0.23599921051772588,
           0.9061591973134846,
           0.9769109936762659,
           0.8954082446759006,
           0.6270166859093305,
           0.9703566264672527,
           0.9732114752239487,
           0.6468900163503274,
           0.5850418800164651,
           0.91653754574105,
           0.9147106598387926,
           0.9415405220567621,
           0.7416445971952823,
           0.6836011065667018,
           0.9818097132594485,
           0.5629335957593513,
           0.9024922311587842,
           0.42035991409719736,
           0.7399900941181442,
           0.9797954644499359,
           0.6282351538938135,
           0.7672043495797353,
           0.17575776626706385,
           0.4649537795294233,
           -0.731363883514442,
           0.7791917288696557,
           0.5328032835118479,
           0.20921231853799865,
           0.5759129994714183,
           0.6669327174052008,
           -0.026983393584338357,
           0.8537962158024488,
           0.1651089860967419,
           0.6068281737617474,
           0.7391912825218645,
           -0.6835173725871878,
           0.23015001111435365,
           0.3473386595696613,
           0.8824499230427176,
           0.7798350583390874,
           0.5202268286820572,
           0.7906374814024133,
           0.8500104929142976,
           0.9144280461785439,
           0.8931621395991387,
           0.8785218622196529,
           0.38787865884668066,
           0.5509374336208547,
           0.2623877384417694,
           0.48759149374061733,
           0.6075333436362097,
           -0.3292097858673893,
           0.8026301932221593,
           0.7427589539158971,
           0.24864161218595374,
           0.08639764528267282,
           0.7449891388914794,
           0.3956430108215278,
           0.7313468472943491,
           0.05901448990887274,
           0.7226686346166306,
           -0.6415336745834745,
           0.4320659697304871,
           null
          ],
          [
           -0.0187826758675738,
           -0.5464131517355877,
           null,
           0.17107134898419218,
           -0.47178881352662566,
           0.33875360236753205,
           0.8095718545925352,
           0.494278668231688,
           0.9085171079087183,
           0.8749269625613797,
           0.8022038080679321,
           0.30002978710863487,
           0.4380328584009963,
           0.18670948450004396,
           0.516002146490219,
           0.13619011681376103,
           0.42382145222864315,
           0.9154633737643457,
           -0.82868174847327,
           0.7340671609531744,
           0.8614749562848207,
           0.4696336335225814,
           0.9105062038932017,
           0.2183638931964044,
           -0.6991850263819742,
           0.3247391546257102,
           0.15650892491672166,
           0.4831581706642394,
           0.7383128198902597,
           0.40828880127300465,
           null,
           null,
           null,
           null,
           null,
           null,
           null,
           null,
           null,
           null,
           null,
           null,
           null,
           null,
           null,
           null,
           null,
           null,
           null,
           null,
           null,
           null,
           null,
           null,
           null,
           null,
           null,
           null,
           null,
           null,
           null,
           null,
           null,
           null,
           null,
           null,
           null
          ],
          [
           0.9711917661588089,
           0.9642031147317955,
           0.5445683558063511,
           0.9304025610476888,
           0.5985976959229562,
           0.915360645689601,
           0.8257505374326183,
           0.8465824410035012,
           0.8949670357980712,
           0.961057531063722,
           0.9031334893068912,
           0.813505965595441,
           0.8870641554541853,
           0.8640185890039769,
           0.6640000403990302,
           -0.08642552775413066,
           0.8938127304054211,
           0.9687214026189255,
           0.8169046520881935,
           0.6392841629071256,
           0.1253529600474954,
           -0.008318174482465,
           -0.7168329989347239,
           -0.09748547570887585,
           0.531232390447268,
           -0.6063292633059311,
           0.015756617316356223,
           0.5516716339381186,
           0.448088569433349,
           0.2529938844187949,
           -0.6771211920588949,
           0.41545499080373716,
           0.28835434925709014,
           0.5020760044328042,
           0.02102866554764483,
           0.41390592846295,
           -0.4642105056980085,
           0.7628249046777501,
           0.903321164243162,
           0.6007241774426106,
           0.8436647436332656,
           0.777208136780591,
           -0.22625495680311059,
           0.14706616471110728,
           -0.8668023862118929,
           -0.5381154267079657,
           0.0019219116776534643,
           -0.36282539190214713,
           0.3912432184367651,
           -0.2448450453586228,
           0.014209447127434157,
           0.4232342135696227,
           0.81345442272263,
           0.28573111473118,
           0.5600471271570009,
           0.8771385234799817,
           -0.275226077343328,
           -0.16844390012271343,
           0.4017247491106119,
           0.9790837122451389,
           -0.05194092875419138,
           0.5080627373474813,
           -0.03745208780033801,
           0.6302768450225292,
           -0.4451246576444598,
           0.94356065875962,
           null
          ],
          [
           null,
           null,
           null,
           null,
           null,
           null,
           null,
           null,
           null,
           null,
           null,
           null,
           null,
           null,
           null,
           null,
           null,
           null,
           null,
           null,
           null,
           null,
           null,
           null,
           null,
           null,
           null,
           null,
           null,
           null,
           null,
           null,
           null,
           null,
           null,
           null,
           null,
           null,
           null,
           null,
           null,
           null,
           null,
           null,
           null,
           null,
           null,
           null,
           0.8145439437049743,
           0.15209451650754682,
           0.24649847254348256,
           -0.6498102889111576,
           -0.6427151872576051,
           0.7171354413316708,
           -0.2994795096941124,
           -0.521180255483377,
           0.531829740204423,
           0.42438619274377753,
           0.7527217598528724,
           0.5234352734446613,
           0.054110746591774915,
           0.04093957736755533,
           -0.3284815139954478,
           0.6758299908273767,
           0.7009569161086355,
           0.8065377834140706,
           null
          ],
          [
           0.984197333461241,
           -0.32762990728835734,
           0.39360195049147545,
           0.841015788472554,
           0.8713185344647423,
           0.9717408486646423,
           0.9443173261871626,
           0.8966062027683068,
           0.9800730989791634,
           0.9718183878070266,
           0.9661883796520636,
           0.7821329417640251,
           0.8544677537660352,
           0.9752734975728924,
           0.8865888830051949,
           0.8702480493743389,
           0.7760085361512938,
           0.9933314350891392,
           0.8928298464518903,
           0.8182031646746414,
           0.9761544403117618,
           0.7868892233371612,
           0.9625799341663934,
           0.7027250559807877,
           0.8950844934922195,
           0.7351211537846228,
           0.9570264933353372,
           0.954441471186065,
           0.8221934712828353,
           0.7380681146733515,
           0.610977926549051,
           0.6509462767777957,
           0.6949543385974827,
           0.01657995469590027,
           0.884569869433525,
           0.8312102273038359,
           0.9517736679030719,
           0.41487853604686076,
           0.47983367148787986,
           0.5484239045795717,
           0.8319905410102698,
           0.9234743585177073,
           0.8098855747361153,
           0.02908167023565345,
           0.9439915038167839,
           0.8934564910264831,
           0.873497666743896,
           0.526263847681071,
           0.7264028228971195,
           0.7194381017884159,
           0.8768643163982697,
           0.589531443229237,
           0.9171902442700217,
           0.8165505337154396,
           0.6022430129374872,
           0.8484571276345196,
           0.2245563283953945,
           0.5322771722191115,
           0.8285243286944995,
           0.9828430826834825,
           -0.1534490280072335,
           0.7674812664122423,
           0.2859406627178765,
           0.6920018046769116,
           0.9072471898534108,
           0.9497438992292363,
           null
          ],
          [
           null,
           0.9138379043570312,
           0.8950860964885831,
           0.9605899014163547,
           0.9810506760534426,
           0.9915557972898286,
           0.9859292205582061,
           0.9446155775308562,
           0.9958390173219626,
           0.9894127263970985,
           0.5784600125434864,
           0.789759076860648,
           0.9248460597833514,
           0.9756100413578567,
           0.9792921868771983,
           0.8745400324060795,
           0.9770298668884329,
           0.9925387029388839,
           0.9674271678415054,
           0.9513424937576918,
           0.9339505816292135,
           0.9454742084306266,
           0.9861736982732541,
           0.9594050406549615,
           0.989749549357541,
           0.8504967668145867,
           0.931573286017638,
           0.9908732428166618,
           0.9348138870914064,
           0.9686756011372002,
           0.988880523077752,
           0.6249557344336724,
           0.8655391023150801,
           0.8346667020171161,
           0.9416810669407527,
           0.92245937405198,
           0.9711109206242345,
           0.9116121663207655,
           0.9231764314168799,
           0.9650426117760221,
           0.9627685906354192,
           0.9755781233850991,
           0.9127162844538982,
           0.8706685830880909,
           0.9759851843599613,
           0.9020155089103236,
           0.941046404879587,
           0.9612729185676671,
           0.9438136586758196,
           0.9478272793410673,
           0.9624503969147099,
           0.7167443268641418,
           0.8850439115052381,
           0.9371834742260367,
           0.8845354411832915,
           0.9481144511356042,
           0.9774449007669604,
           0.5735008320497829,
           0.9963024198870974,
           0.997065199755213,
           0.5885314022530147,
           0.8305669812319629,
           0.908160546461977,
           0.8661641738421889,
           0.9374893311446632,
           0.9930696835817958,
           null
          ],
          [
           0.8906093403296707,
           0.48726819922695735,
           -0.07141810378289468,
           0.4094542054213301,
           0.7106468380669971,
           0.9273354828235963,
           0.8228043202917933,
           0.44396708824992337,
           0.5823076305993801,
           0.8656614191462645,
           0.9599331523616057,
           0.7087227691086075,
           0.759723202618506,
           0.8846791274681137,
           0.896224470495313,
           0.45159511488165843,
           0.9561055213900962,
           0.9013803099288177,
           0.5842849223694598,
           -0.14860326905681348,
           0.6959831820676305,
           0.8417805408615561,
           0.9336467743443818,
           0.26136507532294007,
           0.7752926318046162,
           0.8828058682873188,
           0.8183493786091431,
           0.8116663963193027,
           0.4183185057218896,
           0.7273892078881604,
           0.8634083427191702,
           0.3827316668348762,
           0.6215607836724086,
           0.7454481164287032,
           0.7744874446142295,
           0.8463241943599743,
           0.9016179694135178,
           0.1527643918809942,
           0.7676802846965428,
           0.7254200695362178,
           0.9184401990730212,
           0.8697615950603879,
           0.7418486650840558,
           0.3079269082022395,
           0.592924693792056,
           -0.14670632822342922,
           0.8386043236388377,
           0.7398253784542225,
           0.4628558358059211,
           0.7930313965453948,
           -0.18048641347464678,
           0.869636515206143,
           0.7113894927605507,
           0.8977937569954069,
           0.8561581675654922,
           0.8014481476430021,
           -0.2923129674114792,
           0.7232475574145049,
           0.9020996421077597,
           0.9283373846494793,
           -0.2264390351762202,
           0.6535004013961331,
           0.5860978772382561,
           0.46611128581336075,
           0.9030363658762395,
           0.9380808793442647,
           null
          ],
          [
           0.8252129120121747,
           0.02284993155564785,
           -0.17567812219227158,
           0.41023341989310286,
           0.8319426658536909,
           -0.45739248415961326,
           0.8765050126726245,
           0.14621705744194083,
           -0.1653648268322792,
           0.7916857223454401,
           -0.10785393483613902,
           0.289859772820696,
           -0.6545138825822561,
           0.3975288509104987,
           0.816039546256035,
           0.20956332222291674,
           0.7751541290649424,
           0.33345702229035246,
           0.6507036518230709,
           -0.002716122788261103,
           0.8898848206128834,
           0.2138784894779558,
           0.8862570460979705,
           0.8521159333926197,
           -0.3451418231888168,
           0.7799657781809076,
           0.7595395296705032,
           0.974878461627048,
           0.5969557991517446,
           -0.2935367191820032,
           0.8609024640212359,
           -0.41014688153856194,
           0.2297629022055354,
           0.43469861015860806,
           0.3087917214381801,
           0.6919381603359379,
           -0.1723971362250316,
           0.42638063423691425,
           0.5497808224041391,
           0.6215972335446949,
           0.8314393887766227,
           0.7491127930141505,
           -0.24708262263119588,
           0.6686501313578913,
           -0.8773953852239131,
           0.7726536627725246,
           0.599229745216944,
           0.4827933509936972,
           0.6685488563786423,
           0.27411778740316706,
           0.19303118257410498,
           -0.04983428217617817,
           -0.1282884738621733,
           0.5591436055775723,
           -0.0999572772422054,
           0.2868755467226494,
           0.8407266751837308,
           -0.2122682020334325,
           0.6603357182408839,
           0.8648335331504946,
           -0.17380724995645594,
           0.3315043889432349,
           0.5584920611453917,
           0.8456481794152252,
           0.7539146728476929,
           0.9358385994606709,
           null
          ],
          [
           0.9267274748628895,
           0.3765546763541,
           0.36391285747934105,
           0.6038961366384695,
           0.47969938997004974,
           0.8903728458136567,
           0.7242134737985253,
           0.43716259225049575,
           0.6883963023390164,
           0.33717212962404275,
           -0.5864247719372463,
           0.5121610265268219,
           -0.004889038405712706,
           0.8036468509994543,
           0.9256827696868731,
           0.31941634595022467,
           0.802196353484692,
           0.9479701997387184,
           0.39473460175742636,
           0.9277928940675746,
           -0.3774181076463062,
           0.6396541676199902,
           0.8968968672600942,
           0.26178070072777243,
           0.5074896841904758,
           -0.7875137095105607,
           0.36845348972709613,
           -0.024782728316207824,
           0.2203070327537842,
           0.3964632495997311,
           0.592502159224351,
           0.5946797205816917,
           0.3015278457248016,
           -0.16520292623931365,
           0.243097396550624,
           -0.6575260172583485,
           0.6634793630966157,
           0.7637619919639084,
           0.8923436024195728,
           0.7230900645021813,
           -0.41784948093620994,
           -0.09180499597462087,
           -0.4436746814948418,
           0.11071771961095146,
           -0.040436320724449484,
           -0.8163562383511789,
           -0.21985962268079637,
           -0.09667014599999002,
           -0.2445496885231784,
           0.5787246991281705,
           -0.1641934225577612,
           0.25627875229523367,
           -0.3909657097645347,
           0.4444830688835621,
           -0.4766182249003223,
           0.8530530568386573,
           -0.31939765163112305,
           0.4400487531802823,
           0.5640650244126868,
           0.774601942682262,
           0.3336730348663546,
           0.19536667958674822,
           -0.347689930407766,
           -0.25024219064814723,
           0.4135122601300308,
           0.5549021037335066,
           null
          ],
          [
           null,
           null,
           null,
           null,
           null,
           null,
           null,
           null,
           null,
           null,
           null,
           null,
           null,
           null,
           null,
           null,
           null,
           null,
           null,
           null,
           null,
           null,
           null,
           null,
           null,
           null,
           null,
           null,
           null,
           -0.43724430935706066,
           0.4649482871851482,
           -0.346038890850265,
           0.12895564891176423,
           0.7545647936933254,
           0.27008572775219514,
           0.9681387522823109,
           0.7770403311058565,
           0.50019953627321,
           0.8356162280333631,
           -0.6628278620707281,
           0.4603352469678756,
           -0.8748336424284316,
           0.7909517234417406,
           0.7361776370292953,
           0.7285337692476321,
           0.8481957058940532,
           0.032173064142806185,
           -0.20146285900298463,
           0.2737303672135316,
           0.7606157530150024,
           0.2552751504572236,
           0.5895258728279429,
           0.8206295872577097,
           0.8684780868655276,
           0.10145811528124786,
           -0.02449857886676495,
           0.8391420195625128,
           0.17604624695927248,
           0.45982508078973844,
           -0.4120429919813936,
           -0.27599606968500484,
           0.3808822238470802,
           0.5334506747294208,
           -0.16770276369345763,
           0.6612951839141457,
           -0.4555051501944567,
           null
          ],
          [
           0.8461919410632929,
           0.5897614560605684,
           0.7447777465287599,
           0.8907346586360558,
           0.9336296657487965,
           0.9708912660186368,
           0.9277244233384161,
           0.6928958245380598,
           0.8442525350237295,
           0.9769227057652244,
           0.4735992884005729,
           0.8045718134265955,
           0.6723357343927288,
           0.743967497288888,
           0.7861359704270054,
           0.464358947612557,
           0.893053631998284,
           0.9739938492116503,
           0.4238623006626629,
           0.7733846553938329,
           0.8418642261564694,
           0.6678532702556913,
           0.9773974089678703,
           0.5025881648499444,
           -0.7081850462285341,
           0.06253376695344086,
           0.2862501328345262,
           0.9752556441132276,
           0.8367737949338852,
           0.6104532330149228,
           -0.7280652760987663,
           null,
           null,
           null,
           null,
           null,
           null,
           null,
           null,
           null,
           null,
           null,
           null,
           null,
           null,
           null,
           null,
           null,
           null,
           null,
           null,
           null,
           null,
           null,
           null,
           null,
           null,
           null,
           null,
           null,
           null,
           null,
           null,
           null,
           null,
           null,
           null
          ],
          [
           0.9296413597373178,
           0.9143739030545284,
           0.9403430052909983,
           0.9648550393406836,
           0.5058455329666337,
           0.9416779650608992,
           0.9801225410889741,
           0.7734105246157335,
           0.9892395520935922,
           0.9736760416081407,
           0.8320964123629258,
           0.8220021486162568,
           0.8771175777270349,
           0.9192722425084557,
           0.8434875966138209,
           -0.047646960251842514,
           0.4208876672772752,
           0.9865865493195802,
           0.9484771242056204,
           0.8432829531259828,
           0.9697313889028516,
           0.8616970176124898,
           0.9790421054375426,
           0.8795556642627939,
           0.9787718466342147,
           0.8588390473686502,
           0.8377545443392479,
           0.9855649130288917,
           0.6412426537932933,
           0.8816080374767505,
           0.9711760819425426,
           0.7899902479589657,
           0.534609298342987,
           0.8780015483228928,
           0.2772567196705299,
           0.928923143550501,
           0.9745384217556541,
           0.9285287406377208,
           0.9408952091483181,
           0.9649592388698546,
           0.966700895627166,
           0.8582435976784252,
           0.7072483808291283,
           0.6802400372697872,
           0.8476542699081484,
           0.9440379655659333,
           0.5598843635664855,
           0.9199965279403802,
           0.862817686207085,
           0.8836364761449016,
           0.9540219975378778,
           0.8248019875981165,
           0.8120983351665255,
           0.960289192600017,
           0.9350856245876904,
           0.936615442325584,
           0.8869273044442086,
           0.7331772204440234,
           0.958454855932059,
           0.9749865196278558,
           0.7775056929180264,
           0.9533615594488042,
           0.5124435546047814,
           0.9190269184316856,
           0.5122487931793107,
           0.9779320692263791,
           null
          ],
          [
           0.892214326410095,
           0.47964102284000437,
           0.7854588601177502,
           0.6033958009561754,
           0.9206161123381044,
           0.9863863604714096,
           0.37640466126649885,
           0.826645969909915,
           0.8832259431026807,
           0.9568979255902914,
           0.01214797942514692,
           0.5581485338993594,
           0.8538625430938367,
           0.7708561780196003,
           0.8854906561814111,
           0.4420053445742853,
           0.2934679831602736,
           0.9618156115280913,
           -0.13145417808976545,
           0.8501480363975821,
           0.8998633196031198,
           0.1723081107571327,
           0.952000730278512,
           0.5749753852808073,
           -0.02078780368483118,
           0.7113470101725372,
           0.8179269059964097,
           0.9676403720114112,
           0.6063840650927311,
           0.4255799978731176,
           0.8834036270759431,
           -0.1273848557194515,
           0.5787872071611341,
           0.07777537286303256,
           0.5687203179463497,
           0.764870061514628,
           0.009562881655858717,
           0.24908259992501278,
           0.7347930746017423,
           0.6002178030797105,
           -0.33107012287670917,
           0.712605070949629,
           0.7116219974618516,
           0.051705321630473144,
           0.9399152164410016,
           0.8040320975394745,
           0.17235352747449872,
           0.8319550286827427,
           0.8170970670018567,
           0.8461711707305113,
           -0.7220058825363204,
           -0.12513444000845608,
           0.22781107743554374,
           0.6877901300656102,
           0.47512229010660445,
           -0.5684822690129598,
           0.7776390884978428,
           0.13586326364285065,
           -0.11179095840083,
           -0.4884188225170391,
           -0.6056132055078836,
           0.2931899721883191,
           0.1610613353766622,
           0.1501943864921199,
           0.5801764763376689,
           null,
           null
          ],
          [
           -0.7026304294312251,
           0.23897504737733494,
           0.6521213763853517,
           0.0491362340895572,
           -0.4446752719863024,
           0.8244930516038631,
           0.7417728250095714,
           0.42183281177436077,
           0.9217581846025439,
           0.7306907143861215,
           0.3652397766477574,
           -0.009694086020351142,
           0.0026339650723098394,
           -0.12914936870769297,
           0.5810915621540067,
           0.10058542101156272,
           0.6519309234796109,
           0.5105778246146295,
           0.6248664984181913,
           -0.31913349989004164,
           0.48306312881138785,
           0.6760799862250447,
           0.8878975885161197,
           0.7124244869450667,
           0.47931943026844026,
           -0.721605388902172,
           0.6302415068783802,
           0.9829420517892147,
           0.83789539993752,
           -0.3687548123339997,
           0.8185059376599504,
           -0.3157738514435196,
           -0.19643091463940177,
           0.1932859303962724,
           0.703008407898107,
           0.8613984546102935,
           0.5367151410967742,
           0.3894303734825507,
           0.12959161230854194,
           0.7161687922179776,
           0.8398275870392782,
           0.8117512070220247,
           0.5401447829667471,
           0.18432146230240562,
           -0.6113577066287953,
           0.6372107463659507,
           0.7419758917830696,
           0.6812046174029737,
           0.5928742762567585,
           -0.06774679538689526,
           -0.6719769612959876,
           0.8455796926607281,
           0.9251826276337686,
           0.06072891490599462,
           0.2813851706395022,
           0.9352999307192348,
           0.46756959045947505,
           0.26496040488485945,
           0.7929272408877323,
           0.8638263967228219,
           0.053920652964755594,
           0.7240999133605515,
           -0.05861615608413579,
           -0.18063220460718346,
           0.5058684063120577,
           0.9547890441768745,
           null
          ],
          [
           0.9618803933149415,
           0.5057428617587914,
           0.6152953095309626,
           0.5532082030161076,
           -0.23675037952126085,
           0.9265669856629293,
           0.8774859175031389,
           0.510312385569674,
           0.960780643681737,
           0.9577179356248585,
           0.596160758310693,
           0.6365869781735362,
           0.7415304436542045,
           0.3575265401303338,
           0.9088782095402391,
           0.16127793902307688,
           0.4478686473258806,
           0.9837423917912264,
           0.7878545911519863,
           0.8554906541983064,
           0.9104291095216788,
           0.7309984369952311,
           0.8717492660292477,
           0.5562847640305308,
           0.8234934516222017,
           0.5476357895901129,
           0.4991128065256406,
           0.8843940098056446,
           0.8876487768864587,
           0.42638883498095287,
           0.4502634855822971,
           -0.44652621299696743,
           0.7240859367634215,
           0.2957940911260367,
           0.7158148835261373,
           0.728755039065277,
           0.7096377541121903,
           -0.15219673060189845,
           0.9240081109775281,
           0.6961315128192084,
           0.9441742781412861,
           0.885326928304855,
           -0.3032936425385348,
           0.37649968345094165,
           -0.23289071370274345,
           0.8657633851785194,
           0.4236149050198141,
           0.5779427659705842,
           0.1030763343800655,
           0.7281664359417982,
           0.5971432418206075,
           0.9002130775209982,
           0.918443127743192,
           0.2056208394682514,
           -0.3555876381097915,
           0.5491099370255109,
           0.7338843141657959,
           0.31478332843285856,
           0.6016125058393521,
           0.9380764893251381,
           0.5435225895430191,
           0.521403750199736,
           0.6194243988289115,
           0.07912225230612595,
           -0.3514528892580138,
           0.9769172456097903,
           null
          ],
          [
           0.9790503531527952,
           0.6190104682706388,
           0.8506964418772769,
           0.6896294133415051,
           0.755223528770324,
           0.9083799343910651,
           0.13577073834307238,
           0.6344411389748879,
           0.833306509095067,
           0.9377889631281813,
           0.07922607340667406,
           0.510780335055014,
           0.9290111152244636,
           0.883973735291646,
           0.923828247653032,
           0.5634455743514264,
           0.6991017150175171,
           0.8831705140123562,
           0.7057536695829553,
           0.840825032955945,
           0.44108807092931723,
           0.5535608332390302,
           0.9609082760145478,
           0.6190308771756978,
           -0.06479156631576606,
           0.7305736700783981,
           0.8798473921808219,
           0.9271233879754174,
           0.33721923756026334,
           -0.04769112424837708,
           0.8649503499849365,
           -0.28718806305268735,
           -0.015844798897088928,
           0.26700854028328136,
           0.5257550160044495,
           0.3452280894774016,
           0.7733729450502878,
           0.14996169028895434,
           0.289534762443893,
           -0.5891490478396997,
           0.11180085814530985,
           0.9122223235250004,
           0.6309860428363103,
           0.0019019304620799165,
           0.9183925190898939,
           0.8396899393303565,
           0.3748695473157191,
           0.6297067030833821,
           0.658007397107425,
           0.5529535790128132,
           0.7070388306936414,
           0.6041464579249286,
           0.6953107032143585,
           0.7720818695581451,
           0.38385209768065026,
           0.9569868890967314,
           0.775256197113393,
           -0.2650759713099089,
           -0.014430063869793093,
           0.8909351393826033,
           -0.19079326152532744,
           0.30627326386711334,
           0.05944112814123251,
           0.0739263930840411,
           -0.6369071462446858,
           -0.6653602201840003,
           null
          ],
          [
           0.936560185353915,
           0.5219810154980817,
           0.5332602121739752,
           0.8938064854785236,
           0.8726978491883849,
           0.9566964910934327,
           0.6264931355038488,
           0.7721820560672994,
           0.8830103449924829,
           0.9219919198379727,
           0.910566006671367,
           0.6925122195441786,
           0.9285610657252276,
           0.9240581425716705,
           0.7788314079443625,
           0.09262814061842305,
           0.8792270526867196,
           0.9750677167256199,
           0.816432643026991,
           0.6167912952414378,
           0.20795920624682604,
           0.12957444145155342,
           0.9458906349619596,
           0.6986391993466227,
           0.39077969916889577,
           0.4452018393021688,
           0.514203331418153,
           0.9882341173787091,
           0.5696882364456919,
           -0.1802448135601163,
           0.7795352067207372,
           -0.04304634305434599,
           0.3800505017125222,
           0.708177102492153,
           0.5581787106183554,
           0.975549826120435,
           0.8362068282638695,
           0.7396610128357066,
           0.23917831581329663,
           -0.5462347843515918,
           0.7336636979361848,
           0.8171687302239292,
           -0.3519781341064157,
           0.1930761137956729,
           0.5017143255024996,
           0.7733268604375078,
           0.3123983550889952,
           0.467568859928704,
           0.3368714542438597,
           0.06615257399985099,
           0.8665672841367332,
           0.1940684013167875,
           0.9350073567440021,
           0.48474946628667004,
           0.6667307961909867,
           0.8345804040676453,
           0.0540448486629246,
           -0.11537194718235379,
           0.9565892921601109,
           0.9224726864617082,
           0.10054559732692968,
           -0.16386370524469102,
           0.23382140192954576,
           0.10065113039353787,
           -0.2209139651201937,
           -0.2759401128394629,
           null
          ],
          [
           -0.20393027217536638,
           0.1768333124208574,
           0.6286148378522373,
           0.4745385833814295,
           0.6790468414651804,
           0.9345233652010885,
           -0.7008989802574992,
           0.4094961355624387,
           0.7691249747556846,
           0.1779045409922697,
           0.7103427503862247,
           0.49858341977560516,
           0.7144922196958451,
           0.4343682570652254,
           0.7696380084632604,
           -0.12604481417507146,
           0.29058424137806615,
           0.9239883278843638,
           0.11612543342967749,
           -0.16707993358867648,
           0.18371083885087547,
           0.3710899601414231,
           0.9023356497974179,
           0.6244424598482742,
           0.7304073844107044,
           0.061613017385178964,
           0.004512608074697229,
           0.9732764843363026,
           0.8622322177605302,
           0.3296039155762658,
           0.8621130543976064,
           -0.22659411804526428,
           -0.28405209936419934,
           -0.4127042667496945,
           0.1032564254547965,
           0.6674996077023387,
           0.2600653696587901,
           0.3122511072876622,
           0.1550576642330543,
           -0.23444806095256968,
           0.8974059525406813,
           0.6963006975232039,
           -0.4190269151006266,
           0.09903291734288236,
           0.35296310697610933,
           0.8484918028505858,
           0.3784834916958789,
           -0.18057405857925846,
           0.11915544877347319,
           -0.5227740238805848,
           0.5585757753949184,
           0.4476387582731481,
           -0.5529024816249519,
           0.33516559578950594,
           -0.06035117054065392,
           -0.21743965313596353,
           -0.045059091499905606,
           -0.048672265206940235,
           -0.6851468906578787,
           0.07677415386766864,
           -0.1711467418384681,
           -0.12367680564721062,
           0.5455545472983121,
           0.6396286185961518,
           -0.2845181757515119,
           0.7638129080957481,
           null
          ],
          [
           -0.26741561402033026,
           0.5260774825803031,
           0.29796562723195674,
           0.4077479459922018,
           0.7664416857691578,
           0.5762848418207528,
           -0.20262366926729722,
           -0.27960878259138855,
           0.7155665467849223,
           0.246198109412601,
           0.7285999263441983,
           0.11096122675531532,
           0.5761981899477924,
           0.7171735460634278,
           0.5401024835468987,
           -0.2983922858751236,
           0.6722488259798022,
           0.9207210454660155,
           0.4067878966600357,
           0.7974165758035064,
           0.26438492210907555,
           0.05802245724742408,
           0.793516280834263,
           0.21321725097908806,
           -0.8880128595695291,
           0.7338938348489074,
           0.4635008932347303,
           0.9471773374794317,
           0.5127666242664466,
           -0.3927863123028138,
           0.5600020822289666,
           0.17761846384552005,
           0.011282023682164601,
           0.406040334472205,
           0.45101610874337816,
           0.7165235957387303,
           0.20896448176682966,
           -0.17051521670729108,
           -0.14232073490722802,
           0.8339013355438462,
           0.7505306341612583,
           0.7255250508883857,
           -0.4728108742135166,
           0.2449344785051582,
           0.8437352501463043,
           0.7372233250499414,
           0.7383680608516389,
           0.543925228740803,
           -0.5896547859672511,
           -0.06301376826933704,
           0.8363462318944721,
           0.8479370299429116,
           0.7761250851246908,
           0.6765140623152142,
           -0.4645726498132388,
           0.7552050178952584,
           0.9079489853849698,
           -0.07892569000751588,
           0.02082533334319149,
           0.7884761733304217,
           0.11022568571455948,
           0.6204496039456207,
           -0.2706147934192908,
           -0.19369526849677438,
           0.6237831439038979,
           0.9696229516749517,
           null
          ]
         ]
        }
       ],
       "layout": {
        "autosize": false,
        "coloraxis": {
         "colorbar": {
          "title": {
           "text": "Correlation"
          }
         },
         "colorscale": [
          [
           0,
           "rgb(5,48,97)"
          ],
          [
           0.1,
           "rgb(33,102,172)"
          ],
          [
           0.2,
           "rgb(67,147,195)"
          ],
          [
           0.3,
           "rgb(146,197,222)"
          ],
          [
           0.4,
           "rgb(209,229,240)"
          ],
          [
           0.5,
           "rgb(247,247,247)"
          ],
          [
           0.6,
           "rgb(253,219,199)"
          ],
          [
           0.7,
           "rgb(244,165,130)"
          ],
          [
           0.8,
           "rgb(214,96,77)"
          ],
          [
           0.9,
           "rgb(178,24,43)"
          ],
          [
           1,
           "rgb(103,0,31)"
          ]
         ]
        },
        "height": 600,
        "template": {
         "data": {
          "bar": [
           {
            "error_x": {
             "color": "#2a3f5f"
            },
            "error_y": {
             "color": "#2a3f5f"
            },
            "marker": {
             "line": {
              "color": "#E5ECF6",
              "width": 0.5
             },
             "pattern": {
              "fillmode": "overlay",
              "size": 10,
              "solidity": 0.2
             }
            },
            "type": "bar"
           }
          ],
          "barpolar": [
           {
            "marker": {
             "line": {
              "color": "#E5ECF6",
              "width": 0.5
             },
             "pattern": {
              "fillmode": "overlay",
              "size": 10,
              "solidity": 0.2
             }
            },
            "type": "barpolar"
           }
          ],
          "carpet": [
           {
            "aaxis": {
             "endlinecolor": "#2a3f5f",
             "gridcolor": "white",
             "linecolor": "white",
             "minorgridcolor": "white",
             "startlinecolor": "#2a3f5f"
            },
            "baxis": {
             "endlinecolor": "#2a3f5f",
             "gridcolor": "white",
             "linecolor": "white",
             "minorgridcolor": "white",
             "startlinecolor": "#2a3f5f"
            },
            "type": "carpet"
           }
          ],
          "choropleth": [
           {
            "colorbar": {
             "outlinewidth": 0,
             "ticks": ""
            },
            "type": "choropleth"
           }
          ],
          "contour": [
           {
            "colorbar": {
             "outlinewidth": 0,
             "ticks": ""
            },
            "colorscale": [
             [
              0,
              "#0d0887"
             ],
             [
              0.1111111111111111,
              "#46039f"
             ],
             [
              0.2222222222222222,
              "#7201a8"
             ],
             [
              0.3333333333333333,
              "#9c179e"
             ],
             [
              0.4444444444444444,
              "#bd3786"
             ],
             [
              0.5555555555555556,
              "#d8576b"
             ],
             [
              0.6666666666666666,
              "#ed7953"
             ],
             [
              0.7777777777777778,
              "#fb9f3a"
             ],
             [
              0.8888888888888888,
              "#fdca26"
             ],
             [
              1,
              "#f0f921"
             ]
            ],
            "type": "contour"
           }
          ],
          "contourcarpet": [
           {
            "colorbar": {
             "outlinewidth": 0,
             "ticks": ""
            },
            "type": "contourcarpet"
           }
          ],
          "heatmap": [
           {
            "colorbar": {
             "outlinewidth": 0,
             "ticks": ""
            },
            "colorscale": [
             [
              0,
              "#0d0887"
             ],
             [
              0.1111111111111111,
              "#46039f"
             ],
             [
              0.2222222222222222,
              "#7201a8"
             ],
             [
              0.3333333333333333,
              "#9c179e"
             ],
             [
              0.4444444444444444,
              "#bd3786"
             ],
             [
              0.5555555555555556,
              "#d8576b"
             ],
             [
              0.6666666666666666,
              "#ed7953"
             ],
             [
              0.7777777777777778,
              "#fb9f3a"
             ],
             [
              0.8888888888888888,
              "#fdca26"
             ],
             [
              1,
              "#f0f921"
             ]
            ],
            "type": "heatmap"
           }
          ],
          "heatmapgl": [
           {
            "colorbar": {
             "outlinewidth": 0,
             "ticks": ""
            },
            "colorscale": [
             [
              0,
              "#0d0887"
             ],
             [
              0.1111111111111111,
              "#46039f"
             ],
             [
              0.2222222222222222,
              "#7201a8"
             ],
             [
              0.3333333333333333,
              "#9c179e"
             ],
             [
              0.4444444444444444,
              "#bd3786"
             ],
             [
              0.5555555555555556,
              "#d8576b"
             ],
             [
              0.6666666666666666,
              "#ed7953"
             ],
             [
              0.7777777777777778,
              "#fb9f3a"
             ],
             [
              0.8888888888888888,
              "#fdca26"
             ],
             [
              1,
              "#f0f921"
             ]
            ],
            "type": "heatmapgl"
           }
          ],
          "histogram": [
           {
            "marker": {
             "pattern": {
              "fillmode": "overlay",
              "size": 10,
              "solidity": 0.2
             }
            },
            "type": "histogram"
           }
          ],
          "histogram2d": [
           {
            "colorbar": {
             "outlinewidth": 0,
             "ticks": ""
            },
            "colorscale": [
             [
              0,
              "#0d0887"
             ],
             [
              0.1111111111111111,
              "#46039f"
             ],
             [
              0.2222222222222222,
              "#7201a8"
             ],
             [
              0.3333333333333333,
              "#9c179e"
             ],
             [
              0.4444444444444444,
              "#bd3786"
             ],
             [
              0.5555555555555556,
              "#d8576b"
             ],
             [
              0.6666666666666666,
              "#ed7953"
             ],
             [
              0.7777777777777778,
              "#fb9f3a"
             ],
             [
              0.8888888888888888,
              "#fdca26"
             ],
             [
              1,
              "#f0f921"
             ]
            ],
            "type": "histogram2d"
           }
          ],
          "histogram2dcontour": [
           {
            "colorbar": {
             "outlinewidth": 0,
             "ticks": ""
            },
            "colorscale": [
             [
              0,
              "#0d0887"
             ],
             [
              0.1111111111111111,
              "#46039f"
             ],
             [
              0.2222222222222222,
              "#7201a8"
             ],
             [
              0.3333333333333333,
              "#9c179e"
             ],
             [
              0.4444444444444444,
              "#bd3786"
             ],
             [
              0.5555555555555556,
              "#d8576b"
             ],
             [
              0.6666666666666666,
              "#ed7953"
             ],
             [
              0.7777777777777778,
              "#fb9f3a"
             ],
             [
              0.8888888888888888,
              "#fdca26"
             ],
             [
              1,
              "#f0f921"
             ]
            ],
            "type": "histogram2dcontour"
           }
          ],
          "mesh3d": [
           {
            "colorbar": {
             "outlinewidth": 0,
             "ticks": ""
            },
            "type": "mesh3d"
           }
          ],
          "parcoords": [
           {
            "line": {
             "colorbar": {
              "outlinewidth": 0,
              "ticks": ""
             }
            },
            "type": "parcoords"
           }
          ],
          "pie": [
           {
            "automargin": true,
            "type": "pie"
           }
          ],
          "scatter": [
           {
            "fillpattern": {
             "fillmode": "overlay",
             "size": 10,
             "solidity": 0.2
            },
            "type": "scatter"
           }
          ],
          "scatter3d": [
           {
            "line": {
             "colorbar": {
              "outlinewidth": 0,
              "ticks": ""
             }
            },
            "marker": {
             "colorbar": {
              "outlinewidth": 0,
              "ticks": ""
             }
            },
            "type": "scatter3d"
           }
          ],
          "scattercarpet": [
           {
            "marker": {
             "colorbar": {
              "outlinewidth": 0,
              "ticks": ""
             }
            },
            "type": "scattercarpet"
           }
          ],
          "scattergeo": [
           {
            "marker": {
             "colorbar": {
              "outlinewidth": 0,
              "ticks": ""
             }
            },
            "type": "scattergeo"
           }
          ],
          "scattergl": [
           {
            "marker": {
             "colorbar": {
              "outlinewidth": 0,
              "ticks": ""
             }
            },
            "type": "scattergl"
           }
          ],
          "scattermapbox": [
           {
            "marker": {
             "colorbar": {
              "outlinewidth": 0,
              "ticks": ""
             }
            },
            "type": "scattermapbox"
           }
          ],
          "scatterpolar": [
           {
            "marker": {
             "colorbar": {
              "outlinewidth": 0,
              "ticks": ""
             }
            },
            "type": "scatterpolar"
           }
          ],
          "scatterpolargl": [
           {
            "marker": {
             "colorbar": {
              "outlinewidth": 0,
              "ticks": ""
             }
            },
            "type": "scatterpolargl"
           }
          ],
          "scatterternary": [
           {
            "marker": {
             "colorbar": {
              "outlinewidth": 0,
              "ticks": ""
             }
            },
            "type": "scatterternary"
           }
          ],
          "surface": [
           {
            "colorbar": {
             "outlinewidth": 0,
             "ticks": ""
            },
            "colorscale": [
             [
              0,
              "#0d0887"
             ],
             [
              0.1111111111111111,
              "#46039f"
             ],
             [
              0.2222222222222222,
              "#7201a8"
             ],
             [
              0.3333333333333333,
              "#9c179e"
             ],
             [
              0.4444444444444444,
              "#bd3786"
             ],
             [
              0.5555555555555556,
              "#d8576b"
             ],
             [
              0.6666666666666666,
              "#ed7953"
             ],
             [
              0.7777777777777778,
              "#fb9f3a"
             ],
             [
              0.8888888888888888,
              "#fdca26"
             ],
             [
              1,
              "#f0f921"
             ]
            ],
            "type": "surface"
           }
          ],
          "table": [
           {
            "cells": {
             "fill": {
              "color": "#EBF0F8"
             },
             "line": {
              "color": "white"
             }
            },
            "header": {
             "fill": {
              "color": "#C8D4E3"
             },
             "line": {
              "color": "white"
             }
            },
            "type": "table"
           }
          ]
         },
         "layout": {
          "annotationdefaults": {
           "arrowcolor": "#2a3f5f",
           "arrowhead": 0,
           "arrowwidth": 1
          },
          "autotypenumbers": "strict",
          "coloraxis": {
           "colorbar": {
            "outlinewidth": 0,
            "ticks": ""
           }
          },
          "colorscale": {
           "diverging": [
            [
             0,
             "#8e0152"
            ],
            [
             0.1,
             "#c51b7d"
            ],
            [
             0.2,
             "#de77ae"
            ],
            [
             0.3,
             "#f1b6da"
            ],
            [
             0.4,
             "#fde0ef"
            ],
            [
             0.5,
             "#f7f7f7"
            ],
            [
             0.6,
             "#e6f5d0"
            ],
            [
             0.7,
             "#b8e186"
            ],
            [
             0.8,
             "#7fbc41"
            ],
            [
             0.9,
             "#4d9221"
            ],
            [
             1,
             "#276419"
            ]
           ],
           "sequential": [
            [
             0,
             "#0d0887"
            ],
            [
             0.1111111111111111,
             "#46039f"
            ],
            [
             0.2222222222222222,
             "#7201a8"
            ],
            [
             0.3333333333333333,
             "#9c179e"
            ],
            [
             0.4444444444444444,
             "#bd3786"
            ],
            [
             0.5555555555555556,
             "#d8576b"
            ],
            [
             0.6666666666666666,
             "#ed7953"
            ],
            [
             0.7777777777777778,
             "#fb9f3a"
            ],
            [
             0.8888888888888888,
             "#fdca26"
            ],
            [
             1,
             "#f0f921"
            ]
           ],
           "sequentialminus": [
            [
             0,
             "#0d0887"
            ],
            [
             0.1111111111111111,
             "#46039f"
            ],
            [
             0.2222222222222222,
             "#7201a8"
            ],
            [
             0.3333333333333333,
             "#9c179e"
            ],
            [
             0.4444444444444444,
             "#bd3786"
            ],
            [
             0.5555555555555556,
             "#d8576b"
            ],
            [
             0.6666666666666666,
             "#ed7953"
            ],
            [
             0.7777777777777778,
             "#fb9f3a"
            ],
            [
             0.8888888888888888,
             "#fdca26"
            ],
            [
             1,
             "#f0f921"
            ]
           ]
          },
          "colorway": [
           "#636efa",
           "#EF553B",
           "#00cc96",
           "#ab63fa",
           "#FFA15A",
           "#19d3f3",
           "#FF6692",
           "#B6E880",
           "#FF97FF",
           "#FECB52"
          ],
          "font": {
           "color": "#2a3f5f"
          },
          "geo": {
           "bgcolor": "white",
           "lakecolor": "white",
           "landcolor": "#E5ECF6",
           "showlakes": true,
           "showland": true,
           "subunitcolor": "white"
          },
          "hoverlabel": {
           "align": "left"
          },
          "hovermode": "closest",
          "mapbox": {
           "style": "light"
          },
          "paper_bgcolor": "white",
          "plot_bgcolor": "#E5ECF6",
          "polar": {
           "angularaxis": {
            "gridcolor": "white",
            "linecolor": "white",
            "ticks": ""
           },
           "bgcolor": "#E5ECF6",
           "radialaxis": {
            "gridcolor": "white",
            "linecolor": "white",
            "ticks": ""
           }
          },
          "scene": {
           "xaxis": {
            "backgroundcolor": "#E5ECF6",
            "gridcolor": "white",
            "gridwidth": 2,
            "linecolor": "white",
            "showbackground": true,
            "ticks": "",
            "zerolinecolor": "white"
           },
           "yaxis": {
            "backgroundcolor": "#E5ECF6",
            "gridcolor": "white",
            "gridwidth": 2,
            "linecolor": "white",
            "showbackground": true,
            "ticks": "",
            "zerolinecolor": "white"
           },
           "zaxis": {
            "backgroundcolor": "#E5ECF6",
            "gridcolor": "white",
            "gridwidth": 2,
            "linecolor": "white",
            "showbackground": true,
            "ticks": "",
            "zerolinecolor": "white"
           }
          },
          "shapedefaults": {
           "line": {
            "color": "#2a3f5f"
           }
          },
          "ternary": {
           "aaxis": {
            "gridcolor": "white",
            "linecolor": "white",
            "ticks": ""
           },
           "baxis": {
            "gridcolor": "white",
            "linecolor": "white",
            "ticks": ""
           },
           "bgcolor": "#E5ECF6",
           "caxis": {
            "gridcolor": "white",
            "linecolor": "white",
            "ticks": ""
           }
          },
          "title": {
           "x": 0.05
          },
          "xaxis": {
           "automargin": true,
           "gridcolor": "white",
           "linecolor": "white",
           "ticks": "",
           "title": {
            "standoff": 15
           },
           "zerolinecolor": "white",
           "zerolinewidth": 2
          },
          "yaxis": {
           "automargin": true,
           "gridcolor": "white",
           "linecolor": "white",
           "ticks": "",
           "title": {
            "standoff": 15
           },
           "zerolinecolor": "white",
           "zerolinewidth": 2
          }
         }
        },
        "title": {
         "text": "📊 Monthly Correlation Heatmap - MSCI_COLCAP_Valor hoy"
        },
        "width": 1000,
        "xaxis": {
         "anchor": "y",
         "domain": [
          0,
          1
         ],
         "tickangle": -45,
         "title": {
          "text": "Month"
         }
        },
        "yaxis": {
         "anchor": "x",
         "autorange": "reversed",
         "domain": [
          0,
          1
         ],
         "title": {
          "text": "Stock"
         }
        }
       }
      }
     },
     "metadata": {},
     "output_type": "display_data"
    }
   ],
   "source": [
    "import plotly.express as px\n",
    "\n",
    "# 🔹 Convert 'YearMonth' to string (Fix Period object issue)\n",
    "monthly_corr.index = monthly_corr.index.astype(str)\n",
    "\n",
    "# 🔥 **Add Heatmap for Monthly Correlations**\n",
    "fig = px.imshow(\n",
    "    monthly_corr.T,  # Transpose to get stocks on y-axis\n",
    "    labels=dict(x=\"Month\", y=\"Stock\", color=\"Correlation\"),\n",
    "    title=f\"📊 Monthly Correlation Heatmap - {target_stock}\",\n",
    "    color_continuous_scale=\"RdBu_r\",\n",
    "    aspect=\"auto\",\n",
    ")\n",
    "\n",
    "fig.update_layout(\n",
    "    autosize=False,\n",
    "    width=1000,\n",
    "    height=600,\n",
    "    xaxis=dict(tickangle=-45),\n",
    ")"
   ]
  },
  {
   "cell_type": "code",
   "execution_count": 16,
   "metadata": {},
   "outputs": [
    {
     "data": {
      "application/vnd.plotly.v1+json": {
       "config": {
        "plotlyServerURL": "https://plot.ly"
       },
       "data": [
        {
         "coloraxis": "coloraxis",
         "hovertemplate": "Month: %{x}<br>Stock: %{y}<br>Correlation: %{z}<extra></extra>",
         "name": "0",
         "type": "heatmap",
         "x": [
          "2020-03",
          "2020-04",
          "2020-05",
          "2020-06",
          "2020-07",
          "2020-08",
          "2020-09",
          "2020-10",
          "2020-11",
          "2020-12",
          "2021-01",
          "2021-02",
          "2021-03",
          "2021-04",
          "2021-05",
          "2021-06",
          "2021-07",
          "2021-08",
          "2021-09",
          "2021-10",
          "2021-11",
          "2021-12",
          "2022-01",
          "2022-02",
          "2022-03",
          "2022-04",
          "2022-05",
          "2022-06",
          "2022-07",
          "2022-08",
          "2022-09",
          "2022-10",
          "2022-11",
          "2022-12",
          "2023-01",
          "2023-02",
          "2023-03",
          "2023-04",
          "2023-05",
          "2023-06",
          "2023-07",
          "2023-08",
          "2023-09",
          "2023-10",
          "2023-11",
          "2023-12",
          "2024-01",
          "2024-02",
          "2024-03",
          "2024-04",
          "2024-05",
          "2024-06",
          "2024-07",
          "2024-08",
          "2024-09",
          "2024-10",
          "2024-11",
          "2024-12",
          "2025-01",
          "2025-02",
          "2025-03",
          "2025-04",
          "2025-05",
          "2025-06",
          "2025-07",
          "2025-08",
          "2025-09"
         ],
         "xaxis": "x",
         "y": [
          "Fecha",
          "BBVA_Precio cierre",
          "BCOLOMBIA_Precio cierre",
          "BHI_Precio cierre",
          "BMC_Precio cierre",
          "BOGOTA_Precio cierre",
          "BVC_Precio cierre",
          "CELSIA_Precio cierre",
          "CEMARGOS_Precio cierre",
          "CNEC_Precio cierre",
          "CONCONCRETO_Precio cierre",
          "CORFICOL_Precio cierre",
          "ECOPETROL_Precio cierre",
          "ENKA_Precio cierre",
          "ETB_Precio cierre",
          "EXITO_Precio cierre",
          "FABRICATO_Precio cierre",
          "GEB_Precio cierre",
          "GRUBOLIVAR_Precio cierre"
         ],
         "yaxis": "y",
         "z": [
          [
           0.39900239014945,
           0.059802634488944906,
           -0.3920311971745591,
           -0.420907205611656,
           0.7913803606261647,
           0.9369948489467771,
           -0.9628980626094729,
           -0.44061088965973355,
           0.946739680254395,
           0.873196629711945,
           -0.601987998886975,
           -0.43956186010050197,
           -0.784956405035374,
           -0.8970505467488862,
           -0.5412299477395958,
           0.4082032408693031,
           -0.7464675342600556,
           0.9040513121497956,
           0.34707255460353115,
           0.5896852485859881,
           -0.7192269939141491,
           -0.26023325626328503,
           0.8131628079932471,
           -0.3169871566083639,
           0.815810724434988,
           -0.7899660323996699,
           -0.441216518562866,
           -0.9773419065194429,
           -0.663730167016341,
           -0.24661862808252208,
           -0.8592933038829368,
           0.45979904076306094,
           0.1325002912556953,
           0.5566135428922243,
           -0.09497542810549649,
           -0.9459405685295216,
           -0.7478488213939255,
           0.042218807413512034,
           -0.9518839960427393,
           -0.5081423042446097,
           0.7840613999340336,
           -0.9418000608984795,
           0.8184471828265847,
           -0.27531779146690266,
           0.9494485831054313,
           0.8387295077006865,
           0.233027839115475,
           0.1723252127977144,
           0.6240984935937212,
           -0.513296586469765,
           0.5362324345479188,
           -0.803547345121259,
           -0.9334547285746742,
           0.5706729671570165,
           -0.5029520113165764,
           0.8244269372174222,
           0.7993814151295604,
           -0.3653552275735569,
           0.6349726300197325,
           0.9295789639103076,
           0.49477126071274974,
           0.2076313662091901,
           -0.25661861699563415,
           0.5491120375880993,
           0.8610566849826549,
           0.9636605187447753,
           null
          ],
          [
           null,
           null,
           null,
           null,
           null,
           null,
           null,
           -0.00983069783959235,
           0.6619032435248781,
           0.41178160997913904,
           -0.5534715088958012,
           0.32870068808459657,
           null,
           0.5663318745633298,
           -0.20590201251875695,
           null,
           null,
           0.9272628744115188,
           -0.21584580320311425,
           0.017141850142714337,
           0.46629870107715177,
           -0.6740129767162006,
           0.75413436149711,
           -0.7778688740423635,
           0.580609037395633,
           null,
           0.7115425073219627,
           0.8687881872864055,
           0.6568990124423784,
           0.1776488583653825,
           -0.4732324551379426,
           -0.06260319527737596,
           0.02940498095615691,
           null,
           0.34545158432595574,
           0.662174885704761,
           0.04148923654495479,
           0.22643299619354484,
           null,
           -0.09186801359867404,
           -0.6848118252056831,
           0.3293620032045424,
           0.7982384147587686,
           0.47333668879936325,
           null,
           null,
           0.011152400218566996,
           null,
           -0.6542542479860801,
           -0.07772030760939205,
           -0.6094942599811711,
           null,
           null,
           0.30388363685705805,
           0.47850031424403994,
           -0.4456851672246281,
           0.132791210698278,
           0.20496045237207436,
           null,
           -0.7769422114819059,
           null,
           null,
           -0.44641817546925106,
           null,
           null,
           null,
           null
          ],
          [
           0.9147693362460754,
           0.868561582627514,
           0.8840014320254236,
           0.9560019745759764,
           0.5380473494793436,
           0.9180209430221652,
           0.976841891752351,
           0.6843473987129108,
           0.9661319353527373,
           0.9773230781068636,
           0.7647606783913002,
           0.7944599003180702,
           0.7221983672798057,
           0.8272840879262702,
           0.9294132164795376,
           0.08098201460646548,
           0.22830973784972114,
           0.9949105862840971,
           0.962941351951111,
           0.8318305214952433,
           0.9621491863043281,
           0.8470284989325648,
           0.9821271878880571,
           0.8233836325461457,
           0.9588925678804754,
           0.9083370466871282,
           0.7464886905558961,
           0.9557806173783532,
           0.2066684171834643,
           0.8554488126059347,
           0.8513940803643885,
           0.6528860041651485,
           0.5535572464810913,
           0.1995411739210555,
           0.8990082228105634,
           0.9202484072380472,
           0.9462105399774084,
           0.8664819620935789,
           0.9590245390338942,
           0.9552914860323409,
           0.9275685535101595,
           0.950436731640428,
           0.8325187149468349,
           0.738292272230357,
           0.2725598473335571,
           0.8214001289806756,
           0.39429208214368616,
           0.6993022824438248,
           0.8966725942114987,
           0.860699349534896,
           0.921176368831639,
           0.8129679370270808,
           -0.7556979607107307,
           0.7863072767161768,
           0.6014493490785582,
           0.9275178775690662,
           0.8329004526524153,
           0.7578210221994071,
           0.9502090913687269,
           0.9656383096090528,
           0.8845286689540616,
           0.801232426951624,
           0.8490883333633658,
           0.8670313427585983,
           0.7298236881610991,
           0.9238010999487302,
           null
          ],
          [
           null,
           null,
           null,
           null,
           null,
           null,
           null,
           null,
           null,
           null,
           null,
           null,
           null,
           null,
           null,
           null,
           null,
           null,
           null,
           null,
           null,
           null,
           null,
           null,
           -0.5986965755445466,
           0.4422277299033306,
           0.033394567174077225,
           0.929535968156151,
           0.37639936156849685,
           0.45971489322916304,
           0.6044093897279665,
           0.45233132831720485,
           -0.23990713582575315,
           -0.5053759804731525,
           0.6002249744316805,
           0.9475335840073593,
           0.17983284984703965,
           0.6558467615217372,
           0.9030386827852429,
           -0.3384555830983087,
           0.7370828007818901,
           0.5240326292431996,
           -0.6601176138792142,
           -0.37845163848147667,
           -0.29217974573430555,
           0.16131993552715027,
           0.7842971467457825,
           -0.08278010383069406,
           0.8457863432494267,
           0.15605639214382713,
           0.16468008740287246,
           -0.6359201455120296,
           0.8811202397616107,
           0.8364152085409035,
           -0.05527142265978324,
           0.34264228631302357,
           -0.5499547589790623,
           0.1674882618570538,
           0.19875500434770899,
           0.8587916369861438,
           0.2537127085247286,
           0.49514830474266375,
           -0.36747558987548024,
           0.11724812235830594,
           0.24693856492405902,
           0.6869617837966258,
           null
          ],
          [
           null,
           null,
           null,
           null,
           null,
           null,
           null,
           null,
           null,
           null,
           null,
           null,
           null,
           null,
           null,
           null,
           null,
           0.8398264241696032,
           null,
           null,
           null,
           null,
           null,
           null,
           null,
           null,
           null,
           null,
           null,
           null,
           null,
           null,
           null,
           null,
           null,
           null,
           null,
           -0.15160162900884147,
           null,
           null,
           null,
           null,
           null,
           -0.029757408219575572,
           null,
           null,
           null,
           null,
           null,
           null,
           -0.04265406052527011,
           null,
           -0.3567512362228225,
           null,
           null,
           null,
           null,
           -0.5401366681511667,
           null,
           null,
           null,
           -0.14697660874940138,
           null,
           0.2710388498988168,
           -0.35891665490595287,
           0.6295530549863881,
           null
          ],
          [
           0.751578047661568,
           0.4146417684651228,
           0.600387474772242,
           0.3456821494026168,
           0.9201119903008428,
           0.9726171300515648,
           0.6366481236536793,
           0.06260955781887959,
           0.7383660153044326,
           0.8678680342667856,
           -0.5955412643542776,
           -0.001522262803583862,
           0.27729949123214426,
           0.07965655696889502,
           0.6160678822590584,
           -0.15334187040097513,
           0.7055454068911986,
           0.9080121093384367,
           0.030296903154051095,
           0.3655578630959814,
           0.6156972649288189,
           0.23481013237101142,
           0.8337308758082416,
           0.14556753216685975,
           -0.6943378766941242,
           0.5640878824201003,
           -0.1162478772302471,
           0.9067573481827557,
           0.8615511484906802,
           0.641158376504326,
           0.9426022190378138,
           -0.4141582847087483,
           0.1417007866667897,
           0.7265047208289831,
           0.6305079925014608,
           0.8810047492545828,
           -0.6923569822734403,
           0.6787154303584501,
           0.8876742506564573,
           0.7062982535283425,
           0.3445722566554869,
           0.826528599610037,
           -0.18205596268089258,
           0.7937668570287298,
           -0.6989421157325268,
           0.7584225543523431,
           0.2290595881932056,
           0.561402497940282,
           -0.5403277120344984,
           0.3876930530317983,
           -0.16751556724292666,
           0.6434904682586201,
           0.6364746509804242,
           0.4438079075682196,
           0.39711743766199425,
           0.4451695767467858,
           -0.13057340920143373,
           0.45927351639991815,
           0.8496368562442514,
           0.8399610310281432,
           0.48333804284374526,
           0.7872472717433434,
           0.18998462242743316,
           -0.2560169834521267,
           0.5139910890717448,
           0.9299924569761056,
           null
          ],
          [
           0.28345277573963457,
           -0.08080100649050524,
           0.3898732228151284,
           0.09018521552052253,
           0.6321006793103071,
           0.5898715489409047,
           0.6536266074669614,
           0.3975886284946951,
           0.8206688170275548,
           0.784471495868079,
           0.29120578911217637,
           0.09335833003205238,
           0.15569629550039193,
           -0.15843931047339477,
           0.0327088645011016,
           -0.17486705323887655,
           0.6417288489070068,
           -0.15552838403277902,
           0.4637268892725111,
           0.7320048626755443,
           0.8544989067742118,
           0.43945736704309957,
           0.9343038427463035,
           0.6181272703599713,
           -0.3738692487579639,
           0.2440298558462848,
           0.6866095911484777,
           0.9534991416226433,
           0.614892353716841,
           0.15692143103083198,
           0.28353073592800976,
           -0.17222208627224814,
           -0.5502059264160604,
           -0.3271059557606392,
           -0.5274411598159936,
           -0.7178361460999914,
           -0.856170587363699,
           -0.059990016623894776,
           -0.5270960969161697,
           0.28341862578291754,
           0.7462703785663567,
           0.328508387476906,
           -0.07714699879104443,
           -0.03993339678856988,
           0.9398200066923184,
           0.45123265491866826,
           -0.05602307095144992,
           0.20493524099852556,
           0.4250034454310689,
           0.4123088978326254,
           0.34033908137023267,
           -0.5525815391996942,
           null,
           -0.4962101771516887,
           0.5980437958030483,
           -0.39958985013929715,
           -0.27255871622033107,
           0.2021253670443726,
           0.8963512331040693,
           0.5486025160517555,
           0.6097534594774168,
           -0.5096924223076812,
           -0.08244460431195706,
           -0.23224334716550982,
           0.0797530046769023,
           0.9155575545912711,
           null
          ],
          [
           0.8244942520089868,
           0.4971738978295845,
           0.7536750791825713,
           0.6457434269156925,
           0.9165562721724733,
           0.9715857567245128,
           0.4427680345497328,
           0.7493723623613572,
           0.7864889729948887,
           0.6411078751482964,
           -0.28051973420784115,
           0.4730582787080477,
           0.2397607503742662,
           0.9445038109724679,
           0.8601267242168985,
           0.04855912699722846,
           0.8998963126553753,
           0.9045099501518374,
           0.38782554297246635,
           0.3510734201131366,
           0.6363699465386523,
           0.4489640443806801,
           0.873019372668311,
           0.3877264006673141,
           0.6584543786813265,
           0.5501231879421374,
           0.3488741105218606,
           0.9726360570910705,
           0.7178090991721132,
           0.7706533939587278,
           0.8439941148330912,
           -0.34836227012575516,
           0.5270922217225573,
           0.20606415866863165,
           0.8008203174820077,
           0.6905051027669412,
           -0.5755892435232003,
           0.5353934233098601,
           0.7425622538874501,
           0.7206738014902492,
           -0.058272742749761464,
           0.7703255368387436,
           0.5602378745966394,
           0.4107531130948172,
           0.6240115967671815,
           0.8914099433936052,
           0.23273977377360666,
           0.6633155965911277,
           0.3936376710422566,
           0.7199685239564533,
           0.8053717676818717,
           0.6475276690755698,
           0.5916885055546539,
           0.6763087125601799,
           0.7555846038590117,
           -0.4511202576986655,
           -0.4689786156168629,
           0.19564428716601312,
           -0.27465678051138265,
           0.8290802850170322,
           0.6579373409850984,
           -0.25221658918977186,
           0.22258168229116726,
           0.565729869760159,
           0.6695209150428068,
           0.5112964356432793,
           null
          ],
          [
           0.9823662027029123,
           0.16479028431589365,
           0.6146761698347913,
           0.8059574052689641,
           0.9608320512376908,
           0.9805848467012525,
           0.9094460210215797,
           0.8274312582615927,
           0.9431099384207727,
           0.9432504436696176,
           0.29624516251196864,
           0.40206181517212763,
           0.8842914497508001,
           0.4332636673774037,
           0.9584190958580905,
           0.7353401040239378,
           -0.004371024481429493,
           0.9267415350840652,
           0.5026474848139352,
           0.7380822540595351,
           0.7258229236391696,
           0.1576326906731231,
           0.901885499264113,
           0.3078912068024948,
           0.6454745623296724,
           0.8275801423172766,
           0.8428860093462158,
           0.9615560162387363,
           0.8371611636403926,
           0.4562860950485049,
           0.8082230056295451,
           -0.0345365705132524,
           0.45548655122697296,
           0.2568517128555497,
           0.5646659826722896,
           0.6468952081426953,
           -0.684312193406228,
           0.8244455566794846,
           -0.28975829541804426,
           0.8895462636274041,
           0.8242825064439714,
           0.9249586827007865,
           0.658440732081775,
           -0.06041326964556361,
           0.9198176542511223,
           0.6901281255019327,
           0.6391952983936985,
           0.6430461263358006,
           0.7603951350740108,
           0.6843182459863449,
           0.5298121340299407,
           -0.17000298423345578,
           0.27364043955381634,
           0.7942986681458027,
           0.44742464924620534,
           0.7312145074757481,
           0.8819314099587171,
           -0.10060427412303749,
           0.09539584673528775,
           -0.1317474003045663,
           0.4662710311432986,
           0.6252405430996067,
           0.2866652158275449,
           0.23331415614189643,
           0.1321241580330219,
           -0.18283498539346046,
           null
          ],
          [
           0.513040830110947,
           -0.03519347188649843,
           0.03162480242087356,
           0.5125836614310278,
           0.037648842942022843,
           0.7143345467266661,
           0.29948115924234564,
           -0.32101413822257474,
           0.8483716877714644,
           -0.540080407696423,
           -0.5583492647194436,
           0.5568446067296933,
           -0.09182600042503135,
           0.14797777909424112,
           0.26342407771651766,
           0.6186073266108364,
           0.8562398220710115,
           -0.5856432212721512,
           0.18140677896003737,
           0.6841874419313151,
           0.7598076622601441,
           0.3056261352726547,
           0.15636901283110732,
           0.507201427428592,
           -0.39504241634731735,
           0.8928726217681243,
           0.757311914949512,
           0.8864671604119618,
           0.5546741155167102,
           -0.11932064994895587,
           0.9422610700616935,
           0.605341190206075,
           0.23404317317335616,
           0.5990300915196765,
           -0.34018221290734213,
           0.9247471427068047,
           0.6350882315576097,
           -0.12551501190181893,
           -0.8386665610605358,
           0.5615409570891023,
           0.6049629698926987,
           0.9027736476848599,
           -0.7682483852267288,
           0.6014357279908717,
           0.3420483869247795,
           0.3263932339958326,
           -0.1684989618943466,
           0.1166210774138216,
           -0.4105897202873062,
           -0.17511376669947562,
           0.06035452434587991,
           -0.40387924945988735,
           0.2799987172437249,
           0.06568099299451029,
           0.8505880679092073,
           -0.7369474650770007,
           0.9075151055442907,
           0.4709931991296984,
           -0.11824855922245199,
           0.004128481862320518,
           0.4681221321980431,
           -0.06043040657311075,
           0.3426002156268398,
           -0.4217323683515792,
           -0.6505957712778425,
           -0.9603749645915926,
           null
          ],
          [
           -0.43477189504572883,
           -0.027478961431614074,
           0.622395268267337,
           0.3401213299963925,
           0.6950636472698191,
           -0.03725682379345422,
           0.758714189560006,
           0.43134115020423885,
           0.8386673274975287,
           0.44857852385149893,
           -0.07248749467089688,
           -0.32159107738159004,
           0.468290594150728,
           0.9336078139815193,
           0.6049272553662481,
           0.16178352070200225,
           0.7686133479668489,
           0.7788943807649168,
           -0.37454512693275527,
           -0.6660786995273318,
           0.6787879987579709,
           -0.7360265056594993,
           0.6218952746422926,
           0.7730300757097092,
           -0.11474954872633358,
           0.7352351983286975,
           0.6494820377300339,
           0.9145020913086622,
           0.5678401237446411,
           0.7931981107920454,
           0.0033630051639033996,
           -0.3535606728268256,
           0.3526587704492095,
           -0.3333752481898674,
           -0.041128373713608314,
           0.9098472987293316,
           -0.1565232943697184,
           0.6476755091870575,
           0.4984862074743661,
           0.30607335005631114,
           0.6490328138764708,
           0.8452778519034556,
           0.4662090519165709,
           -0.6520815553463326,
           -0.7536469410430651,
           0.8393695219612526,
           0.4280414896602787,
           0.020355996006125223,
           -0.24688914906964612,
           -0.19572463478323895,
           0.5602810744130307,
           0.5769997811056273,
           0.6483433842942545,
           0.7063630321247711,
           0.8117366087779252,
           0.6067502968214509,
           0.4748624421437074,
           -0.44719934823378976,
           0.28858986283005617,
           -0.8957941352211368,
           -0.340262739764024,
           0.5859152111489077,
           0.15699777156282116,
           0.16491735291255455,
           0.31080899437293036,
           -0.7876977375348222,
           null
          ],
          [
           0.9306382247765811,
           0.4712496959327532,
           0.7544820687067121,
           0.47696166483228913,
           -0.5245006538086688,
           0.8687639600730563,
           0.8558746210075646,
           -0.16330648210534376,
           0.9054389893057541,
           0.8499786947943851,
           -0.3615934474779031,
           -0.020717931427641872,
           0.07887888697518106,
           0.25940500667305266,
           0.7068747708062976,
           0.4862232788688399,
           0.8601629746323921,
           0.5511873036586284,
           0.05860658181857829,
           0.7810343028063698,
           0.8405868647175675,
           0.48289566087773633,
           0.897243613673292,
           0.30364059197264914,
           0.5166537259480264,
           -0.7837674807371777,
           0.6424667145769627,
           0.9621076346918401,
           0.8616144988239812,
           -0.2759396834370825,
           0.7498962339001645,
           -0.01961027737858101,
           0.5868247547815144,
           -0.2948579454662275,
           0.6411532786953645,
           0.9370836745294822,
           -0.07103853160431035,
           0.49383325228255553,
           -0.7113563766932189,
           0.827430649760065,
           0.8511408317445119,
           0.9196490541867136,
           0.8684172245145138,
           0.39824112986122573,
           -0.7740316909400813,
           0.7683544040652454,
           0.7826448970629473,
           -0.00877742104159363,
           -0.14062251983765298,
           0.34902087521670133,
           0.8572189709860893,
           0.8657515615805876,
           0.8894265664430316,
           0.2989392003219661,
           0.46014380325572923,
           0.9224004782549496,
           0.384815023387167,
           0.04003741545633434,
           0.7778501989344385,
           0.9328031818624035,
           -0.3452640826154276,
           0.7382649799917999,
           0.16443541447316806,
           0.22654081551858946,
           -0.3182087095184173,
           0.6888253646152775,
           null
          ],
          [
           0.9512665423073577,
           0.48936648556471823,
           0.49151073985878774,
           0.9592597726703559,
           0.8513969188286692,
           0.22647427999055364,
           0.9120491415104065,
           0.8644985932385137,
           0.9442893029774257,
           0.8351535840973595,
           0.9208688670222106,
           -0.13907304345059426,
           0.11850525420381577,
           0.5655021597409394,
           0.8855441119249845,
           0.6297263545412152,
           0.6699666810533959,
           0.3423448804113266,
           0.9398247195406063,
           0.8845283487647352,
           0.7589190046348904,
           0.47002214174729456,
           0.9625591194950343,
           0.05960453034912972,
           0.9086565378401521,
           0.836986954675086,
           0.8998289751325116,
           0.970701718260828,
           0.7740374722985286,
           0.08337665668723097,
           0.9332117647576806,
           0.8927552278096155,
           0.3019200843446859,
           0.9143415259123068,
           0.7389857062069459,
           -0.2944042501651914,
           0.9516288490342996,
           0.570846896943851,
           0.06385037786427888,
           0.38629757710644425,
           0.7575768854321436,
           -0.3648648444219786,
           -0.052654008975459694,
           0.6649832075204744,
           0.7332909309896573,
           -0.5597141739730196,
           0.08748932559768172,
           0.761434434186884,
           -0.3296775197582219,
           0.2680524967383044,
           0.523992143242834,
           0.28457944493938353,
           0.8542121013641234,
           -0.07141095730379313,
           0.6549988790469635,
           -0.8443918294933838,
           0.8116406690303797,
           0.36409237193849314,
           0.7764649053047825,
           0.6006193969000966,
           0.7200154347715496,
           0.30074668786034536,
           0.4937601578872774,
           -0.14878473943187592,
           -0.5204374346587161,
           0.8060403218082612,
           null
          ],
          [
           null,
           0.20928537621510532,
           -0.5419655650021461,
           -0.07541946124132233,
           0.49936240396889636,
           -0.829284685361816,
           0.49567057934330494,
           null,
           -0.6304065165964948,
           0.6794463686606643,
           0.5247812238226292,
           -0.6251384004828779,
           -0.7028256479304504,
           -0.1888230182773623,
           0.10180819012835236,
           -0.21458485809235014,
           0.5907240124258374,
           0.9397965139516105,
           0.043630428514478556,
           0.18999559897019033,
           0.8541041342334554,
           0.6562721834894747,
           0.7121681842030108,
           -0.06912333650844125,
           -0.7731268773782666,
           0.2296349136499535,
           0.6410301806576602,
           0.9674217234189338,
           -0.045170526658523134,
           0.2100871779237566,
           -0.8402088453317871,
           0.3805005791994869,
           -0.23086080864393557,
           -0.35633907056427194,
           null,
           0.8230734645200677,
           -0.6779621159920417,
           0.01336894090951586,
           0.9046068778556369,
           -0.2296811089324334,
           -0.9262684064884856,
           0.8345711084882894,
           null,
           null,
           -0.7008757160795782,
           -0.7376468991682502,
           0.14823959400985895,
           null,
           -0.27908137252871645,
           0.10030050516093435,
           -0.36454289911863047,
           0.7184077420743963,
           0.6861376801504498,
           0.018711278371812048,
           -0.07214107682302996,
           0.2958632806683172,
           -0.6795776232432581,
           0.295933696873903,
           0.7200608026533758,
           0.5424813774083558,
           0.6584347643215106,
           0.4858016396331641,
           0.39613455662057195,
           0.28938913579330966,
           0.36865818077603363,
           0.21342498796934298,
           null
          ],
          [
           0.44110413810593224,
           0.35320120692912277,
           0.2914322691720071,
           0.29980174224351336,
           0.1829338402929877,
           0.43167346085147207,
           0.2351676236476506,
           -0.01290599934401097,
           0.8883388339987659,
           0.3277715685355026,
           0.411644181918155,
           -0.27001008928985165,
           0.5404169234893981,
           0.6320319354349142,
           0.7643859909877793,
           -0.06266275984358372,
           0.5882042959976818,
           0.6248046624691043,
           0.1475900723253708,
           0.20535427467701028,
           0.6613707160591126,
           0.7379123280837198,
           -0.4908225158327336,
           -0.04623504725267015,
           -0.4798355163438606,
           0.8039921919841349,
           0.23622650737361375,
           0.22018469095497845,
           0.5436529794471936,
           0.6026737781616677,
           0.5633445736551463,
           -0.5166770482189543,
           -0.1629847433591858,
           -0.45179777717402525,
           0.30126694351703,
           null,
           0.3661070028685338,
           0.2258740907775649,
           -0.3144951406661076,
           -0.03969944080378795,
           -0.6495972652844842,
           -0.49315763517376243,
           null,
           -0.3234813417573972,
           -0.6534166221923556,
           0.7300583167387047,
           -0.1375289667395601,
           -0.4815564750796608,
           null,
           -0.4250638857138932,
           0.10569455948852426,
           -0.32559635987535346,
           0.8447264267752899,
           null,
           0.06394124395466433,
           null,
           -0.4724615320432732,
           null,
           -0.4698391391119146,
           -0.4503803005052988,
           -0.49327870801163215,
           null,
           -0.26045581561905196,
           -0.1943228647007211,
           -0.7466912364312164,
           -0.7846791520409527,
           null
          ],
          [
           -0.26462437192109844,
           -0.46663871646952626,
           -0.09781287679235202,
           0.6365418051747318,
           0.2936801869833433,
           0.9209264156570047,
           0.8724719455028359,
           0.5378975967371198,
           0.8475568953089614,
           0.5755144568669585,
           -0.24718975698071594,
           0.1398089844163338,
           0.143725571331217,
           0.7473537873651236,
           0.6704650515747158,
           0.6034093659396536,
           0.1254011331776641,
           -0.056973516920464005,
           -0.19679839874705501,
           0.1147078748683636,
           0.44519567817119715,
           -0.07773784434681304,
           0.8931123446416357,
           0.1510741304501554,
           0.33606711723026605,
           0.5491608929713042,
           0.6506930527119256,
           0.9386934227395289,
           0.7120511480526229,
           0.08818420910403743,
           0.6909435886490658,
           -0.14369159451220742,
           0.2553839262241281,
           -0.6266257233139189,
           0.267695705869727,
           -0.634245895078912,
           -0.6056371034949717,
           -0.35322655624722854,
           -0.6545014623565641,
           -0.3477999294306983,
           0.26611244248461674,
           0.8691225578763419,
           -0.04419877159657748,
           -0.05875101676665183,
           -0.4529142372115918,
           -0.27971617137512456,
           0.08864151701316461,
           0.3364598762345343,
           0.35493944340841954,
           0.6596023559593585,
           -0.5676113799004802,
           0.6728629978103781,
           -0.4707324514554935,
           0.3617569421699305,
           0.4096524045164318,
           0.1940984262020033,
           -0.8486722459152997,
           -0.07775328688768175,
           -0.4980378858978029,
           0.34400899944796914,
           -0.21771721471660938,
           0.4791533134201346,
           -0.30715757984745967,
           -0.05894616842544918,
           0.5045429108329417,
           0.8505299664082279,
           null
          ],
          [
           null,
           0.07918957290585045,
           null,
           0.03349479285659378,
           0.1924124747746197,
           0.4742385002947072,
           0.8115979474108769,
           null,
           0.7422939006449961,
           0.2663856544480489,
           0.6888417027296976,
           0.46442279572471085,
           0.6990873695579182,
           null,
           -0.6533565286454929,
           -0.2948160196255321,
           -0.03959390475479149,
           0.49358624622625985,
           0.7534043022034911,
           -0.22578138114605795,
           0.618258718130967,
           -0.6809034628334308,
           0.8455493031015529,
           -0.37041573307112163,
           -0.38200360886971274,
           -0.002506902747328293,
           0.792593153400427,
           0.7323980985114471,
           -0.34230549391475296,
           -0.3507626212996407,
           0.8204399699763529,
           0.5658124349722959,
           -0.4518013059956824,
           -0.529671106796041,
           -0.5025897054524021,
           null,
           0.751017266715055,
           -0.1855461665332469,
           0.7821851106686275,
           null,
           null,
           0.8606263131253856,
           null,
           null,
           null,
           null,
           -0.4001778347678223,
           -0.6262573911530342,
           0.2522729735755571,
           null,
           0.1507132614769525,
           null,
           null,
           null,
           null,
           -0.22577172913190424,
           null,
           0.5211638144963237,
           -0.4041093801052246,
           0.7968375280775827,
           null,
           null,
           null,
           0.6993808519406014,
           null,
           null,
           null
          ],
          [
           0.422487493749456,
           0.740071464555132,
           0.39956602240496497,
           0.12911439110414166,
           -0.06481666680356826,
           0.9398486459463153,
           -0.3498540729402688,
           0.8602060116958619,
           0.8671574574225699,
           -0.47929280997205276,
           -0.1939673481381473,
           0.4295526118680593,
           -0.3760627582173581,
           0.5774371100263452,
           0.8796731983487396,
           0.4290002294804145,
           0.3601746748073454,
           0.9515860788929407,
           0.42959997393739624,
           0.18718326259736093,
           0.7894959269202815,
           0.5529092731269787,
           0.9270826565014628,
           0.47439508746512643,
           -0.1481728828632482,
           -0.30273318882833616,
           0.7448990019018048,
           0.9194124510239557,
           0.8173217542514652,
           0.6985259701172932,
           0.4976288909086596,
           -0.3900884031912757,
           0.1439446275558976,
           -0.4221522115193988,
           0.3931801408222589,
           0.8759068311398743,
           -0.13033722028807904,
           0.037554980458,
           0.22619044401953411,
           0.7790691435505581,
           -0.006790057112142522,
           0.6730921405353786,
           0.2863204652912968,
           -0.3175932641579332,
           0.9241300199497505,
           0.47607740860082715,
           0.9133914421229067,
           0.8591449768388335,
           0.3318142280267719,
           0.9583150519678587,
           0.5406689388901835,
           0.5426431795089807,
           0.7182945329076222,
           0.6039036024416412,
           0.1228754730359992,
           0.8239270829013807,
           0.9182154315044094,
           0.7104420381477426,
           0.8791638874078151,
           0.7425186040829059,
           0.8593184359803324,
           0.5189022682099074,
           0.03285385323056388,
           0.8028162353603447,
           -0.5703285968228117,
           0.6720443718371903,
           null
          ],
          [
           0.3016074584681601,
           0.639341868038865,
           0.7486731912301793,
           0.07619679638869391,
           0.6301581937775329,
           0.6924816568660238,
           0.8038107905805306,
           0.7013608577872835,
           0.9104918726917755,
           0.8820323709286491,
           0.9044241960414403,
           0.4665781232838726,
           0.2545941864733658,
           -0.5151779689564744,
           -0.08208287601083988,
           -0.4302326424713007,
           0.5362503594536706,
           0.7434891669000354,
           0.12063994430233457,
           -0.4531519977770346,
           -0.43417782930517146,
           0.1710346971731046,
           0.7288828857119839,
           0.40065597610828757,
           -0.1391773794703475,
           -0.4988922374250029,
           0.7375799336429507,
           0.9306189298644449,
           0.7630371228261741,
           0.4587953332693336,
           0.6742114784673885,
           0.7325529553505518,
           0.5493409585023801,
           0.2340812769928058,
           -0.08432962736587078,
           0.8369936477402039,
           -0.7899237555542767,
           -0.13062213395129288,
           -0.873742055435243,
           0.6288649328828458,
           -0.2814984797975697,
           0.7612726641008606,
           -0.28112642813963196,
           0.14002494800007687,
           -0.8415827756522242,
           0.7523371982991724,
           0.19836004902253032,
           -0.05135275036003595,
           0.7483154946338086,
           0.7333402556927837,
           -0.11459526493319233,
           0.5634072874743583,
           0.9012367138913131,
           0.468268671021248,
           -0.023945003520338008,
           -0.23484549037485097,
           0.21347874787483703,
           0.35711751366146066,
           -0.14249811791377226,
           0.9077601800744868,
           0.09373864666700875,
           0.12233226426015574,
           0.3772944830362078,
           0.7639024006281309,
           0.7303882124122972,
           0.9690380695425681,
           null
          ]
         ]
        }
       ],
       "layout": {
        "autosize": false,
        "coloraxis": {
         "colorbar": {
          "title": {
           "text": "Correlation"
          }
         },
         "colorscale": [
          [
           0,
           "rgb(5,48,97)"
          ],
          [
           0.1,
           "rgb(33,102,172)"
          ],
          [
           0.2,
           "rgb(67,147,195)"
          ],
          [
           0.3,
           "rgb(146,197,222)"
          ],
          [
           0.4,
           "rgb(209,229,240)"
          ],
          [
           0.5,
           "rgb(247,247,247)"
          ],
          [
           0.6,
           "rgb(253,219,199)"
          ],
          [
           0.7,
           "rgb(244,165,130)"
          ],
          [
           0.8,
           "rgb(214,96,77)"
          ],
          [
           0.9,
           "rgb(178,24,43)"
          ],
          [
           1,
           "rgb(103,0,31)"
          ]
         ]
        },
        "height": 600,
        "template": {
         "data": {
          "bar": [
           {
            "error_x": {
             "color": "#2a3f5f"
            },
            "error_y": {
             "color": "#2a3f5f"
            },
            "marker": {
             "line": {
              "color": "#E5ECF6",
              "width": 0.5
             },
             "pattern": {
              "fillmode": "overlay",
              "size": 10,
              "solidity": 0.2
             }
            },
            "type": "bar"
           }
          ],
          "barpolar": [
           {
            "marker": {
             "line": {
              "color": "#E5ECF6",
              "width": 0.5
             },
             "pattern": {
              "fillmode": "overlay",
              "size": 10,
              "solidity": 0.2
             }
            },
            "type": "barpolar"
           }
          ],
          "carpet": [
           {
            "aaxis": {
             "endlinecolor": "#2a3f5f",
             "gridcolor": "white",
             "linecolor": "white",
             "minorgridcolor": "white",
             "startlinecolor": "#2a3f5f"
            },
            "baxis": {
             "endlinecolor": "#2a3f5f",
             "gridcolor": "white",
             "linecolor": "white",
             "minorgridcolor": "white",
             "startlinecolor": "#2a3f5f"
            },
            "type": "carpet"
           }
          ],
          "choropleth": [
           {
            "colorbar": {
             "outlinewidth": 0,
             "ticks": ""
            },
            "type": "choropleth"
           }
          ],
          "contour": [
           {
            "colorbar": {
             "outlinewidth": 0,
             "ticks": ""
            },
            "colorscale": [
             [
              0,
              "#0d0887"
             ],
             [
              0.1111111111111111,
              "#46039f"
             ],
             [
              0.2222222222222222,
              "#7201a8"
             ],
             [
              0.3333333333333333,
              "#9c179e"
             ],
             [
              0.4444444444444444,
              "#bd3786"
             ],
             [
              0.5555555555555556,
              "#d8576b"
             ],
             [
              0.6666666666666666,
              "#ed7953"
             ],
             [
              0.7777777777777778,
              "#fb9f3a"
             ],
             [
              0.8888888888888888,
              "#fdca26"
             ],
             [
              1,
              "#f0f921"
             ]
            ],
            "type": "contour"
           }
          ],
          "contourcarpet": [
           {
            "colorbar": {
             "outlinewidth": 0,
             "ticks": ""
            },
            "type": "contourcarpet"
           }
          ],
          "heatmap": [
           {
            "colorbar": {
             "outlinewidth": 0,
             "ticks": ""
            },
            "colorscale": [
             [
              0,
              "#0d0887"
             ],
             [
              0.1111111111111111,
              "#46039f"
             ],
             [
              0.2222222222222222,
              "#7201a8"
             ],
             [
              0.3333333333333333,
              "#9c179e"
             ],
             [
              0.4444444444444444,
              "#bd3786"
             ],
             [
              0.5555555555555556,
              "#d8576b"
             ],
             [
              0.6666666666666666,
              "#ed7953"
             ],
             [
              0.7777777777777778,
              "#fb9f3a"
             ],
             [
              0.8888888888888888,
              "#fdca26"
             ],
             [
              1,
              "#f0f921"
             ]
            ],
            "type": "heatmap"
           }
          ],
          "heatmapgl": [
           {
            "colorbar": {
             "outlinewidth": 0,
             "ticks": ""
            },
            "colorscale": [
             [
              0,
              "#0d0887"
             ],
             [
              0.1111111111111111,
              "#46039f"
             ],
             [
              0.2222222222222222,
              "#7201a8"
             ],
             [
              0.3333333333333333,
              "#9c179e"
             ],
             [
              0.4444444444444444,
              "#bd3786"
             ],
             [
              0.5555555555555556,
              "#d8576b"
             ],
             [
              0.6666666666666666,
              "#ed7953"
             ],
             [
              0.7777777777777778,
              "#fb9f3a"
             ],
             [
              0.8888888888888888,
              "#fdca26"
             ],
             [
              1,
              "#f0f921"
             ]
            ],
            "type": "heatmapgl"
           }
          ],
          "histogram": [
           {
            "marker": {
             "pattern": {
              "fillmode": "overlay",
              "size": 10,
              "solidity": 0.2
             }
            },
            "type": "histogram"
           }
          ],
          "histogram2d": [
           {
            "colorbar": {
             "outlinewidth": 0,
             "ticks": ""
            },
            "colorscale": [
             [
              0,
              "#0d0887"
             ],
             [
              0.1111111111111111,
              "#46039f"
             ],
             [
              0.2222222222222222,
              "#7201a8"
             ],
             [
              0.3333333333333333,
              "#9c179e"
             ],
             [
              0.4444444444444444,
              "#bd3786"
             ],
             [
              0.5555555555555556,
              "#d8576b"
             ],
             [
              0.6666666666666666,
              "#ed7953"
             ],
             [
              0.7777777777777778,
              "#fb9f3a"
             ],
             [
              0.8888888888888888,
              "#fdca26"
             ],
             [
              1,
              "#f0f921"
             ]
            ],
            "type": "histogram2d"
           }
          ],
          "histogram2dcontour": [
           {
            "colorbar": {
             "outlinewidth": 0,
             "ticks": ""
            },
            "colorscale": [
             [
              0,
              "#0d0887"
             ],
             [
              0.1111111111111111,
              "#46039f"
             ],
             [
              0.2222222222222222,
              "#7201a8"
             ],
             [
              0.3333333333333333,
              "#9c179e"
             ],
             [
              0.4444444444444444,
              "#bd3786"
             ],
             [
              0.5555555555555556,
              "#d8576b"
             ],
             [
              0.6666666666666666,
              "#ed7953"
             ],
             [
              0.7777777777777778,
              "#fb9f3a"
             ],
             [
              0.8888888888888888,
              "#fdca26"
             ],
             [
              1,
              "#f0f921"
             ]
            ],
            "type": "histogram2dcontour"
           }
          ],
          "mesh3d": [
           {
            "colorbar": {
             "outlinewidth": 0,
             "ticks": ""
            },
            "type": "mesh3d"
           }
          ],
          "parcoords": [
           {
            "line": {
             "colorbar": {
              "outlinewidth": 0,
              "ticks": ""
             }
            },
            "type": "parcoords"
           }
          ],
          "pie": [
           {
            "automargin": true,
            "type": "pie"
           }
          ],
          "scatter": [
           {
            "fillpattern": {
             "fillmode": "overlay",
             "size": 10,
             "solidity": 0.2
            },
            "type": "scatter"
           }
          ],
          "scatter3d": [
           {
            "line": {
             "colorbar": {
              "outlinewidth": 0,
              "ticks": ""
             }
            },
            "marker": {
             "colorbar": {
              "outlinewidth": 0,
              "ticks": ""
             }
            },
            "type": "scatter3d"
           }
          ],
          "scattercarpet": [
           {
            "marker": {
             "colorbar": {
              "outlinewidth": 0,
              "ticks": ""
             }
            },
            "type": "scattercarpet"
           }
          ],
          "scattergeo": [
           {
            "marker": {
             "colorbar": {
              "outlinewidth": 0,
              "ticks": ""
             }
            },
            "type": "scattergeo"
           }
          ],
          "scattergl": [
           {
            "marker": {
             "colorbar": {
              "outlinewidth": 0,
              "ticks": ""
             }
            },
            "type": "scattergl"
           }
          ],
          "scattermapbox": [
           {
            "marker": {
             "colorbar": {
              "outlinewidth": 0,
              "ticks": ""
             }
            },
            "type": "scattermapbox"
           }
          ],
          "scatterpolar": [
           {
            "marker": {
             "colorbar": {
              "outlinewidth": 0,
              "ticks": ""
             }
            },
            "type": "scatterpolar"
           }
          ],
          "scatterpolargl": [
           {
            "marker": {
             "colorbar": {
              "outlinewidth": 0,
              "ticks": ""
             }
            },
            "type": "scatterpolargl"
           }
          ],
          "scatterternary": [
           {
            "marker": {
             "colorbar": {
              "outlinewidth": 0,
              "ticks": ""
             }
            },
            "type": "scatterternary"
           }
          ],
          "surface": [
           {
            "colorbar": {
             "outlinewidth": 0,
             "ticks": ""
            },
            "colorscale": [
             [
              0,
              "#0d0887"
             ],
             [
              0.1111111111111111,
              "#46039f"
             ],
             [
              0.2222222222222222,
              "#7201a8"
             ],
             [
              0.3333333333333333,
              "#9c179e"
             ],
             [
              0.4444444444444444,
              "#bd3786"
             ],
             [
              0.5555555555555556,
              "#d8576b"
             ],
             [
              0.6666666666666666,
              "#ed7953"
             ],
             [
              0.7777777777777778,
              "#fb9f3a"
             ],
             [
              0.8888888888888888,
              "#fdca26"
             ],
             [
              1,
              "#f0f921"
             ]
            ],
            "type": "surface"
           }
          ],
          "table": [
           {
            "cells": {
             "fill": {
              "color": "#EBF0F8"
             },
             "line": {
              "color": "white"
             }
            },
            "header": {
             "fill": {
              "color": "#C8D4E3"
             },
             "line": {
              "color": "white"
             }
            },
            "type": "table"
           }
          ]
         },
         "layout": {
          "annotationdefaults": {
           "arrowcolor": "#2a3f5f",
           "arrowhead": 0,
           "arrowwidth": 1
          },
          "autotypenumbers": "strict",
          "coloraxis": {
           "colorbar": {
            "outlinewidth": 0,
            "ticks": ""
           }
          },
          "colorscale": {
           "diverging": [
            [
             0,
             "#8e0152"
            ],
            [
             0.1,
             "#c51b7d"
            ],
            [
             0.2,
             "#de77ae"
            ],
            [
             0.3,
             "#f1b6da"
            ],
            [
             0.4,
             "#fde0ef"
            ],
            [
             0.5,
             "#f7f7f7"
            ],
            [
             0.6,
             "#e6f5d0"
            ],
            [
             0.7,
             "#b8e186"
            ],
            [
             0.8,
             "#7fbc41"
            ],
            [
             0.9,
             "#4d9221"
            ],
            [
             1,
             "#276419"
            ]
           ],
           "sequential": [
            [
             0,
             "#0d0887"
            ],
            [
             0.1111111111111111,
             "#46039f"
            ],
            [
             0.2222222222222222,
             "#7201a8"
            ],
            [
             0.3333333333333333,
             "#9c179e"
            ],
            [
             0.4444444444444444,
             "#bd3786"
            ],
            [
             0.5555555555555556,
             "#d8576b"
            ],
            [
             0.6666666666666666,
             "#ed7953"
            ],
            [
             0.7777777777777778,
             "#fb9f3a"
            ],
            [
             0.8888888888888888,
             "#fdca26"
            ],
            [
             1,
             "#f0f921"
            ]
           ],
           "sequentialminus": [
            [
             0,
             "#0d0887"
            ],
            [
             0.1111111111111111,
             "#46039f"
            ],
            [
             0.2222222222222222,
             "#7201a8"
            ],
            [
             0.3333333333333333,
             "#9c179e"
            ],
            [
             0.4444444444444444,
             "#bd3786"
            ],
            [
             0.5555555555555556,
             "#d8576b"
            ],
            [
             0.6666666666666666,
             "#ed7953"
            ],
            [
             0.7777777777777778,
             "#fb9f3a"
            ],
            [
             0.8888888888888888,
             "#fdca26"
            ],
            [
             1,
             "#f0f921"
            ]
           ]
          },
          "colorway": [
           "#636efa",
           "#EF553B",
           "#00cc96",
           "#ab63fa",
           "#FFA15A",
           "#19d3f3",
           "#FF6692",
           "#B6E880",
           "#FF97FF",
           "#FECB52"
          ],
          "font": {
           "color": "#2a3f5f"
          },
          "geo": {
           "bgcolor": "white",
           "lakecolor": "white",
           "landcolor": "#E5ECF6",
           "showlakes": true,
           "showland": true,
           "subunitcolor": "white"
          },
          "hoverlabel": {
           "align": "left"
          },
          "hovermode": "closest",
          "mapbox": {
           "style": "light"
          },
          "paper_bgcolor": "white",
          "plot_bgcolor": "#E5ECF6",
          "polar": {
           "angularaxis": {
            "gridcolor": "white",
            "linecolor": "white",
            "ticks": ""
           },
           "bgcolor": "#E5ECF6",
           "radialaxis": {
            "gridcolor": "white",
            "linecolor": "white",
            "ticks": ""
           }
          },
          "scene": {
           "xaxis": {
            "backgroundcolor": "#E5ECF6",
            "gridcolor": "white",
            "gridwidth": 2,
            "linecolor": "white",
            "showbackground": true,
            "ticks": "",
            "zerolinecolor": "white"
           },
           "yaxis": {
            "backgroundcolor": "#E5ECF6",
            "gridcolor": "white",
            "gridwidth": 2,
            "linecolor": "white",
            "showbackground": true,
            "ticks": "",
            "zerolinecolor": "white"
           },
           "zaxis": {
            "backgroundcolor": "#E5ECF6",
            "gridcolor": "white",
            "gridwidth": 2,
            "linecolor": "white",
            "showbackground": true,
            "ticks": "",
            "zerolinecolor": "white"
           }
          },
          "shapedefaults": {
           "line": {
            "color": "#2a3f5f"
           }
          },
          "ternary": {
           "aaxis": {
            "gridcolor": "white",
            "linecolor": "white",
            "ticks": ""
           },
           "baxis": {
            "gridcolor": "white",
            "linecolor": "white",
            "ticks": ""
           },
           "bgcolor": "#E5ECF6",
           "caxis": {
            "gridcolor": "white",
            "linecolor": "white",
            "ticks": ""
           }
          },
          "title": {
           "x": 0.05
          },
          "xaxis": {
           "automargin": true,
           "gridcolor": "white",
           "linecolor": "white",
           "ticks": "",
           "title": {
            "standoff": 15
           },
           "zerolinecolor": "white",
           "zerolinewidth": 2
          },
          "yaxis": {
           "automargin": true,
           "gridcolor": "white",
           "linecolor": "white",
           "ticks": "",
           "title": {
            "standoff": 15
           },
           "zerolinecolor": "white",
           "zerolinewidth": 2
          }
         }
        },
        "title": {
         "text": "📊 Monthly Correlation Heatmap (Group 1) - MSCI_COLCAP_Valor hoy"
        },
        "width": 1000,
        "xaxis": {
         "anchor": "y",
         "domain": [
          0,
          1
         ],
         "tickangle": -45,
         "title": {
          "text": "Month"
         }
        },
        "yaxis": {
         "anchor": "x",
         "autorange": "reversed",
         "domain": [
          0,
          1
         ],
         "title": {
          "text": "Stock"
         }
        }
       }
      }
     },
     "metadata": {},
     "output_type": "display_data"
    },
    {
     "data": {
      "application/vnd.plotly.v1+json": {
       "config": {
        "plotlyServerURL": "https://plot.ly"
       },
       "data": [
        {
         "coloraxis": "coloraxis",
         "hovertemplate": "Month: %{x}<br>Stock: %{y}<br>Correlation: %{z}<extra></extra>",
         "name": "0",
         "type": "heatmap",
         "x": [
          "2020-03",
          "2020-04",
          "2020-05",
          "2020-06",
          "2020-07",
          "2020-08",
          "2020-09",
          "2020-10",
          "2020-11",
          "2020-12",
          "2021-01",
          "2021-02",
          "2021-03",
          "2021-04",
          "2021-05",
          "2021-06",
          "2021-07",
          "2021-08",
          "2021-09",
          "2021-10",
          "2021-11",
          "2021-12",
          "2022-01",
          "2022-02",
          "2022-03",
          "2022-04",
          "2022-05",
          "2022-06",
          "2022-07",
          "2022-08",
          "2022-09",
          "2022-10",
          "2022-11",
          "2022-12",
          "2023-01",
          "2023-02",
          "2023-03",
          "2023-04",
          "2023-05",
          "2023-06",
          "2023-07",
          "2023-08",
          "2023-09",
          "2023-10",
          "2023-11",
          "2023-12",
          "2024-01",
          "2024-02",
          "2024-03",
          "2024-04",
          "2024-05",
          "2024-06",
          "2024-07",
          "2024-08",
          "2024-09",
          "2024-10",
          "2024-11",
          "2024-12",
          "2025-01",
          "2025-02",
          "2025-03",
          "2025-04",
          "2025-05",
          "2025-06",
          "2025-07",
          "2025-08",
          "2025-09"
         ],
         "xaxis": "x",
         "y": [
          "GRUPOARGOS_Precio cierre",
          "GRUPOAVAL_Precio cierre",
          "GRUPOSURA_Precio cierre",
          "GXTESCOL_Precio cierre",
          "HCOLSEL_Precio cierre",
          "ICOLCAP_Precio cierre",
          "ISA_Precio cierre",
          "MINEROS_Precio cierre",
          "NUTRESA_Precio cierre",
          "PEI_Precio cierre",
          "PFAVAL_Precio cierre",
          "PFBCOLOMBIA_Precio cierre",
          "PFCEMARGOS_Precio cierre",
          "PFCORFICOL_Precio cierre",
          "PFDAVVNDA_Precio cierre",
          "PFGRUPARG_Precio cierre",
          "PFGRUPOSURA_Precio cierre",
          "PROMIGAS_Precio cierre",
          "TERPEL_Precio cierre"
         ],
         "yaxis": "y",
         "z": [
          [
           0.9338821192151133,
           0.42407473115155847,
           0.72945915703804,
           0.23599921051772588,
           0.9061591973134846,
           0.9769109936762659,
           0.8954082446759006,
           0.6270166859093305,
           0.9703566264672527,
           0.9732114752239487,
           0.6468900163503274,
           0.5850418800164651,
           0.91653754574105,
           0.9147106598387926,
           0.9415405220567621,
           0.7416445971952823,
           0.6836011065667018,
           0.9818097132594485,
           0.5629335957593513,
           0.9024922311587842,
           0.42035991409719736,
           0.7399900941181442,
           0.9797954644499359,
           0.6282351538938135,
           0.7672043495797353,
           0.17575776626706385,
           0.4649537795294233,
           -0.731363883514442,
           0.7791917288696557,
           0.5328032835118479,
           0.20921231853799865,
           0.5759129994714183,
           0.6669327174052008,
           -0.026983393584338357,
           0.8537962158024488,
           0.1651089860967419,
           0.6068281737617474,
           0.7391912825218645,
           -0.6835173725871878,
           0.23015001111435365,
           0.3473386595696613,
           0.8824499230427176,
           0.7798350583390874,
           0.5202268286820572,
           0.7906374814024133,
           0.8500104929142976,
           0.9144280461785439,
           0.8931621395991387,
           0.8785218622196529,
           0.38787865884668066,
           0.5509374336208547,
           0.2623877384417694,
           0.48759149374061733,
           0.6075333436362097,
           -0.3292097858673893,
           0.8026301932221593,
           0.7427589539158971,
           0.24864161218595374,
           0.08639764528267282,
           0.7449891388914794,
           0.3956430108215278,
           0.7313468472943491,
           0.05901448990887274,
           0.7226686346166306,
           -0.6415336745834745,
           0.4320659697304871,
           null
          ],
          [
           -0.0187826758675738,
           -0.5464131517355877,
           null,
           0.17107134898419218,
           -0.47178881352662566,
           0.33875360236753205,
           0.8095718545925352,
           0.494278668231688,
           0.9085171079087183,
           0.8749269625613797,
           0.8022038080679321,
           0.30002978710863487,
           0.4380328584009963,
           0.18670948450004396,
           0.516002146490219,
           0.13619011681376103,
           0.42382145222864315,
           0.9154633737643457,
           -0.82868174847327,
           0.7340671609531744,
           0.8614749562848207,
           0.4696336335225814,
           0.9105062038932017,
           0.2183638931964044,
           -0.6991850263819742,
           0.3247391546257102,
           0.15650892491672166,
           0.4831581706642394,
           0.7383128198902597,
           0.40828880127300465,
           null,
           null,
           null,
           null,
           null,
           null,
           null,
           null,
           null,
           null,
           null,
           null,
           null,
           null,
           null,
           null,
           null,
           null,
           null,
           null,
           null,
           null,
           null,
           null,
           null,
           null,
           null,
           null,
           null,
           null,
           null,
           null,
           null,
           null,
           null,
           null,
           null
          ],
          [
           0.9711917661588089,
           0.9642031147317955,
           0.5445683558063511,
           0.9304025610476888,
           0.5985976959229562,
           0.915360645689601,
           0.8257505374326183,
           0.8465824410035012,
           0.8949670357980712,
           0.961057531063722,
           0.9031334893068912,
           0.813505965595441,
           0.8870641554541853,
           0.8640185890039769,
           0.6640000403990302,
           -0.08642552775413066,
           0.8938127304054211,
           0.9687214026189255,
           0.8169046520881935,
           0.6392841629071256,
           0.1253529600474954,
           -0.008318174482465,
           -0.7168329989347239,
           -0.09748547570887585,
           0.531232390447268,
           -0.6063292633059311,
           0.015756617316356223,
           0.5516716339381186,
           0.448088569433349,
           0.2529938844187949,
           -0.6771211920588949,
           0.41545499080373716,
           0.28835434925709014,
           0.5020760044328042,
           0.02102866554764483,
           0.41390592846295,
           -0.4642105056980085,
           0.7628249046777501,
           0.903321164243162,
           0.6007241774426106,
           0.8436647436332656,
           0.777208136780591,
           -0.22625495680311059,
           0.14706616471110728,
           -0.8668023862118929,
           -0.5381154267079657,
           0.0019219116776534643,
           -0.36282539190214713,
           0.3912432184367651,
           -0.2448450453586228,
           0.014209447127434157,
           0.4232342135696227,
           0.81345442272263,
           0.28573111473118,
           0.5600471271570009,
           0.8771385234799817,
           -0.275226077343328,
           -0.16844390012271343,
           0.4017247491106119,
           0.9790837122451389,
           -0.05194092875419138,
           0.5080627373474813,
           -0.03745208780033801,
           0.6302768450225292,
           -0.4451246576444598,
           0.94356065875962,
           null
          ],
          [
           null,
           null,
           null,
           null,
           null,
           null,
           null,
           null,
           null,
           null,
           null,
           null,
           null,
           null,
           null,
           null,
           null,
           null,
           null,
           null,
           null,
           null,
           null,
           null,
           null,
           null,
           null,
           null,
           null,
           null,
           null,
           null,
           null,
           null,
           null,
           null,
           null,
           null,
           null,
           null,
           null,
           null,
           null,
           null,
           null,
           null,
           null,
           null,
           0.8145439437049743,
           0.15209451650754682,
           0.24649847254348256,
           -0.6498102889111576,
           -0.6427151872576051,
           0.7171354413316708,
           -0.2994795096941124,
           -0.521180255483377,
           0.531829740204423,
           0.42438619274377753,
           0.7527217598528724,
           0.5234352734446613,
           0.054110746591774915,
           0.04093957736755533,
           -0.3284815139954478,
           0.6758299908273767,
           0.7009569161086355,
           0.8065377834140706,
           null
          ],
          [
           0.984197333461241,
           -0.32762990728835734,
           0.39360195049147545,
           0.841015788472554,
           0.8713185344647423,
           0.9717408486646423,
           0.9443173261871626,
           0.8966062027683068,
           0.9800730989791634,
           0.9718183878070266,
           0.9661883796520636,
           0.7821329417640251,
           0.8544677537660352,
           0.9752734975728924,
           0.8865888830051949,
           0.8702480493743389,
           0.7760085361512938,
           0.9933314350891392,
           0.8928298464518903,
           0.8182031646746414,
           0.9761544403117618,
           0.7868892233371612,
           0.9625799341663934,
           0.7027250559807877,
           0.8950844934922195,
           0.7351211537846228,
           0.9570264933353372,
           0.954441471186065,
           0.8221934712828353,
           0.7380681146733515,
           0.610977926549051,
           0.6509462767777957,
           0.6949543385974827,
           0.01657995469590027,
           0.884569869433525,
           0.8312102273038359,
           0.9517736679030719,
           0.41487853604686076,
           0.47983367148787986,
           0.5484239045795717,
           0.8319905410102698,
           0.9234743585177073,
           0.8098855747361153,
           0.02908167023565345,
           0.9439915038167839,
           0.8934564910264831,
           0.873497666743896,
           0.526263847681071,
           0.7264028228971195,
           0.7194381017884159,
           0.8768643163982697,
           0.589531443229237,
           0.9171902442700217,
           0.8165505337154396,
           0.6022430129374872,
           0.8484571276345196,
           0.2245563283953945,
           0.5322771722191115,
           0.8285243286944995,
           0.9828430826834825,
           -0.1534490280072335,
           0.7674812664122423,
           0.2859406627178765,
           0.6920018046769116,
           0.9072471898534108,
           0.9497438992292363,
           null
          ],
          [
           null,
           0.9138379043570312,
           0.8950860964885831,
           0.9605899014163547,
           0.9810506760534426,
           0.9915557972898286,
           0.9859292205582061,
           0.9446155775308562,
           0.9958390173219626,
           0.9894127263970985,
           0.5784600125434864,
           0.789759076860648,
           0.9248460597833514,
           0.9756100413578567,
           0.9792921868771983,
           0.8745400324060795,
           0.9770298668884329,
           0.9925387029388839,
           0.9674271678415054,
           0.9513424937576918,
           0.9339505816292135,
           0.9454742084306266,
           0.9861736982732541,
           0.9594050406549615,
           0.989749549357541,
           0.8504967668145867,
           0.931573286017638,
           0.9908732428166618,
           0.9348138870914064,
           0.9686756011372002,
           0.988880523077752,
           0.6249557344336724,
           0.8655391023150801,
           0.8346667020171161,
           0.9416810669407527,
           0.92245937405198,
           0.9711109206242345,
           0.9116121663207655,
           0.9231764314168799,
           0.9650426117760221,
           0.9627685906354192,
           0.9755781233850991,
           0.9127162844538982,
           0.8706685830880909,
           0.9759851843599613,
           0.9020155089103236,
           0.941046404879587,
           0.9612729185676671,
           0.9438136586758196,
           0.9478272793410673,
           0.9624503969147099,
           0.7167443268641418,
           0.8850439115052381,
           0.9371834742260367,
           0.8845354411832915,
           0.9481144511356042,
           0.9774449007669604,
           0.5735008320497829,
           0.9963024198870974,
           0.997065199755213,
           0.5885314022530147,
           0.8305669812319629,
           0.908160546461977,
           0.8661641738421889,
           0.9374893311446632,
           0.9930696835817958,
           null
          ],
          [
           0.8906093403296707,
           0.48726819922695735,
           -0.07141810378289468,
           0.4094542054213301,
           0.7106468380669971,
           0.9273354828235963,
           0.8228043202917933,
           0.44396708824992337,
           0.5823076305993801,
           0.8656614191462645,
           0.9599331523616057,
           0.7087227691086075,
           0.759723202618506,
           0.8846791274681137,
           0.896224470495313,
           0.45159511488165843,
           0.9561055213900962,
           0.9013803099288177,
           0.5842849223694598,
           -0.14860326905681348,
           0.6959831820676305,
           0.8417805408615561,
           0.9336467743443818,
           0.26136507532294007,
           0.7752926318046162,
           0.8828058682873188,
           0.8183493786091431,
           0.8116663963193027,
           0.4183185057218896,
           0.7273892078881604,
           0.8634083427191702,
           0.3827316668348762,
           0.6215607836724086,
           0.7454481164287032,
           0.7744874446142295,
           0.8463241943599743,
           0.9016179694135178,
           0.1527643918809942,
           0.7676802846965428,
           0.7254200695362178,
           0.9184401990730212,
           0.8697615950603879,
           0.7418486650840558,
           0.3079269082022395,
           0.592924693792056,
           -0.14670632822342922,
           0.8386043236388377,
           0.7398253784542225,
           0.4628558358059211,
           0.7930313965453948,
           -0.18048641347464678,
           0.869636515206143,
           0.7113894927605507,
           0.8977937569954069,
           0.8561581675654922,
           0.8014481476430021,
           -0.2923129674114792,
           0.7232475574145049,
           0.9020996421077597,
           0.9283373846494793,
           -0.2264390351762202,
           0.6535004013961331,
           0.5860978772382561,
           0.46611128581336075,
           0.9030363658762395,
           0.9380808793442647,
           null
          ],
          [
           0.8252129120121747,
           0.02284993155564785,
           -0.17567812219227158,
           0.41023341989310286,
           0.8319426658536909,
           -0.45739248415961326,
           0.8765050126726245,
           0.14621705744194083,
           -0.1653648268322792,
           0.7916857223454401,
           -0.10785393483613902,
           0.289859772820696,
           -0.6545138825822561,
           0.3975288509104987,
           0.816039546256035,
           0.20956332222291674,
           0.7751541290649424,
           0.33345702229035246,
           0.6507036518230709,
           -0.002716122788261103,
           0.8898848206128834,
           0.2138784894779558,
           0.8862570460979705,
           0.8521159333926197,
           -0.3451418231888168,
           0.7799657781809076,
           0.7595395296705032,
           0.974878461627048,
           0.5969557991517446,
           -0.2935367191820032,
           0.8609024640212359,
           -0.41014688153856194,
           0.2297629022055354,
           0.43469861015860806,
           0.3087917214381801,
           0.6919381603359379,
           -0.1723971362250316,
           0.42638063423691425,
           0.5497808224041391,
           0.6215972335446949,
           0.8314393887766227,
           0.7491127930141505,
           -0.24708262263119588,
           0.6686501313578913,
           -0.8773953852239131,
           0.7726536627725246,
           0.599229745216944,
           0.4827933509936972,
           0.6685488563786423,
           0.27411778740316706,
           0.19303118257410498,
           -0.04983428217617817,
           -0.1282884738621733,
           0.5591436055775723,
           -0.0999572772422054,
           0.2868755467226494,
           0.8407266751837308,
           -0.2122682020334325,
           0.6603357182408839,
           0.8648335331504946,
           -0.17380724995645594,
           0.3315043889432349,
           0.5584920611453917,
           0.8456481794152252,
           0.7539146728476929,
           0.9358385994606709,
           null
          ],
          [
           0.9267274748628895,
           0.3765546763541,
           0.36391285747934105,
           0.6038961366384695,
           0.47969938997004974,
           0.8903728458136567,
           0.7242134737985253,
           0.43716259225049575,
           0.6883963023390164,
           0.33717212962404275,
           -0.5864247719372463,
           0.5121610265268219,
           -0.004889038405712706,
           0.8036468509994543,
           0.9256827696868731,
           0.31941634595022467,
           0.802196353484692,
           0.9479701997387184,
           0.39473460175742636,
           0.9277928940675746,
           -0.3774181076463062,
           0.6396541676199902,
           0.8968968672600942,
           0.26178070072777243,
           0.5074896841904758,
           -0.7875137095105607,
           0.36845348972709613,
           -0.024782728316207824,
           0.2203070327537842,
           0.3964632495997311,
           0.592502159224351,
           0.5946797205816917,
           0.3015278457248016,
           -0.16520292623931365,
           0.243097396550624,
           -0.6575260172583485,
           0.6634793630966157,
           0.7637619919639084,
           0.8923436024195728,
           0.7230900645021813,
           -0.41784948093620994,
           -0.09180499597462087,
           -0.4436746814948418,
           0.11071771961095146,
           -0.040436320724449484,
           -0.8163562383511789,
           -0.21985962268079637,
           -0.09667014599999002,
           -0.2445496885231784,
           0.5787246991281705,
           -0.1641934225577612,
           0.25627875229523367,
           -0.3909657097645347,
           0.4444830688835621,
           -0.4766182249003223,
           0.8530530568386573,
           -0.31939765163112305,
           0.4400487531802823,
           0.5640650244126868,
           0.774601942682262,
           0.3336730348663546,
           0.19536667958674822,
           -0.347689930407766,
           -0.25024219064814723,
           0.4135122601300308,
           0.5549021037335066,
           null
          ],
          [
           null,
           null,
           null,
           null,
           null,
           null,
           null,
           null,
           null,
           null,
           null,
           null,
           null,
           null,
           null,
           null,
           null,
           null,
           null,
           null,
           null,
           null,
           null,
           null,
           null,
           null,
           null,
           null,
           null,
           -0.43724430935706066,
           0.4649482871851482,
           -0.346038890850265,
           0.12895564891176423,
           0.7545647936933254,
           0.27008572775219514,
           0.9681387522823109,
           0.7770403311058565,
           0.50019953627321,
           0.8356162280333631,
           -0.6628278620707281,
           0.4603352469678756,
           -0.8748336424284316,
           0.7909517234417406,
           0.7361776370292953,
           0.7285337692476321,
           0.8481957058940532,
           0.032173064142806185,
           -0.20146285900298463,
           0.2737303672135316,
           0.7606157530150024,
           0.2552751504572236,
           0.5895258728279429,
           0.8206295872577097,
           0.8684780868655276,
           0.10145811528124786,
           -0.02449857886676495,
           0.8391420195625128,
           0.17604624695927248,
           0.45982508078973844,
           -0.4120429919813936,
           -0.27599606968500484,
           0.3808822238470802,
           0.5334506747294208,
           -0.16770276369345763,
           0.6612951839141457,
           -0.4555051501944567,
           null
          ],
          [
           0.8461919410632929,
           0.5897614560605684,
           0.7447777465287599,
           0.8907346586360558,
           0.9336296657487965,
           0.9708912660186368,
           0.9277244233384161,
           0.6928958245380598,
           0.8442525350237295,
           0.9769227057652244,
           0.4735992884005729,
           0.8045718134265955,
           0.6723357343927288,
           0.743967497288888,
           0.7861359704270054,
           0.464358947612557,
           0.893053631998284,
           0.9739938492116503,
           0.4238623006626629,
           0.7733846553938329,
           0.8418642261564694,
           0.6678532702556913,
           0.9773974089678703,
           0.5025881648499444,
           -0.7081850462285341,
           0.06253376695344086,
           0.2862501328345262,
           0.9752556441132276,
           0.8367737949338852,
           0.6104532330149228,
           -0.7280652760987663,
           null,
           null,
           null,
           null,
           null,
           null,
           null,
           null,
           null,
           null,
           null,
           null,
           null,
           null,
           null,
           null,
           null,
           null,
           null,
           null,
           null,
           null,
           null,
           null,
           null,
           null,
           null,
           null,
           null,
           null,
           null,
           null,
           null,
           null,
           null,
           null
          ],
          [
           0.9296413597373178,
           0.9143739030545284,
           0.9403430052909983,
           0.9648550393406836,
           0.5058455329666337,
           0.9416779650608992,
           0.9801225410889741,
           0.7734105246157335,
           0.9892395520935922,
           0.9736760416081407,
           0.8320964123629258,
           0.8220021486162568,
           0.8771175777270349,
           0.9192722425084557,
           0.8434875966138209,
           -0.047646960251842514,
           0.4208876672772752,
           0.9865865493195802,
           0.9484771242056204,
           0.8432829531259828,
           0.9697313889028516,
           0.8616970176124898,
           0.9790421054375426,
           0.8795556642627939,
           0.9787718466342147,
           0.8588390473686502,
           0.8377545443392479,
           0.9855649130288917,
           0.6412426537932933,
           0.8816080374767505,
           0.9711760819425426,
           0.7899902479589657,
           0.534609298342987,
           0.8780015483228928,
           0.2772567196705299,
           0.928923143550501,
           0.9745384217556541,
           0.9285287406377208,
           0.9408952091483181,
           0.9649592388698546,
           0.966700895627166,
           0.8582435976784252,
           0.7072483808291283,
           0.6802400372697872,
           0.8476542699081484,
           0.9440379655659333,
           0.5598843635664855,
           0.9199965279403802,
           0.862817686207085,
           0.8836364761449016,
           0.9540219975378778,
           0.8248019875981165,
           0.8120983351665255,
           0.960289192600017,
           0.9350856245876904,
           0.936615442325584,
           0.8869273044442086,
           0.7331772204440234,
           0.958454855932059,
           0.9749865196278558,
           0.7775056929180264,
           0.9533615594488042,
           0.5124435546047814,
           0.9190269184316856,
           0.5122487931793107,
           0.9779320692263791,
           null
          ],
          [
           0.892214326410095,
           0.47964102284000437,
           0.7854588601177502,
           0.6033958009561754,
           0.9206161123381044,
           0.9863863604714096,
           0.37640466126649885,
           0.826645969909915,
           0.8832259431026807,
           0.9568979255902914,
           0.01214797942514692,
           0.5581485338993594,
           0.8538625430938367,
           0.7708561780196003,
           0.8854906561814111,
           0.4420053445742853,
           0.2934679831602736,
           0.9618156115280913,
           -0.13145417808976545,
           0.8501480363975821,
           0.8998633196031198,
           0.1723081107571327,
           0.952000730278512,
           0.5749753852808073,
           -0.02078780368483118,
           0.7113470101725372,
           0.8179269059964097,
           0.9676403720114112,
           0.6063840650927311,
           0.4255799978731176,
           0.8834036270759431,
           -0.1273848557194515,
           0.5787872071611341,
           0.07777537286303256,
           0.5687203179463497,
           0.764870061514628,
           0.009562881655858717,
           0.24908259992501278,
           0.7347930746017423,
           0.6002178030797105,
           -0.33107012287670917,
           0.712605070949629,
           0.7116219974618516,
           0.051705321630473144,
           0.9399152164410016,
           0.8040320975394745,
           0.17235352747449872,
           0.8319550286827427,
           0.8170970670018567,
           0.8461711707305113,
           -0.7220058825363204,
           -0.12513444000845608,
           0.22781107743554374,
           0.6877901300656102,
           0.47512229010660445,
           -0.5684822690129598,
           0.7776390884978428,
           0.13586326364285065,
           -0.11179095840083,
           -0.4884188225170391,
           -0.6056132055078836,
           0.2931899721883191,
           0.1610613353766622,
           0.1501943864921199,
           0.5801764763376689,
           null,
           null
          ],
          [
           -0.7026304294312251,
           0.23897504737733494,
           0.6521213763853517,
           0.0491362340895572,
           -0.4446752719863024,
           0.8244930516038631,
           0.7417728250095714,
           0.42183281177436077,
           0.9217581846025439,
           0.7306907143861215,
           0.3652397766477574,
           -0.009694086020351142,
           0.0026339650723098394,
           -0.12914936870769297,
           0.5810915621540067,
           0.10058542101156272,
           0.6519309234796109,
           0.5105778246146295,
           0.6248664984181913,
           -0.31913349989004164,
           0.48306312881138785,
           0.6760799862250447,
           0.8878975885161197,
           0.7124244869450667,
           0.47931943026844026,
           -0.721605388902172,
           0.6302415068783802,
           0.9829420517892147,
           0.83789539993752,
           -0.3687548123339997,
           0.8185059376599504,
           -0.3157738514435196,
           -0.19643091463940177,
           0.1932859303962724,
           0.703008407898107,
           0.8613984546102935,
           0.5367151410967742,
           0.3894303734825507,
           0.12959161230854194,
           0.7161687922179776,
           0.8398275870392782,
           0.8117512070220247,
           0.5401447829667471,
           0.18432146230240562,
           -0.6113577066287953,
           0.6372107463659507,
           0.7419758917830696,
           0.6812046174029737,
           0.5928742762567585,
           -0.06774679538689526,
           -0.6719769612959876,
           0.8455796926607281,
           0.9251826276337686,
           0.06072891490599462,
           0.2813851706395022,
           0.9352999307192348,
           0.46756959045947505,
           0.26496040488485945,
           0.7929272408877323,
           0.8638263967228219,
           0.053920652964755594,
           0.7240999133605515,
           -0.05861615608413579,
           -0.18063220460718346,
           0.5058684063120577,
           0.9547890441768745,
           null
          ],
          [
           0.9618803933149415,
           0.5057428617587914,
           0.6152953095309626,
           0.5532082030161076,
           -0.23675037952126085,
           0.9265669856629293,
           0.8774859175031389,
           0.510312385569674,
           0.960780643681737,
           0.9577179356248585,
           0.596160758310693,
           0.6365869781735362,
           0.7415304436542045,
           0.3575265401303338,
           0.9088782095402391,
           0.16127793902307688,
           0.4478686473258806,
           0.9837423917912264,
           0.7878545911519863,
           0.8554906541983064,
           0.9104291095216788,
           0.7309984369952311,
           0.8717492660292477,
           0.5562847640305308,
           0.8234934516222017,
           0.5476357895901129,
           0.4991128065256406,
           0.8843940098056446,
           0.8876487768864587,
           0.42638883498095287,
           0.4502634855822971,
           -0.44652621299696743,
           0.7240859367634215,
           0.2957940911260367,
           0.7158148835261373,
           0.728755039065277,
           0.7096377541121903,
           -0.15219673060189845,
           0.9240081109775281,
           0.6961315128192084,
           0.9441742781412861,
           0.885326928304855,
           -0.3032936425385348,
           0.37649968345094165,
           -0.23289071370274345,
           0.8657633851785194,
           0.4236149050198141,
           0.5779427659705842,
           0.1030763343800655,
           0.7281664359417982,
           0.5971432418206075,
           0.9002130775209982,
           0.918443127743192,
           0.2056208394682514,
           -0.3555876381097915,
           0.5491099370255109,
           0.7338843141657959,
           0.31478332843285856,
           0.6016125058393521,
           0.9380764893251381,
           0.5435225895430191,
           0.521403750199736,
           0.6194243988289115,
           0.07912225230612595,
           -0.3514528892580138,
           0.9769172456097903,
           null
          ],
          [
           0.9790503531527952,
           0.6190104682706388,
           0.8506964418772769,
           0.6896294133415051,
           0.755223528770324,
           0.9083799343910651,
           0.13577073834307238,
           0.6344411389748879,
           0.833306509095067,
           0.9377889631281813,
           0.07922607340667406,
           0.510780335055014,
           0.9290111152244636,
           0.883973735291646,
           0.923828247653032,
           0.5634455743514264,
           0.6991017150175171,
           0.8831705140123562,
           0.7057536695829553,
           0.840825032955945,
           0.44108807092931723,
           0.5535608332390302,
           0.9609082760145478,
           0.6190308771756978,
           -0.06479156631576606,
           0.7305736700783981,
           0.8798473921808219,
           0.9271233879754174,
           0.33721923756026334,
           -0.04769112424837708,
           0.8649503499849365,
           -0.28718806305268735,
           -0.015844798897088928,
           0.26700854028328136,
           0.5257550160044495,
           0.3452280894774016,
           0.7733729450502878,
           0.14996169028895434,
           0.289534762443893,
           -0.5891490478396997,
           0.11180085814530985,
           0.9122223235250004,
           0.6309860428363103,
           0.0019019304620799165,
           0.9183925190898939,
           0.8396899393303565,
           0.3748695473157191,
           0.6297067030833821,
           0.658007397107425,
           0.5529535790128132,
           0.7070388306936414,
           0.6041464579249286,
           0.6953107032143585,
           0.7720818695581451,
           0.38385209768065026,
           0.9569868890967314,
           0.775256197113393,
           -0.2650759713099089,
           -0.014430063869793093,
           0.8909351393826033,
           -0.19079326152532744,
           0.30627326386711334,
           0.05944112814123251,
           0.0739263930840411,
           -0.6369071462446858,
           -0.6653602201840003,
           null
          ],
          [
           0.936560185353915,
           0.5219810154980817,
           0.5332602121739752,
           0.8938064854785236,
           0.8726978491883849,
           0.9566964910934327,
           0.6264931355038488,
           0.7721820560672994,
           0.8830103449924829,
           0.9219919198379727,
           0.910566006671367,
           0.6925122195441786,
           0.9285610657252276,
           0.9240581425716705,
           0.7788314079443625,
           0.09262814061842305,
           0.8792270526867196,
           0.9750677167256199,
           0.816432643026991,
           0.6167912952414378,
           0.20795920624682604,
           0.12957444145155342,
           0.9458906349619596,
           0.6986391993466227,
           0.39077969916889577,
           0.4452018393021688,
           0.514203331418153,
           0.9882341173787091,
           0.5696882364456919,
           -0.1802448135601163,
           0.7795352067207372,
           -0.04304634305434599,
           0.3800505017125222,
           0.708177102492153,
           0.5581787106183554,
           0.975549826120435,
           0.8362068282638695,
           0.7396610128357066,
           0.23917831581329663,
           -0.5462347843515918,
           0.7336636979361848,
           0.8171687302239292,
           -0.3519781341064157,
           0.1930761137956729,
           0.5017143255024996,
           0.7733268604375078,
           0.3123983550889952,
           0.467568859928704,
           0.3368714542438597,
           0.06615257399985099,
           0.8665672841367332,
           0.1940684013167875,
           0.9350073567440021,
           0.48474946628667004,
           0.6667307961909867,
           0.8345804040676453,
           0.0540448486629246,
           -0.11537194718235379,
           0.9565892921601109,
           0.9224726864617082,
           0.10054559732692968,
           -0.16386370524469102,
           0.23382140192954576,
           0.10065113039353787,
           -0.2209139651201937,
           -0.2759401128394629,
           null
          ],
          [
           -0.20393027217536638,
           0.1768333124208574,
           0.6286148378522373,
           0.4745385833814295,
           0.6790468414651804,
           0.9345233652010885,
           -0.7008989802574992,
           0.4094961355624387,
           0.7691249747556846,
           0.1779045409922697,
           0.7103427503862247,
           0.49858341977560516,
           0.7144922196958451,
           0.4343682570652254,
           0.7696380084632604,
           -0.12604481417507146,
           0.29058424137806615,
           0.9239883278843638,
           0.11612543342967749,
           -0.16707993358867648,
           0.18371083885087547,
           0.3710899601414231,
           0.9023356497974179,
           0.6244424598482742,
           0.7304073844107044,
           0.061613017385178964,
           0.004512608074697229,
           0.9732764843363026,
           0.8622322177605302,
           0.3296039155762658,
           0.8621130543976064,
           -0.22659411804526428,
           -0.28405209936419934,
           -0.4127042667496945,
           0.1032564254547965,
           0.6674996077023387,
           0.2600653696587901,
           0.3122511072876622,
           0.1550576642330543,
           -0.23444806095256968,
           0.8974059525406813,
           0.6963006975232039,
           -0.4190269151006266,
           0.09903291734288236,
           0.35296310697610933,
           0.8484918028505858,
           0.3784834916958789,
           -0.18057405857925846,
           0.11915544877347319,
           -0.5227740238805848,
           0.5585757753949184,
           0.4476387582731481,
           -0.5529024816249519,
           0.33516559578950594,
           -0.06035117054065392,
           -0.21743965313596353,
           -0.045059091499905606,
           -0.048672265206940235,
           -0.6851468906578787,
           0.07677415386766864,
           -0.1711467418384681,
           -0.12367680564721062,
           0.5455545472983121,
           0.6396286185961518,
           -0.2845181757515119,
           0.7638129080957481,
           null
          ],
          [
           -0.26741561402033026,
           0.5260774825803031,
           0.29796562723195674,
           0.4077479459922018,
           0.7664416857691578,
           0.5762848418207528,
           -0.20262366926729722,
           -0.27960878259138855,
           0.7155665467849223,
           0.246198109412601,
           0.7285999263441983,
           0.11096122675531532,
           0.5761981899477924,
           0.7171735460634278,
           0.5401024835468987,
           -0.2983922858751236,
           0.6722488259798022,
           0.9207210454660155,
           0.4067878966600357,
           0.7974165758035064,
           0.26438492210907555,
           0.05802245724742408,
           0.793516280834263,
           0.21321725097908806,
           -0.8880128595695291,
           0.7338938348489074,
           0.4635008932347303,
           0.9471773374794317,
           0.5127666242664466,
           -0.3927863123028138,
           0.5600020822289666,
           0.17761846384552005,
           0.011282023682164601,
           0.406040334472205,
           0.45101610874337816,
           0.7165235957387303,
           0.20896448176682966,
           -0.17051521670729108,
           -0.14232073490722802,
           0.8339013355438462,
           0.7505306341612583,
           0.7255250508883857,
           -0.4728108742135166,
           0.2449344785051582,
           0.8437352501463043,
           0.7372233250499414,
           0.7383680608516389,
           0.543925228740803,
           -0.5896547859672511,
           -0.06301376826933704,
           0.8363462318944721,
           0.8479370299429116,
           0.7761250851246908,
           0.6765140623152142,
           -0.4645726498132388,
           0.7552050178952584,
           0.9079489853849698,
           -0.07892569000751588,
           0.02082533334319149,
           0.7884761733304217,
           0.11022568571455948,
           0.6204496039456207,
           -0.2706147934192908,
           -0.19369526849677438,
           0.6237831439038979,
           0.9696229516749517,
           null
          ]
         ]
        }
       ],
       "layout": {
        "autosize": false,
        "coloraxis": {
         "colorbar": {
          "title": {
           "text": "Correlation"
          }
         },
         "colorscale": [
          [
           0,
           "rgb(5,48,97)"
          ],
          [
           0.1,
           "rgb(33,102,172)"
          ],
          [
           0.2,
           "rgb(67,147,195)"
          ],
          [
           0.3,
           "rgb(146,197,222)"
          ],
          [
           0.4,
           "rgb(209,229,240)"
          ],
          [
           0.5,
           "rgb(247,247,247)"
          ],
          [
           0.6,
           "rgb(253,219,199)"
          ],
          [
           0.7,
           "rgb(244,165,130)"
          ],
          [
           0.8,
           "rgb(214,96,77)"
          ],
          [
           0.9,
           "rgb(178,24,43)"
          ],
          [
           1,
           "rgb(103,0,31)"
          ]
         ]
        },
        "height": 600,
        "template": {
         "data": {
          "bar": [
           {
            "error_x": {
             "color": "#2a3f5f"
            },
            "error_y": {
             "color": "#2a3f5f"
            },
            "marker": {
             "line": {
              "color": "#E5ECF6",
              "width": 0.5
             },
             "pattern": {
              "fillmode": "overlay",
              "size": 10,
              "solidity": 0.2
             }
            },
            "type": "bar"
           }
          ],
          "barpolar": [
           {
            "marker": {
             "line": {
              "color": "#E5ECF6",
              "width": 0.5
             },
             "pattern": {
              "fillmode": "overlay",
              "size": 10,
              "solidity": 0.2
             }
            },
            "type": "barpolar"
           }
          ],
          "carpet": [
           {
            "aaxis": {
             "endlinecolor": "#2a3f5f",
             "gridcolor": "white",
             "linecolor": "white",
             "minorgridcolor": "white",
             "startlinecolor": "#2a3f5f"
            },
            "baxis": {
             "endlinecolor": "#2a3f5f",
             "gridcolor": "white",
             "linecolor": "white",
             "minorgridcolor": "white",
             "startlinecolor": "#2a3f5f"
            },
            "type": "carpet"
           }
          ],
          "choropleth": [
           {
            "colorbar": {
             "outlinewidth": 0,
             "ticks": ""
            },
            "type": "choropleth"
           }
          ],
          "contour": [
           {
            "colorbar": {
             "outlinewidth": 0,
             "ticks": ""
            },
            "colorscale": [
             [
              0,
              "#0d0887"
             ],
             [
              0.1111111111111111,
              "#46039f"
             ],
             [
              0.2222222222222222,
              "#7201a8"
             ],
             [
              0.3333333333333333,
              "#9c179e"
             ],
             [
              0.4444444444444444,
              "#bd3786"
             ],
             [
              0.5555555555555556,
              "#d8576b"
             ],
             [
              0.6666666666666666,
              "#ed7953"
             ],
             [
              0.7777777777777778,
              "#fb9f3a"
             ],
             [
              0.8888888888888888,
              "#fdca26"
             ],
             [
              1,
              "#f0f921"
             ]
            ],
            "type": "contour"
           }
          ],
          "contourcarpet": [
           {
            "colorbar": {
             "outlinewidth": 0,
             "ticks": ""
            },
            "type": "contourcarpet"
           }
          ],
          "heatmap": [
           {
            "colorbar": {
             "outlinewidth": 0,
             "ticks": ""
            },
            "colorscale": [
             [
              0,
              "#0d0887"
             ],
             [
              0.1111111111111111,
              "#46039f"
             ],
             [
              0.2222222222222222,
              "#7201a8"
             ],
             [
              0.3333333333333333,
              "#9c179e"
             ],
             [
              0.4444444444444444,
              "#bd3786"
             ],
             [
              0.5555555555555556,
              "#d8576b"
             ],
             [
              0.6666666666666666,
              "#ed7953"
             ],
             [
              0.7777777777777778,
              "#fb9f3a"
             ],
             [
              0.8888888888888888,
              "#fdca26"
             ],
             [
              1,
              "#f0f921"
             ]
            ],
            "type": "heatmap"
           }
          ],
          "heatmapgl": [
           {
            "colorbar": {
             "outlinewidth": 0,
             "ticks": ""
            },
            "colorscale": [
             [
              0,
              "#0d0887"
             ],
             [
              0.1111111111111111,
              "#46039f"
             ],
             [
              0.2222222222222222,
              "#7201a8"
             ],
             [
              0.3333333333333333,
              "#9c179e"
             ],
             [
              0.4444444444444444,
              "#bd3786"
             ],
             [
              0.5555555555555556,
              "#d8576b"
             ],
             [
              0.6666666666666666,
              "#ed7953"
             ],
             [
              0.7777777777777778,
              "#fb9f3a"
             ],
             [
              0.8888888888888888,
              "#fdca26"
             ],
             [
              1,
              "#f0f921"
             ]
            ],
            "type": "heatmapgl"
           }
          ],
          "histogram": [
           {
            "marker": {
             "pattern": {
              "fillmode": "overlay",
              "size": 10,
              "solidity": 0.2
             }
            },
            "type": "histogram"
           }
          ],
          "histogram2d": [
           {
            "colorbar": {
             "outlinewidth": 0,
             "ticks": ""
            },
            "colorscale": [
             [
              0,
              "#0d0887"
             ],
             [
              0.1111111111111111,
              "#46039f"
             ],
             [
              0.2222222222222222,
              "#7201a8"
             ],
             [
              0.3333333333333333,
              "#9c179e"
             ],
             [
              0.4444444444444444,
              "#bd3786"
             ],
             [
              0.5555555555555556,
              "#d8576b"
             ],
             [
              0.6666666666666666,
              "#ed7953"
             ],
             [
              0.7777777777777778,
              "#fb9f3a"
             ],
             [
              0.8888888888888888,
              "#fdca26"
             ],
             [
              1,
              "#f0f921"
             ]
            ],
            "type": "histogram2d"
           }
          ],
          "histogram2dcontour": [
           {
            "colorbar": {
             "outlinewidth": 0,
             "ticks": ""
            },
            "colorscale": [
             [
              0,
              "#0d0887"
             ],
             [
              0.1111111111111111,
              "#46039f"
             ],
             [
              0.2222222222222222,
              "#7201a8"
             ],
             [
              0.3333333333333333,
              "#9c179e"
             ],
             [
              0.4444444444444444,
              "#bd3786"
             ],
             [
              0.5555555555555556,
              "#d8576b"
             ],
             [
              0.6666666666666666,
              "#ed7953"
             ],
             [
              0.7777777777777778,
              "#fb9f3a"
             ],
             [
              0.8888888888888888,
              "#fdca26"
             ],
             [
              1,
              "#f0f921"
             ]
            ],
            "type": "histogram2dcontour"
           }
          ],
          "mesh3d": [
           {
            "colorbar": {
             "outlinewidth": 0,
             "ticks": ""
            },
            "type": "mesh3d"
           }
          ],
          "parcoords": [
           {
            "line": {
             "colorbar": {
              "outlinewidth": 0,
              "ticks": ""
             }
            },
            "type": "parcoords"
           }
          ],
          "pie": [
           {
            "automargin": true,
            "type": "pie"
           }
          ],
          "scatter": [
           {
            "fillpattern": {
             "fillmode": "overlay",
             "size": 10,
             "solidity": 0.2
            },
            "type": "scatter"
           }
          ],
          "scatter3d": [
           {
            "line": {
             "colorbar": {
              "outlinewidth": 0,
              "ticks": ""
             }
            },
            "marker": {
             "colorbar": {
              "outlinewidth": 0,
              "ticks": ""
             }
            },
            "type": "scatter3d"
           }
          ],
          "scattercarpet": [
           {
            "marker": {
             "colorbar": {
              "outlinewidth": 0,
              "ticks": ""
             }
            },
            "type": "scattercarpet"
           }
          ],
          "scattergeo": [
           {
            "marker": {
             "colorbar": {
              "outlinewidth": 0,
              "ticks": ""
             }
            },
            "type": "scattergeo"
           }
          ],
          "scattergl": [
           {
            "marker": {
             "colorbar": {
              "outlinewidth": 0,
              "ticks": ""
             }
            },
            "type": "scattergl"
           }
          ],
          "scattermapbox": [
           {
            "marker": {
             "colorbar": {
              "outlinewidth": 0,
              "ticks": ""
             }
            },
            "type": "scattermapbox"
           }
          ],
          "scatterpolar": [
           {
            "marker": {
             "colorbar": {
              "outlinewidth": 0,
              "ticks": ""
             }
            },
            "type": "scatterpolar"
           }
          ],
          "scatterpolargl": [
           {
            "marker": {
             "colorbar": {
              "outlinewidth": 0,
              "ticks": ""
             }
            },
            "type": "scatterpolargl"
           }
          ],
          "scatterternary": [
           {
            "marker": {
             "colorbar": {
              "outlinewidth": 0,
              "ticks": ""
             }
            },
            "type": "scatterternary"
           }
          ],
          "surface": [
           {
            "colorbar": {
             "outlinewidth": 0,
             "ticks": ""
            },
            "colorscale": [
             [
              0,
              "#0d0887"
             ],
             [
              0.1111111111111111,
              "#46039f"
             ],
             [
              0.2222222222222222,
              "#7201a8"
             ],
             [
              0.3333333333333333,
              "#9c179e"
             ],
             [
              0.4444444444444444,
              "#bd3786"
             ],
             [
              0.5555555555555556,
              "#d8576b"
             ],
             [
              0.6666666666666666,
              "#ed7953"
             ],
             [
              0.7777777777777778,
              "#fb9f3a"
             ],
             [
              0.8888888888888888,
              "#fdca26"
             ],
             [
              1,
              "#f0f921"
             ]
            ],
            "type": "surface"
           }
          ],
          "table": [
           {
            "cells": {
             "fill": {
              "color": "#EBF0F8"
             },
             "line": {
              "color": "white"
             }
            },
            "header": {
             "fill": {
              "color": "#C8D4E3"
             },
             "line": {
              "color": "white"
             }
            },
            "type": "table"
           }
          ]
         },
         "layout": {
          "annotationdefaults": {
           "arrowcolor": "#2a3f5f",
           "arrowhead": 0,
           "arrowwidth": 1
          },
          "autotypenumbers": "strict",
          "coloraxis": {
           "colorbar": {
            "outlinewidth": 0,
            "ticks": ""
           }
          },
          "colorscale": {
           "diverging": [
            [
             0,
             "#8e0152"
            ],
            [
             0.1,
             "#c51b7d"
            ],
            [
             0.2,
             "#de77ae"
            ],
            [
             0.3,
             "#f1b6da"
            ],
            [
             0.4,
             "#fde0ef"
            ],
            [
             0.5,
             "#f7f7f7"
            ],
            [
             0.6,
             "#e6f5d0"
            ],
            [
             0.7,
             "#b8e186"
            ],
            [
             0.8,
             "#7fbc41"
            ],
            [
             0.9,
             "#4d9221"
            ],
            [
             1,
             "#276419"
            ]
           ],
           "sequential": [
            [
             0,
             "#0d0887"
            ],
            [
             0.1111111111111111,
             "#46039f"
            ],
            [
             0.2222222222222222,
             "#7201a8"
            ],
            [
             0.3333333333333333,
             "#9c179e"
            ],
            [
             0.4444444444444444,
             "#bd3786"
            ],
            [
             0.5555555555555556,
             "#d8576b"
            ],
            [
             0.6666666666666666,
             "#ed7953"
            ],
            [
             0.7777777777777778,
             "#fb9f3a"
            ],
            [
             0.8888888888888888,
             "#fdca26"
            ],
            [
             1,
             "#f0f921"
            ]
           ],
           "sequentialminus": [
            [
             0,
             "#0d0887"
            ],
            [
             0.1111111111111111,
             "#46039f"
            ],
            [
             0.2222222222222222,
             "#7201a8"
            ],
            [
             0.3333333333333333,
             "#9c179e"
            ],
            [
             0.4444444444444444,
             "#bd3786"
            ],
            [
             0.5555555555555556,
             "#d8576b"
            ],
            [
             0.6666666666666666,
             "#ed7953"
            ],
            [
             0.7777777777777778,
             "#fb9f3a"
            ],
            [
             0.8888888888888888,
             "#fdca26"
            ],
            [
             1,
             "#f0f921"
            ]
           ]
          },
          "colorway": [
           "#636efa",
           "#EF553B",
           "#00cc96",
           "#ab63fa",
           "#FFA15A",
           "#19d3f3",
           "#FF6692",
           "#B6E880",
           "#FF97FF",
           "#FECB52"
          ],
          "font": {
           "color": "#2a3f5f"
          },
          "geo": {
           "bgcolor": "white",
           "lakecolor": "white",
           "landcolor": "#E5ECF6",
           "showlakes": true,
           "showland": true,
           "subunitcolor": "white"
          },
          "hoverlabel": {
           "align": "left"
          },
          "hovermode": "closest",
          "mapbox": {
           "style": "light"
          },
          "paper_bgcolor": "white",
          "plot_bgcolor": "#E5ECF6",
          "polar": {
           "angularaxis": {
            "gridcolor": "white",
            "linecolor": "white",
            "ticks": ""
           },
           "bgcolor": "#E5ECF6",
           "radialaxis": {
            "gridcolor": "white",
            "linecolor": "white",
            "ticks": ""
           }
          },
          "scene": {
           "xaxis": {
            "backgroundcolor": "#E5ECF6",
            "gridcolor": "white",
            "gridwidth": 2,
            "linecolor": "white",
            "showbackground": true,
            "ticks": "",
            "zerolinecolor": "white"
           },
           "yaxis": {
            "backgroundcolor": "#E5ECF6",
            "gridcolor": "white",
            "gridwidth": 2,
            "linecolor": "white",
            "showbackground": true,
            "ticks": "",
            "zerolinecolor": "white"
           },
           "zaxis": {
            "backgroundcolor": "#E5ECF6",
            "gridcolor": "white",
            "gridwidth": 2,
            "linecolor": "white",
            "showbackground": true,
            "ticks": "",
            "zerolinecolor": "white"
           }
          },
          "shapedefaults": {
           "line": {
            "color": "#2a3f5f"
           }
          },
          "ternary": {
           "aaxis": {
            "gridcolor": "white",
            "linecolor": "white",
            "ticks": ""
           },
           "baxis": {
            "gridcolor": "white",
            "linecolor": "white",
            "ticks": ""
           },
           "bgcolor": "#E5ECF6",
           "caxis": {
            "gridcolor": "white",
            "linecolor": "white",
            "ticks": ""
           }
          },
          "title": {
           "x": 0.05
          },
          "xaxis": {
           "automargin": true,
           "gridcolor": "white",
           "linecolor": "white",
           "ticks": "",
           "title": {
            "standoff": 15
           },
           "zerolinecolor": "white",
           "zerolinewidth": 2
          },
          "yaxis": {
           "automargin": true,
           "gridcolor": "white",
           "linecolor": "white",
           "ticks": "",
           "title": {
            "standoff": 15
           },
           "zerolinecolor": "white",
           "zerolinewidth": 2
          }
         }
        },
        "title": {
         "text": "📊 Monthly Correlation Heatmap (Group 2) - MSCI_COLCAP_Valor hoy"
        },
        "width": 1000,
        "xaxis": {
         "anchor": "y",
         "domain": [
          0,
          1
         ],
         "tickangle": -45,
         "title": {
          "text": "Month"
         }
        },
        "yaxis": {
         "anchor": "x",
         "autorange": "reversed",
         "domain": [
          0,
          1
         ],
         "title": {
          "text": "Stock"
         }
        }
       }
      }
     },
     "metadata": {},
     "output_type": "display_data"
    }
   ],
   "source": [
    "monthly_corr.index = monthly_corr.index.astype(str)\n",
    "# 🔥 **Split into Two Groups**\n",
    "stocks = list(monthly_corr.columns)\n",
    "midpoint = len(stocks) // 2  # Divide into two equal parts\n",
    "\n",
    "group1 = stocks[:midpoint]  # First half\n",
    "group2 = stocks[midpoint:]  # Second half\n",
    "\n",
    "# **Function to Create Heatmap**\n",
    "def plot_heatmap(corr_data, group, title):\n",
    "    fig = px.imshow(\n",
    "        corr_data[group].T,  # Transpose for better view\n",
    "        labels=dict(x=\"Month\", y=\"Stock\", color=\"Correlation\"),\n",
    "        title=title,\n",
    "        color_continuous_scale=\"RdBu_r\",\n",
    "        aspect=\"auto\",\n",
    "    )\n",
    "\n",
    "    fig.update_layout(\n",
    "        autosize=False,\n",
    "        width=1000,\n",
    "        height=600,\n",
    "        xaxis=dict(tickangle=-45),\n",
    "    )\n",
    "\n",
    "    fig.show()\n",
    "\n",
    "# **Plot Heatmaps**\n",
    "plot_heatmap(monthly_corr, group1, f\"📊 Monthly Correlation Heatmap (Group 1) - {target_stock}\")\n",
    "plot_heatmap(monthly_corr, group2, f\"📊 Monthly Correlation Heatmap (Group 2) - {target_stock}\")\n"
   ]
  },
  {
   "cell_type": "code",
   "execution_count": 17,
   "metadata": {},
   "outputs": [
    {
     "name": "stderr",
     "output_type": "stream",
     "text": [
      "C:\\Users\\ACER\\AppData\\Local\\Temp\\ipykernel_12848\\108357642.py:22: FutureWarning:\n",
      "\n",
      "DataFrame.fillna with 'method' is deprecated and will raise in a future version. Use obj.ffill() or obj.bfill() instead.\n",
      "\n",
      "C:\\Users\\ACER\\AppData\\Local\\Temp\\ipykernel_12848\\108357642.py:23: FutureWarning:\n",
      "\n",
      "DataFrame.fillna with 'method' is deprecated and will raise in a future version. Use obj.ffill() or obj.bfill() instead.\n",
      "\n"
     ]
    },
    {
     "data": {
      "application/vnd.plotly.v1+json": {
       "config": {
        "plotlyServerURL": "https://plot.ly"
       },
       "data": [
        {
         "coloraxis": "coloraxis",
         "hovertemplate": "Month: %{x}<br>Stock: %{y}<br>Correlation: %{z}<extra></extra>",
         "name": "0",
         "type": "heatmap",
         "x": [
          "2024-09",
          "2024-10",
          "2024-11",
          "2024-12",
          "2025-01",
          "2025-02",
          "2025-03",
          "2025-04",
          "2025-05",
          "2025-06",
          "2025-07",
          "2025-08",
          "2025-09"
         ],
         "xaxis": "x",
         "y": [
          "BBVA_Precio cierre",
          "BCOLOMBIA_Precio cierre",
          "BHI_Precio cierre",
          "BMC_Precio cierre",
          "BOGOTA_Precio cierre",
          "BVC_Precio cierre",
          "CELSIA_Precio cierre",
          "CEMARGOS_Precio cierre",
          "CNEC_Precio cierre",
          "CONCONCRETO_Precio cierre",
          "CORFICOL_Precio cierre",
          "ECOPETROL_Precio cierre",
          "ENKA_Precio cierre",
          "ETB_Precio cierre",
          "EXITO_Precio cierre",
          "FABRICATO_Precio cierre",
          "GEB_Precio cierre",
          "GRUBOLIVAR_Precio cierre"
         ],
         "yaxis": "y",
         "z": [
          [
           null,
           -0.4456851672246281,
           0.132791210698278,
           0.20496045237207436,
           null,
           -0.7425447004600428,
           null,
           null,
           -0.44641817546925106,
           null,
           null,
           null,
           null
          ],
          [
           null,
           0.9275178775690662,
           0.8329004526524153,
           0.7578210221994071,
           0.9502090913687269,
           0.9648308359411945,
           0.8845286689540616,
           0.801232426951624,
           0.8490883333633658,
           0.8670313427585983,
           0.7298236881610991,
           0.9492923537817975,
           null
          ],
          [
           null,
           0.34264228631302357,
           -0.5499547589790623,
           0.1674882618570538,
           0.19875500434770899,
           0.8464581534641221,
           0.2537127085247286,
           0.49514830474266375,
           -0.36747558987548024,
           0.11724812235830594,
           0.24693856492405902,
           0.7479637693923094,
           null
          ],
          [
           null,
           null,
           null,
           -0.5401366681511667,
           null,
           null,
           null,
           -0.14697660874940138,
           null,
           0.2710388498988168,
           -0.35891665490595287,
           0.8033010736820004,
           null
          ],
          [
           null,
           0.4451695767467858,
           -0.13057340920143373,
           0.45927351639991815,
           0.8496368562442514,
           0.8308635228741488,
           0.48333804284374526,
           0.7872472717433434,
           0.18998462242743316,
           -0.2560169834521267,
           0.5139910890717448,
           0.9243308543821023,
           null
          ],
          [
           null,
           -0.39958985013929715,
           -0.27255871622033107,
           0.2021253670443726,
           0.8963512331040693,
           0.556258200475116,
           0.6097534594774168,
           -0.5096924223076812,
           -0.08244460431195706,
           -0.20253515154518825,
           0.0797530046769023,
           0.8838823958816868,
           null
          ],
          [
           null,
           -0.4511202576986655,
           -0.4689786156168629,
           0.19564428716601312,
           -0.27465678051138265,
           0.827502914929338,
           0.6579373409850984,
           -0.25221658918977186,
           0.22258168229116726,
           0.565729869760159,
           0.6695209150428068,
           0.12540585230626658,
           null
          ],
          [
           null,
           0.7312145074757481,
           0.8819314099587171,
           -0.10060427412303749,
           0.09539584673528775,
           -0.1394624965027196,
           0.4662710311432986,
           0.6252405430996067,
           0.2866652158275449,
           0.23331415614189643,
           0.1321241580330219,
           -0.6152029239682036,
           null
          ],
          [
           null,
           -0.7369474650770007,
           0.9075151055442907,
           0.4709931991296984,
           -0.11824855922245199,
           0.015064994436400315,
           0.4681221321980431,
           -0.06043040657311075,
           0.3426002156268398,
           -0.4217323683515792,
           -0.6505957712778425,
           -0.45842342977852685,
           null
          ],
          [
           null,
           0.6067502968214509,
           0.4748624421437074,
           -0.44719934823378976,
           0.28858986283005617,
           -0.8968619784554233,
           -0.340262739764024,
           0.5859152111489077,
           0.15699777156282116,
           0.16491735291255455,
           0.31080899437293036,
           -0.8481188500121887,
           null
          ],
          [
           null,
           0.9224004782549496,
           0.384815023387167,
           0.04003741545633434,
           0.7778501989344385,
           0.9312244996295092,
           -0.3452640826154276,
           0.7382649799917999,
           0.16443541447316806,
           0.22654081551858946,
           -0.3182087095184173,
           0.8209883404110716,
           null
          ],
          [
           null,
           -0.8443918294933838,
           0.8116406690303797,
           0.36409237193849314,
           0.7764649053047825,
           0.5958035224678018,
           0.7200154347715496,
           0.30074668786034536,
           0.4937601578872774,
           -0.14878473943187592,
           -0.5204374346587161,
           0.7966554256106629,
           null
          ],
          [
           null,
           0.2958632806683172,
           -0.6795776232432581,
           0.295933696873903,
           0.7200608026533758,
           0.47129184192455226,
           0.672553659873159,
           0.49198498681864994,
           0.36348699665797335,
           0.28938913579330966,
           0.36865818077603363,
           0.5417938895073923,
           null
          ],
          [
           null,
           null,
           -0.4724615320432732,
           null,
           -0.4698391391119146,
           -0.45588575443886103,
           -0.45541070003808587,
           null,
           -0.2123696057276552,
           -0.14815242896952127,
           -0.7466912364312164,
           -0.8765782422418086,
           null
          ],
          [
           null,
           0.1940984262020033,
           -0.8486722459152997,
           -0.07775328688768175,
           -0.4980378858978029,
           0.3250150998637738,
           -0.13489859426461906,
           0.4791533134201346,
           -0.30715757984745967,
           -0.05894616842544918,
           0.5045429108329417,
           0.8078495223540453,
           null
          ],
          [
           null,
           -0.22577172913190424,
           null,
           0.5211638144963237,
           -0.4041093801052246,
           0.7995749370785148,
           null,
           null,
           null,
           0.507255602844789,
           null,
           -0.17755005873894047,
           null
          ],
          [
           null,
           0.8239270829013807,
           0.9182154315044094,
           0.7104420381477426,
           0.8791638874078151,
           0.7447170844908879,
           0.8593184359803324,
           0.5189022682099074,
           0.03285385323056388,
           0.8028162353603447,
           -0.5703285968228117,
           0.16838281526580987,
           null
          ],
          [
           null,
           -0.23484549037485097,
           0.21347874787483703,
           0.35711751366146066,
           -0.14249811791377226,
           0.9068052583926999,
           0.09373864666700875,
           0.13250205499581966,
           0.3772944830362078,
           0.7639024006281309,
           0.7303882124122972,
           0.9308823423693516,
           null
          ]
         ]
        }
       ],
       "layout": {
        "autosize": false,
        "coloraxis": {
         "colorbar": {
          "title": {
           "text": "Correlation"
          }
         },
         "colorscale": [
          [
           0,
           "rgb(5,48,97)"
          ],
          [
           0.1,
           "rgb(33,102,172)"
          ],
          [
           0.2,
           "rgb(67,147,195)"
          ],
          [
           0.3,
           "rgb(146,197,222)"
          ],
          [
           0.4,
           "rgb(209,229,240)"
          ],
          [
           0.5,
           "rgb(247,247,247)"
          ],
          [
           0.6,
           "rgb(253,219,199)"
          ],
          [
           0.7,
           "rgb(244,165,130)"
          ],
          [
           0.8,
           "rgb(214,96,77)"
          ],
          [
           0.9,
           "rgb(178,24,43)"
          ],
          [
           1,
           "rgb(103,0,31)"
          ]
         ]
        },
        "height": 600,
        "template": {
         "data": {
          "bar": [
           {
            "error_x": {
             "color": "#2a3f5f"
            },
            "error_y": {
             "color": "#2a3f5f"
            },
            "marker": {
             "line": {
              "color": "white",
              "width": 0.5
             },
             "pattern": {
              "fillmode": "overlay",
              "size": 10,
              "solidity": 0.2
             }
            },
            "type": "bar"
           }
          ],
          "barpolar": [
           {
            "marker": {
             "line": {
              "color": "white",
              "width": 0.5
             },
             "pattern": {
              "fillmode": "overlay",
              "size": 10,
              "solidity": 0.2
             }
            },
            "type": "barpolar"
           }
          ],
          "carpet": [
           {
            "aaxis": {
             "endlinecolor": "#2a3f5f",
             "gridcolor": "#C8D4E3",
             "linecolor": "#C8D4E3",
             "minorgridcolor": "#C8D4E3",
             "startlinecolor": "#2a3f5f"
            },
            "baxis": {
             "endlinecolor": "#2a3f5f",
             "gridcolor": "#C8D4E3",
             "linecolor": "#C8D4E3",
             "minorgridcolor": "#C8D4E3",
             "startlinecolor": "#2a3f5f"
            },
            "type": "carpet"
           }
          ],
          "choropleth": [
           {
            "colorbar": {
             "outlinewidth": 0,
             "ticks": ""
            },
            "type": "choropleth"
           }
          ],
          "contour": [
           {
            "colorbar": {
             "outlinewidth": 0,
             "ticks": ""
            },
            "colorscale": [
             [
              0,
              "#0d0887"
             ],
             [
              0.1111111111111111,
              "#46039f"
             ],
             [
              0.2222222222222222,
              "#7201a8"
             ],
             [
              0.3333333333333333,
              "#9c179e"
             ],
             [
              0.4444444444444444,
              "#bd3786"
             ],
             [
              0.5555555555555556,
              "#d8576b"
             ],
             [
              0.6666666666666666,
              "#ed7953"
             ],
             [
              0.7777777777777778,
              "#fb9f3a"
             ],
             [
              0.8888888888888888,
              "#fdca26"
             ],
             [
              1,
              "#f0f921"
             ]
            ],
            "type": "contour"
           }
          ],
          "contourcarpet": [
           {
            "colorbar": {
             "outlinewidth": 0,
             "ticks": ""
            },
            "type": "contourcarpet"
           }
          ],
          "heatmap": [
           {
            "colorbar": {
             "outlinewidth": 0,
             "ticks": ""
            },
            "colorscale": [
             [
              0,
              "#0d0887"
             ],
             [
              0.1111111111111111,
              "#46039f"
             ],
             [
              0.2222222222222222,
              "#7201a8"
             ],
             [
              0.3333333333333333,
              "#9c179e"
             ],
             [
              0.4444444444444444,
              "#bd3786"
             ],
             [
              0.5555555555555556,
              "#d8576b"
             ],
             [
              0.6666666666666666,
              "#ed7953"
             ],
             [
              0.7777777777777778,
              "#fb9f3a"
             ],
             [
              0.8888888888888888,
              "#fdca26"
             ],
             [
              1,
              "#f0f921"
             ]
            ],
            "type": "heatmap"
           }
          ],
          "heatmapgl": [
           {
            "colorbar": {
             "outlinewidth": 0,
             "ticks": ""
            },
            "colorscale": [
             [
              0,
              "#0d0887"
             ],
             [
              0.1111111111111111,
              "#46039f"
             ],
             [
              0.2222222222222222,
              "#7201a8"
             ],
             [
              0.3333333333333333,
              "#9c179e"
             ],
             [
              0.4444444444444444,
              "#bd3786"
             ],
             [
              0.5555555555555556,
              "#d8576b"
             ],
             [
              0.6666666666666666,
              "#ed7953"
             ],
             [
              0.7777777777777778,
              "#fb9f3a"
             ],
             [
              0.8888888888888888,
              "#fdca26"
             ],
             [
              1,
              "#f0f921"
             ]
            ],
            "type": "heatmapgl"
           }
          ],
          "histogram": [
           {
            "marker": {
             "pattern": {
              "fillmode": "overlay",
              "size": 10,
              "solidity": 0.2
             }
            },
            "type": "histogram"
           }
          ],
          "histogram2d": [
           {
            "colorbar": {
             "outlinewidth": 0,
             "ticks": ""
            },
            "colorscale": [
             [
              0,
              "#0d0887"
             ],
             [
              0.1111111111111111,
              "#46039f"
             ],
             [
              0.2222222222222222,
              "#7201a8"
             ],
             [
              0.3333333333333333,
              "#9c179e"
             ],
             [
              0.4444444444444444,
              "#bd3786"
             ],
             [
              0.5555555555555556,
              "#d8576b"
             ],
             [
              0.6666666666666666,
              "#ed7953"
             ],
             [
              0.7777777777777778,
              "#fb9f3a"
             ],
             [
              0.8888888888888888,
              "#fdca26"
             ],
             [
              1,
              "#f0f921"
             ]
            ],
            "type": "histogram2d"
           }
          ],
          "histogram2dcontour": [
           {
            "colorbar": {
             "outlinewidth": 0,
             "ticks": ""
            },
            "colorscale": [
             [
              0,
              "#0d0887"
             ],
             [
              0.1111111111111111,
              "#46039f"
             ],
             [
              0.2222222222222222,
              "#7201a8"
             ],
             [
              0.3333333333333333,
              "#9c179e"
             ],
             [
              0.4444444444444444,
              "#bd3786"
             ],
             [
              0.5555555555555556,
              "#d8576b"
             ],
             [
              0.6666666666666666,
              "#ed7953"
             ],
             [
              0.7777777777777778,
              "#fb9f3a"
             ],
             [
              0.8888888888888888,
              "#fdca26"
             ],
             [
              1,
              "#f0f921"
             ]
            ],
            "type": "histogram2dcontour"
           }
          ],
          "mesh3d": [
           {
            "colorbar": {
             "outlinewidth": 0,
             "ticks": ""
            },
            "type": "mesh3d"
           }
          ],
          "parcoords": [
           {
            "line": {
             "colorbar": {
              "outlinewidth": 0,
              "ticks": ""
             }
            },
            "type": "parcoords"
           }
          ],
          "pie": [
           {
            "automargin": true,
            "type": "pie"
           }
          ],
          "scatter": [
           {
            "fillpattern": {
             "fillmode": "overlay",
             "size": 10,
             "solidity": 0.2
            },
            "type": "scatter"
           }
          ],
          "scatter3d": [
           {
            "line": {
             "colorbar": {
              "outlinewidth": 0,
              "ticks": ""
             }
            },
            "marker": {
             "colorbar": {
              "outlinewidth": 0,
              "ticks": ""
             }
            },
            "type": "scatter3d"
           }
          ],
          "scattercarpet": [
           {
            "marker": {
             "colorbar": {
              "outlinewidth": 0,
              "ticks": ""
             }
            },
            "type": "scattercarpet"
           }
          ],
          "scattergeo": [
           {
            "marker": {
             "colorbar": {
              "outlinewidth": 0,
              "ticks": ""
             }
            },
            "type": "scattergeo"
           }
          ],
          "scattergl": [
           {
            "marker": {
             "colorbar": {
              "outlinewidth": 0,
              "ticks": ""
             }
            },
            "type": "scattergl"
           }
          ],
          "scattermapbox": [
           {
            "marker": {
             "colorbar": {
              "outlinewidth": 0,
              "ticks": ""
             }
            },
            "type": "scattermapbox"
           }
          ],
          "scatterpolar": [
           {
            "marker": {
             "colorbar": {
              "outlinewidth": 0,
              "ticks": ""
             }
            },
            "type": "scatterpolar"
           }
          ],
          "scatterpolargl": [
           {
            "marker": {
             "colorbar": {
              "outlinewidth": 0,
              "ticks": ""
             }
            },
            "type": "scatterpolargl"
           }
          ],
          "scatterternary": [
           {
            "marker": {
             "colorbar": {
              "outlinewidth": 0,
              "ticks": ""
             }
            },
            "type": "scatterternary"
           }
          ],
          "surface": [
           {
            "colorbar": {
             "outlinewidth": 0,
             "ticks": ""
            },
            "colorscale": [
             [
              0,
              "#0d0887"
             ],
             [
              0.1111111111111111,
              "#46039f"
             ],
             [
              0.2222222222222222,
              "#7201a8"
             ],
             [
              0.3333333333333333,
              "#9c179e"
             ],
             [
              0.4444444444444444,
              "#bd3786"
             ],
             [
              0.5555555555555556,
              "#d8576b"
             ],
             [
              0.6666666666666666,
              "#ed7953"
             ],
             [
              0.7777777777777778,
              "#fb9f3a"
             ],
             [
              0.8888888888888888,
              "#fdca26"
             ],
             [
              1,
              "#f0f921"
             ]
            ],
            "type": "surface"
           }
          ],
          "table": [
           {
            "cells": {
             "fill": {
              "color": "#EBF0F8"
             },
             "line": {
              "color": "white"
             }
            },
            "header": {
             "fill": {
              "color": "#C8D4E3"
             },
             "line": {
              "color": "white"
             }
            },
            "type": "table"
           }
          ]
         },
         "layout": {
          "annotationdefaults": {
           "arrowcolor": "#2a3f5f",
           "arrowhead": 0,
           "arrowwidth": 1
          },
          "autotypenumbers": "strict",
          "coloraxis": {
           "colorbar": {
            "outlinewidth": 0,
            "ticks": ""
           }
          },
          "colorscale": {
           "diverging": [
            [
             0,
             "#8e0152"
            ],
            [
             0.1,
             "#c51b7d"
            ],
            [
             0.2,
             "#de77ae"
            ],
            [
             0.3,
             "#f1b6da"
            ],
            [
             0.4,
             "#fde0ef"
            ],
            [
             0.5,
             "#f7f7f7"
            ],
            [
             0.6,
             "#e6f5d0"
            ],
            [
             0.7,
             "#b8e186"
            ],
            [
             0.8,
             "#7fbc41"
            ],
            [
             0.9,
             "#4d9221"
            ],
            [
             1,
             "#276419"
            ]
           ],
           "sequential": [
            [
             0,
             "#0d0887"
            ],
            [
             0.1111111111111111,
             "#46039f"
            ],
            [
             0.2222222222222222,
             "#7201a8"
            ],
            [
             0.3333333333333333,
             "#9c179e"
            ],
            [
             0.4444444444444444,
             "#bd3786"
            ],
            [
             0.5555555555555556,
             "#d8576b"
            ],
            [
             0.6666666666666666,
             "#ed7953"
            ],
            [
             0.7777777777777778,
             "#fb9f3a"
            ],
            [
             0.8888888888888888,
             "#fdca26"
            ],
            [
             1,
             "#f0f921"
            ]
           ],
           "sequentialminus": [
            [
             0,
             "#0d0887"
            ],
            [
             0.1111111111111111,
             "#46039f"
            ],
            [
             0.2222222222222222,
             "#7201a8"
            ],
            [
             0.3333333333333333,
             "#9c179e"
            ],
            [
             0.4444444444444444,
             "#bd3786"
            ],
            [
             0.5555555555555556,
             "#d8576b"
            ],
            [
             0.6666666666666666,
             "#ed7953"
            ],
            [
             0.7777777777777778,
             "#fb9f3a"
            ],
            [
             0.8888888888888888,
             "#fdca26"
            ],
            [
             1,
             "#f0f921"
            ]
           ]
          },
          "colorway": [
           "#636efa",
           "#EF553B",
           "#00cc96",
           "#ab63fa",
           "#FFA15A",
           "#19d3f3",
           "#FF6692",
           "#B6E880",
           "#FF97FF",
           "#FECB52"
          ],
          "font": {
           "color": "#2a3f5f"
          },
          "geo": {
           "bgcolor": "white",
           "lakecolor": "white",
           "landcolor": "white",
           "showlakes": true,
           "showland": true,
           "subunitcolor": "#C8D4E3"
          },
          "hoverlabel": {
           "align": "left"
          },
          "hovermode": "closest",
          "mapbox": {
           "style": "light"
          },
          "paper_bgcolor": "white",
          "plot_bgcolor": "white",
          "polar": {
           "angularaxis": {
            "gridcolor": "#EBF0F8",
            "linecolor": "#EBF0F8",
            "ticks": ""
           },
           "bgcolor": "white",
           "radialaxis": {
            "gridcolor": "#EBF0F8",
            "linecolor": "#EBF0F8",
            "ticks": ""
           }
          },
          "scene": {
           "xaxis": {
            "backgroundcolor": "white",
            "gridcolor": "#DFE8F3",
            "gridwidth": 2,
            "linecolor": "#EBF0F8",
            "showbackground": true,
            "ticks": "",
            "zerolinecolor": "#EBF0F8"
           },
           "yaxis": {
            "backgroundcolor": "white",
            "gridcolor": "#DFE8F3",
            "gridwidth": 2,
            "linecolor": "#EBF0F8",
            "showbackground": true,
            "ticks": "",
            "zerolinecolor": "#EBF0F8"
           },
           "zaxis": {
            "backgroundcolor": "white",
            "gridcolor": "#DFE8F3",
            "gridwidth": 2,
            "linecolor": "#EBF0F8",
            "showbackground": true,
            "ticks": "",
            "zerolinecolor": "#EBF0F8"
           }
          },
          "shapedefaults": {
           "line": {
            "color": "#2a3f5f"
           }
          },
          "ternary": {
           "aaxis": {
            "gridcolor": "#DFE8F3",
            "linecolor": "#A2B1C6",
            "ticks": ""
           },
           "baxis": {
            "gridcolor": "#DFE8F3",
            "linecolor": "#A2B1C6",
            "ticks": ""
           },
           "bgcolor": "white",
           "caxis": {
            "gridcolor": "#DFE8F3",
            "linecolor": "#A2B1C6",
            "ticks": ""
           }
          },
          "title": {
           "x": 0.05
          },
          "xaxis": {
           "automargin": true,
           "gridcolor": "#EBF0F8",
           "linecolor": "#EBF0F8",
           "ticks": "",
           "title": {
            "standoff": 15
           },
           "zerolinecolor": "#EBF0F8",
           "zerolinewidth": 2
          },
          "yaxis": {
           "automargin": true,
           "gridcolor": "#EBF0F8",
           "linecolor": "#EBF0F8",
           "ticks": "",
           "title": {
            "standoff": 15
           },
           "zerolinecolor": "#EBF0F8",
           "zerolinewidth": 2
          }
         }
        },
        "title": {
         "text": "📊 Monthly Correlation Heatmap (Group 1) - MSCI_COLCAP_Valor hoy"
        },
        "width": 1000,
        "xaxis": {
         "anchor": "y",
         "domain": [
          0,
          1
         ],
         "tickangle": -45,
         "title": {
          "text": "Month"
         }
        },
        "yaxis": {
         "anchor": "x",
         "autorange": "reversed",
         "domain": [
          0,
          1
         ],
         "title": {
          "text": "Stock"
         }
        }
       }
      }
     },
     "metadata": {},
     "output_type": "display_data"
    },
    {
     "data": {
      "application/vnd.plotly.v1+json": {
       "config": {
        "plotlyServerURL": "https://plot.ly"
       },
       "data": [
        {
         "coloraxis": "coloraxis",
         "hovertemplate": "Month: %{x}<br>Stock: %{y}<br>Correlation: %{z}<extra></extra>",
         "name": "0",
         "type": "heatmap",
         "x": [
          "2024-09",
          "2024-10",
          "2024-11",
          "2024-12",
          "2025-01",
          "2025-02",
          "2025-03",
          "2025-04",
          "2025-05",
          "2025-06",
          "2025-07",
          "2025-08",
          "2025-09"
         ],
         "xaxis": "x",
         "y": [
          "GRUPOARGOS_Precio cierre",
          "GRUPOAVAL_Precio cierre",
          "GRUPOSURA_Precio cierre",
          "GXTESCOL_Precio cierre",
          "HCOLSEL_Precio cierre",
          "ICOLCAP_Precio cierre",
          "ISA_Precio cierre",
          "MINEROS_Precio cierre",
          "NUTRESA_Precio cierre",
          "PEI_Precio cierre",
          "PFAVAL_Precio cierre",
          "PFBCOLOMBIA_Precio cierre",
          "PFCEMARGOS_Precio cierre",
          "PFCORFICOL_Precio cierre",
          "PFDAVVNDA_Precio cierre",
          "PFGRUPARG_Precio cierre",
          "PFGRUPOSURA_Precio cierre",
          "PROMIGAS_Precio cierre",
          "TERPEL_Precio cierre"
         ],
         "yaxis": "y",
         "z": [
          [
           null,
           0.8026301932221593,
           0.7427589539158971,
           0.24864161218595374,
           0.08639764528267282,
           0.734445503817009,
           0.3956430108215278,
           0.7313468472943491,
           0.05901448990887274,
           0.7226686346166306,
           -0.6415336745834745,
           0.07473835686329126,
           null
          ],
          [
           null,
           null,
           null,
           null,
           null,
           null,
           null,
           null,
           null,
           null,
           null,
           null,
           null
          ],
          [
           null,
           0.8771385234799817,
           -0.275226077343328,
           -0.16844390012271343,
           0.4017247491106119,
           0.9767647724383658,
           -0.05194092875419138,
           0.5080627373474813,
           -0.03745208780033801,
           0.6302768450225292,
           -0.4451246576444598,
           0.916100032123355,
           null
          ],
          [
           null,
           -0.521180255483377,
           0.531829740204423,
           0.42438619274377753,
           0.7527217598528724,
           0.5290645883224981,
           0.10611565313542483,
           0.04204014084785166,
           -0.3002514129570919,
           0.716923166004708,
           0.7009569161086355,
           0.46811517820917853,
           null
          ],
          [
           null,
           0.8484571276345196,
           0.2245563283953945,
           0.5322771722191115,
           0.8285243286944995,
           0.9780740757959965,
           -0.1534490280072335,
           0.7674812664122423,
           0.2859406627178765,
           0.6920018046769116,
           0.9072471898534108,
           0.964902804663737,
           null
          ],
          [
           null,
           0.9481144511356042,
           0.9774449007669604,
           0.5735008320497829,
           0.9963024198870974,
           0.99629872109738,
           0.5885314022530147,
           0.8305669812319629,
           0.908160546461977,
           0.8661641738421889,
           0.9374893311446632,
           0.9920655393213952,
           null
          ],
          [
           null,
           0.8014481476430021,
           -0.2923129674114792,
           0.7232475574145049,
           0.9020996421077597,
           0.9195250533091968,
           -0.2264390351762202,
           0.6535004013961331,
           0.5860978772382561,
           0.46611128581336075,
           0.9030363658762395,
           0.8136242274840553,
           null
          ],
          [
           null,
           0.2868755467226494,
           0.8407266751837308,
           -0.2122682020334325,
           0.6603357182408839,
           0.8623325735954236,
           -0.17380724995645594,
           0.3315043889432349,
           0.1520969673982147,
           0.765404874593413,
           0.7539146728476929,
           0.7301177483719666,
           null
          ],
          [
           null,
           0.8530530568386573,
           -0.31939765163112305,
           0.4400487531802823,
           0.5640650244126868,
           0.7673823764464154,
           0.3336730348663546,
           0.182086367141988,
           -0.347689930407766,
           -0.1202981846774104,
           0.4135122601300308,
           0.7286459226492269,
           null
          ],
          [
           null,
           -0.02449857886676495,
           0.8391420195625128,
           0.17604624695927248,
           0.45982508078973844,
           -0.4026993759276904,
           -0.27599606968500484,
           0.3808822238470802,
           0.5334506747294208,
           -0.16770276369345763,
           0.6612951839141457,
           -0.17633213311322368,
           null
          ],
          [
           null,
           null,
           null,
           null,
           null,
           null,
           null,
           null,
           null,
           null,
           null,
           null,
           null
          ],
          [
           null,
           0.936615442325584,
           0.8869273044442086,
           0.7331772204440234,
           0.958454855932059,
           0.9752278859495388,
           0.7775056929180264,
           0.9533615594488042,
           0.5124435546047814,
           0.9190269184316856,
           0.5122487931793107,
           0.9765172309840937,
           null
          ],
          [
           null,
           -0.5684822690129598,
           0.7776390884978428,
           0.13586326364285065,
           -0.11179095840083,
           -0.4976210253577864,
           -0.6294369740860184,
           0.32272801435622583,
           0.11541772319214973,
           0.16857282022094425,
           0.5801764763376689,
           -0.5731931180575527,
           null
          ],
          [
           null,
           0.9352999307192348,
           0.46756959045947505,
           0.26496040488485945,
           0.7929272408877323,
           0.8654583555937846,
           0.053920652964755594,
           0.7240999133605515,
           -0.05861615608413579,
           -0.18063220460718346,
           0.5058684063120577,
           0.9252267252528549,
           null
          ],
          [
           null,
           0.5491099370255109,
           0.7338843141657959,
           0.31478332843285856,
           0.6016125058393521,
           0.9301440249132585,
           0.5435225895430191,
           0.521403750199736,
           0.6194243988289115,
           0.07912225230612595,
           -0.3514528892580138,
           0.8978806148843085,
           null
          ],
          [
           null,
           0.9569868890967314,
           0.775256197113393,
           -0.2650759713099089,
           -0.014430063869793093,
           0.8920792559834224,
           -0.19079326152532744,
           0.30627326386711334,
           0.05944112814123251,
           0.0739263930840411,
           -0.6369071462446858,
           -0.7305653733278276,
           null
          ],
          [
           null,
           0.8345804040676453,
           0.0540448486629246,
           -0.11537194718235379,
           0.9565892921601109,
           0.9233930282791115,
           0.10054559732692968,
           -0.16386370524469102,
           0.23382140192954576,
           0.10065113039353787,
           -0.2209139651201937,
           -0.5895035321926101,
           null
          ],
          [
           null,
           -0.21743965313596353,
           -0.045059091499905606,
           -0.048672265206940235,
           -0.6851468906578787,
           0.08859566349399454,
           -0.1216645234196427,
           -0.12367680564721062,
           0.5455545472983121,
           0.6396286185961518,
           -0.2845181757515119,
           0.29584658890207877,
           null
          ],
          [
           null,
           0.7552050178952584,
           0.9079489853849698,
           -0.07892569000751588,
           0.02082533334319149,
           0.7849735214684461,
           0.11022568571455948,
           0.6397990996417922,
           -0.2706147934192908,
           -0.19369526849677438,
           0.6237831439038979,
           0.9668755065717154,
           null
          ]
         ]
        }
       ],
       "layout": {
        "autosize": false,
        "coloraxis": {
         "colorbar": {
          "title": {
           "text": "Correlation"
          }
         },
         "colorscale": [
          [
           0,
           "rgb(5,48,97)"
          ],
          [
           0.1,
           "rgb(33,102,172)"
          ],
          [
           0.2,
           "rgb(67,147,195)"
          ],
          [
           0.3,
           "rgb(146,197,222)"
          ],
          [
           0.4,
           "rgb(209,229,240)"
          ],
          [
           0.5,
           "rgb(247,247,247)"
          ],
          [
           0.6,
           "rgb(253,219,199)"
          ],
          [
           0.7,
           "rgb(244,165,130)"
          ],
          [
           0.8,
           "rgb(214,96,77)"
          ],
          [
           0.9,
           "rgb(178,24,43)"
          ],
          [
           1,
           "rgb(103,0,31)"
          ]
         ]
        },
        "height": 600,
        "template": {
         "data": {
          "bar": [
           {
            "error_x": {
             "color": "#2a3f5f"
            },
            "error_y": {
             "color": "#2a3f5f"
            },
            "marker": {
             "line": {
              "color": "white",
              "width": 0.5
             },
             "pattern": {
              "fillmode": "overlay",
              "size": 10,
              "solidity": 0.2
             }
            },
            "type": "bar"
           }
          ],
          "barpolar": [
           {
            "marker": {
             "line": {
              "color": "white",
              "width": 0.5
             },
             "pattern": {
              "fillmode": "overlay",
              "size": 10,
              "solidity": 0.2
             }
            },
            "type": "barpolar"
           }
          ],
          "carpet": [
           {
            "aaxis": {
             "endlinecolor": "#2a3f5f",
             "gridcolor": "#C8D4E3",
             "linecolor": "#C8D4E3",
             "minorgridcolor": "#C8D4E3",
             "startlinecolor": "#2a3f5f"
            },
            "baxis": {
             "endlinecolor": "#2a3f5f",
             "gridcolor": "#C8D4E3",
             "linecolor": "#C8D4E3",
             "minorgridcolor": "#C8D4E3",
             "startlinecolor": "#2a3f5f"
            },
            "type": "carpet"
           }
          ],
          "choropleth": [
           {
            "colorbar": {
             "outlinewidth": 0,
             "ticks": ""
            },
            "type": "choropleth"
           }
          ],
          "contour": [
           {
            "colorbar": {
             "outlinewidth": 0,
             "ticks": ""
            },
            "colorscale": [
             [
              0,
              "#0d0887"
             ],
             [
              0.1111111111111111,
              "#46039f"
             ],
             [
              0.2222222222222222,
              "#7201a8"
             ],
             [
              0.3333333333333333,
              "#9c179e"
             ],
             [
              0.4444444444444444,
              "#bd3786"
             ],
             [
              0.5555555555555556,
              "#d8576b"
             ],
             [
              0.6666666666666666,
              "#ed7953"
             ],
             [
              0.7777777777777778,
              "#fb9f3a"
             ],
             [
              0.8888888888888888,
              "#fdca26"
             ],
             [
              1,
              "#f0f921"
             ]
            ],
            "type": "contour"
           }
          ],
          "contourcarpet": [
           {
            "colorbar": {
             "outlinewidth": 0,
             "ticks": ""
            },
            "type": "contourcarpet"
           }
          ],
          "heatmap": [
           {
            "colorbar": {
             "outlinewidth": 0,
             "ticks": ""
            },
            "colorscale": [
             [
              0,
              "#0d0887"
             ],
             [
              0.1111111111111111,
              "#46039f"
             ],
             [
              0.2222222222222222,
              "#7201a8"
             ],
             [
              0.3333333333333333,
              "#9c179e"
             ],
             [
              0.4444444444444444,
              "#bd3786"
             ],
             [
              0.5555555555555556,
              "#d8576b"
             ],
             [
              0.6666666666666666,
              "#ed7953"
             ],
             [
              0.7777777777777778,
              "#fb9f3a"
             ],
             [
              0.8888888888888888,
              "#fdca26"
             ],
             [
              1,
              "#f0f921"
             ]
            ],
            "type": "heatmap"
           }
          ],
          "heatmapgl": [
           {
            "colorbar": {
             "outlinewidth": 0,
             "ticks": ""
            },
            "colorscale": [
             [
              0,
              "#0d0887"
             ],
             [
              0.1111111111111111,
              "#46039f"
             ],
             [
              0.2222222222222222,
              "#7201a8"
             ],
             [
              0.3333333333333333,
              "#9c179e"
             ],
             [
              0.4444444444444444,
              "#bd3786"
             ],
             [
              0.5555555555555556,
              "#d8576b"
             ],
             [
              0.6666666666666666,
              "#ed7953"
             ],
             [
              0.7777777777777778,
              "#fb9f3a"
             ],
             [
              0.8888888888888888,
              "#fdca26"
             ],
             [
              1,
              "#f0f921"
             ]
            ],
            "type": "heatmapgl"
           }
          ],
          "histogram": [
           {
            "marker": {
             "pattern": {
              "fillmode": "overlay",
              "size": 10,
              "solidity": 0.2
             }
            },
            "type": "histogram"
           }
          ],
          "histogram2d": [
           {
            "colorbar": {
             "outlinewidth": 0,
             "ticks": ""
            },
            "colorscale": [
             [
              0,
              "#0d0887"
             ],
             [
              0.1111111111111111,
              "#46039f"
             ],
             [
              0.2222222222222222,
              "#7201a8"
             ],
             [
              0.3333333333333333,
              "#9c179e"
             ],
             [
              0.4444444444444444,
              "#bd3786"
             ],
             [
              0.5555555555555556,
              "#d8576b"
             ],
             [
              0.6666666666666666,
              "#ed7953"
             ],
             [
              0.7777777777777778,
              "#fb9f3a"
             ],
             [
              0.8888888888888888,
              "#fdca26"
             ],
             [
              1,
              "#f0f921"
             ]
            ],
            "type": "histogram2d"
           }
          ],
          "histogram2dcontour": [
           {
            "colorbar": {
             "outlinewidth": 0,
             "ticks": ""
            },
            "colorscale": [
             [
              0,
              "#0d0887"
             ],
             [
              0.1111111111111111,
              "#46039f"
             ],
             [
              0.2222222222222222,
              "#7201a8"
             ],
             [
              0.3333333333333333,
              "#9c179e"
             ],
             [
              0.4444444444444444,
              "#bd3786"
             ],
             [
              0.5555555555555556,
              "#d8576b"
             ],
             [
              0.6666666666666666,
              "#ed7953"
             ],
             [
              0.7777777777777778,
              "#fb9f3a"
             ],
             [
              0.8888888888888888,
              "#fdca26"
             ],
             [
              1,
              "#f0f921"
             ]
            ],
            "type": "histogram2dcontour"
           }
          ],
          "mesh3d": [
           {
            "colorbar": {
             "outlinewidth": 0,
             "ticks": ""
            },
            "type": "mesh3d"
           }
          ],
          "parcoords": [
           {
            "line": {
             "colorbar": {
              "outlinewidth": 0,
              "ticks": ""
             }
            },
            "type": "parcoords"
           }
          ],
          "pie": [
           {
            "automargin": true,
            "type": "pie"
           }
          ],
          "scatter": [
           {
            "fillpattern": {
             "fillmode": "overlay",
             "size": 10,
             "solidity": 0.2
            },
            "type": "scatter"
           }
          ],
          "scatter3d": [
           {
            "line": {
             "colorbar": {
              "outlinewidth": 0,
              "ticks": ""
             }
            },
            "marker": {
             "colorbar": {
              "outlinewidth": 0,
              "ticks": ""
             }
            },
            "type": "scatter3d"
           }
          ],
          "scattercarpet": [
           {
            "marker": {
             "colorbar": {
              "outlinewidth": 0,
              "ticks": ""
             }
            },
            "type": "scattercarpet"
           }
          ],
          "scattergeo": [
           {
            "marker": {
             "colorbar": {
              "outlinewidth": 0,
              "ticks": ""
             }
            },
            "type": "scattergeo"
           }
          ],
          "scattergl": [
           {
            "marker": {
             "colorbar": {
              "outlinewidth": 0,
              "ticks": ""
             }
            },
            "type": "scattergl"
           }
          ],
          "scattermapbox": [
           {
            "marker": {
             "colorbar": {
              "outlinewidth": 0,
              "ticks": ""
             }
            },
            "type": "scattermapbox"
           }
          ],
          "scatterpolar": [
           {
            "marker": {
             "colorbar": {
              "outlinewidth": 0,
              "ticks": ""
             }
            },
            "type": "scatterpolar"
           }
          ],
          "scatterpolargl": [
           {
            "marker": {
             "colorbar": {
              "outlinewidth": 0,
              "ticks": ""
             }
            },
            "type": "scatterpolargl"
           }
          ],
          "scatterternary": [
           {
            "marker": {
             "colorbar": {
              "outlinewidth": 0,
              "ticks": ""
             }
            },
            "type": "scatterternary"
           }
          ],
          "surface": [
           {
            "colorbar": {
             "outlinewidth": 0,
             "ticks": ""
            },
            "colorscale": [
             [
              0,
              "#0d0887"
             ],
             [
              0.1111111111111111,
              "#46039f"
             ],
             [
              0.2222222222222222,
              "#7201a8"
             ],
             [
              0.3333333333333333,
              "#9c179e"
             ],
             [
              0.4444444444444444,
              "#bd3786"
             ],
             [
              0.5555555555555556,
              "#d8576b"
             ],
             [
              0.6666666666666666,
              "#ed7953"
             ],
             [
              0.7777777777777778,
              "#fb9f3a"
             ],
             [
              0.8888888888888888,
              "#fdca26"
             ],
             [
              1,
              "#f0f921"
             ]
            ],
            "type": "surface"
           }
          ],
          "table": [
           {
            "cells": {
             "fill": {
              "color": "#EBF0F8"
             },
             "line": {
              "color": "white"
             }
            },
            "header": {
             "fill": {
              "color": "#C8D4E3"
             },
             "line": {
              "color": "white"
             }
            },
            "type": "table"
           }
          ]
         },
         "layout": {
          "annotationdefaults": {
           "arrowcolor": "#2a3f5f",
           "arrowhead": 0,
           "arrowwidth": 1
          },
          "autotypenumbers": "strict",
          "coloraxis": {
           "colorbar": {
            "outlinewidth": 0,
            "ticks": ""
           }
          },
          "colorscale": {
           "diverging": [
            [
             0,
             "#8e0152"
            ],
            [
             0.1,
             "#c51b7d"
            ],
            [
             0.2,
             "#de77ae"
            ],
            [
             0.3,
             "#f1b6da"
            ],
            [
             0.4,
             "#fde0ef"
            ],
            [
             0.5,
             "#f7f7f7"
            ],
            [
             0.6,
             "#e6f5d0"
            ],
            [
             0.7,
             "#b8e186"
            ],
            [
             0.8,
             "#7fbc41"
            ],
            [
             0.9,
             "#4d9221"
            ],
            [
             1,
             "#276419"
            ]
           ],
           "sequential": [
            [
             0,
             "#0d0887"
            ],
            [
             0.1111111111111111,
             "#46039f"
            ],
            [
             0.2222222222222222,
             "#7201a8"
            ],
            [
             0.3333333333333333,
             "#9c179e"
            ],
            [
             0.4444444444444444,
             "#bd3786"
            ],
            [
             0.5555555555555556,
             "#d8576b"
            ],
            [
             0.6666666666666666,
             "#ed7953"
            ],
            [
             0.7777777777777778,
             "#fb9f3a"
            ],
            [
             0.8888888888888888,
             "#fdca26"
            ],
            [
             1,
             "#f0f921"
            ]
           ],
           "sequentialminus": [
            [
             0,
             "#0d0887"
            ],
            [
             0.1111111111111111,
             "#46039f"
            ],
            [
             0.2222222222222222,
             "#7201a8"
            ],
            [
             0.3333333333333333,
             "#9c179e"
            ],
            [
             0.4444444444444444,
             "#bd3786"
            ],
            [
             0.5555555555555556,
             "#d8576b"
            ],
            [
             0.6666666666666666,
             "#ed7953"
            ],
            [
             0.7777777777777778,
             "#fb9f3a"
            ],
            [
             0.8888888888888888,
             "#fdca26"
            ],
            [
             1,
             "#f0f921"
            ]
           ]
          },
          "colorway": [
           "#636efa",
           "#EF553B",
           "#00cc96",
           "#ab63fa",
           "#FFA15A",
           "#19d3f3",
           "#FF6692",
           "#B6E880",
           "#FF97FF",
           "#FECB52"
          ],
          "font": {
           "color": "#2a3f5f"
          },
          "geo": {
           "bgcolor": "white",
           "lakecolor": "white",
           "landcolor": "white",
           "showlakes": true,
           "showland": true,
           "subunitcolor": "#C8D4E3"
          },
          "hoverlabel": {
           "align": "left"
          },
          "hovermode": "closest",
          "mapbox": {
           "style": "light"
          },
          "paper_bgcolor": "white",
          "plot_bgcolor": "white",
          "polar": {
           "angularaxis": {
            "gridcolor": "#EBF0F8",
            "linecolor": "#EBF0F8",
            "ticks": ""
           },
           "bgcolor": "white",
           "radialaxis": {
            "gridcolor": "#EBF0F8",
            "linecolor": "#EBF0F8",
            "ticks": ""
           }
          },
          "scene": {
           "xaxis": {
            "backgroundcolor": "white",
            "gridcolor": "#DFE8F3",
            "gridwidth": 2,
            "linecolor": "#EBF0F8",
            "showbackground": true,
            "ticks": "",
            "zerolinecolor": "#EBF0F8"
           },
           "yaxis": {
            "backgroundcolor": "white",
            "gridcolor": "#DFE8F3",
            "gridwidth": 2,
            "linecolor": "#EBF0F8",
            "showbackground": true,
            "ticks": "",
            "zerolinecolor": "#EBF0F8"
           },
           "zaxis": {
            "backgroundcolor": "white",
            "gridcolor": "#DFE8F3",
            "gridwidth": 2,
            "linecolor": "#EBF0F8",
            "showbackground": true,
            "ticks": "",
            "zerolinecolor": "#EBF0F8"
           }
          },
          "shapedefaults": {
           "line": {
            "color": "#2a3f5f"
           }
          },
          "ternary": {
           "aaxis": {
            "gridcolor": "#DFE8F3",
            "linecolor": "#A2B1C6",
            "ticks": ""
           },
           "baxis": {
            "gridcolor": "#DFE8F3",
            "linecolor": "#A2B1C6",
            "ticks": ""
           },
           "bgcolor": "white",
           "caxis": {
            "gridcolor": "#DFE8F3",
            "linecolor": "#A2B1C6",
            "ticks": ""
           }
          },
          "title": {
           "x": 0.05
          },
          "xaxis": {
           "automargin": true,
           "gridcolor": "#EBF0F8",
           "linecolor": "#EBF0F8",
           "ticks": "",
           "title": {
            "standoff": 15
           },
           "zerolinecolor": "#EBF0F8",
           "zerolinewidth": 2
          },
          "yaxis": {
           "automargin": true,
           "gridcolor": "#EBF0F8",
           "linecolor": "#EBF0F8",
           "ticks": "",
           "title": {
            "standoff": 15
           },
           "zerolinecolor": "#EBF0F8",
           "zerolinewidth": 2
          }
         }
        },
        "title": {
         "text": "📊 Monthly Correlation Heatmap (Group 2) - MSCI_COLCAP_Valor hoy"
        },
        "width": 1000,
        "xaxis": {
         "anchor": "y",
         "domain": [
          0,
          1
         ],
         "tickangle": -45,
         "title": {
          "text": "Month"
         }
        },
        "yaxis": {
         "anchor": "x",
         "autorange": "reversed",
         "domain": [
          0,
          1
         ],
         "title": {
          "text": "Stock"
         }
        }
       }
      }
     },
     "metadata": {},
     "output_type": "display_data"
    }
   ],
   "source": [
    "from datetime import datetime, timedelta\n",
    "\n",
    "# Compute the date one year ago from today\n",
    "one_year_ago = datetime.today() - timedelta(days=365)\n",
    "\n",
    "#Reset index\n",
    "df_close=df_close.reset_index()\n",
    "\n",
    "# 🔹 **Filter data from the last year**\n",
    "df_close = df_close[df_close[\"Fecha\"] >= one_year_ago]\n",
    "\n",
    "# Create 'YearMonth' column for grouping\n",
    "df_close[\"YearMonth\"] = df_close[\"Fecha\"].dt.to_period(\"M\")\n",
    "\n",
    "# Drop 'Fecha' and 'YearMonth' before correlation calculations\n",
    "df_corr = df_close.drop(columns=[\"Fecha\", \"YearMonth\"])\n",
    "\n",
    "# Compute monthly correlation\n",
    "monthly_corr = df_close.groupby(\"YearMonth\").corr()\n",
    "\n",
    "# Handle missing data (Forward-fill & Back-fill)\n",
    "df_close.fillna(method='ffill', inplace=True)\n",
    "df_close.fillna(method='bfill', inplace=True)\n",
    "\n",
    "# Select target stock\n",
    "target_stock = \"MSCI_COLCAP_Valor hoy\"  # Replace with your chosen stock column name\n",
    "\n",
    "# **1️⃣ Calculate Historical Correlation**\n",
    "historical_corr = df_corr.corr()[target_stock].drop(target_stock, errors=\"ignore\")\n",
    "\n",
    "# **2️⃣ Calculate Monthly Correlation**\n",
    "monthly_corr = monthly_corr.xs(target_stock, level=1, axis=0)\n",
    "monthly_corr = monthly_corr.drop(target_stock, axis=1, errors=\"ignore\")\n",
    "\n",
    "# 🔹 Convert 'YearMonth' to string (Fix Period object issue)\n",
    "monthly_corr.index = monthly_corr.index.astype(str)\n",
    "\n",
    "#delete the column \"Fecha\"\n",
    "if \"Fecha\" in monthly_corr.columns:\n",
    "    monthly_corr = monthly_corr.drop(columns=[\"Fecha\"])\n",
    "\n",
    "# 🔥 **Split into Two Groups**\n",
    "stocks = list(monthly_corr.columns)\n",
    "midpoint = len(stocks) // 2  # Divide into two equal parts\n",
    "\n",
    "group1 = stocks[:midpoint]  # First half\n",
    "group2 = stocks[midpoint:]  # Second half\n",
    "\n",
    "\n",
    "# **Function to Create Heatmap**\n",
    "def plot_heatmap(corr_data, group, title):\n",
    "    fig = px.imshow(\n",
    "        corr_data[group].T,  # Transpose for better view\n",
    "        labels=dict(x=\"Month\", y=\"Stock\", color=\"Correlation\"),\n",
    "        title=title,\n",
    "        color_continuous_scale=\"RdBu_r\",\n",
    "        aspect=\"auto\",\n",
    "    )\n",
    "\n",
    "    fig.update_layout(\n",
    "        autosize=False,\n",
    "        width=1000,\n",
    "        height=600,\n",
    "        xaxis=dict(tickangle=-45),\n",
    "        template=\"plotly_white\",  # ✅ Clean & professional look\n",
    "    )\n",
    "\n",
    "    fig.show()\n",
    "\n",
    "# **Plot Heatmaps**\n",
    "plot_heatmap(monthly_corr, group1, f\"📊 Monthly Correlation Heatmap (Group 1) - {target_stock}\")\n",
    "plot_heatmap(monthly_corr, group2, f\"📊 Monthly Correlation Heatmap (Group 2) - {target_stock}\")"
   ]
  },
  {
   "cell_type": "code",
   "execution_count": 1,
   "metadata": {},
   "outputs": [
    {
     "data": {
      "text/html": [
       "\n",
       "        <iframe\n",
       "            width=\"100%\"\n",
       "            height=\"650\"\n",
       "            src=\"http://127.0.0.1:8050/\"\n",
       "            frameborder=\"0\"\n",
       "            allowfullscreen\n",
       "            \n",
       "        ></iframe>\n",
       "        "
      ],
      "text/plain": [
       "<IPython.lib.display.IFrame at 0x1adc673d610>"
      ]
     },
     "metadata": {},
     "output_type": "display_data"
    }
   ],
   "source": [
    "import pandas as pd\n",
    "import plotly.express as px\n",
    "import dash\n",
    "from dash import dcc, html\n",
    "from dash.dependencies import Input, Output\n",
    "\n",
    "# Load the monthly correlation data\n",
    "df = pd.read_csv(\"Monthly_Correlation.csv\", index_col=0, parse_dates=True)\n",
    "df.index = pd.to_datetime(df.index.astype(str))  # Ensure index is datetime\n",
    "\n",
    "# Filter data from March 2024 onwards\n",
    "df_filtered = df[df.index >= \"2024-03\"]\n",
    "\n",
    "# Split columns into two groups\n",
    "stocks = list(df_filtered.columns)\n",
    "midpoint = len(stocks) // 2\n",
    "group1 = stocks[:midpoint]\n",
    "group2 = stocks[midpoint:]\n",
    "\n",
    "def plot_heatmap(data, title):\n",
    "    fig = px.imshow(\n",
    "        data.T,  # Transpose for better layout\n",
    "        labels=dict(x=\"Month\", y=\"Stock\", color=\"Correlation\"),\n",
    "        title=title,\n",
    "        color_continuous_scale=\"RdBu_r\",\n",
    "        aspect=\"auto\",\n",
    "    )\n",
    "    fig.update_layout(\n",
    "        autosize=False,\n",
    "        width=1000,\n",
    "        height=600,\n",
    "        xaxis=dict(tickangle=-45),\n",
    "    )\n",
    "    return fig\n",
    "\n",
    "# Dash app setup\n",
    "app = dash.Dash(__name__)\n",
    "server = app.server\n",
    "\n",
    "app.layout = html.Div([\n",
    "    html.H1(\"📊 Monthly Correlation Heatmaps\", style={'textAlign': 'center'}),\n",
    "    \n",
    "    dcc.Dropdown(\n",
    "        id=\"group_selector\",\n",
    "        options=[\n",
    "            {\"label\": \"Group 1\", \"value\": \"group1\"},\n",
    "            {\"label\": \"Group 2\", \"value\": \"group2\"}\n",
    "        ],\n",
    "        value=\"group1\",\n",
    "        clearable=False,\n",
    "        style={\"width\": \"50%\", \"margin\": \"auto\"}\n",
    "    ),\n",
    "    \n",
    "    dcc.Graph(id=\"heatmap\")\n",
    "])\n",
    "\n",
    "@app.callback(\n",
    "    Output(\"heatmap\", \"figure\"),\n",
    "    Input(\"group_selector\", \"value\")\n",
    ")\n",
    "def update_heatmap(selected_group):\n",
    "    data = df_filtered[group1] if selected_group == \"group1\" else df_filtered[group2]\n",
    "    title = f\"📊 Monthly Correlation Heatmap ({selected_group.replace('group', 'Group ')})\"\n",
    "    return plot_heatmap(data, title)\n",
    "\n",
    "if __name__ == \"__main__\":\n",
    "    app.run(debug=True)\n"
   ]
  },
  {
   "cell_type": "code",
   "execution_count": 19,
   "metadata": {},
   "outputs": [
    {
     "data": {
      "text/html": [
       "<div>\n",
       "<style scoped>\n",
       "    .dataframe tbody tr th:only-of-type {\n",
       "        vertical-align: middle;\n",
       "    }\n",
       "\n",
       "    .dataframe tbody tr th {\n",
       "        vertical-align: top;\n",
       "    }\n",
       "\n",
       "    .dataframe thead th {\n",
       "        text-align: right;\n",
       "    }\n",
       "</style>\n",
       "<table border=\"1\" class=\"dataframe\">\n",
       "  <thead>\n",
       "    <tr style=\"text-align: right;\">\n",
       "      <th></th>\n",
       "      <th>Stock</th>\n",
       "      <th>Correlation</th>\n",
       "    </tr>\n",
       "  </thead>\n",
       "  <tbody>\n",
       "    <tr>\n",
       "      <th>0</th>\n",
       "      <td>ICOLCAP_Precio cierre</td>\n",
       "      <td>0.994846</td>\n",
       "    </tr>\n",
       "    <tr>\n",
       "      <th>1</th>\n",
       "      <td>HCOLSEL_Precio cierre</td>\n",
       "      <td>0.941323</td>\n",
       "    </tr>\n",
       "    <tr>\n",
       "      <th>2</th>\n",
       "      <td>PFBCOLOMBIA_Precio cierre</td>\n",
       "      <td>0.938546</td>\n",
       "    </tr>\n",
       "    <tr>\n",
       "      <th>3</th>\n",
       "      <td>PFGRUPOSURA_Precio cierre</td>\n",
       "      <td>0.865484</td>\n",
       "    </tr>\n",
       "    <tr>\n",
       "      <th>4</th>\n",
       "      <td>TERPEL_Precio cierre</td>\n",
       "      <td>0.840931</td>\n",
       "    </tr>\n",
       "    <tr>\n",
       "      <th>5</th>\n",
       "      <td>BCOLOMBIA_Precio cierre</td>\n",
       "      <td>0.825396</td>\n",
       "    </tr>\n",
       "    <tr>\n",
       "      <th>6</th>\n",
       "      <td>BHI_Precio cierre</td>\n",
       "      <td>0.819506</td>\n",
       "    </tr>\n",
       "    <tr>\n",
       "      <th>7</th>\n",
       "      <td>GRUPOARGOS_Precio cierre</td>\n",
       "      <td>0.790809</td>\n",
       "    </tr>\n",
       "    <tr>\n",
       "      <th>8</th>\n",
       "      <td>CEMARGOS_Precio cierre</td>\n",
       "      <td>0.762199</td>\n",
       "    </tr>\n",
       "    <tr>\n",
       "      <th>9</th>\n",
       "      <td>PFGRUPARG_Precio cierre</td>\n",
       "      <td>0.737709</td>\n",
       "    </tr>\n",
       "    <tr>\n",
       "      <th>10</th>\n",
       "      <td>MINEROS_Precio cierre</td>\n",
       "      <td>0.717504</td>\n",
       "    </tr>\n",
       "    <tr>\n",
       "      <th>11</th>\n",
       "      <td>GEB_Precio cierre</td>\n",
       "      <td>0.697134</td>\n",
       "    </tr>\n",
       "    <tr>\n",
       "      <th>12</th>\n",
       "      <td>PFCEMARGOS_Precio cierre</td>\n",
       "      <td>0.694748</td>\n",
       "    </tr>\n",
       "    <tr>\n",
       "      <th>13</th>\n",
       "      <td>PEI_Precio cierre</td>\n",
       "      <td>0.632941</td>\n",
       "    </tr>\n",
       "    <tr>\n",
       "      <th>14</th>\n",
       "      <td>GRUBOLIVAR_Precio cierre</td>\n",
       "      <td>0.605150</td>\n",
       "    </tr>\n",
       "    <tr>\n",
       "      <th>15</th>\n",
       "      <td>NUTRESA_Precio cierre</td>\n",
       "      <td>0.602157</td>\n",
       "    </tr>\n",
       "    <tr>\n",
       "      <th>16</th>\n",
       "      <td>CELSIA_Precio cierre</td>\n",
       "      <td>0.519067</td>\n",
       "    </tr>\n",
       "    <tr>\n",
       "      <th>17</th>\n",
       "      <td>CONCONCRETO_Precio cierre</td>\n",
       "      <td>0.514353</td>\n",
       "    </tr>\n",
       "    <tr>\n",
       "      <th>18</th>\n",
       "      <td>ISA_Precio cierre</td>\n",
       "      <td>0.494475</td>\n",
       "    </tr>\n",
       "    <tr>\n",
       "      <th>19</th>\n",
       "      <td>PROMIGAS_Precio cierre</td>\n",
       "      <td>0.473923</td>\n",
       "    </tr>\n",
       "    <tr>\n",
       "      <th>20</th>\n",
       "      <td>GRUPOSURA_Precio cierre</td>\n",
       "      <td>0.461499</td>\n",
       "    </tr>\n",
       "    <tr>\n",
       "      <th>21</th>\n",
       "      <td>BMC_Precio cierre</td>\n",
       "      <td>0.454839</td>\n",
       "    </tr>\n",
       "    <tr>\n",
       "      <th>22</th>\n",
       "      <td>BVC_Precio cierre</td>\n",
       "      <td>0.422641</td>\n",
       "    </tr>\n",
       "    <tr>\n",
       "      <th>23</th>\n",
       "      <td>GXTESCOL_Precio cierre</td>\n",
       "      <td>0.407303</td>\n",
       "    </tr>\n",
       "    <tr>\n",
       "      <th>24</th>\n",
       "      <td>PFAVAL_Precio cierre</td>\n",
       "      <td>0.272907</td>\n",
       "    </tr>\n",
       "    <tr>\n",
       "      <th>25</th>\n",
       "      <td>ENKA_Precio cierre</td>\n",
       "      <td>0.232556</td>\n",
       "    </tr>\n",
       "    <tr>\n",
       "      <th>26</th>\n",
       "      <td>PFCORFICOL_Precio cierre</td>\n",
       "      <td>0.208380</td>\n",
       "    </tr>\n",
       "    <tr>\n",
       "      <th>27</th>\n",
       "      <td>PFDAVVNDA_Precio cierre</td>\n",
       "      <td>0.170276</td>\n",
       "    </tr>\n",
       "    <tr>\n",
       "      <th>28</th>\n",
       "      <td>CORFICOL_Precio cierre</td>\n",
       "      <td>0.140521</td>\n",
       "    </tr>\n",
       "    <tr>\n",
       "      <th>29</th>\n",
       "      <td>FABRICATO_Precio cierre</td>\n",
       "      <td>0.133024</td>\n",
       "    </tr>\n",
       "    <tr>\n",
       "      <th>30</th>\n",
       "      <td>ECOPETROL_Precio cierre</td>\n",
       "      <td>0.116689</td>\n",
       "    </tr>\n",
       "    <tr>\n",
       "      <th>31</th>\n",
       "      <td>GRUPOAVAL_Precio cierre</td>\n",
       "      <td>0.006655</td>\n",
       "    </tr>\n",
       "    <tr>\n",
       "      <th>32</th>\n",
       "      <td>BOGOTA_Precio cierre</td>\n",
       "      <td>-0.007622</td>\n",
       "    </tr>\n",
       "    <tr>\n",
       "      <th>33</th>\n",
       "      <td>EXITO_Precio cierre</td>\n",
       "      <td>-0.038047</td>\n",
       "    </tr>\n",
       "    <tr>\n",
       "      <th>34</th>\n",
       "      <td>BBVA_Precio cierre</td>\n",
       "      <td>-0.199989</td>\n",
       "    </tr>\n",
       "    <tr>\n",
       "      <th>35</th>\n",
       "      <td>ETB_Precio cierre</td>\n",
       "      <td>-0.214416</td>\n",
       "    </tr>\n",
       "    <tr>\n",
       "      <th>36</th>\n",
       "      <td>CNEC_Precio cierre</td>\n",
       "      <td>-0.447023</td>\n",
       "    </tr>\n",
       "  </tbody>\n",
       "</table>\n",
       "</div>"
      ],
      "text/plain": [
       "                        Stock  Correlation\n",
       "0       ICOLCAP_Precio cierre     0.994846\n",
       "1       HCOLSEL_Precio cierre     0.941323\n",
       "2   PFBCOLOMBIA_Precio cierre     0.938546\n",
       "3   PFGRUPOSURA_Precio cierre     0.865484\n",
       "4        TERPEL_Precio cierre     0.840931\n",
       "5     BCOLOMBIA_Precio cierre     0.825396\n",
       "6           BHI_Precio cierre     0.819506\n",
       "7    GRUPOARGOS_Precio cierre     0.790809\n",
       "8      CEMARGOS_Precio cierre     0.762199\n",
       "9     PFGRUPARG_Precio cierre     0.737709\n",
       "10      MINEROS_Precio cierre     0.717504\n",
       "11          GEB_Precio cierre     0.697134\n",
       "12   PFCEMARGOS_Precio cierre     0.694748\n",
       "13          PEI_Precio cierre     0.632941\n",
       "14   GRUBOLIVAR_Precio cierre     0.605150\n",
       "15      NUTRESA_Precio cierre     0.602157\n",
       "16       CELSIA_Precio cierre     0.519067\n",
       "17  CONCONCRETO_Precio cierre     0.514353\n",
       "18          ISA_Precio cierre     0.494475\n",
       "19     PROMIGAS_Precio cierre     0.473923\n",
       "20    GRUPOSURA_Precio cierre     0.461499\n",
       "21          BMC_Precio cierre     0.454839\n",
       "22          BVC_Precio cierre     0.422641\n",
       "23     GXTESCOL_Precio cierre     0.407303\n",
       "24       PFAVAL_Precio cierre     0.272907\n",
       "25         ENKA_Precio cierre     0.232556\n",
       "26   PFCORFICOL_Precio cierre     0.208380\n",
       "27    PFDAVVNDA_Precio cierre     0.170276\n",
       "28     CORFICOL_Precio cierre     0.140521\n",
       "29    FABRICATO_Precio cierre     0.133024\n",
       "30    ECOPETROL_Precio cierre     0.116689\n",
       "31    GRUPOAVAL_Precio cierre     0.006655\n",
       "32       BOGOTA_Precio cierre    -0.007622\n",
       "33        EXITO_Precio cierre    -0.038047\n",
       "34         BBVA_Precio cierre    -0.199989\n",
       "35          ETB_Precio cierre    -0.214416\n",
       "36         CNEC_Precio cierre    -0.447023"
      ]
     },
     "execution_count": 19,
     "metadata": {},
     "output_type": "execute_result"
    }
   ],
   "source": [
    "df_corr = pd.read_csv(\"Historical_Correlation.csv\", index_col=0, header=None, names=[\"Stock\", \"Correlation\"], skiprows=1)\n",
    "df_corr=df_corr.reset_index()\n",
    "df_corr = df_corr.sort_values(\"Correlation\", ascending=False).reset_index(drop=True)\n",
    "df_corr"
   ]
  },
  {
   "cell_type": "code",
   "execution_count": 21,
   "metadata": {},
   "outputs": [
    {
     "data": {
      "application/vnd.plotly.v1+json": {
       "config": {
        "plotlyServerURL": "https://plot.ly"
       },
       "data": [
        {
         "alignmentgroup": "True",
         "hovertemplate": "Correlation Coefficient=%{marker.color}<br>Stock=%{y}<extra></extra>",
         "legendgroup": "",
         "marker": {
          "color": [
           0.9948463653404988,
           0.9413229473724152,
           0.9385458774740404,
           0.8654839552714112,
           0.8409312273008402,
           0.8253963685932049,
           0.8195063230147103,
           0.7908093573545478,
           0.7621994542560555,
           0.7377093144518202,
           0.7175035735680275,
           0.6971343123316756,
           0.6947475226327812,
           0.6329405026604082,
           0.605150225687589,
           0.6021573852004702,
           0.5190668565490688,
           0.5143532106251983,
           0.4944745321860683,
           0.4739228814465165,
           0.4614990755072386,
           0.4548389675827715,
           0.4226414333171697,
           0.4073031209331267,
           0.2729073971428772,
           0.2325557516117451,
           0.208379912135015,
           0.170275662646882,
           0.1405207761652165,
           0.1330244337789628,
           0.1166890955426915,
           0.0066549239069075,
           -0.0076220025678957,
           -0.0380472060365187,
           -0.199989358481996,
           -0.2144157784829242,
           -0.4470233376022854
          ],
          "coloraxis": "coloraxis",
          "pattern": {
           "shape": ""
          }
         },
         "name": "",
         "offsetgroup": "",
         "orientation": "h",
         "showlegend": false,
         "textposition": "auto",
         "type": "bar",
         "x": [
          0.9948463653404988,
          0.9413229473724152,
          0.9385458774740404,
          0.8654839552714112,
          0.8409312273008402,
          0.8253963685932049,
          0.8195063230147103,
          0.7908093573545478,
          0.7621994542560555,
          0.7377093144518202,
          0.7175035735680275,
          0.6971343123316756,
          0.6947475226327812,
          0.6329405026604082,
          0.605150225687589,
          0.6021573852004702,
          0.5190668565490688,
          0.5143532106251983,
          0.4944745321860683,
          0.4739228814465165,
          0.4614990755072386,
          0.4548389675827715,
          0.4226414333171697,
          0.4073031209331267,
          0.2729073971428772,
          0.2325557516117451,
          0.208379912135015,
          0.170275662646882,
          0.1405207761652165,
          0.1330244337789628,
          0.1166890955426915,
          0.0066549239069075,
          -0.0076220025678957,
          -0.0380472060365187,
          -0.199989358481996,
          -0.2144157784829242,
          -0.4470233376022854
         ],
         "xaxis": "x",
         "y": [
          "ICOLCAP",
          "HCOLSEL",
          "PFBCOLOMBIA",
          "PFGRUPOSURA",
          "TERPEL",
          "BCOLOMBIA",
          "BHI",
          "GRUPOARGOS",
          "CEMARGOS",
          "PFGRUPARG",
          "MINEROS",
          "GEB",
          "PFCEMARGOS",
          "PEI",
          "GRUBOLIVAR",
          "NUTRESA",
          "CELSIA",
          "CONCONCRETO",
          "ISA",
          "PROMIGAS",
          "GRUPOSURA",
          "BMC",
          "BVC",
          "GXTESCOL",
          "PFAVAL",
          "ENKA",
          "PFCORFICOL",
          "PFDAVVNDA",
          "CORFICOL",
          "FABRICATO",
          "ECOPETROL",
          "GRUPOAVAL",
          "BOGOTA",
          "EXITO",
          "BBVA",
          "ETB",
          "CNEC"
         ],
         "yaxis": "y"
        }
       ],
       "layout": {
        "barmode": "relative",
        "coloraxis": {
         "cmax": 1,
         "cmin": -1,
         "colorbar": {
          "title": {
           "text": "Correlation Coefficient"
          }
         },
         "colorscale": [
          [
           0,
           "rgb(5,48,97)"
          ],
          [
           0.1,
           "rgb(33,102,172)"
          ],
          [
           0.2,
           "rgb(67,147,195)"
          ],
          [
           0.3,
           "rgb(146,197,222)"
          ],
          [
           0.4,
           "rgb(209,229,240)"
          ],
          [
           0.5,
           "rgb(247,247,247)"
          ],
          [
           0.6,
           "rgb(253,219,199)"
          ],
          [
           0.7,
           "rgb(244,165,130)"
          ],
          [
           0.8,
           "rgb(214,96,77)"
          ],
          [
           0.9,
           "rgb(178,24,43)"
          ],
          [
           1,
           "rgb(103,0,31)"
          ]
         ]
        },
        "height": 800,
        "legend": {
         "tracegroupgap": 0
        },
        "template": {
         "data": {
          "bar": [
           {
            "error_x": {
             "color": "#2a3f5f"
            },
            "error_y": {
             "color": "#2a3f5f"
            },
            "marker": {
             "line": {
              "color": "#E5ECF6",
              "width": 0.5
             },
             "pattern": {
              "fillmode": "overlay",
              "size": 10,
              "solidity": 0.2
             }
            },
            "type": "bar"
           }
          ],
          "barpolar": [
           {
            "marker": {
             "line": {
              "color": "#E5ECF6",
              "width": 0.5
             },
             "pattern": {
              "fillmode": "overlay",
              "size": 10,
              "solidity": 0.2
             }
            },
            "type": "barpolar"
           }
          ],
          "carpet": [
           {
            "aaxis": {
             "endlinecolor": "#2a3f5f",
             "gridcolor": "white",
             "linecolor": "white",
             "minorgridcolor": "white",
             "startlinecolor": "#2a3f5f"
            },
            "baxis": {
             "endlinecolor": "#2a3f5f",
             "gridcolor": "white",
             "linecolor": "white",
             "minorgridcolor": "white",
             "startlinecolor": "#2a3f5f"
            },
            "type": "carpet"
           }
          ],
          "choropleth": [
           {
            "colorbar": {
             "outlinewidth": 0,
             "ticks": ""
            },
            "type": "choropleth"
           }
          ],
          "contour": [
           {
            "colorbar": {
             "outlinewidth": 0,
             "ticks": ""
            },
            "colorscale": [
             [
              0,
              "#0d0887"
             ],
             [
              0.1111111111111111,
              "#46039f"
             ],
             [
              0.2222222222222222,
              "#7201a8"
             ],
             [
              0.3333333333333333,
              "#9c179e"
             ],
             [
              0.4444444444444444,
              "#bd3786"
             ],
             [
              0.5555555555555556,
              "#d8576b"
             ],
             [
              0.6666666666666666,
              "#ed7953"
             ],
             [
              0.7777777777777778,
              "#fb9f3a"
             ],
             [
              0.8888888888888888,
              "#fdca26"
             ],
             [
              1,
              "#f0f921"
             ]
            ],
            "type": "contour"
           }
          ],
          "contourcarpet": [
           {
            "colorbar": {
             "outlinewidth": 0,
             "ticks": ""
            },
            "type": "contourcarpet"
           }
          ],
          "heatmap": [
           {
            "colorbar": {
             "outlinewidth": 0,
             "ticks": ""
            },
            "colorscale": [
             [
              0,
              "#0d0887"
             ],
             [
              0.1111111111111111,
              "#46039f"
             ],
             [
              0.2222222222222222,
              "#7201a8"
             ],
             [
              0.3333333333333333,
              "#9c179e"
             ],
             [
              0.4444444444444444,
              "#bd3786"
             ],
             [
              0.5555555555555556,
              "#d8576b"
             ],
             [
              0.6666666666666666,
              "#ed7953"
             ],
             [
              0.7777777777777778,
              "#fb9f3a"
             ],
             [
              0.8888888888888888,
              "#fdca26"
             ],
             [
              1,
              "#f0f921"
             ]
            ],
            "type": "heatmap"
           }
          ],
          "heatmapgl": [
           {
            "colorbar": {
             "outlinewidth": 0,
             "ticks": ""
            },
            "colorscale": [
             [
              0,
              "#0d0887"
             ],
             [
              0.1111111111111111,
              "#46039f"
             ],
             [
              0.2222222222222222,
              "#7201a8"
             ],
             [
              0.3333333333333333,
              "#9c179e"
             ],
             [
              0.4444444444444444,
              "#bd3786"
             ],
             [
              0.5555555555555556,
              "#d8576b"
             ],
             [
              0.6666666666666666,
              "#ed7953"
             ],
             [
              0.7777777777777778,
              "#fb9f3a"
             ],
             [
              0.8888888888888888,
              "#fdca26"
             ],
             [
              1,
              "#f0f921"
             ]
            ],
            "type": "heatmapgl"
           }
          ],
          "histogram": [
           {
            "marker": {
             "pattern": {
              "fillmode": "overlay",
              "size": 10,
              "solidity": 0.2
             }
            },
            "type": "histogram"
           }
          ],
          "histogram2d": [
           {
            "colorbar": {
             "outlinewidth": 0,
             "ticks": ""
            },
            "colorscale": [
             [
              0,
              "#0d0887"
             ],
             [
              0.1111111111111111,
              "#46039f"
             ],
             [
              0.2222222222222222,
              "#7201a8"
             ],
             [
              0.3333333333333333,
              "#9c179e"
             ],
             [
              0.4444444444444444,
              "#bd3786"
             ],
             [
              0.5555555555555556,
              "#d8576b"
             ],
             [
              0.6666666666666666,
              "#ed7953"
             ],
             [
              0.7777777777777778,
              "#fb9f3a"
             ],
             [
              0.8888888888888888,
              "#fdca26"
             ],
             [
              1,
              "#f0f921"
             ]
            ],
            "type": "histogram2d"
           }
          ],
          "histogram2dcontour": [
           {
            "colorbar": {
             "outlinewidth": 0,
             "ticks": ""
            },
            "colorscale": [
             [
              0,
              "#0d0887"
             ],
             [
              0.1111111111111111,
              "#46039f"
             ],
             [
              0.2222222222222222,
              "#7201a8"
             ],
             [
              0.3333333333333333,
              "#9c179e"
             ],
             [
              0.4444444444444444,
              "#bd3786"
             ],
             [
              0.5555555555555556,
              "#d8576b"
             ],
             [
              0.6666666666666666,
              "#ed7953"
             ],
             [
              0.7777777777777778,
              "#fb9f3a"
             ],
             [
              0.8888888888888888,
              "#fdca26"
             ],
             [
              1,
              "#f0f921"
             ]
            ],
            "type": "histogram2dcontour"
           }
          ],
          "mesh3d": [
           {
            "colorbar": {
             "outlinewidth": 0,
             "ticks": ""
            },
            "type": "mesh3d"
           }
          ],
          "parcoords": [
           {
            "line": {
             "colorbar": {
              "outlinewidth": 0,
              "ticks": ""
             }
            },
            "type": "parcoords"
           }
          ],
          "pie": [
           {
            "automargin": true,
            "type": "pie"
           }
          ],
          "scatter": [
           {
            "fillpattern": {
             "fillmode": "overlay",
             "size": 10,
             "solidity": 0.2
            },
            "type": "scatter"
           }
          ],
          "scatter3d": [
           {
            "line": {
             "colorbar": {
              "outlinewidth": 0,
              "ticks": ""
             }
            },
            "marker": {
             "colorbar": {
              "outlinewidth": 0,
              "ticks": ""
             }
            },
            "type": "scatter3d"
           }
          ],
          "scattercarpet": [
           {
            "marker": {
             "colorbar": {
              "outlinewidth": 0,
              "ticks": ""
             }
            },
            "type": "scattercarpet"
           }
          ],
          "scattergeo": [
           {
            "marker": {
             "colorbar": {
              "outlinewidth": 0,
              "ticks": ""
             }
            },
            "type": "scattergeo"
           }
          ],
          "scattergl": [
           {
            "marker": {
             "colorbar": {
              "outlinewidth": 0,
              "ticks": ""
             }
            },
            "type": "scattergl"
           }
          ],
          "scattermapbox": [
           {
            "marker": {
             "colorbar": {
              "outlinewidth": 0,
              "ticks": ""
             }
            },
            "type": "scattermapbox"
           }
          ],
          "scatterpolar": [
           {
            "marker": {
             "colorbar": {
              "outlinewidth": 0,
              "ticks": ""
             }
            },
            "type": "scatterpolar"
           }
          ],
          "scatterpolargl": [
           {
            "marker": {
             "colorbar": {
              "outlinewidth": 0,
              "ticks": ""
             }
            },
            "type": "scatterpolargl"
           }
          ],
          "scatterternary": [
           {
            "marker": {
             "colorbar": {
              "outlinewidth": 0,
              "ticks": ""
             }
            },
            "type": "scatterternary"
           }
          ],
          "surface": [
           {
            "colorbar": {
             "outlinewidth": 0,
             "ticks": ""
            },
            "colorscale": [
             [
              0,
              "#0d0887"
             ],
             [
              0.1111111111111111,
              "#46039f"
             ],
             [
              0.2222222222222222,
              "#7201a8"
             ],
             [
              0.3333333333333333,
              "#9c179e"
             ],
             [
              0.4444444444444444,
              "#bd3786"
             ],
             [
              0.5555555555555556,
              "#d8576b"
             ],
             [
              0.6666666666666666,
              "#ed7953"
             ],
             [
              0.7777777777777778,
              "#fb9f3a"
             ],
             [
              0.8888888888888888,
              "#fdca26"
             ],
             [
              1,
              "#f0f921"
             ]
            ],
            "type": "surface"
           }
          ],
          "table": [
           {
            "cells": {
             "fill": {
              "color": "#EBF0F8"
             },
             "line": {
              "color": "white"
             }
            },
            "header": {
             "fill": {
              "color": "#C8D4E3"
             },
             "line": {
              "color": "white"
             }
            },
            "type": "table"
           }
          ]
         },
         "layout": {
          "annotationdefaults": {
           "arrowcolor": "#2a3f5f",
           "arrowhead": 0,
           "arrowwidth": 1
          },
          "autotypenumbers": "strict",
          "coloraxis": {
           "colorbar": {
            "outlinewidth": 0,
            "ticks": ""
           }
          },
          "colorscale": {
           "diverging": [
            [
             0,
             "#8e0152"
            ],
            [
             0.1,
             "#c51b7d"
            ],
            [
             0.2,
             "#de77ae"
            ],
            [
             0.3,
             "#f1b6da"
            ],
            [
             0.4,
             "#fde0ef"
            ],
            [
             0.5,
             "#f7f7f7"
            ],
            [
             0.6,
             "#e6f5d0"
            ],
            [
             0.7,
             "#b8e186"
            ],
            [
             0.8,
             "#7fbc41"
            ],
            [
             0.9,
             "#4d9221"
            ],
            [
             1,
             "#276419"
            ]
           ],
           "sequential": [
            [
             0,
             "#0d0887"
            ],
            [
             0.1111111111111111,
             "#46039f"
            ],
            [
             0.2222222222222222,
             "#7201a8"
            ],
            [
             0.3333333333333333,
             "#9c179e"
            ],
            [
             0.4444444444444444,
             "#bd3786"
            ],
            [
             0.5555555555555556,
             "#d8576b"
            ],
            [
             0.6666666666666666,
             "#ed7953"
            ],
            [
             0.7777777777777778,
             "#fb9f3a"
            ],
            [
             0.8888888888888888,
             "#fdca26"
            ],
            [
             1,
             "#f0f921"
            ]
           ],
           "sequentialminus": [
            [
             0,
             "#0d0887"
            ],
            [
             0.1111111111111111,
             "#46039f"
            ],
            [
             0.2222222222222222,
             "#7201a8"
            ],
            [
             0.3333333333333333,
             "#9c179e"
            ],
            [
             0.4444444444444444,
             "#bd3786"
            ],
            [
             0.5555555555555556,
             "#d8576b"
            ],
            [
             0.6666666666666666,
             "#ed7953"
            ],
            [
             0.7777777777777778,
             "#fb9f3a"
            ],
            [
             0.8888888888888888,
             "#fdca26"
            ],
            [
             1,
             "#f0f921"
            ]
           ]
          },
          "colorway": [
           "#636efa",
           "#EF553B",
           "#00cc96",
           "#ab63fa",
           "#FFA15A",
           "#19d3f3",
           "#FF6692",
           "#B6E880",
           "#FF97FF",
           "#FECB52"
          ],
          "font": {
           "color": "#2a3f5f"
          },
          "geo": {
           "bgcolor": "white",
           "lakecolor": "white",
           "landcolor": "#E5ECF6",
           "showlakes": true,
           "showland": true,
           "subunitcolor": "white"
          },
          "hoverlabel": {
           "align": "left"
          },
          "hovermode": "closest",
          "mapbox": {
           "style": "light"
          },
          "paper_bgcolor": "white",
          "plot_bgcolor": "#E5ECF6",
          "polar": {
           "angularaxis": {
            "gridcolor": "white",
            "linecolor": "white",
            "ticks": ""
           },
           "bgcolor": "#E5ECF6",
           "radialaxis": {
            "gridcolor": "white",
            "linecolor": "white",
            "ticks": ""
           }
          },
          "scene": {
           "xaxis": {
            "backgroundcolor": "#E5ECF6",
            "gridcolor": "white",
            "gridwidth": 2,
            "linecolor": "white",
            "showbackground": true,
            "ticks": "",
            "zerolinecolor": "white"
           },
           "yaxis": {
            "backgroundcolor": "#E5ECF6",
            "gridcolor": "white",
            "gridwidth": 2,
            "linecolor": "white",
            "showbackground": true,
            "ticks": "",
            "zerolinecolor": "white"
           },
           "zaxis": {
            "backgroundcolor": "#E5ECF6",
            "gridcolor": "white",
            "gridwidth": 2,
            "linecolor": "white",
            "showbackground": true,
            "ticks": "",
            "zerolinecolor": "white"
           }
          },
          "shapedefaults": {
           "line": {
            "color": "#2a3f5f"
           }
          },
          "ternary": {
           "aaxis": {
            "gridcolor": "white",
            "linecolor": "white",
            "ticks": ""
           },
           "baxis": {
            "gridcolor": "white",
            "linecolor": "white",
            "ticks": ""
           },
           "bgcolor": "#E5ECF6",
           "caxis": {
            "gridcolor": "white",
            "linecolor": "white",
            "ticks": ""
           }
          },
          "title": {
           "x": 0.05
          },
          "xaxis": {
           "automargin": true,
           "gridcolor": "white",
           "linecolor": "white",
           "ticks": "",
           "title": {
            "standoff": 15
           },
           "zerolinecolor": "white",
           "zerolinewidth": 2
          },
          "yaxis": {
           "automargin": true,
           "gridcolor": "white",
           "linecolor": "white",
           "ticks": "",
           "title": {
            "standoff": 15
           },
           "zerolinecolor": "white",
           "zerolinewidth": 2
          }
         }
        },
        "title": {
         "text": "📈 Historical Correlation Stocks vs COLCAP Index Mar-2020 to Ago 2025"
        },
        "xaxis": {
         "anchor": "y",
         "domain": [
          0,
          1
         ],
         "tickformat": ".2f",
         "title": {
          "text": "Correlation Coefficient"
         }
        },
        "yaxis": {
         "anchor": "x",
         "autorange": "reversed",
         "domain": [
          0,
          1
         ],
         "title": {
          "text": "Stock"
         }
        }
       }
      }
     },
     "metadata": {},
     "output_type": "display_data"
    }
   ],
   "source": [
    "import pandas as pd\n",
    "import plotly.express as px\n",
    "\n",
    "# Load the correlation CSV\n",
    "df_corr = pd.read_csv(\"Historical_Correlation.csv\", index_col=0, header=None, names=[\"Stock\", \"Correlation\"],skiprows=1)\n",
    "\n",
    "#Reset index to have the correct form of the dataframe\n",
    "df_corr=df_corr.reset_index()\n",
    "\n",
    "#turn to float the data\n",
    "df_corr[\"Correlation\"] = df_corr[\"Correlation\"].astype(float)\n",
    "\n",
    "#order the data according to the correlation\n",
    "df_corr = df_corr.sort_values(\"Correlation\", ascending=False).reset_index(drop=True)\n",
    "\n",
    "# Optional: clean column names\n",
    "df_corr[\"Stock\"] = df_corr[\"Stock\"].str.replace(\"_Precio cierre\", \"\", regex=False)\n",
    "\n",
    "# Create the bar chart\n",
    "fig = px.bar(\n",
    "    df_corr,\n",
    "    x=\"Correlation\",\n",
    "    y=\"Stock\",\n",
    "    orientation='h',\n",
    "    color=\"Correlation\",\n",
    "    color_continuous_scale='RdBu_r',\n",
    "    range_color=[-1, 1],\n",
    "    title=\"📈 Historical Correlation Stocks vs COLCAP Index Mar-2020 to Ago 2025\",\n",
    "    labels={\"Correlation\": \"Correlation Coefficient\", \"Stock\": \"Stock\"},\n",
    ")\n",
    "\n",
    "# Update layout for better appearance\n",
    "fig.update_layout(\n",
    "    yaxis=dict(autorange=\"reversed\"),\n",
    "    height=800,\n",
    "    xaxis=dict(tickformat=\".2f\"),\n",
    ")\n",
    "\n",
    "# Show the chart (or use in Dash app)\n",
    "fig.show()"
   ]
  },
  {
   "cell_type": "code",
   "execution_count": 2,
   "metadata": {},
   "outputs": [
    {
     "data": {
      "text/html": [
       "\n",
       "        <iframe\n",
       "            width=\"100%\"\n",
       "            height=\"650\"\n",
       "            src=\"http://127.0.0.1:8050/\"\n",
       "            frameborder=\"0\"\n",
       "            allowfullscreen\n",
       "            \n",
       "        ></iframe>\n",
       "        "
      ],
      "text/plain": [
       "<IPython.lib.display.IFrame at 0x1adc83e6300>"
      ]
     },
     "metadata": {},
     "output_type": "display_data"
    }
   ],
   "source": [
    "import pandas as pd\n",
    "import plotly.express as px\n",
    "import dash\n",
    "from dash import dcc, html\n",
    "from dash.dependencies import Input, Output\n",
    "\n",
    "#FIRST PART --> CREATION OF HEATMAP\n",
    "\n",
    "# Load the monthly correlation data\n",
    "df = pd.read_csv(\"Monthly_Correlation.csv\", index_col=0, parse_dates=True)\n",
    "df.index = pd.to_datetime(df.index.astype(str))  # Ensure index is datetime\n",
    "\n",
    "# Filter data from March 2024 onwards\n",
    "df_filtered = df[df.index >= \"2024-03\"]\n",
    "\n",
    "#delete the column \"Fecha\"\n",
    "if \"Fecha\" in df_filtered.columns:\n",
    "    df_filtered = df_filtered.drop(columns=[\"Fecha\"])\n",
    "\n",
    "# Split columns into two groups\n",
    "stocks = list(df_filtered.columns)\n",
    "midpoint = len(stocks) // 2\n",
    "group1 = stocks[:midpoint]\n",
    "group2 = stocks[midpoint:]\n",
    "\n",
    "def plot_heatmap(data, title):\n",
    "    fig = px.imshow(\n",
    "        data.T,  # Transpose for better layout\n",
    "        labels=dict(x=\"Month\", y=\"Stock\", color=\"Correlation\"),\n",
    "        title=title,\n",
    "        color_continuous_scale=\"RdBu_r\",\n",
    "        aspect=\"auto\",\n",
    "    )\n",
    "    fig.update_layout(\n",
    "        autosize=False,\n",
    "        width=1000,\n",
    "        height=600,\n",
    "        xaxis=dict(tickangle=-45),\n",
    "    )\n",
    "    return fig\n",
    "\n",
    "# SECOND PART --> CREATION OF THE CORRELATION BARCHART\n",
    "\n",
    "# Load the correlation CSV\n",
    "df_corr = pd.read_csv(\"Historical_Correlation.csv\", index_col=0, header=None, names=[\"Stock\", \"Correlation\"],skiprows=1)\n",
    "\n",
    "#Reset index to have the correct form of the dataframe\n",
    "df_corr=df_corr.reset_index()\n",
    "\n",
    "#turn to float the data\n",
    "df_corr[\"Correlation\"] = df_corr[\"Correlation\"].astype(float)\n",
    "\n",
    "#order the data according to the correlation\n",
    "df_corr = df_corr.sort_values(\"Correlation\", ascending=False).reset_index(drop=True)\n",
    "\n",
    "# Optional: clean column names\n",
    "df_corr[\"Stock\"] = df_corr[\"Stock\"].str.replace(\"_Precio cierre\", \"\", regex=False)\n",
    "\n",
    "def create_bar_chart():\n",
    "    fig = px.bar(\n",
    "        df_corr,\n",
    "        x=\"Correlation\",\n",
    "        y=\"Stock\",\n",
    "        orientation=\"h\",\n",
    "        title=\"📊 Historical Correlation with COLCAP since 2020\",\n",
    "        color=\"Correlation\",\n",
    "        color_continuous_scale=\"RdBu_r\",\n",
    "        range_color=[-1, 1],\n",
    "        labels={\"Correlation\": \"Correlation Coefficient\", \"Stock\": \"Stock\"}\n",
    "    )\n",
    "    fig.update_layout(\n",
    "        yaxis=dict(autorange=\"reversed\"),\n",
    "        height=800,\n",
    "        xaxis=dict(tickformat=\".2f\"))\n",
    "    return fig\n",
    "\n",
    "\n",
    "# Dash app setup\n",
    "app = dash.Dash(__name__)\n",
    "server = app.server\n",
    "\n",
    "app.layout = html.Div([\n",
    "    html.H1(\"📈 Correlation Visualizations\", style={'textAlign': 'center'}),\n",
    "    \n",
    "    dcc.Dropdown(\n",
    "        id=\"group_selector\",\n",
    "        options=[\n",
    "            {\"label\": \"Group 1\", \"value\": \"group1\"},\n",
    "            {\"label\": \"Group 2\", \"value\": \"group2\"}\n",
    "        ],\n",
    "        value=\"group1\",\n",
    "        clearable=False,\n",
    "        style={\"width\": \"50%\", \"margin\": \"auto\"}\n",
    "    ),\n",
    "    \n",
    "    html.Div(\n",
    "        dcc.Graph(id=\"heatmap\"),\n",
    "        style={\"display\": \"flex\", \"justifyContent\": \"center\"}\n",
    "    ),\n",
    "    \n",
    "    dcc.Tab(label=\"Historical Correlation Bar Chart\", children=[\n",
    "            html.Br(),\n",
    "            dcc.Graph(figure=create_bar_chart(), style={\"margin\": \"0 auto\", \"width\": \"90%\"})\n",
    "        ])\n",
    "    \n",
    "])\n",
    "\n",
    "@app.callback(\n",
    "    Output(\"heatmap\", \"figure\"),\n",
    "    Input(\"group_selector\", \"value\")\n",
    ")\n",
    "def update_heatmap(selected_group):\n",
    "    data = df_filtered[group1] if selected_group == \"group1\" else df_filtered[group2]\n",
    "    title = f\"📊 Monthly Correlation Heatmap ({selected_group.replace('group', 'Group ')})\"\n",
    "    return plot_heatmap(data, title)\n",
    "\n",
    "# Run the server locally\n",
    "if __name__ == \"__main__\":\n",
    "    app.run(debug=True)"
   ]
  },
  {
   "cell_type": "markdown",
   "metadata": {},
   "source": [
    "### OTHER CORRELATIONS"
   ]
  },
  {
   "cell_type": "code",
   "execution_count": 3,
   "metadata": {},
   "outputs": [
    {
     "data": {
      "text/html": [
       "\n",
       "        <iframe\n",
       "            width=\"100%\"\n",
       "            height=\"650\"\n",
       "            src=\"http://127.0.0.1:8050/\"\n",
       "            frameborder=\"0\"\n",
       "            allowfullscreen\n",
       "            \n",
       "        ></iframe>\n",
       "        "
      ],
      "text/plain": [
       "<IPython.lib.display.IFrame at 0x1adc840e300>"
      ]
     },
     "metadata": {},
     "output_type": "display_data"
    }
   ],
   "source": [
    "import pandas as pd\n",
    "import numpy as np\n",
    "import plotly.express as px\n",
    "from dash import Dash, dcc, html, Input, Output\n",
    "\n",
    "# Load precomputed rolling correlations\n",
    "rolling_corr_df = pd.read_csv(\"Rolling_Correlations.csv\", index_col=0)\n",
    "\n",
    "# Drop MSCI_COLCAP itself if present\n",
    "rolling_corr_df = rolling_corr_df[~rolling_corr_df.index.str.contains(\"COLCAP\", case=False)]\n",
    "\n",
    "# List of windows based on the columns in the CSV\n",
    "rolling_windows = list(rolling_corr_df.columns)\n",
    "\n",
    "# Create Dash app\n",
    "app = Dash(__name__)\n",
    "\n",
    "app.layout = html.Div([\n",
    "    html.H1(\"📊 Rolling Correlation with MSCI COLCAP\", style={\"textAlign\": \"center\"}),\n",
    "\n",
    "    dcc.Dropdown(\n",
    "        id=\"window_selector\",\n",
    "        options=[{\"label\": window, \"value\": window} for window in rolling_windows],\n",
    "        value=rolling_windows[-1],  # Default to last (e.g., 252d)\n",
    "        clearable=False,\n",
    "        style={\"width\": \"50%\", \"margin\": \"auto\"}\n",
    "    ),\n",
    "\n",
    "    dcc.Graph(id=\"bar_chart\"),\n",
    "\n",
    "    html.H3(\"Correlation Table\", style={\"textAlign\": \"center\"}),\n",
    "    html.Div(id=\"correlation_table\", style={\"width\": \"80%\", \"margin\": \"auto\"})\n",
    "])\n",
    "\n",
    "@app.callback(\n",
    "    [Output(\"bar_chart\", \"figure\"),\n",
    "     Output(\"correlation_table\", \"children\")],\n",
    "    [Input(\"window_selector\", \"value\")]\n",
    ")\n",
    "def update_output(selected_window):\n",
    "    corr_series = rolling_corr_df[selected_window].dropna()\n",
    "\n",
    "    # Bar chart\n",
    "    fig = px.bar(\n",
    "        x=corr_series.index,\n",
    "        y=corr_series.values,\n",
    "        labels={\"x\": \"Stock\", \"y\": f\"Correlation ({selected_window})\"},\n",
    "        title=f\"Rolling Correlation with MSCI COLCAP ({selected_window})\",\n",
    "        color=corr_series.values,\n",
    "        color_continuous_scale=\"RdBu\",\n",
    "        range_color=[-1, 1]\n",
    "    )\n",
    "    fig.update_layout(xaxis_tickangle=-45, height=500)\n",
    "\n",
    "    # Table\n",
    "    table = html.Table([\n",
    "        html.Thead([\n",
    "            html.Tr([html.Th(\"Stock\"), html.Th(f\"Correlation ({selected_window})\")])\n",
    "        ]),\n",
    "        html.Tbody([\n",
    "            html.Tr([html.Td(stock), html.Td(round(corr, 4))])\n",
    "            for stock, corr in corr_series.items()\n",
    "        ])\n",
    "    ])\n",
    "\n",
    "    return fig, table\n",
    "\n",
    "if __name__ == \"__main__\":\n",
    "    app.run(debug=True)"
   ]
  },
  {
   "cell_type": "code",
   "execution_count": 4,
   "metadata": {},
   "outputs": [
    {
     "data": {
      "text/html": [
       "\n",
       "        <iframe\n",
       "            width=\"100%\"\n",
       "            height=\"650\"\n",
       "            src=\"http://127.0.0.1:8050/\"\n",
       "            frameborder=\"0\"\n",
       "            allowfullscreen\n",
       "            \n",
       "        ></iframe>\n",
       "        "
      ],
      "text/plain": [
       "<IPython.lib.display.IFrame at 0x1adc84bcaa0>"
      ]
     },
     "metadata": {},
     "output_type": "display_data"
    },
    {
     "name": "stdout",
     "output_type": "stream",
     "text": [
      "---------------------------------------------------------------------------\n",
      "KeyError                                  Traceback (most recent call last)\n",
      "File c:\\Users\\ACER\\anaconda3\\Lib\\site-packages\\pandas\\core\\indexes\\base.py:3805, in Index.get_loc(\n",
      "    self=Index(['5 days', '30 days', '90 days', '180 days', '252 days'], dtype='object'),\n",
      "    key='252d'\n",
      ")\n",
      "   3804 try:\n",
      "-> 3805     return self._engine.get_loc(casted_key)\n",
      "        casted_key = '252d'\n",
      "        self = Index(['5 days', '30 days', '90 days', '180 days', '252 days'], dtype='object')\n",
      "   3806 except KeyError as err:\n",
      "\n",
      "File index.pyx:167, in pandas._libs.index.IndexEngine.get_loc()\n",
      "\n",
      "File index.pyx:196, in pandas._libs.index.IndexEngine.get_loc()\n",
      "\n",
      "File pandas\\\\_libs\\\\hashtable_class_helper.pxi:7081, in pandas._libs.hashtable.PyObjectHashTable.get_item()\n",
      "\n",
      "File pandas\\\\_libs\\\\hashtable_class_helper.pxi:7089, in pandas._libs.hashtable.PyObjectHashTable.get_item()\n",
      "\n",
      "KeyError: '252d'\n",
      "\n",
      "The above exception was the direct cause of the following exception:\n",
      "\n",
      "KeyError                                  Traceback (most recent call last)\n",
      "Cell In[4], line 188, in update_rolling_output(selected_window='252d')\n",
      "    183 @app.callback(\n",
      "    184     [Output(\"bar_chart\", \"figure\"), Output(\"correlation_table\", \"children\")],\n",
      "    185     Input(\"window_selector\", \"value\")\n",
      "    186 )\n",
      "    187 def update_rolling_output(selected_window):\n",
      "--> 188     corr_series = rolling_df[selected_window].dropna().sort_values(ascending=False)\n",
      "        rolling_df =              5 days   30 days   90 days  180 days  252 days\n",
      "BBVA            NaN -0.061898  0.283283  0.305950 -0.431698\n",
      "BCOLOMBIA       inf -0.092290  0.970740  0.982712  0.988420\n",
      "BHI             NaN -0.658747  0.836314  0.866339  0.825277\n",
      "BMC             NaN -0.111866  0.287494  0.489695  0.558905\n",
      "BOGOTA          NaN -0.212936  0.815083  0.941396  0.955724\n",
      "BVC             NaN -0.160214  0.669994  0.571020  0.841010\n",
      "CELSIA          NaN  0.262447  0.725693  0.846944  0.822664\n",
      "CEMARGOS       -inf  0.161905 -0.308411  0.011175  0.646006\n",
      "CNEC           -inf -0.264891 -0.513162 -0.791547 -0.747789\n",
      "CONCONCRETO     NaN  0.190312 -0.895883 -0.782090  0.369285\n",
      "CORFICOL       -inf  0.021351 -0.150087  0.510044  0.800147\n",
      "ECOPETROL       NaN -0.107624 -0.211263 -0.299673  0.131369\n",
      "ENKA            NaN -0.320302  0.809695  0.919329  0.927655\n",
      "ETB             NaN -0.557086 -0.941447 -0.746177 -0.908434\n",
      "EXITO           NaN -0.038365  0.830312  0.820660  0.638655\n",
      "FABRICATO       NaN -0.068571  0.637596  0.813733  0.546121\n",
      "GEB            -inf  0.254849 -0.237041  0.746744  0.893005\n",
      "GRUBOLIVAR      NaN -0.238175  0.857122  0.799441  0.894260\n",
      "GRUPOARGOS      inf  0.101805 -0.812469 -0.369404  0.033113\n",
      "GRUPOAVAL       NaN       NaN       NaN      -inf      -inf\n",
      "GRUPOSURA       NaN  0.262835 -0.312602  0.651836  0.847571\n",
      "GXTESCOL        NaN -0.158357  0.911687  0.873500  0.516907\n",
      "HCOLSEL         NaN -0.125283  0.988964  0.986454  0.993433\n",
      "ICOLCAP         inf  0.016596  0.992182  0.985742  0.994320\n",
      "ISA             NaN  0.219827  0.923509  0.905070  0.925517\n",
      "MINEROS         NaN -0.365757  0.828628  0.890176  0.926862\n",
      "NUTRESA         NaN -0.338912  0.811752  0.927269  0.970814\n",
      "PEI             NaN -0.231832  0.683848  0.471027  0.545871\n",
      "PFAVAL          NaN       NaN       NaN      -inf      -inf\n",
      "PFBCOLOMBIA     inf -0.184613  0.954503  0.972866  0.988653\n",
      "PFCEMARGOS      NaN -0.042244  0.680092  0.354386  0.726573\n",
      "PFCORFICOL      NaN -0.044165  0.754896  0.535144  0.818772\n",
      "PFDAVVNDA       NaN  0.355000  0.685315  0.880066  0.920868\n",
      "PFGRUPARG       NaN  0.102628 -0.877633 -0.500098  0.029937\n",
      "PFGRUPOSURA     inf  0.180395 -0.568007  0.571684  0.858282\n",
      "PROMIGAS        NaN  0.300188 -0.562563 -0.716062 -0.881609\n",
      "TERPEL          NaN -0.183264  0.891879  0.723062  0.843103\n",
      "        selected_window = '252d'\n",
      "    190     fig = px.bar(\n",
      "    191     x=corr_series.index,\n",
      "    192     y=corr_series.values,\n",
      "   (...)\n",
      "    196     color_discrete_sequence=px.colors.qualitative.Safe  # Or Vibrant, Dark2, Set3, etc.\n",
      "    197 )\n",
      "    200     fig.update_layout(xaxis_tickangle=-45, height=500)\n",
      "\n",
      "File c:\\Users\\ACER\\anaconda3\\Lib\\site-packages\\pandas\\core\\frame.py:4102, in DataFrame.__getitem__(\n",
      "    self=             5 days   30 days   90 days  180 day...      NaN -0.183264  0.891879  0.723062  0.843103,\n",
      "    key='252d'\n",
      ")\n",
      "   4100 if self.columns.nlevels > 1:\n",
      "   4101     return self._getitem_multilevel(key)\n",
      "-> 4102 indexer = self.columns.get_loc(key)\n",
      "        key = '252d'\n",
      "        self =              5 days   30 days   90 days  180 days  252 days\n",
      "BBVA            NaN -0.061898  0.283283  0.305950 -0.431698\n",
      "BCOLOMBIA       inf -0.092290  0.970740  0.982712  0.988420\n",
      "BHI             NaN -0.658747  0.836314  0.866339  0.825277\n",
      "BMC             NaN -0.111866  0.287494  0.489695  0.558905\n",
      "BOGOTA          NaN -0.212936  0.815083  0.941396  0.955724\n",
      "BVC             NaN -0.160214  0.669994  0.571020  0.841010\n",
      "CELSIA          NaN  0.262447  0.725693  0.846944  0.822664\n",
      "CEMARGOS       -inf  0.161905 -0.308411  0.011175  0.646006\n",
      "CNEC           -inf -0.264891 -0.513162 -0.791547 -0.747789\n",
      "CONCONCRETO     NaN  0.190312 -0.895883 -0.782090  0.369285\n",
      "CORFICOL       -inf  0.021351 -0.150087  0.510044  0.800147\n",
      "ECOPETROL       NaN -0.107624 -0.211263 -0.299673  0.131369\n",
      "ENKA            NaN -0.320302  0.809695  0.919329  0.927655\n",
      "ETB             NaN -0.557086 -0.941447 -0.746177 -0.908434\n",
      "EXITO           NaN -0.038365  0.830312  0.820660  0.638655\n",
      "FABRICATO       NaN -0.068571  0.637596  0.813733  0.546121\n",
      "GEB            -inf  0.254849 -0.237041  0.746744  0.893005\n",
      "GRUBOLIVAR      NaN -0.238175  0.857122  0.799441  0.894260\n",
      "GRUPOARGOS      inf  0.101805 -0.812469 -0.369404  0.033113\n",
      "GRUPOAVAL       NaN       NaN       NaN      -inf      -inf\n",
      "GRUPOSURA       NaN  0.262835 -0.312602  0.651836  0.847571\n",
      "GXTESCOL        NaN -0.158357  0.911687  0.873500  0.516907\n",
      "HCOLSEL         NaN -0.125283  0.988964  0.986454  0.993433\n",
      "ICOLCAP         inf  0.016596  0.992182  0.985742  0.994320\n",
      "ISA             NaN  0.219827  0.923509  0.905070  0.925517\n",
      "MINEROS         NaN -0.365757  0.828628  0.890176  0.926862\n",
      "NUTRESA         NaN -0.338912  0.811752  0.927269  0.970814\n",
      "PEI             NaN -0.231832  0.683848  0.471027  0.545871\n",
      "PFAVAL          NaN       NaN       NaN      -inf      -inf\n",
      "PFBCOLOMBIA     inf -0.184613  0.954503  0.972866  0.988653\n",
      "PFCEMARGOS      NaN -0.042244  0.680092  0.354386  0.726573\n",
      "PFCORFICOL      NaN -0.044165  0.754896  0.535144  0.818772\n",
      "PFDAVVNDA       NaN  0.355000  0.685315  0.880066  0.920868\n",
      "PFGRUPARG       NaN  0.102628 -0.877633 -0.500098  0.029937\n",
      "PFGRUPOSURA     inf  0.180395 -0.568007  0.571684  0.858282\n",
      "PROMIGAS        NaN  0.300188 -0.562563 -0.716062 -0.881609\n",
      "TERPEL          NaN -0.183264  0.891879  0.723062  0.843103\n",
      "   4103 if is_integer(indexer):\n",
      "   4104     indexer = [indexer]\n",
      "\n",
      "File c:\\Users\\ACER\\anaconda3\\Lib\\site-packages\\pandas\\core\\indexes\\base.py:3812, in Index.get_loc(\n",
      "    self=Index(['5 days', '30 days', '90 days', '180 days', '252 days'], dtype='object'),\n",
      "    key='252d'\n",
      ")\n",
      "   3807     if isinstance(casted_key, slice) or (\n",
      "   3808         isinstance(casted_key, abc.Iterable)\n",
      "   3809         and any(isinstance(x, slice) for x in casted_key)\n",
      "   3810     ):\n",
      "   3811         raise InvalidIndexError(key)\n",
      "-> 3812     raise KeyError(key) from err\n",
      "        key = '252d'\n",
      "   3813 except TypeError:\n",
      "   3814     # If we have a listlike key, _check_indexing_error will raise\n",
      "   3815     #  InvalidIndexError. Otherwise we fall through and re-raise\n",
      "   3816     #  the TypeError.\n",
      "   3817     self._check_indexing_error(key)\n",
      "\n",
      "KeyError: '252d'\n",
      "\n",
      "---------------------------------------------------------------------------\n",
      "KeyError                                  Traceback (most recent call last)\n",
      "File c:\\Users\\ACER\\anaconda3\\Lib\\site-packages\\pandas\\core\\indexes\\base.py:3805, in Index.get_loc(self=Index(['5 days', '30 days', '90 days', '180 days', '252 days'], dtype='object'), key='252d')\n",
      "   3804 try:\n",
      "-> 3805     return self._engine.get_loc(casted_key)\n",
      "        casted_key = '252d'\n",
      "        self = Index(['5 days', '30 days', '90 days', '180 days', '252 days'], dtype='object')\n",
      "   3806 except KeyError as err:\n",
      "\n",
      "File index.pyx:167, in pandas._libs.index.IndexEngine.get_loc()\n",
      "\n",
      "File index.pyx:196, in pandas._libs.index.IndexEngine.get_loc()\n",
      "\n",
      "File pandas\\\\_libs\\\\hashtable_class_helper.pxi:7081, in pandas._libs.hashtable.PyObjectHashTable.get_item()\n",
      "\n",
      "File pandas\\\\_libs\\\\hashtable_class_helper.pxi:7089, in pandas._libs.hashtable.PyObjectHashTable.get_item()\n",
      "\n",
      "KeyError: '252d'\n",
      "\n",
      "The above exception was the direct cause of the following exception:\n",
      "\n",
      "KeyError                                  Traceback (most recent call last)\n",
      "Cell In[4], line 188, in update_rolling_output(selected_window='252d')\n",
      "    183 @app.callback(\n",
      "    184     [Output(\"bar_chart\", \"figure\"), Output(\"correlation_table\", \"children\")],\n",
      "    185     Input(\"window_selector\", \"value\")\n",
      "    186 )\n",
      "    187 def update_rolling_output(selected_window):\n",
      "--> 188     corr_series = rolling_df[selected_window].dropna().sort_values(ascending=False)\n",
      "        rolling_df =              5 days   30 days   90 days  180 days  252 days\n",
      "BBVA            NaN -0.061898  0.283283  0.305950 -0.431698\n",
      "BCOLOMBIA       inf -0.092290  0.970740  0.982712  0.988420\n",
      "BHI             NaN -0.658747  0.836314  0.866339  0.825277\n",
      "BMC             NaN -0.111866  0.287494  0.489695  0.558905\n",
      "BOGOTA          NaN -0.212936  0.815083  0.941396  0.955724\n",
      "BVC             NaN -0.160214  0.669994  0.571020  0.841010\n",
      "CELSIA          NaN  0.262447  0.725693  0.846944  0.822664\n",
      "CEMARGOS       -inf  0.161905 -0.308411  0.011175  0.646006\n",
      "CNEC           -inf -0.264891 -0.513162 -0.791547 -0.747789\n",
      "CONCONCRETO     NaN  0.190312 -0.895883 -0.782090  0.369285\n",
      "CORFICOL       -inf  0.021351 -0.150087  0.510044  0.800147\n",
      "ECOPETROL       NaN -0.107624 -0.211263 -0.299673  0.131369\n",
      "ENKA            NaN -0.320302  0.809695  0.919329  0.927655\n",
      "ETB             NaN -0.557086 -0.941447 -0.746177 -0.908434\n",
      "EXITO           NaN -0.038365  0.830312  0.820660  0.638655\n",
      "FABRICATO       NaN -0.068571  0.637596  0.813733  0.546121\n",
      "GEB            -inf  0.254849 -0.237041  0.746744  0.893005\n",
      "GRUBOLIVAR      NaN -0.238175  0.857122  0.799441  0.894260\n",
      "GRUPOARGOS      inf  0.101805 -0.812469 -0.369404  0.033113\n",
      "GRUPOAVAL       NaN       NaN       NaN      -inf      -inf\n",
      "GRUPOSURA       NaN  0.262835 -0.312602  0.651836  0.847571\n",
      "GXTESCOL        NaN -0.158357  0.911687  0.873500  0.516907\n",
      "HCOLSEL         NaN -0.125283  0.988964  0.986454  0.993433\n",
      "ICOLCAP         inf  0.016596  0.992182  0.985742  0.994320\n",
      "ISA             NaN  0.219827  0.923509  0.905070  0.925517\n",
      "MINEROS         NaN -0.365757  0.828628  0.890176  0.926862\n",
      "NUTRESA         NaN -0.338912  0.811752  0.927269  0.970814\n",
      "PEI             NaN -0.231832  0.683848  0.471027  0.545871\n",
      "PFAVAL          NaN       NaN       NaN      -inf      -inf\n",
      "PFBCOLOMBIA     inf -0.184613  0.954503  0.972866  0.988653\n",
      "PFCEMARGOS      NaN -0.042244  0.680092  0.354386  0.726573\n",
      "PFCORFICOL      NaN -0.044165  0.754896  0.535144  0.818772\n",
      "PFDAVVNDA       NaN  0.355000  0.685315  0.880066  0.920868\n",
      "PFGRUPARG       NaN  0.102628 -0.877633 -0.500098  0.029937\n",
      "PFGRUPOSURA     inf  0.180395 -0.568007  0.571684  0.858282\n",
      "PROMIGAS        NaN  0.300188 -0.562563 -0.716062 -0.881609\n",
      "TERPEL          NaN -0.183264  0.891879  0.723062  0.843103\n",
      "        selected_window = '252d'\n",
      "    190     fig = px.bar(\n",
      "    191     x=corr_series.index,\n",
      "    192     y=corr_series.values,\n",
      "   (...)\n",
      "    196     color_discrete_sequence=px.colors.qualitative.Safe  # Or Vibrant, Dark2, Set3, etc.\n",
      "    197 )\n",
      "    200     fig.update_layout(xaxis_tickangle=-45, height=500)\n",
      "\n",
      "File c:\\Users\\ACER\\anaconda3\\Lib\\site-packages\\pandas\\core\\frame.py:4102, in DataFrame.__getitem__(\n",
      "    self=             5 days   30 days   90 days  180 day...      NaN -0.183264  0.891879  0.723062  0.843103,\n",
      "    key='252d'\n",
      ")\n",
      "   4100 if self.columns.nlevels > 1:\n",
      "   4101     return self._getitem_multilevel(key)\n",
      "-> 4102 indexer = self.columns.get_loc(key)\n",
      "        key = '252d'\n",
      "        self =              5 days   30 days   90 days  180 days  252 days\n",
      "BBVA            NaN -0.061898  0.283283  0.305950 -0.431698\n",
      "BCOLOMBIA       inf -0.092290  0.970740  0.982712  0.988420\n",
      "BHI             NaN -0.658747  0.836314  0.866339  0.825277\n",
      "BMC             NaN -0.111866  0.287494  0.489695  0.558905\n",
      "BOGOTA          NaN -0.212936  0.815083  0.941396  0.955724\n",
      "BVC             NaN -0.160214  0.669994  0.571020  0.841010\n",
      "CELSIA          NaN  0.262447  0.725693  0.846944  0.822664\n",
      "CEMARGOS       -inf  0.161905 -0.308411  0.011175  0.646006\n",
      "CNEC           -inf -0.264891 -0.513162 -0.791547 -0.747789\n",
      "CONCONCRETO     NaN  0.190312 -0.895883 -0.782090  0.369285\n",
      "CORFICOL       -inf  0.021351 -0.150087  0.510044  0.800147\n",
      "ECOPETROL       NaN -0.107624 -0.211263 -0.299673  0.131369\n",
      "ENKA            NaN -0.320302  0.809695  0.919329  0.927655\n",
      "ETB             NaN -0.557086 -0.941447 -0.746177 -0.908434\n",
      "EXITO           NaN -0.038365  0.830312  0.820660  0.638655\n",
      "FABRICATO       NaN -0.068571  0.637596  0.813733  0.546121\n",
      "GEB            -inf  0.254849 -0.237041  0.746744  0.893005\n",
      "GRUBOLIVAR      NaN -0.238175  0.857122  0.799441  0.894260\n",
      "GRUPOARGOS      inf  0.101805 -0.812469 -0.369404  0.033113\n",
      "GRUPOAVAL       NaN       NaN       NaN      -inf      -inf\n",
      "GRUPOSURA       NaN  0.262835 -0.312602  0.651836  0.847571\n",
      "GXTESCOL        NaN -0.158357  0.911687  0.873500  0.516907\n",
      "HCOLSEL         NaN -0.125283  0.988964  0.986454  0.993433\n",
      "ICOLCAP         inf  0.016596  0.992182  0.985742  0.994320\n",
      "ISA             NaN  0.219827  0.923509  0.905070  0.925517\n",
      "MINEROS         NaN -0.365757  0.828628  0.890176  0.926862\n",
      "NUTRESA         NaN -0.338912  0.811752  0.927269  0.970814\n",
      "PEI             NaN -0.231832  0.683848  0.471027  0.545871\n",
      "PFAVAL          NaN       NaN       NaN      -inf      -inf\n",
      "PFBCOLOMBIA     inf -0.184613  0.954503  0.972866  0.988653\n",
      "PFCEMARGOS      NaN -0.042244  0.680092  0.354386  0.726573\n",
      "PFCORFICOL      NaN -0.044165  0.754896  0.535144  0.818772\n",
      "PFDAVVNDA       NaN  0.355000  0.685315  0.880066  0.920868\n",
      "PFGRUPARG       NaN  0.102628 -0.877633 -0.500098  0.029937\n",
      "PFGRUPOSURA     inf  0.180395 -0.568007  0.571684  0.858282\n",
      "PROMIGAS        NaN  0.300188 -0.562563 -0.716062 -0.881609\n",
      "TERPEL          NaN -0.183264  0.891879  0.723062  0.843103\n",
      "   4103 if is_integer(indexer):\n",
      "   4104     indexer = [indexer]\n",
      "\n",
      "File c:\\Users\\ACER\\anaconda3\\Lib\\site-packages\\pandas\\core\\indexes\\base.py:3812, in Index.get_loc(\n",
      "    self=Index(['5 days', '30 days', '90 days', '180 days', '252 days'], dtype='object'),\n",
      "    key='252d'\n",
      ")\n",
      "   3807     if isinstance(casted_key, slice) or (\n",
      "   3808         isinstance(casted_key, abc.Iterable)\n",
      "   3809         and any(isinstance(x, slice) for x in casted_key)\n",
      "   3810     ):\n",
      "   3811         raise InvalidIndexError(key)\n",
      "-> 3812     raise KeyError(key) from err\n",
      "        key = '252d'\n",
      "   3813 except TypeError:\n",
      "   3814     # If we have a listlike key, _check_indexing_error will raise\n",
      "   3815     #  InvalidIndexError. Otherwise we fall through and re-raise\n",
      "   3816     #  the TypeError.\n",
      "   3817     self._check_indexing_error(key)\n",
      "\n",
      "KeyError: '252d'\n",
      "\n",
      "---------------------------------------------------------------------------\n",
      "KeyError                                  Traceback (most recent call last)\n",
      "File c:\\Users\\ACER\\anaconda3\\Lib\\site-packages\\pandas\\core\\indexes\\base.py:3805, in Index.get_loc(\n",
      "    self=Index(['5 days', '30 days', '90 days', '180 days', '252 days'], dtype='object'),\n",
      "    key='252d'\n",
      ")\n",
      "   3804 try:\n",
      "-> 3805     return self._engine.get_loc(casted_key)\n",
      "        casted_key = '252d'\n",
      "        self = Index(['5 days', '30 days', '90 days', '180 days', '252 days'], dtype='object')\n",
      "   3806 except KeyError as err:\n",
      "\n",
      "File index.pyx:167, in pandas._libs.index.IndexEngine.get_loc()\n",
      "\n",
      "File index.pyx:196, in pandas._libs.index.IndexEngine.get_loc()\n",
      "\n",
      "File pandas\\\\_libs\\\\hashtable_class_helper.pxi:7081, in pandas._libs.hashtable.PyObjectHashTable.get_item()\n",
      "\n",
      "File pandas\\\\_libs\\\\hashtable_class_helper.pxi:7089, in pandas._libs.hashtable.PyObjectHashTable.get_item()\n",
      "\n",
      "KeyError: '252d'\n",
      "\n",
      "The above exception was the direct cause of the following exception:\n",
      "\n",
      "KeyError                                  Traceback (most recent call last)\n",
      "Cell In[4], line 188, in update_rolling_output(selected_window='252d')\n",
      "    183 @app.callback(\n",
      "    184     [Output(\"bar_chart\", \"figure\"), Output(\"correlation_table\", \"children\")],\n",
      "    185     Input(\"window_selector\", \"value\")\n",
      "    186 )\n",
      "    187 def update_rolling_output(selected_window):\n",
      "--> 188     corr_series = rolling_df[selected_window].dropna().sort_values(ascending=False)\n",
      "        rolling_df =              5 days   30 days   90 days  180 days  252 days\n",
      "BBVA            NaN -0.061898  0.283283  0.305950 -0.431698\n",
      "BCOLOMBIA       inf -0.092290  0.970740  0.982712  0.988420\n",
      "BHI             NaN -0.658747  0.836314  0.866339  0.825277\n",
      "BMC             NaN -0.111866  0.287494  0.489695  0.558905\n",
      "BOGOTA          NaN -0.212936  0.815083  0.941396  0.955724\n",
      "BVC             NaN -0.160214  0.669994  0.571020  0.841010\n",
      "CELSIA          NaN  0.262447  0.725693  0.846944  0.822664\n",
      "CEMARGOS       -inf  0.161905 -0.308411  0.011175  0.646006\n",
      "CNEC           -inf -0.264891 -0.513162 -0.791547 -0.747789\n",
      "CONCONCRETO     NaN  0.190312 -0.895883 -0.782090  0.369285\n",
      "CORFICOL       -inf  0.021351 -0.150087  0.510044  0.800147\n",
      "ECOPETROL       NaN -0.107624 -0.211263 -0.299673  0.131369\n",
      "ENKA            NaN -0.320302  0.809695  0.919329  0.927655\n",
      "ETB             NaN -0.557086 -0.941447 -0.746177 -0.908434\n",
      "EXITO           NaN -0.038365  0.830312  0.820660  0.638655\n",
      "FABRICATO       NaN -0.068571  0.637596  0.813733  0.546121\n",
      "GEB            -inf  0.254849 -0.237041  0.746744  0.893005\n",
      "GRUBOLIVAR      NaN -0.238175  0.857122  0.799441  0.894260\n",
      "GRUPOARGOS      inf  0.101805 -0.812469 -0.369404  0.033113\n",
      "GRUPOAVAL       NaN       NaN       NaN      -inf      -inf\n",
      "GRUPOSURA       NaN  0.262835 -0.312602  0.651836  0.847571\n",
      "GXTESCOL        NaN -0.158357  0.911687  0.873500  0.516907\n",
      "HCOLSEL         NaN -0.125283  0.988964  0.986454  0.993433\n",
      "ICOLCAP         inf  0.016596  0.992182  0.985742  0.994320\n",
      "ISA             NaN  0.219827  0.923509  0.905070  0.925517\n",
      "MINEROS         NaN -0.365757  0.828628  0.890176  0.926862\n",
      "NUTRESA         NaN -0.338912  0.811752  0.927269  0.970814\n",
      "PEI             NaN -0.231832  0.683848  0.471027  0.545871\n",
      "PFAVAL          NaN       NaN       NaN      -inf      -inf\n",
      "PFBCOLOMBIA     inf -0.184613  0.954503  0.972866  0.988653\n",
      "PFCEMARGOS      NaN -0.042244  0.680092  0.354386  0.726573\n",
      "PFCORFICOL      NaN -0.044165  0.754896  0.535144  0.818772\n",
      "PFDAVVNDA       NaN  0.355000  0.685315  0.880066  0.920868\n",
      "PFGRUPARG       NaN  0.102628 -0.877633 -0.500098  0.029937\n",
      "PFGRUPOSURA     inf  0.180395 -0.568007  0.571684  0.858282\n",
      "PROMIGAS        NaN  0.300188 -0.562563 -0.716062 -0.881609\n",
      "TERPEL          NaN -0.183264  0.891879  0.723062  0.843103\n",
      "        selected_window = '252d'\n",
      "    190     fig = px.bar(\n",
      "    191     x=corr_series.index,\n",
      "    192     y=corr_series.values,\n",
      "   (...)\n",
      "    196     color_discrete_sequence=px.colors.qualitative.Safe  # Or Vibrant, Dark2, Set3, etc.\n",
      "    197 )\n",
      "    200     fig.update_layout(xaxis_tickangle=-45, height=500)\n",
      "\n",
      "File c:\\Users\\ACER\\anaconda3\\Lib\\site-packages\\pandas\\core\\frame.py:4102, in DataFrame.__getitem__(\n",
      "    self=             5 days   30 days   90 days  180 day...      NaN -0.183264  0.891879  0.723062  0.843103,\n",
      "    key='252d'\n",
      ")\n",
      "   4100 if self.columns.nlevels > 1:\n",
      "   4101     return self._getitem_multilevel(key)\n",
      "-> 4102 indexer = self.columns.get_loc(key)\n",
      "        key = '252d'\n",
      "        self =              5 days   30 days   90 days  180 days  252 days\n",
      "BBVA            NaN -0.061898  0.283283  0.305950 -0.431698\n",
      "BCOLOMBIA       inf -0.092290  0.970740  0.982712  0.988420\n",
      "BHI             NaN -0.658747  0.836314  0.866339  0.825277\n",
      "BMC             NaN -0.111866  0.287494  0.489695  0.558905\n",
      "BOGOTA          NaN -0.212936  0.815083  0.941396  0.955724\n",
      "BVC             NaN -0.160214  0.669994  0.571020  0.841010\n",
      "CELSIA          NaN  0.262447  0.725693  0.846944  0.822664\n",
      "CEMARGOS       -inf  0.161905 -0.308411  0.011175  0.646006\n",
      "CNEC           -inf -0.264891 -0.513162 -0.791547 -0.747789\n",
      "CONCONCRETO     NaN  0.190312 -0.895883 -0.782090  0.369285\n",
      "CORFICOL       -inf  0.021351 -0.150087  0.510044  0.800147\n",
      "ECOPETROL       NaN -0.107624 -0.211263 -0.299673  0.131369\n",
      "ENKA            NaN -0.320302  0.809695  0.919329  0.927655\n",
      "ETB             NaN -0.557086 -0.941447 -0.746177 -0.908434\n",
      "EXITO           NaN -0.038365  0.830312  0.820660  0.638655\n",
      "FABRICATO       NaN -0.068571  0.637596  0.813733  0.546121\n",
      "GEB            -inf  0.254849 -0.237041  0.746744  0.893005\n",
      "GRUBOLIVAR      NaN -0.238175  0.857122  0.799441  0.894260\n",
      "GRUPOARGOS      inf  0.101805 -0.812469 -0.369404  0.033113\n",
      "GRUPOAVAL       NaN       NaN       NaN      -inf      -inf\n",
      "GRUPOSURA       NaN  0.262835 -0.312602  0.651836  0.847571\n",
      "GXTESCOL        NaN -0.158357  0.911687  0.873500  0.516907\n",
      "HCOLSEL         NaN -0.125283  0.988964  0.986454  0.993433\n",
      "ICOLCAP         inf  0.016596  0.992182  0.985742  0.994320\n",
      "ISA             NaN  0.219827  0.923509  0.905070  0.925517\n",
      "MINEROS         NaN -0.365757  0.828628  0.890176  0.926862\n",
      "NUTRESA         NaN -0.338912  0.811752  0.927269  0.970814\n",
      "PEI             NaN -0.231832  0.683848  0.471027  0.545871\n",
      "PFAVAL          NaN       NaN       NaN      -inf      -inf\n",
      "PFBCOLOMBIA     inf -0.184613  0.954503  0.972866  0.988653\n",
      "PFCEMARGOS      NaN -0.042244  0.680092  0.354386  0.726573\n",
      "PFCORFICOL      NaN -0.044165  0.754896  0.535144  0.818772\n",
      "PFDAVVNDA       NaN  0.355000  0.685315  0.880066  0.920868\n",
      "PFGRUPARG       NaN  0.102628 -0.877633 -0.500098  0.029937\n",
      "PFGRUPOSURA     inf  0.180395 -0.568007  0.571684  0.858282\n",
      "PROMIGAS        NaN  0.300188 -0.562563 -0.716062 -0.881609\n",
      "TERPEL          NaN -0.183264  0.891879  0.723062  0.843103\n",
      "   4103 if is_integer(indexer):\n",
      "   4104     indexer = [indexer]\n",
      "\n",
      "File c:\\Users\\ACER\\anaconda3\\Lib\\site-packages\\pandas\\core\\indexes\\base.py:3812, in Index.get_loc(\n",
      "    self=Index(['5 days', '30 days', '90 days', '180 days', '252 days'], dtype='object'),\n",
      "    key='252d'\n",
      ")\n",
      "   3807     if isinstance(casted_key, slice) or (\n",
      "   3808         isinstance(casted_key, abc.Iterable)\n",
      "   3809         and any(isinstance(x, slice) for x in casted_key)\n",
      "   3810     ):\n",
      "   3811         raise InvalidIndexError(key)\n",
      "-> 3812     raise KeyError(key) from err\n",
      "        key = '252d'\n",
      "   3813 except TypeError:\n",
      "   3814     # If we have a listlike key, _check_indexing_error will raise\n",
      "   3815     #  InvalidIndexError. Otherwise we fall through and re-raise\n",
      "   3816     #  the TypeError.\n",
      "   3817     self._check_indexing_error(key)\n",
      "\n",
      "KeyError: '252d'\n",
      "\n",
      "---------------------------------------------------------------------------\n",
      "KeyError                                  Traceback (most recent call last)\n",
      "File c:\\Users\\ACER\\anaconda3\\Lib\\site-packages\\pandas\\core\\indexes\\base.py:3805, in Index.get_loc(\n",
      "    self=Index(['5 days', '30 days', '90 days', '180 days', '252 days'], dtype='object'),\n",
      "    key='252d'\n",
      ")\n",
      "   3804 try:\n",
      "-> 3805     return self._engine.get_loc(casted_key)\n",
      "        casted_key = '252d'\n",
      "        self = Index(['5 days', '30 days', '90 days', '180 days', '252 days'], dtype='object')\n",
      "   3806 except KeyError as err:\n",
      "\n",
      "File index.pyx:167, in pandas._libs.index.IndexEngine.get_loc()\n",
      "\n",
      "File index.pyx:196, in pandas._libs.index.IndexEngine.get_loc()\n",
      "\n",
      "File pandas\\\\_libs\\\\hashtable_class_helper.pxi:7081, in pandas._libs.hashtable.PyObjectHashTable.get_item()\n",
      "\n",
      "File pandas\\\\_libs\\\\hashtable_class_helper.pxi:7089, in pandas._libs.hashtable.PyObjectHashTable.get_item()\n",
      "\n",
      "KeyError: '252d'\n",
      "\n",
      "The above exception was the direct cause of the following exception:\n",
      "\n",
      "KeyError                                  Traceback (most recent call last)\n",
      "Cell In[4], line 188, in update_rolling_output(selected_window='252d')\n",
      "    183 @app.callback(\n",
      "    184     [Output(\"bar_chart\", \"figure\"), Output(\"correlation_table\", \"children\")],\n",
      "    185     Input(\"window_selector\", \"value\")\n",
      "    186 )\n",
      "    187 def update_rolling_output(selected_window):\n",
      "--> 188     corr_series = rolling_df[selected_window].dropna().sort_values(ascending=False)\n",
      "        rolling_df =              5 days   30 days   90 days  180 days  252 days\n",
      "BBVA            NaN -0.061898  0.283283  0.305950 -0.431698\n",
      "BCOLOMBIA       inf -0.092290  0.970740  0.982712  0.988420\n",
      "BHI             NaN -0.658747  0.836314  0.866339  0.825277\n",
      "BMC             NaN -0.111866  0.287494  0.489695  0.558905\n",
      "BOGOTA          NaN -0.212936  0.815083  0.941396  0.955724\n",
      "BVC             NaN -0.160214  0.669994  0.571020  0.841010\n",
      "CELSIA          NaN  0.262447  0.725693  0.846944  0.822664\n",
      "CEMARGOS       -inf  0.161905 -0.308411  0.011175  0.646006\n",
      "CNEC           -inf -0.264891 -0.513162 -0.791547 -0.747789\n",
      "CONCONCRETO     NaN  0.190312 -0.895883 -0.782090  0.369285\n",
      "CORFICOL       -inf  0.021351 -0.150087  0.510044  0.800147\n",
      "ECOPETROL       NaN -0.107624 -0.211263 -0.299673  0.131369\n",
      "ENKA            NaN -0.320302  0.809695  0.919329  0.927655\n",
      "ETB             NaN -0.557086 -0.941447 -0.746177 -0.908434\n",
      "EXITO           NaN -0.038365  0.830312  0.820660  0.638655\n",
      "FABRICATO       NaN -0.068571  0.637596  0.813733  0.546121\n",
      "GEB            -inf  0.254849 -0.237041  0.746744  0.893005\n",
      "GRUBOLIVAR      NaN -0.238175  0.857122  0.799441  0.894260\n",
      "GRUPOARGOS      inf  0.101805 -0.812469 -0.369404  0.033113\n",
      "GRUPOAVAL       NaN       NaN       NaN      -inf      -inf\n",
      "GRUPOSURA       NaN  0.262835 -0.312602  0.651836  0.847571\n",
      "GXTESCOL        NaN -0.158357  0.911687  0.873500  0.516907\n",
      "HCOLSEL         NaN -0.125283  0.988964  0.986454  0.993433\n",
      "ICOLCAP         inf  0.016596  0.992182  0.985742  0.994320\n",
      "ISA             NaN  0.219827  0.923509  0.905070  0.925517\n",
      "MINEROS         NaN -0.365757  0.828628  0.890176  0.926862\n",
      "NUTRESA         NaN -0.338912  0.811752  0.927269  0.970814\n",
      "PEI             NaN -0.231832  0.683848  0.471027  0.545871\n",
      "PFAVAL          NaN       NaN       NaN      -inf      -inf\n",
      "PFBCOLOMBIA     inf -0.184613  0.954503  0.972866  0.988653\n",
      "PFCEMARGOS      NaN -0.042244  0.680092  0.354386  0.726573\n",
      "PFCORFICOL      NaN -0.044165  0.754896  0.535144  0.818772\n",
      "PFDAVVNDA       NaN  0.355000  0.685315  0.880066  0.920868\n",
      "PFGRUPARG       NaN  0.102628 -0.877633 -0.500098  0.029937\n",
      "PFGRUPOSURA     inf  0.180395 -0.568007  0.571684  0.858282\n",
      "PROMIGAS        NaN  0.300188 -0.562563 -0.716062 -0.881609\n",
      "TERPEL          NaN -0.183264  0.891879  0.723062  0.843103\n",
      "        selected_window = '252d'\n",
      "    190     fig = px.bar(\n",
      "    191     x=corr_series.index,\n",
      "    192     y=corr_series.values,\n",
      "   (...)\n",
      "    196     color_discrete_sequence=px.colors.qualitative.Safe  # Or Vibrant, Dark2, Set3, etc.\n",
      "    197 )\n",
      "    200     fig.update_layout(xaxis_tickangle=-45, height=500)\n",
      "\n",
      "File c:\\Users\\ACER\\anaconda3\\Lib\\site-packages\\pandas\\core\\frame.py:4102, in DataFrame.__getitem__(\n",
      "    self=             5 days   30 days   90 days  180 day...      NaN -0.183264  0.891879  0.723062  0.843103,\n",
      "    key='252d'\n",
      ")\n",
      "   4100 if self.columns.nlevels > 1:\n",
      "   4101     return self._getitem_multilevel(key)\n",
      "-> 4102 indexer = self.columns.get_loc(key)\n",
      "        key = '252d'\n",
      "        self =              5 days   30 days   90 days  180 days  252 days\n",
      "BBVA            NaN -0.061898  0.283283  0.305950 -0.431698\n",
      "BCOLOMBIA       inf -0.092290  0.970740  0.982712  0.988420\n",
      "BHI             NaN -0.658747  0.836314  0.866339  0.825277\n",
      "BMC             NaN -0.111866  0.287494  0.489695  0.558905\n",
      "BOGOTA          NaN -0.212936  0.815083  0.941396  0.955724\n",
      "BVC             NaN -0.160214  0.669994  0.571020  0.841010\n",
      "CELSIA          NaN  0.262447  0.725693  0.846944  0.822664\n",
      "CEMARGOS       -inf  0.161905 -0.308411  0.011175  0.646006\n",
      "CNEC           -inf -0.264891 -0.513162 -0.791547 -0.747789\n",
      "CONCONCRETO     NaN  0.190312 -0.895883 -0.782090  0.369285\n",
      "CORFICOL       -inf  0.021351 -0.150087  0.510044  0.800147\n",
      "ECOPETROL       NaN -0.107624 -0.211263 -0.299673  0.131369\n",
      "ENKA            NaN -0.320302  0.809695  0.919329  0.927655\n",
      "ETB             NaN -0.557086 -0.941447 -0.746177 -0.908434\n",
      "EXITO           NaN -0.038365  0.830312  0.820660  0.638655\n",
      "FABRICATO       NaN -0.068571  0.637596  0.813733  0.546121\n",
      "GEB            -inf  0.254849 -0.237041  0.746744  0.893005\n",
      "GRUBOLIVAR      NaN -0.238175  0.857122  0.799441  0.894260\n",
      "GRUPOARGOS      inf  0.101805 -0.812469 -0.369404  0.033113\n",
      "GRUPOAVAL       NaN       NaN       NaN      -inf      -inf\n",
      "GRUPOSURA       NaN  0.262835 -0.312602  0.651836  0.847571\n",
      "GXTESCOL        NaN -0.158357  0.911687  0.873500  0.516907\n",
      "HCOLSEL         NaN -0.125283  0.988964  0.986454  0.993433\n",
      "ICOLCAP         inf  0.016596  0.992182  0.985742  0.994320\n",
      "ISA             NaN  0.219827  0.923509  0.905070  0.925517\n",
      "MINEROS         NaN -0.365757  0.828628  0.890176  0.926862\n",
      "NUTRESA         NaN -0.338912  0.811752  0.927269  0.970814\n",
      "PEI             NaN -0.231832  0.683848  0.471027  0.545871\n",
      "PFAVAL          NaN       NaN       NaN      -inf      -inf\n",
      "PFBCOLOMBIA     inf -0.184613  0.954503  0.972866  0.988653\n",
      "PFCEMARGOS      NaN -0.042244  0.680092  0.354386  0.726573\n",
      "PFCORFICOL      NaN -0.044165  0.754896  0.535144  0.818772\n",
      "PFDAVVNDA       NaN  0.355000  0.685315  0.880066  0.920868\n",
      "PFGRUPARG       NaN  0.102628 -0.877633 -0.500098  0.029937\n",
      "PFGRUPOSURA     inf  0.180395 -0.568007  0.571684  0.858282\n",
      "PROMIGAS        NaN  0.300188 -0.562563 -0.716062 -0.881609\n",
      "TERPEL          NaN -0.183264  0.891879  0.723062  0.843103\n",
      "   4103 if is_integer(indexer):\n",
      "   4104     indexer = [indexer]\n",
      "\n",
      "File c:\\Users\\ACER\\anaconda3\\Lib\\site-packages\\pandas\\core\\indexes\\base.py:3812, in Index.get_loc(\n",
      "    self=Index(['5 days', '30 days', '90 days', '180 days', '252 days'], dtype='object'),\n",
      "    key='252d'\n",
      ")\n",
      "   3807     if isinstance(casted_key, slice) or (\n",
      "   3808         isinstance(casted_key, abc.Iterable)\n",
      "   3809         and any(isinstance(x, slice) for x in casted_key)\n",
      "   3810     ):\n",
      "   3811         raise InvalidIndexError(key)\n",
      "-> 3812     raise KeyError(key) from err\n",
      "        key = '252d'\n",
      "   3813 except TypeError:\n",
      "   3814     # If we have a listlike key, _check_indexing_error will raise\n",
      "   3815     #  InvalidIndexError. Otherwise we fall through and re-raise\n",
      "   3816     #  the TypeError.\n",
      "   3817     self._check_indexing_error(key)\n",
      "\n",
      "KeyError: '252d'\n",
      "\n"
     ]
    }
   ],
   "source": [
    "import pandas as pd\n",
    "import numpy as np\n",
    "import plotly.express as px\n",
    "from dash import Dash, dcc, html, Input, Output, dash_table, ctx\n",
    "import dash\n",
    "import base64\n",
    "import io\n",
    "from flask import Response  # Import Flask's Response\n",
    "\n",
    "# Load the monthly correlation data\n",
    "monthly_df = pd.read_csv(\"Monthly_Correlation.csv\", index_col=0, parse_dates=True)\n",
    "monthly_df.index = pd.to_datetime(monthly_df.index.astype(str))\n",
    "monthly_df = monthly_df[monthly_df.index >= \"2024-03\"]\n",
    "monthly_df.columns = monthly_df.columns.str.replace(\"_Precio cierre\", \"\", regex=False)\n",
    "\n",
    "if \"Fecha\" in monthly_df.columns:\n",
    "    monthly_df = monthly_df.drop(columns=[\"Fecha\"])\n",
    "\n",
    "# Split columns into two groups\n",
    "stocks = list(monthly_df.columns)\n",
    "midpoint = len(stocks) // 2\n",
    "group1 = stocks[:midpoint]\n",
    "group2 = stocks[midpoint:]\n",
    "\n",
    "def plot_heatmap(data, title):\n",
    "    avg_corr = data.mean().sort_values(ascending=True)\n",
    "    sorted_data = data[avg_corr.index]\n",
    "    fig = px.imshow(\n",
    "        sorted_data.T,\n",
    "        labels=dict(x=\"Month\", y=\"Stock\", color=\"Correlation\"),\n",
    "        title=title,\n",
    "        color_continuous_scale=\"RdBu_r\",\n",
    "        aspect=\"auto\",\n",
    "    )\n",
    "    fig.update_layout(\n",
    "        autosize=False,\n",
    "        width=1000,\n",
    "        height=600,\n",
    "        xaxis=dict(tickangle=-45),\n",
    "    )\n",
    "    return fig\n",
    "\n",
    "# Load the historical correlation CSV\n",
    "df_corr = pd.read_csv(\"Historical_Correlation.csv\", index_col=0, header=None, names=[\"Stock\", \"Correlation\"], skiprows=1)\n",
    "df_corr = df_corr.reset_index()\n",
    "df_corr[\"Correlation\"] = df_corr[\"Correlation\"].astype(float)\n",
    "df_corr = df_corr.sort_values(\"Correlation\", ascending=False).reset_index(drop=True)\n",
    "df_corr[\"Stock\"] = df_corr[\"Stock\"].str.replace(\"_Precio cierre\", \"\", regex=False)\n",
    "\n",
    "# Load rolling correlation CSV\n",
    "rolling_df = pd.read_csv(\"Rolling_Correlations.csv\", index_col=0)\n",
    "rolling_df = rolling_df.sort_index()\n",
    "rolling_df.index = rolling_df.index.str.replace(\"_Precio cierre\", \"\", regex=False)\n",
    "\n",
    "# App layout\n",
    "app = dash.Dash(__name__)\n",
    "server = app.server\n",
    "\n",
    "app.layout = html.Div([\n",
    "    html.H1(\"📈 Correlation Visualizations\", style={'textAlign': 'center'}),\n",
    "\n",
    "    dcc.Tabs([\n",
    "        dcc.Tab(label=\"Monthly Heatmap\", children=[\n",
    "            html.Div([\n",
    "                html.Br(),\n",
    "                dcc.Dropdown(\n",
    "                    id=\"group_selector\",\n",
    "                    options=[\n",
    "                        {\"label\": \"Group 1\", \"value\": \"group1\"},\n",
    "                        {\"label\": \"Group 2\", \"value\": \"group2\"}\n",
    "                    ],\n",
    "                    value=\"group1\",\n",
    "                    clearable=False,\n",
    "                    style={\"width\": \"100%\", \"maxWidth\": \"600px\", \"margin\": \"0 auto\"}\n",
    "                ),\n",
    "                dcc.Graph(id=\"heatmap\", style={\"width\": \"100%\", \"maxWidth\": \"1200px\", \"margin\": \"auto\"})\n",
    "            ])\n",
    "        ]),\n",
    "\n",
    "        dcc.Tab(label=\"Historical Correlation Bar Chart\", children=[\n",
    "            html.Br(),\n",
    "            dcc.Graph(\n",
    "                figure=px.bar(\n",
    "                    df_corr,\n",
    "                    x=\"Correlation\",\n",
    "                    y=\"Stock\",\n",
    "                    orientation=\"h\",\n",
    "                    title=\"📊 Historical Correlation with COLCAP since 2020\",\n",
    "                    color=\"Correlation\",\n",
    "                    color_continuous_scale=\"RdBu_r\",\n",
    "                    range_color=[-1, 1],\n",
    "                    labels={\"Correlation\": \"Correlation Coefficient\", \"Stock\": \"Stock\"}\n",
    "                ).update_layout(\n",
    "                    yaxis=dict(autorange=\"reversed\"),\n",
    "                    height=1000,  # Increased from 800 to 1000\n",
    "                    xaxis=dict(tickformat=\".2f\")\n",
    "                ),\n",
    "                style={\"margin\": \"0 auto\", \"width\": \"90%\", \"height\": \"1000px\"}  # Add fixed height here\n",
    "            ),\n",
    "\n",
    "\n",
    "            html.H3(\"Correlation Table\", style={\"textAlign\": \"center\"}),\n",
    "            html.Div([\n",
    "                dash_table.DataTable(\n",
    "                    id=\"historical_table\",\n",
    "                    columns=[\n",
    "                        {\"name\": \"Stock\", \"id\": \"Stock\"},\n",
    "                        {\"name\": \"Correlation\", \"id\": \"Correlation\"}\n",
    "                    ],\n",
    "                    data=df_corr.to_dict(\"records\"),\n",
    "                    style_cell={\"textAlign\": \"center\", \"padding\": \"8px\"},\n",
    "                    style_header={\"fontWeight\": \"bold\", \"backgroundColor\": \"#f8f8f8\"},\n",
    "                    style_table={\"overflowX\": \"auto\"},\n",
    "                    style_data_conditional=[\n",
    "                        {\n",
    "                            \"if\": {\"column_id\": \"Correlation\"},\n",
    "                            \"backgroundColor\": \"#f0f8ff\",\n",
    "                        }\n",
    "                    ],\n",
    "                    page_size=20,\n",
    "                    sort_action=\"native\",\n",
    "                    filter_action=\"native\",\n",
    "                )\n",
    "            ], style={\"width\": \"100%\", \"maxWidth\": \"1200px\", \"margin\": \"auto\"}),\n",
    "            html.Br(),\n",
    "            html.Div([\n",
    "                html.Label(\"Select format: \"),\n",
    "                dcc.Dropdown(\n",
    "                    id=\"format_selector_hist\",\n",
    "                    options=[\n",
    "                        {\"label\": \"CSV\", \"value\": \"csv\"},\n",
    "                        {\"label\": \"Excel\", \"value\": \"excel\"},\n",
    "                    ],\n",
    "                    value=\"csv\",\n",
    "                    style={\"width\": \"200px\", \"margin\": \"auto\"}\n",
    "                ),\n",
    "                html.Br(),\n",
    "                html.A(\"Download Historical Data\", id=\"download_link_hist\", href=\"/download/historical/csv\", download=\"Historical_Correlation.csv\", target=\"_blank\", style={\"display\": \"block\", \"textAlign\": \"center\"})\n",
    "            ], style={\"textAlign\": \"center\"})\n",
    "        ]),\n",
    "\n",
    "        dcc.Tab(label=\"Rolling Correlation with COLCAP\", children=[\n",
    "            html.Br(),\n",
    "            dcc.Dropdown(\n",
    "                id=\"window_selector\",\n",
    "                options=[{\"label\": label, \"value\": label} for label in rolling_df.columns],\n",
    "                value=\"252d\",\n",
    "                clearable=False,\n",
    "                style={\"width\": \"100%\", \"maxWidth\": \"600px\", \"margin\": \"0 auto\"}\n",
    "            ),\n",
    "            dcc.Graph(id=\"bar_chart\", style={\"width\": \"100%\", \"maxWidth\": \"1200px\", \"margin\": \"auto\"}),\n",
    "            html.H3(\"Correlation Table\", style={\"textAlign\": \"center\"}),\n",
    "            html.Div(id=\"correlation_table\", style={\"width\": \"100%\", \"maxWidth\": \"1200px\", \"margin\": \"auto\"}),\n",
    "            html.Br(),\n",
    "            html.Div([\n",
    "                html.Label(\"Select format: \"),\n",
    "                dcc.Dropdown(\n",
    "                    id=\"format_selector_roll\",\n",
    "                    options=[\n",
    "                        {\"label\": \"CSV\", \"value\": \"csv\"},\n",
    "                        {\"label\": \"Excel\", \"value\": \"excel\"},\n",
    "                    ],\n",
    "                    value=\"csv\",\n",
    "                    style={\"width\": \"200px\", \"margin\": \"auto\"}\n",
    "                ),\n",
    "                html.Br(),\n",
    "                html.A(\"Download Rolling Data\", id=\"download_link_roll\", href=\"/download/rolling/csv\", download=\"Rolling_Correlations.csv\", target=\"_blank\", style={\"display\": \"block\", \"textAlign\": \"center\"})\n",
    "            ], style={\"textAlign\": \"center\"})\n",
    "        ])\n",
    "    ])\n",
    "], style={\"padding\": \"1rem\"})\n",
    "\n",
    "\n",
    "@app.callback(\n",
    "    Output(\"heatmap\", \"figure\"),\n",
    "    Input(\"group_selector\", \"value\")\n",
    ")\n",
    "def update_heatmap(selected_group):\n",
    "    data = monthly_df[group1] if selected_group == \"group1\" else monthly_df[group2]\n",
    "    title = f\"\\ud83d\\udcc8 Monthly Correlation Heatmap ({selected_group.replace('group', 'Group ')})\"\n",
    "    return plot_heatmap(data, title)\n",
    "\n",
    "@app.callback(\n",
    "    [Output(\"bar_chart\", \"figure\"), Output(\"correlation_table\", \"children\")],\n",
    "    Input(\"window_selector\", \"value\")\n",
    ")\n",
    "def update_rolling_output(selected_window):\n",
    "    corr_series = rolling_df[selected_window].dropna().sort_values(ascending=False)\n",
    "\n",
    "    fig = px.bar(\n",
    "    x=corr_series.index,\n",
    "    y=corr_series.values,\n",
    "    labels={\"x\": \"Stock\", \"y\": f\"Correlation ({selected_window})\"},\n",
    "    title=f\"Rolling Correlation with COLCAP ({selected_window})\",\n",
    "    color=corr_series.index,  # Make each stock have a unique color\n",
    "    color_discrete_sequence=px.colors.qualitative.Safe  # Or Vibrant, Dark2, Set3, etc.\n",
    ")\n",
    "\n",
    "\n",
    "    fig.update_layout(xaxis_tickangle=-45, height=500)\n",
    "\n",
    "    table = dash_table.DataTable(\n",
    "    columns=[\n",
    "        {\"name\": \"Stock\", \"id\": \"Stock\"},\n",
    "        {\"name\": f\"Correlation ({selected_window})\", \"id\": \"Correlation\"}\n",
    "    ],\n",
    "        data=[{\"Stock\": stock, \"Correlation\": round(corr, 4)} for stock, corr in corr_series.items()],\n",
    "        style_cell={\"textAlign\": \"center\", \"padding\": \"8px\"},\n",
    "        style_header={\"fontWeight\": \"bold\", \"backgroundColor\": \"#f8f8f8\"},\n",
    "        style_table={\"overflowX\": \"auto\"},\n",
    "        style_data_conditional=[\n",
    "            {\n",
    "                \"if\": {\"column_id\": \"Correlation\"},\n",
    "                \"backgroundColor\": \"#f0f8ff\",\n",
    "            }\n",
    "        ],\n",
    "        page_size=20,\n",
    "        sort_action=\"native\",\n",
    "        filter_action=\"native\",\n",
    "    )\n",
    "\n",
    "    return fig, table\n",
    "\n",
    "@app.callback(\n",
    "    Output(\"download_link_hist\", \"href\"),\n",
    "    Input(\"format_selector_hist\", \"value\")\n",
    ")\n",
    "def update_download_link_hist(format_value):\n",
    "    return f\"/download/historical/{format_value}\"\n",
    "\n",
    "@app.callback(\n",
    "    Output(\"download_link_roll\", \"href\"),\n",
    "    Input(\"format_selector_roll\", \"value\")\n",
    ")\n",
    "def update_download_link_roll(format_value):\n",
    "    return f\"/download/rolling/{format_value}\"\n",
    "\n",
    "@app.server.route(\"/download/<file_type>/<fmt>\")\n",
    "def download_file(file_type, fmt):\n",
    "    if file_type == \"historical\":\n",
    "        df = df_corr\n",
    "    elif file_type == \"rolling\":\n",
    "        df = rolling_df\n",
    "    else:\n",
    "        return Response(\"Invalid file type\", status=400)\n",
    "\n",
    "    if fmt == \"csv\":\n",
    "        buffer = df.to_csv(index=False if file_type == \"historical\" else True)\n",
    "        mimetype = \"text/csv\"\n",
    "        filename = f\"{file_type}_correlation.csv\"\n",
    "    # elif fmt == \"excel\":\n",
    "    #     output = io.BytesIO()\n",
    "    #     with pd.ExcelWriter(output, engine=\"xlsxwriter\") as writer:\n",
    "    #         df.to_excel(writer, index=False if file_type == \"historical\" else True)\n",
    "    #     buffer = output.getvalue()\n",
    "    #     mimetype = \"application/vnd.openxmlformats-officedocument.spreadsheetml.sheet\"\n",
    "    #     filename = f\"{file_type}_correlation.xlsx\"\n",
    "    else:\n",
    "        return Response(\"Invalid format\", status=400)\n",
    "\n",
    "    # Correct the Content-Disposition header based on format\n",
    "    return Response(\n",
    "        buffer,\n",
    "        mimetype=mimetype,\n",
    "        headers={\"Content-Disposition\": f\"attachment; filename={filename}\"}\n",
    "    )\n",
    "\n",
    "# Run the server locally\n",
    "if __name__ == \"__main__\":\n",
    "    app.run(debug=True)"
   ]
  }
 ],
 "metadata": {
  "kernelspec": {
   "display_name": "base",
   "language": "python",
   "name": "python3"
  },
  "language_info": {
   "codemirror_mode": {
    "name": "ipython",
    "version": 3
   },
   "file_extension": ".py",
   "mimetype": "text/x-python",
   "name": "python",
   "nbconvert_exporter": "python",
   "pygments_lexer": "ipython3",
   "version": "3.12.7"
  }
 },
 "nbformat": 4,
 "nbformat_minor": 2
}
