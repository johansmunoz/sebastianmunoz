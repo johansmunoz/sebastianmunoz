{
 "cells": [
  {
   "cell_type": "markdown",
   "metadata": {},
   "source": [
    "# DATA AND CORRELATION - COLCAP AND STOCKS"
   ]
  },
  {
   "cell_type": "markdown",
   "metadata": {},
   "source": [
    "### LIBRARIES"
   ]
  },
  {
   "cell_type": "code",
   "execution_count": 22,
   "metadata": {},
   "outputs": [],
   "source": [
    "import os\n",
    "import glob\n",
    "import pandas as pd"
   ]
  },
  {
   "cell_type": "code",
   "execution_count": 2,
   "metadata": {},
   "outputs": [],
   "source": [
    "# os.chdir(\"..\")"
   ]
  },
  {
   "cell_type": "markdown",
   "metadata": {},
   "source": [
    "### IDENTIFY THE NAME OF FOLDERS"
   ]
  },
  {
   "cell_type": "code",
   "execution_count": 23,
   "metadata": {},
   "outputs": [
    {
     "data": {
      "text/plain": [
       "['BCOLOMBIA',\n",
       " 'BHI',\n",
       " 'BOGOTA',\n",
       " 'BVC',\n",
       " 'CELSIA',\n",
       " 'CEMARGOS',\n",
       " 'CNEC',\n",
       " 'CONCONCRETO',\n",
       " 'CORFICOL',\n",
       " 'ECOPETROL',\n",
       " 'ENKA',\n",
       " 'ETB',\n",
       " 'EXITO',\n",
       " 'FABRICATO',\n",
       " 'GEB',\n",
       " 'GRUBOLIVAR',\n",
       " 'GRUPOARGOS',\n",
       " 'GRUPOAVAL',\n",
       " 'GRUPOSURA',\n",
       " 'GXTESCOL',\n",
       " 'HCOLSEL',\n",
       " 'ICOLCAP',\n",
       " 'ISA',\n",
       " 'MINEROS',\n",
       " 'MSCI_COLCAP',\n",
       " 'NUTRESA',\n",
       " 'PEI',\n",
       " 'PFAVAL',\n",
       " 'PFBCOLOMBIA',\n",
       " 'PFCEMARGOS',\n",
       " 'PFCORFICOL',\n",
       " 'PFDAVVNDA',\n",
       " 'PFGRUPARG',\n",
       " 'PFGRUPOSURA',\n",
       " 'PROMIGAS',\n",
       " 'TERPEL']"
      ]
     },
     "execution_count": 23,
     "metadata": {},
     "output_type": "execute_result"
    }
   ],
   "source": [
    "# Get all folder names dynamically (excluding files)\n",
    "folders = [f for f in os.listdir() if os.path.isdir(f)]\n",
    "folders"
   ]
  },
  {
   "cell_type": "markdown",
   "metadata": {},
   "source": [
    "### DEBUGGING THE FILES TO AVOID PROBLEMS"
   ]
  },
  {
   "cell_type": "code",
   "execution_count": 24,
   "metadata": {},
   "outputs": [
    {
     "name": "stdout",
     "output_type": "stream",
     "text": [
      "Processing folder: BCOLOMBIA | Found CSVs: ['BCOLOMBIA_20250306_095438.csv', 'BCOLOMBIA_20250306_095448.csv', 'BCOLOMBIA_20250306_095453.csv', 'BCOLOMBIA_20250306_095459.csv', 'BCOLOMBIA_20250306_095504.csv', 'BCOLOMBIA_20250306_095510.csv', 'BCOLOMBIA_20250306_095518.csv', 'BCOLOMBIA_20250306_095525.csv', 'BCOLOMBIA_20250306_095532.csv', 'BCOLOMBIA_20250306_095537.csv', 'BCOLOMBIA_20250316_114657.csv', 'BCOLOMBIA_20250414_041704.csv', 'BCOLOMBIA_20250421_040242.csv', 'BCOLOMBIA_20250507_102507.csv', 'BCOLOMBIA_20250518_093921.csv', 'CIBEST_20250616_115556.csv']\n",
      "Processing folder: BHI | Found CSVs: ['BHI_20250311_075103.csv', 'BHI_20250311_075130.csv', 'BHI_20250311_075138.csv', 'BHI_20250311_075145.csv', 'BHI_20250311_075151.csv', 'BHI_20250311_075157.csv', 'BHI_20250316_115152.csv', 'BHI_20250414_042015.csv', 'BHI_20250421_040458.csv', 'BHI_20250507_102432.csv', 'BHI_20250518_093857.csv', 'BHI_20250616_115920.csv']\n",
      "Processing folder: BOGOTA | Found CSVs: ['BOGOTA_20250311_084231.csv', 'BOGOTA_20250311_084240.csv', 'BOGOTA_20250311_084248.csv', 'BOGOTA_20250311_084255.csv', 'BOGOTA_20250311_084302.csv', 'BOGOTA_20250311_084308.csv', 'BOGOTA_20250311_084325.csv', 'BOGOTA_20250311_084331.csv', 'BOGOTA_20250311_084340.csv', 'BOGOTA_20250311_084347.csv', 'BOGOTA_20250316_115256.csv', 'BOGOTA_20250414_042125.csv', 'BOGOTA_20250421_040926.csv', 'BOGOTA_20250507_102401.csv', 'BOGOTA_20250518_093829.csv', 'BOGOTA_20250616_115810.csv']\n",
      "Processing folder: BVC | Found CSVs: ['BVC_20250311_084607.csv', 'BVC_20250311_084614.csv', 'BVC_20250311_084622.csv', 'BVC_20250311_084630.csv', 'BVC_20250311_084637.csv', 'BVC_20250311_084643.csv', 'BVC_20250311_084653.csv', 'BVC_20250311_084700.csv', 'BVC_20250311_084707.csv', 'BVC_20250311_084713.csv', 'BVC_20250316_115350.csv', 'BVC_20250414_042700.csv', 'BVC_20250421_041031.csv', 'BVC_20250507_102300.csv', 'BVC_20250518_093801.csv', 'BVC_20250616_115733.csv']\n",
      "Processing folder: CELSIA | Found CSVs: ['CELSIA_20250311_085123.csv', 'CELSIA_20250311_085130.csv', 'CELSIA_20250311_085137.csv', 'CELSIA_20250311_085142.csv', 'CELSIA_20250311_085159.csv', 'CELSIA_20250311_085206.csv', 'CELSIA_20250311_085218.csv', 'CELSIA_20250311_085224.csv', 'CELSIA_20250311_085231.csv', 'CELSIA_20250311_085237.csv', 'CELSIA_20250317_102345.csv', 'CELSIA_20250414_042755.csv', 'CELSIA_20250421_041109.csv', 'CELSIA_20250507_102206.csv', 'CELSIA_20250518_093725.csv', 'CELSIA_20250616_115706.csv']\n",
      "Processing folder: CEMARGOS | Found CSVs: ['CEMARGOS_20250311_074350.csv', 'CEMARGOS_20250311_074403.csv', 'CEMARGOS_20250311_074413.csv', 'CEMARGOS_20250311_074421.csv', 'CEMARGOS_20250311_074430.csv', 'CEMARGOS_20250311_074437.csv', 'CEMARGOS_20250311_074451.csv', 'CEMARGOS_20250311_074459.csv', 'CEMARGOS_20250311_074509.csv', 'CEMARGOS_20250311_074531.csv', 'CEMARGOS_20250317_102515.csv', 'CEMARGOS_20250414_042846.csv', 'CEMARGOS_20250421_041144.csv', 'CEMARGOS_20250507_102128.csv', 'CEMARGOS_20250518_093655.csv', 'CEMARGOS_20250616_115633.csv']\n",
      "Processing folder: CNEC | Found CSVs: ['CNEC_20250311_085409.csv', 'CNEC_20250311_085415.csv', 'CNEC_20250311_085422.csv', 'CNEC_20250311_085428.csv', 'CNEC_20250311_085433.csv', 'CNEC_20250311_085442.csv', 'CNEC_20250311_085453.csv', 'CNEC_20250311_085507.csv', 'CNEC_20250311_085547.csv', 'CNEC_20250311_085553.csv', 'CNEC_20250317_102627.csv', 'CNEC_20250414_043021.csv', 'CNEC_20250421_041815.csv', 'CNEC_20250507_102041.csv', 'CNEC_20250518_093622.csv', 'CNEC_20250616_115514.csv']\n",
      "Processing folder: CONCONCRETO | Found CSVs: ['CONCONCRET_20250311_091014.csv', 'CONCONCRET_20250311_091023.csv', 'CONCONCRET_20250311_091115.csv', 'CONCONCRET_20250311_091121.csv', 'CONCONCRET_20250311_091126.csv', 'CONCONCRET_20250311_091131.csv', 'CONCONCRET_20250311_091140.csv', 'CONCONCRET_20250311_091146.csv', 'CONCONCRET_20250311_091153.csv', 'CONCONCRET_20250311_091159.csv', 'CONCONCRET_20250317_102746.csv', 'CONCONCRET_20250414_043209.csv', 'CONCONCRET_20250421_041915.csv', 'CONCONCRET_20250507_101943.csv', 'CONCONCRET_20250518_093538.csv', 'CONCONCRET_20250616_115424.csv']\n",
      "Processing folder: CORFICOL | Found CSVs: ['CORFICOLCF_20250311_092126.csv', 'CORFICOLCF_20250311_092133.csv', 'CORFICOLCF_20250311_092143.csv', 'CORFICOLCF_20250311_092149.csv', 'CORFICOLCF_20250311_092155.csv', 'CORFICOLCF_20250311_092204.csv', 'CORFICOLCF_20250311_092215.csv', 'CORFICOLCF_20250311_092222.csv', 'CORFICOLCF_20250311_092227.csv', 'CORFICOLCF_20250311_092233.csv', 'CORFICOLCF_20250317_103255.csv', 'CORFICOLCF_20250414_043753.csv', 'CORFICOLCF_20250421_041948.csv', 'CORFICOLCF_20250507_101854.csv', 'CORFICOLCF_20250518_093506.csv', 'CORFICOLCF_20250616_115350.csv']\n",
      "Processing folder: ECOPETROL | Found CSVs: ['ECOPETROL_20250306_093927.csv', 'ECOPETROL_20250306_093935.csv', 'ECOPETROL_20250306_093942.csv', 'ECOPETROL_20250306_093949.csv', 'ECOPETROL_20250306_093954.csv', 'ECOPETROL_20250306_094001.csv', 'ECOPETROL_20250306_094008.csv', 'ECOPETROL_20250306_094014.csv', 'ECOPETROL_20250306_094020.csv', 'ECOPETROL_20250306_094027.csv', 'ECOPETROL_20250316_114518.csv', 'ECOPETROL_20250414_044558.csv', 'ECOPETROL_20250421_042042.csv', 'ECOPETROL_20250507_101752.csv', 'ECOPETROL_20250518_093427.csv', 'ECOPETROL_20250616_115310.csv']\n",
      "Processing folder: ENKA | Found CSVs: ['ENKA_20250311_092529.csv', 'ENKA_20250311_092535.csv', 'ENKA_20250311_092541.csv', 'ENKA_20250311_092547.csv', 'ENKA_20250311_092553.csv', 'ENKA_20250311_092559.csv', 'ENKA_20250311_092610.csv', 'ENKA_20250311_092616.csv', 'ENKA_20250311_092622.csv', 'ENKA_20250311_092628.csv', 'ENKA_20250317_103623.csv', 'ENKA_20250414_045538.csv', 'ENKA_20250421_042154.csv', 'ENKA_20250507_101537.csv', 'ENKA_20250518_094136.csv', 'ENKA_20250616_115229.csv']\n",
      "Processing folder: ETB | Found CSVs: ['ETB_20250311_093156.csv', 'ETB_20250311_093202.csv', 'ETB_20250311_093209.csv', 'ETB_20250311_093215.csv', 'ETB_20250311_093220.csv', 'ETB_20250311_093225.csv', 'ETB_20250311_093240.csv', 'ETB_20250311_093245.csv', 'ETB_20250311_093251.csv', 'ETB_20250311_093258.csv', 'ETB_20250317_103815.csv', 'ETB_20250414_045640.csv', 'ETB_20250421_042707.csv', 'ETB_20250507_101127.csv', 'ETB_20250518_093345.csv', 'ETB_20250616_115200.csv']\n",
      "Processing folder: EXITO | Found CSVs: ['EXITO_20250311_093503.csv', 'EXITO_20250311_093509.csv', 'EXITO_20250311_093516.csv', 'EXITO_20250311_093521.csv', 'EXITO_20250311_093526.csv', 'EXITO_20250311_093532.csv', 'EXITO_20250311_093540.csv', 'EXITO_20250311_093546.csv', 'EXITO_20250311_093551.csv', 'EXITO_20250311_093557.csv', 'EXITO_20250317_103917.csv', 'EXITO_20250414_045724.csv', 'EXITO_20250421_042815.csv', 'EXITO_20250507_101048.csv', 'EXITO_20250518_093235.csv', 'EXITO_20250616_115115.csv']\n",
      "Processing folder: FABRICATO | Found CSVs: ['FABRICATO_20250311_093702.csv', 'FABRICATO_20250311_093708.csv', 'FABRICATO_20250311_093722.csv', 'FABRICATO_20250311_093727.csv', 'FABRICATO_20250311_093733.csv', 'FABRICATO_20250311_093738.csv', 'FABRICATO_20250311_093748.csv', 'FABRICATO_20250311_093753.csv', 'FABRICATO_20250311_093806.csv', 'FABRICATO_20250311_093814.csv']\n",
      "Processing folder: GEB | Found CSVs: ['GEB_20250311_094138.csv', 'GEB_20250311_094144.csv', 'GEB_20250311_094151.csv', 'GEB_20250311_094156.csv', 'GEB_20250311_094202.csv', 'GEB_20250311_094208.csv', 'GEB_20250311_094217.csv', 'GEB_20250311_094224.csv', 'GEB_20250311_094231.csv', 'GEB_20250311_094238.csv', 'GEB_20250317_104059.csv', 'GEB_20250414_045804.csv', 'GEB_20250421_042847.csv', 'GEB_20250507_100831.csv', 'GEB_20250518_093129.csv', 'GEB_20250616_115041.csv']\n",
      "Processing folder: GRUBOLIVAR | Found CSVs: ['GRUBOLIVAR_20250311_094414.csv', 'GRUBOLIVAR_20250311_094422.csv', 'GRUBOLIVAR_20250311_094428.csv', 'GRUBOLIVAR_20250311_094433.csv', 'GRUBOLIVAR_20250311_094438.csv', 'GRUBOLIVAR_20250311_094443.csv', 'GRUBOLIVAR_20250311_094453.csv', 'GRUBOLIVAR_20250311_094505.csv', 'GRUBOLIVAR_20250311_094511.csv', 'GRUBOLIVAR_20250311_094518.csv', 'GRUBOLIVAR_20250311_094524.csv', 'GRUBOLIVAR_20250317_104155.csv', 'GRUBOLIVAR_20250414_045923.csv', 'GRUBOLIVAR_20250421_042922.csv', 'GRUBOLIVAR_20250507_100735.csv', 'GRUBOLIVAR_20250518_092914.csv', 'GRUBOLIVAR_20250616_114750.csv']\n",
      "Processing folder: GRUPOARGOS | Found CSVs: ['GRUPOARGOS_20250311_094711.csv', 'GRUPOARGOS_20250311_094717.csv', 'GRUPOARGOS_20250311_094723.csv', 'GRUPOARGOS_20250311_094728.csv', 'GRUPOARGOS_20250311_094735.csv', 'GRUPOARGOS_20250311_094740.csv', 'GRUPOARGOS_20250311_094749.csv', 'GRUPOARGOS_20250311_094755.csv', 'GRUPOARGOS_20250311_094802.csv', 'GRUPOARGOS_20250311_094808.csv', 'GRUPOARGOS_20250317_104253.csv', 'GRUPOARGOS_20250414_050023.csv', 'GRUPOARGOS_20250421_043025.csv', 'GRUPOARGOS_20250507_102831.csv', 'GRUPOARGOS_20250518_092842.csv', 'GRUPOARGOS_20250616_114045.csv']\n",
      "Processing folder: GRUPOAVAL | Found CSVs: ['GRUPOAVAL_20250313_093631.csv', 'GRUPOAVAL_20250313_093637.csv', 'GRUPOAVAL_20250313_093643.csv', 'GRUPOAVAL_20250313_093648.csv', 'GRUPOAVAL_20250313_093654.csv', 'GRUPOAVAL_20250313_093659.csv', 'GRUPOAVAL_20250313_093707.csv', 'GRUPOAVAL_20250313_093712.csv', 'GRUPOAVAL_20250313_093717.csv', 'GRUPOAVAL_20250313_093722.csv', 'GRUPOAVAL_20250316_115008.csv', 'GRUPOAVAL_20250414_050115.csv', 'GRUPOAVAL_20250421_043112.csv', 'GRUPOAVAL_20250507_100638.csv', 'GRUPOAVAL_20250518_092814.csv', 'GRUPOAVAL_20250616_114009.csv']\n",
      "Processing folder: GRUPOSURA | Found CSVs: ['GRUPOSURA_20250311_114126.csv', 'GRUPOSURA_20250311_114157.csv', 'GRUPOSURA_20250311_114204.csv', 'GRUPOSURA_20250311_114211.csv', 'GRUPOSURA_20250311_114217.csv', 'GRUPOSURA_20250311_114222.csv', 'GRUPOSURA_20250311_114233.csv', 'GRUPOSURA_20250311_114239.csv', 'GRUPOSURA_20250311_114246.csv', 'GRUPOSURA_20250311_114304.csv', 'GRUPOSURA_20250316_114839.csv', 'GRUPOSURA_20250414_050154.csv', 'GRUPOSURA_20250421_043154.csv', 'GRUPOSURA_20250507_100607.csv', 'GRUPOSURA_20250518_092729.csv', 'GRUPOSURA_20250616_113927.csv']\n",
      "Processing folder: GXTESCOL | Found CSVs: ['GXTESCOL_20250312_083936.csv', 'GXTESCOL_20250312_083943.csv', 'GXTESCOL_20250317_104623.csv', 'GXTESCOL_20250414_050252.csv', 'GXTESCOL_20250421_043228.csv', 'GXTESCOL_20250507_100415.csv', 'GXTESCOL_20250518_092646.csv', 'GXTESCOL_20250616_113854.csv']\n",
      "Processing folder: HCOLSEL | Found CSVs: ['HCOLSEL_20250312_084448.csv', 'HCOLSEL_20250312_084539.csv', 'HCOLSEL_20250312_084547.csv', 'HCOLSEL_20250312_084552.csv', 'HCOLSEL_20250312_084559.csv', 'HCOLSEL_20250312_084605.csv', 'HCOLSEL_20250312_084617.csv', 'HCOLSEL_20250312_084624.csv', 'HCOLSEL_20250312_084629.csv', 'HCOLSEL_20250312_084636.csv', 'HCOLSEL_20250317_104734.csv', 'HCOLSEL_20250414_050346.csv', 'HCOLSEL_20250421_043343.csv', 'HCOLSEL_20250507_100227.csv', 'HCOLSEL_20250518_092621.csv', 'HCOLSEL_20250616_113816.csv']\n",
      "Processing folder: ICOLCAP | Found CSVs: ['ICOLCAP_20250414_063934.csv', 'ICOLCAP_20250414_063941.csv', 'ICOLCAP_20250414_063948.csv', 'ICOLCAP_20250414_063954.csv', 'ICOLCAP_20250414_064001.csv', 'ICOLCAP_20250414_064007.csv', 'ICOLCAP_20250414_064013.csv', 'ICOLCAP_20250414_064019.csv', 'ICOLCAP_20250414_064026.csv', 'ICOLCAP_20250414_064032.csv', 'ICOLCAP_20250421_043416.csv', 'ICOLCAP_20250507_100038.csv', 'ICOLCAP_20250518_092550.csv', 'ICOLCAP_20250616_113729.csv']\n",
      "Processing folder: ISA | Found CSVs: ['ISA_20250312_084857.csv', 'ISA_20250312_084907.csv', 'ISA_20250312_084916.csv', 'ISA_20250312_085007.csv', 'ISA_20250312_085013.csv', 'ISA_20250312_085033.csv', 'ISA_20250312_085110.csv', 'ISA_20250312_085121.csv', 'ISA_20250312_085129.csv', 'ISA_20250312_085135.csv', 'ISA_20250317_104913.csv', 'ISA_20250414_050433.csv', 'ISA_20250421_043922.csv', 'ISA_20250507_095954.csv', 'ISA_20250518_092413.csv', 'ISA_20250616_113557.csv']\n",
      "Processing folder: MINEROS | Found CSVs: ['MINEROS_20250312_090150.csv', 'MINEROS_20250312_090159.csv', 'MINEROS_20250312_090205.csv', 'MINEROS_20250312_090212.csv', 'MINEROS_20250312_090218.csv', 'MINEROS_20250312_090226.csv', 'MINEROS_20250312_090237.csv', 'MINEROS_20250312_090242.csv', 'MINEROS_20250312_090248.csv', 'MINEROS_20250312_090255.csv', 'MINEROS_20250317_110118.csv', 'MINEROS_20250414_050601.csv', 'MINEROS_20250421_044035.csv', 'MINEROS_20250507_095916.csv', 'MINEROS_20250518_092341.csv']\n",
      "Processing folder: MSCI_COLCAP | Found CSVs: ['MSCI COLCAP_20250313 (1).csv', 'MSCI COLCAP_20250313 (2).csv', 'MSCI COLCAP_20250313 (3).csv', 'MSCI COLCAP_20250313 (4).csv', 'MSCI COLCAP_20250313 (5).csv', 'MSCI COLCAP_20250313 (6).csv', 'MSCI COLCAP_20250313 (7).csv', 'MSCI COLCAP_20250313 (8).csv', 'MSCI COLCAP_20250313 (9).csv', 'MSCI COLCAP_20250313.csv', 'MSCI COLCAP_20250317.csv', 'MSCI COLCAP_20250414.csv', 'MSCI COLCAP_20250421.csv', 'MSCI COLCAP_20250507.csv', 'MSCI COLCAP_20250518.csv', 'MSCI COLCAP_20250617.csv']\n",
      "Processing folder: NUTRESA | Found CSVs: ['NUTRESA_20250312_090448.csv', 'NUTRESA_20250312_090456.csv', 'NUTRESA_20250312_090502.csv', 'NUTRESA_20250312_090507.csv', 'NUTRESA_20250312_090514.csv', 'NUTRESA_20250312_090520.csv', 'NUTRESA_20250312_090531.csv', 'NUTRESA_20250312_090537.csv', 'NUTRESA_20250312_090544.csv', 'NUTRESA_20250312_090550.csv', 'NUTRESA_20250317_110229.csv', 'NUTRESA_20250414_050816.csv', 'NUTRESA_20250421_050138.csv', 'NUTRESA_20250507_095734.csv', 'NUTRESA_20250518_092303.csv', 'NUTRESA_20250616_113500.csv']\n",
      "Processing folder: PEI | Found CSVs: ['PEI_20250312_090942.csv', 'PEI_20250312_090951.csv', 'PEI_20250312_090957.csv', 'PEI_20250312_091002.csv', 'PEI_20250312_091007.csv', 'PEI_20250312_091013.csv', 'PEI_20250317_110423.csv', 'PEI_20250414_050857.csv', 'PEI_20250421_050303.csv', 'PEI_20250507_092614.csv', 'PEI_20250518_092213.csv', 'PEI_20250616_113403.csv']\n",
      "Processing folder: PFAVAL | Found CSVs: ['PFAVAL_20250301_112045.csv', 'PFAVAL_20250301_112120.csv', 'PFAVAL_20250301_112133.csv', 'PFAVAL_20250301_112147.csv', 'PFAVAL_20250301_112204.csv', 'PFAVAL_20250301_112216.csv', 'PFAVAL_20250301_112229.csv', 'PFAVAL_20250301_112242.csv', 'PFAVAL_20250301_112253.csv', 'PFAVAL_20250301_112302.csv', 'PFAVAL_20250316_114225.csv', 'PFAVAL_20250414_051016.csv', 'PFAVAL_20250421_050341.csv', 'PFAVAL_20250507_103231.csv', 'PFAVAL_20250518_092139.csv', 'PFAVAL_20250616_113332.csv']\n",
      "Processing folder: PFBCOLOMBIA | Found CSVs: ['PFBCOLOM_20250306_094402.csv', 'PFBCOLOM_20250306_094410.csv', 'PFBCOLOM_20250306_094416.csv', 'PFBCOLOM_20250306_094421.csv', 'PFBCOLOM_20250306_094427.csv', 'PFBCOLOM_20250306_094432.csv', 'PFBCOLOM_20250306_094448.csv', 'PFBCOLOM_20250306_094454.csv', 'PFBCOLOM_20250306_094502.csv', 'PFBCOLOM_20250306_094508.csv', 'PFBCOLOM_20250316_114613.csv', 'PFBCOLOM_20250414_051053.csv', 'PFBCOLOM_20250421_050441.csv', 'PFBCOLOM_20250507_092430.csv', 'PFBCOLOM_20250518_092110.csv', 'PFCIBEST_20250616_113218.csv']\n",
      "Processing folder: PFCEMARGOS | Found CSVs: ['PFCEMARGOS_20250312_091220.csv', 'PFCEMARGOS_20250312_091226.csv', 'PFCEMARGOS_20250312_091232.csv', 'PFCEMARGOS_20250312_091238.csv', 'PFCEMARGOS_20250312_091244.csv', 'PFCEMARGOS_20250312_091249.csv', 'PFCEMARGOS_20250312_091257.csv', 'PFCEMARGOS_20250312_091303.csv', 'PFCEMARGOS_20250312_091310.csv', 'PFCEMARGOS_20250312_091316.csv', 'PFCEMARGOS_20250317_110918.csv', 'PFCEMARGOS_20250414_051138.csv', 'PFCEMARGOS_20250421_050609.csv', 'PFCEMARGOS_20250507_092347.csv', 'PFCEMARGOS_20250518_092037.csv', 'PFCEMARGOS_20250616_113300.csv']\n",
      "Processing folder: PFCORFICOL | Found CSVs: ['PFCORFICOL_20250312_091519.csv', 'PFCORFICOL_20250312_091526.csv', 'PFCORFICOL_20250312_091532.csv', 'PFCORFICOL_20250312_091537.csv', 'PFCORFICOL_20250312_091542.csv', 'PFCORFICOL_20250312_091547.csv', 'PFCORFICOL_20250312_091557.csv', 'PFCORFICOL_20250312_091602.csv', 'PFCORFICOL_20250312_091607.csv', 'PFCORFICOL_20250312_091612.csv', 'PFCORFICOL_20250317_111031.csv', 'PFCORFICOL_20250414_051348.csv', 'PFCORFICOL_20250421_050652.csv', 'PFCORFICOL_20250507_092224.csv', 'PFCORFICOL_20250518_091941.csv', 'PFCORFICOL_20250616_104339.csv']\n",
      "Processing folder: PFDAVVNDA | Found CSVs: ['PFDAVVNDA_20250306_090727.csv', 'PFDAVVNDA_20250306_090830.csv', 'PFDAVVNDA_20250306_090842.csv', 'PFDAVVNDA_20250306_090857.csv', 'PFDAVVNDA_20250306_090921.csv', 'PFDAVVNDA_20250306_090932.csv', 'PFDAVVNDA_20250306_090944.csv', 'PFDAVVNDA_20250306_090955.csv', 'PFDAVVNDA_20250306_091006.csv', 'PFDAVVNDA_20250306_091015.csv', 'PFDAVVNDA_20250316_114413.csv', 'PFDAVVNDA_20250414_051445.csv', 'PFDAVVNDA_20250421_045920.csv', 'PFDAVVNDA_20250507_092142.csv', 'PFDAVVNDA_20250518_091914.csv', 'PFDAVVNDA_20250616_104239.csv']\n",
      "Processing folder: PFGRUPARG | Found CSVs: ['PFGRUPOARG_20250312_092314.csv', 'PFGRUPOARG_20250312_092319.csv', 'PFGRUPOARG_20250312_092325.csv', 'PFGRUPOARG_20250312_092330.csv', 'PFGRUPOARG_20250312_092335.csv', 'PFGRUPOARG_20250312_092341.csv', 'PFGRUPOARG_20250312_092352.csv', 'PFGRUPOARG_20250312_092405.csv', 'PFGRUPOARG_20250312_092410.csv', 'PFGRUPOARG_20250312_092415.csv', 'PFGRUPOARG_20250317_111202.csv', 'PFGRUPOARG_20250414_051617.csv', 'PFGRUPOARG_20250421_050827.csv', 'PFGRUPOARG_20250507_085923.csv', 'PFGRUPOARG_20250518_091843.csv', 'PFGRUPOARG_20250616_104153.csv']\n",
      "Processing folder: PFGRUPOSURA | Found CSVs: ['PFGRUPSURA_20250306_095740.csv', 'PFGRUPSURA_20250306_095746.csv', 'PFGRUPSURA_20250306_095805.csv', 'PFGRUPSURA_20250306_095810.csv', 'PFGRUPSURA_20250306_095816.csv', 'PFGRUPSURA_20250306_095822.csv', 'PFGRUPSURA_20250306_095828.csv', 'PFGRUPSURA_20250306_095833.csv', 'PFGRUPSURA_20250306_095839.csv', 'PFGRUPSURA_20250306_095844.csv', 'PFGRUPSURA_20250317_104514.csv', 'PFGRUPSURA_20250414_051657.csv', 'PFGRUPSURA_20250421_050908.csv', 'PFGRUPSURA_20250507_085827.csv', 'PFGRUPSURA_20250518_091627.csv', 'PFGRUPSURA_20250616_103748.csv']\n",
      "Processing folder: PROMIGAS | Found CSVs: ['PROMIGAS_20250312_092601.csv', 'PROMIGAS_20250312_092606.csv', 'PROMIGAS_20250312_092612.csv', 'PROMIGAS_20250312_092619.csv', 'PROMIGAS_20250312_092624.csv', 'PROMIGAS_20250312_092630.csv', 'PROMIGAS_20250312_092639.csv', 'PROMIGAS_20250312_092644.csv', 'PROMIGAS_20250312_092649.csv', 'PROMIGAS_20250312_092654.csv', 'PROMIGAS_20250317_111350.csv', 'PROMIGAS_20250414_051741.csv', 'PROMIGAS_20250421_051102.csv', 'PROMIGAS_20250507_085739.csv', 'PROMIGAS_20250518_091450.csv', 'PROMIGAS_20250616_103427.csv']\n",
      "Processing folder: TERPEL | Found CSVs: ['TERPEL_20250312_092755.csv', 'TERPEL_20250312_092801.csv', 'TERPEL_20250312_092806.csv', 'TERPEL_20250312_092812.csv', 'TERPEL_20250312_092816.csv', 'TERPEL_20250312_092821.csv', 'TERPEL_20250312_092836.csv', 'TERPEL_20250312_092904.csv', 'TERPEL_20250312_092917.csv', 'TERPEL_20250312_092923.csv', 'TERPEL_20250414_051846.csv', 'TERPEL_20250421_051135.csv', 'TERPEL_20250507_085533.csv', 'TERPEL_20250518_091408.csv', 'TERPEL_20250616_103123.csv']\n"
     ]
    },
    {
     "data": {
      "text/html": [
       "<div>\n",
       "<style scoped>\n",
       "    .dataframe tbody tr th:only-of-type {\n",
       "        vertical-align: middle;\n",
       "    }\n",
       "\n",
       "    .dataframe tbody tr th {\n",
       "        vertical-align: top;\n",
       "    }\n",
       "\n",
       "    .dataframe thead th {\n",
       "        text-align: right;\n",
       "    }\n",
       "</style>\n",
       "<table border=\"1\" class=\"dataframe\">\n",
       "  <thead>\n",
       "    <tr style=\"text-align: right;\">\n",
       "      <th></th>\n",
       "      <th>Fecha</th>\n",
       "      <th>Nemotécnico</th>\n",
       "      <th>Precio cierre</th>\n",
       "      <th>Precio máximo</th>\n",
       "      <th>Precio promedio ponderado</th>\n",
       "      <th>Precio mínimo</th>\n",
       "      <th>Variación absoluta</th>\n",
       "      <th>Variación porcentual</th>\n",
       "      <th>Cantidad</th>\n",
       "      <th>Volumen</th>\n",
       "    </tr>\n",
       "  </thead>\n",
       "  <tbody>\n",
       "    <tr>\n",
       "      <th>0</th>\n",
       "      <td>2024-09-06</td>\n",
       "      <td>TERPEL</td>\n",
       "      <td>9,400.00</td>\n",
       "      <td>9,500.00</td>\n",
       "      <td>9,400.77</td>\n",
       "      <td>9,340.00</td>\n",
       "      <td>-100.0</td>\n",
       "      <td>-1.05</td>\n",
       "      <td>1,470,713.00</td>\n",
       "      <td>13,825,828,700.00</td>\n",
       "    </tr>\n",
       "    <tr>\n",
       "      <th>1</th>\n",
       "      <td>2024-09-09</td>\n",
       "      <td>TERPEL</td>\n",
       "      <td>9,640.00</td>\n",
       "      <td>9,640.00</td>\n",
       "      <td>9,556.00</td>\n",
       "      <td>9,500.00</td>\n",
       "      <td>240.0</td>\n",
       "      <td>2.55</td>\n",
       "      <td>26,147.00</td>\n",
       "      <td>249,860,710.00</td>\n",
       "    </tr>\n",
       "    <tr>\n",
       "      <th>2</th>\n",
       "      <td>2024-09-10</td>\n",
       "      <td>TERPEL</td>\n",
       "      <td>9,600.00</td>\n",
       "      <td>9,650.00</td>\n",
       "      <td>9,611.51</td>\n",
       "      <td>9,500.00</td>\n",
       "      <td>-40.0</td>\n",
       "      <td>-0.41</td>\n",
       "      <td>22,556.00</td>\n",
       "      <td>216,797,280.00</td>\n",
       "    </tr>\n",
       "    <tr>\n",
       "      <th>3</th>\n",
       "      <td>2024-09-11</td>\n",
       "      <td>TERPEL</td>\n",
       "      <td>9,400.00</td>\n",
       "      <td>9,500.00</td>\n",
       "      <td>9,455.91</td>\n",
       "      <td>9,400.00</td>\n",
       "      <td>-200.0</td>\n",
       "      <td>-2.08</td>\n",
       "      <td>38,380.00</td>\n",
       "      <td>362,917,900.00</td>\n",
       "    </tr>\n",
       "    <tr>\n",
       "      <th>4</th>\n",
       "      <td>2024-09-12</td>\n",
       "      <td>TERPEL</td>\n",
       "      <td>9,580.00</td>\n",
       "      <td>9,580.00</td>\n",
       "      <td>9,455.58</td>\n",
       "      <td>9,400.00</td>\n",
       "      <td>180.0</td>\n",
       "      <td>1.91</td>\n",
       "      <td>15,069.00</td>\n",
       "      <td>142,486,210.00</td>\n",
       "    </tr>\n",
       "    <tr>\n",
       "      <th>...</th>\n",
       "      <td>...</td>\n",
       "      <td>...</td>\n",
       "      <td>...</td>\n",
       "      <td>...</td>\n",
       "      <td>...</td>\n",
       "      <td>...</td>\n",
       "      <td>...</td>\n",
       "      <td>...</td>\n",
       "      <td>...</td>\n",
       "      <td>...</td>\n",
       "    </tr>\n",
       "    <tr>\n",
       "      <th>1279</th>\n",
       "      <td>2025-06-10</td>\n",
       "      <td>TERPEL</td>\n",
       "      <td>12,280.00</td>\n",
       "      <td>12,400.00</td>\n",
       "      <td>12,368.44</td>\n",
       "      <td>12,280.00</td>\n",
       "      <td>-20.0</td>\n",
       "      <td>-0.16</td>\n",
       "      <td>26,729.00</td>\n",
       "      <td>330,595,960.00</td>\n",
       "    </tr>\n",
       "    <tr>\n",
       "      <th>1280</th>\n",
       "      <td>2025-06-11</td>\n",
       "      <td>TERPEL</td>\n",
       "      <td>12,260.00</td>\n",
       "      <td>12,300.00</td>\n",
       "      <td>12,271.39</td>\n",
       "      <td>12,240.00</td>\n",
       "      <td>-20.0</td>\n",
       "      <td>-0.16</td>\n",
       "      <td>13,862.00</td>\n",
       "      <td>170,105,980.00</td>\n",
       "    </tr>\n",
       "    <tr>\n",
       "      <th>1281</th>\n",
       "      <td>2025-06-12</td>\n",
       "      <td>TERPEL</td>\n",
       "      <td>12,400.00</td>\n",
       "      <td>12,400.00</td>\n",
       "      <td>12,344.66</td>\n",
       "      <td>12,380.00</td>\n",
       "      <td>140.0</td>\n",
       "      <td>1.14</td>\n",
       "      <td>8,919.00</td>\n",
       "      <td>110,101,980.00</td>\n",
       "    </tr>\n",
       "    <tr>\n",
       "      <th>1282</th>\n",
       "      <td>2025-06-13</td>\n",
       "      <td>TERPEL</td>\n",
       "      <td>12,360.00</td>\n",
       "      <td>12,360.00</td>\n",
       "      <td>12,338.06</td>\n",
       "      <td>12,280.00</td>\n",
       "      <td>-40.0</td>\n",
       "      <td>-0.32</td>\n",
       "      <td>13,972.00</td>\n",
       "      <td>172,387,420.00</td>\n",
       "    </tr>\n",
       "    <tr>\n",
       "      <th>1283</th>\n",
       "      <td>2025-06-16</td>\n",
       "      <td>TERPEL</td>\n",
       "      <td>12,420.00</td>\n",
       "      <td>12,420.00</td>\n",
       "      <td>12,391.18</td>\n",
       "      <td>12,380.00</td>\n",
       "      <td>60.0</td>\n",
       "      <td>0.49</td>\n",
       "      <td>16,830.00</td>\n",
       "      <td>208,543,560.00</td>\n",
       "    </tr>\n",
       "  </tbody>\n",
       "</table>\n",
       "<p>1284 rows × 10 columns</p>\n",
       "</div>"
      ],
      "text/plain": [
       "           Fecha Nemotécnico Precio cierre Precio máximo  \\\n",
       "0     2024-09-06      TERPEL      9,400.00      9,500.00   \n",
       "1     2024-09-09      TERPEL      9,640.00      9,640.00   \n",
       "2     2024-09-10      TERPEL      9,600.00      9,650.00   \n",
       "3     2024-09-11      TERPEL      9,400.00      9,500.00   \n",
       "4     2024-09-12      TERPEL      9,580.00      9,580.00   \n",
       "...          ...         ...           ...           ...   \n",
       "1279  2025-06-10      TERPEL     12,280.00     12,400.00   \n",
       "1280  2025-06-11      TERPEL     12,260.00     12,300.00   \n",
       "1281  2025-06-12      TERPEL     12,400.00     12,400.00   \n",
       "1282  2025-06-13      TERPEL     12,360.00     12,360.00   \n",
       "1283  2025-06-16      TERPEL     12,420.00     12,420.00   \n",
       "\n",
       "     Precio promedio ponderado Precio mínimo Variación absoluta  \\\n",
       "0                     9,400.77      9,340.00             -100.0   \n",
       "1                     9,556.00      9,500.00              240.0   \n",
       "2                     9,611.51      9,500.00              -40.0   \n",
       "3                     9,455.91      9,400.00             -200.0   \n",
       "4                     9,455.58      9,400.00              180.0   \n",
       "...                        ...           ...                ...   \n",
       "1279                 12,368.44     12,280.00              -20.0   \n",
       "1280                 12,271.39     12,240.00              -20.0   \n",
       "1281                 12,344.66     12,380.00              140.0   \n",
       "1282                 12,338.06     12,280.00              -40.0   \n",
       "1283                 12,391.18     12,380.00               60.0   \n",
       "\n",
       "      Variación porcentual      Cantidad            Volumen  \n",
       "0                    -1.05  1,470,713.00  13,825,828,700.00  \n",
       "1                     2.55     26,147.00     249,860,710.00  \n",
       "2                    -0.41     22,556.00     216,797,280.00  \n",
       "3                    -2.08     38,380.00     362,917,900.00  \n",
       "4                     1.91     15,069.00     142,486,210.00  \n",
       "...                    ...           ...                ...  \n",
       "1279                 -0.16     26,729.00     330,595,960.00  \n",
       "1280                 -0.16     13,862.00     170,105,980.00  \n",
       "1281                  1.14      8,919.00     110,101,980.00  \n",
       "1282                 -0.32     13,972.00     172,387,420.00  \n",
       "1283                  0.49     16,830.00     208,543,560.00  \n",
       "\n",
       "[1284 rows x 10 columns]"
      ]
     },
     "execution_count": 24,
     "metadata": {},
     "output_type": "execute_result"
    }
   ],
   "source": [
    "df_list = []\n",
    "\n",
    "for folder in folders:\n",
    "    os.chdir(folder)  \n",
    "    all_files = glob.glob(\"*.csv\")\n",
    "\n",
    "    print(f\"Processing folder: {folder} | Found CSVs: {all_files}\")  # Debugging step\n",
    "\n",
    "    if not all_files:  # If no CSVs found, skip folder\n",
    "        print(f\"No CSV files found in {folder}, skipping...\")\n",
    "        os.chdir(\"..\")\n",
    "        continue\n",
    "\n",
    "    df_folder = pd.concat([pd.read_csv(f, sep=\";\", on_bad_lines='skip') for f in all_files], ignore_index=True)\n",
    "    \n",
    "    os.chdir(\"..\")\n",
    "    \n",
    "df_folder"
   ]
  },
  {
   "cell_type": "markdown",
   "metadata": {},
   "source": [
    "### MAIN PART OF THE CODE\n",
    "#### Identify, read, concatenate the csv files and make setups"
   ]
  },
  {
   "cell_type": "code",
   "execution_count": 25,
   "metadata": {},
   "outputs": [],
   "source": [
    "# List to store concatenated DataFrames for each folder\n",
    "#NEW PART\n",
    "#-------------------------------\n",
    "name_map = {\n",
    "    \"BCOLOMBIA\": \"CIBEST\",\n",
    "    \"PFBCOLOMB\": \"PFCIBEST\"\n",
    "}\n",
    "#-------------------------------\n",
    "\n",
    "df_list = []\n",
    "\n",
    "for folder in folders:\n",
    "    os.chdir(folder)  # Change to the folder\n",
    "    extension = 'csv'\n",
    "    \n",
    "    # Identify all CSV files in the folder\n",
    "    all_files = [i for i in glob.glob(f'*.{extension}')]\n",
    "\n",
    "    # Read and concatenate all CSVs in the current folder\n",
    "    # ORIGINAL --> df_folder = pd.concat([pd.read_csv(f,sep=\";\") for f in all_files], ignore_index=True)\n",
    "    df_folder = pd.concat([pd.read_csv(f, sep=\";\", on_bad_lines='skip') for f in all_files], ignore_index=True)\n",
    "\n",
    "    # Ensure 'Fecha' column is in datetime format\n",
    "    df_folder['Fecha'] = pd.to_datetime(df_folder['Fecha'], errors='coerce')\n",
    "\n",
    "    # NEW PART\n",
    "    #--------------------\n",
    "     # Replace old ticker names with new ones inside the 'Nemotécnico' column\n",
    "    if 'Nemotécnico' in df_folder.columns:\n",
    "        df_folder['Nemotécnico'] = df_folder['Nemotécnico'].replace(name_map)\n",
    "    #--------------------\n",
    "    \n",
    "    # Rename columns by adding folder name as a prefix (except 'Date')\n",
    "    # ORIGINAL --> df_folder = df_folder.rename(columns={col: f\"{folder}_{col}\" for col in df_folder.columns if col != \"Fecha\"})\n",
    "    df_folder = df_folder.rename(columns={col: f\"{folder}_{col}\" if col != \"Fecha\" else col for col in df_folder.columns})\n",
    "\n",
    "    # Append to list\n",
    "    df_list.append(df_folder)\n",
    "    os.chdir(\"..\")"
   ]
  },
  {
   "cell_type": "code",
   "execution_count": 6,
   "metadata": {},
   "outputs": [],
   "source": [
    "# # Ensure df_list is not empty before merging\n",
    "# if not df_list:\n",
    "#     raise ValueError(\"No data was loaded. Check if CSV files exist and contain valid data.\")\n",
    "\n",
    "# # Merge all DataFrames on 'Date', keeping all available dates\n",
    "# df_final = df_list[0]  # Start with the first DataFrame\n",
    "\n",
    "# for df in df_list[1:]:\n",
    "#     df_final = pd.merge(df_final, df, on=\"Fecha\", how=\"outer\", suffixes=('', '_dup'))\n",
    "\n",
    "# # Drop duplicate columns if merging added them (from stocks with same column names)\n",
    "# df_final = df_final.loc[:, ~df_final.columns.duplicated()]\n",
    "\n",
    "# # Sort by date\n",
    "# df_final = df_final.sort_values(by=\"Fecha\")\n",
    "\n",
    "# # Now df_final is a single DataFrame that you can manipulate with pandas\n",
    "# print(df_final.head())  # Show first few rows\n",
    "\n",
    "# # Save the merged DataFrame\n",
    "# df_final.to_csv(\"Final_Merged_Data2.csv\", index=False, encoding='utf-8-sig')\n",
    "\n",
    "# df_final\n"
   ]
  },
  {
   "cell_type": "code",
   "execution_count": 26,
   "metadata": {},
   "outputs": [
    {
     "name": "stdout",
     "output_type": "stream",
     "text": [
      "c:\\Users\\ACER\\OneDrive\\Documentos\\SEBASTIAN\\OneDrive\\Documentos\\SEBASTIAN\\Documentos\\HV_HTML\\BVC\n"
     ]
    }
   ],
   "source": [
    "# os.chdir(\"..\")\n",
    "print(os.getcwd())"
   ]
  },
  {
   "cell_type": "markdown",
   "metadata": {},
   "source": [
    "#### Merge all the csv in one csv"
   ]
  },
  {
   "cell_type": "code",
   "execution_count": 27,
   "metadata": {},
   "outputs": [
    {
     "name": "stdout",
     "output_type": "stream",
     "text": [
      "       Fecha BCOLOMBIA_Nemotécnico BCOLOMBIA_Precio cierre  \\\n",
      "0 2020-03-02                   NaN                     NaN   \n",
      "1 2020-03-03                   NaN                     NaN   \n",
      "2 2020-03-04                   NaN                     NaN   \n",
      "3 2020-03-05                   NaN                     NaN   \n",
      "4 2020-03-06                CIBEST                36700.00   \n",
      "\n",
      "  BCOLOMBIA_Precio máximo BCOLOMBIA_Precio promedio ponderado  \\\n",
      "0                     NaN                                 NaN   \n",
      "1                     NaN                                 NaN   \n",
      "2                     NaN                                 NaN   \n",
      "3                     NaN                                 NaN   \n",
      "4                37620.00                            36923.99   \n",
      "\n",
      "  BCOLOMBIA_Precio mínimo BCOLOMBIA_Variación absoluta  \\\n",
      "0                     NaN                          NaN   \n",
      "1                     NaN                          NaN   \n",
      "2                     NaN                          NaN   \n",
      "3                     NaN                          NaN   \n",
      "4                36700.00                      -840.00   \n",
      "\n",
      "   BCOLOMBIA_Variación porcentual BCOLOMBIA_Cantidad BCOLOMBIA_Volumen  ...  \\\n",
      "0                             NaN                NaN               NaN  ...   \n",
      "1                             NaN                NaN               NaN  ...   \n",
      "2                             NaN                NaN               NaN  ...   \n",
      "3                             NaN                NaN               NaN  ...   \n",
      "4                           -2.24          104823.00     3863210740.00  ...   \n",
      "\n",
      "  PROMIGAS_Volumen  TERPEL_Nemotécnico  TERPEL_Precio cierre  \\\n",
      "0              NaN                 NaN                   NaN   \n",
      "1              NaN                 NaN                   NaN   \n",
      "2              NaN                 NaN                   NaN   \n",
      "3              NaN                 NaN                   NaN   \n",
      "4              NaN                 NaN                   NaN   \n",
      "\n",
      "   TERPEL_Precio máximo  TERPEL_Precio promedio ponderado  \\\n",
      "0                   NaN                               NaN   \n",
      "1                   NaN                               NaN   \n",
      "2                   NaN                               NaN   \n",
      "3                   NaN                               NaN   \n",
      "4                   NaN                               NaN   \n",
      "\n",
      "   TERPEL_Precio mínimo  TERPEL_Variación absoluta  \\\n",
      "0                   NaN                        NaN   \n",
      "1                   NaN                        NaN   \n",
      "2                   NaN                        NaN   \n",
      "3                   NaN                        NaN   \n",
      "4                   NaN                        NaN   \n",
      "\n",
      "  TERPEL_Variación porcentual TERPEL_Cantidad TERPEL_Volumen  \n",
      "0                         NaN             NaN            NaN  \n",
      "1                         NaN             NaN            NaN  \n",
      "2                         NaN             NaN            NaN  \n",
      "3                         NaN             NaN            NaN  \n",
      "4                         NaN             NaN            NaN  \n",
      "\n",
      "[5 rows x 322 columns]\n"
     ]
    }
   ],
   "source": [
    "# Merge all DataFrames on 'Date' (keeping only common dates)\n",
    "df_final = df_list[0]\n",
    "for df in df_list[1:]:\n",
    "    df_final = pd.merge(df_final, df, on=\"Fecha\", how=\"outer\", suffixes=('', '_dup'))\n",
    "    \n",
    "# Sort by date\n",
    "df_final = df_final.sort_values(by=\"Fecha\")\n",
    "\n",
    "# Identify numeric columns (excluding 'Date' and stock name columns)\n",
    "numeric_cols = df_final.columns[df_final.dtypes == 'object']\n",
    "\n",
    "# Apply string replacements to clean decimal format\n",
    "df_final[numeric_cols] = df_final[numeric_cols].apply(lambda x: x.str.replace(',', '', regex=False))\n",
    "\n",
    "# Identify numeric columns (excluding 'Date' and stock name columns)\n",
    "numeric_cols = df_final.select_dtypes(include=['number']).columns\n",
    "\n",
    "# Convert only numeric columns to float\n",
    "df_final[numeric_cols] = df_final[numeric_cols].apply(pd.to_numeric, errors='coerce')\n",
    "\n",
    "# Save final merged DataFrame\n",
    "df_final.to_csv(\"Final_Merged_Data.csv\", index=False, encoding='utf-8-sig')\n",
    "\n",
    "# Show the first few rows of the final DataFrame\n",
    "print(df_final.head())"
   ]
  },
  {
   "cell_type": "code",
   "execution_count": 28,
   "metadata": {},
   "outputs": [
    {
     "name": "stdout",
     "output_type": "stream",
     "text": [
      "<class 'pandas.core.frame.DataFrame'>\n",
      "RangeIndex: 1293 entries, 0 to 1292\n",
      "Columns: 322 entries, Fecha to TERPEL_Volumen\n",
      "dtypes: datetime64[ns](1), float64(71), object(250)\n",
      "memory usage: 3.2+ MB\n"
     ]
    }
   ],
   "source": [
    "df_final.info()"
   ]
  },
  {
   "cell_type": "code",
   "execution_count": 29,
   "metadata": {},
   "outputs": [
    {
     "name": "stdout",
     "output_type": "stream",
     "text": [
      "['Fecha', 'BCOLOMBIA_Nemotécnico', 'BCOLOMBIA_Precio cierre', 'BCOLOMBIA_Precio máximo', 'BCOLOMBIA_Precio promedio ponderado', 'BCOLOMBIA_Precio mínimo', 'BCOLOMBIA_Variación absoluta', 'BCOLOMBIA_Variación porcentual', 'BCOLOMBIA_Cantidad', 'BCOLOMBIA_Volumen', 'BHI_Nemotécnico', 'BHI_Precio cierre', 'BHI_Precio máximo', 'BHI_Precio promedio ponderado', 'BHI_Precio mínimo', 'BHI_Variación absoluta', 'BHI_Variación porcentual', 'BHI_Cantidad', 'BHI_Volumen', 'BOGOTA_Nemotécnico', 'BOGOTA_Precio cierre', 'BOGOTA_Precio máximo', 'BOGOTA_Precio promedio ponderado', 'BOGOTA_Precio mínimo', 'BOGOTA_Variación absoluta', 'BOGOTA_Variación porcentual', 'BOGOTA_Cantidad', 'BOGOTA_Volumen', 'BVC_Nemotécnico', 'BVC_Precio cierre', 'BVC_Precio máximo', 'BVC_Precio promedio ponderado', 'BVC_Precio mínimo', 'BVC_Variación absoluta', 'BVC_Variación porcentual', 'BVC_Cantidad', 'BVC_Volumen', 'CELSIA_Nemotécnico', 'CELSIA_Precio cierre', 'CELSIA_Precio máximo', 'CELSIA_Precio promedio ponderado', 'CELSIA_Precio mínimo', 'CELSIA_Variación absoluta', 'CELSIA_Variación porcentual', 'CELSIA_Cantidad', 'CELSIA_Volumen', 'CEMARGOS_Nemotécnico', 'CEMARGOS_Precio cierre', 'CEMARGOS_Precio máximo', 'CEMARGOS_Precio promedio ponderado', 'CEMARGOS_Precio mínimo', 'CEMARGOS_Variación absoluta', 'CEMARGOS_Variación porcentual', 'CEMARGOS_Cantidad', 'CEMARGOS_Volumen', 'CNEC_Nemotécnico', 'CNEC_Precio cierre', 'CNEC_Precio máximo', 'CNEC_Precio promedio ponderado', 'CNEC_Precio mínimo', 'CNEC_Variación absoluta', 'CNEC_Variación porcentual', 'CNEC_Cantidad', 'CNEC_Volumen', 'CONCONCRETO_Nemotécnico', 'CONCONCRETO_Precio cierre', 'CONCONCRETO_Precio máximo', 'CONCONCRETO_Precio promedio ponderado', 'CONCONCRETO_Precio mínimo', 'CONCONCRETO_Variación absoluta', 'CONCONCRETO_Variación porcentual', 'CONCONCRETO_Cantidad', 'CONCONCRETO_Volumen', 'CORFICOL_Nemotécnico', 'CORFICOL_Precio cierre', 'CORFICOL_Precio máximo', 'CORFICOL_Precio promedio ponderado', 'CORFICOL_Precio mínimo', 'CORFICOL_Variación absoluta', 'CORFICOL_Variación porcentual', 'CORFICOL_Cantidad', 'CORFICOL_Volumen', 'ECOPETROL_Nemotécnico', 'ECOPETROL_Precio cierre', 'ECOPETROL_Precio máximo', 'ECOPETROL_Precio promedio ponderado', 'ECOPETROL_Precio mínimo', 'ECOPETROL_Variación absoluta', 'ECOPETROL_Variación porcentual', 'ECOPETROL_Cantidad', 'ECOPETROL_Volumen', 'ENKA_Nemotécnico', 'ENKA_Precio cierre', 'ENKA_Precio máximo', 'ENKA_Precio promedio ponderado', 'ENKA_Precio mínimo', 'ENKA_Variación absoluta', 'ENKA_Variación porcentual', 'ENKA_Cantidad', 'ENKA_Volumen', 'ETB_Nemotécnico', 'ETB_Precio cierre', 'ETB_Precio máximo', 'ETB_Precio promedio ponderado', 'ETB_Precio mínimo', 'ETB_Variación absoluta', 'ETB_Variación porcentual', 'ETB_Cantidad', 'ETB_Volumen', 'EXITO_Nemotécnico', 'EXITO_Precio cierre', 'EXITO_Precio máximo', 'EXITO_Precio promedio ponderado', 'EXITO_Precio mínimo', 'EXITO_Variación absoluta', 'EXITO_Variación porcentual', 'EXITO_Cantidad', 'EXITO_Volumen', 'FABRICATO_Nemotécnico', 'FABRICATO_Precio cierre', 'FABRICATO_Precio máximo', 'FABRICATO_Precio promedio ponderado', 'FABRICATO_Precio mínimo', 'FABRICATO_Variación absoluta', 'FABRICATO_Variación porcentual', 'FABRICATO_Cantidad', 'FABRICATO_Volumen', 'GEB_Nemotécnico', 'GEB_Precio cierre', 'GEB_Precio máximo', 'GEB_Precio promedio ponderado', 'GEB_Precio mínimo', 'GEB_Variación absoluta', 'GEB_Variación porcentual', 'GEB_Cantidad', 'GEB_Volumen', 'GRUBOLIVAR_Nemotécnico', 'GRUBOLIVAR_Precio cierre', 'GRUBOLIVAR_Precio máximo', 'GRUBOLIVAR_Precio promedio ponderado', 'GRUBOLIVAR_Precio mínimo', 'GRUBOLIVAR_Variación absoluta', 'GRUBOLIVAR_Variación porcentual', 'GRUBOLIVAR_Cantidad', 'GRUBOLIVAR_Volumen', 'GRUPOARGOS_Nemotécnico', 'GRUPOARGOS_Precio cierre', 'GRUPOARGOS_Precio máximo', 'GRUPOARGOS_Precio promedio ponderado', 'GRUPOARGOS_Precio mínimo', 'GRUPOARGOS_Variación absoluta', 'GRUPOARGOS_Variación porcentual', 'GRUPOARGOS_Cantidad', 'GRUPOARGOS_Volumen', 'GRUPOAVAL_Nemotécnico', 'GRUPOAVAL_Precio cierre', 'GRUPOAVAL_Precio máximo', 'GRUPOAVAL_Precio promedio ponderado', 'GRUPOAVAL_Precio mínimo', 'GRUPOAVAL_Variación absoluta', 'GRUPOAVAL_Variación porcentual', 'GRUPOAVAL_Cantidad', 'GRUPOAVAL_Volumen', 'GRUPOSURA_Nemotécnico', 'GRUPOSURA_Precio cierre', 'GRUPOSURA_Precio máximo', 'GRUPOSURA_Precio promedio ponderado', 'GRUPOSURA_Precio mínimo', 'GRUPOSURA_Variación absoluta', 'GRUPOSURA_Variación porcentual', 'GRUPOSURA_Cantidad', 'GRUPOSURA_Volumen', 'GXTESCOL_Nemotécnico', 'GXTESCOL_Precio cierre', 'GXTESCOL_Precio máximo', 'GXTESCOL_Precio promedio ponderado', 'GXTESCOL_Precio mínimo', 'GXTESCOL_Variación absoluta', 'GXTESCOL_Variación porcentual', 'GXTESCOL_Cantidad', 'GXTESCOL_Volumen', 'HCOLSEL_Nemotécnico', 'HCOLSEL_Precio cierre', 'HCOLSEL_Precio máximo', 'HCOLSEL_Precio promedio ponderado', 'HCOLSEL_Precio mínimo', 'HCOLSEL_Variación absoluta', 'HCOLSEL_Variación porcentual', 'HCOLSEL_Cantidad', 'HCOLSEL_Volumen', 'ICOLCAP_Nemotécnico', 'ICOLCAP_Precio cierre', 'ICOLCAP_Precio máximo', 'ICOLCAP_Precio promedio ponderado', 'ICOLCAP_Precio mínimo', 'ICOLCAP_Variación absoluta', 'ICOLCAP_Variación porcentual', 'ICOLCAP_Cantidad', 'ICOLCAP_Volumen', 'ISA_Nemotécnico', 'ISA_Precio cierre', 'ISA_Precio máximo', 'ISA_Precio promedio ponderado', 'ISA_Precio mínimo', 'ISA_Variación absoluta', 'ISA_Variación porcentual', 'ISA_Cantidad', 'ISA_Volumen', 'MINEROS_Nemotécnico', 'MINEROS_Precio cierre', 'MINEROS_Precio máximo', 'MINEROS_Precio promedio ponderado', 'MINEROS_Precio mínimo', 'MINEROS_Variación absoluta', 'MINEROS_Variación porcentual', 'MINEROS_Cantidad', 'MINEROS_Volumen', 'MSCI_COLCAP_Valor hoy', 'MSCI_COLCAP_Valor ayer', 'MSCI_COLCAP_Variación absoluta', 'MSCI_COLCAP_Variación porcentual', 'MSCI_COLCAP_Variación 12 meses', 'MSCI_COLCAP_Variación año', 'NUTRESA_Nemotécnico', 'NUTRESA_Precio cierre', 'NUTRESA_Precio máximo', 'NUTRESA_Precio promedio ponderado', 'NUTRESA_Precio mínimo', 'NUTRESA_Variación absoluta', 'NUTRESA_Variación porcentual', 'NUTRESA_Cantidad', 'NUTRESA_Volumen', 'PEI_Nemotécnico', 'PEI_Precio cierre', 'PEI_Precio máximo', 'PEI_Precio promedio ponderado', 'PEI_Precio mínimo', 'PEI_Variación absoluta', 'PEI_Variación porcentual', 'PEI_Cantidad', 'PEI_Volumen', 'PFAVAL_Nemotécnico', 'PFAVAL_Precio cierre', 'PFAVAL_Precio máximo', 'PFAVAL_Precio promedio ponderado', 'PFAVAL_Precio mínimo', 'PFAVAL_Variación absoluta', 'PFAVAL_Variación porcentual', 'PFAVAL_Cantidad', 'PFAVAL_Volumen', 'PFBCOLOMBIA_Nemotécnico', 'PFBCOLOMBIA_Precio cierre', 'PFBCOLOMBIA_Precio máximo', 'PFBCOLOMBIA_Precio promedio ponderado', 'PFBCOLOMBIA_Precio mínimo', 'PFBCOLOMBIA_Variación absoluta', 'PFBCOLOMBIA_Variación porcentual', 'PFBCOLOMBIA_Cantidad', 'PFBCOLOMBIA_Volumen', 'PFCEMARGOS_Nemotécnico', 'PFCEMARGOS_Precio cierre', 'PFCEMARGOS_Precio máximo', 'PFCEMARGOS_Precio promedio ponderado', 'PFCEMARGOS_Precio mínimo', 'PFCEMARGOS_Variación absoluta', 'PFCEMARGOS_Variación porcentual', 'PFCEMARGOS_Cantidad', 'PFCEMARGOS_Volumen', 'PFCORFICOL_Nemotécnico', 'PFCORFICOL_Precio cierre', 'PFCORFICOL_Precio máximo', 'PFCORFICOL_Precio promedio ponderado', 'PFCORFICOL_Precio mínimo', 'PFCORFICOL_Variación absoluta', 'PFCORFICOL_Variación porcentual', 'PFCORFICOL_Cantidad', 'PFCORFICOL_Volumen', 'PFDAVVNDA_Nemotécnico', 'PFDAVVNDA_Precio cierre', 'PFDAVVNDA_Precio máximo', 'PFDAVVNDA_Precio promedio ponderado', 'PFDAVVNDA_Precio mínimo', 'PFDAVVNDA_Variación absoluta', 'PFDAVVNDA_Variación porcentual', 'PFDAVVNDA_Cantidad', 'PFDAVVNDA_Volumen', 'PFGRUPARG_Nemotécnico', 'PFGRUPARG_Precio cierre', 'PFGRUPARG_Precio máximo', 'PFGRUPARG_Precio promedio ponderado', 'PFGRUPARG_Precio mínimo', 'PFGRUPARG_Variación absoluta', 'PFGRUPARG_Variación porcentual', 'PFGRUPARG_Cantidad', 'PFGRUPARG_Volumen', 'PFGRUPOSURA_Nemotécnico', 'PFGRUPOSURA_Precio cierre', 'PFGRUPOSURA_Precio máximo', 'PFGRUPOSURA_Precio promedio ponderado', 'PFGRUPOSURA_Precio mínimo', 'PFGRUPOSURA_Variación absoluta', 'PFGRUPOSURA_Variación porcentual', 'PFGRUPOSURA_Cantidad', 'PFGRUPOSURA_Volumen', 'PROMIGAS_Nemotécnico', 'PROMIGAS_Precio cierre', 'PROMIGAS_Precio máximo', 'PROMIGAS_Precio promedio ponderado', 'PROMIGAS_Precio mínimo', 'PROMIGAS_Variación absoluta', 'PROMIGAS_Variación porcentual', 'PROMIGAS_Cantidad', 'PROMIGAS_Volumen', 'TERPEL_Nemotécnico', 'TERPEL_Precio cierre', 'TERPEL_Precio máximo', 'TERPEL_Precio promedio ponderado', 'TERPEL_Precio mínimo', 'TERPEL_Variación absoluta', 'TERPEL_Variación porcentual', 'TERPEL_Cantidad', 'TERPEL_Volumen']\n"
     ]
    }
   ],
   "source": [
    "df = pd.read_csv(\"Final_Merged_Data.csv\", sep=',', parse_dates=[\"Fecha\"])\n",
    "df.columns = df.columns.str.strip()\n",
    "# df.columns = df.columns.str.strip().str.replace(\" \", \"_\")  # Normalize column names\n",
    "print(df.columns.tolist())"
   ]
  },
  {
   "cell_type": "code",
   "execution_count": 30,
   "metadata": {},
   "outputs": [
    {
     "name": "stdout",
     "output_type": "stream",
     "text": [
      "📌 Historical Correlation with MSCI_COLCAP_Valor hoy\n",
      "BCOLOMBIA_Precio cierre      0.779579\n",
      "BHI_Precio cierre            0.811472\n",
      "BOGOTA_Precio cierre         0.056240\n",
      "BVC_Precio cierre            0.364766\n",
      "CELSIA_Precio cierre         0.482219\n",
      "CEMARGOS_Precio cierre       0.723116\n",
      "CNEC_Precio cierre          -0.430158\n",
      "CONCONCRETO_Precio cierre    0.462371\n",
      "CORFICOL_Precio cierre       0.198230\n",
      "ECOPETROL_Precio cierre      0.255429\n",
      "ENKA_Precio cierre           0.243141\n",
      "ETB_Precio cierre           -0.113854\n",
      "EXITO_Precio cierre          0.041040\n",
      "FABRICATO_Precio cierre      0.256540\n",
      "GEB_Precio cierre            0.661279\n",
      "GRUBOLIVAR_Precio cierre     0.622463\n",
      "GRUPOARGOS_Precio cierre     0.772573\n",
      "GRUPOAVAL_Precio cierre      0.006655\n",
      "GRUPOSURA_Precio cierre      0.364848\n",
      "GXTESCOL_Precio cierre       0.079429\n",
      "HCOLSEL_Precio cierre        0.927043\n",
      "ICOLCAP_Precio cierre        0.994108\n",
      "ISA_Precio cierre            0.521848\n",
      "MINEROS_Precio cierre        0.622661\n",
      "NUTRESA_Precio cierre        0.492422\n",
      "PEI_Precio cierre            0.642271\n",
      "PFAVAL_Precio cierre         0.272907\n",
      "PFBCOLOMBIA_Precio cierre    0.923526\n",
      "PFCEMARGOS_Precio cierre     0.628047\n",
      "PFCORFICOL_Precio cierre     0.259975\n",
      "PFDAVVNDA_Precio cierre      0.234340\n",
      "PFGRUPARG_Precio cierre      0.720629\n",
      "PFGRUPOSURA_Precio cierre    0.836139\n",
      "PROMIGAS_Precio cierre       0.499149\n",
      "TERPEL_Precio cierre         0.802802\n",
      "Name: MSCI_COLCAP_Valor hoy, dtype: float64\n",
      "\n",
      "📌 Monthly Correlation with MSCI_COLCAP_Valor hoy\n",
      "              Fecha  BCOLOMBIA_Precio cierre  BHI_Precio cierre  \\\n",
      "YearMonth                                                         \n",
      "2024-09   -0.502952                 0.601449          -0.055271   \n",
      "2024-10    0.824427                 0.927518           0.342642   \n",
      "2024-11    0.799381                 0.832900          -0.549955   \n",
      "2024-12   -0.365355                 0.757821           0.167488   \n",
      "2025-01    0.634973                 0.950209           0.198755   \n",
      "2025-02    0.929579                 0.965638           0.858792   \n",
      "2025-03    0.494771                 0.884529           0.253713   \n",
      "2025-04    0.207631                 0.801232           0.495148   \n",
      "2025-05   -0.256619                 0.849088          -0.367476   \n",
      "2025-06   -0.332588                 0.904698           0.341514   \n",
      "\n",
      "           BOGOTA_Precio cierre  BVC_Precio cierre  CELSIA_Precio cierre  \\\n",
      "YearMonth                                                                  \n",
      "2024-09                0.397117           0.598044              0.755585   \n",
      "2024-10                0.445170          -0.399590             -0.451120   \n",
      "2024-11               -0.130573          -0.272559             -0.468979   \n",
      "2024-12                0.459274           0.202125              0.195644   \n",
      "2025-01                0.849637           0.896351             -0.274657   \n",
      "2025-02                0.839961           0.548603              0.829080   \n",
      "2025-03                0.483338           0.609753              0.657937   \n",
      "2025-04                0.787247          -0.509692             -0.252217   \n",
      "2025-05                0.189985          -0.082445              0.222582   \n",
      "2025-06                0.131252          -0.430015              0.148506   \n",
      "\n",
      "           CEMARGOS_Precio cierre  CNEC_Precio cierre  \\\n",
      "YearMonth                                               \n",
      "2024-09                  0.447425            0.850588   \n",
      "2024-10                  0.731215           -0.736947   \n",
      "2024-11                  0.881931            0.907515   \n",
      "2024-12                 -0.100604            0.470993   \n",
      "2025-01                  0.095396           -0.118249   \n",
      "2025-02                 -0.131747            0.004128   \n",
      "2025-03                  0.466271            0.468122   \n",
      "2025-04                  0.625241           -0.060430   \n",
      "2025-05                  0.286665            0.342600   \n",
      "2025-06                  0.778098           -0.142644   \n",
      "\n",
      "           CONCONCRETO_Precio cierre  CORFICOL_Precio cierre  ...  \\\n",
      "YearMonth                                                     ...   \n",
      "2024-09                     0.811737                0.460144  ...   \n",
      "2024-10                     0.606750                0.922400  ...   \n",
      "2024-11                     0.474862                0.384815  ...   \n",
      "2024-12                    -0.447199                0.040037  ...   \n",
      "2025-01                     0.288590                0.777850  ...   \n",
      "2025-02                    -0.895794                0.932803  ...   \n",
      "2025-03                    -0.340263               -0.345264  ...   \n",
      "2025-04                     0.585915                0.738265  ...   \n",
      "2025-05                     0.156998                0.164435  ...   \n",
      "2025-06                     0.043642                0.346792  ...   \n",
      "\n",
      "           PEI_Precio cierre  PFAVAL_Precio cierre  PFBCOLOMBIA_Precio cierre  \\\n",
      "YearMonth                                                                       \n",
      "2024-09             0.101458                   NaN                   0.935086   \n",
      "2024-10            -0.024499                   NaN                   0.936615   \n",
      "2024-11             0.839142                   NaN                   0.886927   \n",
      "2024-12             0.176046                   NaN                   0.733177   \n",
      "2025-01             0.459825                   NaN                   0.958455   \n",
      "2025-02            -0.412043                   NaN                   0.974987   \n",
      "2025-03            -0.275996                   NaN                   0.777506   \n",
      "2025-04             0.380882                   NaN                   0.953362   \n",
      "2025-05             0.533451                   NaN                   0.512444   \n",
      "2025-06            -0.104985                   NaN                   0.770860   \n",
      "\n",
      "           PFCEMARGOS_Precio cierre  PFCORFICOL_Precio cierre  \\\n",
      "YearMonth                                                       \n",
      "2024-09                    0.475122                  0.281385   \n",
      "2024-10                   -0.568482                  0.935300   \n",
      "2024-11                    0.777639                  0.467570   \n",
      "2024-12                    0.135863                  0.264960   \n",
      "2025-01                   -0.111791                  0.792927   \n",
      "2025-02                   -0.488419                  0.863826   \n",
      "2025-03                   -0.605613                  0.053921   \n",
      "2025-04                    0.293190                  0.724100   \n",
      "2025-05                    0.161061                 -0.058616   \n",
      "2025-06                    0.317903                  0.236579   \n",
      "\n",
      "           PFDAVVNDA_Precio cierre  PFGRUPARG_Precio cierre  \\\n",
      "YearMonth                                                     \n",
      "2024-09                  -0.355588                 0.383852   \n",
      "2024-10                   0.549110                 0.956987   \n",
      "2024-11                   0.733884                 0.775256   \n",
      "2024-12                   0.314783                -0.265076   \n",
      "2025-01                   0.601613                -0.014430   \n",
      "2025-02                   0.938076                 0.890935   \n",
      "2025-03                   0.543523                -0.190793   \n",
      "2025-04                   0.521404                 0.306273   \n",
      "2025-05                   0.619424                 0.059441   \n",
      "2025-06                   0.348618                 0.644623   \n",
      "\n",
      "           PFGRUPOSURA_Precio cierre  PROMIGAS_Precio cierre  \\\n",
      "YearMonth                                                      \n",
      "2024-09                     0.666731               -0.060351   \n",
      "2024-10                     0.834580               -0.217440   \n",
      "2024-11                     0.054045               -0.045059   \n",
      "2024-12                    -0.115372               -0.048672   \n",
      "2025-01                     0.956589               -0.685147   \n",
      "2025-02                     0.922473                0.076774   \n",
      "2025-03                     0.100546               -0.171147   \n",
      "2025-04                    -0.163864               -0.123677   \n",
      "2025-05                     0.233821                0.545555   \n",
      "2025-06                     0.437853                0.389389   \n",
      "\n",
      "           TERPEL_Precio cierre  \n",
      "YearMonth                        \n",
      "2024-09               -0.464573  \n",
      "2024-10                0.755205  \n",
      "2024-11                0.907949  \n",
      "2024-12               -0.078926  \n",
      "2025-01                0.020825  \n",
      "2025-02                0.788476  \n",
      "2025-03                0.110226  \n",
      "2025-04                0.620450  \n",
      "2025-05               -0.270615  \n",
      "2025-06               -0.419071  \n",
      "\n",
      "[10 rows x 36 columns]\n"
     ]
    },
    {
     "name": "stderr",
     "output_type": "stream",
     "text": [
      "C:\\Users\\ACER\\AppData\\Local\\Temp\\ipykernel_15264\\4085310268.py:24: FutureWarning: DataFrame.fillna with 'method' is deprecated and will raise in a future version. Use obj.ffill() or obj.bfill() instead.\n",
      "  df_close.fillna(method='ffill', inplace=True)  # Fill forward\n",
      "C:\\Users\\ACER\\AppData\\Local\\Temp\\ipykernel_15264\\4085310268.py:25: FutureWarning: DataFrame.fillna with 'method' is deprecated and will raise in a future version. Use obj.ffill() or obj.bfill() instead.\n",
      "  df_close.fillna(method='bfill', inplace=True)  # Fill backward\n"
     ]
    }
   ],
   "source": [
    "import pandas as pd\n",
    "\n",
    "# Load the merged DataFrame\n",
    "df = pd.read_csv(\"Final_Merged_Data.csv\", sep=',', parse_dates=[\"Fecha\"])\n",
    "\n",
    "# Select only 'Close' price columns and 'COLCAP_Valor hoy'\n",
    "close_cols = [col for col in df.columns if \"cierre\" in col.lower() or col == 'MSCI_COLCAP_Valor hoy']\n",
    "# Create a DataFrame with only 'Date', 'Close Price' columns, and 'COLCAP_Valor hoy'\n",
    "df_close = df[[\"Fecha\"] + close_cols].copy()\n",
    "\n",
    "# Ensure 'Date' column is in datetime format\n",
    "df_close[\"Fecha\"] = pd.to_datetime(df_close[\"Fecha\"])\n",
    "\n",
    "# Create 'YearMonth' column for grouping\n",
    "df_close[\"YearMonth\"] = df_close[\"Fecha\"].dt.to_period(\"M\")\n",
    "\n",
    "# Drop 'Date' and 'YearMonth' before correlation calculations\n",
    "df_corr = df_close.drop(columns=[\"Fecha\", \"YearMonth\"])\n",
    "\n",
    "# Compute monthly correlation and keep it as a DataFrame\n",
    "monthly_corr = df_close.groupby(\"YearMonth\").corr()\n",
    "\n",
    "# Handle missing data by forward-filling, then back-filling\n",
    "df_close.fillna(method='ffill', inplace=True)  # Fill forward\n",
    "df_close.fillna(method='bfill', inplace=True)  # Fill backward\n",
    "\n",
    "# Select the specific stock for correlation analysis\n",
    "target_stock = \"MSCI_COLCAP_Valor hoy\"  # Replace with your chosen stock column name\n",
    "\n",
    "# **1️⃣ Calculate Historical Correlation (Full Period)**\n",
    "historical_corr = df_corr.corr()[target_stock].drop(target_stock, errors=\"ignore\")\n",
    "# **2️⃣ Calculate Monthly Correlation**\n",
    "monthly_corr = monthly_corr.xs(target_stock, level=1, axis=0)\n",
    "\n",
    "# Drop self-correlation if needed\n",
    "monthly_corr = monthly_corr.drop(target_stock, axis=1, errors=\"ignore\")\n",
    "\n",
    "# Save results\n",
    "historical_corr.to_csv(\"Historical_Correlation.csv\")\n",
    "monthly_corr.to_csv(\"Monthly_Correlation.csv\")\n",
    "\n",
    "# Display results\n",
    "print(\"📌 Historical Correlation with\", target_stock)\n",
    "print(historical_corr)\n",
    "\n",
    "print(\"\\n📌 Monthly Correlation with\", target_stock)\n",
    "print(monthly_corr.tail(10))  # Show last 10 months\n"
   ]
  },
  {
   "cell_type": "markdown",
   "metadata": {},
   "source": [
    "### I created a table with the correlations of the last 5, 30, 90, 180 and 252 days"
   ]
  },
  {
   "cell_type": "code",
   "execution_count": 31,
   "metadata": {},
   "outputs": [
    {
     "name": "stderr",
     "output_type": "stream",
     "text": [
      "C:\\Users\\ACER\\AppData\\Local\\Temp\\ipykernel_15264\\3026403410.py:13: FutureWarning: DataFrame.fillna with 'method' is deprecated and will raise in a future version. Use obj.ffill() or obj.bfill() instead.\n",
      "  df_close.fillna(method=\"ffill\", inplace=True)\n",
      "C:\\Users\\ACER\\AppData\\Local\\Temp\\ipykernel_15264\\3026403410.py:14: FutureWarning: DataFrame.fillna with 'method' is deprecated and will raise in a future version. Use obj.ffill() or obj.bfill() instead.\n",
      "  df_close.fillna(method=\"bfill\", inplace=True)\n"
     ]
    },
    {
     "name": "stdout",
     "output_type": "stream",
     "text": [
      "\n",
      "Rolling correlation for 5 days:\n",
      "            BCOLOMBIA_Precio cierre  BHI_Precio cierre  BOGOTA_Precio cierre  \\\n",
      "Fecha                                                                          \n",
      "2025-06-12                 0.949961          -0.160398              0.119957   \n",
      "2025-06-13                 0.936286          -0.307706              0.025492   \n",
      "2025-06-16                 0.963581           0.795822              0.286967   \n",
      "\n",
      "            BVC_Precio cierre  CELSIA_Precio cierre  CEMARGOS_Precio cierre  \\\n",
      "Fecha                                                                         \n",
      "2025-06-12          -0.588200              0.704356                0.752158   \n",
      "2025-06-13          -0.849035              0.864862                0.841317   \n",
      "2025-06-16                NaN              0.552298                0.925665   \n",
      "\n",
      "            CNEC_Precio cierre  CONCONCRETO_Precio cierre  \\\n",
      "Fecha                                                       \n",
      "2025-06-12           -0.457543                   0.075712   \n",
      "2025-06-13           -0.689409                   0.286444   \n",
      "2025-06-16           -0.279473                   0.269241   \n",
      "\n",
      "            CORFICOL_Precio cierre  ECOPETROL_Precio cierre  ...  \\\n",
      "Fecha                                                        ...   \n",
      "2025-06-12               -0.190814                 0.617528  ...   \n",
      "2025-06-13               -0.183464                 0.604041  ...   \n",
      "2025-06-16                0.652771                -0.185437  ...   \n",
      "\n",
      "            PEI_Precio cierre  PFAVAL_Precio cierre  \\\n",
      "Fecha                                                 \n",
      "2025-06-12           0.447982                   NaN   \n",
      "2025-06-13           0.244861                  -inf   \n",
      "2025-06-16          -0.033511                   NaN   \n",
      "\n",
      "            PFBCOLOMBIA_Precio cierre  PFCEMARGOS_Precio cierre  \\\n",
      "Fecha                                                             \n",
      "2025-06-12                   0.976450                  0.588200   \n",
      "2025-06-13                   0.975621                  0.849035   \n",
      "2025-06-16                   0.981160                       NaN   \n",
      "\n",
      "            PFCORFICOL_Precio cierre  PFDAVVNDA_Precio cierre  \\\n",
      "Fecha                                                           \n",
      "2025-06-12                  0.015491                -0.544837   \n",
      "2025-06-13                 -0.077132                -0.401394   \n",
      "2025-06-16                 -0.315238                 0.869345   \n",
      "\n",
      "            PFGRUPARG_Precio cierre  PFGRUPOSURA_Precio cierre  \\\n",
      "Fecha                                                            \n",
      "2025-06-12                 0.301581                   0.779866   \n",
      "2025-06-13                 0.240778                   0.823139   \n",
      "2025-06-16                 0.528891                   0.376293   \n",
      "\n",
      "            PROMIGAS_Precio cierre  TERPEL_Precio cierre  \n",
      "Fecha                                                     \n",
      "2025-06-12                0.307438             -0.236282  \n",
      "2025-06-13                0.373515             -0.198496  \n",
      "2025-06-16               -0.431604             -0.789800  \n",
      "\n",
      "[3 rows x 36 columns]\n",
      "\n",
      "Rolling correlation for 30 days:\n",
      "            BCOLOMBIA_Precio cierre  BHI_Precio cierre  BOGOTA_Precio cierre  \\\n",
      "Fecha                                                                          \n",
      "2025-06-12                 0.812748          -0.243533              0.207193   \n",
      "2025-06-13                 0.804805          -0.259997              0.159760   \n",
      "2025-06-16                 0.811820          -0.296620              0.120708   \n",
      "\n",
      "            BVC_Precio cierre  CELSIA_Precio cierre  CEMARGOS_Precio cierre  \\\n",
      "Fecha                                                                         \n",
      "2025-06-12          -0.164570              0.197933                0.294562   \n",
      "2025-06-13          -0.113823              0.145061                0.316422   \n",
      "2025-06-16          -0.067961              0.061603                0.369252   \n",
      "\n",
      "            CNEC_Precio cierre  CONCONCRETO_Precio cierre  \\\n",
      "Fecha                                                       \n",
      "2025-06-12            0.272670                   0.178059   \n",
      "2025-06-13            0.316707                   0.135038   \n",
      "2025-06-16            0.364500                   0.093571   \n",
      "\n",
      "            CORFICOL_Precio cierre  ECOPETROL_Precio cierre  ...  \\\n",
      "Fecha                                                        ...   \n",
      "2025-06-12                0.173883                 0.289708  ...   \n",
      "2025-06-13                0.116076                 0.217843  ...   \n",
      "2025-06-16                0.123172                 0.108259  ...   \n",
      "\n",
      "            PEI_Precio cierre  PFAVAL_Precio cierre  \\\n",
      "Fecha                                                 \n",
      "2025-06-12           0.376559                   NaN   \n",
      "2025-06-13           0.430053                  -inf   \n",
      "2025-06-16           0.467877                   NaN   \n",
      "\n",
      "            PFBCOLOMBIA_Precio cierre  PFCEMARGOS_Precio cierre  \\\n",
      "Fecha                                                             \n",
      "2025-06-12                   0.430134                  0.089674   \n",
      "2025-06-13                   0.416849                  0.091383   \n",
      "2025-06-16                   0.426580                  0.013215   \n",
      "\n",
      "            PFCORFICOL_Precio cierre  PFDAVVNDA_Precio cierre  \\\n",
      "Fecha                                                           \n",
      "2025-06-12                 -0.053792                 0.572952   \n",
      "2025-06-13                 -0.012245                 0.548951   \n",
      "2025-06-16                  0.045636                 0.581134   \n",
      "\n",
      "            PFGRUPARG_Precio cierre  PFGRUPOSURA_Precio cierre  \\\n",
      "Fecha                                                            \n",
      "2025-06-12                 0.123040                   0.303105   \n",
      "2025-06-13                 0.104544                   0.283503   \n",
      "2025-06-16                 0.150357                   0.259326   \n",
      "\n",
      "            PROMIGAS_Precio cierre  TERPEL_Precio cierre  \n",
      "Fecha                                                     \n",
      "2025-06-12                0.499858             -0.187384  \n",
      "2025-06-13                0.476779             -0.255863  \n",
      "2025-06-16                0.465790             -0.322359  \n",
      "\n",
      "[3 rows x 36 columns]\n",
      "\n",
      "Rolling correlation for 90 days:\n",
      "            BCOLOMBIA_Precio cierre  BHI_Precio cierre  BOGOTA_Precio cierre  \\\n",
      "Fecha                                                                          \n",
      "2025-06-12                 0.895555           0.634242              0.800554   \n",
      "2025-06-13                 0.891780           0.626214              0.802351   \n",
      "2025-06-16                 0.888161           0.610606              0.798479   \n",
      "\n",
      "            BVC_Precio cierre  CELSIA_Precio cierre  CEMARGOS_Precio cierre  \\\n",
      "Fecha                                                                         \n",
      "2025-06-12           0.202189              0.679364                0.243132   \n",
      "2025-06-13           0.182003              0.677125                0.246205   \n",
      "2025-06-16           0.141999              0.670663                0.247571   \n",
      "\n",
      "            CNEC_Precio cierre  CONCONCRETO_Precio cierre  \\\n",
      "Fecha                                                       \n",
      "2025-06-12           -0.586135                  -0.617873   \n",
      "2025-06-13           -0.583864                  -0.597477   \n",
      "2025-06-16           -0.583907                  -0.573793   \n",
      "\n",
      "            CORFICOL_Precio cierre  ECOPETROL_Precio cierre  ...  \\\n",
      "Fecha                                                        ...   \n",
      "2025-06-12                0.227814                -0.375872  ...   \n",
      "2025-06-13                0.236836                -0.377991  ...   \n",
      "2025-06-16                0.248774                -0.379759  ...   \n",
      "\n",
      "            PEI_Precio cierre  PFAVAL_Precio cierre  \\\n",
      "Fecha                                                 \n",
      "2025-06-12           0.036356                   inf   \n",
      "2025-06-13           0.036944                  -inf   \n",
      "2025-06-16           0.008198                   inf   \n",
      "\n",
      "            PFBCOLOMBIA_Precio cierre  PFCEMARGOS_Precio cierre  \\\n",
      "Fecha                                                             \n",
      "2025-06-12                   0.822379                 -0.244236   \n",
      "2025-06-13                   0.821091                 -0.211370   \n",
      "2025-06-16                   0.811859                 -0.176248   \n",
      "\n",
      "            PFCORFICOL_Precio cierre  PFDAVVNDA_Precio cierre  \\\n",
      "Fecha                                                           \n",
      "2025-06-12                  0.432723                 0.820833   \n",
      "2025-06-13                  0.393876                 0.820701   \n",
      "2025-06-16                  0.355074                 0.819570   \n",
      "\n",
      "            PFGRUPARG_Precio cierre  PFGRUPOSURA_Precio cierre  \\\n",
      "Fecha                                                            \n",
      "2025-06-12                 0.696924                   0.733939   \n",
      "2025-06-13                 0.688458                   0.717859   \n",
      "2025-06-16                 0.671579                   0.691962   \n",
      "\n",
      "            PROMIGAS_Precio cierre  TERPEL_Precio cierre  \n",
      "Fecha                                                     \n",
      "2025-06-12               -0.306594             -0.088788  \n",
      "2025-06-13               -0.271616             -0.080641  \n",
      "2025-06-16               -0.239568             -0.074801  \n",
      "\n",
      "[3 rows x 36 columns]\n",
      "\n",
      "Rolling correlation for 180 days:\n",
      "            BCOLOMBIA_Precio cierre  BHI_Precio cierre  BOGOTA_Precio cierre  \\\n",
      "Fecha                                                                          \n",
      "2025-06-12                 0.976023           0.663406              0.913735   \n",
      "2025-06-13                 0.976001           0.665149              0.915880   \n",
      "2025-06-16                 0.975986           0.667131              0.917544   \n",
      "\n",
      "            BVC_Precio cierre  CELSIA_Precio cierre  CEMARGOS_Precio cierre  \\\n",
      "Fecha                                                                         \n",
      "2025-06-12           0.884810              0.547638                0.743524   \n",
      "2025-06-13           0.886144              0.555516                0.741161   \n",
      "2025-06-16           0.887285              0.561344                0.738613   \n",
      "\n",
      "            CNEC_Precio cierre  CONCONCRETO_Precio cierre  \\\n",
      "Fecha                                                       \n",
      "2025-06-12           -0.395763                   0.557657   \n",
      "2025-06-13           -0.406662                   0.552346   \n",
      "2025-06-16           -0.413127                   0.547299   \n",
      "\n",
      "            CORFICOL_Precio cierre  ECOPETROL_Precio cierre  ...  \\\n",
      "Fecha                                                        ...   \n",
      "2025-06-12                0.838455                 0.444171  ...   \n",
      "2025-06-13                0.837354                 0.452097  ...   \n",
      "2025-06-16                0.837231                 0.458126  ...   \n",
      "\n",
      "            PEI_Precio cierre  PFAVAL_Precio cierre  \\\n",
      "Fecha                                                 \n",
      "2025-06-12           0.489480                  -inf   \n",
      "2025-06-13           0.493774                  -inf   \n",
      "2025-06-16           0.492064                  -inf   \n",
      "\n",
      "            PFBCOLOMBIA_Precio cierre  PFCEMARGOS_Precio cierre  \\\n",
      "Fecha                                                             \n",
      "2025-06-12                   0.983337                  0.626344   \n",
      "2025-06-13                   0.983277                  0.623529   \n",
      "2025-06-16                   0.983216                  0.620896   \n",
      "\n",
      "            PFCORFICOL_Precio cierre  PFDAVVNDA_Precio cierre  \\\n",
      "Fecha                                                           \n",
      "2025-06-12                  0.915550                 0.843951   \n",
      "2025-06-13                  0.914333                 0.845901   \n",
      "2025-06-16                  0.914352                 0.846781   \n",
      "\n",
      "            PFGRUPARG_Precio cierre  PFGRUPOSURA_Precio cierre  \\\n",
      "Fecha                                                            \n",
      "2025-06-12                 0.886089                   0.972832   \n",
      "2025-06-13                 0.885690                   0.972704   \n",
      "2025-06-16                 0.885735                   0.972635   \n",
      "\n",
      "            PROMIGAS_Precio cierre  TERPEL_Precio cierre  \n",
      "Fecha                                                     \n",
      "2025-06-12               -0.925041              0.688261  \n",
      "2025-06-13               -0.924744              0.686793  \n",
      "2025-06-16               -0.924471              0.685434  \n",
      "\n",
      "[3 rows x 36 columns]\n",
      "\n",
      "Rolling correlation for 252 days:\n",
      "            BCOLOMBIA_Precio cierre  BHI_Precio cierre  BOGOTA_Precio cierre  \\\n",
      "Fecha                                                                          \n",
      "2025-06-12                 0.967757           0.661287              0.880251   \n",
      "2025-06-13                 0.968677           0.666950              0.881404   \n",
      "2025-06-16                 0.969536           0.675387              0.882262   \n",
      "\n",
      "            BVC_Precio cierre  CELSIA_Precio cierre  CEMARGOS_Precio cierre  \\\n",
      "Fecha                                                                         \n",
      "2025-06-12           0.791743              0.229030                0.802541   \n",
      "2025-06-13           0.792373              0.243350                0.803818   \n",
      "2025-06-16           0.793098              0.255922                0.804952   \n",
      "\n",
      "            CNEC_Precio cierre  CONCONCRETO_Precio cierre  \\\n",
      "Fecha                                                       \n",
      "2025-06-12           -0.518120                   0.677387   \n",
      "2025-06-13           -0.523649                   0.677493   \n",
      "2025-06-16           -0.528320                   0.677668   \n",
      "\n",
      "            CORFICOL_Precio cierre  ECOPETROL_Precio cierre  ...  \\\n",
      "Fecha                                                        ...   \n",
      "2025-06-12                0.873875                -0.052842  ...   \n",
      "2025-06-13                0.874376                -0.048679  ...   \n",
      "2025-06-16                0.874936                -0.045926  ...   \n",
      "\n",
      "            PEI_Precio cierre  PFAVAL_Precio cierre  \\\n",
      "Fecha                                                 \n",
      "2025-06-12          -0.080540                  -inf   \n",
      "2025-06-13          -0.081827                   inf   \n",
      "2025-06-16          -0.082049                   NaN   \n",
      "\n",
      "            PFBCOLOMBIA_Precio cierre  PFCEMARGOS_Precio cierre  \\\n",
      "Fecha                                                             \n",
      "2025-06-12                   0.979695                  0.712385   \n",
      "2025-06-13                   0.980170                  0.714438   \n",
      "2025-06-16                   0.980475                  0.716590   \n",
      "\n",
      "            PFCORFICOL_Precio cierre  PFDAVVNDA_Precio cierre  \\\n",
      "Fecha                                                           \n",
      "2025-06-12                  0.919441                 0.827237   \n",
      "2025-06-13                  0.919583                 0.831736   \n",
      "2025-06-16                  0.920079                 0.835508   \n",
      "\n",
      "            PFGRUPARG_Precio cierre  PFGRUPOSURA_Precio cierre  \\\n",
      "Fecha                                                            \n",
      "2025-06-12                 0.887484                   0.977464   \n",
      "2025-06-13                 0.889055                   0.977641   \n",
      "2025-06-16                 0.890359                   0.977841   \n",
      "\n",
      "            PROMIGAS_Precio cierre  TERPEL_Precio cierre  \n",
      "Fecha                                                     \n",
      "2025-06-12               -0.853577              0.727329  \n",
      "2025-06-13               -0.855326              0.729473  \n",
      "2025-06-16               -0.857076              0.731508  \n",
      "\n",
      "[3 rows x 36 columns]\n",
      "                             5 days   30 days   90 days  180 days  252 days\n",
      "BCOLOMBIA_Precio cierre    0.963581  0.811820  0.888161  0.975986  0.969536\n",
      "BHI_Precio cierre          0.795822 -0.296620  0.610606  0.667131  0.675387\n",
      "BOGOTA_Precio cierre       0.286967  0.120708  0.798479  0.917544  0.882262\n",
      "BVC_Precio cierre               NaN -0.067961  0.141999  0.887285  0.793098\n",
      "CELSIA_Precio cierre       0.552298  0.061603  0.670663  0.561344  0.255922\n",
      "CEMARGOS_Precio cierre     0.925665  0.369252  0.247571  0.738613  0.804952\n",
      "CNEC_Precio cierre        -0.279473  0.364500 -0.583907 -0.413127 -0.528320\n",
      "CONCONCRETO_Precio cierre  0.269241  0.093571 -0.573793  0.547299  0.677668\n",
      "CORFICOL_Precio cierre     0.652771  0.123172  0.248774  0.837231  0.874936\n",
      "ECOPETROL_Precio cierre   -0.185437  0.108259 -0.379759  0.458126 -0.045926\n",
      "ENKA_Precio cierre         0.891251  0.159598  0.495454  0.855318  0.807243\n",
      "ETB_Precio cierre               NaN -0.261500 -0.466380 -0.922987 -0.862408\n",
      "EXITO_Precio cierre        0.147967 -0.263874  0.419372 -0.228362 -0.320147\n",
      "FABRICATO_Precio cierre         NaN       inf  0.676234 -0.391358 -0.602328\n",
      "GEB_Precio cierre          0.634649  0.085794  0.803977  0.924639  0.929779\n",
      "GRUBOLIVAR_Precio cierre  -0.386778  0.375908  0.504471  0.872782  0.876217\n",
      "GRUPOARGOS_Precio cierre   0.870040  0.161310  0.755147  0.866967  0.821950\n",
      "GRUPOAVAL_Precio cierre         NaN      -inf       inf       NaN       inf\n",
      "GRUPOSURA_Precio cierre   -0.680430 -0.100730  0.829715  0.924511  0.934224\n",
      "GXTESCOL_Precio cierre     0.673211 -0.038127  0.170574 -0.343770 -0.054765\n",
      "HCOLSEL_Precio cierre      0.594800  0.247799  0.881856  0.986167  0.988343\n",
      "ICOLCAP_Precio cierre      0.485877  0.863616  0.843297  0.989831  0.991719\n",
      "ISA_Precio cierre          0.679656  0.531425  0.734906  0.868111  0.846646\n",
      "MINEROS_Precio cierre           NaN  0.061595  0.710157  0.915767  0.925967\n",
      "NUTRESA_Precio cierre           NaN -0.261505  0.750049  0.971936  0.921127\n",
      "PEI_Precio cierre         -0.033511  0.467877  0.008198  0.492064 -0.082049\n",
      "PFAVAL_Precio cierre            NaN       NaN       inf      -inf       NaN\n",
      "PFBCOLOMBIA_Precio cierre  0.981160  0.426580  0.811859  0.983216  0.980475\n",
      "PFCEMARGOS_Precio cierre        NaN  0.013215 -0.176248  0.620896  0.716590\n",
      "PFCORFICOL_Precio cierre  -0.315238  0.045636  0.355074  0.914352  0.920079\n",
      "PFDAVVNDA_Precio cierre    0.869345  0.581134  0.819570  0.846781  0.835508\n",
      "PFGRUPARG_Precio cierre    0.528891  0.150357  0.671579  0.885735  0.890359\n",
      "PFGRUPOSURA_Precio cierre  0.376293  0.259326  0.691962  0.972635  0.977841\n",
      "PROMIGAS_Precio cierre    -0.431604  0.465790 -0.239568 -0.924471 -0.857076\n",
      "TERPEL_Precio cierre      -0.789800 -0.322359 -0.074801  0.685434  0.731508\n"
     ]
    }
   ],
   "source": [
    "# Load the merged DataFrame\n",
    "df = pd.read_csv(\"Final_Merged_Data.csv\", parse_dates=[\"Fecha\"])\n",
    "\n",
    "# Define target stock (COLCAP index)\n",
    "target_stock = \"MSCI_COLCAP_Valor hoy\"\n",
    "\n",
    "# Filter only 'cierre' and target stock columns\n",
    "close_cols = [col for col in df.columns if \"cierre\" in col.lower() or col == target_stock]\n",
    "df_close = df[[\"Fecha\"] + close_cols].copy()\n",
    "\n",
    "# Preprocessing: Fill missing values\n",
    "df_close.sort_values(\"Fecha\", inplace=True)\n",
    "df_close.fillna(method=\"ffill\", inplace=True)\n",
    "df_close.fillna(method=\"bfill\", inplace=True)\n",
    "\n",
    "# Set date as index\n",
    "df_close.set_index(\"Fecha\", inplace=True)\n",
    "\n",
    "# Define rolling windows in trading days\n",
    "windows = {\n",
    "    \"5 days\": 5,\n",
    "    \"30 days\": 30,\n",
    "    \"90 days\": 90,\n",
    "    \"180 days\": 180,\n",
    "    \"252 days\": 252,\n",
    "}\n",
    "\n",
    "# Dictionary to collect correlation results\n",
    "rolling_corrs = {}\n",
    "\n",
    "# Iterate and calculate rolling correlations\n",
    "for label, window in windows.items():\n",
    "    rolling_corr = df_close.rolling(window).corr(df_close[target_stock])\n",
    "    print(f\"\\nRolling correlation for {label}:\")\n",
    "    print(rolling_corr.tail(3))\n",
    "    \n",
    "    # Get latest correlation (safely)\n",
    "    try:\n",
    "        latest_corr = rolling_corr.loc[df_close.index.max()]\n",
    "        if isinstance(latest_corr, pd.Series):\n",
    "            rolling_corrs[label] = latest_corr.drop(target_stock, errors=\"ignore\")\n",
    "    except KeyError:\n",
    "        print(f\"⚠️ Skipping {label} due to missing data\")\n",
    "\n",
    "# Combine results into DataFrame\n",
    "rolling_corrs_df = pd.DataFrame(rolling_corrs)\n",
    "\n",
    "# Display or save\n",
    "rolling_corrs_df.to_csv(\"Rolling_Correlations.csv\")\n",
    "print(rolling_corrs_df)\n"
   ]
  },
  {
   "cell_type": "code",
   "execution_count": 32,
   "metadata": {},
   "outputs": [
    {
     "name": "stdout",
     "output_type": "stream",
     "text": [
      "\n",
      "📌 Monthly Correlation with MSCI_COLCAP_Valor hoy\n",
      "              Fecha  BCOLOMBIA_Precio cierre  BHI_Precio cierre  \\\n",
      "YearMonth                                                         \n",
      "2024-09   -0.502952                 0.601449          -0.055271   \n",
      "2024-10    0.824427                 0.927518           0.342642   \n",
      "2024-11    0.799381                 0.832900          -0.549955   \n",
      "2024-12   -0.365355                 0.757821           0.167488   \n",
      "2025-01    0.634973                 0.950209           0.198755   \n",
      "2025-02    0.929579                 0.965638           0.858792   \n",
      "2025-03    0.494771                 0.884529           0.253713   \n",
      "2025-04    0.207631                 0.801232           0.495148   \n",
      "2025-05   -0.256619                 0.849088          -0.367476   \n",
      "2025-06   -0.332588                 0.904698           0.341514   \n",
      "\n",
      "           BOGOTA_Precio cierre  BVC_Precio cierre  CELSIA_Precio cierre  \\\n",
      "YearMonth                                                                  \n",
      "2024-09                0.397117           0.598044              0.755585   \n",
      "2024-10                0.445170          -0.399590             -0.451120   \n",
      "2024-11               -0.130573          -0.272559             -0.468979   \n",
      "2024-12                0.459274           0.202125              0.195644   \n",
      "2025-01                0.849637           0.896351             -0.274657   \n",
      "2025-02                0.839961           0.548603              0.829080   \n",
      "2025-03                0.483338           0.609753              0.657937   \n",
      "2025-04                0.787247          -0.509692             -0.252217   \n",
      "2025-05                0.189985          -0.082445              0.222582   \n",
      "2025-06                0.131252          -0.430015              0.148506   \n",
      "\n",
      "           CEMARGOS_Precio cierre  CNEC_Precio cierre  \\\n",
      "YearMonth                                               \n",
      "2024-09                  0.447425            0.850588   \n",
      "2024-10                  0.731215           -0.736947   \n",
      "2024-11                  0.881931            0.907515   \n",
      "2024-12                 -0.100604            0.470993   \n",
      "2025-01                  0.095396           -0.118249   \n",
      "2025-02                 -0.131747            0.004128   \n",
      "2025-03                  0.466271            0.468122   \n",
      "2025-04                  0.625241           -0.060430   \n",
      "2025-05                  0.286665            0.342600   \n",
      "2025-06                  0.778098           -0.142644   \n",
      "\n",
      "           CONCONCRETO_Precio cierre  CORFICOL_Precio cierre  ...  \\\n",
      "YearMonth                                                     ...   \n",
      "2024-09                     0.811737                0.460144  ...   \n",
      "2024-10                     0.606750                0.922400  ...   \n",
      "2024-11                     0.474862                0.384815  ...   \n",
      "2024-12                    -0.447199                0.040037  ...   \n",
      "2025-01                     0.288590                0.777850  ...   \n",
      "2025-02                    -0.895794                0.932803  ...   \n",
      "2025-03                    -0.340263               -0.345264  ...   \n",
      "2025-04                     0.585915                0.738265  ...   \n",
      "2025-05                     0.156998                0.164435  ...   \n",
      "2025-06                     0.043642                0.346792  ...   \n",
      "\n",
      "           PEI_Precio cierre  PFAVAL_Precio cierre  PFBCOLOMBIA_Precio cierre  \\\n",
      "YearMonth                                                                       \n",
      "2024-09             0.101458                   NaN                   0.935086   \n",
      "2024-10            -0.024499                   NaN                   0.936615   \n",
      "2024-11             0.839142                   NaN                   0.886927   \n",
      "2024-12             0.176046                   NaN                   0.733177   \n",
      "2025-01             0.459825                   NaN                   0.958455   \n",
      "2025-02            -0.412043                   NaN                   0.974987   \n",
      "2025-03            -0.275996                   NaN                   0.777506   \n",
      "2025-04             0.380882                   NaN                   0.953362   \n",
      "2025-05             0.533451                   NaN                   0.512444   \n",
      "2025-06            -0.104985                   NaN                   0.770860   \n",
      "\n",
      "           PFCEMARGOS_Precio cierre  PFCORFICOL_Precio cierre  \\\n",
      "YearMonth                                                       \n",
      "2024-09                    0.475122                  0.281385   \n",
      "2024-10                   -0.568482                  0.935300   \n",
      "2024-11                    0.777639                  0.467570   \n",
      "2024-12                    0.135863                  0.264960   \n",
      "2025-01                   -0.111791                  0.792927   \n",
      "2025-02                   -0.488419                  0.863826   \n",
      "2025-03                   -0.605613                  0.053921   \n",
      "2025-04                    0.293190                  0.724100   \n",
      "2025-05                    0.161061                 -0.058616   \n",
      "2025-06                    0.317903                  0.236579   \n",
      "\n",
      "           PFDAVVNDA_Precio cierre  PFGRUPARG_Precio cierre  \\\n",
      "YearMonth                                                     \n",
      "2024-09                  -0.355588                 0.383852   \n",
      "2024-10                   0.549110                 0.956987   \n",
      "2024-11                   0.733884                 0.775256   \n",
      "2024-12                   0.314783                -0.265076   \n",
      "2025-01                   0.601613                -0.014430   \n",
      "2025-02                   0.938076                 0.890935   \n",
      "2025-03                   0.543523                -0.190793   \n",
      "2025-04                   0.521404                 0.306273   \n",
      "2025-05                   0.619424                 0.059441   \n",
      "2025-06                   0.348618                 0.644623   \n",
      "\n",
      "           PFGRUPOSURA_Precio cierre  PROMIGAS_Precio cierre  \\\n",
      "YearMonth                                                      \n",
      "2024-09                     0.666731               -0.060351   \n",
      "2024-10                     0.834580               -0.217440   \n",
      "2024-11                     0.054045               -0.045059   \n",
      "2024-12                    -0.115372               -0.048672   \n",
      "2025-01                     0.956589               -0.685147   \n",
      "2025-02                     0.922473                0.076774   \n",
      "2025-03                     0.100546               -0.171147   \n",
      "2025-04                    -0.163864               -0.123677   \n",
      "2025-05                     0.233821                0.545555   \n",
      "2025-06                     0.437853                0.389389   \n",
      "\n",
      "           TERPEL_Precio cierre  \n",
      "YearMonth                        \n",
      "2024-09               -0.464573  \n",
      "2024-10                0.755205  \n",
      "2024-11                0.907949  \n",
      "2024-12               -0.078926  \n",
      "2025-01                0.020825  \n",
      "2025-02                0.788476  \n",
      "2025-03                0.110226  \n",
      "2025-04                0.620450  \n",
      "2025-05               -0.270615  \n",
      "2025-06               -0.419071  \n",
      "\n",
      "[10 rows x 36 columns]\n"
     ]
    }
   ],
   "source": [
    "print(\"\\n📌 Monthly Correlation with\", target_stock)\n",
    "print(monthly_corr.tail(10))  # Show last 10 months\n"
   ]
  },
  {
   "cell_type": "code",
   "execution_count": 33,
   "metadata": {},
   "outputs": [
    {
     "data": {
      "application/vnd.plotly.v1+json": {
       "config": {
        "plotlyServerURL": "https://plot.ly"
       },
       "data": [
        {
         "coloraxis": "coloraxis",
         "hovertemplate": "Month: %{x}<br>Stock: %{y}<br>Correlation: %{z}<extra></extra>",
         "name": "0",
         "type": "heatmap",
         "x": [
          "2020-03",
          "2020-04",
          "2020-05",
          "2020-06",
          "2020-07",
          "2020-08",
          "2020-09",
          "2020-10",
          "2020-11",
          "2020-12",
          "2021-01",
          "2021-02",
          "2021-03",
          "2021-04",
          "2021-05",
          "2021-06",
          "2021-07",
          "2021-08",
          "2021-09",
          "2021-10",
          "2021-11",
          "2021-12",
          "2022-01",
          "2022-02",
          "2022-03",
          "2022-04",
          "2022-05",
          "2022-06",
          "2022-07",
          "2022-08",
          "2022-09",
          "2022-10",
          "2022-11",
          "2022-12",
          "2023-01",
          "2023-02",
          "2023-03",
          "2023-04",
          "2023-05",
          "2023-06",
          "2023-07",
          "2023-08",
          "2023-09",
          "2023-10",
          "2023-11",
          "2023-12",
          "2024-01",
          "2024-02",
          "2024-03",
          "2024-04",
          "2024-05",
          "2024-06",
          "2024-07",
          "2024-08",
          "2024-09",
          "2024-10",
          "2024-11",
          "2024-12",
          "2025-01",
          "2025-02",
          "2025-03",
          "2025-04",
          "2025-05",
          "2025-06"
         ],
         "xaxis": "x",
         "y": [
          "Fecha",
          "BCOLOMBIA_Precio cierre",
          "BHI_Precio cierre",
          "BOGOTA_Precio cierre",
          "BVC_Precio cierre",
          "CELSIA_Precio cierre",
          "CEMARGOS_Precio cierre",
          "CNEC_Precio cierre",
          "CONCONCRETO_Precio cierre",
          "CORFICOL_Precio cierre",
          "ECOPETROL_Precio cierre",
          "ENKA_Precio cierre",
          "ETB_Precio cierre",
          "EXITO_Precio cierre",
          "FABRICATO_Precio cierre",
          "GEB_Precio cierre",
          "GRUBOLIVAR_Precio cierre",
          "GRUPOARGOS_Precio cierre",
          "GRUPOAVAL_Precio cierre",
          "GRUPOSURA_Precio cierre",
          "GXTESCOL_Precio cierre",
          "HCOLSEL_Precio cierre",
          "ICOLCAP_Precio cierre",
          "ISA_Precio cierre",
          "MINEROS_Precio cierre",
          "NUTRESA_Precio cierre",
          "PEI_Precio cierre",
          "PFAVAL_Precio cierre",
          "PFBCOLOMBIA_Precio cierre",
          "PFCEMARGOS_Precio cierre",
          "PFCORFICOL_Precio cierre",
          "PFDAVVNDA_Precio cierre",
          "PFGRUPARG_Precio cierre",
          "PFGRUPOSURA_Precio cierre",
          "PROMIGAS_Precio cierre",
          "TERPEL_Precio cierre"
         ],
         "yaxis": "y",
         "z": {
          "bdata": "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",
          "dtype": "f8",
          "shape": "36, 64"
         }
        }
       ],
       "layout": {
        "autosize": false,
        "coloraxis": {
         "colorbar": {
          "title": {
           "text": "Correlation"
          }
         },
         "colorscale": [
          [
           0,
           "rgb(5,48,97)"
          ],
          [
           0.1,
           "rgb(33,102,172)"
          ],
          [
           0.2,
           "rgb(67,147,195)"
          ],
          [
           0.3,
           "rgb(146,197,222)"
          ],
          [
           0.4,
           "rgb(209,229,240)"
          ],
          [
           0.5,
           "rgb(247,247,247)"
          ],
          [
           0.6,
           "rgb(253,219,199)"
          ],
          [
           0.7,
           "rgb(244,165,130)"
          ],
          [
           0.8,
           "rgb(214,96,77)"
          ],
          [
           0.9,
           "rgb(178,24,43)"
          ],
          [
           1,
           "rgb(103,0,31)"
          ]
         ]
        },
        "height": 600,
        "template": {
         "data": {
          "bar": [
           {
            "error_x": {
             "color": "#2a3f5f"
            },
            "error_y": {
             "color": "#2a3f5f"
            },
            "marker": {
             "line": {
              "color": "#E5ECF6",
              "width": 0.5
             },
             "pattern": {
              "fillmode": "overlay",
              "size": 10,
              "solidity": 0.2
             }
            },
            "type": "bar"
           }
          ],
          "barpolar": [
           {
            "marker": {
             "line": {
              "color": "#E5ECF6",
              "width": 0.5
             },
             "pattern": {
              "fillmode": "overlay",
              "size": 10,
              "solidity": 0.2
             }
            },
            "type": "barpolar"
           }
          ],
          "carpet": [
           {
            "aaxis": {
             "endlinecolor": "#2a3f5f",
             "gridcolor": "white",
             "linecolor": "white",
             "minorgridcolor": "white",
             "startlinecolor": "#2a3f5f"
            },
            "baxis": {
             "endlinecolor": "#2a3f5f",
             "gridcolor": "white",
             "linecolor": "white",
             "minorgridcolor": "white",
             "startlinecolor": "#2a3f5f"
            },
            "type": "carpet"
           }
          ],
          "choropleth": [
           {
            "colorbar": {
             "outlinewidth": 0,
             "ticks": ""
            },
            "type": "choropleth"
           }
          ],
          "contour": [
           {
            "colorbar": {
             "outlinewidth": 0,
             "ticks": ""
            },
            "colorscale": [
             [
              0,
              "#0d0887"
             ],
             [
              0.1111111111111111,
              "#46039f"
             ],
             [
              0.2222222222222222,
              "#7201a8"
             ],
             [
              0.3333333333333333,
              "#9c179e"
             ],
             [
              0.4444444444444444,
              "#bd3786"
             ],
             [
              0.5555555555555556,
              "#d8576b"
             ],
             [
              0.6666666666666666,
              "#ed7953"
             ],
             [
              0.7777777777777778,
              "#fb9f3a"
             ],
             [
              0.8888888888888888,
              "#fdca26"
             ],
             [
              1,
              "#f0f921"
             ]
            ],
            "type": "contour"
           }
          ],
          "contourcarpet": [
           {
            "colorbar": {
             "outlinewidth": 0,
             "ticks": ""
            },
            "type": "contourcarpet"
           }
          ],
          "heatmap": [
           {
            "colorbar": {
             "outlinewidth": 0,
             "ticks": ""
            },
            "colorscale": [
             [
              0,
              "#0d0887"
             ],
             [
              0.1111111111111111,
              "#46039f"
             ],
             [
              0.2222222222222222,
              "#7201a8"
             ],
             [
              0.3333333333333333,
              "#9c179e"
             ],
             [
              0.4444444444444444,
              "#bd3786"
             ],
             [
              0.5555555555555556,
              "#d8576b"
             ],
             [
              0.6666666666666666,
              "#ed7953"
             ],
             [
              0.7777777777777778,
              "#fb9f3a"
             ],
             [
              0.8888888888888888,
              "#fdca26"
             ],
             [
              1,
              "#f0f921"
             ]
            ],
            "type": "heatmap"
           }
          ],
          "histogram": [
           {
            "marker": {
             "pattern": {
              "fillmode": "overlay",
              "size": 10,
              "solidity": 0.2
             }
            },
            "type": "histogram"
           }
          ],
          "histogram2d": [
           {
            "colorbar": {
             "outlinewidth": 0,
             "ticks": ""
            },
            "colorscale": [
             [
              0,
              "#0d0887"
             ],
             [
              0.1111111111111111,
              "#46039f"
             ],
             [
              0.2222222222222222,
              "#7201a8"
             ],
             [
              0.3333333333333333,
              "#9c179e"
             ],
             [
              0.4444444444444444,
              "#bd3786"
             ],
             [
              0.5555555555555556,
              "#d8576b"
             ],
             [
              0.6666666666666666,
              "#ed7953"
             ],
             [
              0.7777777777777778,
              "#fb9f3a"
             ],
             [
              0.8888888888888888,
              "#fdca26"
             ],
             [
              1,
              "#f0f921"
             ]
            ],
            "type": "histogram2d"
           }
          ],
          "histogram2dcontour": [
           {
            "colorbar": {
             "outlinewidth": 0,
             "ticks": ""
            },
            "colorscale": [
             [
              0,
              "#0d0887"
             ],
             [
              0.1111111111111111,
              "#46039f"
             ],
             [
              0.2222222222222222,
              "#7201a8"
             ],
             [
              0.3333333333333333,
              "#9c179e"
             ],
             [
              0.4444444444444444,
              "#bd3786"
             ],
             [
              0.5555555555555556,
              "#d8576b"
             ],
             [
              0.6666666666666666,
              "#ed7953"
             ],
             [
              0.7777777777777778,
              "#fb9f3a"
             ],
             [
              0.8888888888888888,
              "#fdca26"
             ],
             [
              1,
              "#f0f921"
             ]
            ],
            "type": "histogram2dcontour"
           }
          ],
          "mesh3d": [
           {
            "colorbar": {
             "outlinewidth": 0,
             "ticks": ""
            },
            "type": "mesh3d"
           }
          ],
          "parcoords": [
           {
            "line": {
             "colorbar": {
              "outlinewidth": 0,
              "ticks": ""
             }
            },
            "type": "parcoords"
           }
          ],
          "pie": [
           {
            "automargin": true,
            "type": "pie"
           }
          ],
          "scatter": [
           {
            "fillpattern": {
             "fillmode": "overlay",
             "size": 10,
             "solidity": 0.2
            },
            "type": "scatter"
           }
          ],
          "scatter3d": [
           {
            "line": {
             "colorbar": {
              "outlinewidth": 0,
              "ticks": ""
             }
            },
            "marker": {
             "colorbar": {
              "outlinewidth": 0,
              "ticks": ""
             }
            },
            "type": "scatter3d"
           }
          ],
          "scattercarpet": [
           {
            "marker": {
             "colorbar": {
              "outlinewidth": 0,
              "ticks": ""
             }
            },
            "type": "scattercarpet"
           }
          ],
          "scattergeo": [
           {
            "marker": {
             "colorbar": {
              "outlinewidth": 0,
              "ticks": ""
             }
            },
            "type": "scattergeo"
           }
          ],
          "scattergl": [
           {
            "marker": {
             "colorbar": {
              "outlinewidth": 0,
              "ticks": ""
             }
            },
            "type": "scattergl"
           }
          ],
          "scattermap": [
           {
            "marker": {
             "colorbar": {
              "outlinewidth": 0,
              "ticks": ""
             }
            },
            "type": "scattermap"
           }
          ],
          "scattermapbox": [
           {
            "marker": {
             "colorbar": {
              "outlinewidth": 0,
              "ticks": ""
             }
            },
            "type": "scattermapbox"
           }
          ],
          "scatterpolar": [
           {
            "marker": {
             "colorbar": {
              "outlinewidth": 0,
              "ticks": ""
             }
            },
            "type": "scatterpolar"
           }
          ],
          "scatterpolargl": [
           {
            "marker": {
             "colorbar": {
              "outlinewidth": 0,
              "ticks": ""
             }
            },
            "type": "scatterpolargl"
           }
          ],
          "scatterternary": [
           {
            "marker": {
             "colorbar": {
              "outlinewidth": 0,
              "ticks": ""
             }
            },
            "type": "scatterternary"
           }
          ],
          "surface": [
           {
            "colorbar": {
             "outlinewidth": 0,
             "ticks": ""
            },
            "colorscale": [
             [
              0,
              "#0d0887"
             ],
             [
              0.1111111111111111,
              "#46039f"
             ],
             [
              0.2222222222222222,
              "#7201a8"
             ],
             [
              0.3333333333333333,
              "#9c179e"
             ],
             [
              0.4444444444444444,
              "#bd3786"
             ],
             [
              0.5555555555555556,
              "#d8576b"
             ],
             [
              0.6666666666666666,
              "#ed7953"
             ],
             [
              0.7777777777777778,
              "#fb9f3a"
             ],
             [
              0.8888888888888888,
              "#fdca26"
             ],
             [
              1,
              "#f0f921"
             ]
            ],
            "type": "surface"
           }
          ],
          "table": [
           {
            "cells": {
             "fill": {
              "color": "#EBF0F8"
             },
             "line": {
              "color": "white"
             }
            },
            "header": {
             "fill": {
              "color": "#C8D4E3"
             },
             "line": {
              "color": "white"
             }
            },
            "type": "table"
           }
          ]
         },
         "layout": {
          "annotationdefaults": {
           "arrowcolor": "#2a3f5f",
           "arrowhead": 0,
           "arrowwidth": 1
          },
          "autotypenumbers": "strict",
          "coloraxis": {
           "colorbar": {
            "outlinewidth": 0,
            "ticks": ""
           }
          },
          "colorscale": {
           "diverging": [
            [
             0,
             "#8e0152"
            ],
            [
             0.1,
             "#c51b7d"
            ],
            [
             0.2,
             "#de77ae"
            ],
            [
             0.3,
             "#f1b6da"
            ],
            [
             0.4,
             "#fde0ef"
            ],
            [
             0.5,
             "#f7f7f7"
            ],
            [
             0.6,
             "#e6f5d0"
            ],
            [
             0.7,
             "#b8e186"
            ],
            [
             0.8,
             "#7fbc41"
            ],
            [
             0.9,
             "#4d9221"
            ],
            [
             1,
             "#276419"
            ]
           ],
           "sequential": [
            [
             0,
             "#0d0887"
            ],
            [
             0.1111111111111111,
             "#46039f"
            ],
            [
             0.2222222222222222,
             "#7201a8"
            ],
            [
             0.3333333333333333,
             "#9c179e"
            ],
            [
             0.4444444444444444,
             "#bd3786"
            ],
            [
             0.5555555555555556,
             "#d8576b"
            ],
            [
             0.6666666666666666,
             "#ed7953"
            ],
            [
             0.7777777777777778,
             "#fb9f3a"
            ],
            [
             0.8888888888888888,
             "#fdca26"
            ],
            [
             1,
             "#f0f921"
            ]
           ],
           "sequentialminus": [
            [
             0,
             "#0d0887"
            ],
            [
             0.1111111111111111,
             "#46039f"
            ],
            [
             0.2222222222222222,
             "#7201a8"
            ],
            [
             0.3333333333333333,
             "#9c179e"
            ],
            [
             0.4444444444444444,
             "#bd3786"
            ],
            [
             0.5555555555555556,
             "#d8576b"
            ],
            [
             0.6666666666666666,
             "#ed7953"
            ],
            [
             0.7777777777777778,
             "#fb9f3a"
            ],
            [
             0.8888888888888888,
             "#fdca26"
            ],
            [
             1,
             "#f0f921"
            ]
           ]
          },
          "colorway": [
           "#636efa",
           "#EF553B",
           "#00cc96",
           "#ab63fa",
           "#FFA15A",
           "#19d3f3",
           "#FF6692",
           "#B6E880",
           "#FF97FF",
           "#FECB52"
          ],
          "font": {
           "color": "#2a3f5f"
          },
          "geo": {
           "bgcolor": "white",
           "lakecolor": "white",
           "landcolor": "#E5ECF6",
           "showlakes": true,
           "showland": true,
           "subunitcolor": "white"
          },
          "hoverlabel": {
           "align": "left"
          },
          "hovermode": "closest",
          "mapbox": {
           "style": "light"
          },
          "paper_bgcolor": "white",
          "plot_bgcolor": "#E5ECF6",
          "polar": {
           "angularaxis": {
            "gridcolor": "white",
            "linecolor": "white",
            "ticks": ""
           },
           "bgcolor": "#E5ECF6",
           "radialaxis": {
            "gridcolor": "white",
            "linecolor": "white",
            "ticks": ""
           }
          },
          "scene": {
           "xaxis": {
            "backgroundcolor": "#E5ECF6",
            "gridcolor": "white",
            "gridwidth": 2,
            "linecolor": "white",
            "showbackground": true,
            "ticks": "",
            "zerolinecolor": "white"
           },
           "yaxis": {
            "backgroundcolor": "#E5ECF6",
            "gridcolor": "white",
            "gridwidth": 2,
            "linecolor": "white",
            "showbackground": true,
            "ticks": "",
            "zerolinecolor": "white"
           },
           "zaxis": {
            "backgroundcolor": "#E5ECF6",
            "gridcolor": "white",
            "gridwidth": 2,
            "linecolor": "white",
            "showbackground": true,
            "ticks": "",
            "zerolinecolor": "white"
           }
          },
          "shapedefaults": {
           "line": {
            "color": "#2a3f5f"
           }
          },
          "ternary": {
           "aaxis": {
            "gridcolor": "white",
            "linecolor": "white",
            "ticks": ""
           },
           "baxis": {
            "gridcolor": "white",
            "linecolor": "white",
            "ticks": ""
           },
           "bgcolor": "#E5ECF6",
           "caxis": {
            "gridcolor": "white",
            "linecolor": "white",
            "ticks": ""
           }
          },
          "title": {
           "x": 0.05
          },
          "xaxis": {
           "automargin": true,
           "gridcolor": "white",
           "linecolor": "white",
           "ticks": "",
           "title": {
            "standoff": 15
           },
           "zerolinecolor": "white",
           "zerolinewidth": 2
          },
          "yaxis": {
           "automargin": true,
           "gridcolor": "white",
           "linecolor": "white",
           "ticks": "",
           "title": {
            "standoff": 15
           },
           "zerolinecolor": "white",
           "zerolinewidth": 2
          }
         }
        },
        "title": {
         "text": "📊 Monthly Correlation Heatmap - MSCI_COLCAP_Valor hoy"
        },
        "width": 1000,
        "xaxis": {
         "anchor": "y",
         "domain": [
          0,
          1
         ],
         "tickangle": -45,
         "title": {
          "text": "Month"
         }
        },
        "yaxis": {
         "anchor": "x",
         "autorange": "reversed",
         "domain": [
          0,
          1
         ],
         "title": {
          "text": "Stock"
         }
        }
       }
      }
     },
     "metadata": {},
     "output_type": "display_data"
    }
   ],
   "source": [
    "import plotly.express as px\n",
    "\n",
    "# 🔹 Convert 'YearMonth' to string (Fix Period object issue)\n",
    "monthly_corr.index = monthly_corr.index.astype(str)\n",
    "\n",
    "# 🔥 **Add Heatmap for Monthly Correlations**\n",
    "fig = px.imshow(\n",
    "    monthly_corr.T,  # Transpose to get stocks on y-axis\n",
    "    labels=dict(x=\"Month\", y=\"Stock\", color=\"Correlation\"),\n",
    "    title=f\"📊 Monthly Correlation Heatmap - {target_stock}\",\n",
    "    color_continuous_scale=\"RdBu_r\",\n",
    "    aspect=\"auto\",\n",
    ")\n",
    "\n",
    "fig.update_layout(\n",
    "    autosize=False,\n",
    "    width=1000,\n",
    "    height=600,\n",
    "    xaxis=dict(tickangle=-45),\n",
    ")"
   ]
  },
  {
   "cell_type": "code",
   "execution_count": 34,
   "metadata": {},
   "outputs": [
    {
     "data": {
      "application/vnd.plotly.v1+json": {
       "config": {
        "plotlyServerURL": "https://plot.ly"
       },
       "data": [
        {
         "coloraxis": "coloraxis",
         "hovertemplate": "Month: %{x}<br>Stock: %{y}<br>Correlation: %{z}<extra></extra>",
         "name": "0",
         "type": "heatmap",
         "x": [
          "2020-03",
          "2020-04",
          "2020-05",
          "2020-06",
          "2020-07",
          "2020-08",
          "2020-09",
          "2020-10",
          "2020-11",
          "2020-12",
          "2021-01",
          "2021-02",
          "2021-03",
          "2021-04",
          "2021-05",
          "2021-06",
          "2021-07",
          "2021-08",
          "2021-09",
          "2021-10",
          "2021-11",
          "2021-12",
          "2022-01",
          "2022-02",
          "2022-03",
          "2022-04",
          "2022-05",
          "2022-06",
          "2022-07",
          "2022-08",
          "2022-09",
          "2022-10",
          "2022-11",
          "2022-12",
          "2023-01",
          "2023-02",
          "2023-03",
          "2023-04",
          "2023-05",
          "2023-06",
          "2023-07",
          "2023-08",
          "2023-09",
          "2023-10",
          "2023-11",
          "2023-12",
          "2024-01",
          "2024-02",
          "2024-03",
          "2024-04",
          "2024-05",
          "2024-06",
          "2024-07",
          "2024-08",
          "2024-09",
          "2024-10",
          "2024-11",
          "2024-12",
          "2025-01",
          "2025-02",
          "2025-03",
          "2025-04",
          "2025-05",
          "2025-06"
         ],
         "xaxis": "x",
         "y": [
          "Fecha",
          "BCOLOMBIA_Precio cierre",
          "BHI_Precio cierre",
          "BOGOTA_Precio cierre",
          "BVC_Precio cierre",
          "CELSIA_Precio cierre",
          "CEMARGOS_Precio cierre",
          "CNEC_Precio cierre",
          "CONCONCRETO_Precio cierre",
          "CORFICOL_Precio cierre",
          "ECOPETROL_Precio cierre",
          "ENKA_Precio cierre",
          "ETB_Precio cierre",
          "EXITO_Precio cierre",
          "FABRICATO_Precio cierre",
          "GEB_Precio cierre",
          "GRUBOLIVAR_Precio cierre",
          "GRUPOARGOS_Precio cierre"
         ],
         "yaxis": "y",
         "z": {
          "bdata": "Ie8tUkGJ2T9Id7Buc56uP+cXuAQKF9m/Cy6wxiTw2r8IwfLn/FLpP1fmF5/c++0/JUMJmQ/Q7r+7ZlYE+DLcv3iUkAOxS+4/IePyDjrx6z+2uvlVfEPjv1vWbBHIIdy/hTQN5Vwe6b//piRZo7TsvwkJpXfBUeG/WelpfAAg2j+/huXhD+PnvzfbcgT97ew/NCDXzW821j/NiDOZs97iP4hfKFToA+e/ld8+Y6mn0L/c8VQCbgXqPxOjuH+ESdS/NZSlFx8b6j9NcEPYZkfpv9utazXkPNy/ilywiGJG77+NhRYMRz3lv+tyGf8ykc+/CSu7q1R/678jz7P0WG3dP/yr0wDF9cA/EnNnNMfP4T81/6JFT1C4v/lnuSclRe6/V6bHpmDu57/x+zsatJ2lPwfcEm3Vde6/0zpOprNC4L+OudjuBxfpP73AneE5I+6/3sp3Jbgw6j/r3ZaDzp7Rv9R7tf7hYe4/13e4Q9/W6j9pfQcy29PNP8AHn6jADsY/BfluZ5344z+KJ4H27GzgvzoCLuzQKOE/e6sC7Ki26b8Ey3Bz3N7tv0bSVPTzQuI/3vwB0S4Y4L/sSamZtGHqP4hfYFWIlOk/1nd25Pph17+GRvkeslHkPzJrIWIcv+0/ycPwE1Wq3z+8Ar8jqpPKP7if4n1wbNC/YDriwyBJ1b/K79FXykXtP0FP/qhBy+s/1VIFX71J7D9D4/ZzkZfuPw7TNhOvN+E/TVjqdG1g7T9FDU7tSULvP1NjEoQs5uU/GMI+hY3q7j+CCkMMO0bvPxej3mLreOg/XS87Kzds6T+jHxbAPxznP+afxHoceeo/N/4nycC97T/giEzAPLu0Px4htuRAOc0/qxnRuU7W7z/SEtNhatDuP85ftApbnuo/bJohF+3J7j8zQLaC2xrrP567D/+Vbe8/th27oShZ6j8+km13P6/uP6+GqNoYEe0/nq8YQDzj5z+MTbk7wZXuP+CjdVYcdMo/umwxMNZf6z+UiWXMnj7rP075fDBx5OQ/ATTDr7224T8HIxmwkIrJP3LOeeSsxOw/dBKpyaxy7T/Jq4pTW0fuP7SBOGE4uus/H8nmOlSw7j8k/1Rzv5HuPyH5Qz+kru0/LwLqSvpp7j+0JcBJ/qPqPyHOgx0XoOc/PAag255x0T+w3lzs6EjqP4g/eNsUPNk/BakjLq9g5j+jc2u5irHsP3QbvlzZius/iFs/3UZ67T/0SsdV1QPqP+UBXX2tLui/J0rD4G0p6T/MxY+0Ej/jP8Cp0/g5ru0/Luee2R6n6j/0KlLfEUDoP0BMeeUcaO4/rCPxT4Lm7j8BBzERD07sP9gPyC+yo+k/477mS7sr6z/BYH5TSfPsPwAAAAAAAPh/AAAAAAAA+H8AAAAAAAD4fwAAAAAAAPh/AAAAAAAA+H8AAAAAAAD4fwAAAAAAAPh/AAAAAAAA+H8AAAAAAAD4fwAAAAAAAPh/AAAAAAAA+H8AAAAAAAD4fwAAAAAAAPh/AAAAAAAA+H8AAAAAAAD4fwAAAAAAAPh/AAAAAAAA+H8AAAAAAAD4fwAAAAAAAPh/AAAAAAAA+H8AAAAAAAD4fwAAAAAAAPh/AAAAAAAA+H8AAAAAAAD4f9gchriFKOO/kGxUiXVN3D+m48C7FxmhP7b29TbCvu0/nAELWe0W2D8Y0fkD+GvdP6bcSFxSV+M/VQiFGf/y3D8HbTnrRrXOv7Edij8KLOC/7KVtAQs14z98i2XzMVLuPzF1a0jDBMc/RIz9WLL85D+3vDJhseXsP/ySI5tBqdW/dKx5qy6W5z+uXZQT4MTgPzT+Y/muH+W/0FCZOI042L9D4B6tErPSv5MWpLMhpsQ/49BzVPYY6T9MWrauEzG1v2kcdYWuEOs/X3RL5qf5wz8pUNmyPBTFP3DvejR1WeS/YNWzEiMy7D8p7dHT6cPqP6BOdDGJTKy/Dzt86dnt1T9ABwO5OpnhvzzpkV9BcMU/3HzL0c1wyT+f4V2ZOHvrP9xebDrUPNA/hYjig4Kw3z/Y+yVWuITXv9YOgLxb29U/hSLjZ+0M6D9qQMegfYnaP8xkIstfNuM/xbGfBagf1j+i/F+zjnHtPyk6o/WtH+8/x9/E4mtf5D+axT8TLgewP2G7BsSxoOc/yW0NL5PF6z9dPrqNrA7jv/2QRD3V8Fi/JIeCXUa/0T/F5hdDX2S0P3Rlzf3TtuM/dGU917Sgw79OGg7205PmP8NgP2lvDu0/Ie7dwCYGnz+ivrLOTGXXP71jI8DKs+M/P8amJ0IOzj/0YKhf7K3qP0IPAvf0ocI/ns8YEQQ45r8gDuIHAg3iPwDv7r5rwr2/q0h7/CcE7T+kKNO205HrP6aPVJJehOQ/KvH8IMwp7j8LQgzAkYHavyKSRlpAI8I/9TML1IY/5z/lIfUYHy3kP2FpNd8wMew/lrGA1Mkn5r9zwxVsCbjlP+tDgtTTZ+w/ZwmEy/6Z5j9XblzLeA3WP8kUERvscuo/JszgGpxNx7+LyXLAiWbpP7TIG9u7Xea/QL9vYP9E6D+AARAY01HNP596EV8C9+E/D/GJV11K4b8jHOqF9s/YP46LcG0mccW/B6yOUnmX5D+6NFYWAF7kP2WMLUhZZ9w/Tn7bQV9q2T+ITVOJqH3cP0KqHyWhtsC/A9I2v7xk3T81c+GhOTDrPyfFxfT14Oo/UEy7rwLv3j+iF8AwITHpP0PMCIZqUcg/zg+5Et3MwD8cx3AcFyTSP4dQXPBfr7S/Ku9k0a7z2D+STD7XYBa3P1FZLTQrOuQ/d1hxTDrg4j+CtttYgurkP35bKZMXctk/E18/QOtC6j8guWz3YxrpP4MhKZsdo9I/rv1L3lTmtz8eKqQw2+3DP5gncUS9R8S/J5+kXje/oD/piGcpC2LGv/qRXvAKieQ/OKCCpVrow79B4eyLs63dP7mKNnaVbOc/CQRiFw5Y6z+q7dvKESDcP4brIyzR5e0/Scde17LH4z+WUBlJee3Xv+G+Dc1ePM8/2khjrbT45T8AEcGhEIPuPwnHuLoyreM/H9MoXwAWxD/tLo4ZXiXSP9EWGJJfC8a/MLeAdUmb4b+zZpTRTe/UvwYrf0jM4OC/RFtsgoP45r87xhDcv2Xrv0zl+O4Ct66/kVVDovjd4L82JzTghyPSPzZQvWpy4ec/UjMrC0gG1T89xsrc57+zvy9Ac3ImcqS/HNcbaAET7j/o0/Dt/uDcP5etHVMOr6y/VHrxZlE7yj+rFLSmQTPbP5+eAtxEY9o/E0sCkh3I1T+Mjed6v67hvwAAAAAAAPh/hMSzVOjB37/rlxG+LCPjP0xbik7hktm///wZHZpx0b/J45J4Pt/JP/Yo/cforuw/ZUIe3SaO4T/6geKvGYPjP42TmntmT+C/XWNA7xYbtb/boqtYXoXbv2rLA8VBYuo/F5bmd7LR3z+CxxwzGx7oPzi3hh7uqeQ/E5W90W1U7T+qhEwDOxfvPz69Br1PVtw/Ccmbv9v65z+CrzXs6irpPxwKn6n0g+Q/4IkTCwn00b+vzAk7lkbeP/5m3PJ6sM4/KF9iDmA57j+Lq916KIbrP1Y1wOy93Kg/n6oUWvPL7D8i4dnZvvHsPx+x5zki0tg/3l54pvx31j8STpGBJF3kP3d57K/Tu9w/i1DMUsbv6z+uXKpkgtDYP3sEy+oOEuU/n3Kf8Zua4T/jMscT9FPWP6u6A6fVH+8/8eS2yUr45j8dVXNOManoP+IvJ/L/Aes/jG1WQ5FL1r+Yx8iB8N3gPwIFLnNPYMo/iNcx7lGg6T89XUMonhjmP52RGyI6a+K/qH9zY/Eh4T/IGXbqEcPnP/qBD4HCD+c/UIa3yOzVrb+e33+9gaboP5Dwq/p37eE/SDzebMdJ2j+2Eg4r5/fjP0eNRiVuhuw/pARrumrKzT/SI0mh4TnlPwNo5g5cMdk/AlsRbvsJ5z9WF2oDm8XpP+zoPfKLuOQ/4teYuxzv4j9MRE4rUqTlPzLwXcO/Leg/QD9YgCff3L8LQibivgPevzh9gzvfCsk/TPJ6CPqT0b8mAr1g04fqP3AkS5zSDeU/CAqFDFEk0L94ihB7jn3MPysWYy48AsM/OsApP4tv7z9G6+oY2RfFP2RF4lttq+M/zSwzL2fK6T+bdqDbIr/uPycf8XjzYO8//Xq4ii4a7T9Tfj0eUXrqP+eXweT0Le4/svPvjRsv7j84kyVFrvXSP62eyHphu9k/1vwZlR1M7D8HlXuIl7rbPwBREoZeq+4/qApH+OeH5z8uASrzWedxvxv9IN3dp+0/BymWLbAV4D+EMt6sXp7nP3D09v7wOec/r1uc2U4txD+SboL6PtzsPwBV/FF9tNM/LWPzRLqn5D+aS8JZiXvqP/y7jBTs+Oo/r45gHxHF7j8mI2o1BsrqP4aV9pfKM90/E7ghfvbc6T9Mp70Bx66hv09pUhCxJt0//baoKkJw0D/NtxdlvhHiPwQvXZRds+Q/fuFdr+Ll5b84q+il22HqP1kspGBmi9K/1ODRuSl37D/A7/q0hWDqP148i/NCme0/HahUTPIR5T8yh77yfO6uvxxY6W4lb+0/JpQilIcV5j/jc8uySXTkP+HQTXjVk+Q/qsWlLShV6D9tKNJg7+XlP5DXlZM49OA//qbAZKjCxb8Iyq8wU4PRP50pXgrlauk/RfP7/pqi3D/AAn/3G2bnP73PYjjIOOw/bj4yozPBub9u/Oa53Gu4P6MQ0ksZ3cC/Ykp1c2LX3T/335d0+AHkP1hTuA+5WNI/I+zluS3m6D/O2lqa1GrgP4sGkvXgBKK/97xHSCAxoD8r7cnZFWfgPw0iVoq1RqM/KwKTH9Tb5j/gsi0GsyrTP6INTuJ+i9S/nJW6Ydwl6z8Ihwi1Vkjhv6nm9kb/3eG/2nTbx6vR4T9jfL+k6IG3vw9L35Tv8MI/tl6xqfDb0D9LgZuXocvjP8Z9Kg5RZus/ip1P2pa94r/S+XNbVjjHP4e57Q/d5OU/gQqVKFhQ6D+SIfPrYI/TPxrUG1rmA8Q/TUrpfP464D+bpq/8X0jZv6Wcv5ppkuw/holyMuY76D/KUN5g8F3sP7efQu7jv+E/sapEUcyLvr+frwawACfuP/hq23z0XuM/OtlQbyD1zT9is4wnQSvjP2OMx52LxdW/cdjfUYeX7T89qROOpFLkPxk/ozvgEMC/CR+AQVvW6r/S/cG9JPjhP5VdX03bW+M/PeiPj4Xj7D+SHTijfZXov2K8yyP2PuM/cXTf6h7k1T8rdWlyoOPUP3aCX71fkcW/DEOEAeHavT8STC0bGkfavxPdhr4gasa/iV52yMnmrj/Bpf1ZKNnZv8H1Xr1/69E/i1bhNHjQsD9ANsF3BDjrP7gGrNkSlee/+AleHl0K7T9OobmowCTeP03YqJ6JRb6/ifBK6QbpcD+0whSItvXdP6W71Pe78K6/nRFudCnt1T/Sb4ugK0LCvxM/nH9N09u/WBK14nEjnL9mlkx7qerjP/tqQEGMxNU//jE1HvY95j8Vz32PUxOjv9575fpiR+g/bfVi6Reb2z9ga/rcXNbqP0dUaLKCtdw/gAD7WoqOsr91hAK+8pTUv9u2uRx5+N0/0+aKfh3g7T/4OUhnkFvjPwIyOYlStcQ/hCwZBXuY6D85jY3os+zoP79Zwx+M+Ne/+AbhRoRQ5b8VpvKbobjlP6N+WXWHjee/ygRE65Dm4z9h7L+RqbzoPwinAvc5YL2/FhN29wuH5z9WeuyNjsjkP/1qyeOZQ+0/3N8aDb8r4j/qOSMB4WHpP89wP6a7jGs/plm88byg1r/1hW4X9pHWPwZeESMFVtW/HUITOMcOpb98rwwVeB3tP9KnMI/0CMS/KR1M/cG55D+cAaexMuffPynRKq20ltM/ZSu0duDE5D/Qqz4jhAzrP3QsxX1e1t0/qjFRI9rd5L88VZAw4B3ov8Glwngd3Oo/XQLbIQhl2z83yX7EM9iUPynmfkoQms+/6zC1PIENyb+kfmWT0u3hPwK7tD7IduI/puUDoDq/5D+KiUKlhprmPyxZdQ2/+ek/MPc1mX9q4z9Rx8ZwJWTeP6E53QPqnty/XvuznUF40j/3JVd2WKrsv6pd1V7dxtW/vKHDQdG/4j/9HjTDgBjEPxG+gR05WKY/TVV60MnH7T/b/RF89CjeP6twUJS3JOg/E6D5N4qG3j/d11qYtcjgv5qhjhPqzOs/OYZWLFNj6z9mAu8POufEv6Ht8i9b+ew/awkOhQYz6z8mZNfXWCTXv9uhsNcUN5W/jj3nH2gxtD9EFQV1F5rQP51g39a3nuY/YepSPkge3z+l1qiAdIbrPzflZY5To+E/9nZ7kK4Brj/McHOmO/7oP5UXrWwW5uo/a2m2M8Pn3j9WsSg9OLbsP86tEPPYbtM/zLQJZW2I4D9U5y2KnxTpv0gN/FoWj+Q/wXdH85XJ7j91q8aRWJLrP6X5Aev+qNG/LtX/Yib/5z9gpgZwtxSUv2aiSLVEx+I/kZAv3PPe0r9PCHfhU4TkPz4H9+aW/O0/dRL/yZQvsr/1xg7J9prfP45ZtnJuw+a/KK6N10966j/cQJSyizzrP8HvcNrDbe0/aVVS6xLK6z92RCtdyHzZP6L31BvexOi/XVSm+VuW6D9biKhPbQvpP4PxiILl+YG/kVTkMev/wb9yVCunW1bWP0CsvHpWbus/v2Junjy06z/iH+KzLnbsP+IDOOLRIdM/xC+c/v5y3T+9bv0BToTtP1hFHTHPoNg/Iq0AvMh/pD9HibMZJuToPzuF9g6G2e0/4ETUhc4Y1r+ZGRvh3Z/nPwa1uzs4DMU/wTfeTtUx1j+5ph+IxnDuPymS0M7HUd8/ZeFUdul03z8zmv+MQbLuP/4YScCkPus/1uf49Bv9zD/vOWSugS/tP7G3LPT4qes/kAVIM5437j8lu1oClLnqP516ePzBd+0/CRCwPiXNwb9qpTU/XFa+P1PzPPyXGOI/8kL8mmBW7D/b4UXitybkP4MWEfddcOU/nnVUgPro1T/fxkxKCxPuP5uKSmUOTuw/AAgnghBJ6D8Z1cy/1xTeP8pTVshIze4/wf0VKXyErj/EPSrgthPtP5dCsN2YyOo/pf6FImbL7D+KPcMM/Q/vP2zSrDvqxOg/s7K4LSxYtT/LDTzr3tztP33PWGlzkew/8QURnqhS0z8HYeUoSULtP3nZC1rFpec/WdOQ7ITX0r+7CRFYvnPuP5ezLLZgROI/fKrDlH9YsD/Pjgx5GbnYP/5eZOERPug/YymQE/JZ179hFBtdd/Wqv1sRFt2KR+U/Ibrhih535z/4SwqzLenhv3buMFCzZbY/ljAcv6td6D8WoWW9bxnVv9uJxqjFJ9E/btjSK4vE4D8ZOUi0jDbSP2Wa5p20Ves/0iIyDv1Hsr87jI01wPXkP83glQNCBeu/bNky2vX46T+3uowXSk3XPyzT2O3M2Og/3u5gK0Y44z9ZsB7PXQrnP2lkLwlvP9M/z2SMNMSZ3z/xRZ2V3fm/vwAAAAAAAPh/0/0v+9zJyj+TwScryFfhv21vg5ewTrO/k355uo313z8bfFYJgInqv4ib9xcRud8/AAAAAAAA+H+F835JSizkv4kSmU8GvuU/A/A7/gHL4D/ahjE/IgHkv2jXlDaMfea/KtwdSForyL8F9BD/GRC6P9eZ3EGEd8u/e5ZKCzbn4j+oJIoj0BLuP5YJKT+6VqY/u/76mcZRyD+cJ30x0lTrP+iTq4UuAOU/lOqM7hTK5j9XtLElEbKxv7nxv5N0vei/FbsSRq1kzT9QjrW5UYPkP+PG8GYe9e4/u597XZcgp79r6D77IuTKP35REKn94uq/rFXxGR9a2D9944bT2IzNv9ATl2NCzta/AAAAAAAA+H8gNoopnlbqP+Cbg5vdseW/54Do3yxhiz9UDYQfivLsPyvZr8kwZs2/XvQlpP2j7b/0mCR4zrTqPwAAAAAAAPh/AAAAAAAA+H906uPokm3mv9uMfavNmue/E1Ef2IP5wj8AAAAAAAD4f5jA+x143NG/B0FwPUutuT/iBm29q1TXvzXjrDsy/eY/bZUZAtf05T+XcbGiDCmTPwE0p23Wd7K/N7Gjimzv0j/hil2SGb/lvwvmduOT8NI/Z+PQ87wK5z+xDdXnAVzhP2/uacjlEeU/11Okwl8X3z9iDWDBRFrZPwHYIQPVgtE/UeXS2Qw73D+bxSo82ZrWPxXxRYjTptI/wQ+OpfMv0z/K7bFGYGrHPxggOrmJoNs/YoVSAvkZzj/WedbodW6Kv75T+Y9Fbew/csramTX61D9uVrvWYFjaP8nBxWXYR9G/1vCSbhhL4T+qDpcJmznkP5wEGpzZdeg/KI40qKoKsL/pp9XQkdLiPw0u9lhm/uM/5AXtQjvkwj+QcOqCDEnKPxMxgOvyKeU/3+mNUPqc5z8SF2nXomnfv9Iqwr8erKe/cf6JBqC13r909VnVTbrpP8UZz5GrPM4/xqFdDwMvzD8yKOPummXhP0+O64QaSeM/GEsHM+sG4j8VNxZOnojgv4nBPB+v3MS/OoxXOUHq3L+iYHEl9UfTPwAAAAAAAPh/KAsKEUxu1z/XoXM0cenMP8hb+jmwINS/j/DXL3xTpL8B+T40gMnkvz4Etgrlj9+/AAAAAAAA+H/Ite0V67PUv5pT3/nJ6OS/9BhSQqNc5z8iFTOXjJrBv0g66T/S0d6/AAAAAAAA+H/ChPYnPzTbv2lLXnTMDrs/Xx9XHZLW1L9MIyK3/wfrPwAAAAAAAPh/hJ2mD3ResD8AAAAAAAD4f0ucL0vPPN6/AAAAAAAA+H81dDcu2BHev8+0W+UH09y/KUeu2+CR378AAAAAAAD4f+TBiN5Oq9C/+q6zxDBnxL/KCsgPm+/Qv5QtkqJo3d2/jWnzwkMKub+SZHjrjF7kP2rnpPuny9I/ap6orDp47T/vlhNJSuvrP1SnUgV1NuE/uj1boy8f6z8fzVNLnWriP961Efnpo8+/A6jgw0LlwT8Etjt6mWXCP1fMaH1S6uc/vfqzH3N05T/28pkoIU/jP3CQ8PIkDcA/i6/S/6Errb/aCkOfsDDJv309J8t+Xb0/mzaEAxZ+3D/NjyGboOazv3l4/FZglOw/DQzHqGVWwz+c9XCnH4LVP525cd25kuE/XTqkPHrS5D/cXvTJxgnuP33jPn0fyeY/jh4ghj2Ttj+cHZS6NRzmP07skXV8ZMK/FqHD0jVY0D9p5o5jUQ3kvwJefyvtIdE/vo4fDL5L5L+KKRgQYWHjv3hGyo5Dm9a/Bi4ADa3x5L9nLp2iWkLWv1LtYXv8B9E/o25JHNrP6z+AtA+tOKGmv14xPf+cFK6/Vdwt/4v83L/D+w2o3ubRv7qto+A1sbY/cPw1AY+I1T+G+V/tU7fWP0i4ZmZ2G+U/31EwV98p4r9LF0n7F4jlP0K0CgF7IN6/1CHulgYn1z+4DQi4vjfaP+4PX5w32Mg/o1SnslIo678tz1awo+ezvxtnBkza39+/TCiKUj4E1j9C9X1eKN7Lv4M1uqhyqt4/S3QKRHio078q4sRFLzuhvwAAAAAAAPh/DZnQkcRFtD8AAAAAAAD4f/aLz786JqE/4uw/0/igyD9JRVFw7FneP5ksNEKc+Ok/AAAAAAAA+H8JTGkj38DnP1uWfmp2DNE/SAorwf0K5j+v48ljGrndP5mIqXnsXuY/AAAAAAAA+H+lImXzS+jkvz06qAJE3tK/vOUV/KZFpL8nBVPE6pbfP3Ym1FbjG+g/NLUIgGfmzL8/3NqBxsjjP59JEw/2yeW/oEF/ab0O6z+it90w5LTXvzwpw0O/cti/jIMMKluJZL9TbRxR7FzpP8pLGCPOb+c/LLhmTVXo1b9BCckQ5XLWvygm7FILQeo/Ugn8rSIb4j+rqGIGUOrcv2FnKtIQ8+C/yy2HATcV4L8AAAAAAAD4fxS46FxVCOg/lkiUDvq/x786rbcRqQfpPwAAAAAAAPh/AAAAAAAA+H81a54xQIrrPwAAAAAAAPh/AAAAAAAA+H8AAAAAAAD4fwAAAAAAAPh/Ylw6foOc2b+QLbzwTArkv/j8yoo9JdA/AAAAAAAA+H8b+o54kkrDPwAAAAAAAPh/AAAAAAAA+H8AAAAAAAD4fwAAAAAAAPh/pM99iBbmzL8AAAAAAAD4f6vZY7xfreA/78Ljlu3c2b/JMmpqsX/pPwAAAAAAAPh/AAAAAAAA+H8AAAAAAAD4fwAAAAAAAPh/490n/AgK2z+b8h5aqq7nP76dtF19ktk/ZxyeA9KGwD+6NCg405ewvxbwsHc9E+4/lKdpVgJk1r9gzQHCzobrPzGZA//Av+s/G20CwLus3r9cYl8M7NPIv92e+DzKfds/+1/yh2kR2L/B6uFjXXriP/hqQmhIJuw/cBLmYL102z9pR0kUGg3XP96RBaZkc+4/whub45B+2z9jbJsDn/XHP4BUTvaMQ+k/Qom3yW6x4T9Lmks/qartPwXugjZ9XN4/xp0GO1T3wr+jnVsG+1/Tv624f2421uc/49sVqdNr7T92OJrzfyfqPzDvoSJTWuY/Itb/2CbZ3z9UWJBZNffYvyrM5A3HbMI/rTuatYoE279xK5EJ3SnZPxTXQsNtB+w/WF9L2eOuwL9i8bwJaDqjP6el3ffO88w/guqbaSLu6D9zBcET5M97vylpWYf4ieU//YCmEhNT0j/ePr+yclPUv8PznR55ku0/0oQTYQ143j81p4uwgDrtP3h0QZsdfus/+zxuvnE81T+E7e5ThKruPzDiT/IoTeE/1W6sOlVd4T+Qe/fQRPzmP8eMzaUtU+M/t44rWsR0vz8cNGtUnF3qP5POH1QFYu0/W4rx8PC75j+StAdOHCLsPxilJmC2wuc/LVVsYIl/6z9IBPnt2JrgP4+AWGI40qA/M/d7eSiT1z9hbZZeiU3TP1oYxhN9deQ/5zf3eiH15z83powcooGzPwSXMoRBKuQ/ETmqSs8o5j+b4zZo0bjpPyuCXFOMceY/4oQP2r8i7T9G3GTzmznsP8aw9gIL8ew/aCEifWrc3T/D6ClqRUvQP1Y1CYJWfOC/0jYHJGIDtb9Xf0V+7ojbv9tLioP2KOE/kIIYy6nK5z92ql5nQuK+P4NxpDxxAN2/FOVgzpHJ27/cfGsHd+TFPw3olzMCU+c/WUCV9lik2T8ZhZV6kNDBv3D+/bTZ7d+/mNWlO0Ga5z9IzZlZocftP+qDBdTMaug/1b/8Gedc3T8kXlPzI5PlP1kzOuUScec/XN9jfTOU4T9QH6USYPbNP8fKnl+glrW/HSAA56bI6j8/DQ4vDkfpvy0uuuA5uMC/d34n5rH1679pqApaqR/kP4CsJjMSBNK/Gd10fVhc6D80qrmz+f3RvzpoJGZW7ME/4bNJAD/u6r94S8h1JRPoP6c+sbHcY8k/gEa2XuhKqr9KWhFWM/LnPxpO4fuFd+c/xB0qgx1Wvb9c+UC4bgfiPzDEg2Du1uw/58TxKB343T/e/hb8CYWYv+LzYsJqD86/4bhBiEVTyz/BToBqA9vWP64xF9pgPcK/4v3AE18M7T+zXM6FQf+3Pyc1PtIqUb8/5YJmwpcl2D8xzaZd5W+yv4MjC8Fc4u0/qMdWVwok2z8i4Oe6ulfnPwwZh904Nc4/+sqtkkH/7D9YKB7Y2kLvP9B07jAvp+w/MNwATIUQ5D+WRwRXKQ3vP4S4RWSMJO8/iawKsVKz5D8dwa6/qbjiP/txEIxGVO0/Hu0pSk9F7T9A9sKWGSHuP76uRnONu+c/ItSGbQ/g5T/kBSs0/GrvPyhl81CNA+I/2BI3Yzfh7D9/MuZELefaP5k+s7T/rec/g5ySBHxa7z+RfAWcgBrkP79n2SLwjOg/XEkRATt/xj/6v05/zcHdP1BxJTtVZ+e/ROIZfiPv6D9OULx4uQzhP8JABSF4x8o/sEVCGeFt4j9taDxIg1flP2pY6+OIoZu/ED4KcUxS6z861sePSiLFP7gjE+sia+M/OG79eXSn5z9vUDDTX9/lv/WAdDmOdc0/OT7f7cs61j8kcPqeBz3sP3bm+qZo9Og/jx72u7Kl4D+Ar7P55kzpPyVcijRJM+s/ijkcm/5C7T9oUXPEyJTsP969YeHZHOw/ewWkAgHT2D9VZnGKR6HhP6+k3vD1ytA/jx7b87I03z+jtETE6XDjP9219OvFEdW/lHvVgyWv6T+LKPxsrsTnP6W2YQR9088/2sPw9Ccetj9bQG1289bnP9ekFxA3Utk/ky7lgDFn5z9lJkywJTeuP4q/IlNLBeM/",
          "dtype": "f8",
          "shape": "18, 64"
         }
        }
       ],
       "layout": {
        "autosize": false,
        "coloraxis": {
         "colorbar": {
          "title": {
           "text": "Correlation"
          }
         },
         "colorscale": [
          [
           0,
           "rgb(5,48,97)"
          ],
          [
           0.1,
           "rgb(33,102,172)"
          ],
          [
           0.2,
           "rgb(67,147,195)"
          ],
          [
           0.3,
           "rgb(146,197,222)"
          ],
          [
           0.4,
           "rgb(209,229,240)"
          ],
          [
           0.5,
           "rgb(247,247,247)"
          ],
          [
           0.6,
           "rgb(253,219,199)"
          ],
          [
           0.7,
           "rgb(244,165,130)"
          ],
          [
           0.8,
           "rgb(214,96,77)"
          ],
          [
           0.9,
           "rgb(178,24,43)"
          ],
          [
           1,
           "rgb(103,0,31)"
          ]
         ]
        },
        "height": 600,
        "template": {
         "data": {
          "bar": [
           {
            "error_x": {
             "color": "#2a3f5f"
            },
            "error_y": {
             "color": "#2a3f5f"
            },
            "marker": {
             "line": {
              "color": "#E5ECF6",
              "width": 0.5
             },
             "pattern": {
              "fillmode": "overlay",
              "size": 10,
              "solidity": 0.2
             }
            },
            "type": "bar"
           }
          ],
          "barpolar": [
           {
            "marker": {
             "line": {
              "color": "#E5ECF6",
              "width": 0.5
             },
             "pattern": {
              "fillmode": "overlay",
              "size": 10,
              "solidity": 0.2
             }
            },
            "type": "barpolar"
           }
          ],
          "carpet": [
           {
            "aaxis": {
             "endlinecolor": "#2a3f5f",
             "gridcolor": "white",
             "linecolor": "white",
             "minorgridcolor": "white",
             "startlinecolor": "#2a3f5f"
            },
            "baxis": {
             "endlinecolor": "#2a3f5f",
             "gridcolor": "white",
             "linecolor": "white",
             "minorgridcolor": "white",
             "startlinecolor": "#2a3f5f"
            },
            "type": "carpet"
           }
          ],
          "choropleth": [
           {
            "colorbar": {
             "outlinewidth": 0,
             "ticks": ""
            },
            "type": "choropleth"
           }
          ],
          "contour": [
           {
            "colorbar": {
             "outlinewidth": 0,
             "ticks": ""
            },
            "colorscale": [
             [
              0,
              "#0d0887"
             ],
             [
              0.1111111111111111,
              "#46039f"
             ],
             [
              0.2222222222222222,
              "#7201a8"
             ],
             [
              0.3333333333333333,
              "#9c179e"
             ],
             [
              0.4444444444444444,
              "#bd3786"
             ],
             [
              0.5555555555555556,
              "#d8576b"
             ],
             [
              0.6666666666666666,
              "#ed7953"
             ],
             [
              0.7777777777777778,
              "#fb9f3a"
             ],
             [
              0.8888888888888888,
              "#fdca26"
             ],
             [
              1,
              "#f0f921"
             ]
            ],
            "type": "contour"
           }
          ],
          "contourcarpet": [
           {
            "colorbar": {
             "outlinewidth": 0,
             "ticks": ""
            },
            "type": "contourcarpet"
           }
          ],
          "heatmap": [
           {
            "colorbar": {
             "outlinewidth": 0,
             "ticks": ""
            },
            "colorscale": [
             [
              0,
              "#0d0887"
             ],
             [
              0.1111111111111111,
              "#46039f"
             ],
             [
              0.2222222222222222,
              "#7201a8"
             ],
             [
              0.3333333333333333,
              "#9c179e"
             ],
             [
              0.4444444444444444,
              "#bd3786"
             ],
             [
              0.5555555555555556,
              "#d8576b"
             ],
             [
              0.6666666666666666,
              "#ed7953"
             ],
             [
              0.7777777777777778,
              "#fb9f3a"
             ],
             [
              0.8888888888888888,
              "#fdca26"
             ],
             [
              1,
              "#f0f921"
             ]
            ],
            "type": "heatmap"
           }
          ],
          "histogram": [
           {
            "marker": {
             "pattern": {
              "fillmode": "overlay",
              "size": 10,
              "solidity": 0.2
             }
            },
            "type": "histogram"
           }
          ],
          "histogram2d": [
           {
            "colorbar": {
             "outlinewidth": 0,
             "ticks": ""
            },
            "colorscale": [
             [
              0,
              "#0d0887"
             ],
             [
              0.1111111111111111,
              "#46039f"
             ],
             [
              0.2222222222222222,
              "#7201a8"
             ],
             [
              0.3333333333333333,
              "#9c179e"
             ],
             [
              0.4444444444444444,
              "#bd3786"
             ],
             [
              0.5555555555555556,
              "#d8576b"
             ],
             [
              0.6666666666666666,
              "#ed7953"
             ],
             [
              0.7777777777777778,
              "#fb9f3a"
             ],
             [
              0.8888888888888888,
              "#fdca26"
             ],
             [
              1,
              "#f0f921"
             ]
            ],
            "type": "histogram2d"
           }
          ],
          "histogram2dcontour": [
           {
            "colorbar": {
             "outlinewidth": 0,
             "ticks": ""
            },
            "colorscale": [
             [
              0,
              "#0d0887"
             ],
             [
              0.1111111111111111,
              "#46039f"
             ],
             [
              0.2222222222222222,
              "#7201a8"
             ],
             [
              0.3333333333333333,
              "#9c179e"
             ],
             [
              0.4444444444444444,
              "#bd3786"
             ],
             [
              0.5555555555555556,
              "#d8576b"
             ],
             [
              0.6666666666666666,
              "#ed7953"
             ],
             [
              0.7777777777777778,
              "#fb9f3a"
             ],
             [
              0.8888888888888888,
              "#fdca26"
             ],
             [
              1,
              "#f0f921"
             ]
            ],
            "type": "histogram2dcontour"
           }
          ],
          "mesh3d": [
           {
            "colorbar": {
             "outlinewidth": 0,
             "ticks": ""
            },
            "type": "mesh3d"
           }
          ],
          "parcoords": [
           {
            "line": {
             "colorbar": {
              "outlinewidth": 0,
              "ticks": ""
             }
            },
            "type": "parcoords"
           }
          ],
          "pie": [
           {
            "automargin": true,
            "type": "pie"
           }
          ],
          "scatter": [
           {
            "fillpattern": {
             "fillmode": "overlay",
             "size": 10,
             "solidity": 0.2
            },
            "type": "scatter"
           }
          ],
          "scatter3d": [
           {
            "line": {
             "colorbar": {
              "outlinewidth": 0,
              "ticks": ""
             }
            },
            "marker": {
             "colorbar": {
              "outlinewidth": 0,
              "ticks": ""
             }
            },
            "type": "scatter3d"
           }
          ],
          "scattercarpet": [
           {
            "marker": {
             "colorbar": {
              "outlinewidth": 0,
              "ticks": ""
             }
            },
            "type": "scattercarpet"
           }
          ],
          "scattergeo": [
           {
            "marker": {
             "colorbar": {
              "outlinewidth": 0,
              "ticks": ""
             }
            },
            "type": "scattergeo"
           }
          ],
          "scattergl": [
           {
            "marker": {
             "colorbar": {
              "outlinewidth": 0,
              "ticks": ""
             }
            },
            "type": "scattergl"
           }
          ],
          "scattermap": [
           {
            "marker": {
             "colorbar": {
              "outlinewidth": 0,
              "ticks": ""
             }
            },
            "type": "scattermap"
           }
          ],
          "scattermapbox": [
           {
            "marker": {
             "colorbar": {
              "outlinewidth": 0,
              "ticks": ""
             }
            },
            "type": "scattermapbox"
           }
          ],
          "scatterpolar": [
           {
            "marker": {
             "colorbar": {
              "outlinewidth": 0,
              "ticks": ""
             }
            },
            "type": "scatterpolar"
           }
          ],
          "scatterpolargl": [
           {
            "marker": {
             "colorbar": {
              "outlinewidth": 0,
              "ticks": ""
             }
            },
            "type": "scatterpolargl"
           }
          ],
          "scatterternary": [
           {
            "marker": {
             "colorbar": {
              "outlinewidth": 0,
              "ticks": ""
             }
            },
            "type": "scatterternary"
           }
          ],
          "surface": [
           {
            "colorbar": {
             "outlinewidth": 0,
             "ticks": ""
            },
            "colorscale": [
             [
              0,
              "#0d0887"
             ],
             [
              0.1111111111111111,
              "#46039f"
             ],
             [
              0.2222222222222222,
              "#7201a8"
             ],
             [
              0.3333333333333333,
              "#9c179e"
             ],
             [
              0.4444444444444444,
              "#bd3786"
             ],
             [
              0.5555555555555556,
              "#d8576b"
             ],
             [
              0.6666666666666666,
              "#ed7953"
             ],
             [
              0.7777777777777778,
              "#fb9f3a"
             ],
             [
              0.8888888888888888,
              "#fdca26"
             ],
             [
              1,
              "#f0f921"
             ]
            ],
            "type": "surface"
           }
          ],
          "table": [
           {
            "cells": {
             "fill": {
              "color": "#EBF0F8"
             },
             "line": {
              "color": "white"
             }
            },
            "header": {
             "fill": {
              "color": "#C8D4E3"
             },
             "line": {
              "color": "white"
             }
            },
            "type": "table"
           }
          ]
         },
         "layout": {
          "annotationdefaults": {
           "arrowcolor": "#2a3f5f",
           "arrowhead": 0,
           "arrowwidth": 1
          },
          "autotypenumbers": "strict",
          "coloraxis": {
           "colorbar": {
            "outlinewidth": 0,
            "ticks": ""
           }
          },
          "colorscale": {
           "diverging": [
            [
             0,
             "#8e0152"
            ],
            [
             0.1,
             "#c51b7d"
            ],
            [
             0.2,
             "#de77ae"
            ],
            [
             0.3,
             "#f1b6da"
            ],
            [
             0.4,
             "#fde0ef"
            ],
            [
             0.5,
             "#f7f7f7"
            ],
            [
             0.6,
             "#e6f5d0"
            ],
            [
             0.7,
             "#b8e186"
            ],
            [
             0.8,
             "#7fbc41"
            ],
            [
             0.9,
             "#4d9221"
            ],
            [
             1,
             "#276419"
            ]
           ],
           "sequential": [
            [
             0,
             "#0d0887"
            ],
            [
             0.1111111111111111,
             "#46039f"
            ],
            [
             0.2222222222222222,
             "#7201a8"
            ],
            [
             0.3333333333333333,
             "#9c179e"
            ],
            [
             0.4444444444444444,
             "#bd3786"
            ],
            [
             0.5555555555555556,
             "#d8576b"
            ],
            [
             0.6666666666666666,
             "#ed7953"
            ],
            [
             0.7777777777777778,
             "#fb9f3a"
            ],
            [
             0.8888888888888888,
             "#fdca26"
            ],
            [
             1,
             "#f0f921"
            ]
           ],
           "sequentialminus": [
            [
             0,
             "#0d0887"
            ],
            [
             0.1111111111111111,
             "#46039f"
            ],
            [
             0.2222222222222222,
             "#7201a8"
            ],
            [
             0.3333333333333333,
             "#9c179e"
            ],
            [
             0.4444444444444444,
             "#bd3786"
            ],
            [
             0.5555555555555556,
             "#d8576b"
            ],
            [
             0.6666666666666666,
             "#ed7953"
            ],
            [
             0.7777777777777778,
             "#fb9f3a"
            ],
            [
             0.8888888888888888,
             "#fdca26"
            ],
            [
             1,
             "#f0f921"
            ]
           ]
          },
          "colorway": [
           "#636efa",
           "#EF553B",
           "#00cc96",
           "#ab63fa",
           "#FFA15A",
           "#19d3f3",
           "#FF6692",
           "#B6E880",
           "#FF97FF",
           "#FECB52"
          ],
          "font": {
           "color": "#2a3f5f"
          },
          "geo": {
           "bgcolor": "white",
           "lakecolor": "white",
           "landcolor": "#E5ECF6",
           "showlakes": true,
           "showland": true,
           "subunitcolor": "white"
          },
          "hoverlabel": {
           "align": "left"
          },
          "hovermode": "closest",
          "mapbox": {
           "style": "light"
          },
          "paper_bgcolor": "white",
          "plot_bgcolor": "#E5ECF6",
          "polar": {
           "angularaxis": {
            "gridcolor": "white",
            "linecolor": "white",
            "ticks": ""
           },
           "bgcolor": "#E5ECF6",
           "radialaxis": {
            "gridcolor": "white",
            "linecolor": "white",
            "ticks": ""
           }
          },
          "scene": {
           "xaxis": {
            "backgroundcolor": "#E5ECF6",
            "gridcolor": "white",
            "gridwidth": 2,
            "linecolor": "white",
            "showbackground": true,
            "ticks": "",
            "zerolinecolor": "white"
           },
           "yaxis": {
            "backgroundcolor": "#E5ECF6",
            "gridcolor": "white",
            "gridwidth": 2,
            "linecolor": "white",
            "showbackground": true,
            "ticks": "",
            "zerolinecolor": "white"
           },
           "zaxis": {
            "backgroundcolor": "#E5ECF6",
            "gridcolor": "white",
            "gridwidth": 2,
            "linecolor": "white",
            "showbackground": true,
            "ticks": "",
            "zerolinecolor": "white"
           }
          },
          "shapedefaults": {
           "line": {
            "color": "#2a3f5f"
           }
          },
          "ternary": {
           "aaxis": {
            "gridcolor": "white",
            "linecolor": "white",
            "ticks": ""
           },
           "baxis": {
            "gridcolor": "white",
            "linecolor": "white",
            "ticks": ""
           },
           "bgcolor": "#E5ECF6",
           "caxis": {
            "gridcolor": "white",
            "linecolor": "white",
            "ticks": ""
           }
          },
          "title": {
           "x": 0.05
          },
          "xaxis": {
           "automargin": true,
           "gridcolor": "white",
           "linecolor": "white",
           "ticks": "",
           "title": {
            "standoff": 15
           },
           "zerolinecolor": "white",
           "zerolinewidth": 2
          },
          "yaxis": {
           "automargin": true,
           "gridcolor": "white",
           "linecolor": "white",
           "ticks": "",
           "title": {
            "standoff": 15
           },
           "zerolinecolor": "white",
           "zerolinewidth": 2
          }
         }
        },
        "title": {
         "text": "📊 Monthly Correlation Heatmap (Group 1) - MSCI_COLCAP_Valor hoy"
        },
        "width": 1000,
        "xaxis": {
         "anchor": "y",
         "domain": [
          0,
          1
         ],
         "tickangle": -45,
         "title": {
          "text": "Month"
         }
        },
        "yaxis": {
         "anchor": "x",
         "autorange": "reversed",
         "domain": [
          0,
          1
         ],
         "title": {
          "text": "Stock"
         }
        }
       }
      }
     },
     "metadata": {},
     "output_type": "display_data"
    },
    {
     "data": {
      "application/vnd.plotly.v1+json": {
       "config": {
        "plotlyServerURL": "https://plot.ly"
       },
       "data": [
        {
         "coloraxis": "coloraxis",
         "hovertemplate": "Month: %{x}<br>Stock: %{y}<br>Correlation: %{z}<extra></extra>",
         "name": "0",
         "type": "heatmap",
         "x": [
          "2020-03",
          "2020-04",
          "2020-05",
          "2020-06",
          "2020-07",
          "2020-08",
          "2020-09",
          "2020-10",
          "2020-11",
          "2020-12",
          "2021-01",
          "2021-02",
          "2021-03",
          "2021-04",
          "2021-05",
          "2021-06",
          "2021-07",
          "2021-08",
          "2021-09",
          "2021-10",
          "2021-11",
          "2021-12",
          "2022-01",
          "2022-02",
          "2022-03",
          "2022-04",
          "2022-05",
          "2022-06",
          "2022-07",
          "2022-08",
          "2022-09",
          "2022-10",
          "2022-11",
          "2022-12",
          "2023-01",
          "2023-02",
          "2023-03",
          "2023-04",
          "2023-05",
          "2023-06",
          "2023-07",
          "2023-08",
          "2023-09",
          "2023-10",
          "2023-11",
          "2023-12",
          "2024-01",
          "2024-02",
          "2024-03",
          "2024-04",
          "2024-05",
          "2024-06",
          "2024-07",
          "2024-08",
          "2024-09",
          "2024-10",
          "2024-11",
          "2024-12",
          "2025-01",
          "2025-02",
          "2025-03",
          "2025-04",
          "2025-05",
          "2025-06"
         ],
         "xaxis": "x",
         "y": [
          "GRUPOAVAL_Precio cierre",
          "GRUPOSURA_Precio cierre",
          "GXTESCOL_Precio cierre",
          "HCOLSEL_Precio cierre",
          "ICOLCAP_Precio cierre",
          "ISA_Precio cierre",
          "MINEROS_Precio cierre",
          "NUTRESA_Precio cierre",
          "PEI_Precio cierre",
          "PFAVAL_Precio cierre",
          "PFBCOLOMBIA_Precio cierre",
          "PFCEMARGOS_Precio cierre",
          "PFCORFICOL_Precio cierre",
          "PFDAVVNDA_Precio cierre",
          "PFGRUPARG_Precio cierre",
          "PFGRUPOSURA_Precio cierre",
          "PROMIGAS_Precio cierre",
          "TERPEL_Precio cierre"
         ],
         "yaxis": "y",
         "z": {
          "bdata": "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",
          "dtype": "f8",
          "shape": "18, 64"
         }
        }
       ],
       "layout": {
        "autosize": false,
        "coloraxis": {
         "colorbar": {
          "title": {
           "text": "Correlation"
          }
         },
         "colorscale": [
          [
           0,
           "rgb(5,48,97)"
          ],
          [
           0.1,
           "rgb(33,102,172)"
          ],
          [
           0.2,
           "rgb(67,147,195)"
          ],
          [
           0.3,
           "rgb(146,197,222)"
          ],
          [
           0.4,
           "rgb(209,229,240)"
          ],
          [
           0.5,
           "rgb(247,247,247)"
          ],
          [
           0.6,
           "rgb(253,219,199)"
          ],
          [
           0.7,
           "rgb(244,165,130)"
          ],
          [
           0.8,
           "rgb(214,96,77)"
          ],
          [
           0.9,
           "rgb(178,24,43)"
          ],
          [
           1,
           "rgb(103,0,31)"
          ]
         ]
        },
        "height": 600,
        "template": {
         "data": {
          "bar": [
           {
            "error_x": {
             "color": "#2a3f5f"
            },
            "error_y": {
             "color": "#2a3f5f"
            },
            "marker": {
             "line": {
              "color": "#E5ECF6",
              "width": 0.5
             },
             "pattern": {
              "fillmode": "overlay",
              "size": 10,
              "solidity": 0.2
             }
            },
            "type": "bar"
           }
          ],
          "barpolar": [
           {
            "marker": {
             "line": {
              "color": "#E5ECF6",
              "width": 0.5
             },
             "pattern": {
              "fillmode": "overlay",
              "size": 10,
              "solidity": 0.2
             }
            },
            "type": "barpolar"
           }
          ],
          "carpet": [
           {
            "aaxis": {
             "endlinecolor": "#2a3f5f",
             "gridcolor": "white",
             "linecolor": "white",
             "minorgridcolor": "white",
             "startlinecolor": "#2a3f5f"
            },
            "baxis": {
             "endlinecolor": "#2a3f5f",
             "gridcolor": "white",
             "linecolor": "white",
             "minorgridcolor": "white",
             "startlinecolor": "#2a3f5f"
            },
            "type": "carpet"
           }
          ],
          "choropleth": [
           {
            "colorbar": {
             "outlinewidth": 0,
             "ticks": ""
            },
            "type": "choropleth"
           }
          ],
          "contour": [
           {
            "colorbar": {
             "outlinewidth": 0,
             "ticks": ""
            },
            "colorscale": [
             [
              0,
              "#0d0887"
             ],
             [
              0.1111111111111111,
              "#46039f"
             ],
             [
              0.2222222222222222,
              "#7201a8"
             ],
             [
              0.3333333333333333,
              "#9c179e"
             ],
             [
              0.4444444444444444,
              "#bd3786"
             ],
             [
              0.5555555555555556,
              "#d8576b"
             ],
             [
              0.6666666666666666,
              "#ed7953"
             ],
             [
              0.7777777777777778,
              "#fb9f3a"
             ],
             [
              0.8888888888888888,
              "#fdca26"
             ],
             [
              1,
              "#f0f921"
             ]
            ],
            "type": "contour"
           }
          ],
          "contourcarpet": [
           {
            "colorbar": {
             "outlinewidth": 0,
             "ticks": ""
            },
            "type": "contourcarpet"
           }
          ],
          "heatmap": [
           {
            "colorbar": {
             "outlinewidth": 0,
             "ticks": ""
            },
            "colorscale": [
             [
              0,
              "#0d0887"
             ],
             [
              0.1111111111111111,
              "#46039f"
             ],
             [
              0.2222222222222222,
              "#7201a8"
             ],
             [
              0.3333333333333333,
              "#9c179e"
             ],
             [
              0.4444444444444444,
              "#bd3786"
             ],
             [
              0.5555555555555556,
              "#d8576b"
             ],
             [
              0.6666666666666666,
              "#ed7953"
             ],
             [
              0.7777777777777778,
              "#fb9f3a"
             ],
             [
              0.8888888888888888,
              "#fdca26"
             ],
             [
              1,
              "#f0f921"
             ]
            ],
            "type": "heatmap"
           }
          ],
          "histogram": [
           {
            "marker": {
             "pattern": {
              "fillmode": "overlay",
              "size": 10,
              "solidity": 0.2
             }
            },
            "type": "histogram"
           }
          ],
          "histogram2d": [
           {
            "colorbar": {
             "outlinewidth": 0,
             "ticks": ""
            },
            "colorscale": [
             [
              0,
              "#0d0887"
             ],
             [
              0.1111111111111111,
              "#46039f"
             ],
             [
              0.2222222222222222,
              "#7201a8"
             ],
             [
              0.3333333333333333,
              "#9c179e"
             ],
             [
              0.4444444444444444,
              "#bd3786"
             ],
             [
              0.5555555555555556,
              "#d8576b"
             ],
             [
              0.6666666666666666,
              "#ed7953"
             ],
             [
              0.7777777777777778,
              "#fb9f3a"
             ],
             [
              0.8888888888888888,
              "#fdca26"
             ],
             [
              1,
              "#f0f921"
             ]
            ],
            "type": "histogram2d"
           }
          ],
          "histogram2dcontour": [
           {
            "colorbar": {
             "outlinewidth": 0,
             "ticks": ""
            },
            "colorscale": [
             [
              0,
              "#0d0887"
             ],
             [
              0.1111111111111111,
              "#46039f"
             ],
             [
              0.2222222222222222,
              "#7201a8"
             ],
             [
              0.3333333333333333,
              "#9c179e"
             ],
             [
              0.4444444444444444,
              "#bd3786"
             ],
             [
              0.5555555555555556,
              "#d8576b"
             ],
             [
              0.6666666666666666,
              "#ed7953"
             ],
             [
              0.7777777777777778,
              "#fb9f3a"
             ],
             [
              0.8888888888888888,
              "#fdca26"
             ],
             [
              1,
              "#f0f921"
             ]
            ],
            "type": "histogram2dcontour"
           }
          ],
          "mesh3d": [
           {
            "colorbar": {
             "outlinewidth": 0,
             "ticks": ""
            },
            "type": "mesh3d"
           }
          ],
          "parcoords": [
           {
            "line": {
             "colorbar": {
              "outlinewidth": 0,
              "ticks": ""
             }
            },
            "type": "parcoords"
           }
          ],
          "pie": [
           {
            "automargin": true,
            "type": "pie"
           }
          ],
          "scatter": [
           {
            "fillpattern": {
             "fillmode": "overlay",
             "size": 10,
             "solidity": 0.2
            },
            "type": "scatter"
           }
          ],
          "scatter3d": [
           {
            "line": {
             "colorbar": {
              "outlinewidth": 0,
              "ticks": ""
             }
            },
            "marker": {
             "colorbar": {
              "outlinewidth": 0,
              "ticks": ""
             }
            },
            "type": "scatter3d"
           }
          ],
          "scattercarpet": [
           {
            "marker": {
             "colorbar": {
              "outlinewidth": 0,
              "ticks": ""
             }
            },
            "type": "scattercarpet"
           }
          ],
          "scattergeo": [
           {
            "marker": {
             "colorbar": {
              "outlinewidth": 0,
              "ticks": ""
             }
            },
            "type": "scattergeo"
           }
          ],
          "scattergl": [
           {
            "marker": {
             "colorbar": {
              "outlinewidth": 0,
              "ticks": ""
             }
            },
            "type": "scattergl"
           }
          ],
          "scattermap": [
           {
            "marker": {
             "colorbar": {
              "outlinewidth": 0,
              "ticks": ""
             }
            },
            "type": "scattermap"
           }
          ],
          "scattermapbox": [
           {
            "marker": {
             "colorbar": {
              "outlinewidth": 0,
              "ticks": ""
             }
            },
            "type": "scattermapbox"
           }
          ],
          "scatterpolar": [
           {
            "marker": {
             "colorbar": {
              "outlinewidth": 0,
              "ticks": ""
             }
            },
            "type": "scatterpolar"
           }
          ],
          "scatterpolargl": [
           {
            "marker": {
             "colorbar": {
              "outlinewidth": 0,
              "ticks": ""
             }
            },
            "type": "scatterpolargl"
           }
          ],
          "scatterternary": [
           {
            "marker": {
             "colorbar": {
              "outlinewidth": 0,
              "ticks": ""
             }
            },
            "type": "scatterternary"
           }
          ],
          "surface": [
           {
            "colorbar": {
             "outlinewidth": 0,
             "ticks": ""
            },
            "colorscale": [
             [
              0,
              "#0d0887"
             ],
             [
              0.1111111111111111,
              "#46039f"
             ],
             [
              0.2222222222222222,
              "#7201a8"
             ],
             [
              0.3333333333333333,
              "#9c179e"
             ],
             [
              0.4444444444444444,
              "#bd3786"
             ],
             [
              0.5555555555555556,
              "#d8576b"
             ],
             [
              0.6666666666666666,
              "#ed7953"
             ],
             [
              0.7777777777777778,
              "#fb9f3a"
             ],
             [
              0.8888888888888888,
              "#fdca26"
             ],
             [
              1,
              "#f0f921"
             ]
            ],
            "type": "surface"
           }
          ],
          "table": [
           {
            "cells": {
             "fill": {
              "color": "#EBF0F8"
             },
             "line": {
              "color": "white"
             }
            },
            "header": {
             "fill": {
              "color": "#C8D4E3"
             },
             "line": {
              "color": "white"
             }
            },
            "type": "table"
           }
          ]
         },
         "layout": {
          "annotationdefaults": {
           "arrowcolor": "#2a3f5f",
           "arrowhead": 0,
           "arrowwidth": 1
          },
          "autotypenumbers": "strict",
          "coloraxis": {
           "colorbar": {
            "outlinewidth": 0,
            "ticks": ""
           }
          },
          "colorscale": {
           "diverging": [
            [
             0,
             "#8e0152"
            ],
            [
             0.1,
             "#c51b7d"
            ],
            [
             0.2,
             "#de77ae"
            ],
            [
             0.3,
             "#f1b6da"
            ],
            [
             0.4,
             "#fde0ef"
            ],
            [
             0.5,
             "#f7f7f7"
            ],
            [
             0.6,
             "#e6f5d0"
            ],
            [
             0.7,
             "#b8e186"
            ],
            [
             0.8,
             "#7fbc41"
            ],
            [
             0.9,
             "#4d9221"
            ],
            [
             1,
             "#276419"
            ]
           ],
           "sequential": [
            [
             0,
             "#0d0887"
            ],
            [
             0.1111111111111111,
             "#46039f"
            ],
            [
             0.2222222222222222,
             "#7201a8"
            ],
            [
             0.3333333333333333,
             "#9c179e"
            ],
            [
             0.4444444444444444,
             "#bd3786"
            ],
            [
             0.5555555555555556,
             "#d8576b"
            ],
            [
             0.6666666666666666,
             "#ed7953"
            ],
            [
             0.7777777777777778,
             "#fb9f3a"
            ],
            [
             0.8888888888888888,
             "#fdca26"
            ],
            [
             1,
             "#f0f921"
            ]
           ],
           "sequentialminus": [
            [
             0,
             "#0d0887"
            ],
            [
             0.1111111111111111,
             "#46039f"
            ],
            [
             0.2222222222222222,
             "#7201a8"
            ],
            [
             0.3333333333333333,
             "#9c179e"
            ],
            [
             0.4444444444444444,
             "#bd3786"
            ],
            [
             0.5555555555555556,
             "#d8576b"
            ],
            [
             0.6666666666666666,
             "#ed7953"
            ],
            [
             0.7777777777777778,
             "#fb9f3a"
            ],
            [
             0.8888888888888888,
             "#fdca26"
            ],
            [
             1,
             "#f0f921"
            ]
           ]
          },
          "colorway": [
           "#636efa",
           "#EF553B",
           "#00cc96",
           "#ab63fa",
           "#FFA15A",
           "#19d3f3",
           "#FF6692",
           "#B6E880",
           "#FF97FF",
           "#FECB52"
          ],
          "font": {
           "color": "#2a3f5f"
          },
          "geo": {
           "bgcolor": "white",
           "lakecolor": "white",
           "landcolor": "#E5ECF6",
           "showlakes": true,
           "showland": true,
           "subunitcolor": "white"
          },
          "hoverlabel": {
           "align": "left"
          },
          "hovermode": "closest",
          "mapbox": {
           "style": "light"
          },
          "paper_bgcolor": "white",
          "plot_bgcolor": "#E5ECF6",
          "polar": {
           "angularaxis": {
            "gridcolor": "white",
            "linecolor": "white",
            "ticks": ""
           },
           "bgcolor": "#E5ECF6",
           "radialaxis": {
            "gridcolor": "white",
            "linecolor": "white",
            "ticks": ""
           }
          },
          "scene": {
           "xaxis": {
            "backgroundcolor": "#E5ECF6",
            "gridcolor": "white",
            "gridwidth": 2,
            "linecolor": "white",
            "showbackground": true,
            "ticks": "",
            "zerolinecolor": "white"
           },
           "yaxis": {
            "backgroundcolor": "#E5ECF6",
            "gridcolor": "white",
            "gridwidth": 2,
            "linecolor": "white",
            "showbackground": true,
            "ticks": "",
            "zerolinecolor": "white"
           },
           "zaxis": {
            "backgroundcolor": "#E5ECF6",
            "gridcolor": "white",
            "gridwidth": 2,
            "linecolor": "white",
            "showbackground": true,
            "ticks": "",
            "zerolinecolor": "white"
           }
          },
          "shapedefaults": {
           "line": {
            "color": "#2a3f5f"
           }
          },
          "ternary": {
           "aaxis": {
            "gridcolor": "white",
            "linecolor": "white",
            "ticks": ""
           },
           "baxis": {
            "gridcolor": "white",
            "linecolor": "white",
            "ticks": ""
           },
           "bgcolor": "#E5ECF6",
           "caxis": {
            "gridcolor": "white",
            "linecolor": "white",
            "ticks": ""
           }
          },
          "title": {
           "x": 0.05
          },
          "xaxis": {
           "automargin": true,
           "gridcolor": "white",
           "linecolor": "white",
           "ticks": "",
           "title": {
            "standoff": 15
           },
           "zerolinecolor": "white",
           "zerolinewidth": 2
          },
          "yaxis": {
           "automargin": true,
           "gridcolor": "white",
           "linecolor": "white",
           "ticks": "",
           "title": {
            "standoff": 15
           },
           "zerolinecolor": "white",
           "zerolinewidth": 2
          }
         }
        },
        "title": {
         "text": "📊 Monthly Correlation Heatmap (Group 2) - MSCI_COLCAP_Valor hoy"
        },
        "width": 1000,
        "xaxis": {
         "anchor": "y",
         "domain": [
          0,
          1
         ],
         "tickangle": -45,
         "title": {
          "text": "Month"
         }
        },
        "yaxis": {
         "anchor": "x",
         "autorange": "reversed",
         "domain": [
          0,
          1
         ],
         "title": {
          "text": "Stock"
         }
        }
       }
      }
     },
     "metadata": {},
     "output_type": "display_data"
    }
   ],
   "source": [
    "monthly_corr.index = monthly_corr.index.astype(str)\n",
    "# 🔥 **Split into Two Groups**\n",
    "stocks = list(monthly_corr.columns)\n",
    "midpoint = len(stocks) // 2  # Divide into two equal parts\n",
    "\n",
    "group1 = stocks[:midpoint]  # First half\n",
    "group2 = stocks[midpoint:]  # Second half\n",
    "\n",
    "# **Function to Create Heatmap**\n",
    "def plot_heatmap(corr_data, group, title):\n",
    "    fig = px.imshow(\n",
    "        corr_data[group].T,  # Transpose for better view\n",
    "        labels=dict(x=\"Month\", y=\"Stock\", color=\"Correlation\"),\n",
    "        title=title,\n",
    "        color_continuous_scale=\"RdBu_r\",\n",
    "        aspect=\"auto\",\n",
    "    )\n",
    "\n",
    "    fig.update_layout(\n",
    "        autosize=False,\n",
    "        width=1000,\n",
    "        height=600,\n",
    "        xaxis=dict(tickangle=-45),\n",
    "    )\n",
    "\n",
    "    fig.show()\n",
    "\n",
    "# **Plot Heatmaps**\n",
    "plot_heatmap(monthly_corr, group1, f\"📊 Monthly Correlation Heatmap (Group 1) - {target_stock}\")\n",
    "plot_heatmap(monthly_corr, group2, f\"📊 Monthly Correlation Heatmap (Group 2) - {target_stock}\")\n"
   ]
  },
  {
   "cell_type": "code",
   "execution_count": 35,
   "metadata": {},
   "outputs": [
    {
     "name": "stderr",
     "output_type": "stream",
     "text": [
      "C:\\Users\\ACER\\AppData\\Local\\Temp\\ipykernel_15264\\108357642.py:22: FutureWarning:\n",
      "\n",
      "DataFrame.fillna with 'method' is deprecated and will raise in a future version. Use obj.ffill() or obj.bfill() instead.\n",
      "\n",
      "C:\\Users\\ACER\\AppData\\Local\\Temp\\ipykernel_15264\\108357642.py:23: FutureWarning:\n",
      "\n",
      "DataFrame.fillna with 'method' is deprecated and will raise in a future version. Use obj.ffill() or obj.bfill() instead.\n",
      "\n"
     ]
    },
    {
     "data": {
      "application/vnd.plotly.v1+json": {
       "config": {
        "plotlyServerURL": "https://plot.ly"
       },
       "data": [
        {
         "coloraxis": "coloraxis",
         "hovertemplate": "Month: %{x}<br>Stock: %{y}<br>Correlation: %{z}<extra></extra>",
         "name": "0",
         "type": "heatmap",
         "x": [
          "2024-06",
          "2024-07",
          "2024-08",
          "2024-09",
          "2024-10",
          "2024-11",
          "2024-12",
          "2025-01",
          "2025-02",
          "2025-03",
          "2025-04",
          "2025-05",
          "2025-06"
         ],
         "xaxis": "x",
         "y": [
          "BCOLOMBIA_Precio cierre",
          "BHI_Precio cierre",
          "BOGOTA_Precio cierre",
          "BVC_Precio cierre",
          "CELSIA_Precio cierre",
          "CEMARGOS_Precio cierre",
          "CNEC_Precio cierre",
          "CONCONCRETO_Precio cierre",
          "CORFICOL_Precio cierre",
          "ECOPETROL_Precio cierre",
          "ENKA_Precio cierre",
          "ETB_Precio cierre",
          "EXITO_Precio cierre",
          "FABRICATO_Precio cierre",
          "GEB_Precio cierre",
          "GRUBOLIVAR_Precio cierre",
          "GRUPOARGOS_Precio cierre"
         ],
         "yaxis": "y",
         "z": {
          "bdata": "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",
          "dtype": "f8",
          "shape": "17, 13"
         }
        }
       ],
       "layout": {
        "autosize": false,
        "coloraxis": {
         "colorbar": {
          "title": {
           "text": "Correlation"
          }
         },
         "colorscale": [
          [
           0,
           "rgb(5,48,97)"
          ],
          [
           0.1,
           "rgb(33,102,172)"
          ],
          [
           0.2,
           "rgb(67,147,195)"
          ],
          [
           0.3,
           "rgb(146,197,222)"
          ],
          [
           0.4,
           "rgb(209,229,240)"
          ],
          [
           0.5,
           "rgb(247,247,247)"
          ],
          [
           0.6,
           "rgb(253,219,199)"
          ],
          [
           0.7,
           "rgb(244,165,130)"
          ],
          [
           0.8,
           "rgb(214,96,77)"
          ],
          [
           0.9,
           "rgb(178,24,43)"
          ],
          [
           1,
           "rgb(103,0,31)"
          ]
         ]
        },
        "height": 600,
        "template": {
         "data": {
          "bar": [
           {
            "error_x": {
             "color": "#2a3f5f"
            },
            "error_y": {
             "color": "#2a3f5f"
            },
            "marker": {
             "line": {
              "color": "white",
              "width": 0.5
             },
             "pattern": {
              "fillmode": "overlay",
              "size": 10,
              "solidity": 0.2
             }
            },
            "type": "bar"
           }
          ],
          "barpolar": [
           {
            "marker": {
             "line": {
              "color": "white",
              "width": 0.5
             },
             "pattern": {
              "fillmode": "overlay",
              "size": 10,
              "solidity": 0.2
             }
            },
            "type": "barpolar"
           }
          ],
          "carpet": [
           {
            "aaxis": {
             "endlinecolor": "#2a3f5f",
             "gridcolor": "#C8D4E3",
             "linecolor": "#C8D4E3",
             "minorgridcolor": "#C8D4E3",
             "startlinecolor": "#2a3f5f"
            },
            "baxis": {
             "endlinecolor": "#2a3f5f",
             "gridcolor": "#C8D4E3",
             "linecolor": "#C8D4E3",
             "minorgridcolor": "#C8D4E3",
             "startlinecolor": "#2a3f5f"
            },
            "type": "carpet"
           }
          ],
          "choropleth": [
           {
            "colorbar": {
             "outlinewidth": 0,
             "ticks": ""
            },
            "type": "choropleth"
           }
          ],
          "contour": [
           {
            "colorbar": {
             "outlinewidth": 0,
             "ticks": ""
            },
            "colorscale": [
             [
              0,
              "#0d0887"
             ],
             [
              0.1111111111111111,
              "#46039f"
             ],
             [
              0.2222222222222222,
              "#7201a8"
             ],
             [
              0.3333333333333333,
              "#9c179e"
             ],
             [
              0.4444444444444444,
              "#bd3786"
             ],
             [
              0.5555555555555556,
              "#d8576b"
             ],
             [
              0.6666666666666666,
              "#ed7953"
             ],
             [
              0.7777777777777778,
              "#fb9f3a"
             ],
             [
              0.8888888888888888,
              "#fdca26"
             ],
             [
              1,
              "#f0f921"
             ]
            ],
            "type": "contour"
           }
          ],
          "contourcarpet": [
           {
            "colorbar": {
             "outlinewidth": 0,
             "ticks": ""
            },
            "type": "contourcarpet"
           }
          ],
          "heatmap": [
           {
            "colorbar": {
             "outlinewidth": 0,
             "ticks": ""
            },
            "colorscale": [
             [
              0,
              "#0d0887"
             ],
             [
              0.1111111111111111,
              "#46039f"
             ],
             [
              0.2222222222222222,
              "#7201a8"
             ],
             [
              0.3333333333333333,
              "#9c179e"
             ],
             [
              0.4444444444444444,
              "#bd3786"
             ],
             [
              0.5555555555555556,
              "#d8576b"
             ],
             [
              0.6666666666666666,
              "#ed7953"
             ],
             [
              0.7777777777777778,
              "#fb9f3a"
             ],
             [
              0.8888888888888888,
              "#fdca26"
             ],
             [
              1,
              "#f0f921"
             ]
            ],
            "type": "heatmap"
           }
          ],
          "histogram": [
           {
            "marker": {
             "pattern": {
              "fillmode": "overlay",
              "size": 10,
              "solidity": 0.2
             }
            },
            "type": "histogram"
           }
          ],
          "histogram2d": [
           {
            "colorbar": {
             "outlinewidth": 0,
             "ticks": ""
            },
            "colorscale": [
             [
              0,
              "#0d0887"
             ],
             [
              0.1111111111111111,
              "#46039f"
             ],
             [
              0.2222222222222222,
              "#7201a8"
             ],
             [
              0.3333333333333333,
              "#9c179e"
             ],
             [
              0.4444444444444444,
              "#bd3786"
             ],
             [
              0.5555555555555556,
              "#d8576b"
             ],
             [
              0.6666666666666666,
              "#ed7953"
             ],
             [
              0.7777777777777778,
              "#fb9f3a"
             ],
             [
              0.8888888888888888,
              "#fdca26"
             ],
             [
              1,
              "#f0f921"
             ]
            ],
            "type": "histogram2d"
           }
          ],
          "histogram2dcontour": [
           {
            "colorbar": {
             "outlinewidth": 0,
             "ticks": ""
            },
            "colorscale": [
             [
              0,
              "#0d0887"
             ],
             [
              0.1111111111111111,
              "#46039f"
             ],
             [
              0.2222222222222222,
              "#7201a8"
             ],
             [
              0.3333333333333333,
              "#9c179e"
             ],
             [
              0.4444444444444444,
              "#bd3786"
             ],
             [
              0.5555555555555556,
              "#d8576b"
             ],
             [
              0.6666666666666666,
              "#ed7953"
             ],
             [
              0.7777777777777778,
              "#fb9f3a"
             ],
             [
              0.8888888888888888,
              "#fdca26"
             ],
             [
              1,
              "#f0f921"
             ]
            ],
            "type": "histogram2dcontour"
           }
          ],
          "mesh3d": [
           {
            "colorbar": {
             "outlinewidth": 0,
             "ticks": ""
            },
            "type": "mesh3d"
           }
          ],
          "parcoords": [
           {
            "line": {
             "colorbar": {
              "outlinewidth": 0,
              "ticks": ""
             }
            },
            "type": "parcoords"
           }
          ],
          "pie": [
           {
            "automargin": true,
            "type": "pie"
           }
          ],
          "scatter": [
           {
            "fillpattern": {
             "fillmode": "overlay",
             "size": 10,
             "solidity": 0.2
            },
            "type": "scatter"
           }
          ],
          "scatter3d": [
           {
            "line": {
             "colorbar": {
              "outlinewidth": 0,
              "ticks": ""
             }
            },
            "marker": {
             "colorbar": {
              "outlinewidth": 0,
              "ticks": ""
             }
            },
            "type": "scatter3d"
           }
          ],
          "scattercarpet": [
           {
            "marker": {
             "colorbar": {
              "outlinewidth": 0,
              "ticks": ""
             }
            },
            "type": "scattercarpet"
           }
          ],
          "scattergeo": [
           {
            "marker": {
             "colorbar": {
              "outlinewidth": 0,
              "ticks": ""
             }
            },
            "type": "scattergeo"
           }
          ],
          "scattergl": [
           {
            "marker": {
             "colorbar": {
              "outlinewidth": 0,
              "ticks": ""
             }
            },
            "type": "scattergl"
           }
          ],
          "scattermap": [
           {
            "marker": {
             "colorbar": {
              "outlinewidth": 0,
              "ticks": ""
             }
            },
            "type": "scattermap"
           }
          ],
          "scattermapbox": [
           {
            "marker": {
             "colorbar": {
              "outlinewidth": 0,
              "ticks": ""
             }
            },
            "type": "scattermapbox"
           }
          ],
          "scatterpolar": [
           {
            "marker": {
             "colorbar": {
              "outlinewidth": 0,
              "ticks": ""
             }
            },
            "type": "scatterpolar"
           }
          ],
          "scatterpolargl": [
           {
            "marker": {
             "colorbar": {
              "outlinewidth": 0,
              "ticks": ""
             }
            },
            "type": "scatterpolargl"
           }
          ],
          "scatterternary": [
           {
            "marker": {
             "colorbar": {
              "outlinewidth": 0,
              "ticks": ""
             }
            },
            "type": "scatterternary"
           }
          ],
          "surface": [
           {
            "colorbar": {
             "outlinewidth": 0,
             "ticks": ""
            },
            "colorscale": [
             [
              0,
              "#0d0887"
             ],
             [
              0.1111111111111111,
              "#46039f"
             ],
             [
              0.2222222222222222,
              "#7201a8"
             ],
             [
              0.3333333333333333,
              "#9c179e"
             ],
             [
              0.4444444444444444,
              "#bd3786"
             ],
             [
              0.5555555555555556,
              "#d8576b"
             ],
             [
              0.6666666666666666,
              "#ed7953"
             ],
             [
              0.7777777777777778,
              "#fb9f3a"
             ],
             [
              0.8888888888888888,
              "#fdca26"
             ],
             [
              1,
              "#f0f921"
             ]
            ],
            "type": "surface"
           }
          ],
          "table": [
           {
            "cells": {
             "fill": {
              "color": "#EBF0F8"
             },
             "line": {
              "color": "white"
             }
            },
            "header": {
             "fill": {
              "color": "#C8D4E3"
             },
             "line": {
              "color": "white"
             }
            },
            "type": "table"
           }
          ]
         },
         "layout": {
          "annotationdefaults": {
           "arrowcolor": "#2a3f5f",
           "arrowhead": 0,
           "arrowwidth": 1
          },
          "autotypenumbers": "strict",
          "coloraxis": {
           "colorbar": {
            "outlinewidth": 0,
            "ticks": ""
           }
          },
          "colorscale": {
           "diverging": [
            [
             0,
             "#8e0152"
            ],
            [
             0.1,
             "#c51b7d"
            ],
            [
             0.2,
             "#de77ae"
            ],
            [
             0.3,
             "#f1b6da"
            ],
            [
             0.4,
             "#fde0ef"
            ],
            [
             0.5,
             "#f7f7f7"
            ],
            [
             0.6,
             "#e6f5d0"
            ],
            [
             0.7,
             "#b8e186"
            ],
            [
             0.8,
             "#7fbc41"
            ],
            [
             0.9,
             "#4d9221"
            ],
            [
             1,
             "#276419"
            ]
           ],
           "sequential": [
            [
             0,
             "#0d0887"
            ],
            [
             0.1111111111111111,
             "#46039f"
            ],
            [
             0.2222222222222222,
             "#7201a8"
            ],
            [
             0.3333333333333333,
             "#9c179e"
            ],
            [
             0.4444444444444444,
             "#bd3786"
            ],
            [
             0.5555555555555556,
             "#d8576b"
            ],
            [
             0.6666666666666666,
             "#ed7953"
            ],
            [
             0.7777777777777778,
             "#fb9f3a"
            ],
            [
             0.8888888888888888,
             "#fdca26"
            ],
            [
             1,
             "#f0f921"
            ]
           ],
           "sequentialminus": [
            [
             0,
             "#0d0887"
            ],
            [
             0.1111111111111111,
             "#46039f"
            ],
            [
             0.2222222222222222,
             "#7201a8"
            ],
            [
             0.3333333333333333,
             "#9c179e"
            ],
            [
             0.4444444444444444,
             "#bd3786"
            ],
            [
             0.5555555555555556,
             "#d8576b"
            ],
            [
             0.6666666666666666,
             "#ed7953"
            ],
            [
             0.7777777777777778,
             "#fb9f3a"
            ],
            [
             0.8888888888888888,
             "#fdca26"
            ],
            [
             1,
             "#f0f921"
            ]
           ]
          },
          "colorway": [
           "#636efa",
           "#EF553B",
           "#00cc96",
           "#ab63fa",
           "#FFA15A",
           "#19d3f3",
           "#FF6692",
           "#B6E880",
           "#FF97FF",
           "#FECB52"
          ],
          "font": {
           "color": "#2a3f5f"
          },
          "geo": {
           "bgcolor": "white",
           "lakecolor": "white",
           "landcolor": "white",
           "showlakes": true,
           "showland": true,
           "subunitcolor": "#C8D4E3"
          },
          "hoverlabel": {
           "align": "left"
          },
          "hovermode": "closest",
          "mapbox": {
           "style": "light"
          },
          "paper_bgcolor": "white",
          "plot_bgcolor": "white",
          "polar": {
           "angularaxis": {
            "gridcolor": "#EBF0F8",
            "linecolor": "#EBF0F8",
            "ticks": ""
           },
           "bgcolor": "white",
           "radialaxis": {
            "gridcolor": "#EBF0F8",
            "linecolor": "#EBF0F8",
            "ticks": ""
           }
          },
          "scene": {
           "xaxis": {
            "backgroundcolor": "white",
            "gridcolor": "#DFE8F3",
            "gridwidth": 2,
            "linecolor": "#EBF0F8",
            "showbackground": true,
            "ticks": "",
            "zerolinecolor": "#EBF0F8"
           },
           "yaxis": {
            "backgroundcolor": "white",
            "gridcolor": "#DFE8F3",
            "gridwidth": 2,
            "linecolor": "#EBF0F8",
            "showbackground": true,
            "ticks": "",
            "zerolinecolor": "#EBF0F8"
           },
           "zaxis": {
            "backgroundcolor": "white",
            "gridcolor": "#DFE8F3",
            "gridwidth": 2,
            "linecolor": "#EBF0F8",
            "showbackground": true,
            "ticks": "",
            "zerolinecolor": "#EBF0F8"
           }
          },
          "shapedefaults": {
           "line": {
            "color": "#2a3f5f"
           }
          },
          "ternary": {
           "aaxis": {
            "gridcolor": "#DFE8F3",
            "linecolor": "#A2B1C6",
            "ticks": ""
           },
           "baxis": {
            "gridcolor": "#DFE8F3",
            "linecolor": "#A2B1C6",
            "ticks": ""
           },
           "bgcolor": "white",
           "caxis": {
            "gridcolor": "#DFE8F3",
            "linecolor": "#A2B1C6",
            "ticks": ""
           }
          },
          "title": {
           "x": 0.05
          },
          "xaxis": {
           "automargin": true,
           "gridcolor": "#EBF0F8",
           "linecolor": "#EBF0F8",
           "ticks": "",
           "title": {
            "standoff": 15
           },
           "zerolinecolor": "#EBF0F8",
           "zerolinewidth": 2
          },
          "yaxis": {
           "automargin": true,
           "gridcolor": "#EBF0F8",
           "linecolor": "#EBF0F8",
           "ticks": "",
           "title": {
            "standoff": 15
           },
           "zerolinecolor": "#EBF0F8",
           "zerolinewidth": 2
          }
         }
        },
        "title": {
         "text": "📊 Monthly Correlation Heatmap (Group 1) - MSCI_COLCAP_Valor hoy"
        },
        "width": 1000,
        "xaxis": {
         "anchor": "y",
         "domain": [
          0,
          1
         ],
         "tickangle": -45,
         "title": {
          "text": "Month"
         }
        },
        "yaxis": {
         "anchor": "x",
         "autorange": "reversed",
         "domain": [
          0,
          1
         ],
         "title": {
          "text": "Stock"
         }
        }
       }
      }
     },
     "metadata": {},
     "output_type": "display_data"
    },
    {
     "data": {
      "application/vnd.plotly.v1+json": {
       "config": {
        "plotlyServerURL": "https://plot.ly"
       },
       "data": [
        {
         "coloraxis": "coloraxis",
         "hovertemplate": "Month: %{x}<br>Stock: %{y}<br>Correlation: %{z}<extra></extra>",
         "name": "0",
         "type": "heatmap",
         "x": [
          "2024-06",
          "2024-07",
          "2024-08",
          "2024-09",
          "2024-10",
          "2024-11",
          "2024-12",
          "2025-01",
          "2025-02",
          "2025-03",
          "2025-04",
          "2025-05",
          "2025-06"
         ],
         "xaxis": "x",
         "y": [
          "GRUPOAVAL_Precio cierre",
          "GRUPOSURA_Precio cierre",
          "GXTESCOL_Precio cierre",
          "HCOLSEL_Precio cierre",
          "ICOLCAP_Precio cierre",
          "ISA_Precio cierre",
          "MINEROS_Precio cierre",
          "NUTRESA_Precio cierre",
          "PEI_Precio cierre",
          "PFAVAL_Precio cierre",
          "PFBCOLOMBIA_Precio cierre",
          "PFCEMARGOS_Precio cierre",
          "PFCORFICOL_Precio cierre",
          "PFDAVVNDA_Precio cierre",
          "PFGRUPARG_Precio cierre",
          "PFGRUPOSURA_Precio cierre",
          "PROMIGAS_Precio cierre",
          "TERPEL_Precio cierre"
         ],
         "yaxis": "y",
         "z": {
          "bdata": "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",
          "dtype": "f8",
          "shape": "18, 13"
         }
        }
       ],
       "layout": {
        "autosize": false,
        "coloraxis": {
         "colorbar": {
          "title": {
           "text": "Correlation"
          }
         },
         "colorscale": [
          [
           0,
           "rgb(5,48,97)"
          ],
          [
           0.1,
           "rgb(33,102,172)"
          ],
          [
           0.2,
           "rgb(67,147,195)"
          ],
          [
           0.3,
           "rgb(146,197,222)"
          ],
          [
           0.4,
           "rgb(209,229,240)"
          ],
          [
           0.5,
           "rgb(247,247,247)"
          ],
          [
           0.6,
           "rgb(253,219,199)"
          ],
          [
           0.7,
           "rgb(244,165,130)"
          ],
          [
           0.8,
           "rgb(214,96,77)"
          ],
          [
           0.9,
           "rgb(178,24,43)"
          ],
          [
           1,
           "rgb(103,0,31)"
          ]
         ]
        },
        "height": 600,
        "template": {
         "data": {
          "bar": [
           {
            "error_x": {
             "color": "#2a3f5f"
            },
            "error_y": {
             "color": "#2a3f5f"
            },
            "marker": {
             "line": {
              "color": "white",
              "width": 0.5
             },
             "pattern": {
              "fillmode": "overlay",
              "size": 10,
              "solidity": 0.2
             }
            },
            "type": "bar"
           }
          ],
          "barpolar": [
           {
            "marker": {
             "line": {
              "color": "white",
              "width": 0.5
             },
             "pattern": {
              "fillmode": "overlay",
              "size": 10,
              "solidity": 0.2
             }
            },
            "type": "barpolar"
           }
          ],
          "carpet": [
           {
            "aaxis": {
             "endlinecolor": "#2a3f5f",
             "gridcolor": "#C8D4E3",
             "linecolor": "#C8D4E3",
             "minorgridcolor": "#C8D4E3",
             "startlinecolor": "#2a3f5f"
            },
            "baxis": {
             "endlinecolor": "#2a3f5f",
             "gridcolor": "#C8D4E3",
             "linecolor": "#C8D4E3",
             "minorgridcolor": "#C8D4E3",
             "startlinecolor": "#2a3f5f"
            },
            "type": "carpet"
           }
          ],
          "choropleth": [
           {
            "colorbar": {
             "outlinewidth": 0,
             "ticks": ""
            },
            "type": "choropleth"
           }
          ],
          "contour": [
           {
            "colorbar": {
             "outlinewidth": 0,
             "ticks": ""
            },
            "colorscale": [
             [
              0,
              "#0d0887"
             ],
             [
              0.1111111111111111,
              "#46039f"
             ],
             [
              0.2222222222222222,
              "#7201a8"
             ],
             [
              0.3333333333333333,
              "#9c179e"
             ],
             [
              0.4444444444444444,
              "#bd3786"
             ],
             [
              0.5555555555555556,
              "#d8576b"
             ],
             [
              0.6666666666666666,
              "#ed7953"
             ],
             [
              0.7777777777777778,
              "#fb9f3a"
             ],
             [
              0.8888888888888888,
              "#fdca26"
             ],
             [
              1,
              "#f0f921"
             ]
            ],
            "type": "contour"
           }
          ],
          "contourcarpet": [
           {
            "colorbar": {
             "outlinewidth": 0,
             "ticks": ""
            },
            "type": "contourcarpet"
           }
          ],
          "heatmap": [
           {
            "colorbar": {
             "outlinewidth": 0,
             "ticks": ""
            },
            "colorscale": [
             [
              0,
              "#0d0887"
             ],
             [
              0.1111111111111111,
              "#46039f"
             ],
             [
              0.2222222222222222,
              "#7201a8"
             ],
             [
              0.3333333333333333,
              "#9c179e"
             ],
             [
              0.4444444444444444,
              "#bd3786"
             ],
             [
              0.5555555555555556,
              "#d8576b"
             ],
             [
              0.6666666666666666,
              "#ed7953"
             ],
             [
              0.7777777777777778,
              "#fb9f3a"
             ],
             [
              0.8888888888888888,
              "#fdca26"
             ],
             [
              1,
              "#f0f921"
             ]
            ],
            "type": "heatmap"
           }
          ],
          "histogram": [
           {
            "marker": {
             "pattern": {
              "fillmode": "overlay",
              "size": 10,
              "solidity": 0.2
             }
            },
            "type": "histogram"
           }
          ],
          "histogram2d": [
           {
            "colorbar": {
             "outlinewidth": 0,
             "ticks": ""
            },
            "colorscale": [
             [
              0,
              "#0d0887"
             ],
             [
              0.1111111111111111,
              "#46039f"
             ],
             [
              0.2222222222222222,
              "#7201a8"
             ],
             [
              0.3333333333333333,
              "#9c179e"
             ],
             [
              0.4444444444444444,
              "#bd3786"
             ],
             [
              0.5555555555555556,
              "#d8576b"
             ],
             [
              0.6666666666666666,
              "#ed7953"
             ],
             [
              0.7777777777777778,
              "#fb9f3a"
             ],
             [
              0.8888888888888888,
              "#fdca26"
             ],
             [
              1,
              "#f0f921"
             ]
            ],
            "type": "histogram2d"
           }
          ],
          "histogram2dcontour": [
           {
            "colorbar": {
             "outlinewidth": 0,
             "ticks": ""
            },
            "colorscale": [
             [
              0,
              "#0d0887"
             ],
             [
              0.1111111111111111,
              "#46039f"
             ],
             [
              0.2222222222222222,
              "#7201a8"
             ],
             [
              0.3333333333333333,
              "#9c179e"
             ],
             [
              0.4444444444444444,
              "#bd3786"
             ],
             [
              0.5555555555555556,
              "#d8576b"
             ],
             [
              0.6666666666666666,
              "#ed7953"
             ],
             [
              0.7777777777777778,
              "#fb9f3a"
             ],
             [
              0.8888888888888888,
              "#fdca26"
             ],
             [
              1,
              "#f0f921"
             ]
            ],
            "type": "histogram2dcontour"
           }
          ],
          "mesh3d": [
           {
            "colorbar": {
             "outlinewidth": 0,
             "ticks": ""
            },
            "type": "mesh3d"
           }
          ],
          "parcoords": [
           {
            "line": {
             "colorbar": {
              "outlinewidth": 0,
              "ticks": ""
             }
            },
            "type": "parcoords"
           }
          ],
          "pie": [
           {
            "automargin": true,
            "type": "pie"
           }
          ],
          "scatter": [
           {
            "fillpattern": {
             "fillmode": "overlay",
             "size": 10,
             "solidity": 0.2
            },
            "type": "scatter"
           }
          ],
          "scatter3d": [
           {
            "line": {
             "colorbar": {
              "outlinewidth": 0,
              "ticks": ""
             }
            },
            "marker": {
             "colorbar": {
              "outlinewidth": 0,
              "ticks": ""
             }
            },
            "type": "scatter3d"
           }
          ],
          "scattercarpet": [
           {
            "marker": {
             "colorbar": {
              "outlinewidth": 0,
              "ticks": ""
             }
            },
            "type": "scattercarpet"
           }
          ],
          "scattergeo": [
           {
            "marker": {
             "colorbar": {
              "outlinewidth": 0,
              "ticks": ""
             }
            },
            "type": "scattergeo"
           }
          ],
          "scattergl": [
           {
            "marker": {
             "colorbar": {
              "outlinewidth": 0,
              "ticks": ""
             }
            },
            "type": "scattergl"
           }
          ],
          "scattermap": [
           {
            "marker": {
             "colorbar": {
              "outlinewidth": 0,
              "ticks": ""
             }
            },
            "type": "scattermap"
           }
          ],
          "scattermapbox": [
           {
            "marker": {
             "colorbar": {
              "outlinewidth": 0,
              "ticks": ""
             }
            },
            "type": "scattermapbox"
           }
          ],
          "scatterpolar": [
           {
            "marker": {
             "colorbar": {
              "outlinewidth": 0,
              "ticks": ""
             }
            },
            "type": "scatterpolar"
           }
          ],
          "scatterpolargl": [
           {
            "marker": {
             "colorbar": {
              "outlinewidth": 0,
              "ticks": ""
             }
            },
            "type": "scatterpolargl"
           }
          ],
          "scatterternary": [
           {
            "marker": {
             "colorbar": {
              "outlinewidth": 0,
              "ticks": ""
             }
            },
            "type": "scatterternary"
           }
          ],
          "surface": [
           {
            "colorbar": {
             "outlinewidth": 0,
             "ticks": ""
            },
            "colorscale": [
             [
              0,
              "#0d0887"
             ],
             [
              0.1111111111111111,
              "#46039f"
             ],
             [
              0.2222222222222222,
              "#7201a8"
             ],
             [
              0.3333333333333333,
              "#9c179e"
             ],
             [
              0.4444444444444444,
              "#bd3786"
             ],
             [
              0.5555555555555556,
              "#d8576b"
             ],
             [
              0.6666666666666666,
              "#ed7953"
             ],
             [
              0.7777777777777778,
              "#fb9f3a"
             ],
             [
              0.8888888888888888,
              "#fdca26"
             ],
             [
              1,
              "#f0f921"
             ]
            ],
            "type": "surface"
           }
          ],
          "table": [
           {
            "cells": {
             "fill": {
              "color": "#EBF0F8"
             },
             "line": {
              "color": "white"
             }
            },
            "header": {
             "fill": {
              "color": "#C8D4E3"
             },
             "line": {
              "color": "white"
             }
            },
            "type": "table"
           }
          ]
         },
         "layout": {
          "annotationdefaults": {
           "arrowcolor": "#2a3f5f",
           "arrowhead": 0,
           "arrowwidth": 1
          },
          "autotypenumbers": "strict",
          "coloraxis": {
           "colorbar": {
            "outlinewidth": 0,
            "ticks": ""
           }
          },
          "colorscale": {
           "diverging": [
            [
             0,
             "#8e0152"
            ],
            [
             0.1,
             "#c51b7d"
            ],
            [
             0.2,
             "#de77ae"
            ],
            [
             0.3,
             "#f1b6da"
            ],
            [
             0.4,
             "#fde0ef"
            ],
            [
             0.5,
             "#f7f7f7"
            ],
            [
             0.6,
             "#e6f5d0"
            ],
            [
             0.7,
             "#b8e186"
            ],
            [
             0.8,
             "#7fbc41"
            ],
            [
             0.9,
             "#4d9221"
            ],
            [
             1,
             "#276419"
            ]
           ],
           "sequential": [
            [
             0,
             "#0d0887"
            ],
            [
             0.1111111111111111,
             "#46039f"
            ],
            [
             0.2222222222222222,
             "#7201a8"
            ],
            [
             0.3333333333333333,
             "#9c179e"
            ],
            [
             0.4444444444444444,
             "#bd3786"
            ],
            [
             0.5555555555555556,
             "#d8576b"
            ],
            [
             0.6666666666666666,
             "#ed7953"
            ],
            [
             0.7777777777777778,
             "#fb9f3a"
            ],
            [
             0.8888888888888888,
             "#fdca26"
            ],
            [
             1,
             "#f0f921"
            ]
           ],
           "sequentialminus": [
            [
             0,
             "#0d0887"
            ],
            [
             0.1111111111111111,
             "#46039f"
            ],
            [
             0.2222222222222222,
             "#7201a8"
            ],
            [
             0.3333333333333333,
             "#9c179e"
            ],
            [
             0.4444444444444444,
             "#bd3786"
            ],
            [
             0.5555555555555556,
             "#d8576b"
            ],
            [
             0.6666666666666666,
             "#ed7953"
            ],
            [
             0.7777777777777778,
             "#fb9f3a"
            ],
            [
             0.8888888888888888,
             "#fdca26"
            ],
            [
             1,
             "#f0f921"
            ]
           ]
          },
          "colorway": [
           "#636efa",
           "#EF553B",
           "#00cc96",
           "#ab63fa",
           "#FFA15A",
           "#19d3f3",
           "#FF6692",
           "#B6E880",
           "#FF97FF",
           "#FECB52"
          ],
          "font": {
           "color": "#2a3f5f"
          },
          "geo": {
           "bgcolor": "white",
           "lakecolor": "white",
           "landcolor": "white",
           "showlakes": true,
           "showland": true,
           "subunitcolor": "#C8D4E3"
          },
          "hoverlabel": {
           "align": "left"
          },
          "hovermode": "closest",
          "mapbox": {
           "style": "light"
          },
          "paper_bgcolor": "white",
          "plot_bgcolor": "white",
          "polar": {
           "angularaxis": {
            "gridcolor": "#EBF0F8",
            "linecolor": "#EBF0F8",
            "ticks": ""
           },
           "bgcolor": "white",
           "radialaxis": {
            "gridcolor": "#EBF0F8",
            "linecolor": "#EBF0F8",
            "ticks": ""
           }
          },
          "scene": {
           "xaxis": {
            "backgroundcolor": "white",
            "gridcolor": "#DFE8F3",
            "gridwidth": 2,
            "linecolor": "#EBF0F8",
            "showbackground": true,
            "ticks": "",
            "zerolinecolor": "#EBF0F8"
           },
           "yaxis": {
            "backgroundcolor": "white",
            "gridcolor": "#DFE8F3",
            "gridwidth": 2,
            "linecolor": "#EBF0F8",
            "showbackground": true,
            "ticks": "",
            "zerolinecolor": "#EBF0F8"
           },
           "zaxis": {
            "backgroundcolor": "white",
            "gridcolor": "#DFE8F3",
            "gridwidth": 2,
            "linecolor": "#EBF0F8",
            "showbackground": true,
            "ticks": "",
            "zerolinecolor": "#EBF0F8"
           }
          },
          "shapedefaults": {
           "line": {
            "color": "#2a3f5f"
           }
          },
          "ternary": {
           "aaxis": {
            "gridcolor": "#DFE8F3",
            "linecolor": "#A2B1C6",
            "ticks": ""
           },
           "baxis": {
            "gridcolor": "#DFE8F3",
            "linecolor": "#A2B1C6",
            "ticks": ""
           },
           "bgcolor": "white",
           "caxis": {
            "gridcolor": "#DFE8F3",
            "linecolor": "#A2B1C6",
            "ticks": ""
           }
          },
          "title": {
           "x": 0.05
          },
          "xaxis": {
           "automargin": true,
           "gridcolor": "#EBF0F8",
           "linecolor": "#EBF0F8",
           "ticks": "",
           "title": {
            "standoff": 15
           },
           "zerolinecolor": "#EBF0F8",
           "zerolinewidth": 2
          },
          "yaxis": {
           "automargin": true,
           "gridcolor": "#EBF0F8",
           "linecolor": "#EBF0F8",
           "ticks": "",
           "title": {
            "standoff": 15
           },
           "zerolinecolor": "#EBF0F8",
           "zerolinewidth": 2
          }
         }
        },
        "title": {
         "text": "📊 Monthly Correlation Heatmap (Group 2) - MSCI_COLCAP_Valor hoy"
        },
        "width": 1000,
        "xaxis": {
         "anchor": "y",
         "domain": [
          0,
          1
         ],
         "tickangle": -45,
         "title": {
          "text": "Month"
         }
        },
        "yaxis": {
         "anchor": "x",
         "autorange": "reversed",
         "domain": [
          0,
          1
         ],
         "title": {
          "text": "Stock"
         }
        }
       }
      }
     },
     "metadata": {},
     "output_type": "display_data"
    }
   ],
   "source": [
    "from datetime import datetime, timedelta\n",
    "\n",
    "# Compute the date one year ago from today\n",
    "one_year_ago = datetime.today() - timedelta(days=365)\n",
    "\n",
    "#Reset index\n",
    "df_close=df_close.reset_index()\n",
    "\n",
    "# 🔹 **Filter data from the last year**\n",
    "df_close = df_close[df_close[\"Fecha\"] >= one_year_ago]\n",
    "\n",
    "# Create 'YearMonth' column for grouping\n",
    "df_close[\"YearMonth\"] = df_close[\"Fecha\"].dt.to_period(\"M\")\n",
    "\n",
    "# Drop 'Fecha' and 'YearMonth' before correlation calculations\n",
    "df_corr = df_close.drop(columns=[\"Fecha\", \"YearMonth\"])\n",
    "\n",
    "# Compute monthly correlation\n",
    "monthly_corr = df_close.groupby(\"YearMonth\").corr()\n",
    "\n",
    "# Handle missing data (Forward-fill & Back-fill)\n",
    "df_close.fillna(method='ffill', inplace=True)\n",
    "df_close.fillna(method='bfill', inplace=True)\n",
    "\n",
    "# Select target stock\n",
    "target_stock = \"MSCI_COLCAP_Valor hoy\"  # Replace with your chosen stock column name\n",
    "\n",
    "# **1️⃣ Calculate Historical Correlation**\n",
    "historical_corr = df_corr.corr()[target_stock].drop(target_stock, errors=\"ignore\")\n",
    "\n",
    "# **2️⃣ Calculate Monthly Correlation**\n",
    "monthly_corr = monthly_corr.xs(target_stock, level=1, axis=0)\n",
    "monthly_corr = monthly_corr.drop(target_stock, axis=1, errors=\"ignore\")\n",
    "\n",
    "# 🔹 Convert 'YearMonth' to string (Fix Period object issue)\n",
    "monthly_corr.index = monthly_corr.index.astype(str)\n",
    "\n",
    "#delete the column \"Fecha\"\n",
    "if \"Fecha\" in monthly_corr.columns:\n",
    "    monthly_corr = monthly_corr.drop(columns=[\"Fecha\"])\n",
    "\n",
    "# 🔥 **Split into Two Groups**\n",
    "stocks = list(monthly_corr.columns)\n",
    "midpoint = len(stocks) // 2  # Divide into two equal parts\n",
    "\n",
    "group1 = stocks[:midpoint]  # First half\n",
    "group2 = stocks[midpoint:]  # Second half\n",
    "\n",
    "\n",
    "# **Function to Create Heatmap**\n",
    "def plot_heatmap(corr_data, group, title):\n",
    "    fig = px.imshow(\n",
    "        corr_data[group].T,  # Transpose for better view\n",
    "        labels=dict(x=\"Month\", y=\"Stock\", color=\"Correlation\"),\n",
    "        title=title,\n",
    "        color_continuous_scale=\"RdBu_r\",\n",
    "        aspect=\"auto\",\n",
    "    )\n",
    "\n",
    "    fig.update_layout(\n",
    "        autosize=False,\n",
    "        width=1000,\n",
    "        height=600,\n",
    "        xaxis=dict(tickangle=-45),\n",
    "        template=\"plotly_white\",  # ✅ Clean & professional look\n",
    "    )\n",
    "\n",
    "    fig.show()\n",
    "\n",
    "# **Plot Heatmaps**\n",
    "plot_heatmap(monthly_corr, group1, f\"📊 Monthly Correlation Heatmap (Group 1) - {target_stock}\")\n",
    "plot_heatmap(monthly_corr, group2, f\"📊 Monthly Correlation Heatmap (Group 2) - {target_stock}\")"
   ]
  },
  {
   "cell_type": "code",
   "execution_count": 40,
   "metadata": {},
   "outputs": [
    {
     "data": {
      "text/html": [
       "\n",
       "        <iframe\n",
       "            width=\"100%\"\n",
       "            height=\"650\"\n",
       "            src=\"http://127.0.0.1:8050/\"\n",
       "            frameborder=\"0\"\n",
       "            allowfullscreen\n",
       "            \n",
       "        ></iframe>\n",
       "        "
      ],
      "text/plain": [
       "<IPython.lib.display.IFrame at 0x25544ac32d0>"
      ]
     },
     "metadata": {},
     "output_type": "display_data"
    }
   ],
   "source": [
    "import pandas as pd\n",
    "import plotly.express as px\n",
    "import dash\n",
    "from dash import dcc, html\n",
    "from dash.dependencies import Input, Output\n",
    "\n",
    "# Load the monthly correlation data\n",
    "df = pd.read_csv(\"Monthly_Correlation.csv\", index_col=0, parse_dates=True)\n",
    "df.index = pd.to_datetime(df.index.astype(str))  # Ensure index is datetime\n",
    "\n",
    "# Filter data from March 2024 onwards\n",
    "df_filtered = df[df.index >= \"2024-03\"]\n",
    "\n",
    "# Split columns into two groups\n",
    "stocks = list(df_filtered.columns)\n",
    "midpoint = len(stocks) // 2\n",
    "group1 = stocks[:midpoint]\n",
    "group2 = stocks[midpoint:]\n",
    "\n",
    "def plot_heatmap(data, title):\n",
    "    fig = px.imshow(\n",
    "        data.T,  # Transpose for better layout\n",
    "        labels=dict(x=\"Month\", y=\"Stock\", color=\"Correlation\"),\n",
    "        title=title,\n",
    "        color_continuous_scale=\"RdBu_r\",\n",
    "        aspect=\"auto\",\n",
    "    )\n",
    "    fig.update_layout(\n",
    "        autosize=False,\n",
    "        width=1000,\n",
    "        height=600,\n",
    "        xaxis=dict(tickangle=-45),\n",
    "    )\n",
    "    return fig\n",
    "\n",
    "# Dash app setup\n",
    "app = dash.Dash(__name__)\n",
    "server = app.server\n",
    "\n",
    "app.layout = html.Div([\n",
    "    html.H1(\"📊 Monthly Correlation Heatmaps\", style={'textAlign': 'center'}),\n",
    "    \n",
    "    dcc.Dropdown(\n",
    "        id=\"group_selector\",\n",
    "        options=[\n",
    "            {\"label\": \"Group 1\", \"value\": \"group1\"},\n",
    "            {\"label\": \"Group 2\", \"value\": \"group2\"}\n",
    "        ],\n",
    "        value=\"group1\",\n",
    "        clearable=False,\n",
    "        style={\"width\": \"50%\", \"margin\": \"auto\"}\n",
    "    ),\n",
    "    \n",
    "    dcc.Graph(id=\"heatmap\")\n",
    "])\n",
    "\n",
    "@app.callback(\n",
    "    Output(\"heatmap\", \"figure\"),\n",
    "    Input(\"group_selector\", \"value\")\n",
    ")\n",
    "def update_heatmap(selected_group):\n",
    "    data = df_filtered[group1] if selected_group == \"group1\" else df_filtered[group2]\n",
    "    title = f\"📊 Monthly Correlation Heatmap ({selected_group.replace('group', 'Group ')})\"\n",
    "    return plot_heatmap(data, title)\n",
    "\n",
    "if __name__ == \"__main__\":\n",
    "    app.run(debug=True)\n"
   ]
  },
  {
   "cell_type": "code",
   "execution_count": 41,
   "metadata": {},
   "outputs": [
    {
     "data": {
      "text/html": [
       "<div>\n",
       "<style scoped>\n",
       "    .dataframe tbody tr th:only-of-type {\n",
       "        vertical-align: middle;\n",
       "    }\n",
       "\n",
       "    .dataframe tbody tr th {\n",
       "        vertical-align: top;\n",
       "    }\n",
       "\n",
       "    .dataframe thead th {\n",
       "        text-align: right;\n",
       "    }\n",
       "</style>\n",
       "<table border=\"1\" class=\"dataframe\">\n",
       "  <thead>\n",
       "    <tr style=\"text-align: right;\">\n",
       "      <th></th>\n",
       "      <th>Stock</th>\n",
       "      <th>Correlation</th>\n",
       "    </tr>\n",
       "  </thead>\n",
       "  <tbody>\n",
       "    <tr>\n",
       "      <th>0</th>\n",
       "      <td>ICOLCAP_Precio cierre</td>\n",
       "      <td>0.994108</td>\n",
       "    </tr>\n",
       "    <tr>\n",
       "      <th>1</th>\n",
       "      <td>HCOLSEL_Precio cierre</td>\n",
       "      <td>0.927043</td>\n",
       "    </tr>\n",
       "    <tr>\n",
       "      <th>2</th>\n",
       "      <td>PFBCOLOMBIA_Precio cierre</td>\n",
       "      <td>0.923526</td>\n",
       "    </tr>\n",
       "    <tr>\n",
       "      <th>3</th>\n",
       "      <td>PFGRUPOSURA_Precio cierre</td>\n",
       "      <td>0.836139</td>\n",
       "    </tr>\n",
       "    <tr>\n",
       "      <th>4</th>\n",
       "      <td>BHI_Precio cierre</td>\n",
       "      <td>0.811472</td>\n",
       "    </tr>\n",
       "    <tr>\n",
       "      <th>5</th>\n",
       "      <td>TERPEL_Precio cierre</td>\n",
       "      <td>0.802802</td>\n",
       "    </tr>\n",
       "    <tr>\n",
       "      <th>6</th>\n",
       "      <td>BCOLOMBIA_Precio cierre</td>\n",
       "      <td>0.779579</td>\n",
       "    </tr>\n",
       "    <tr>\n",
       "      <th>7</th>\n",
       "      <td>GRUPOARGOS_Precio cierre</td>\n",
       "      <td>0.772573</td>\n",
       "    </tr>\n",
       "    <tr>\n",
       "      <th>8</th>\n",
       "      <td>CEMARGOS_Precio cierre</td>\n",
       "      <td>0.723116</td>\n",
       "    </tr>\n",
       "    <tr>\n",
       "      <th>9</th>\n",
       "      <td>PFGRUPARG_Precio cierre</td>\n",
       "      <td>0.720629</td>\n",
       "    </tr>\n",
       "    <tr>\n",
       "      <th>10</th>\n",
       "      <td>GEB_Precio cierre</td>\n",
       "      <td>0.661279</td>\n",
       "    </tr>\n",
       "    <tr>\n",
       "      <th>11</th>\n",
       "      <td>PEI_Precio cierre</td>\n",
       "      <td>0.642271</td>\n",
       "    </tr>\n",
       "    <tr>\n",
       "      <th>12</th>\n",
       "      <td>PFCEMARGOS_Precio cierre</td>\n",
       "      <td>0.628047</td>\n",
       "    </tr>\n",
       "    <tr>\n",
       "      <th>13</th>\n",
       "      <td>MINEROS_Precio cierre</td>\n",
       "      <td>0.622661</td>\n",
       "    </tr>\n",
       "    <tr>\n",
       "      <th>14</th>\n",
       "      <td>GRUBOLIVAR_Precio cierre</td>\n",
       "      <td>0.622463</td>\n",
       "    </tr>\n",
       "    <tr>\n",
       "      <th>15</th>\n",
       "      <td>ISA_Precio cierre</td>\n",
       "      <td>0.521848</td>\n",
       "    </tr>\n",
       "    <tr>\n",
       "      <th>16</th>\n",
       "      <td>PROMIGAS_Precio cierre</td>\n",
       "      <td>0.499149</td>\n",
       "    </tr>\n",
       "    <tr>\n",
       "      <th>17</th>\n",
       "      <td>NUTRESA_Precio cierre</td>\n",
       "      <td>0.492422</td>\n",
       "    </tr>\n",
       "    <tr>\n",
       "      <th>18</th>\n",
       "      <td>CELSIA_Precio cierre</td>\n",
       "      <td>0.482219</td>\n",
       "    </tr>\n",
       "    <tr>\n",
       "      <th>19</th>\n",
       "      <td>CONCONCRETO_Precio cierre</td>\n",
       "      <td>0.462371</td>\n",
       "    </tr>\n",
       "    <tr>\n",
       "      <th>20</th>\n",
       "      <td>GRUPOSURA_Precio cierre</td>\n",
       "      <td>0.364848</td>\n",
       "    </tr>\n",
       "    <tr>\n",
       "      <th>21</th>\n",
       "      <td>BVC_Precio cierre</td>\n",
       "      <td>0.364766</td>\n",
       "    </tr>\n",
       "    <tr>\n",
       "      <th>22</th>\n",
       "      <td>PFAVAL_Precio cierre</td>\n",
       "      <td>0.272907</td>\n",
       "    </tr>\n",
       "    <tr>\n",
       "      <th>23</th>\n",
       "      <td>PFCORFICOL_Precio cierre</td>\n",
       "      <td>0.259975</td>\n",
       "    </tr>\n",
       "    <tr>\n",
       "      <th>24</th>\n",
       "      <td>FABRICATO_Precio cierre</td>\n",
       "      <td>0.256540</td>\n",
       "    </tr>\n",
       "    <tr>\n",
       "      <th>25</th>\n",
       "      <td>ECOPETROL_Precio cierre</td>\n",
       "      <td>0.255429</td>\n",
       "    </tr>\n",
       "    <tr>\n",
       "      <th>26</th>\n",
       "      <td>ENKA_Precio cierre</td>\n",
       "      <td>0.243141</td>\n",
       "    </tr>\n",
       "    <tr>\n",
       "      <th>27</th>\n",
       "      <td>PFDAVVNDA_Precio cierre</td>\n",
       "      <td>0.234340</td>\n",
       "    </tr>\n",
       "    <tr>\n",
       "      <th>28</th>\n",
       "      <td>CORFICOL_Precio cierre</td>\n",
       "      <td>0.198230</td>\n",
       "    </tr>\n",
       "    <tr>\n",
       "      <th>29</th>\n",
       "      <td>GXTESCOL_Precio cierre</td>\n",
       "      <td>0.079429</td>\n",
       "    </tr>\n",
       "    <tr>\n",
       "      <th>30</th>\n",
       "      <td>BOGOTA_Precio cierre</td>\n",
       "      <td>0.056240</td>\n",
       "    </tr>\n",
       "    <tr>\n",
       "      <th>31</th>\n",
       "      <td>EXITO_Precio cierre</td>\n",
       "      <td>0.041040</td>\n",
       "    </tr>\n",
       "    <tr>\n",
       "      <th>32</th>\n",
       "      <td>GRUPOAVAL_Precio cierre</td>\n",
       "      <td>0.006655</td>\n",
       "    </tr>\n",
       "    <tr>\n",
       "      <th>33</th>\n",
       "      <td>ETB_Precio cierre</td>\n",
       "      <td>-0.113854</td>\n",
       "    </tr>\n",
       "    <tr>\n",
       "      <th>34</th>\n",
       "      <td>CNEC_Precio cierre</td>\n",
       "      <td>-0.430158</td>\n",
       "    </tr>\n",
       "  </tbody>\n",
       "</table>\n",
       "</div>"
      ],
      "text/plain": [
       "                        Stock  Correlation\n",
       "0       ICOLCAP_Precio cierre     0.994108\n",
       "1       HCOLSEL_Precio cierre     0.927043\n",
       "2   PFBCOLOMBIA_Precio cierre     0.923526\n",
       "3   PFGRUPOSURA_Precio cierre     0.836139\n",
       "4           BHI_Precio cierre     0.811472\n",
       "5        TERPEL_Precio cierre     0.802802\n",
       "6     BCOLOMBIA_Precio cierre     0.779579\n",
       "7    GRUPOARGOS_Precio cierre     0.772573\n",
       "8      CEMARGOS_Precio cierre     0.723116\n",
       "9     PFGRUPARG_Precio cierre     0.720629\n",
       "10          GEB_Precio cierre     0.661279\n",
       "11          PEI_Precio cierre     0.642271\n",
       "12   PFCEMARGOS_Precio cierre     0.628047\n",
       "13      MINEROS_Precio cierre     0.622661\n",
       "14   GRUBOLIVAR_Precio cierre     0.622463\n",
       "15          ISA_Precio cierre     0.521848\n",
       "16     PROMIGAS_Precio cierre     0.499149\n",
       "17      NUTRESA_Precio cierre     0.492422\n",
       "18       CELSIA_Precio cierre     0.482219\n",
       "19  CONCONCRETO_Precio cierre     0.462371\n",
       "20    GRUPOSURA_Precio cierre     0.364848\n",
       "21          BVC_Precio cierre     0.364766\n",
       "22       PFAVAL_Precio cierre     0.272907\n",
       "23   PFCORFICOL_Precio cierre     0.259975\n",
       "24    FABRICATO_Precio cierre     0.256540\n",
       "25    ECOPETROL_Precio cierre     0.255429\n",
       "26         ENKA_Precio cierre     0.243141\n",
       "27    PFDAVVNDA_Precio cierre     0.234340\n",
       "28     CORFICOL_Precio cierre     0.198230\n",
       "29     GXTESCOL_Precio cierre     0.079429\n",
       "30       BOGOTA_Precio cierre     0.056240\n",
       "31        EXITO_Precio cierre     0.041040\n",
       "32    GRUPOAVAL_Precio cierre     0.006655\n",
       "33          ETB_Precio cierre    -0.113854\n",
       "34         CNEC_Precio cierre    -0.430158"
      ]
     },
     "execution_count": 41,
     "metadata": {},
     "output_type": "execute_result"
    }
   ],
   "source": [
    "df_corr = pd.read_csv(\"Historical_Correlation.csv\", index_col=0, header=None, names=[\"Stock\", \"Correlation\"], skiprows=1)\n",
    "df_corr=df_corr.reset_index()\n",
    "df_corr = df_corr.sort_values(\"Correlation\", ascending=False).reset_index(drop=True)\n",
    "df_corr"
   ]
  },
  {
   "cell_type": "code",
   "execution_count": 42,
   "metadata": {},
   "outputs": [
    {
     "data": {
      "application/vnd.plotly.v1+json": {
       "config": {
        "plotlyServerURL": "https://plot.ly"
       },
       "data": [
        {
         "hovertemplate": "Correlation Coefficient=%{marker.color}<br>Stock=%{y}<extra></extra>",
         "legendgroup": "",
         "marker": {
          "color": {
           "bdata": "Cg74s7vP7z8qmP9yVqrtP1GJ3V6Fje0/zrtZOabB6j9JqYnOk/fpP4Z0F/2NsOk/WOWGAFDy6D9QsAA56rjoP0XLOEnEI+c/kPgQvmMP5z/ajpeGMynlP5TCjj17jeQ/vSO9V/YY5D9LgWgR1+zjP5bdBc826+M/+/faH/qy4D+HgYGUDPLfPy13znHYg98/IEqOUK3c3j+sR4ywe5fdP5DCjnGpWdc/A3FY01NY1z9HK2SWUHfRP2WGIO9so9A/4XXIiiVr0D+o90jn9FjQP/NnB/o6H88/0S8NJ9j+zT+DYqjkll/JP12tJi11VbQ/OXyaV3LLrD/S/Mq5NQOlP5+/mYgxQns/2Atf2oolvb+CeUU4tIfbvw==",
           "dtype": "f8"
          },
          "coloraxis": "coloraxis",
          "pattern": {
           "shape": ""
          }
         },
         "name": "",
         "orientation": "h",
         "showlegend": false,
         "textposition": "auto",
         "type": "bar",
         "x": {
          "bdata": "Cg74s7vP7z8qmP9yVqrtP1GJ3V6Fje0/zrtZOabB6j9JqYnOk/fpP4Z0F/2NsOk/WOWGAFDy6D9QsAA56rjoP0XLOEnEI+c/kPgQvmMP5z/ajpeGMynlP5TCjj17jeQ/vSO9V/YY5D9LgWgR1+zjP5bdBc826+M/+/faH/qy4D+HgYGUDPLfPy13znHYg98/IEqOUK3c3j+sR4ywe5fdP5DCjnGpWdc/A3FY01NY1z9HK2SWUHfRP2WGIO9so9A/4XXIiiVr0D+o90jn9FjQP/NnB/o6H88/0S8NJ9j+zT+DYqjkll/JP12tJi11VbQ/OXyaV3LLrD/S/Mq5NQOlP5+/mYgxQns/2Atf2oolvb+CeUU4tIfbvw==",
          "dtype": "f8"
         },
         "xaxis": "x",
         "y": [
          "ICOLCAP",
          "HCOLSEL",
          "PFBCOLOMBIA",
          "PFGRUPOSURA",
          "BHI",
          "TERPEL",
          "BCOLOMBIA",
          "GRUPOARGOS",
          "CEMARGOS",
          "PFGRUPARG",
          "GEB",
          "PEI",
          "PFCEMARGOS",
          "MINEROS",
          "GRUBOLIVAR",
          "ISA",
          "PROMIGAS",
          "NUTRESA",
          "CELSIA",
          "CONCONCRETO",
          "GRUPOSURA",
          "BVC",
          "PFAVAL",
          "PFCORFICOL",
          "FABRICATO",
          "ECOPETROL",
          "ENKA",
          "PFDAVVNDA",
          "CORFICOL",
          "GXTESCOL",
          "BOGOTA",
          "EXITO",
          "GRUPOAVAL",
          "ETB",
          "CNEC"
         ],
         "yaxis": "y"
        }
       ],
       "layout": {
        "barmode": "relative",
        "coloraxis": {
         "cmax": 1,
         "cmin": -1,
         "colorbar": {
          "title": {
           "text": "Correlation Coefficient"
          }
         },
         "colorscale": [
          [
           0,
           "rgb(5,48,97)"
          ],
          [
           0.1,
           "rgb(33,102,172)"
          ],
          [
           0.2,
           "rgb(67,147,195)"
          ],
          [
           0.3,
           "rgb(146,197,222)"
          ],
          [
           0.4,
           "rgb(209,229,240)"
          ],
          [
           0.5,
           "rgb(247,247,247)"
          ],
          [
           0.6,
           "rgb(253,219,199)"
          ],
          [
           0.7,
           "rgb(244,165,130)"
          ],
          [
           0.8,
           "rgb(214,96,77)"
          ],
          [
           0.9,
           "rgb(178,24,43)"
          ],
          [
           1,
           "rgb(103,0,31)"
          ]
         ]
        },
        "height": 800,
        "legend": {
         "tracegroupgap": 0
        },
        "template": {
         "data": {
          "bar": [
           {
            "error_x": {
             "color": "#2a3f5f"
            },
            "error_y": {
             "color": "#2a3f5f"
            },
            "marker": {
             "line": {
              "color": "#E5ECF6",
              "width": 0.5
             },
             "pattern": {
              "fillmode": "overlay",
              "size": 10,
              "solidity": 0.2
             }
            },
            "type": "bar"
           }
          ],
          "barpolar": [
           {
            "marker": {
             "line": {
              "color": "#E5ECF6",
              "width": 0.5
             },
             "pattern": {
              "fillmode": "overlay",
              "size": 10,
              "solidity": 0.2
             }
            },
            "type": "barpolar"
           }
          ],
          "carpet": [
           {
            "aaxis": {
             "endlinecolor": "#2a3f5f",
             "gridcolor": "white",
             "linecolor": "white",
             "minorgridcolor": "white",
             "startlinecolor": "#2a3f5f"
            },
            "baxis": {
             "endlinecolor": "#2a3f5f",
             "gridcolor": "white",
             "linecolor": "white",
             "minorgridcolor": "white",
             "startlinecolor": "#2a3f5f"
            },
            "type": "carpet"
           }
          ],
          "choropleth": [
           {
            "colorbar": {
             "outlinewidth": 0,
             "ticks": ""
            },
            "type": "choropleth"
           }
          ],
          "contour": [
           {
            "colorbar": {
             "outlinewidth": 0,
             "ticks": ""
            },
            "colorscale": [
             [
              0,
              "#0d0887"
             ],
             [
              0.1111111111111111,
              "#46039f"
             ],
             [
              0.2222222222222222,
              "#7201a8"
             ],
             [
              0.3333333333333333,
              "#9c179e"
             ],
             [
              0.4444444444444444,
              "#bd3786"
             ],
             [
              0.5555555555555556,
              "#d8576b"
             ],
             [
              0.6666666666666666,
              "#ed7953"
             ],
             [
              0.7777777777777778,
              "#fb9f3a"
             ],
             [
              0.8888888888888888,
              "#fdca26"
             ],
             [
              1,
              "#f0f921"
             ]
            ],
            "type": "contour"
           }
          ],
          "contourcarpet": [
           {
            "colorbar": {
             "outlinewidth": 0,
             "ticks": ""
            },
            "type": "contourcarpet"
           }
          ],
          "heatmap": [
           {
            "colorbar": {
             "outlinewidth": 0,
             "ticks": ""
            },
            "colorscale": [
             [
              0,
              "#0d0887"
             ],
             [
              0.1111111111111111,
              "#46039f"
             ],
             [
              0.2222222222222222,
              "#7201a8"
             ],
             [
              0.3333333333333333,
              "#9c179e"
             ],
             [
              0.4444444444444444,
              "#bd3786"
             ],
             [
              0.5555555555555556,
              "#d8576b"
             ],
             [
              0.6666666666666666,
              "#ed7953"
             ],
             [
              0.7777777777777778,
              "#fb9f3a"
             ],
             [
              0.8888888888888888,
              "#fdca26"
             ],
             [
              1,
              "#f0f921"
             ]
            ],
            "type": "heatmap"
           }
          ],
          "histogram": [
           {
            "marker": {
             "pattern": {
              "fillmode": "overlay",
              "size": 10,
              "solidity": 0.2
             }
            },
            "type": "histogram"
           }
          ],
          "histogram2d": [
           {
            "colorbar": {
             "outlinewidth": 0,
             "ticks": ""
            },
            "colorscale": [
             [
              0,
              "#0d0887"
             ],
             [
              0.1111111111111111,
              "#46039f"
             ],
             [
              0.2222222222222222,
              "#7201a8"
             ],
             [
              0.3333333333333333,
              "#9c179e"
             ],
             [
              0.4444444444444444,
              "#bd3786"
             ],
             [
              0.5555555555555556,
              "#d8576b"
             ],
             [
              0.6666666666666666,
              "#ed7953"
             ],
             [
              0.7777777777777778,
              "#fb9f3a"
             ],
             [
              0.8888888888888888,
              "#fdca26"
             ],
             [
              1,
              "#f0f921"
             ]
            ],
            "type": "histogram2d"
           }
          ],
          "histogram2dcontour": [
           {
            "colorbar": {
             "outlinewidth": 0,
             "ticks": ""
            },
            "colorscale": [
             [
              0,
              "#0d0887"
             ],
             [
              0.1111111111111111,
              "#46039f"
             ],
             [
              0.2222222222222222,
              "#7201a8"
             ],
             [
              0.3333333333333333,
              "#9c179e"
             ],
             [
              0.4444444444444444,
              "#bd3786"
             ],
             [
              0.5555555555555556,
              "#d8576b"
             ],
             [
              0.6666666666666666,
              "#ed7953"
             ],
             [
              0.7777777777777778,
              "#fb9f3a"
             ],
             [
              0.8888888888888888,
              "#fdca26"
             ],
             [
              1,
              "#f0f921"
             ]
            ],
            "type": "histogram2dcontour"
           }
          ],
          "mesh3d": [
           {
            "colorbar": {
             "outlinewidth": 0,
             "ticks": ""
            },
            "type": "mesh3d"
           }
          ],
          "parcoords": [
           {
            "line": {
             "colorbar": {
              "outlinewidth": 0,
              "ticks": ""
             }
            },
            "type": "parcoords"
           }
          ],
          "pie": [
           {
            "automargin": true,
            "type": "pie"
           }
          ],
          "scatter": [
           {
            "fillpattern": {
             "fillmode": "overlay",
             "size": 10,
             "solidity": 0.2
            },
            "type": "scatter"
           }
          ],
          "scatter3d": [
           {
            "line": {
             "colorbar": {
              "outlinewidth": 0,
              "ticks": ""
             }
            },
            "marker": {
             "colorbar": {
              "outlinewidth": 0,
              "ticks": ""
             }
            },
            "type": "scatter3d"
           }
          ],
          "scattercarpet": [
           {
            "marker": {
             "colorbar": {
              "outlinewidth": 0,
              "ticks": ""
             }
            },
            "type": "scattercarpet"
           }
          ],
          "scattergeo": [
           {
            "marker": {
             "colorbar": {
              "outlinewidth": 0,
              "ticks": ""
             }
            },
            "type": "scattergeo"
           }
          ],
          "scattergl": [
           {
            "marker": {
             "colorbar": {
              "outlinewidth": 0,
              "ticks": ""
             }
            },
            "type": "scattergl"
           }
          ],
          "scattermap": [
           {
            "marker": {
             "colorbar": {
              "outlinewidth": 0,
              "ticks": ""
             }
            },
            "type": "scattermap"
           }
          ],
          "scattermapbox": [
           {
            "marker": {
             "colorbar": {
              "outlinewidth": 0,
              "ticks": ""
             }
            },
            "type": "scattermapbox"
           }
          ],
          "scatterpolar": [
           {
            "marker": {
             "colorbar": {
              "outlinewidth": 0,
              "ticks": ""
             }
            },
            "type": "scatterpolar"
           }
          ],
          "scatterpolargl": [
           {
            "marker": {
             "colorbar": {
              "outlinewidth": 0,
              "ticks": ""
             }
            },
            "type": "scatterpolargl"
           }
          ],
          "scatterternary": [
           {
            "marker": {
             "colorbar": {
              "outlinewidth": 0,
              "ticks": ""
             }
            },
            "type": "scatterternary"
           }
          ],
          "surface": [
           {
            "colorbar": {
             "outlinewidth": 0,
             "ticks": ""
            },
            "colorscale": [
             [
              0,
              "#0d0887"
             ],
             [
              0.1111111111111111,
              "#46039f"
             ],
             [
              0.2222222222222222,
              "#7201a8"
             ],
             [
              0.3333333333333333,
              "#9c179e"
             ],
             [
              0.4444444444444444,
              "#bd3786"
             ],
             [
              0.5555555555555556,
              "#d8576b"
             ],
             [
              0.6666666666666666,
              "#ed7953"
             ],
             [
              0.7777777777777778,
              "#fb9f3a"
             ],
             [
              0.8888888888888888,
              "#fdca26"
             ],
             [
              1,
              "#f0f921"
             ]
            ],
            "type": "surface"
           }
          ],
          "table": [
           {
            "cells": {
             "fill": {
              "color": "#EBF0F8"
             },
             "line": {
              "color": "white"
             }
            },
            "header": {
             "fill": {
              "color": "#C8D4E3"
             },
             "line": {
              "color": "white"
             }
            },
            "type": "table"
           }
          ]
         },
         "layout": {
          "annotationdefaults": {
           "arrowcolor": "#2a3f5f",
           "arrowhead": 0,
           "arrowwidth": 1
          },
          "autotypenumbers": "strict",
          "coloraxis": {
           "colorbar": {
            "outlinewidth": 0,
            "ticks": ""
           }
          },
          "colorscale": {
           "diverging": [
            [
             0,
             "#8e0152"
            ],
            [
             0.1,
             "#c51b7d"
            ],
            [
             0.2,
             "#de77ae"
            ],
            [
             0.3,
             "#f1b6da"
            ],
            [
             0.4,
             "#fde0ef"
            ],
            [
             0.5,
             "#f7f7f7"
            ],
            [
             0.6,
             "#e6f5d0"
            ],
            [
             0.7,
             "#b8e186"
            ],
            [
             0.8,
             "#7fbc41"
            ],
            [
             0.9,
             "#4d9221"
            ],
            [
             1,
             "#276419"
            ]
           ],
           "sequential": [
            [
             0,
             "#0d0887"
            ],
            [
             0.1111111111111111,
             "#46039f"
            ],
            [
             0.2222222222222222,
             "#7201a8"
            ],
            [
             0.3333333333333333,
             "#9c179e"
            ],
            [
             0.4444444444444444,
             "#bd3786"
            ],
            [
             0.5555555555555556,
             "#d8576b"
            ],
            [
             0.6666666666666666,
             "#ed7953"
            ],
            [
             0.7777777777777778,
             "#fb9f3a"
            ],
            [
             0.8888888888888888,
             "#fdca26"
            ],
            [
             1,
             "#f0f921"
            ]
           ],
           "sequentialminus": [
            [
             0,
             "#0d0887"
            ],
            [
             0.1111111111111111,
             "#46039f"
            ],
            [
             0.2222222222222222,
             "#7201a8"
            ],
            [
             0.3333333333333333,
             "#9c179e"
            ],
            [
             0.4444444444444444,
             "#bd3786"
            ],
            [
             0.5555555555555556,
             "#d8576b"
            ],
            [
             0.6666666666666666,
             "#ed7953"
            ],
            [
             0.7777777777777778,
             "#fb9f3a"
            ],
            [
             0.8888888888888888,
             "#fdca26"
            ],
            [
             1,
             "#f0f921"
            ]
           ]
          },
          "colorway": [
           "#636efa",
           "#EF553B",
           "#00cc96",
           "#ab63fa",
           "#FFA15A",
           "#19d3f3",
           "#FF6692",
           "#B6E880",
           "#FF97FF",
           "#FECB52"
          ],
          "font": {
           "color": "#2a3f5f"
          },
          "geo": {
           "bgcolor": "white",
           "lakecolor": "white",
           "landcolor": "#E5ECF6",
           "showlakes": true,
           "showland": true,
           "subunitcolor": "white"
          },
          "hoverlabel": {
           "align": "left"
          },
          "hovermode": "closest",
          "mapbox": {
           "style": "light"
          },
          "paper_bgcolor": "white",
          "plot_bgcolor": "#E5ECF6",
          "polar": {
           "angularaxis": {
            "gridcolor": "white",
            "linecolor": "white",
            "ticks": ""
           },
           "bgcolor": "#E5ECF6",
           "radialaxis": {
            "gridcolor": "white",
            "linecolor": "white",
            "ticks": ""
           }
          },
          "scene": {
           "xaxis": {
            "backgroundcolor": "#E5ECF6",
            "gridcolor": "white",
            "gridwidth": 2,
            "linecolor": "white",
            "showbackground": true,
            "ticks": "",
            "zerolinecolor": "white"
           },
           "yaxis": {
            "backgroundcolor": "#E5ECF6",
            "gridcolor": "white",
            "gridwidth": 2,
            "linecolor": "white",
            "showbackground": true,
            "ticks": "",
            "zerolinecolor": "white"
           },
           "zaxis": {
            "backgroundcolor": "#E5ECF6",
            "gridcolor": "white",
            "gridwidth": 2,
            "linecolor": "white",
            "showbackground": true,
            "ticks": "",
            "zerolinecolor": "white"
           }
          },
          "shapedefaults": {
           "line": {
            "color": "#2a3f5f"
           }
          },
          "ternary": {
           "aaxis": {
            "gridcolor": "white",
            "linecolor": "white",
            "ticks": ""
           },
           "baxis": {
            "gridcolor": "white",
            "linecolor": "white",
            "ticks": ""
           },
           "bgcolor": "#E5ECF6",
           "caxis": {
            "gridcolor": "white",
            "linecolor": "white",
            "ticks": ""
           }
          },
          "title": {
           "x": 0.05
          },
          "xaxis": {
           "automargin": true,
           "gridcolor": "white",
           "linecolor": "white",
           "ticks": "",
           "title": {
            "standoff": 15
           },
           "zerolinecolor": "white",
           "zerolinewidth": 2
          },
          "yaxis": {
           "automargin": true,
           "gridcolor": "white",
           "linecolor": "white",
           "ticks": "",
           "title": {
            "standoff": 15
           },
           "zerolinecolor": "white",
           "zerolinewidth": 2
          }
         }
        },
        "title": {
         "text": "📈 Historical Correlation Stocks vs COLCAP Index Mar-2020 to Mar 2025"
        },
        "xaxis": {
         "anchor": "y",
         "domain": [
          0,
          1
         ],
         "tickformat": ".2f",
         "title": {
          "text": "Correlation Coefficient"
         }
        },
        "yaxis": {
         "anchor": "x",
         "autorange": "reversed",
         "domain": [
          0,
          1
         ],
         "title": {
          "text": "Stock"
         }
        }
       }
      }
     },
     "metadata": {},
     "output_type": "display_data"
    }
   ],
   "source": [
    "import pandas as pd\n",
    "import plotly.express as px\n",
    "\n",
    "# Load the correlation CSV\n",
    "df_corr = pd.read_csv(\"Historical_Correlation.csv\", index_col=0, header=None, names=[\"Stock\", \"Correlation\"],skiprows=1)\n",
    "\n",
    "#Reset index to have the correct form of the dataframe\n",
    "df_corr=df_corr.reset_index()\n",
    "\n",
    "#turn to float the data\n",
    "df_corr[\"Correlation\"] = df_corr[\"Correlation\"].astype(float)\n",
    "\n",
    "#order the data according to the correlation\n",
    "df_corr = df_corr.sort_values(\"Correlation\", ascending=False).reset_index(drop=True)\n",
    "\n",
    "# Optional: clean column names\n",
    "df_corr[\"Stock\"] = df_corr[\"Stock\"].str.replace(\"_Precio cierre\", \"\", regex=False)\n",
    "\n",
    "# Create the bar chart\n",
    "fig = px.bar(\n",
    "    df_corr,\n",
    "    x=\"Correlation\",\n",
    "    y=\"Stock\",\n",
    "    orientation='h',\n",
    "    color=\"Correlation\",\n",
    "    color_continuous_scale='RdBu_r',\n",
    "    range_color=[-1, 1],\n",
    "    title=\"📈 Historical Correlation Stocks vs COLCAP Index Mar-2020 to Mar 2025\",\n",
    "    labels={\"Correlation\": \"Correlation Coefficient\", \"Stock\": \"Stock\"},\n",
    ")\n",
    "\n",
    "# Update layout for better appearance\n",
    "fig.update_layout(\n",
    "    yaxis=dict(autorange=\"reversed\"),\n",
    "    height=800,\n",
    "    xaxis=dict(tickformat=\".2f\"),\n",
    ")\n",
    "\n",
    "# Show the chart (or use in Dash app)\n",
    "fig.show()"
   ]
  },
  {
   "cell_type": "code",
   "execution_count": 43,
   "metadata": {},
   "outputs": [
    {
     "data": {
      "text/html": [
       "\n",
       "        <iframe\n",
       "            width=\"100%\"\n",
       "            height=\"650\"\n",
       "            src=\"http://127.0.0.1:8050/\"\n",
       "            frameborder=\"0\"\n",
       "            allowfullscreen\n",
       "            \n",
       "        ></iframe>\n",
       "        "
      ],
      "text/plain": [
       "<IPython.lib.display.IFrame at 0x25544c37e50>"
      ]
     },
     "metadata": {},
     "output_type": "display_data"
    }
   ],
   "source": [
    "import pandas as pd\n",
    "import plotly.express as px\n",
    "import dash\n",
    "from dash import dcc, html\n",
    "from dash.dependencies import Input, Output\n",
    "\n",
    "#FIRST PART --> CREATION OF HEATMAP\n",
    "\n",
    "# Load the monthly correlation data\n",
    "df = pd.read_csv(\"Monthly_Correlation.csv\", index_col=0, parse_dates=True)\n",
    "df.index = pd.to_datetime(df.index.astype(str))  # Ensure index is datetime\n",
    "\n",
    "# Filter data from March 2024 onwards\n",
    "df_filtered = df[df.index >= \"2024-03\"]\n",
    "\n",
    "#delete the column \"Fecha\"\n",
    "if \"Fecha\" in df_filtered.columns:\n",
    "    df_filtered = df_filtered.drop(columns=[\"Fecha\"])\n",
    "\n",
    "# Split columns into two groups\n",
    "stocks = list(df_filtered.columns)\n",
    "midpoint = len(stocks) // 2\n",
    "group1 = stocks[:midpoint]\n",
    "group2 = stocks[midpoint:]\n",
    "\n",
    "def plot_heatmap(data, title):\n",
    "    fig = px.imshow(\n",
    "        data.T,  # Transpose for better layout\n",
    "        labels=dict(x=\"Month\", y=\"Stock\", color=\"Correlation\"),\n",
    "        title=title,\n",
    "        color_continuous_scale=\"RdBu_r\",\n",
    "        aspect=\"auto\",\n",
    "    )\n",
    "    fig.update_layout(\n",
    "        autosize=False,\n",
    "        width=1000,\n",
    "        height=600,\n",
    "        xaxis=dict(tickangle=-45),\n",
    "    )\n",
    "    return fig\n",
    "\n",
    "# SECOND PART --> CREATION OF THE CORRELATION BARCHART\n",
    "\n",
    "# Load the correlation CSV\n",
    "df_corr = pd.read_csv(\"Historical_Correlation.csv\", index_col=0, header=None, names=[\"Stock\", \"Correlation\"],skiprows=1)\n",
    "\n",
    "#Reset index to have the correct form of the dataframe\n",
    "df_corr=df_corr.reset_index()\n",
    "\n",
    "#turn to float the data\n",
    "df_corr[\"Correlation\"] = df_corr[\"Correlation\"].astype(float)\n",
    "\n",
    "#order the data according to the correlation\n",
    "df_corr = df_corr.sort_values(\"Correlation\", ascending=False).reset_index(drop=True)\n",
    "\n",
    "# Optional: clean column names\n",
    "df_corr[\"Stock\"] = df_corr[\"Stock\"].str.replace(\"_Precio cierre\", \"\", regex=False)\n",
    "\n",
    "def create_bar_chart():\n",
    "    fig = px.bar(\n",
    "        df_corr,\n",
    "        x=\"Correlation\",\n",
    "        y=\"Stock\",\n",
    "        orientation=\"h\",\n",
    "        title=\"📊 Historical Correlation with COLCAP since 2020\",\n",
    "        color=\"Correlation\",\n",
    "        color_continuous_scale=\"RdBu_r\",\n",
    "        range_color=[-1, 1],\n",
    "        labels={\"Correlation\": \"Correlation Coefficient\", \"Stock\": \"Stock\"}\n",
    "    )\n",
    "    fig.update_layout(\n",
    "        yaxis=dict(autorange=\"reversed\"),\n",
    "        height=800,\n",
    "        xaxis=dict(tickformat=\".2f\"))\n",
    "    return fig\n",
    "\n",
    "\n",
    "# Dash app setup\n",
    "app = dash.Dash(__name__)\n",
    "server = app.server\n",
    "\n",
    "app.layout = html.Div([\n",
    "    html.H1(\"📈 Correlation Visualizations\", style={'textAlign': 'center'}),\n",
    "    \n",
    "    dcc.Dropdown(\n",
    "        id=\"group_selector\",\n",
    "        options=[\n",
    "            {\"label\": \"Group 1\", \"value\": \"group1\"},\n",
    "            {\"label\": \"Group 2\", \"value\": \"group2\"}\n",
    "        ],\n",
    "        value=\"group1\",\n",
    "        clearable=False,\n",
    "        style={\"width\": \"50%\", \"margin\": \"auto\"}\n",
    "    ),\n",
    "    \n",
    "    html.Div(\n",
    "        dcc.Graph(id=\"heatmap\"),\n",
    "        style={\"display\": \"flex\", \"justifyContent\": \"center\"}\n",
    "    ),\n",
    "    \n",
    "    dcc.Tab(label=\"Historical Correlation Bar Chart\", children=[\n",
    "            html.Br(),\n",
    "            dcc.Graph(figure=create_bar_chart(), style={\"margin\": \"0 auto\", \"width\": \"90%\"})\n",
    "        ])\n",
    "    \n",
    "])\n",
    "\n",
    "@app.callback(\n",
    "    Output(\"heatmap\", \"figure\"),\n",
    "    Input(\"group_selector\", \"value\")\n",
    ")\n",
    "def update_heatmap(selected_group):\n",
    "    data = df_filtered[group1] if selected_group == \"group1\" else df_filtered[group2]\n",
    "    title = f\"📊 Monthly Correlation Heatmap ({selected_group.replace('group', 'Group ')})\"\n",
    "    return plot_heatmap(data, title)\n",
    "\n",
    "# Run the server locally\n",
    "if __name__ == \"__main__\":\n",
    "    app.run(debug=True)"
   ]
  },
  {
   "cell_type": "markdown",
   "metadata": {},
   "source": [
    "### OTHER CORRELATIONS"
   ]
  },
  {
   "cell_type": "code",
   "execution_count": 44,
   "metadata": {},
   "outputs": [
    {
     "data": {
      "text/html": [
       "\n",
       "        <iframe\n",
       "            width=\"100%\"\n",
       "            height=\"650\"\n",
       "            src=\"http://127.0.0.1:8050/\"\n",
       "            frameborder=\"0\"\n",
       "            allowfullscreen\n",
       "            \n",
       "        ></iframe>\n",
       "        "
      ],
      "text/plain": [
       "<IPython.lib.display.IFrame at 0x25543ecee50>"
      ]
     },
     "metadata": {},
     "output_type": "display_data"
    }
   ],
   "source": [
    "import pandas as pd\n",
    "import numpy as np\n",
    "import plotly.express as px\n",
    "from dash import Dash, dcc, html, Input, Output\n",
    "\n",
    "# Load precomputed rolling correlations\n",
    "rolling_corr_df = pd.read_csv(\"Rolling_Correlations.csv\", index_col=0)\n",
    "\n",
    "# Drop MSCI_COLCAP itself if present\n",
    "rolling_corr_df = rolling_corr_df[~rolling_corr_df.index.str.contains(\"COLCAP\", case=False)]\n",
    "\n",
    "# List of windows based on the columns in the CSV\n",
    "rolling_windows = list(rolling_corr_df.columns)\n",
    "\n",
    "# Create Dash app\n",
    "app = Dash(__name__)\n",
    "\n",
    "app.layout = html.Div([\n",
    "    html.H1(\"📊 Rolling Correlation with MSCI COLCAP\", style={\"textAlign\": \"center\"}),\n",
    "\n",
    "    dcc.Dropdown(\n",
    "        id=\"window_selector\",\n",
    "        options=[{\"label\": window, \"value\": window} for window in rolling_windows],\n",
    "        value=rolling_windows[-1],  # Default to last (e.g., 252d)\n",
    "        clearable=False,\n",
    "        style={\"width\": \"50%\", \"margin\": \"auto\"}\n",
    "    ),\n",
    "\n",
    "    dcc.Graph(id=\"bar_chart\"),\n",
    "\n",
    "    html.H3(\"Correlation Table\", style={\"textAlign\": \"center\"}),\n",
    "    html.Div(id=\"correlation_table\", style={\"width\": \"80%\", \"margin\": \"auto\"})\n",
    "])\n",
    "\n",
    "@app.callback(\n",
    "    [Output(\"bar_chart\", \"figure\"),\n",
    "     Output(\"correlation_table\", \"children\")],\n",
    "    [Input(\"window_selector\", \"value\")]\n",
    ")\n",
    "def update_output(selected_window):\n",
    "    corr_series = rolling_corr_df[selected_window].dropna()\n",
    "\n",
    "    # Bar chart\n",
    "    fig = px.bar(\n",
    "        x=corr_series.index,\n",
    "        y=corr_series.values,\n",
    "        labels={\"x\": \"Stock\", \"y\": f\"Correlation ({selected_window})\"},\n",
    "        title=f\"Rolling Correlation with MSCI COLCAP ({selected_window})\",\n",
    "        color=corr_series.values,\n",
    "        color_continuous_scale=\"RdBu\",\n",
    "        range_color=[-1, 1]\n",
    "    )\n",
    "    fig.update_layout(xaxis_tickangle=-45, height=500)\n",
    "\n",
    "    # Table\n",
    "    table = html.Table([\n",
    "        html.Thead([\n",
    "            html.Tr([html.Th(\"Stock\"), html.Th(f\"Correlation ({selected_window})\")])\n",
    "        ]),\n",
    "        html.Tbody([\n",
    "            html.Tr([html.Td(stock), html.Td(round(corr, 4))])\n",
    "            for stock, corr in corr_series.items()\n",
    "        ])\n",
    "    ])\n",
    "\n",
    "    return fig, table\n",
    "\n",
    "if __name__ == \"__main__\":\n",
    "    app.run(debug=True)"
   ]
  },
  {
   "cell_type": "code",
   "execution_count": null,
   "metadata": {},
   "outputs": [
    {
     "data": {
      "text/html": [
       "\n",
       "        <iframe\n",
       "            width=\"100%\"\n",
       "            height=\"650\"\n",
       "            src=\"http://127.0.0.1:8050/\"\n",
       "            frameborder=\"0\"\n",
       "            allowfullscreen\n",
       "            \n",
       "        ></iframe>\n",
       "        "
      ],
      "text/plain": [
       "<IPython.lib.display.IFrame at 0x25544e44110>"
      ]
     },
     "metadata": {},
     "output_type": "display_data"
    },
    {
     "name": "stderr",
     "output_type": "stream",
     "text": [
      "[2025-06-17 21:08:59,876] ERROR in app: Exception on /_dash-update-component [POST]\n",
      "Traceback (most recent call last):\n",
      "  File \"c:\\Users\\ACER\\anaconda3\\envs\\stock_project\\Lib\\site-packages\\pandas\\core\\indexes\\base.py\", line 3805, in get_loc\n",
      "    return self._engine.get_loc(casted_key)\n",
      "           ^^^^^^^^^^^^^^^^^^^^^^^^^^^^^^^^\n",
      "  File \"index.pyx\", line 167, in pandas._libs.index.IndexEngine.get_loc\n",
      "  File \"index.pyx\", line 196, in pandas._libs.index.IndexEngine.get_loc\n",
      "  File \"pandas\\\\_libs\\\\hashtable_class_helper.pxi\", line 7081, in pandas._libs.hashtable.PyObjectHashTable.get_item\n",
      "  File \"pandas\\\\_libs\\\\hashtable_class_helper.pxi\", line 7089, in pandas._libs.hashtable.PyObjectHashTable.get_item\n",
      "KeyError: '252d'\n",
      "\n",
      "The above exception was the direct cause of the following exception:\n",
      "\n",
      "Traceback (most recent call last):\n",
      "  File \"c:\\Users\\ACER\\anaconda3\\envs\\stock_project\\Lib\\site-packages\\flask\\app.py\", line 917, in full_dispatch_request\n",
      "    rv = self.dispatch_request()\n",
      "         ^^^^^^^^^^^^^^^^^^^^^^^\n",
      "  File \"c:\\Users\\ACER\\anaconda3\\envs\\stock_project\\Lib\\site-packages\\flask\\app.py\", line 902, in dispatch_request\n",
      "    return self.ensure_sync(self.view_functions[rule.endpoint])(**view_args)  # type: ignore[no-any-return]\n",
      "           ^^^^^^^^^^^^^^^^^^^^^^^^^^^^^^^^^^^^^^^^^^^^^^^^^^^^^^^^^^^^^^^^^\n",
      "  File \"c:\\Users\\ACER\\anaconda3\\envs\\stock_project\\Lib\\site-packages\\dash\\dash.py\", line 1414, in dispatch\n",
      "    ctx.run(\n",
      "  File \"c:\\Users\\ACER\\anaconda3\\envs\\stock_project\\Lib\\site-packages\\dash\\_callback.py\", line 536, in add_context\n",
      "    raise err\n",
      "  File \"c:\\Users\\ACER\\anaconda3\\envs\\stock_project\\Lib\\site-packages\\dash\\_callback.py\", line 525, in add_context\n",
      "    output_value = _invoke_callback(func, *func_args, **func_kwargs)  # type: ignore[reportArgumentType]\n",
      "                   ^^^^^^^^^^^^^^^^^^^^^^^^^^^^^^^^^^^^^^^^^^^^^^^^^\n",
      "  File \"c:\\Users\\ACER\\anaconda3\\envs\\stock_project\\Lib\\site-packages\\dash\\_callback.py\", line 47, in _invoke_callback\n",
      "    return func(*args, **kwargs)  # %% callback invoked %%\n",
      "           ^^^^^^^^^^^^^^^^^^^^^\n",
      "  File \"C:\\Users\\ACER\\AppData\\Local\\Temp\\ipykernel_15264\\718120634.py\", line 188, in update_rolling_output\n",
      "    corr_series = rolling_df[selected_window].dropna().sort_values(ascending=False)\n",
      "                  ~~~~~~~~~~^^^^^^^^^^^^^^^^^\n",
      "  File \"c:\\Users\\ACER\\anaconda3\\envs\\stock_project\\Lib\\site-packages\\pandas\\core\\frame.py\", line 4102, in __getitem__\n",
      "    indexer = self.columns.get_loc(key)\n",
      "              ^^^^^^^^^^^^^^^^^^^^^^^^^\n",
      "  File \"c:\\Users\\ACER\\anaconda3\\envs\\stock_project\\Lib\\site-packages\\pandas\\core\\indexes\\base.py\", line 3812, in get_loc\n",
      "    raise KeyError(key) from err\n",
      "KeyError: '252d'\n",
      "\n",
      "During handling of the above exception, another exception occurred:\n",
      "\n",
      "Traceback (most recent call last):\n",
      "  File \"c:\\Users\\ACER\\anaconda3\\envs\\stock_project\\Lib\\site-packages\\flask\\app.py\", line 1511, in wsgi_app\n",
      "    response = self.full_dispatch_request()\n",
      "               ^^^^^^^^^^^^^^^^^^^^^^^^^^^^\n",
      "  File \"c:\\Users\\ACER\\anaconda3\\envs\\stock_project\\Lib\\site-packages\\flask\\app.py\", line 919, in full_dispatch_request\n",
      "    rv = self.handle_user_exception(e)\n",
      "         ^^^^^^^^^^^^^^^^^^^^^^^^^^^^^\n",
      "  File \"c:\\Users\\ACER\\anaconda3\\envs\\stock_project\\Lib\\site-packages\\flask\\app.py\", line 809, in handle_user_exception\n",
      "    return self.ensure_sync(handler)(e)  # type: ignore[no-any-return]\n",
      "           ^^^^^^^^^^^^^^^^^^^^^^^^^^^^\n",
      "  File \"c:\\Users\\ACER\\anaconda3\\envs\\stock_project\\Lib\\site-packages\\dash\\_jupyter.py\", line 462, in _wrap_errors\n",
      "    ipytb = FormattedTB(\n",
      "            ^^^^^^^^^^^^\n",
      "TypeError: FormattedTB.__init__() got an unexpected keyword argument 'color_scheme'\n",
      "Error on request:\n",
      "Traceback (most recent call last):\n",
      "  File \"c:\\Users\\ACER\\anaconda3\\envs\\stock_project\\Lib\\site-packages\\pandas\\core\\indexes\\base.py\", line 3805, in get_loc\n",
      "    return self._engine.get_loc(casted_key)\n",
      "           ^^^^^^^^^^^^^^^^^^^^^^^^^^^^^^^^\n",
      "  File \"index.pyx\", line 167, in pandas._libs.index.IndexEngine.get_loc\n",
      "  File \"index.pyx\", line 196, in pandas._libs.index.IndexEngine.get_loc\n",
      "  File \"pandas\\\\_libs\\\\hashtable_class_helper.pxi\", line 7081, in pandas._libs.hashtable.PyObjectHashTable.get_item\n",
      "  File \"pandas\\\\_libs\\\\hashtable_class_helper.pxi\", line 7089, in pandas._libs.hashtable.PyObjectHashTable.get_item\n",
      "KeyError: '252d'\n",
      "\n",
      "The above exception was the direct cause of the following exception:\n",
      "\n",
      "Traceback (most recent call last):\n",
      "  File \"c:\\Users\\ACER\\anaconda3\\envs\\stock_project\\Lib\\site-packages\\flask\\app.py\", line 917, in full_dispatch_request\n",
      "    rv = self.dispatch_request()\n",
      "         ^^^^^^^^^^^^^^^^^^^^^^^\n",
      "  File \"c:\\Users\\ACER\\anaconda3\\envs\\stock_project\\Lib\\site-packages\\flask\\app.py\", line 902, in dispatch_request\n",
      "    return self.ensure_sync(self.view_functions[rule.endpoint])(**view_args)  # type: ignore[no-any-return]\n",
      "           ^^^^^^^^^^^^^^^^^^^^^^^^^^^^^^^^^^^^^^^^^^^^^^^^^^^^^^^^^^^^^^^^^^^^^^^^^^^^^^^^^^^^^^^^^^^^^^^^\n",
      "  File \"c:\\Users\\ACER\\anaconda3\\envs\\stock_project\\Lib\\site-packages\\dash\\dash.py\", line 1414, in dispatch\n",
      "    ctx.run(\n",
      "  File \"c:\\Users\\ACER\\anaconda3\\envs\\stock_project\\Lib\\site-packages\\dash\\_callback.py\", line 536, in add_context\n",
      "    raise err\n",
      "  File \"c:\\Users\\ACER\\anaconda3\\envs\\stock_project\\Lib\\site-packages\\dash\\_callback.py\", line 525, in add_context\n",
      "    output_value = _invoke_callback(func, *func_args, **func_kwargs)  # type: ignore[reportArgumentType]\n",
      "                   ^^^^^^^^^^^^^^^^^^^^^^^^^^^^^^^^^^^^^^^^^^^^^^^^^^^^^^^^^^^^^^^^^^^^^^^^^^^^^^^^^^^^^\n",
      "  File \"c:\\Users\\ACER\\anaconda3\\envs\\stock_project\\Lib\\site-packages\\dash\\_callback.py\", line 47, in _invoke_callback\n",
      "    return func(*args, **kwargs)  # %% callback invoked %%\n",
      "           ^^^^^^^^^^^^^^^^^^^^^^^^^^^^^^^^^^^^^^^^^^^^^^^\n",
      "  File \"C:\\Users\\ACER\\AppData\\Local\\Temp\\ipykernel_15264\\718120634.py\", line 188, in update_rolling_output\n",
      "    corr_series = rolling_df[selected_window].dropna().sort_values(ascending=False)\n",
      "                  ^^^^^^^^^^^^^^^^^^^^^^^^^^^^^^^^^^^^^^^^^^^^^^^^^^^^^^^^^^^^^^^^^\n",
      "  File \"c:\\Users\\ACER\\anaconda3\\envs\\stock_project\\Lib\\site-packages\\pandas\\core\\frame.py\", line 4102, in __getitem__\n",
      "    indexer = self.columns.get_loc(key)\n",
      "              ^^^^^^^^^^^^^^^^^^^^^^^^^\n",
      "  File \"c:\\Users\\ACER\\anaconda3\\envs\\stock_project\\Lib\\site-packages\\pandas\\core\\indexes\\base.py\", line 3812, in get_loc\n",
      "    raise KeyError(key) from err\n",
      "KeyError: '252d'\n",
      "\n",
      "During handling of the above exception, another exception occurred:\n",
      "\n",
      "Traceback (most recent call last):\n",
      "  File \"c:\\Users\\ACER\\anaconda3\\envs\\stock_project\\Lib\\site-packages\\flask\\app.py\", line 1511, in wsgi_app\n",
      "    response = self.full_dispatch_request()\n",
      "               ^^^^^^^^^^^^^^^^^^^^^^^^^^^^\n",
      "  File \"c:\\Users\\ACER\\anaconda3\\envs\\stock_project\\Lib\\site-packages\\flask\\app.py\", line 919, in full_dispatch_request\n",
      "    rv = self.handle_user_exception(e)\n",
      "         ^^^^^^^^^^^^^^^^^^^^^^^^^^^^^\n",
      "  File \"c:\\Users\\ACER\\anaconda3\\envs\\stock_project\\Lib\\site-packages\\flask\\app.py\", line 809, in handle_user_exception\n",
      "    return self.ensure_sync(handler)(e)  # type: ignore[no-any-return]\n",
      "           ^^^^^^^^^^^^^^^^^^^^^^^^^^^^^^^^^^^^^^^^^^^^^^^^^^^^^^^^^^^\n",
      "  File \"c:\\Users\\ACER\\anaconda3\\envs\\stock_project\\Lib\\site-packages\\dash\\_jupyter.py\", line 462, in _wrap_errors\n",
      "    ipytb = FormattedTB(\n",
      "            ^^^^^^^^^^^^\n",
      "TypeError: FormattedTB.__init__() got an unexpected keyword argument 'color_scheme'\n",
      "\n",
      "During handling of the above exception, another exception occurred:\n",
      "\n",
      "Traceback (most recent call last):\n",
      "  File \"c:\\Users\\ACER\\anaconda3\\envs\\stock_project\\Lib\\site-packages\\werkzeug\\serving.py\", line 370, in run_wsgi\n",
      "    execute(self.server.app)\n",
      "  File \"c:\\Users\\ACER\\anaconda3\\envs\\stock_project\\Lib\\site-packages\\werkzeug\\serving.py\", line 331, in execute\n",
      "    application_iter = app(environ, start_response)\n",
      "                       ^^^^^^^^^^^^^^^^^^^^^^^^^^^^\n",
      "  File \"c:\\Users\\ACER\\anaconda3\\envs\\stock_project\\Lib\\site-packages\\flask\\app.py\", line 1536, in __call__\n",
      "    return self.wsgi_app(environ, start_response)\n",
      "           ^^^^^^^^^^^^^^^^^^^^^^^^^^^^^^^^^^^^^^\n",
      "  File \"c:\\Users\\ACER\\anaconda3\\envs\\stock_project\\Lib\\site-packages\\flask\\app.py\", line 1514, in wsgi_app\n",
      "    response = self.handle_exception(e)\n",
      "               ^^^^^^^^^^^^^^^^^^^^^^^^\n",
      "  File \"c:\\Users\\ACER\\anaconda3\\envs\\stock_project\\Lib\\site-packages\\flask\\app.py\", line 860, in handle_exception\n",
      "    server_error = self.ensure_sync(handler)(server_error)\n",
      "                   ^^^^^^^^^^^^^^^^^^^^^^^^^^^^^^^^^^^^^^^\n",
      "  File \"c:\\Users\\ACER\\anaconda3\\envs\\stock_project\\Lib\\site-packages\\dash\\_jupyter.py\", line 453, in _wrap_errors\n",
      "    skip = _get_skip(error) if dev_tools_prune_errors else 0\n",
      "           ^^^^^^^^^^^^^^^^^^^^^^^^^^^^^^^^^^^^^^^^^^^^^^^^^\n",
      "  File \"c:\\Users\\ACER\\anaconda3\\envs\\stock_project\\Lib\\site-packages\\dash\\_jupyter.py\", line 47, in _get_skip\n",
      "    while tb.tb_next is not None:\n",
      "          ^^^^^^^^^^^^^^^^^^^^^^^\n",
      "AttributeError: 'NoneType' object has no attribute 'tb_next'\n",
      "[2025-06-17 21:09:00,248] ERROR in app: Exception on /_dash-update-component [POST]\n",
      "Traceback (most recent call last):\n",
      "  File \"c:\\Users\\ACER\\anaconda3\\envs\\stock_project\\Lib\\site-packages\\pandas\\core\\indexes\\base.py\", line 3805, in get_loc\n",
      "    return self._engine.get_loc(casted_key)\n",
      "           ^^^^^^^^^^^^^^^^^^^^^^^^^^^^^^^^\n",
      "  File \"index.pyx\", line 167, in pandas._libs.index.IndexEngine.get_loc\n",
      "  File \"index.pyx\", line 196, in pandas._libs.index.IndexEngine.get_loc\n",
      "  File \"pandas\\\\_libs\\\\hashtable_class_helper.pxi\", line 7081, in pandas._libs.hashtable.PyObjectHashTable.get_item\n",
      "  File \"pandas\\\\_libs\\\\hashtable_class_helper.pxi\", line 7089, in pandas._libs.hashtable.PyObjectHashTable.get_item\n",
      "KeyError: '252d'\n",
      "\n",
      "The above exception was the direct cause of the following exception:\n",
      "\n",
      "Traceback (most recent call last):\n",
      "  File \"c:\\Users\\ACER\\anaconda3\\envs\\stock_project\\Lib\\site-packages\\flask\\app.py\", line 917, in full_dispatch_request\n",
      "    rv = self.dispatch_request()\n",
      "         ^^^^^^^^^^^^^^^^^^^^^^^\n",
      "  File \"c:\\Users\\ACER\\anaconda3\\envs\\stock_project\\Lib\\site-packages\\flask\\app.py\", line 902, in dispatch_request\n",
      "    return self.ensure_sync(self.view_functions[rule.endpoint])(**view_args)  # type: ignore[no-any-return]\n",
      "           ^^^^^^^^^^^^^^^^^^^^^^^^^^^^^^^^^^^^^^^^^^^^^^^^^^^^^^^^^^^^^^^^^\n",
      "  File \"c:\\Users\\ACER\\anaconda3\\envs\\stock_project\\Lib\\site-packages\\dash\\dash.py\", line 1414, in dispatch\n",
      "    ctx.run(\n",
      "  File \"c:\\Users\\ACER\\anaconda3\\envs\\stock_project\\Lib\\site-packages\\dash\\_callback.py\", line 536, in add_context\n",
      "    raise err\n",
      "  File \"c:\\Users\\ACER\\anaconda3\\envs\\stock_project\\Lib\\site-packages\\dash\\_callback.py\", line 525, in add_context\n",
      "    output_value = _invoke_callback(func, *func_args, **func_kwargs)  # type: ignore[reportArgumentType]\n",
      "                   ^^^^^^^^^^^^^^^^^^^^^^^^^^^^^^^^^^^^^^^^^^^^^^^^^\n",
      "  File \"c:\\Users\\ACER\\anaconda3\\envs\\stock_project\\Lib\\site-packages\\dash\\_callback.py\", line 47, in _invoke_callback\n",
      "    return func(*args, **kwargs)  # %% callback invoked %%\n",
      "           ^^^^^^^^^^^^^^^^^^^^^\n",
      "  File \"C:\\Users\\ACER\\AppData\\Local\\Temp\\ipykernel_15264\\718120634.py\", line 188, in update_rolling_output\n",
      "    corr_series = rolling_df[selected_window].dropna().sort_values(ascending=False)\n",
      "                  ~~~~~~~~~~^^^^^^^^^^^^^^^^^\n",
      "  File \"c:\\Users\\ACER\\anaconda3\\envs\\stock_project\\Lib\\site-packages\\pandas\\core\\frame.py\", line 4102, in __getitem__\n",
      "    indexer = self.columns.get_loc(key)\n",
      "              ^^^^^^^^^^^^^^^^^^^^^^^^^\n",
      "  File \"c:\\Users\\ACER\\anaconda3\\envs\\stock_project\\Lib\\site-packages\\pandas\\core\\indexes\\base.py\", line 3812, in get_loc\n",
      "    raise KeyError(key) from err\n",
      "KeyError: '252d'\n",
      "\n",
      "During handling of the above exception, another exception occurred:\n",
      "\n",
      "Traceback (most recent call last):\n",
      "  File \"c:\\Users\\ACER\\anaconda3\\envs\\stock_project\\Lib\\site-packages\\flask\\app.py\", line 1511, in wsgi_app\n",
      "    response = self.full_dispatch_request()\n",
      "               ^^^^^^^^^^^^^^^^^^^^^^^^^^^^\n",
      "  File \"c:\\Users\\ACER\\anaconda3\\envs\\stock_project\\Lib\\site-packages\\flask\\app.py\", line 919, in full_dispatch_request\n",
      "    rv = self.handle_user_exception(e)\n",
      "         ^^^^^^^^^^^^^^^^^^^^^^^^^^^^^\n",
      "  File \"c:\\Users\\ACER\\anaconda3\\envs\\stock_project\\Lib\\site-packages\\flask\\app.py\", line 809, in handle_user_exception\n",
      "    return self.ensure_sync(handler)(e)  # type: ignore[no-any-return]\n",
      "           ^^^^^^^^^^^^^^^^^^^^^^^^^^^^\n",
      "  File \"c:\\Users\\ACER\\anaconda3\\envs\\stock_project\\Lib\\site-packages\\dash\\_jupyter.py\", line 462, in _wrap_errors\n",
      "    ipytb = FormattedTB(\n",
      "            ^^^^^^^^^^^^\n",
      "TypeError: FormattedTB.__init__() got an unexpected keyword argument 'color_scheme'\n",
      "Error on request:\n",
      "Traceback (most recent call last):\n",
      "  File \"c:\\Users\\ACER\\anaconda3\\envs\\stock_project\\Lib\\site-packages\\pandas\\core\\indexes\\base.py\", line 3805, in get_loc\n",
      "    return self._engine.get_loc(casted_key)\n",
      "           ^^^^^^^^^^^^^^^^^^^^^^^^^^^^^^^^\n",
      "  File \"index.pyx\", line 167, in pandas._libs.index.IndexEngine.get_loc\n",
      "  File \"index.pyx\", line 196, in pandas._libs.index.IndexEngine.get_loc\n",
      "  File \"pandas\\\\_libs\\\\hashtable_class_helper.pxi\", line 7081, in pandas._libs.hashtable.PyObjectHashTable.get_item\n",
      "  File \"pandas\\\\_libs\\\\hashtable_class_helper.pxi\", line 7089, in pandas._libs.hashtable.PyObjectHashTable.get_item\n",
      "KeyError: '252d'\n",
      "\n",
      "The above exception was the direct cause of the following exception:\n",
      "\n",
      "Traceback (most recent call last):\n",
      "  File \"c:\\Users\\ACER\\anaconda3\\envs\\stock_project\\Lib\\site-packages\\flask\\app.py\", line 917, in full_dispatch_request\n",
      "    rv = self.dispatch_request()\n",
      "         ^^^^^^^^^^^^^^^^^^^^^^^\n",
      "  File \"c:\\Users\\ACER\\anaconda3\\envs\\stock_project\\Lib\\site-packages\\flask\\app.py\", line 902, in dispatch_request\n",
      "    return self.ensure_sync(self.view_functions[rule.endpoint])(**view_args)  # type: ignore[no-any-return]\n",
      "           ^^^^^^^^^^^^^^^^^^^^^^^^^^^^^^^^^^^^^^^^^^^^^^^^^^^^^^^^^^^^^^^^^^^^^^^^^^^^^^^^^^^^^^^^^^^^^^^^\n",
      "  File \"c:\\Users\\ACER\\anaconda3\\envs\\stock_project\\Lib\\site-packages\\dash\\dash.py\", line 1414, in dispatch\n",
      "    ctx.run(\n",
      "  File \"c:\\Users\\ACER\\anaconda3\\envs\\stock_project\\Lib\\site-packages\\dash\\_callback.py\", line 536, in add_context\n",
      "    raise err\n",
      "  File \"c:\\Users\\ACER\\anaconda3\\envs\\stock_project\\Lib\\site-packages\\dash\\_callback.py\", line 525, in add_context\n",
      "    output_value = _invoke_callback(func, *func_args, **func_kwargs)  # type: ignore[reportArgumentType]\n",
      "                   ^^^^^^^^^^^^^^^^^^^^^^^^^^^^^^^^^^^^^^^^^^^^^^^^^^^^^^^^^^^^^^^^^^^^^^^^^^^^^^^^^^^^^\n",
      "  File \"c:\\Users\\ACER\\anaconda3\\envs\\stock_project\\Lib\\site-packages\\dash\\_callback.py\", line 47, in _invoke_callback\n",
      "    return func(*args, **kwargs)  # %% callback invoked %%\n",
      "           ^^^^^^^^^^^^^^^^^^^^^^^^^^^^^^^^^^^^^^^^^^^^^^^\n",
      "  File \"C:\\Users\\ACER\\AppData\\Local\\Temp\\ipykernel_15264\\718120634.py\", line 188, in update_rolling_output\n",
      "    corr_series = rolling_df[selected_window].dropna().sort_values(ascending=False)\n",
      "                  ^^^^^^^^^^^^^^^^^^^^^^^^^^^^^^^^^^^^^^^^^^^^^^^^^^^^^^^^^^^^^^^^^\n",
      "  File \"c:\\Users\\ACER\\anaconda3\\envs\\stock_project\\Lib\\site-packages\\pandas\\core\\frame.py\", line 4102, in __getitem__\n",
      "    indexer = self.columns.get_loc(key)\n",
      "              ^^^^^^^^^^^^^^^^^^^^^^^^^\n",
      "  File \"c:\\Users\\ACER\\anaconda3\\envs\\stock_project\\Lib\\site-packages\\pandas\\core\\indexes\\base.py\", line 3812, in get_loc\n",
      "    raise KeyError(key) from err\n",
      "KeyError: '252d'\n",
      "\n",
      "During handling of the above exception, another exception occurred:\n",
      "\n",
      "Traceback (most recent call last):\n",
      "  File \"c:\\Users\\ACER\\anaconda3\\envs\\stock_project\\Lib\\site-packages\\flask\\app.py\", line 1511, in wsgi_app\n",
      "    response = self.full_dispatch_request()\n",
      "               ^^^^^^^^^^^^^^^^^^^^^^^^^^^^\n",
      "  File \"c:\\Users\\ACER\\anaconda3\\envs\\stock_project\\Lib\\site-packages\\flask\\app.py\", line 919, in full_dispatch_request\n",
      "    rv = self.handle_user_exception(e)\n",
      "         ^^^^^^^^^^^^^^^^^^^^^^^^^^^^^\n",
      "  File \"c:\\Users\\ACER\\anaconda3\\envs\\stock_project\\Lib\\site-packages\\flask\\app.py\", line 809, in handle_user_exception\n",
      "    return self.ensure_sync(handler)(e)  # type: ignore[no-any-return]\n",
      "           ^^^^^^^^^^^^^^^^^^^^^^^^^^^^^^^^^^^^^^^^^^^^^^^^^^^^^^^^^^^\n",
      "  File \"c:\\Users\\ACER\\anaconda3\\envs\\stock_project\\Lib\\site-packages\\dash\\_jupyter.py\", line 462, in _wrap_errors\n",
      "    ipytb = FormattedTB(\n",
      "            ^^^^^^^^^^^^\n",
      "TypeError: FormattedTB.__init__() got an unexpected keyword argument 'color_scheme'\n",
      "\n",
      "During handling of the above exception, another exception occurred:\n",
      "\n",
      "Traceback (most recent call last):\n",
      "  File \"c:\\Users\\ACER\\anaconda3\\envs\\stock_project\\Lib\\site-packages\\werkzeug\\serving.py\", line 370, in run_wsgi\n",
      "    execute(self.server.app)\n",
      "  File \"c:\\Users\\ACER\\anaconda3\\envs\\stock_project\\Lib\\site-packages\\werkzeug\\serving.py\", line 331, in execute\n",
      "    application_iter = app(environ, start_response)\n",
      "                       ^^^^^^^^^^^^^^^^^^^^^^^^^^^^\n",
      "  File \"c:\\Users\\ACER\\anaconda3\\envs\\stock_project\\Lib\\site-packages\\flask\\app.py\", line 1536, in __call__\n",
      "    return self.wsgi_app(environ, start_response)\n",
      "           ^^^^^^^^^^^^^^^^^^^^^^^^^^^^^^^^^^^^^^\n",
      "  File \"c:\\Users\\ACER\\anaconda3\\envs\\stock_project\\Lib\\site-packages\\flask\\app.py\", line 1514, in wsgi_app\n",
      "    response = self.handle_exception(e)\n",
      "               ^^^^^^^^^^^^^^^^^^^^^^^^\n",
      "  File \"c:\\Users\\ACER\\anaconda3\\envs\\stock_project\\Lib\\site-packages\\flask\\app.py\", line 860, in handle_exception\n",
      "    server_error = self.ensure_sync(handler)(server_error)\n",
      "                   ^^^^^^^^^^^^^^^^^^^^^^^^^^^^^^^^^^^^^^^\n",
      "  File \"c:\\Users\\ACER\\anaconda3\\envs\\stock_project\\Lib\\site-packages\\dash\\_jupyter.py\", line 453, in _wrap_errors\n",
      "    skip = _get_skip(error) if dev_tools_prune_errors else 0\n",
      "           ^^^^^^^^^^^^^^^^^^^^^^^^^^^^^^^^^^^^^^^^^^^^^^^^^\n",
      "  File \"c:\\Users\\ACER\\anaconda3\\envs\\stock_project\\Lib\\site-packages\\dash\\_jupyter.py\", line 47, in _get_skip\n",
      "    while tb.tb_next is not None:\n",
      "          ^^^^^^^^^^^^^^^^^^^^^^^\n",
      "AttributeError: 'NoneType' object has no attribute 'tb_next'\n",
      "[2025-06-17 21:09:00,771] ERROR in app: Exception on /_dash-update-component [POST]\n",
      "Traceback (most recent call last):\n",
      "  File \"c:\\Users\\ACER\\anaconda3\\envs\\stock_project\\Lib\\site-packages\\pandas\\core\\indexes\\base.py\", line 3805, in get_loc\n",
      "    return self._engine.get_loc(casted_key)\n",
      "           ^^^^^^^^^^^^^^^^^^^^^^^^^^^^^^^^\n",
      "  File \"index.pyx\", line 167, in pandas._libs.index.IndexEngine.get_loc\n",
      "  File \"index.pyx\", line 196, in pandas._libs.index.IndexEngine.get_loc\n",
      "  File \"pandas\\\\_libs\\\\hashtable_class_helper.pxi\", line 7081, in pandas._libs.hashtable.PyObjectHashTable.get_item\n",
      "  File \"pandas\\\\_libs\\\\hashtable_class_helper.pxi\", line 7089, in pandas._libs.hashtable.PyObjectHashTable.get_item\n",
      "KeyError: '252d'\n",
      "\n",
      "The above exception was the direct cause of the following exception:\n",
      "\n",
      "Traceback (most recent call last):\n",
      "  File \"c:\\Users\\ACER\\anaconda3\\envs\\stock_project\\Lib\\site-packages\\flask\\app.py\", line 917, in full_dispatch_request\n",
      "    rv = self.dispatch_request()\n",
      "         ^^^^^^^^^^^^^^^^^^^^^^^\n",
      "  File \"c:\\Users\\ACER\\anaconda3\\envs\\stock_project\\Lib\\site-packages\\flask\\app.py\", line 902, in dispatch_request\n",
      "    return self.ensure_sync(self.view_functions[rule.endpoint])(**view_args)  # type: ignore[no-any-return]\n",
      "           ^^^^^^^^^^^^^^^^^^^^^^^^^^^^^^^^^^^^^^^^^^^^^^^^^^^^^^^^^^^^^^^^^\n",
      "  File \"c:\\Users\\ACER\\anaconda3\\envs\\stock_project\\Lib\\site-packages\\dash\\dash.py\", line 1414, in dispatch\n",
      "    ctx.run(\n",
      "  File \"c:\\Users\\ACER\\anaconda3\\envs\\stock_project\\Lib\\site-packages\\dash\\_callback.py\", line 536, in add_context\n",
      "    raise err\n",
      "  File \"c:\\Users\\ACER\\anaconda3\\envs\\stock_project\\Lib\\site-packages\\dash\\_callback.py\", line 525, in add_context\n",
      "    output_value = _invoke_callback(func, *func_args, **func_kwargs)  # type: ignore[reportArgumentType]\n",
      "                   ^^^^^^^^^^^^^^^^^^^^^^^^^^^^^^^^^^^^^^^^^^^^^^^^^\n",
      "  File \"c:\\Users\\ACER\\anaconda3\\envs\\stock_project\\Lib\\site-packages\\dash\\_callback.py\", line 47, in _invoke_callback\n",
      "    return func(*args, **kwargs)  # %% callback invoked %%\n",
      "           ^^^^^^^^^^^^^^^^^^^^^\n",
      "  File \"C:\\Users\\ACER\\AppData\\Local\\Temp\\ipykernel_15264\\718120634.py\", line 188, in update_rolling_output\n",
      "    corr_series = rolling_df[selected_window].dropna().sort_values(ascending=False)\n",
      "                  ~~~~~~~~~~^^^^^^^^^^^^^^^^^\n",
      "  File \"c:\\Users\\ACER\\anaconda3\\envs\\stock_project\\Lib\\site-packages\\pandas\\core\\frame.py\", line 4102, in __getitem__\n",
      "    indexer = self.columns.get_loc(key)\n",
      "              ^^^^^^^^^^^^^^^^^^^^^^^^^\n",
      "  File \"c:\\Users\\ACER\\anaconda3\\envs\\stock_project\\Lib\\site-packages\\pandas\\core\\indexes\\base.py\", line 3812, in get_loc\n",
      "    raise KeyError(key) from err\n",
      "KeyError: '252d'\n",
      "\n",
      "During handling of the above exception, another exception occurred:\n",
      "\n",
      "Traceback (most recent call last):\n",
      "  File \"c:\\Users\\ACER\\anaconda3\\envs\\stock_project\\Lib\\site-packages\\flask\\app.py\", line 1511, in wsgi_app\n",
      "    response = self.full_dispatch_request()\n",
      "               ^^^^^^^^^^^^^^^^^^^^^^^^^^^^\n",
      "  File \"c:\\Users\\ACER\\anaconda3\\envs\\stock_project\\Lib\\site-packages\\flask\\app.py\", line 919, in full_dispatch_request\n",
      "    rv = self.handle_user_exception(e)\n",
      "         ^^^^^^^^^^^^^^^^^^^^^^^^^^^^^\n",
      "  File \"c:\\Users\\ACER\\anaconda3\\envs\\stock_project\\Lib\\site-packages\\flask\\app.py\", line 809, in handle_user_exception\n",
      "    return self.ensure_sync(handler)(e)  # type: ignore[no-any-return]\n",
      "           ^^^^^^^^^^^^^^^^^^^^^^^^^^^^\n",
      "  File \"c:\\Users\\ACER\\anaconda3\\envs\\stock_project\\Lib\\site-packages\\dash\\_jupyter.py\", line 462, in _wrap_errors\n",
      "    ipytb = FormattedTB(\n",
      "            ^^^^^^^^^^^^\n",
      "TypeError: FormattedTB.__init__() got an unexpected keyword argument 'color_scheme'\n",
      "Error on request:\n",
      "Traceback (most recent call last):\n",
      "  File \"c:\\Users\\ACER\\anaconda3\\envs\\stock_project\\Lib\\site-packages\\pandas\\core\\indexes\\base.py\", line 3805, in get_loc\n",
      "    return self._engine.get_loc(casted_key)\n",
      "           ^^^^^^^^^^^^^^^^^^^^^^^^^^^^^^^^\n",
      "  File \"index.pyx\", line 167, in pandas._libs.index.IndexEngine.get_loc\n",
      "  File \"index.pyx\", line 196, in pandas._libs.index.IndexEngine.get_loc\n",
      "  File \"pandas\\\\_libs\\\\hashtable_class_helper.pxi\", line 7081, in pandas._libs.hashtable.PyObjectHashTable.get_item\n",
      "  File \"pandas\\\\_libs\\\\hashtable_class_helper.pxi\", line 7089, in pandas._libs.hashtable.PyObjectHashTable.get_item\n",
      "KeyError: '252d'\n",
      "\n",
      "The above exception was the direct cause of the following exception:\n",
      "\n",
      "Traceback (most recent call last):\n",
      "  File \"c:\\Users\\ACER\\anaconda3\\envs\\stock_project\\Lib\\site-packages\\flask\\app.py\", line 917, in full_dispatch_request\n",
      "    rv = self.dispatch_request()\n",
      "         ^^^^^^^^^^^^^^^^^^^^^^^\n",
      "  File \"c:\\Users\\ACER\\anaconda3\\envs\\stock_project\\Lib\\site-packages\\flask\\app.py\", line 902, in dispatch_request\n",
      "    return self.ensure_sync(self.view_functions[rule.endpoint])(**view_args)  # type: ignore[no-any-return]\n",
      "           ^^^^^^^^^^^^^^^^^^^^^^^^^^^^^^^^^^^^^^^^^^^^^^^^^^^^^^^^^^^^^^^^^^^^^^^^^^^^^^^^^^^^^^^^^^^^^^^^\n",
      "  File \"c:\\Users\\ACER\\anaconda3\\envs\\stock_project\\Lib\\site-packages\\dash\\dash.py\", line 1414, in dispatch\n",
      "    ctx.run(\n",
      "  File \"c:\\Users\\ACER\\anaconda3\\envs\\stock_project\\Lib\\site-packages\\dash\\_callback.py\", line 536, in add_context\n",
      "    raise err\n",
      "  File \"c:\\Users\\ACER\\anaconda3\\envs\\stock_project\\Lib\\site-packages\\dash\\_callback.py\", line 525, in add_context\n",
      "    output_value = _invoke_callback(func, *func_args, **func_kwargs)  # type: ignore[reportArgumentType]\n",
      "                   ^^^^^^^^^^^^^^^^^^^^^^^^^^^^^^^^^^^^^^^^^^^^^^^^^^^^^^^^^^^^^^^^^^^^^^^^^^^^^^^^^^^^^\n",
      "  File \"c:\\Users\\ACER\\anaconda3\\envs\\stock_project\\Lib\\site-packages\\dash\\_callback.py\", line 47, in _invoke_callback\n",
      "    return func(*args, **kwargs)  # %% callback invoked %%\n",
      "           ^^^^^^^^^^^^^^^^^^^^^^^^^^^^^^^^^^^^^^^^^^^^^^^\n",
      "  File \"C:\\Users\\ACER\\AppData\\Local\\Temp\\ipykernel_15264\\718120634.py\", line 188, in update_rolling_output\n",
      "    corr_series = rolling_df[selected_window].dropna().sort_values(ascending=False)\n",
      "                  ^^^^^^^^^^^^^^^^^^^^^^^^^^^^^^^^^^^^^^^^^^^^^^^^^^^^^^^^^^^^^^^^^\n",
      "  File \"c:\\Users\\ACER\\anaconda3\\envs\\stock_project\\Lib\\site-packages\\pandas\\core\\frame.py\", line 4102, in __getitem__\n",
      "    indexer = self.columns.get_loc(key)\n",
      "              ^^^^^^^^^^^^^^^^^^^^^^^^^\n",
      "  File \"c:\\Users\\ACER\\anaconda3\\envs\\stock_project\\Lib\\site-packages\\pandas\\core\\indexes\\base.py\", line 3812, in get_loc\n",
      "    raise KeyError(key) from err\n",
      "KeyError: '252d'\n",
      "\n",
      "During handling of the above exception, another exception occurred:\n",
      "\n",
      "Traceback (most recent call last):\n",
      "  File \"c:\\Users\\ACER\\anaconda3\\envs\\stock_project\\Lib\\site-packages\\flask\\app.py\", line 1511, in wsgi_app\n",
      "    response = self.full_dispatch_request()\n",
      "               ^^^^^^^^^^^^^^^^^^^^^^^^^^^^\n",
      "  File \"c:\\Users\\ACER\\anaconda3\\envs\\stock_project\\Lib\\site-packages\\flask\\app.py\", line 919, in full_dispatch_request\n",
      "    rv = self.handle_user_exception(e)\n",
      "         ^^^^^^^^^^^^^^^^^^^^^^^^^^^^^\n",
      "  File \"c:\\Users\\ACER\\anaconda3\\envs\\stock_project\\Lib\\site-packages\\flask\\app.py\", line 809, in handle_user_exception\n",
      "    return self.ensure_sync(handler)(e)  # type: ignore[no-any-return]\n",
      "           ^^^^^^^^^^^^^^^^^^^^^^^^^^^^^^^^^^^^^^^^^^^^^^^^^^^^^^^^^^^\n",
      "  File \"c:\\Users\\ACER\\anaconda3\\envs\\stock_project\\Lib\\site-packages\\dash\\_jupyter.py\", line 462, in _wrap_errors\n",
      "    ipytb = FormattedTB(\n",
      "            ^^^^^^^^^^^^\n",
      "TypeError: FormattedTB.__init__() got an unexpected keyword argument 'color_scheme'\n",
      "\n",
      "During handling of the above exception, another exception occurred:\n",
      "\n",
      "Traceback (most recent call last):\n",
      "  File \"c:\\Users\\ACER\\anaconda3\\envs\\stock_project\\Lib\\site-packages\\werkzeug\\serving.py\", line 370, in run_wsgi\n",
      "    execute(self.server.app)\n",
      "  File \"c:\\Users\\ACER\\anaconda3\\envs\\stock_project\\Lib\\site-packages\\werkzeug\\serving.py\", line 331, in execute\n",
      "    application_iter = app(environ, start_response)\n",
      "                       ^^^^^^^^^^^^^^^^^^^^^^^^^^^^\n",
      "  File \"c:\\Users\\ACER\\anaconda3\\envs\\stock_project\\Lib\\site-packages\\flask\\app.py\", line 1536, in __call__\n",
      "    return self.wsgi_app(environ, start_response)\n",
      "           ^^^^^^^^^^^^^^^^^^^^^^^^^^^^^^^^^^^^^^\n",
      "  File \"c:\\Users\\ACER\\anaconda3\\envs\\stock_project\\Lib\\site-packages\\flask\\app.py\", line 1514, in wsgi_app\n",
      "    response = self.handle_exception(e)\n",
      "               ^^^^^^^^^^^^^^^^^^^^^^^^\n",
      "  File \"c:\\Users\\ACER\\anaconda3\\envs\\stock_project\\Lib\\site-packages\\flask\\app.py\", line 860, in handle_exception\n",
      "    server_error = self.ensure_sync(handler)(server_error)\n",
      "                   ^^^^^^^^^^^^^^^^^^^^^^^^^^^^^^^^^^^^^^^\n",
      "  File \"c:\\Users\\ACER\\anaconda3\\envs\\stock_project\\Lib\\site-packages\\dash\\_jupyter.py\", line 453, in _wrap_errors\n",
      "    skip = _get_skip(error) if dev_tools_prune_errors else 0\n",
      "           ^^^^^^^^^^^^^^^^^^^^^^^^^^^^^^^^^^^^^^^^^^^^^^^^^\n",
      "  File \"c:\\Users\\ACER\\anaconda3\\envs\\stock_project\\Lib\\site-packages\\dash\\_jupyter.py\", line 47, in _get_skip\n",
      "    while tb.tb_next is not None:\n",
      "          ^^^^^^^^^^^^^^^^^^^^^^^\n",
      "AttributeError: 'NoneType' object has no attribute 'tb_next'\n",
      "[2025-06-17 21:09:01,808] ERROR in app: Exception on /_dash-update-component [POST]\n",
      "Traceback (most recent call last):\n",
      "  File \"c:\\Users\\ACER\\anaconda3\\envs\\stock_project\\Lib\\site-packages\\pandas\\core\\indexes\\base.py\", line 3805, in get_loc\n",
      "    return self._engine.get_loc(casted_key)\n",
      "           ^^^^^^^^^^^^^^^^^^^^^^^^^^^^^^^^\n",
      "  File \"index.pyx\", line 167, in pandas._libs.index.IndexEngine.get_loc\n",
      "  File \"index.pyx\", line 196, in pandas._libs.index.IndexEngine.get_loc\n",
      "  File \"pandas\\\\_libs\\\\hashtable_class_helper.pxi\", line 7081, in pandas._libs.hashtable.PyObjectHashTable.get_item\n",
      "  File \"pandas\\\\_libs\\\\hashtable_class_helper.pxi\", line 7089, in pandas._libs.hashtable.PyObjectHashTable.get_item\n",
      "KeyError: '252d'\n",
      "\n",
      "The above exception was the direct cause of the following exception:\n",
      "\n",
      "Traceback (most recent call last):\n",
      "  File \"c:\\Users\\ACER\\anaconda3\\envs\\stock_project\\Lib\\site-packages\\flask\\app.py\", line 917, in full_dispatch_request\n",
      "    rv = self.dispatch_request()\n",
      "         ^^^^^^^^^^^^^^^^^^^^^^^\n",
      "  File \"c:\\Users\\ACER\\anaconda3\\envs\\stock_project\\Lib\\site-packages\\flask\\app.py\", line 902, in dispatch_request\n",
      "    return self.ensure_sync(self.view_functions[rule.endpoint])(**view_args)  # type: ignore[no-any-return]\n",
      "           ^^^^^^^^^^^^^^^^^^^^^^^^^^^^^^^^^^^^^^^^^^^^^^^^^^^^^^^^^^^^^^^^^\n",
      "  File \"c:\\Users\\ACER\\anaconda3\\envs\\stock_project\\Lib\\site-packages\\dash\\dash.py\", line 1414, in dispatch\n",
      "    ctx.run(\n",
      "  File \"c:\\Users\\ACER\\anaconda3\\envs\\stock_project\\Lib\\site-packages\\dash\\_callback.py\", line 536, in add_context\n",
      "    raise err\n",
      "  File \"c:\\Users\\ACER\\anaconda3\\envs\\stock_project\\Lib\\site-packages\\dash\\_callback.py\", line 525, in add_context\n",
      "    output_value = _invoke_callback(func, *func_args, **func_kwargs)  # type: ignore[reportArgumentType]\n",
      "                   ^^^^^^^^^^^^^^^^^^^^^^^^^^^^^^^^^^^^^^^^^^^^^^^^^\n",
      "  File \"c:\\Users\\ACER\\anaconda3\\envs\\stock_project\\Lib\\site-packages\\dash\\_callback.py\", line 47, in _invoke_callback\n",
      "    return func(*args, **kwargs)  # %% callback invoked %%\n",
      "           ^^^^^^^^^^^^^^^^^^^^^\n",
      "  File \"C:\\Users\\ACER\\AppData\\Local\\Temp\\ipykernel_15264\\718120634.py\", line 188, in update_rolling_output\n",
      "    corr_series = rolling_df[selected_window].dropna().sort_values(ascending=False)\n",
      "                  ~~~~~~~~~~^^^^^^^^^^^^^^^^^\n",
      "  File \"c:\\Users\\ACER\\anaconda3\\envs\\stock_project\\Lib\\site-packages\\pandas\\core\\frame.py\", line 4102, in __getitem__\n",
      "    indexer = self.columns.get_loc(key)\n",
      "              ^^^^^^^^^^^^^^^^^^^^^^^^^\n",
      "  File \"c:\\Users\\ACER\\anaconda3\\envs\\stock_project\\Lib\\site-packages\\pandas\\core\\indexes\\base.py\", line 3812, in get_loc\n",
      "    raise KeyError(key) from err\n",
      "KeyError: '252d'\n",
      "\n",
      "During handling of the above exception, another exception occurred:\n",
      "\n",
      "Traceback (most recent call last):\n",
      "  File \"c:\\Users\\ACER\\anaconda3\\envs\\stock_project\\Lib\\site-packages\\flask\\app.py\", line 1511, in wsgi_app\n",
      "    response = self.full_dispatch_request()\n",
      "               ^^^^^^^^^^^^^^^^^^^^^^^^^^^^\n",
      "  File \"c:\\Users\\ACER\\anaconda3\\envs\\stock_project\\Lib\\site-packages\\flask\\app.py\", line 919, in full_dispatch_request\n",
      "    rv = self.handle_user_exception(e)\n",
      "         ^^^^^^^^^^^^^^^^^^^^^^^^^^^^^\n",
      "  File \"c:\\Users\\ACER\\anaconda3\\envs\\stock_project\\Lib\\site-packages\\flask\\app.py\", line 809, in handle_user_exception\n",
      "    return self.ensure_sync(handler)(e)  # type: ignore[no-any-return]\n",
      "           ^^^^^^^^^^^^^^^^^^^^^^^^^^^^\n",
      "  File \"c:\\Users\\ACER\\anaconda3\\envs\\stock_project\\Lib\\site-packages\\dash\\_jupyter.py\", line 462, in _wrap_errors\n",
      "    ipytb = FormattedTB(\n",
      "            ^^^^^^^^^^^^\n",
      "TypeError: FormattedTB.__init__() got an unexpected keyword argument 'color_scheme'\n",
      "Error on request:\n",
      "Traceback (most recent call last):\n",
      "  File \"c:\\Users\\ACER\\anaconda3\\envs\\stock_project\\Lib\\site-packages\\pandas\\core\\indexes\\base.py\", line 3805, in get_loc\n",
      "    return self._engine.get_loc(casted_key)\n",
      "           ^^^^^^^^^^^^^^^^^^^^^^^^^^^^^^^^\n",
      "  File \"index.pyx\", line 167, in pandas._libs.index.IndexEngine.get_loc\n",
      "  File \"index.pyx\", line 196, in pandas._libs.index.IndexEngine.get_loc\n",
      "  File \"pandas\\\\_libs\\\\hashtable_class_helper.pxi\", line 7081, in pandas._libs.hashtable.PyObjectHashTable.get_item\n",
      "  File \"pandas\\\\_libs\\\\hashtable_class_helper.pxi\", line 7089, in pandas._libs.hashtable.PyObjectHashTable.get_item\n",
      "KeyError: '252d'\n",
      "\n",
      "The above exception was the direct cause of the following exception:\n",
      "\n",
      "Traceback (most recent call last):\n",
      "  File \"c:\\Users\\ACER\\anaconda3\\envs\\stock_project\\Lib\\site-packages\\flask\\app.py\", line 917, in full_dispatch_request\n",
      "    rv = self.dispatch_request()\n",
      "         ^^^^^^^^^^^^^^^^^^^^^^^\n",
      "  File \"c:\\Users\\ACER\\anaconda3\\envs\\stock_project\\Lib\\site-packages\\flask\\app.py\", line 902, in dispatch_request\n",
      "    return self.ensure_sync(self.view_functions[rule.endpoint])(**view_args)  # type: ignore[no-any-return]\n",
      "           ^^^^^^^^^^^^^^^^^^^^^^^^^^^^^^^^^^^^^^^^^^^^^^^^^^^^^^^^^^^^^^^^^^^^^^^^^^^^^^^^^^^^^^^^^^^^^^^^\n",
      "  File \"c:\\Users\\ACER\\anaconda3\\envs\\stock_project\\Lib\\site-packages\\dash\\dash.py\", line 1414, in dispatch\n",
      "    ctx.run(\n",
      "  File \"c:\\Users\\ACER\\anaconda3\\envs\\stock_project\\Lib\\site-packages\\dash\\_callback.py\", line 536, in add_context\n",
      "    raise err\n",
      "  File \"c:\\Users\\ACER\\anaconda3\\envs\\stock_project\\Lib\\site-packages\\dash\\_callback.py\", line 525, in add_context\n",
      "    output_value = _invoke_callback(func, *func_args, **func_kwargs)  # type: ignore[reportArgumentType]\n",
      "                   ^^^^^^^^^^^^^^^^^^^^^^^^^^^^^^^^^^^^^^^^^^^^^^^^^^^^^^^^^^^^^^^^^^^^^^^^^^^^^^^^^^^^^\n",
      "  File \"c:\\Users\\ACER\\anaconda3\\envs\\stock_project\\Lib\\site-packages\\dash\\_callback.py\", line 47, in _invoke_callback\n",
      "    return func(*args, **kwargs)  # %% callback invoked %%\n",
      "           ^^^^^^^^^^^^^^^^^^^^^^^^^^^^^^^^^^^^^^^^^^^^^^^\n",
      "  File \"C:\\Users\\ACER\\AppData\\Local\\Temp\\ipykernel_15264\\718120634.py\", line 188, in update_rolling_output\n",
      "    corr_series = rolling_df[selected_window].dropna().sort_values(ascending=False)\n",
      "                  ^^^^^^^^^^^^^^^^^^^^^^^^^^^^^^^^^^^^^^^^^^^^^^^^^^^^^^^^^^^^^^^^^\n",
      "  File \"c:\\Users\\ACER\\anaconda3\\envs\\stock_project\\Lib\\site-packages\\pandas\\core\\frame.py\", line 4102, in __getitem__\n",
      "    indexer = self.columns.get_loc(key)\n",
      "              ^^^^^^^^^^^^^^^^^^^^^^^^^\n",
      "  File \"c:\\Users\\ACER\\anaconda3\\envs\\stock_project\\Lib\\site-packages\\pandas\\core\\indexes\\base.py\", line 3812, in get_loc\n",
      "    raise KeyError(key) from err\n",
      "KeyError: '252d'\n",
      "\n",
      "During handling of the above exception, another exception occurred:\n",
      "\n",
      "Traceback (most recent call last):\n",
      "  File \"c:\\Users\\ACER\\anaconda3\\envs\\stock_project\\Lib\\site-packages\\flask\\app.py\", line 1511, in wsgi_app\n",
      "    response = self.full_dispatch_request()\n",
      "               ^^^^^^^^^^^^^^^^^^^^^^^^^^^^\n",
      "  File \"c:\\Users\\ACER\\anaconda3\\envs\\stock_project\\Lib\\site-packages\\flask\\app.py\", line 919, in full_dispatch_request\n",
      "    rv = self.handle_user_exception(e)\n",
      "         ^^^^^^^^^^^^^^^^^^^^^^^^^^^^^\n",
      "  File \"c:\\Users\\ACER\\anaconda3\\envs\\stock_project\\Lib\\site-packages\\flask\\app.py\", line 809, in handle_user_exception\n",
      "    return self.ensure_sync(handler)(e)  # type: ignore[no-any-return]\n",
      "           ^^^^^^^^^^^^^^^^^^^^^^^^^^^^^^^^^^^^^^^^^^^^^^^^^^^^^^^^^^^\n",
      "  File \"c:\\Users\\ACER\\anaconda3\\envs\\stock_project\\Lib\\site-packages\\dash\\_jupyter.py\", line 462, in _wrap_errors\n",
      "    ipytb = FormattedTB(\n",
      "            ^^^^^^^^^^^^\n",
      "TypeError: FormattedTB.__init__() got an unexpected keyword argument 'color_scheme'\n",
      "\n",
      "During handling of the above exception, another exception occurred:\n",
      "\n",
      "Traceback (most recent call last):\n",
      "  File \"c:\\Users\\ACER\\anaconda3\\envs\\stock_project\\Lib\\site-packages\\werkzeug\\serving.py\", line 370, in run_wsgi\n",
      "    execute(self.server.app)\n",
      "  File \"c:\\Users\\ACER\\anaconda3\\envs\\stock_project\\Lib\\site-packages\\werkzeug\\serving.py\", line 331, in execute\n",
      "    application_iter = app(environ, start_response)\n",
      "                       ^^^^^^^^^^^^^^^^^^^^^^^^^^^^\n",
      "  File \"c:\\Users\\ACER\\anaconda3\\envs\\stock_project\\Lib\\site-packages\\flask\\app.py\", line 1536, in __call__\n",
      "    return self.wsgi_app(environ, start_response)\n",
      "           ^^^^^^^^^^^^^^^^^^^^^^^^^^^^^^^^^^^^^^\n",
      "  File \"c:\\Users\\ACER\\anaconda3\\envs\\stock_project\\Lib\\site-packages\\flask\\app.py\", line 1514, in wsgi_app\n",
      "    response = self.handle_exception(e)\n",
      "               ^^^^^^^^^^^^^^^^^^^^^^^^\n",
      "  File \"c:\\Users\\ACER\\anaconda3\\envs\\stock_project\\Lib\\site-packages\\flask\\app.py\", line 860, in handle_exception\n",
      "    server_error = self.ensure_sync(handler)(server_error)\n",
      "                   ^^^^^^^^^^^^^^^^^^^^^^^^^^^^^^^^^^^^^^^\n",
      "  File \"c:\\Users\\ACER\\anaconda3\\envs\\stock_project\\Lib\\site-packages\\dash\\_jupyter.py\", line 453, in _wrap_errors\n",
      "    skip = _get_skip(error) if dev_tools_prune_errors else 0\n",
      "           ^^^^^^^^^^^^^^^^^^^^^^^^^^^^^^^^^^^^^^^^^^^^^^^^^\n",
      "  File \"c:\\Users\\ACER\\anaconda3\\envs\\stock_project\\Lib\\site-packages\\dash\\_jupyter.py\", line 47, in _get_skip\n",
      "    while tb.tb_next is not None:\n",
      "          ^^^^^^^^^^^^^^^^^^^^^^^\n",
      "AttributeError: 'NoneType' object has no attribute 'tb_next'\n",
      "[2025-06-17 21:09:11,666] ERROR in app: Exception on /_dash-update-component [POST]\n",
      "Traceback (most recent call last):\n",
      "  File \"c:\\Users\\ACER\\anaconda3\\envs\\stock_project\\Lib\\site-packages\\pandas\\core\\indexes\\base.py\", line 3805, in get_loc\n",
      "    return self._engine.get_loc(casted_key)\n",
      "           ^^^^^^^^^^^^^^^^^^^^^^^^^^^^^^^^\n",
      "  File \"index.pyx\", line 167, in pandas._libs.index.IndexEngine.get_loc\n",
      "  File \"index.pyx\", line 196, in pandas._libs.index.IndexEngine.get_loc\n",
      "  File \"pandas\\\\_libs\\\\hashtable_class_helper.pxi\", line 7081, in pandas._libs.hashtable.PyObjectHashTable.get_item\n",
      "  File \"pandas\\\\_libs\\\\hashtable_class_helper.pxi\", line 7089, in pandas._libs.hashtable.PyObjectHashTable.get_item\n",
      "KeyError: None\n",
      "\n",
      "The above exception was the direct cause of the following exception:\n",
      "\n",
      "Traceback (most recent call last):\n",
      "  File \"c:\\Users\\ACER\\anaconda3\\envs\\stock_project\\Lib\\site-packages\\flask\\app.py\", line 917, in full_dispatch_request\n",
      "    rv = self.dispatch_request()\n",
      "         ^^^^^^^^^^^^^^^^^^^^^^^\n",
      "  File \"c:\\Users\\ACER\\anaconda3\\envs\\stock_project\\Lib\\site-packages\\flask\\app.py\", line 902, in dispatch_request\n",
      "    return self.ensure_sync(self.view_functions[rule.endpoint])(**view_args)  # type: ignore[no-any-return]\n",
      "           ^^^^^^^^^^^^^^^^^^^^^^^^^^^^^^^^^^^^^^^^^^^^^^^^^^^^^^^^^^^^^^^^^\n",
      "  File \"c:\\Users\\ACER\\anaconda3\\envs\\stock_project\\Lib\\site-packages\\dash\\dash.py\", line 1414, in dispatch\n",
      "    ctx.run(\n",
      "  File \"c:\\Users\\ACER\\anaconda3\\envs\\stock_project\\Lib\\site-packages\\dash\\_callback.py\", line 536, in add_context\n",
      "    raise err\n",
      "  File \"c:\\Users\\ACER\\anaconda3\\envs\\stock_project\\Lib\\site-packages\\dash\\_callback.py\", line 525, in add_context\n",
      "    output_value = _invoke_callback(func, *func_args, **func_kwargs)  # type: ignore[reportArgumentType]\n",
      "                   ^^^^^^^^^^^^^^^^^^^^^^^^^^^^^^^^^^^^^^^^^^^^^^^^^\n",
      "  File \"c:\\Users\\ACER\\anaconda3\\envs\\stock_project\\Lib\\site-packages\\dash\\_callback.py\", line 47, in _invoke_callback\n",
      "    return func(*args, **kwargs)  # %% callback invoked %%\n",
      "           ^^^^^^^^^^^^^^^^^^^^^\n",
      "  File \"C:\\Users\\ACER\\AppData\\Local\\Temp\\ipykernel_15264\\718120634.py\", line 188, in update_rolling_output\n",
      "    corr_series = rolling_df[selected_window].dropna().sort_values(ascending=False)\n",
      "                  ~~~~~~~~~~^^^^^^^^^^^^^^^^^\n",
      "  File \"c:\\Users\\ACER\\anaconda3\\envs\\stock_project\\Lib\\site-packages\\pandas\\core\\frame.py\", line 4102, in __getitem__\n",
      "    indexer = self.columns.get_loc(key)\n",
      "              ^^^^^^^^^^^^^^^^^^^^^^^^^\n",
      "  File \"c:\\Users\\ACER\\anaconda3\\envs\\stock_project\\Lib\\site-packages\\pandas\\core\\indexes\\base.py\", line 3812, in get_loc\n",
      "    raise KeyError(key) from err\n",
      "KeyError: None\n",
      "\n",
      "During handling of the above exception, another exception occurred:\n",
      "\n",
      "Traceback (most recent call last):\n",
      "  File \"c:\\Users\\ACER\\anaconda3\\envs\\stock_project\\Lib\\site-packages\\flask\\app.py\", line 1511, in wsgi_app\n",
      "    response = self.full_dispatch_request()\n",
      "               ^^^^^^^^^^^^^^^^^^^^^^^^^^^^\n",
      "  File \"c:\\Users\\ACER\\anaconda3\\envs\\stock_project\\Lib\\site-packages\\flask\\app.py\", line 919, in full_dispatch_request\n",
      "    rv = self.handle_user_exception(e)\n",
      "         ^^^^^^^^^^^^^^^^^^^^^^^^^^^^^\n",
      "  File \"c:\\Users\\ACER\\anaconda3\\envs\\stock_project\\Lib\\site-packages\\flask\\app.py\", line 809, in handle_user_exception\n",
      "    return self.ensure_sync(handler)(e)  # type: ignore[no-any-return]\n",
      "           ^^^^^^^^^^^^^^^^^^^^^^^^^^^^\n",
      "  File \"c:\\Users\\ACER\\anaconda3\\envs\\stock_project\\Lib\\site-packages\\dash\\_jupyter.py\", line 462, in _wrap_errors\n",
      "    ipytb = FormattedTB(\n",
      "            ^^^^^^^^^^^^\n",
      "TypeError: FormattedTB.__init__() got an unexpected keyword argument 'color_scheme'\n",
      "Error on request:\n",
      "Traceback (most recent call last):\n",
      "  File \"c:\\Users\\ACER\\anaconda3\\envs\\stock_project\\Lib\\site-packages\\pandas\\core\\indexes\\base.py\", line 3805, in get_loc\n",
      "    return self._engine.get_loc(casted_key)\n",
      "           ^^^^^^^^^^^^^^^^^^^^^^^^^^^^^^^^\n",
      "  File \"index.pyx\", line 167, in pandas._libs.index.IndexEngine.get_loc\n",
      "  File \"index.pyx\", line 196, in pandas._libs.index.IndexEngine.get_loc\n",
      "  File \"pandas\\\\_libs\\\\hashtable_class_helper.pxi\", line 7081, in pandas._libs.hashtable.PyObjectHashTable.get_item\n",
      "  File \"pandas\\\\_libs\\\\hashtable_class_helper.pxi\", line 7089, in pandas._libs.hashtable.PyObjectHashTable.get_item\n",
      "KeyError: None\n",
      "\n",
      "The above exception was the direct cause of the following exception:\n",
      "\n",
      "Traceback (most recent call last):\n",
      "  File \"c:\\Users\\ACER\\anaconda3\\envs\\stock_project\\Lib\\site-packages\\flask\\app.py\", line 917, in full_dispatch_request\n",
      "    rv = self.dispatch_request()\n",
      "         ^^^^^^^^^^^^^^^^^^^^^^^\n",
      "  File \"c:\\Users\\ACER\\anaconda3\\envs\\stock_project\\Lib\\site-packages\\flask\\app.py\", line 902, in dispatch_request\n",
      "    return self.ensure_sync(self.view_functions[rule.endpoint])(**view_args)  # type: ignore[no-any-return]\n",
      "           ^^^^^^^^^^^^^^^^^^^^^^^^^^^^^^^^^^^^^^^^^^^^^^^^^^^^^^^^^^^^^^^^^^^^^^^^^^^^^^^^^^^^^^^^^^^^^^^^\n",
      "  File \"c:\\Users\\ACER\\anaconda3\\envs\\stock_project\\Lib\\site-packages\\dash\\dash.py\", line 1414, in dispatch\n",
      "    ctx.run(\n",
      "  File \"c:\\Users\\ACER\\anaconda3\\envs\\stock_project\\Lib\\site-packages\\dash\\_callback.py\", line 536, in add_context\n",
      "    raise err\n",
      "  File \"c:\\Users\\ACER\\anaconda3\\envs\\stock_project\\Lib\\site-packages\\dash\\_callback.py\", line 525, in add_context\n",
      "    output_value = _invoke_callback(func, *func_args, **func_kwargs)  # type: ignore[reportArgumentType]\n",
      "                   ^^^^^^^^^^^^^^^^^^^^^^^^^^^^^^^^^^^^^^^^^^^^^^^^^^^^^^^^^^^^^^^^^^^^^^^^^^^^^^^^^^^^^\n",
      "  File \"c:\\Users\\ACER\\anaconda3\\envs\\stock_project\\Lib\\site-packages\\dash\\_callback.py\", line 47, in _invoke_callback\n",
      "    return func(*args, **kwargs)  # %% callback invoked %%\n",
      "           ^^^^^^^^^^^^^^^^^^^^^^^^^^^^^^^^^^^^^^^^^^^^^^^\n",
      "  File \"C:\\Users\\ACER\\AppData\\Local\\Temp\\ipykernel_15264\\718120634.py\", line 188, in update_rolling_output\n",
      "    corr_series = rolling_df[selected_window].dropna().sort_values(ascending=False)\n",
      "                  ^^^^^^^^^^^^^^^^^^^^^^^^^^^^^^^^^^^^^^^^^^^^^^^^^^^^^^^^^^^^^^^^^\n",
      "  File \"c:\\Users\\ACER\\anaconda3\\envs\\stock_project\\Lib\\site-packages\\pandas\\core\\frame.py\", line 4102, in __getitem__\n",
      "    indexer = self.columns.get_loc(key)\n",
      "              ^^^^^^^^^^^^^^^^^^^^^^^^^\n",
      "  File \"c:\\Users\\ACER\\anaconda3\\envs\\stock_project\\Lib\\site-packages\\pandas\\core\\indexes\\base.py\", line 3812, in get_loc\n",
      "    raise KeyError(key) from err\n",
      "KeyError: None\n",
      "\n",
      "During handling of the above exception, another exception occurred:\n",
      "\n",
      "Traceback (most recent call last):\n",
      "  File \"c:\\Users\\ACER\\anaconda3\\envs\\stock_project\\Lib\\site-packages\\flask\\app.py\", line 1511, in wsgi_app\n",
      "    response = self.full_dispatch_request()\n",
      "               ^^^^^^^^^^^^^^^^^^^^^^^^^^^^\n",
      "  File \"c:\\Users\\ACER\\anaconda3\\envs\\stock_project\\Lib\\site-packages\\flask\\app.py\", line 919, in full_dispatch_request\n",
      "    rv = self.handle_user_exception(e)\n",
      "         ^^^^^^^^^^^^^^^^^^^^^^^^^^^^^\n",
      "  File \"c:\\Users\\ACER\\anaconda3\\envs\\stock_project\\Lib\\site-packages\\flask\\app.py\", line 809, in handle_user_exception\n",
      "    return self.ensure_sync(handler)(e)  # type: ignore[no-any-return]\n",
      "           ^^^^^^^^^^^^^^^^^^^^^^^^^^^^^^^^^^^^^^^^^^^^^^^^^^^^^^^^^^^\n",
      "  File \"c:\\Users\\ACER\\anaconda3\\envs\\stock_project\\Lib\\site-packages\\dash\\_jupyter.py\", line 462, in _wrap_errors\n",
      "    ipytb = FormattedTB(\n",
      "            ^^^^^^^^^^^^\n",
      "TypeError: FormattedTB.__init__() got an unexpected keyword argument 'color_scheme'\n",
      "\n",
      "During handling of the above exception, another exception occurred:\n",
      "\n",
      "Traceback (most recent call last):\n",
      "  File \"c:\\Users\\ACER\\anaconda3\\envs\\stock_project\\Lib\\site-packages\\werkzeug\\serving.py\", line 370, in run_wsgi\n",
      "    execute(self.server.app)\n",
      "  File \"c:\\Users\\ACER\\anaconda3\\envs\\stock_project\\Lib\\site-packages\\werkzeug\\serving.py\", line 331, in execute\n",
      "    application_iter = app(environ, start_response)\n",
      "                       ^^^^^^^^^^^^^^^^^^^^^^^^^^^^\n",
      "  File \"c:\\Users\\ACER\\anaconda3\\envs\\stock_project\\Lib\\site-packages\\flask\\app.py\", line 1536, in __call__\n",
      "    return self.wsgi_app(environ, start_response)\n",
      "           ^^^^^^^^^^^^^^^^^^^^^^^^^^^^^^^^^^^^^^\n",
      "  File \"c:\\Users\\ACER\\anaconda3\\envs\\stock_project\\Lib\\site-packages\\flask\\app.py\", line 1514, in wsgi_app\n",
      "    response = self.handle_exception(e)\n",
      "               ^^^^^^^^^^^^^^^^^^^^^^^^\n",
      "  File \"c:\\Users\\ACER\\anaconda3\\envs\\stock_project\\Lib\\site-packages\\flask\\app.py\", line 860, in handle_exception\n",
      "    server_error = self.ensure_sync(handler)(server_error)\n",
      "                   ^^^^^^^^^^^^^^^^^^^^^^^^^^^^^^^^^^^^^^^\n",
      "  File \"c:\\Users\\ACER\\anaconda3\\envs\\stock_project\\Lib\\site-packages\\dash\\_jupyter.py\", line 453, in _wrap_errors\n",
      "    skip = _get_skip(error) if dev_tools_prune_errors else 0\n",
      "           ^^^^^^^^^^^^^^^^^^^^^^^^^^^^^^^^^^^^^^^^^^^^^^^^^\n",
      "  File \"c:\\Users\\ACER\\anaconda3\\envs\\stock_project\\Lib\\site-packages\\dash\\_jupyter.py\", line 47, in _get_skip\n",
      "    while tb.tb_next is not None:\n",
      "          ^^^^^^^^^^^^^^^^^^^^^^^\n",
      "AttributeError: 'NoneType' object has no attribute 'tb_next'\n"
     ]
    }
   ],
   "source": [
    "import pandas as pd\n",
    "import numpy as np\n",
    "import plotly.express as px\n",
    "from dash import Dash, dcc, html, Input, Output, dash_table, ctx\n",
    "import dash\n",
    "import base64\n",
    "import io\n",
    "from flask import Response  # Import Flask's Response\n",
    "\n",
    "# Load the monthly correlation data\n",
    "monthly_df = pd.read_csv(\"Monthly_Correlation.csv\", index_col=0, parse_dates=True)\n",
    "monthly_df.index = pd.to_datetime(monthly_df.index.astype(str))\n",
    "monthly_df = monthly_df[monthly_df.index >= \"2024-03\"]\n",
    "monthly_df.columns = monthly_df.columns.str.replace(\"_Precio cierre\", \"\", regex=False)\n",
    "\n",
    "if \"Fecha\" in monthly_df.columns:\n",
    "    monthly_df = monthly_df.drop(columns=[\"Fecha\"])\n",
    "\n",
    "# Split columns into two groups\n",
    "stocks = list(monthly_df.columns)\n",
    "midpoint = len(stocks) // 2\n",
    "group1 = stocks[:midpoint]\n",
    "group2 = stocks[midpoint:]\n",
    "\n",
    "def plot_heatmap(data, title):\n",
    "    avg_corr = data.mean().sort_values(ascending=True)\n",
    "    sorted_data = data[avg_corr.index]\n",
    "    fig = px.imshow(\n",
    "        sorted_data.T,\n",
    "        labels=dict(x=\"Month\", y=\"Stock\", color=\"Correlation\"),\n",
    "        title=title,\n",
    "        color_continuous_scale=\"RdBu_r\",\n",
    "        aspect=\"auto\",\n",
    "    )\n",
    "    fig.update_layout(\n",
    "        autosize=False,\n",
    "        width=1000,\n",
    "        height=600,\n",
    "        xaxis=dict(tickangle=-45),\n",
    "    )\n",
    "    return fig\n",
    "\n",
    "# Load the historical correlation CSV\n",
    "df_corr = pd.read_csv(\"Historical_Correlation.csv\", index_col=0, header=None, names=[\"Stock\", \"Correlation\"], skiprows=1)\n",
    "df_corr = df_corr.reset_index()\n",
    "df_corr[\"Correlation\"] = df_corr[\"Correlation\"].astype(float)\n",
    "df_corr = df_corr.sort_values(\"Correlation\", ascending=False).reset_index(drop=True)\n",
    "df_corr[\"Stock\"] = df_corr[\"Stock\"].str.replace(\"_Precio cierre\", \"\", regex=False)\n",
    "\n",
    "# Load rolling correlation CSV\n",
    "rolling_df = pd.read_csv(\"Rolling_Correlations.csv\", index_col=0)\n",
    "rolling_df = rolling_df.sort_index()\n",
    "rolling_df.index = rolling_df.index.str.replace(\"_Precio cierre\", \"\", regex=False)\n",
    "\n",
    "# App layout\n",
    "app = dash.Dash(__name__)\n",
    "server = app.server\n",
    "\n",
    "app.layout = html.Div([\n",
    "    html.H1(\"📈 Correlation Visualizations\", style={'textAlign': 'center'}),\n",
    "\n",
    "    dcc.Tabs([\n",
    "        dcc.Tab(label=\"Monthly Heatmap\", children=[\n",
    "            html.Div([\n",
    "                html.Br(),\n",
    "                dcc.Dropdown(\n",
    "                    id=\"group_selector\",\n",
    "                    options=[\n",
    "                        {\"label\": \"Group 1\", \"value\": \"group1\"},\n",
    "                        {\"label\": \"Group 2\", \"value\": \"group2\"}\n",
    "                    ],\n",
    "                    value=\"group1\",\n",
    "                    clearable=False,\n",
    "                    style={\"width\": \"100%\", \"maxWidth\": \"600px\", \"margin\": \"0 auto\"}\n",
    "                ),\n",
    "                dcc.Graph(id=\"heatmap\", style={\"width\": \"100%\", \"maxWidth\": \"1200px\", \"margin\": \"auto\"})\n",
    "            ])\n",
    "        ]),\n",
    "\n",
    "        dcc.Tab(label=\"Historical Correlation Bar Chart\", children=[\n",
    "            html.Br(),\n",
    "            dcc.Graph(\n",
    "                figure=px.bar(\n",
    "                    df_corr,\n",
    "                    x=\"Correlation\",\n",
    "                    y=\"Stock\",\n",
    "                    orientation=\"h\",\n",
    "                    title=\"📊 Historical Correlation with COLCAP since 2020\",\n",
    "                    color=\"Correlation\",\n",
    "                    color_continuous_scale=\"RdBu_r\",\n",
    "                    range_color=[-1, 1],\n",
    "                    labels={\"Correlation\": \"Correlation Coefficient\", \"Stock\": \"Stock\"}\n",
    "                ).update_layout(\n",
    "                    yaxis=dict(autorange=\"reversed\"),\n",
    "                    height=1000,  # Increased from 800 to 1000\n",
    "                    xaxis=dict(tickformat=\".2f\")\n",
    "                ),\n",
    "                style={\"margin\": \"0 auto\", \"width\": \"90%\", \"height\": \"1000px\"}  # Add fixed height here\n",
    "            ),\n",
    "\n",
    "\n",
    "            html.H3(\"Correlation Table\", style={\"textAlign\": \"center\"}),\n",
    "            html.Div([\n",
    "                dash_table.DataTable(\n",
    "                    id=\"historical_table\",\n",
    "                    columns=[\n",
    "                        {\"name\": \"Stock\", \"id\": \"Stock\"},\n",
    "                        {\"name\": \"Correlation\", \"id\": \"Correlation\"}\n",
    "                    ],\n",
    "                    data=df_corr.to_dict(\"records\"),\n",
    "                    style_cell={\"textAlign\": \"center\", \"padding\": \"8px\"},\n",
    "                    style_header={\"fontWeight\": \"bold\", \"backgroundColor\": \"#f8f8f8\"},\n",
    "                    style_table={\"overflowX\": \"auto\"},\n",
    "                    style_data_conditional=[\n",
    "                        {\n",
    "                            \"if\": {\"column_id\": \"Correlation\"},\n",
    "                            \"backgroundColor\": \"#f0f8ff\",\n",
    "                        }\n",
    "                    ],\n",
    "                    page_size=20,\n",
    "                    sort_action=\"native\",\n",
    "                    filter_action=\"native\",\n",
    "                )\n",
    "            ], style={\"width\": \"100%\", \"maxWidth\": \"1200px\", \"margin\": \"auto\"}),\n",
    "            html.Br(),\n",
    "            html.Div([\n",
    "                html.Label(\"Select format: \"),\n",
    "                dcc.Dropdown(\n",
    "                    id=\"format_selector_hist\",\n",
    "                    options=[\n",
    "                        {\"label\": \"CSV\", \"value\": \"csv\"},\n",
    "                        {\"label\": \"Excel\", \"value\": \"excel\"},\n",
    "                    ],\n",
    "                    value=\"csv\",\n",
    "                    style={\"width\": \"200px\", \"margin\": \"auto\"}\n",
    "                ),\n",
    "                html.Br(),\n",
    "                html.A(\"Download Historical Data\", id=\"download_link_hist\", href=\"/download/historical/csv\", download=\"Historical_Correlation.csv\", target=\"_blank\", style={\"display\": \"block\", \"textAlign\": \"center\"})\n",
    "            ], style={\"textAlign\": \"center\"})\n",
    "        ]),\n",
    "\n",
    "        dcc.Tab(label=\"Rolling Correlation with COLCAP\", children=[\n",
    "            html.Br(),\n",
    "            dcc.Dropdown(\n",
    "                id=\"window_selector\",\n",
    "                options=[{\"label\": label, \"value\": label} for label in rolling_df.columns],\n",
    "                value=\"252d\",\n",
    "                clearable=False,\n",
    "                style={\"width\": \"100%\", \"maxWidth\": \"600px\", \"margin\": \"0 auto\"}\n",
    "            ),\n",
    "            dcc.Graph(id=\"bar_chart\", style={\"width\": \"100%\", \"maxWidth\": \"1200px\", \"margin\": \"auto\"}),\n",
    "            html.H3(\"Correlation Table\", style={\"textAlign\": \"center\"}),\n",
    "            html.Div(id=\"correlation_table\", style={\"width\": \"100%\", \"maxWidth\": \"1200px\", \"margin\": \"auto\"}),\n",
    "            html.Br(),\n",
    "            html.Div([\n",
    "                html.Label(\"Select format: \"),\n",
    "                dcc.Dropdown(\n",
    "                    id=\"format_selector_roll\",\n",
    "                    options=[\n",
    "                        {\"label\": \"CSV\", \"value\": \"csv\"},\n",
    "                        {\"label\": \"Excel\", \"value\": \"excel\"},\n",
    "                    ],\n",
    "                    value=\"csv\",\n",
    "                    style={\"width\": \"200px\", \"margin\": \"auto\"}\n",
    "                ),\n",
    "                html.Br(),\n",
    "                html.A(\"Download Rolling Data\", id=\"download_link_roll\", href=\"/download/rolling/csv\", download=\"Rolling_Correlations.csv\", target=\"_blank\", style={\"display\": \"block\", \"textAlign\": \"center\"})\n",
    "            ], style={\"textAlign\": \"center\"})\n",
    "        ])\n",
    "    ])\n",
    "], style={\"padding\": \"1rem\"})\n",
    "\n",
    "\n",
    "@app.callback(\n",
    "    Output(\"heatmap\", \"figure\"),\n",
    "    Input(\"group_selector\", \"value\")\n",
    ")\n",
    "def update_heatmap(selected_group):\n",
    "    data = monthly_df[group1] if selected_group == \"group1\" else monthly_df[group2]\n",
    "    title = f\"\\ud83d\\udcc8 Monthly Correlation Heatmap ({selected_group.replace('group', 'Group ')})\"\n",
    "    return plot_heatmap(data, title)\n",
    "\n",
    "@app.callback(\n",
    "    [Output(\"bar_chart\", \"figure\"), Output(\"correlation_table\", \"children\")],\n",
    "    Input(\"window_selector\", \"value\")\n",
    ")\n",
    "def update_rolling_output(selected_window):\n",
    "    corr_series = rolling_df[selected_window].dropna().sort_values(ascending=False)\n",
    "\n",
    "    fig = px.bar(\n",
    "    x=corr_series.index,\n",
    "    y=corr_series.values,\n",
    "    labels={\"x\": \"Stock\", \"y\": f\"Correlation ({selected_window})\"},\n",
    "    title=f\"Rolling Correlation with COLCAP ({selected_window})\",\n",
    "    color=corr_series.index,  # Make each stock have a unique color\n",
    "    color_discrete_sequence=px.colors.qualitative.Safe  # Or Vibrant, Dark2, Set3, etc.\n",
    ")\n",
    "\n",
    "\n",
    "    fig.update_layout(xaxis_tickangle=-45, height=500)\n",
    "\n",
    "    table = dash_table.DataTable(\n",
    "    columns=[\n",
    "        {\"name\": \"Stock\", \"id\": \"Stock\"},\n",
    "        {\"name\": f\"Correlation ({selected_window})\", \"id\": \"Correlation\"}\n",
    "    ],\n",
    "        data=[{\"Stock\": stock, \"Correlation\": round(corr, 4)} for stock, corr in corr_series.items()],\n",
    "        style_cell={\"textAlign\": \"center\", \"padding\": \"8px\"},\n",
    "        style_header={\"fontWeight\": \"bold\", \"backgroundColor\": \"#f8f8f8\"},\n",
    "        style_table={\"overflowX\": \"auto\"},\n",
    "        style_data_conditional=[\n",
    "            {\n",
    "                \"if\": {\"column_id\": \"Correlation\"},\n",
    "                \"backgroundColor\": \"#f0f8ff\",\n",
    "            }\n",
    "        ],\n",
    "        page_size=20,\n",
    "        sort_action=\"native\",\n",
    "        filter_action=\"native\",\n",
    "    )\n",
    "\n",
    "    return fig, table\n",
    "\n",
    "@app.callback(\n",
    "    Output(\"download_link_hist\", \"href\"),\n",
    "    Input(\"format_selector_hist\", \"value\")\n",
    ")\n",
    "def update_download_link_hist(format_value):\n",
    "    return f\"/download/historical/{format_value}\"\n",
    "\n",
    "@app.callback(\n",
    "    Output(\"download_link_roll\", \"href\"),\n",
    "    Input(\"format_selector_roll\", \"value\")\n",
    ")\n",
    "def update_download_link_roll(format_value):\n",
    "    return f\"/download/rolling/{format_value}\"\n",
    "\n",
    "@app.server.route(\"/download/<file_type>/<fmt>\")\n",
    "def download_file(file_type, fmt):\n",
    "    if file_type == \"historical\":\n",
    "        df = df_corr\n",
    "    elif file_type == \"rolling\":\n",
    "        df = rolling_df\n",
    "    else:\n",
    "        return Response(\"Invalid file type\", status=400)\n",
    "\n",
    "    if fmt == \"csv\":\n",
    "        buffer = df.to_csv(index=False if file_type == \"historical\" else True)\n",
    "        mimetype = \"text/csv\"\n",
    "        filename = f\"{file_type}_correlation.csv\"\n",
    "    # elif fmt == \"excel\":\n",
    "    #     output = io.BytesIO()\n",
    "    #     with pd.ExcelWriter(output, engine=\"xlsxwriter\") as writer:\n",
    "    #         df.to_excel(writer, index=False if file_type == \"historical\" else True)\n",
    "    #     buffer = output.getvalue()\n",
    "    #     mimetype = \"application/vnd.openxmlformats-officedocument.spreadsheetml.sheet\"\n",
    "    #     filename = f\"{file_type}_correlation.xlsx\"\n",
    "    else:\n",
    "        return Response(\"Invalid format\", status=400)\n",
    "\n",
    "    # Correct the Content-Disposition header based on format\n",
    "    return Response(\n",
    "        buffer,\n",
    "        mimetype=mimetype,\n",
    "        headers={\"Content-Disposition\": f\"attachment; filename={filename}\"}\n",
    "    )\n",
    "\n",
    "# Run the server locally\n",
    "if __name__ == \"__main__\":\n",
    "    app.run(debug=True)"
   ]
  }
 ],
 "metadata": {
  "kernelspec": {
   "display_name": "stock_project",
   "language": "python",
   "name": "python3"
  },
  "language_info": {
   "codemirror_mode": {
    "name": "ipython",
    "version": 3
   },
   "file_extension": ".py",
   "mimetype": "text/x-python",
   "name": "python",
   "nbconvert_exporter": "python",
   "pygments_lexer": "ipython3",
   "version": "3.11.7"
  }
 },
 "nbformat": 4,
 "nbformat_minor": 2
}
