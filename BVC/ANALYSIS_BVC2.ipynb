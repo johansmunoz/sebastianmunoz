{
 "cells": [
  {
   "cell_type": "markdown",
   "metadata": {},
   "source": [
    "# DATA AND CORRELATION - COLCAP AND STOCKS"
   ]
  },
  {
   "cell_type": "markdown",
   "metadata": {},
   "source": [
    "### LIBRARIES"
   ]
  },
  {
   "cell_type": "code",
   "execution_count": 1,
   "metadata": {},
   "outputs": [],
   "source": [
    "import os\n",
    "import glob\n",
    "import pandas as pd"
   ]
  },
  {
   "cell_type": "code",
   "execution_count": null,
   "metadata": {},
   "outputs": [],
   "source": [
    "# os.chdir(\"..\")"
   ]
  },
  {
   "cell_type": "markdown",
   "metadata": {},
   "source": [
    "### IDENTIFY THE NAME OF FOLDERS"
   ]
  },
  {
   "cell_type": "code",
   "execution_count": 2,
   "metadata": {},
   "outputs": [
    {
     "data": {
      "text/plain": [
       "['BCOLOMBIA',\n",
       " 'BHI',\n",
       " 'BOGOTA',\n",
       " 'BVC',\n",
       " 'CELSIA',\n",
       " 'CEMARGOS',\n",
       " 'CNEC',\n",
       " 'COLCAP',\n",
       " 'CONCONCRETO',\n",
       " 'CORFICOL',\n",
       " 'ECOPETROL',\n",
       " 'ENKA',\n",
       " 'ETB',\n",
       " 'EXITO',\n",
       " 'FABRICATO',\n",
       " 'GEB',\n",
       " 'GRUBOLIVAR',\n",
       " 'GRUPOARGOS',\n",
       " 'GRUPOAVAL',\n",
       " 'GRUPOSURA',\n",
       " 'GXTESCOL',\n",
       " 'HCOLSEL',\n",
       " 'ISA',\n",
       " 'MINEROS',\n",
       " 'NUTRESA',\n",
       " 'PEI',\n",
       " 'PFAVAL',\n",
       " 'PFBCOLOMBIA',\n",
       " 'PFCEMARGOS',\n",
       " 'PFCORFICOL',\n",
       " 'PFDAVVNDA',\n",
       " 'PFGRUPARG',\n",
       " 'PFGRUPOSURA',\n",
       " 'PROMIGAS',\n",
       " 'TERPEL']"
      ]
     },
     "execution_count": 2,
     "metadata": {},
     "output_type": "execute_result"
    }
   ],
   "source": [
    "# Get all folder names dynamically (excluding files)\n",
    "folders = [f for f in os.listdir() if os.path.isdir(f)]\n",
    "folders"
   ]
  },
  {
   "cell_type": "markdown",
   "metadata": {},
   "source": [
    "### DEBUGGING THE FILES TO AVOID PROBLEMS"
   ]
  },
  {
   "cell_type": "code",
   "execution_count": 3,
   "metadata": {},
   "outputs": [
    {
     "name": "stdout",
     "output_type": "stream",
     "text": [
      "Processing folder: BCOLOMBIA | Found CSVs: ['BCOLOMBIA_20250306_095438.csv', 'BCOLOMBIA_20250306_095448.csv', 'BCOLOMBIA_20250306_095453.csv', 'BCOLOMBIA_20250306_095459.csv', 'BCOLOMBIA_20250306_095504.csv', 'BCOLOMBIA_20250306_095510.csv', 'BCOLOMBIA_20250306_095518.csv', 'BCOLOMBIA_20250306_095525.csv', 'BCOLOMBIA_20250306_095532.csv', 'BCOLOMBIA_20250306_095537.csv', 'BCOLOMBIA_20250316_114657.csv']\n",
      "Processing folder: BHI | Found CSVs: ['BHI_20250311_075103.csv', 'BHI_20250311_075130.csv', 'BHI_20250311_075138.csv', 'BHI_20250311_075145.csv', 'BHI_20250311_075151.csv', 'BHI_20250311_075157.csv', 'BHI_20250316_115152.csv']\n",
      "Processing folder: BOGOTA | Found CSVs: ['BOGOTA_20250311_084231.csv', 'BOGOTA_20250311_084240.csv', 'BOGOTA_20250311_084248.csv', 'BOGOTA_20250311_084255.csv', 'BOGOTA_20250311_084302.csv', 'BOGOTA_20250311_084308.csv', 'BOGOTA_20250311_084325.csv', 'BOGOTA_20250311_084331.csv', 'BOGOTA_20250311_084340.csv', 'BOGOTA_20250311_084347.csv', 'BOGOTA_20250316_115256.csv']\n",
      "Processing folder: BVC | Found CSVs: ['BVC_20250311_084607.csv', 'BVC_20250311_084614.csv', 'BVC_20250311_084622.csv', 'BVC_20250311_084630.csv', 'BVC_20250311_084637.csv', 'BVC_20250311_084643.csv', 'BVC_20250311_084653.csv', 'BVC_20250311_084700.csv', 'BVC_20250311_084707.csv', 'BVC_20250311_084713.csv', 'BVC_20250316_115350.csv']\n",
      "Processing folder: CELSIA | Found CSVs: ['CELSIA_20250311_085123.csv', 'CELSIA_20250311_085130.csv', 'CELSIA_20250311_085137.csv', 'CELSIA_20250311_085142.csv', 'CELSIA_20250311_085159.csv', 'CELSIA_20250311_085206.csv', 'CELSIA_20250311_085218.csv', 'CELSIA_20250311_085224.csv', 'CELSIA_20250311_085231.csv', 'CELSIA_20250311_085237.csv', 'CELSIA_20250317_102345.csv']\n",
      "Processing folder: CEMARGOS | Found CSVs: ['CEMARGOS_20250311_074350.csv', 'CEMARGOS_20250311_074403.csv', 'CEMARGOS_20250311_074413.csv', 'CEMARGOS_20250311_074421.csv', 'CEMARGOS_20250311_074430.csv', 'CEMARGOS_20250311_074437.csv', 'CEMARGOS_20250311_074451.csv', 'CEMARGOS_20250311_074459.csv', 'CEMARGOS_20250311_074509.csv', 'CEMARGOS_20250311_074531.csv', 'CEMARGOS_20250317_102515.csv']\n",
      "Processing folder: CNEC | Found CSVs: ['CNEC_20250311_085409.csv', 'CNEC_20250311_085415.csv', 'CNEC_20250311_085422.csv', 'CNEC_20250311_085428.csv', 'CNEC_20250311_085433.csv', 'CNEC_20250311_085442.csv', 'CNEC_20250311_085453.csv', 'CNEC_20250311_085507.csv', 'CNEC_20250311_085547.csv', 'CNEC_20250311_085553.csv', 'CNEC_20250317_102627.csv']\n",
      "Processing folder: COLCAP | Found CSVs: ['MSCI COLCAP_20250313 (1).csv', 'MSCI COLCAP_20250313 (2).csv', 'MSCI COLCAP_20250313 (3).csv', 'MSCI COLCAP_20250313 (4).csv', 'MSCI COLCAP_20250313 (5).csv', 'MSCI COLCAP_20250313 (6).csv', 'MSCI COLCAP_20250313 (7).csv', 'MSCI COLCAP_20250313 (8).csv', 'MSCI COLCAP_20250313 (9).csv', 'MSCI COLCAP_20250313.csv', 'MSCI COLCAP_20250317.csv']\n",
      "Processing folder: CONCONCRETO | Found CSVs: ['CONCONCRET_20250311_091014.csv', 'CONCONCRET_20250311_091023.csv', 'CONCONCRET_20250311_091115.csv', 'CONCONCRET_20250311_091121.csv', 'CONCONCRET_20250311_091126.csv', 'CONCONCRET_20250311_091131.csv', 'CONCONCRET_20250311_091140.csv', 'CONCONCRET_20250311_091146.csv', 'CONCONCRET_20250311_091153.csv', 'CONCONCRET_20250311_091159.csv', 'CONCONCRET_20250317_102746.csv']\n",
      "Processing folder: CORFICOL | Found CSVs: ['CORFICOLCF_20250311_092126.csv', 'CORFICOLCF_20250311_092133.csv', 'CORFICOLCF_20250311_092143.csv', 'CORFICOLCF_20250311_092149.csv', 'CORFICOLCF_20250311_092155.csv', 'CORFICOLCF_20250311_092204.csv', 'CORFICOLCF_20250311_092215.csv', 'CORFICOLCF_20250311_092222.csv', 'CORFICOLCF_20250311_092227.csv', 'CORFICOLCF_20250311_092233.csv', 'CORFICOLCF_20250317_103255.csv']\n",
      "Processing folder: ECOPETROL | Found CSVs: ['ECOPETROL_20250306_093927.csv', 'ECOPETROL_20250306_093935.csv', 'ECOPETROL_20250306_093942.csv', 'ECOPETROL_20250306_093949.csv', 'ECOPETROL_20250306_093954.csv', 'ECOPETROL_20250306_094001.csv', 'ECOPETROL_20250306_094008.csv', 'ECOPETROL_20250306_094014.csv', 'ECOPETROL_20250306_094020.csv', 'ECOPETROL_20250306_094027.csv', 'ECOPETROL_20250316_114518.csv']\n",
      "Processing folder: ENKA | Found CSVs: ['ENKA_20250311_092529.csv', 'ENKA_20250311_092535.csv', 'ENKA_20250311_092541.csv', 'ENKA_20250311_092547.csv', 'ENKA_20250311_092553.csv', 'ENKA_20250311_092559.csv', 'ENKA_20250311_092610.csv', 'ENKA_20250311_092616.csv', 'ENKA_20250311_092622.csv', 'ENKA_20250311_092628.csv', 'ENKA_20250317_103623.csv']\n",
      "Processing folder: ETB | Found CSVs: ['ETB_20250311_093156.csv', 'ETB_20250311_093202.csv', 'ETB_20250311_093209.csv', 'ETB_20250311_093215.csv', 'ETB_20250311_093220.csv', 'ETB_20250311_093225.csv', 'ETB_20250311_093240.csv', 'ETB_20250311_093245.csv', 'ETB_20250311_093251.csv', 'ETB_20250311_093258.csv', 'ETB_20250317_103815.csv']\n",
      "Processing folder: EXITO | Found CSVs: ['EXITO_20250311_093503.csv', 'EXITO_20250311_093509.csv', 'EXITO_20250311_093516.csv', 'EXITO_20250311_093521.csv', 'EXITO_20250311_093526.csv', 'EXITO_20250311_093532.csv', 'EXITO_20250311_093540.csv', 'EXITO_20250311_093546.csv', 'EXITO_20250311_093551.csv', 'EXITO_20250311_093557.csv', 'EXITO_20250317_103917.csv']\n",
      "Processing folder: FABRICATO | Found CSVs: ['FABRICATO_20250311_093702.csv', 'FABRICATO_20250311_093708.csv', 'FABRICATO_20250311_093722.csv', 'FABRICATO_20250311_093727.csv', 'FABRICATO_20250311_093733.csv', 'FABRICATO_20250311_093738.csv', 'FABRICATO_20250311_093748.csv', 'FABRICATO_20250311_093753.csv', 'FABRICATO_20250311_093806.csv', 'FABRICATO_20250311_093814.csv']\n",
      "Processing folder: GEB | Found CSVs: ['GEB_20250311_094138.csv', 'GEB_20250311_094144.csv', 'GEB_20250311_094151.csv', 'GEB_20250311_094156.csv', 'GEB_20250311_094202.csv', 'GEB_20250311_094208.csv', 'GEB_20250311_094217.csv', 'GEB_20250311_094224.csv', 'GEB_20250311_094231.csv', 'GEB_20250311_094238.csv', 'GEB_20250317_104059.csv']\n",
      "Processing folder: GRUBOLIVAR | Found CSVs: ['GRUBOLIVAR_20250311_094414.csv', 'GRUBOLIVAR_20250311_094422.csv', 'GRUBOLIVAR_20250311_094428.csv', 'GRUBOLIVAR_20250311_094433.csv', 'GRUBOLIVAR_20250311_094438.csv', 'GRUBOLIVAR_20250311_094443.csv', 'GRUBOLIVAR_20250311_094453.csv', 'GRUBOLIVAR_20250311_094505.csv', 'GRUBOLIVAR_20250311_094511.csv', 'GRUBOLIVAR_20250311_094518.csv', 'GRUBOLIVAR_20250311_094524.csv', 'GRUBOLIVAR_20250317_104155.csv']\n",
      "Processing folder: GRUPOARGOS | Found CSVs: ['GRUPOARGOS_20250311_094711.csv', 'GRUPOARGOS_20250311_094717.csv', 'GRUPOARGOS_20250311_094723.csv', 'GRUPOARGOS_20250311_094728.csv', 'GRUPOARGOS_20250311_094735.csv', 'GRUPOARGOS_20250311_094740.csv', 'GRUPOARGOS_20250311_094749.csv', 'GRUPOARGOS_20250311_094755.csv', 'GRUPOARGOS_20250311_094802.csv', 'GRUPOARGOS_20250311_094808.csv', 'GRUPOARGOS_20250317_104253.csv']\n",
      "Processing folder: GRUPOAVAL | Found CSVs: ['GRUPOAVAL_20250313_093631.csv', 'GRUPOAVAL_20250313_093637.csv', 'GRUPOAVAL_20250313_093643.csv', 'GRUPOAVAL_20250313_093648.csv', 'GRUPOAVAL_20250313_093654.csv', 'GRUPOAVAL_20250313_093659.csv', 'GRUPOAVAL_20250313_093707.csv', 'GRUPOAVAL_20250313_093712.csv', 'GRUPOAVAL_20250313_093717.csv', 'GRUPOAVAL_20250313_093722.csv', 'GRUPOAVAL_20250316_115008.csv']\n",
      "Processing folder: GRUPOSURA | Found CSVs: ['GRUPOSURA_20250311_114126.csv', 'GRUPOSURA_20250311_114157.csv', 'GRUPOSURA_20250311_114204.csv', 'GRUPOSURA_20250311_114211.csv', 'GRUPOSURA_20250311_114217.csv', 'GRUPOSURA_20250311_114222.csv', 'GRUPOSURA_20250311_114233.csv', 'GRUPOSURA_20250311_114239.csv', 'GRUPOSURA_20250311_114246.csv', 'GRUPOSURA_20250311_114304.csv', 'GRUPOSURA_20250316_114839.csv']\n",
      "Processing folder: GXTESCOL | Found CSVs: ['GXTESCOL_20250312_083936.csv', 'GXTESCOL_20250312_083943.csv', 'GXTESCOL_20250317_104623.csv']\n",
      "Processing folder: HCOLSEL | Found CSVs: ['HCOLSEL_20250312_084448.csv', 'HCOLSEL_20250312_084539.csv', 'HCOLSEL_20250312_084547.csv', 'HCOLSEL_20250312_084552.csv', 'HCOLSEL_20250312_084559.csv', 'HCOLSEL_20250312_084605.csv', 'HCOLSEL_20250312_084617.csv', 'HCOLSEL_20250312_084624.csv', 'HCOLSEL_20250312_084629.csv', 'HCOLSEL_20250312_084636.csv', 'HCOLSEL_20250317_104734.csv']\n",
      "Processing folder: ISA | Found CSVs: ['ISA_20250312_084857.csv', 'ISA_20250312_084907.csv', 'ISA_20250312_084916.csv', 'ISA_20250312_085007.csv', 'ISA_20250312_085013.csv', 'ISA_20250312_085033.csv', 'ISA_20250312_085110.csv', 'ISA_20250312_085121.csv', 'ISA_20250312_085129.csv', 'ISA_20250312_085135.csv', 'ISA_20250317_104913.csv']\n",
      "Processing folder: MINEROS | Found CSVs: ['MINEROS_20250312_090150.csv', 'MINEROS_20250312_090159.csv', 'MINEROS_20250312_090205.csv', 'MINEROS_20250312_090212.csv', 'MINEROS_20250312_090218.csv', 'MINEROS_20250312_090226.csv', 'MINEROS_20250312_090237.csv', 'MINEROS_20250312_090242.csv', 'MINEROS_20250312_090248.csv', 'MINEROS_20250312_090255.csv', 'MINEROS_20250317_110118.csv']\n",
      "Processing folder: NUTRESA | Found CSVs: ['NUTRESA_20250312_090448.csv', 'NUTRESA_20250312_090456.csv', 'NUTRESA_20250312_090502.csv', 'NUTRESA_20250312_090507.csv', 'NUTRESA_20250312_090514.csv', 'NUTRESA_20250312_090520.csv', 'NUTRESA_20250312_090531.csv', 'NUTRESA_20250312_090537.csv', 'NUTRESA_20250312_090544.csv', 'NUTRESA_20250312_090550.csv', 'NUTRESA_20250317_110229.csv']\n",
      "Processing folder: PEI | Found CSVs: ['PEI_20250312_090942.csv', 'PEI_20250312_090951.csv', 'PEI_20250312_090957.csv', 'PEI_20250312_091002.csv', 'PEI_20250312_091007.csv', 'PEI_20250312_091013.csv', 'PEI_20250317_110423.csv']\n",
      "Processing folder: PFAVAL | Found CSVs: ['PFAVAL_20250301_112045.csv', 'PFAVAL_20250301_112120.csv', 'PFAVAL_20250301_112133.csv', 'PFAVAL_20250301_112147.csv', 'PFAVAL_20250301_112204.csv', 'PFAVAL_20250301_112216.csv', 'PFAVAL_20250301_112229.csv', 'PFAVAL_20250301_112242.csv', 'PFAVAL_20250301_112253.csv', 'PFAVAL_20250301_112302.csv', 'PFAVAL_20250316_114225.csv']\n",
      "Processing folder: PFBCOLOMBIA | Found CSVs: ['PFBCOLOM_20250306_094402.csv', 'PFBCOLOM_20250306_094410.csv', 'PFBCOLOM_20250306_094416.csv', 'PFBCOLOM_20250306_094421.csv', 'PFBCOLOM_20250306_094427.csv', 'PFBCOLOM_20250306_094432.csv', 'PFBCOLOM_20250306_094448.csv', 'PFBCOLOM_20250306_094454.csv', 'PFBCOLOM_20250306_094502.csv', 'PFBCOLOM_20250306_094508.csv', 'PFBCOLOM_20250316_114613.csv']\n",
      "Processing folder: PFCEMARGOS | Found CSVs: ['PFCEMARGOS_20250312_091220.csv', 'PFCEMARGOS_20250312_091226.csv', 'PFCEMARGOS_20250312_091232.csv', 'PFCEMARGOS_20250312_091238.csv', 'PFCEMARGOS_20250312_091244.csv', 'PFCEMARGOS_20250312_091249.csv', 'PFCEMARGOS_20250312_091257.csv', 'PFCEMARGOS_20250312_091303.csv', 'PFCEMARGOS_20250312_091310.csv', 'PFCEMARGOS_20250312_091316.csv', 'PFCEMARGOS_20250317_110918.csv']\n",
      "Processing folder: PFCORFICOL | Found CSVs: ['PFCORFICOL_20250312_091519.csv', 'PFCORFICOL_20250312_091526.csv', 'PFCORFICOL_20250312_091532.csv', 'PFCORFICOL_20250312_091537.csv', 'PFCORFICOL_20250312_091542.csv', 'PFCORFICOL_20250312_091547.csv', 'PFCORFICOL_20250312_091557.csv', 'PFCORFICOL_20250312_091602.csv', 'PFCORFICOL_20250312_091607.csv', 'PFCORFICOL_20250312_091612.csv', 'PFCORFICOL_20250317_111031.csv']\n",
      "Processing folder: PFDAVVNDA | Found CSVs: ['PFDAVVNDA_20250306_090727.csv', 'PFDAVVNDA_20250306_090830.csv', 'PFDAVVNDA_20250306_090842.csv', 'PFDAVVNDA_20250306_090857.csv', 'PFDAVVNDA_20250306_090921.csv', 'PFDAVVNDA_20250306_090932.csv', 'PFDAVVNDA_20250306_090944.csv', 'PFDAVVNDA_20250306_090955.csv', 'PFDAVVNDA_20250306_091006.csv', 'PFDAVVNDA_20250306_091015.csv', 'PFDAVVNDA_20250316_114413.csv']\n",
      "Processing folder: PFGRUPARG | Found CSVs: ['PFGRUPOARG_20250312_092314.csv', 'PFGRUPOARG_20250312_092319.csv', 'PFGRUPOARG_20250312_092325.csv', 'PFGRUPOARG_20250312_092330.csv', 'PFGRUPOARG_20250312_092335.csv', 'PFGRUPOARG_20250312_092341.csv', 'PFGRUPOARG_20250312_092352.csv', 'PFGRUPOARG_20250312_092405.csv', 'PFGRUPOARG_20250312_092410.csv', 'PFGRUPOARG_20250312_092415.csv', 'PFGRUPOARG_20250317_111202.csv']\n",
      "Processing folder: PFGRUPOSURA | Found CSVs: ['PFGRUPSURA_20250306_095740.csv', 'PFGRUPSURA_20250306_095746.csv', 'PFGRUPSURA_20250306_095805.csv', 'PFGRUPSURA_20250306_095810.csv', 'PFGRUPSURA_20250306_095816.csv', 'PFGRUPSURA_20250306_095822.csv', 'PFGRUPSURA_20250306_095828.csv', 'PFGRUPSURA_20250306_095833.csv', 'PFGRUPSURA_20250306_095839.csv', 'PFGRUPSURA_20250306_095844.csv', 'PFGRUPSURA_20250317_104514.csv']\n",
      "Processing folder: PROMIGAS | Found CSVs: ['PROMIGAS_20250312_092601.csv', 'PROMIGAS_20250312_092606.csv', 'PROMIGAS_20250312_092612.csv', 'PROMIGAS_20250312_092619.csv', 'PROMIGAS_20250312_092624.csv', 'PROMIGAS_20250312_092630.csv', 'PROMIGAS_20250312_092639.csv', 'PROMIGAS_20250312_092644.csv', 'PROMIGAS_20250312_092649.csv', 'PROMIGAS_20250312_092654.csv', 'PROMIGAS_20250317_111350.csv']\n",
      "Processing folder: TERPEL | Found CSVs: ['TERPEL_20250312_092755.csv', 'TERPEL_20250312_092801.csv', 'TERPEL_20250312_092806.csv', 'TERPEL_20250312_092812.csv', 'TERPEL_20250312_092816.csv', 'TERPEL_20250312_092821.csv', 'TERPEL_20250312_092836.csv', 'TERPEL_20250312_092904.csv', 'TERPEL_20250312_092917.csv', 'TERPEL_20250312_092923.csv']\n"
     ]
    },
    {
     "data": {
      "text/html": [
       "<div>\n",
       "<style scoped>\n",
       "    .dataframe tbody tr th:only-of-type {\n",
       "        vertical-align: middle;\n",
       "    }\n",
       "\n",
       "    .dataframe tbody tr th {\n",
       "        vertical-align: top;\n",
       "    }\n",
       "\n",
       "    .dataframe thead th {\n",
       "        text-align: right;\n",
       "    }\n",
       "</style>\n",
       "<table border=\"1\" class=\"dataframe\">\n",
       "  <thead>\n",
       "    <tr style=\"text-align: right;\">\n",
       "      <th></th>\n",
       "      <th>Fecha</th>\n",
       "      <th>Nemotécnico</th>\n",
       "      <th>Precio cierre</th>\n",
       "      <th>Precio máximo</th>\n",
       "      <th>Precio promedio ponderado</th>\n",
       "      <th>Precio mínimo</th>\n",
       "      <th>Variación absoluta</th>\n",
       "      <th>Variación porcentual</th>\n",
       "      <th>Cantidad</th>\n",
       "      <th>Volumen</th>\n",
       "    </tr>\n",
       "  </thead>\n",
       "  <tbody>\n",
       "    <tr>\n",
       "      <th>0</th>\n",
       "      <td>2024-09-06</td>\n",
       "      <td>TERPEL</td>\n",
       "      <td>9,400.00</td>\n",
       "      <td>9,500.00</td>\n",
       "      <td>9,400.77</td>\n",
       "      <td>9,340.00</td>\n",
       "      <td>-100.0</td>\n",
       "      <td>-1.05</td>\n",
       "      <td>1,470,713.00</td>\n",
       "      <td>13,825,828,700.00</td>\n",
       "    </tr>\n",
       "    <tr>\n",
       "      <th>1</th>\n",
       "      <td>2024-09-09</td>\n",
       "      <td>TERPEL</td>\n",
       "      <td>9,640.00</td>\n",
       "      <td>9,640.00</td>\n",
       "      <td>9,556.00</td>\n",
       "      <td>9,500.00</td>\n",
       "      <td>240.0</td>\n",
       "      <td>2.55</td>\n",
       "      <td>26,147.00</td>\n",
       "      <td>249,860,710.00</td>\n",
       "    </tr>\n",
       "    <tr>\n",
       "      <th>2</th>\n",
       "      <td>2024-09-10</td>\n",
       "      <td>TERPEL</td>\n",
       "      <td>9,600.00</td>\n",
       "      <td>9,650.00</td>\n",
       "      <td>9,611.51</td>\n",
       "      <td>9,500.00</td>\n",
       "      <td>-40.0</td>\n",
       "      <td>-0.41</td>\n",
       "      <td>22,556.00</td>\n",
       "      <td>216,797,280.00</td>\n",
       "    </tr>\n",
       "    <tr>\n",
       "      <th>3</th>\n",
       "      <td>2024-09-11</td>\n",
       "      <td>TERPEL</td>\n",
       "      <td>9,400.00</td>\n",
       "      <td>9,500.00</td>\n",
       "      <td>9,455.91</td>\n",
       "      <td>9,400.00</td>\n",
       "      <td>-200.0</td>\n",
       "      <td>-2.08</td>\n",
       "      <td>38,380.00</td>\n",
       "      <td>362,917,900.00</td>\n",
       "    </tr>\n",
       "    <tr>\n",
       "      <th>4</th>\n",
       "      <td>2024-09-12</td>\n",
       "      <td>TERPEL</td>\n",
       "      <td>9,580.00</td>\n",
       "      <td>9,580.00</td>\n",
       "      <td>9,455.58</td>\n",
       "      <td>9,400.00</td>\n",
       "      <td>180.0</td>\n",
       "      <td>1.91</td>\n",
       "      <td>15,069.00</td>\n",
       "      <td>142,486,210.00</td>\n",
       "    </tr>\n",
       "    <tr>\n",
       "      <th>...</th>\n",
       "      <td>...</td>\n",
       "      <td>...</td>\n",
       "      <td>...</td>\n",
       "      <td>...</td>\n",
       "      <td>...</td>\n",
       "      <td>...</td>\n",
       "      <td>...</td>\n",
       "      <td>...</td>\n",
       "      <td>...</td>\n",
       "      <td>...</td>\n",
       "    </tr>\n",
       "    <tr>\n",
       "      <th>1212</th>\n",
       "      <td>2020-08-21</td>\n",
       "      <td>TERPEL</td>\n",
       "      <td>6,950.00</td>\n",
       "      <td>6,950.00</td>\n",
       "      <td>6,836.30</td>\n",
       "      <td>6,800.00</td>\n",
       "      <td>110.0</td>\n",
       "      <td>1.61</td>\n",
       "      <td>24,920.00</td>\n",
       "      <td>170,360,640.00</td>\n",
       "    </tr>\n",
       "    <tr>\n",
       "      <th>1213</th>\n",
       "      <td>2020-08-24</td>\n",
       "      <td>TERPEL</td>\n",
       "      <td>6,950.00</td>\n",
       "      <td>6,950.00</td>\n",
       "      <td>6,947.76</td>\n",
       "      <td>6,940.00</td>\n",
       "      <td>0.0</td>\n",
       "      <td>0.00</td>\n",
       "      <td>23,745.00</td>\n",
       "      <td>164,974,590.00</td>\n",
       "    </tr>\n",
       "    <tr>\n",
       "      <th>1214</th>\n",
       "      <td>2020-08-25</td>\n",
       "      <td>TERPEL</td>\n",
       "      <td>6,980.00</td>\n",
       "      <td>6,980.00</td>\n",
       "      <td>6,968.22</td>\n",
       "      <td>6,950.00</td>\n",
       "      <td>30.0</td>\n",
       "      <td>0.43</td>\n",
       "      <td>33,088.00</td>\n",
       "      <td>230,564,300.00</td>\n",
       "    </tr>\n",
       "    <tr>\n",
       "      <th>1215</th>\n",
       "      <td>2020-08-26</td>\n",
       "      <td>TERPEL</td>\n",
       "      <td>7,240.00</td>\n",
       "      <td>7,350.00</td>\n",
       "      <td>7,183.15</td>\n",
       "      <td>7,040.00</td>\n",
       "      <td>260.0</td>\n",
       "      <td>3.72</td>\n",
       "      <td>122,628.00</td>\n",
       "      <td>880,855,440.00</td>\n",
       "    </tr>\n",
       "    <tr>\n",
       "      <th>1216</th>\n",
       "      <td>2020-08-27</td>\n",
       "      <td>TERPEL</td>\n",
       "      <td>7,330.00</td>\n",
       "      <td>7,330.00</td>\n",
       "      <td>7,249.27</td>\n",
       "      <td>7,220.00</td>\n",
       "      <td>90.0</td>\n",
       "      <td>1.24</td>\n",
       "      <td>17,406.00</td>\n",
       "      <td>126,180,780.00</td>\n",
       "    </tr>\n",
       "  </tbody>\n",
       "</table>\n",
       "<p>1217 rows × 10 columns</p>\n",
       "</div>"
      ],
      "text/plain": [
       "           Fecha Nemotécnico Precio cierre Precio máximo  \\\n",
       "0     2024-09-06      TERPEL      9,400.00      9,500.00   \n",
       "1     2024-09-09      TERPEL      9,640.00      9,640.00   \n",
       "2     2024-09-10      TERPEL      9,600.00      9,650.00   \n",
       "3     2024-09-11      TERPEL      9,400.00      9,500.00   \n",
       "4     2024-09-12      TERPEL      9,580.00      9,580.00   \n",
       "...          ...         ...           ...           ...   \n",
       "1212  2020-08-21      TERPEL      6,950.00      6,950.00   \n",
       "1213  2020-08-24      TERPEL      6,950.00      6,950.00   \n",
       "1214  2020-08-25      TERPEL      6,980.00      6,980.00   \n",
       "1215  2020-08-26      TERPEL      7,240.00      7,350.00   \n",
       "1216  2020-08-27      TERPEL      7,330.00      7,330.00   \n",
       "\n",
       "     Precio promedio ponderado Precio mínimo  Variación absoluta  \\\n",
       "0                     9,400.77      9,340.00              -100.0   \n",
       "1                     9,556.00      9,500.00               240.0   \n",
       "2                     9,611.51      9,500.00               -40.0   \n",
       "3                     9,455.91      9,400.00              -200.0   \n",
       "4                     9,455.58      9,400.00               180.0   \n",
       "...                        ...           ...                 ...   \n",
       "1212                  6,836.30      6,800.00               110.0   \n",
       "1213                  6,947.76      6,940.00                 0.0   \n",
       "1214                  6,968.22      6,950.00                30.0   \n",
       "1215                  7,183.15      7,040.00               260.0   \n",
       "1216                  7,249.27      7,220.00                90.0   \n",
       "\n",
       "      Variación porcentual      Cantidad            Volumen  \n",
       "0                    -1.05  1,470,713.00  13,825,828,700.00  \n",
       "1                     2.55     26,147.00     249,860,710.00  \n",
       "2                    -0.41     22,556.00     216,797,280.00  \n",
       "3                    -2.08     38,380.00     362,917,900.00  \n",
       "4                     1.91     15,069.00     142,486,210.00  \n",
       "...                    ...           ...                ...  \n",
       "1212                  1.61     24,920.00     170,360,640.00  \n",
       "1213                  0.00     23,745.00     164,974,590.00  \n",
       "1214                  0.43     33,088.00     230,564,300.00  \n",
       "1215                  3.72    122,628.00     880,855,440.00  \n",
       "1216                  1.24     17,406.00     126,180,780.00  \n",
       "\n",
       "[1217 rows x 10 columns]"
      ]
     },
     "execution_count": 3,
     "metadata": {},
     "output_type": "execute_result"
    }
   ],
   "source": [
    "df_list = []\n",
    "\n",
    "for folder in folders:\n",
    "    os.chdir(folder)  \n",
    "    all_files = glob.glob(\"*.csv\")\n",
    "\n",
    "    print(f\"Processing folder: {folder} | Found CSVs: {all_files}\")  # Debugging step\n",
    "\n",
    "    if not all_files:  # If no CSVs found, skip folder\n",
    "        print(f\"No CSV files found in {folder}, skipping...\")\n",
    "        os.chdir(\"..\")\n",
    "        continue\n",
    "\n",
    "    df_folder = pd.concat([pd.read_csv(f, sep=\";\", on_bad_lines='skip') for f in all_files], ignore_index=True)\n",
    "    \n",
    "    os.chdir(\"..\")\n",
    "    \n",
    "df_folder"
   ]
  },
  {
   "cell_type": "markdown",
   "metadata": {},
   "source": [
    "### MAIN PART OF THE CODE\n",
    "#### Identify, read, concatenate the csv files and make setups"
   ]
  },
  {
   "cell_type": "code",
   "execution_count": 4,
   "metadata": {},
   "outputs": [],
   "source": [
    "# List to store concatenated DataFrames for each folder\n",
    "\n",
    "df_list = []\n",
    "\n",
    "for folder in folders:\n",
    "    os.chdir(folder)  # Change to the folder\n",
    "    extension = 'csv'\n",
    "    \n",
    "    # Identify all CSV files in the folder\n",
    "    all_files = [i for i in glob.glob(f'*.{extension}')]\n",
    "\n",
    "    # Read and concatenate all CSVs in the current folder\n",
    "    df_folder = pd.concat([pd.read_csv(f,sep=\";\") for f in all_files], ignore_index=True)\n",
    "\n",
    "    # Ensure 'Fecha' column is in datetime format\n",
    "    df_folder['Fecha'] = pd.to_datetime(df_folder['Fecha'], errors='coerce')\n",
    "    \n",
    "    # Rename columns by adding folder name as a prefix (except 'Date')\n",
    "    df_folder = df_folder.rename(columns={col: f\"{folder}_{col}\" for col in df_folder.columns if col != \"Fecha\"})\n",
    "\n",
    "    # Append the concatenated DataFrame to the list\n",
    "    df_list.append(df_folder)\n",
    "\n",
    "    # Go back to the main directory before processing the next folder\n",
    "    os.chdir(\"..\")"
   ]
  },
  {
   "cell_type": "code",
   "execution_count": null,
   "metadata": {},
   "outputs": [],
   "source": [
    "# # Ensure df_list is not empty before merging\n",
    "# if not df_list:\n",
    "#     raise ValueError(\"No data was loaded. Check if CSV files exist and contain valid data.\")\n",
    "\n",
    "# # Merge all DataFrames on 'Date', keeping all available dates\n",
    "# df_final = df_list[0]  # Start with the first DataFrame\n",
    "\n",
    "# for df in df_list[1:]:\n",
    "#     df_final = pd.merge(df_final, df, on=\"Fecha\", how=\"outer\", suffixes=('', '_dup'))\n",
    "\n",
    "# # Drop duplicate columns if merging added them (from stocks with same column names)\n",
    "# df_final = df_final.loc[:, ~df_final.columns.duplicated()]\n",
    "\n",
    "# # Sort by date\n",
    "# df_final = df_final.sort_values(by=\"Fecha\")\n",
    "\n",
    "# # Now df_final is a single DataFrame that you can manipulate with pandas\n",
    "# print(df_final.head())  # Show first few rows\n",
    "\n",
    "# # Save the merged DataFrame\n",
    "# df_final.to_csv(\"Final_Merged_Data2.csv\", index=False, encoding='utf-8-sig')\n",
    "\n",
    "# df_final\n"
   ]
  },
  {
   "cell_type": "code",
   "execution_count": 5,
   "metadata": {},
   "outputs": [
    {
     "name": "stdout",
     "output_type": "stream",
     "text": [
      "c:\\Users\\Admin\\OneDrive - Universidad de La Salle\\SEBASTIAN\\Documentos\\HV_HTML\\BVC\n"
     ]
    }
   ],
   "source": [
    "print(os.getcwd())"
   ]
  },
  {
   "cell_type": "markdown",
   "metadata": {},
   "source": [
    "#### Merge all the csv in one csv"
   ]
  },
  {
   "cell_type": "code",
   "execution_count": 6,
   "metadata": {},
   "outputs": [
    {
     "name": "stdout",
     "output_type": "stream",
     "text": [
      "          Fecha BCOLOMBIA_Nemotécnico BCOLOMBIA_Precio cierre  \\\n",
      "1229 2020-03-02                   NaN                     NaN   \n",
      "1230 2020-03-03                   NaN                     NaN   \n",
      "1231 2020-03-04                   NaN                     NaN   \n",
      "1232 2020-03-05                   NaN                     NaN   \n",
      "1110 2020-03-06             BCOLOMBIA                36700.00   \n",
      "\n",
      "     BCOLOMBIA_Precio máximo BCOLOMBIA_Precio promedio ponderado  \\\n",
      "1229                     NaN                                 NaN   \n",
      "1230                     NaN                                 NaN   \n",
      "1231                     NaN                                 NaN   \n",
      "1232                     NaN                                 NaN   \n",
      "1110                37620.00                            36923.99   \n",
      "\n",
      "     BCOLOMBIA_Precio mínimo BCOLOMBIA_Variación absoluta  \\\n",
      "1229                     NaN                          NaN   \n",
      "1230                     NaN                          NaN   \n",
      "1231                     NaN                          NaN   \n",
      "1232                     NaN                          NaN   \n",
      "1110                36700.00                      -840.00   \n",
      "\n",
      "      BCOLOMBIA_Variación porcentual BCOLOMBIA_Cantidad BCOLOMBIA_Volumen  \\\n",
      "1229                             NaN                NaN               NaN   \n",
      "1230                             NaN                NaN               NaN   \n",
      "1231                             NaN                NaN               NaN   \n",
      "1232                             NaN                NaN               NaN   \n",
      "1110                           -2.24          104823.00     3863210740.00   \n",
      "\n",
      "      ... PROMIGAS_Volumen  TERPEL_Nemotécnico  TERPEL_Precio cierre  \\\n",
      "1229  ...              NaN                 NaN                   NaN   \n",
      "1230  ...              NaN                 NaN                   NaN   \n",
      "1231  ...              NaN                 NaN                   NaN   \n",
      "1232  ...              NaN                 NaN                   NaN   \n",
      "1110  ...              NaN                 NaN                   NaN   \n",
      "\n",
      "      TERPEL_Precio máximo  TERPEL_Precio promedio ponderado  \\\n",
      "1229                   NaN                               NaN   \n",
      "1230                   NaN                               NaN   \n",
      "1231                   NaN                               NaN   \n",
      "1232                   NaN                               NaN   \n",
      "1110                   NaN                               NaN   \n",
      "\n",
      "      TERPEL_Precio mínimo  TERPEL_Variación absoluta  \\\n",
      "1229                   NaN                        NaN   \n",
      "1230                   NaN                        NaN   \n",
      "1231                   NaN                        NaN   \n",
      "1232                   NaN                        NaN   \n",
      "1110                   NaN                        NaN   \n",
      "\n",
      "     TERPEL_Variación porcentual TERPEL_Cantidad TERPEL_Volumen  \n",
      "1229                         NaN             NaN            NaN  \n",
      "1230                         NaN             NaN            NaN  \n",
      "1231                         NaN             NaN            NaN  \n",
      "1232                         NaN             NaN            NaN  \n",
      "1110                         NaN             NaN            NaN  \n",
      "\n",
      "[5 rows x 313 columns]\n"
     ]
    }
   ],
   "source": [
    "# Merge all DataFrames on 'Date' (keeping only common dates)\n",
    "df_final = df_list[0]\n",
    "for df in df_list[1:]:\n",
    "    df_final = pd.merge(df_final, df, on=\"Fecha\", how=\"outer\", suffixes=('', '_dup'))\n",
    "    \n",
    "# Sort by date\n",
    "df_final = df_final.sort_values(by=\"Fecha\")\n",
    "\n",
    "# Identify numeric columns (excluding 'Date' and stock name columns)\n",
    "numeric_cols = df_final.columns[df_final.dtypes == 'object']\n",
    "\n",
    "# Apply string replacements to clean decimal format\n",
    "df_final[numeric_cols] = df_final[numeric_cols].apply(lambda x: x.str.replace(',', '', regex=False))\n",
    "\n",
    "# Identify numeric columns (excluding 'Date' and stock name columns)\n",
    "numeric_cols = df_final.select_dtypes(include=['number']).columns\n",
    "\n",
    "# Convert only numeric columns to float\n",
    "df_final[numeric_cols] = df_final[numeric_cols].apply(pd.to_numeric, errors='coerce')\n",
    "\n",
    "# Save final merged DataFrame\n",
    "df_final.to_csv(\"Final_Merged_Data.csv\", index=False, encoding='utf-8-sig')\n",
    "\n",
    "# Show the first few rows of the final DataFrame\n",
    "print(df_final.head())"
   ]
  },
  {
   "cell_type": "code",
   "execution_count": 6,
   "metadata": {},
   "outputs": [
    {
     "name": "stdout",
     "output_type": "stream",
     "text": [
      "<class 'pandas.core.frame.DataFrame'>\n",
      "Index: 1233 entries, 1229 to 1228\n",
      "Columns: 313 entries, Fecha to TERPEL_Volumen\n",
      "dtypes: datetime64[ns](1), float64(71), object(241)\n",
      "memory usage: 3.0+ MB\n"
     ]
    }
   ],
   "source": [
    "df_final.info()"
   ]
  },
  {
   "cell_type": "code",
   "execution_count": 7,
   "metadata": {},
   "outputs": [
    {
     "name": "stdout",
     "output_type": "stream",
     "text": [
      "['Fecha', 'BCOLOMBIA_Nemotécnico', 'BCOLOMBIA_Precio cierre', 'BCOLOMBIA_Precio máximo', 'BCOLOMBIA_Precio promedio ponderado', 'BCOLOMBIA_Precio mínimo', 'BCOLOMBIA_Variación absoluta', 'BCOLOMBIA_Variación porcentual', 'BCOLOMBIA_Cantidad', 'BCOLOMBIA_Volumen', 'BHI_Nemotécnico', 'BHI_Precio cierre', 'BHI_Precio máximo', 'BHI_Precio promedio ponderado', 'BHI_Precio mínimo', 'BHI_Variación absoluta', 'BHI_Variación porcentual', 'BHI_Cantidad', 'BHI_Volumen', 'BOGOTA_Nemotécnico', 'BOGOTA_Precio cierre', 'BOGOTA_Precio máximo', 'BOGOTA_Precio promedio ponderado', 'BOGOTA_Precio mínimo', 'BOGOTA_Variación absoluta', 'BOGOTA_Variación porcentual', 'BOGOTA_Cantidad', 'BOGOTA_Volumen', 'BVC_Nemotécnico', 'BVC_Precio cierre', 'BVC_Precio máximo', 'BVC_Precio promedio ponderado', 'BVC_Precio mínimo', 'BVC_Variación absoluta', 'BVC_Variación porcentual', 'BVC_Cantidad', 'BVC_Volumen', 'CELSIA_Nemotécnico', 'CELSIA_Precio cierre', 'CELSIA_Precio máximo', 'CELSIA_Precio promedio ponderado', 'CELSIA_Precio mínimo', 'CELSIA_Variación absoluta', 'CELSIA_Variación porcentual', 'CELSIA_Cantidad', 'CELSIA_Volumen', 'CEMARGOS_Nemotécnico', 'CEMARGOS_Precio cierre', 'CEMARGOS_Precio máximo', 'CEMARGOS_Precio promedio ponderado', 'CEMARGOS_Precio mínimo', 'CEMARGOS_Variación absoluta', 'CEMARGOS_Variación porcentual', 'CEMARGOS_Cantidad', 'CEMARGOS_Volumen', 'CNEC_Nemotécnico', 'CNEC_Precio cierre', 'CNEC_Precio máximo', 'CNEC_Precio promedio ponderado', 'CNEC_Precio mínimo', 'CNEC_Variación absoluta', 'CNEC_Variación porcentual', 'CNEC_Cantidad', 'CNEC_Volumen', 'COLCAP_Valor hoy', 'COLCAP_Valor ayer', 'COLCAP_Variación absoluta', 'COLCAP_Variación porcentual', 'COLCAP_Variación 12 meses', 'COLCAP_Variación año', 'CONCONCRETO_Nemotécnico', 'CONCONCRETO_Precio cierre', 'CONCONCRETO_Precio máximo', 'CONCONCRETO_Precio promedio ponderado', 'CONCONCRETO_Precio mínimo', 'CONCONCRETO_Variación absoluta', 'CONCONCRETO_Variación porcentual', 'CONCONCRETO_Cantidad', 'CONCONCRETO_Volumen', 'CORFICOL_Nemotécnico', 'CORFICOL_Precio cierre', 'CORFICOL_Precio máximo', 'CORFICOL_Precio promedio ponderado', 'CORFICOL_Precio mínimo', 'CORFICOL_Variación absoluta', 'CORFICOL_Variación porcentual', 'CORFICOL_Cantidad', 'CORFICOL_Volumen', 'ECOPETROL_Nemotécnico', 'ECOPETROL_Precio cierre', 'ECOPETROL_Precio máximo', 'ECOPETROL_Precio promedio ponderado', 'ECOPETROL_Precio mínimo', 'ECOPETROL_Variación absoluta', 'ECOPETROL_Variación porcentual', 'ECOPETROL_Cantidad', 'ECOPETROL_Volumen', 'ENKA_Nemotécnico', 'ENKA_Precio cierre', 'ENKA_Precio máximo', 'ENKA_Precio promedio ponderado', 'ENKA_Precio mínimo', 'ENKA_Variación absoluta', 'ENKA_Variación porcentual', 'ENKA_Cantidad', 'ENKA_Volumen', 'ETB_Nemotécnico', 'ETB_Precio cierre', 'ETB_Precio máximo', 'ETB_Precio promedio ponderado', 'ETB_Precio mínimo', 'ETB_Variación absoluta', 'ETB_Variación porcentual', 'ETB_Cantidad', 'ETB_Volumen', 'EXITO_Nemotécnico', 'EXITO_Precio cierre', 'EXITO_Precio máximo', 'EXITO_Precio promedio ponderado', 'EXITO_Precio mínimo', 'EXITO_Variación absoluta', 'EXITO_Variación porcentual', 'EXITO_Cantidad', 'EXITO_Volumen', 'FABRICATO_Nemotécnico', 'FABRICATO_Precio cierre', 'FABRICATO_Precio máximo', 'FABRICATO_Precio promedio ponderado', 'FABRICATO_Precio mínimo', 'FABRICATO_Variación absoluta', 'FABRICATO_Variación porcentual', 'FABRICATO_Cantidad', 'FABRICATO_Volumen', 'GEB_Nemotécnico', 'GEB_Precio cierre', 'GEB_Precio máximo', 'GEB_Precio promedio ponderado', 'GEB_Precio mínimo', 'GEB_Variación absoluta', 'GEB_Variación porcentual', 'GEB_Cantidad', 'GEB_Volumen', 'GRUBOLIVAR_Nemotécnico', 'GRUBOLIVAR_Precio cierre', 'GRUBOLIVAR_Precio máximo', 'GRUBOLIVAR_Precio promedio ponderado', 'GRUBOLIVAR_Precio mínimo', 'GRUBOLIVAR_Variación absoluta', 'GRUBOLIVAR_Variación porcentual', 'GRUBOLIVAR_Cantidad', 'GRUBOLIVAR_Volumen', 'GRUPOARGOS_Nemotécnico', 'GRUPOARGOS_Precio cierre', 'GRUPOARGOS_Precio máximo', 'GRUPOARGOS_Precio promedio ponderado', 'GRUPOARGOS_Precio mínimo', 'GRUPOARGOS_Variación absoluta', 'GRUPOARGOS_Variación porcentual', 'GRUPOARGOS_Cantidad', 'GRUPOARGOS_Volumen', 'GRUPOAVAL_Nemotécnico', 'GRUPOAVAL_Precio cierre', 'GRUPOAVAL_Precio máximo', 'GRUPOAVAL_Precio promedio ponderado', 'GRUPOAVAL_Precio mínimo', 'GRUPOAVAL_Variación absoluta', 'GRUPOAVAL_Variación porcentual', 'GRUPOAVAL_Cantidad', 'GRUPOAVAL_Volumen', 'GRUPOSURA_Nemotécnico', 'GRUPOSURA_Precio cierre', 'GRUPOSURA_Precio máximo', 'GRUPOSURA_Precio promedio ponderado', 'GRUPOSURA_Precio mínimo', 'GRUPOSURA_Variación absoluta', 'GRUPOSURA_Variación porcentual', 'GRUPOSURA_Cantidad', 'GRUPOSURA_Volumen', 'GXTESCOL_Nemotécnico', 'GXTESCOL_Precio cierre', 'GXTESCOL_Precio máximo', 'GXTESCOL_Precio promedio ponderado', 'GXTESCOL_Precio mínimo', 'GXTESCOL_Variación absoluta', 'GXTESCOL_Variación porcentual', 'GXTESCOL_Cantidad', 'GXTESCOL_Volumen', 'HCOLSEL_Nemotécnico', 'HCOLSEL_Precio cierre', 'HCOLSEL_Precio máximo', 'HCOLSEL_Precio promedio ponderado', 'HCOLSEL_Precio mínimo', 'HCOLSEL_Variación absoluta', 'HCOLSEL_Variación porcentual', 'HCOLSEL_Cantidad', 'HCOLSEL_Volumen', 'ISA_Nemotécnico', 'ISA_Precio cierre', 'ISA_Precio máximo', 'ISA_Precio promedio ponderado', 'ISA_Precio mínimo', 'ISA_Variación absoluta', 'ISA_Variación porcentual', 'ISA_Cantidad', 'ISA_Volumen', 'MINEROS_Nemotécnico', 'MINEROS_Precio cierre', 'MINEROS_Precio máximo', 'MINEROS_Precio promedio ponderado', 'MINEROS_Precio mínimo', 'MINEROS_Variación absoluta', 'MINEROS_Variación porcentual', 'MINEROS_Cantidad', 'MINEROS_Volumen', 'NUTRESA_Nemotécnico', 'NUTRESA_Precio cierre', 'NUTRESA_Precio máximo', 'NUTRESA_Precio promedio ponderado', 'NUTRESA_Precio mínimo', 'NUTRESA_Variación absoluta', 'NUTRESA_Variación porcentual', 'NUTRESA_Cantidad', 'NUTRESA_Volumen', 'PEI_Nemotécnico', 'PEI_Precio cierre', 'PEI_Precio máximo', 'PEI_Precio promedio ponderado', 'PEI_Precio mínimo', 'PEI_Variación absoluta', 'PEI_Variación porcentual', 'PEI_Cantidad', 'PEI_Volumen', 'PFAVAL_Nemotécnico', 'PFAVAL_Precio cierre', 'PFAVAL_Precio máximo', 'PFAVAL_Precio promedio ponderado', 'PFAVAL_Precio mínimo', 'PFAVAL_Variación absoluta', 'PFAVAL_Variación porcentual', 'PFAVAL_Cantidad', 'PFAVAL_Volumen', 'PFBCOLOMBIA_Nemotécnico', 'PFBCOLOMBIA_Precio cierre', 'PFBCOLOMBIA_Precio máximo', 'PFBCOLOMBIA_Precio promedio ponderado', 'PFBCOLOMBIA_Precio mínimo', 'PFBCOLOMBIA_Variación absoluta', 'PFBCOLOMBIA_Variación porcentual', 'PFBCOLOMBIA_Cantidad', 'PFBCOLOMBIA_Volumen', 'PFCEMARGOS_Nemotécnico', 'PFCEMARGOS_Precio cierre', 'PFCEMARGOS_Precio máximo', 'PFCEMARGOS_Precio promedio ponderado', 'PFCEMARGOS_Precio mínimo', 'PFCEMARGOS_Variación absoluta', 'PFCEMARGOS_Variación porcentual', 'PFCEMARGOS_Cantidad', 'PFCEMARGOS_Volumen', 'PFCORFICOL_Nemotécnico', 'PFCORFICOL_Precio cierre', 'PFCORFICOL_Precio máximo', 'PFCORFICOL_Precio promedio ponderado', 'PFCORFICOL_Precio mínimo', 'PFCORFICOL_Variación absoluta', 'PFCORFICOL_Variación porcentual', 'PFCORFICOL_Cantidad', 'PFCORFICOL_Volumen', 'PFDAVVNDA_Nemotécnico', 'PFDAVVNDA_Precio cierre', 'PFDAVVNDA_Precio máximo', 'PFDAVVNDA_Precio promedio ponderado', 'PFDAVVNDA_Precio mínimo', 'PFDAVVNDA_Variación absoluta', 'PFDAVVNDA_Variación porcentual', 'PFDAVVNDA_Cantidad', 'PFDAVVNDA_Volumen', 'PFGRUPARG_Nemotécnico', 'PFGRUPARG_Precio cierre', 'PFGRUPARG_Precio máximo', 'PFGRUPARG_Precio promedio ponderado', 'PFGRUPARG_Precio mínimo', 'PFGRUPARG_Variación absoluta', 'PFGRUPARG_Variación porcentual', 'PFGRUPARG_Cantidad', 'PFGRUPARG_Volumen', 'PFGRUPOSURA_Nemotécnico', 'PFGRUPOSURA_Precio cierre', 'PFGRUPOSURA_Precio máximo', 'PFGRUPOSURA_Precio promedio ponderado', 'PFGRUPOSURA_Precio mínimo', 'PFGRUPOSURA_Variación absoluta', 'PFGRUPOSURA_Variación porcentual', 'PFGRUPOSURA_Cantidad', 'PFGRUPOSURA_Volumen', 'PROMIGAS_Nemotécnico', 'PROMIGAS_Precio cierre', 'PROMIGAS_Precio máximo', 'PROMIGAS_Precio promedio ponderado', 'PROMIGAS_Precio mínimo', 'PROMIGAS_Variación absoluta', 'PROMIGAS_Variación porcentual', 'PROMIGAS_Cantidad', 'PROMIGAS_Volumen', 'TERPEL_Nemotécnico', 'TERPEL_Precio cierre', 'TERPEL_Precio máximo', 'TERPEL_Precio promedio ponderado', 'TERPEL_Precio mínimo', 'TERPEL_Variación absoluta', 'TERPEL_Variación porcentual', 'TERPEL_Cantidad', 'TERPEL_Volumen']\n"
     ]
    }
   ],
   "source": [
    "df = pd.read_csv(\"Final_Merged_Data.csv\", sep=',', parse_dates=[\"Fecha\"])\n",
    "df.columns = df.columns.str.strip()\n",
    "# df.columns = df.columns.str.strip().str.replace(\" \", \"_\")  # Normalize column names\n",
    "print(df.columns.tolist())"
   ]
  },
  {
   "cell_type": "code",
   "execution_count": 9,
   "metadata": {},
   "outputs": [
    {
     "ename": "NameError",
     "evalue": "name 'df_close' is not defined",
     "output_type": "error",
     "traceback": [
      "\u001b[1;31m---------------------------------------------------------------------------\u001b[0m",
      "\u001b[1;31mNameError\u001b[0m                                 Traceback (most recent call last)",
      "Cell \u001b[1;32mIn[9], line 1\u001b[0m\n\u001b[1;32m----> 1\u001b[0m \u001b[43mdf_close\u001b[49m\n",
      "\u001b[1;31mNameError\u001b[0m: name 'df_close' is not defined"
     ]
    }
   ],
   "source": [
    "df_close"
   ]
  },
  {
   "cell_type": "code",
   "execution_count": 8,
   "metadata": {},
   "outputs": [
    {
     "name": "stdout",
     "output_type": "stream",
     "text": [
      "📌 Historical Correlation with COLCAP_Valor hoy\n",
      "BCOLOMBIA_Precio cierre      0.705082\n",
      "BHI_Precio cierre            0.780928\n",
      "BOGOTA_Precio cierre         0.162733\n",
      "BVC_Precio cierre            0.226516\n",
      "CELSIA_Precio cierre         0.489855\n",
      "CEMARGOS_Precio cierre       0.643139\n",
      "CNEC_Precio cierre          -0.426040\n",
      "CONCONCRETO_Precio cierre    0.360060\n",
      "CORFICOL_Precio cierre       0.292170\n",
      "ECOPETROL_Precio cierre      0.452651\n",
      "ENKA_Precio cierre           0.273211\n",
      "ETB_Precio cierre            0.050187\n",
      "EXITO_Precio cierre          0.190283\n",
      "FABRICATO_Precio cierre      0.256540\n",
      "GEB_Precio cierre            0.602788\n",
      "GRUBOLIVAR_Precio cierre     0.629054\n",
      "GRUPOARGOS_Precio cierre     0.701101\n",
      "GRUPOAVAL_Precio cierre      0.006655\n",
      "GRUPOSURA_Precio cierre      0.248453\n",
      "GXTESCOL_Precio cierre      -0.036718\n",
      "HCOLSEL_Precio cierre        0.906751\n",
      "ISA_Precio cierre            0.573038\n",
      "MINEROS_Precio cierre        0.536067\n",
      "NUTRESA_Precio cierre        0.274875\n",
      "PEI_Precio cierre            0.642555\n",
      "PFAVAL_Precio cierre         0.272907\n",
      "PFBCOLOMBIA_Precio cierre    0.900616\n",
      "PFCEMARGOS_Precio cierre     0.521023\n",
      "PFCORFICOL_Precio cierre     0.319236\n",
      "PFDAVVNDA_Precio cierre      0.344139\n",
      "PFGRUPARG_Precio cierre      0.626306\n",
      "PFGRUPOSURA_Precio cierre    0.789961\n",
      "PROMIGAS_Precio cierre       0.528314\n",
      "TERPEL_Precio cierre         0.743705\n",
      "Name: COLCAP_Valor hoy, dtype: float64\n",
      "\n",
      "📌 Monthly Correlation with COLCAP_Valor hoy\n",
      "              Fecha  BCOLOMBIA_Precio cierre  BHI_Precio cierre  \\\n",
      "YearMonth                                                         \n",
      "2024-06   -0.803547                 0.812968          -0.635920   \n",
      "2024-07   -0.933455                -0.755698           0.881120   \n",
      "2024-08    0.570673                 0.786307           0.836415   \n",
      "2024-09   -0.502952                 0.601449          -0.055271   \n",
      "2024-10    0.824427                 0.927518           0.342642   \n",
      "2024-11    0.799381                 0.832900          -0.549955   \n",
      "2024-12   -0.365355                 0.757821           0.167488   \n",
      "2025-01    0.634973                 0.950209           0.198755   \n",
      "2025-02    0.929579                 0.965638           0.858792   \n",
      "2025-03    0.498211                 0.847708           0.470786   \n",
      "\n",
      "           BOGOTA_Precio cierre  BVC_Precio cierre  CELSIA_Precio cierre  \\\n",
      "YearMonth                                                                  \n",
      "2024-06                0.643490          -0.552582              0.647528   \n",
      "2024-07                0.636475                NaN              0.591689   \n",
      "2024-08                0.443808          -0.496210              0.676309   \n",
      "2024-09                0.397117           0.598044              0.755585   \n",
      "2024-10                0.445170          -0.399590             -0.451120   \n",
      "2024-11               -0.130573          -0.272559             -0.468979   \n",
      "2024-12                0.459274           0.202125              0.195644   \n",
      "2025-01                0.849637           0.896351             -0.274657   \n",
      "2025-02                0.839961           0.548603              0.829080   \n",
      "2025-03                0.580629           0.644714              0.779727   \n",
      "\n",
      "           CEMARGOS_Precio cierre  CNEC_Precio cierre  \\\n",
      "YearMonth                                               \n",
      "2024-06                 -0.170003           -0.403879   \n",
      "2024-07                  0.273640            0.279999   \n",
      "2024-08                  0.794299            0.065681   \n",
      "2024-09                  0.447425            0.850588   \n",
      "2024-10                  0.731215           -0.736947   \n",
      "2024-11                  0.881931            0.907515   \n",
      "2024-12                 -0.100604            0.470993   \n",
      "2025-01                  0.095396           -0.118249   \n",
      "2025-02                 -0.131747            0.004128   \n",
      "2025-03                  0.275575            0.542133   \n",
      "\n",
      "           CONCONCRETO_Precio cierre  CORFICOL_Precio cierre  ...  \\\n",
      "YearMonth                                                     ...   \n",
      "2024-06                     0.577000                0.865752  ...   \n",
      "2024-07                     0.648343                0.889427  ...   \n",
      "2024-08                     0.706363                0.298939  ...   \n",
      "2024-09                     0.811737                0.460144  ...   \n",
      "2024-10                     0.606750                0.922400  ...   \n",
      "2024-11                     0.474862                0.384815  ...   \n",
      "2024-12                    -0.447199                0.040037  ...   \n",
      "2025-01                     0.288590                0.777850  ...   \n",
      "2025-02                    -0.895794                0.932803  ...   \n",
      "2025-03                    -0.077834               -0.161595  ...   \n",
      "\n",
      "           PEI_Precio cierre  PFAVAL_Precio cierre  PFBCOLOMBIA_Precio cierre  \\\n",
      "YearMonth                                                                       \n",
      "2024-06             0.589526                   NaN                   0.824802   \n",
      "2024-07             0.820630                   NaN                   0.812098   \n",
      "2024-08             0.868478                   NaN                   0.960289   \n",
      "2024-09             0.101458                   NaN                   0.935086   \n",
      "2024-10            -0.024499                   NaN                   0.936615   \n",
      "2024-11             0.839142                   NaN                   0.886927   \n",
      "2024-12             0.176046                   NaN                   0.733177   \n",
      "2025-01             0.459825                   NaN                   0.958455   \n",
      "2025-02            -0.412043                   NaN                   0.974987   \n",
      "2025-03             0.476301                   NaN                   0.870898   \n",
      "\n",
      "           PFCEMARGOS_Precio cierre  PFCORFICOL_Precio cierre  \\\n",
      "YearMonth                                                       \n",
      "2024-06                   -0.125134                  0.845580   \n",
      "2024-07                    0.227811                  0.925183   \n",
      "2024-08                    0.687790                  0.060729   \n",
      "2024-09                    0.475122                  0.281385   \n",
      "2024-10                   -0.568482                  0.935300   \n",
      "2024-11                    0.777639                  0.467570   \n",
      "2024-12                    0.135863                  0.264960   \n",
      "2025-01                   -0.111791                  0.792927   \n",
      "2025-02                   -0.488419                  0.863826   \n",
      "2025-03                   -0.420846                  0.686025   \n",
      "\n",
      "           PFDAVVNDA_Precio cierre  PFGRUPARG_Precio cierre  \\\n",
      "YearMonth                                                     \n",
      "2024-06                   0.900213                 0.604146   \n",
      "2024-07                   0.918443                 0.695311   \n",
      "2024-08                   0.205621                 0.772082   \n",
      "2024-09                  -0.355588                 0.383852   \n",
      "2024-10                   0.549110                 0.956987   \n",
      "2024-11                   0.733884                 0.775256   \n",
      "2024-12                   0.314783                -0.265076   \n",
      "2025-01                   0.601613                -0.014430   \n",
      "2025-02                   0.938076                 0.890935   \n",
      "2025-03                   0.790213                 0.410711   \n",
      "\n",
      "           PFGRUPOSURA_Precio cierre  PROMIGAS_Precio cierre  \\\n",
      "YearMonth                                                      \n",
      "2024-06                     0.194068                0.447639   \n",
      "2024-07                     0.935007               -0.552902   \n",
      "2024-08                     0.484749                0.335166   \n",
      "2024-09                     0.666731               -0.060351   \n",
      "2024-10                     0.834580               -0.217440   \n",
      "2024-11                     0.054045               -0.045059   \n",
      "2024-12                    -0.115372               -0.048672   \n",
      "2025-01                     0.956589               -0.685147   \n",
      "2025-02                     0.922473                0.076774   \n",
      "2025-03                     0.544557                0.405821   \n",
      "\n",
      "           TERPEL_Precio cierre  \n",
      "YearMonth                        \n",
      "2024-06                0.847937  \n",
      "2024-07                0.776125  \n",
      "2024-08                0.676514  \n",
      "2024-09               -0.464573  \n",
      "2024-10                0.755205  \n",
      "2024-11                0.907949  \n",
      "2024-12               -0.078926  \n",
      "2025-01                0.020825  \n",
      "2025-02                0.788476  \n",
      "2025-03                0.826176  \n",
      "\n",
      "[10 rows x 35 columns]\n"
     ]
    },
    {
     "name": "stderr",
     "output_type": "stream",
     "text": [
      "C:\\Users\\Admin\\AppData\\Local\\Temp\\ipykernel_33064\\3803546851.py:24: FutureWarning: DataFrame.fillna with 'method' is deprecated and will raise in a future version. Use obj.ffill() or obj.bfill() instead.\n",
      "  df_close.fillna(method='ffill', inplace=True)  # Fill forward\n",
      "C:\\Users\\Admin\\AppData\\Local\\Temp\\ipykernel_33064\\3803546851.py:25: FutureWarning: DataFrame.fillna with 'method' is deprecated and will raise in a future version. Use obj.ffill() or obj.bfill() instead.\n",
      "  df_close.fillna(method='bfill', inplace=True)  # Fill backward\n"
     ]
    }
   ],
   "source": [
    "import pandas as pd\n",
    "\n",
    "# Load the merged DataFrame\n",
    "df = pd.read_csv(\"Final_Merged_Data.csv\", sep=',', parse_dates=[\"Fecha\"])\n",
    "\n",
    "# Select only 'Close' price columns and 'COLCAP_Valor hoy'\n",
    "close_cols = [col for col in df.columns if \"cierre\" in col.lower() or col == 'COLCAP_Valor hoy']\n",
    "# Create a DataFrame with only 'Date', 'Close Price' columns, and 'COLCAP_Valor hoy'\n",
    "df_close = df[[\"Fecha\"] + close_cols].copy()\n",
    "\n",
    "# Ensure 'Date' column is in datetime format\n",
    "df_close[\"Fecha\"] = pd.to_datetime(df_close[\"Fecha\"])\n",
    "\n",
    "# Create 'YearMonth' column for grouping\n",
    "df_close[\"YearMonth\"] = df_close[\"Fecha\"].dt.to_period(\"M\")\n",
    "\n",
    "# Drop 'Date' and 'YearMonth' before correlation calculations\n",
    "df_corr = df_close.drop(columns=[\"Fecha\", \"YearMonth\"])\n",
    "\n",
    "# Compute monthly correlation and keep it as a DataFrame\n",
    "monthly_corr = df_close.groupby(\"YearMonth\").corr()\n",
    "\n",
    "# Handle missing data by forward-filling, then back-filling\n",
    "df_close.fillna(method='ffill', inplace=True)  # Fill forward\n",
    "df_close.fillna(method='bfill', inplace=True)  # Fill backward\n",
    "\n",
    "# Select the specific stock for correlation analysis\n",
    "target_stock = \"COLCAP_Valor hoy\"  # Replace with your chosen stock column name\n",
    "\n",
    "# **1️⃣ Calculate Historical Correlation (Full Period)**\n",
    "historical_corr = df_corr.corr()[target_stock].drop(target_stock, errors=\"ignore\")\n",
    "# **2️⃣ Calculate Monthly Correlation**\n",
    "monthly_corr = monthly_corr.xs(target_stock, level=1, axis=0)\n",
    "\n",
    "# Drop self-correlation if needed\n",
    "monthly_corr = monthly_corr.drop(target_stock, axis=1, errors=\"ignore\")\n",
    "\n",
    "# Save results\n",
    "historical_corr.to_csv(\"Historical_Correlation.csv\")\n",
    "monthly_corr.to_csv(\"Monthly_Correlation.csv\")\n",
    "\n",
    "# Display results\n",
    "print(\"📌 Historical Correlation with\", target_stock)\n",
    "print(historical_corr)\n",
    "\n",
    "print(\"\\n📌 Monthly Correlation with\", target_stock)\n",
    "print(monthly_corr.tail(10))  # Show last 10 months\n"
   ]
  },
  {
   "cell_type": "code",
   "execution_count": 9,
   "metadata": {},
   "outputs": [
    {
     "name": "stdout",
     "output_type": "stream",
     "text": [
      "\n",
      "📌 Monthly Correlation with COLCAP_Valor hoy\n",
      "              Fecha  BCOLOMBIA_Precio cierre  BHI_Precio cierre  \\\n",
      "YearMonth                                                         \n",
      "2024-06   -0.803547                 0.812968          -0.635920   \n",
      "2024-07   -0.933455                -0.755698           0.881120   \n",
      "2024-08    0.570673                 0.786307           0.836415   \n",
      "2024-09   -0.502952                 0.601449          -0.055271   \n",
      "2024-10    0.824427                 0.927518           0.342642   \n",
      "2024-11    0.799381                 0.832900          -0.549955   \n",
      "2024-12   -0.365355                 0.757821           0.167488   \n",
      "2025-01    0.634973                 0.950209           0.198755   \n",
      "2025-02    0.929579                 0.965638           0.858792   \n",
      "2025-03    0.498211                 0.847708           0.470786   \n",
      "\n",
      "           BOGOTA_Precio cierre  BVC_Precio cierre  CELSIA_Precio cierre  \\\n",
      "YearMonth                                                                  \n",
      "2024-06                0.643490          -0.552582              0.647528   \n",
      "2024-07                0.636475                NaN              0.591689   \n",
      "2024-08                0.443808          -0.496210              0.676309   \n",
      "2024-09                0.397117           0.598044              0.755585   \n",
      "2024-10                0.445170          -0.399590             -0.451120   \n",
      "2024-11               -0.130573          -0.272559             -0.468979   \n",
      "2024-12                0.459274           0.202125              0.195644   \n",
      "2025-01                0.849637           0.896351             -0.274657   \n",
      "2025-02                0.839961           0.548603              0.829080   \n",
      "2025-03                0.580629           0.644714              0.779727   \n",
      "\n",
      "           CEMARGOS_Precio cierre  CNEC_Precio cierre  \\\n",
      "YearMonth                                               \n",
      "2024-06                 -0.170003           -0.403879   \n",
      "2024-07                  0.273640            0.279999   \n",
      "2024-08                  0.794299            0.065681   \n",
      "2024-09                  0.447425            0.850588   \n",
      "2024-10                  0.731215           -0.736947   \n",
      "2024-11                  0.881931            0.907515   \n",
      "2024-12                 -0.100604            0.470993   \n",
      "2025-01                  0.095396           -0.118249   \n",
      "2025-02                 -0.131747            0.004128   \n",
      "2025-03                  0.275575            0.542133   \n",
      "\n",
      "           CONCONCRETO_Precio cierre  CORFICOL_Precio cierre  ...  \\\n",
      "YearMonth                                                     ...   \n",
      "2024-06                     0.577000                0.865752  ...   \n",
      "2024-07                     0.648343                0.889427  ...   \n",
      "2024-08                     0.706363                0.298939  ...   \n",
      "2024-09                     0.811737                0.460144  ...   \n",
      "2024-10                     0.606750                0.922400  ...   \n",
      "2024-11                     0.474862                0.384815  ...   \n",
      "2024-12                    -0.447199                0.040037  ...   \n",
      "2025-01                     0.288590                0.777850  ...   \n",
      "2025-02                    -0.895794                0.932803  ...   \n",
      "2025-03                    -0.077834               -0.161595  ...   \n",
      "\n",
      "           PEI_Precio cierre  PFAVAL_Precio cierre  PFBCOLOMBIA_Precio cierre  \\\n",
      "YearMonth                                                                       \n",
      "2024-06             0.589526                   NaN                   0.824802   \n",
      "2024-07             0.820630                   NaN                   0.812098   \n",
      "2024-08             0.868478                   NaN                   0.960289   \n",
      "2024-09             0.101458                   NaN                   0.935086   \n",
      "2024-10            -0.024499                   NaN                   0.936615   \n",
      "2024-11             0.839142                   NaN                   0.886927   \n",
      "2024-12             0.176046                   NaN                   0.733177   \n",
      "2025-01             0.459825                   NaN                   0.958455   \n",
      "2025-02            -0.412043                   NaN                   0.974987   \n",
      "2025-03             0.476301                   NaN                   0.870898   \n",
      "\n",
      "           PFCEMARGOS_Precio cierre  PFCORFICOL_Precio cierre  \\\n",
      "YearMonth                                                       \n",
      "2024-06                   -0.125134                  0.845580   \n",
      "2024-07                    0.227811                  0.925183   \n",
      "2024-08                    0.687790                  0.060729   \n",
      "2024-09                    0.475122                  0.281385   \n",
      "2024-10                   -0.568482                  0.935300   \n",
      "2024-11                    0.777639                  0.467570   \n",
      "2024-12                    0.135863                  0.264960   \n",
      "2025-01                   -0.111791                  0.792927   \n",
      "2025-02                   -0.488419                  0.863826   \n",
      "2025-03                   -0.420846                  0.686025   \n",
      "\n",
      "           PFDAVVNDA_Precio cierre  PFGRUPARG_Precio cierre  \\\n",
      "YearMonth                                                     \n",
      "2024-06                   0.900213                 0.604146   \n",
      "2024-07                   0.918443                 0.695311   \n",
      "2024-08                   0.205621                 0.772082   \n",
      "2024-09                  -0.355588                 0.383852   \n",
      "2024-10                   0.549110                 0.956987   \n",
      "2024-11                   0.733884                 0.775256   \n",
      "2024-12                   0.314783                -0.265076   \n",
      "2025-01                   0.601613                -0.014430   \n",
      "2025-02                   0.938076                 0.890935   \n",
      "2025-03                   0.790213                 0.410711   \n",
      "\n",
      "           PFGRUPOSURA_Precio cierre  PROMIGAS_Precio cierre  \\\n",
      "YearMonth                                                      \n",
      "2024-06                     0.194068                0.447639   \n",
      "2024-07                     0.935007               -0.552902   \n",
      "2024-08                     0.484749                0.335166   \n",
      "2024-09                     0.666731               -0.060351   \n",
      "2024-10                     0.834580               -0.217440   \n",
      "2024-11                     0.054045               -0.045059   \n",
      "2024-12                    -0.115372               -0.048672   \n",
      "2025-01                     0.956589               -0.685147   \n",
      "2025-02                     0.922473                0.076774   \n",
      "2025-03                     0.544557                0.405821   \n",
      "\n",
      "           TERPEL_Precio cierre  \n",
      "YearMonth                        \n",
      "2024-06                0.847937  \n",
      "2024-07                0.776125  \n",
      "2024-08                0.676514  \n",
      "2024-09               -0.464573  \n",
      "2024-10                0.755205  \n",
      "2024-11                0.907949  \n",
      "2024-12               -0.078926  \n",
      "2025-01                0.020825  \n",
      "2025-02                0.788476  \n",
      "2025-03                0.826176  \n",
      "\n",
      "[10 rows x 35 columns]\n"
     ]
    }
   ],
   "source": [
    "print(\"\\n📌 Monthly Correlation with\", target_stock)\n",
    "print(monthly_corr.tail(10))  # Show last 10 months\n"
   ]
  },
  {
   "cell_type": "code",
   "execution_count": 10,
   "metadata": {},
   "outputs": [
    {
     "data": {
      "application/vnd.plotly.v1+json": {
       "config": {
        "plotlyServerURL": "https://plot.ly"
       },
       "data": [
        {
         "coloraxis": "coloraxis",
         "hovertemplate": "Month: %{x}<br>Stock: %{y}<br>Correlation: %{z}<extra></extra>",
         "name": "0",
         "type": "heatmap",
         "x": [
          "2020-03",
          "2020-04",
          "2020-05",
          "2020-06",
          "2020-07",
          "2020-08",
          "2020-09",
          "2020-10",
          "2020-11",
          "2020-12",
          "2021-01",
          "2021-02",
          "2021-03",
          "2021-04",
          "2021-05",
          "2021-06",
          "2021-07",
          "2021-08",
          "2021-09",
          "2021-10",
          "2021-11",
          "2021-12",
          "2022-01",
          "2022-02",
          "2022-03",
          "2022-04",
          "2022-05",
          "2022-06",
          "2022-07",
          "2022-08",
          "2022-09",
          "2022-10",
          "2022-11",
          "2022-12",
          "2023-01",
          "2023-02",
          "2023-03",
          "2023-04",
          "2023-05",
          "2023-06",
          "2023-07",
          "2023-08",
          "2023-09",
          "2023-10",
          "2023-11",
          "2023-12",
          "2024-01",
          "2024-02",
          "2024-03",
          "2024-04",
          "2024-05",
          "2024-06",
          "2024-07",
          "2024-08",
          "2024-09",
          "2024-10",
          "2024-11",
          "2024-12",
          "2025-01",
          "2025-02",
          "2025-03"
         ],
         "xaxis": "x",
         "y": [
          "Fecha",
          "BCOLOMBIA_Precio cierre",
          "BHI_Precio cierre",
          "BOGOTA_Precio cierre",
          "BVC_Precio cierre",
          "CELSIA_Precio cierre",
          "CEMARGOS_Precio cierre",
          "CNEC_Precio cierre",
          "CONCONCRETO_Precio cierre",
          "CORFICOL_Precio cierre",
          "ECOPETROL_Precio cierre",
          "ENKA_Precio cierre",
          "ETB_Precio cierre",
          "EXITO_Precio cierre",
          "FABRICATO_Precio cierre",
          "GEB_Precio cierre",
          "GRUBOLIVAR_Precio cierre",
          "GRUPOARGOS_Precio cierre",
          "GRUPOAVAL_Precio cierre",
          "GRUPOSURA_Precio cierre",
          "GXTESCOL_Precio cierre",
          "HCOLSEL_Precio cierre",
          "ISA_Precio cierre",
          "MINEROS_Precio cierre",
          "NUTRESA_Precio cierre",
          "PEI_Precio cierre",
          "PFAVAL_Precio cierre",
          "PFBCOLOMBIA_Precio cierre",
          "PFCEMARGOS_Precio cierre",
          "PFCORFICOL_Precio cierre",
          "PFDAVVNDA_Precio cierre",
          "PFGRUPARG_Precio cierre",
          "PFGRUPOSURA_Precio cierre",
          "PROMIGAS_Precio cierre",
          "TERPEL_Precio cierre"
         ],
         "yaxis": "y",
         "z": [
          [
           0.39900239014945,
           0.059802634488944906,
           -0.3920311971745591,
           -0.420907205611656,
           0.7913803606261647,
           0.9369948489467771,
           -0.9628980626094729,
           -0.44061088965973355,
           0.946739680254395,
           0.873196629711945,
           -0.601987998886975,
           -0.43956186010050197,
           -0.784956405035374,
           -0.8970505467488862,
           -0.5412299477395958,
           0.4082032408693031,
           -0.7464675342600556,
           0.9040513121497956,
           0.34707255460353115,
           0.5896852485859881,
           -0.7192269939141491,
           -0.26023325626328503,
           0.8131628079932471,
           -0.3169871566083639,
           0.815810724434988,
           -0.7899660323996699,
           -0.441216518562866,
           -0.9773419065194429,
           -0.663730167016341,
           -0.24661862808252208,
           -0.8592933038829368,
           0.45979904076306094,
           0.1325002912556953,
           0.5566135428922243,
           -0.09497542810549649,
           -0.9459405685295216,
           -0.7478488213939255,
           0.042218807413512034,
           -0.9518839960427393,
           -0.5081423042446097,
           0.7840613999340336,
           -0.9418000608984795,
           0.8184471828265847,
           -0.27531779146690266,
           0.9494485831054313,
           0.8387295077006865,
           0.233027839115475,
           0.1723252127977144,
           0.6240984935937212,
           -0.513296586469765,
           0.5362324345479188,
           -0.803547345121259,
           -0.9334547285746742,
           0.5706729671570165,
           -0.5029520113165764,
           0.8244269372174222,
           0.7993814151295604,
           -0.3653552275735569,
           0.6349726300197325,
           0.9295789639103076,
           0.4982111398694657
          ],
          [
           0.9147693362460754,
           0.868561582627514,
           0.8840014320254236,
           0.9560019745759764,
           0.5380473494793436,
           0.9180209430221652,
           0.976841891752351,
           0.6843473987129108,
           0.9661319353527373,
           0.9773230781068636,
           0.7647606783913002,
           0.7944599003180702,
           0.7221983672798057,
           0.8272840879262702,
           0.9294132164795376,
           0.08098201460646548,
           0.22830973784972114,
           0.9949105862840971,
           0.962941351951111,
           0.8318305214952433,
           0.9621491863043281,
           0.8470284989325648,
           0.9821271878880571,
           0.8233836325461457,
           0.9588925678804754,
           0.9083370466871282,
           0.7464886905558961,
           0.9557806173783532,
           0.2066684171834643,
           0.8554488126059347,
           0.8513940803643885,
           0.6528860041651485,
           0.5535572464810913,
           0.1995411739210555,
           0.8990082228105634,
           0.9202484072380472,
           0.9462105399774084,
           0.8664819620935789,
           0.9590245390338942,
           0.9552914860323409,
           0.9275685535101595,
           0.950436731640428,
           0.8325187149468349,
           0.738292272230357,
           0.2725598473335571,
           0.8214001289806756,
           0.39429208214368616,
           0.6993022824438248,
           0.8966725942114987,
           0.860699349534896,
           0.921176368831639,
           0.8129679370270808,
           -0.7556979607107307,
           0.7863072767161768,
           0.6014493490785582,
           0.9275178775690662,
           0.8329004526524153,
           0.7578210221994071,
           0.9502090913687269,
           0.9656383096090528,
           0.847707759815022
          ],
          [
           null,
           null,
           null,
           null,
           null,
           null,
           null,
           null,
           null,
           null,
           null,
           null,
           null,
           null,
           null,
           null,
           null,
           null,
           null,
           null,
           null,
           null,
           null,
           null,
           -0.5986965755445466,
           0.4422277299033306,
           0.033394567174077225,
           0.929535968156151,
           0.37639936156849685,
           0.45971489322916304,
           0.6044093897279665,
           0.45233132831720485,
           -0.23990713582575315,
           -0.5053759804731525,
           0.6002249744316805,
           0.9475335840073593,
           0.17983284984703965,
           0.6558467615217372,
           0.9030386827852429,
           -0.3384555830983087,
           0.7370828007818901,
           0.5240326292431996,
           -0.6601176138792142,
           -0.37845163848147667,
           -0.29217974573430555,
           0.16131993552715027,
           0.7842971467457825,
           -0.08278010383069406,
           0.8457863432494267,
           0.15605639214382713,
           0.16468008740287246,
           -0.6359201455120296,
           0.8811202397616107,
           0.8364152085409035,
           -0.05527142265978324,
           0.34264228631302357,
           -0.5499547589790623,
           0.1674882618570538,
           0.19875500434770899,
           0.8587916369861438,
           0.47078586737785993
          ],
          [
           0.751578047661568,
           0.4146417684651228,
           0.600387474772242,
           0.3456821494026168,
           0.9201119903008428,
           0.9726171300515648,
           0.6366481236536793,
           0.06260955781887959,
           0.7383660153044326,
           0.8678680342667856,
           -0.5955412643542776,
           -0.001522262803583862,
           0.27729949123214426,
           0.07965655696889502,
           0.6160678822590584,
           -0.15334187040097513,
           0.7055454068911986,
           0.9080121093384367,
           0.030296903154051095,
           0.3655578630959814,
           0.6156972649288189,
           0.23481013237101142,
           0.8337308758082416,
           0.14556753216685975,
           -0.6943378766941242,
           0.5640878824201003,
           -0.1162478772302471,
           0.9067573481827557,
           0.8615511484906802,
           0.641158376504326,
           0.9426022190378138,
           -0.4141582847087483,
           0.1417007866667897,
           0.7265047208289831,
           0.6305079925014608,
           0.8810047492545828,
           -0.6923569822734403,
           0.6787154303584501,
           0.8876742506564573,
           0.7062982535283425,
           0.3445722566554869,
           0.826528599610037,
           -0.18205596268089258,
           0.7937668570287298,
           -0.6989421157325268,
           0.7584225543523431,
           0.2290595881932056,
           0.561402497940282,
           -0.5403277120344984,
           0.3876930530317983,
           -0.16751556724292666,
           0.6434904682586201,
           0.6364746509804242,
           0.4438079075682196,
           0.39711743766199425,
           0.4451695767467858,
           -0.13057340920143373,
           0.45927351639991815,
           0.8496368562442514,
           0.8399610310281432,
           0.5806286753856473
          ],
          [
           0.28345277573963457,
           -0.08080100649050524,
           0.3898732228151284,
           0.09018521552052253,
           0.6321006793103071,
           0.5898715489409047,
           0.6536266074669614,
           0.3975886284946951,
           0.8206688170275548,
           0.784471495868079,
           0.29120578911217637,
           0.09335833003205238,
           0.15569629550039193,
           -0.15843931047339477,
           0.0327088645011016,
           -0.17486705323887655,
           0.6417288489070068,
           -0.15552838403277902,
           0.4637268892725111,
           0.7320048626755443,
           0.8544989067742118,
           0.43945736704309957,
           0.9343038427463035,
           0.6181272703599713,
           -0.3738692487579639,
           0.2440298558462848,
           0.6866095911484777,
           0.9534991416226433,
           0.614892353716841,
           0.15692143103083198,
           0.28353073592800976,
           -0.17222208627224814,
           -0.5502059264160604,
           -0.3271059557606392,
           -0.5274411598159936,
           -0.7178361460999914,
           -0.856170587363699,
           -0.059990016623894776,
           -0.5270960969161697,
           0.28341862578291754,
           0.7462703785663567,
           0.328508387476906,
           -0.07714699879104443,
           -0.03993339678856988,
           0.9398200066923184,
           0.45123265491866826,
           -0.05602307095144992,
           0.20493524099852556,
           0.4250034454310689,
           0.4123088978326254,
           0.34033908137023267,
           -0.5525815391996942,
           null,
           -0.4962101771516887,
           0.5980437958030483,
           -0.39958985013929715,
           -0.27255871622033107,
           0.2021253670443726,
           0.8963512331040693,
           0.5486025160517555,
           0.6447135419981419
          ],
          [
           0.8244942520089868,
           0.4971738978295845,
           0.7536750791825713,
           0.6457434269156925,
           0.9165562721724733,
           0.9715857567245128,
           0.4427680345497328,
           0.7493723623613572,
           0.7864889729948887,
           0.6411078751482964,
           -0.28051973420784115,
           0.4730582787080477,
           0.2397607503742662,
           0.9445038109724679,
           0.8601267242168985,
           0.04855912699722846,
           0.8998963126553753,
           0.9045099501518374,
           0.38782554297246635,
           0.3510734201131366,
           0.6363699465386523,
           0.4489640443806801,
           0.873019372668311,
           0.3877264006673141,
           0.6584543786813265,
           0.5501231879421374,
           0.3488741105218606,
           0.9726360570910705,
           0.7178090991721132,
           0.7706533939587278,
           0.8439941148330912,
           -0.34836227012575516,
           0.5270922217225573,
           0.20606415866863165,
           0.8008203174820077,
           0.6905051027669412,
           -0.5755892435232003,
           0.5353934233098601,
           0.7425622538874501,
           0.7206738014902492,
           -0.058272742749761464,
           0.7703255368387436,
           0.5602378745966394,
           0.4107531130948172,
           0.6240115967671815,
           0.8914099433936052,
           0.23273977377360666,
           0.6633155965911277,
           0.3936376710422566,
           0.7199685239564533,
           0.8053717676818717,
           0.6475276690755698,
           0.5916885055546539,
           0.6763087125601799,
           0.7555846038590117,
           -0.4511202576986655,
           -0.4689786156168629,
           0.19564428716601312,
           -0.27465678051138265,
           0.8290802850170322,
           0.7797270546338656
          ],
          [
           0.9823662027029123,
           0.16479028431589365,
           0.6146761698347913,
           0.8059574052689641,
           0.9608320512376908,
           0.9805848467012525,
           0.9094460210215797,
           0.8274312582615927,
           0.9431099384207727,
           0.9432504436696176,
           0.29624516251196864,
           0.40206181517212763,
           0.8842914497508001,
           0.4332636673774037,
           0.9584190958580905,
           0.7353401040239378,
           -0.004371024481429493,
           0.9267415350840652,
           0.5026474848139352,
           0.7380822540595351,
           0.7258229236391696,
           0.1576326906731231,
           0.901885499264113,
           0.3078912068024948,
           0.6454745623296724,
           0.8275801423172766,
           0.8428860093462158,
           0.9615560162387363,
           0.8371611636403926,
           0.4562860950485049,
           0.8082230056295451,
           -0.0345365705132524,
           0.45548655122697296,
           0.2568517128555497,
           0.5646659826722896,
           0.6468952081426953,
           -0.684312193406228,
           0.8244455566794846,
           -0.28975829541804426,
           0.8895462636274041,
           0.8242825064439714,
           0.9249586827007865,
           0.658440732081775,
           -0.06041326964556361,
           0.9198176542511223,
           0.6901281255019327,
           0.6391952983936985,
           0.6430461263358006,
           0.7603951350740108,
           0.6843182459863449,
           0.5298121340299407,
           -0.17000298423345578,
           0.27364043955381634,
           0.7942986681458027,
           0.44742464924620534,
           0.7312145074757481,
           0.8819314099587171,
           -0.10060427412303749,
           0.09539584673528775,
           -0.1317474003045663,
           0.2755745052683223
          ],
          [
           0.513040830110947,
           -0.03519347188649843,
           0.03162480242087356,
           0.5125836614310278,
           0.037648842942022843,
           0.7143345467266661,
           0.29948115924234564,
           -0.32101413822257474,
           0.8483716877714644,
           -0.540080407696423,
           -0.5583492647194436,
           0.5568446067296933,
           -0.09182600042503135,
           0.14797777909424112,
           0.26342407771651766,
           0.6186073266108364,
           0.8562398220710115,
           -0.5856432212721512,
           0.18140677896003737,
           0.6841874419313151,
           0.7598076622601441,
           0.3056261352726547,
           0.15636901283110732,
           0.507201427428592,
           -0.39504241634731735,
           0.8928726217681243,
           0.757311914949512,
           0.8864671604119618,
           0.5546741155167102,
           -0.11932064994895587,
           0.9422610700616935,
           0.605341190206075,
           0.23404317317335616,
           0.5990300915196765,
           -0.34018221290734213,
           0.9247471427068047,
           0.6350882315576097,
           -0.12551501190181893,
           -0.8386665610605358,
           0.5615409570891023,
           0.6049629698926987,
           0.9027736476848599,
           -0.7682483852267288,
           0.6014357279908717,
           0.3420483869247795,
           0.3263932339958326,
           -0.1684989618943466,
           0.1166210774138216,
           -0.4105897202873062,
           -0.17511376669947562,
           0.06035452434587991,
           -0.40387924945988735,
           0.2799987172437249,
           0.06568099299451029,
           0.8505880679092073,
           -0.7369474650770007,
           0.9075151055442907,
           0.4709931991296984,
           -0.11824855922245199,
           0.004128481862320518,
           0.5421326994483513
          ],
          [
           -0.43477189504572866,
           -0.02747896143161425,
           0.6223952682673358,
           0.34012132999639205,
           0.6950636472698188,
           -0.03725682379345525,
           0.7587141895600051,
           0.4313411502042381,
           0.8386673274975291,
           0.44857852385149893,
           -0.07248749467089617,
           -0.3215910773815891,
           0.4682905941507279,
           0.9336078139815198,
           0.6049272553662485,
           0.16178352070200205,
           0.7686133479668501,
           0.7788943807649173,
           -0.3745451269327567,
           -0.6660786995273317,
           0.6787879987579714,
           -0.7360265056594998,
           0.6218952746422926,
           0.7730300757097094,
           -0.11474954872633336,
           0.7352351983286984,
           0.6494820377300329,
           0.9145020913086626,
           0.5678401237446404,
           0.7931981107920456,
           0.0033630051639035345,
           -0.3535606728268245,
           0.35265877044920946,
           -0.33337524818986564,
           -0.04112837371360909,
           0.9098472987293309,
           -0.15652329436971846,
           0.647675509187058,
           0.498486207474365,
           0.3060733500563119,
           0.6490328138764699,
           0.8452778519034558,
           0.46620905191657086,
           -0.6520815553463312,
           -0.7536469410430676,
           0.8393695219612517,
           0.4280414896602776,
           0.020355996006125407,
           -0.24688914906964557,
           -0.1957246347832395,
           0.5602810744130297,
           0.5769997811056271,
           0.6483433842942558,
           0.7063630321247704,
           0.8117366087779248,
           0.6067502968214502,
           0.47486244214370793,
           -0.4471993482337891,
           0.28858986283005617,
           -0.8957941352211367,
           -0.07783367122745503
          ],
          [
           0.9306382247765809,
           0.4712496959327529,
           0.7544820687067105,
           0.4769616648322893,
           -0.524500653808669,
           0.8687639600730562,
           0.8558746210075652,
           -0.16330648210534374,
           0.9054389893057544,
           0.8499786947943843,
           -0.36159344747790284,
           -0.020717931427643183,
           0.07887888697518163,
           0.25940500667305383,
           0.7068747708062973,
           0.4862232788688385,
           0.8601629746323927,
           0.551187303658628,
           0.05860658181857779,
           0.7810343028063689,
           0.8405868647175682,
           0.4828956608777363,
           0.8972436136732919,
           0.30364059197264925,
           0.5166537259480268,
           -0.7837674807371774,
           0.642466714576963,
           0.9621076346918407,
           0.8616144988239824,
           -0.2759396834370818,
           0.7498962339001645,
           -0.019610277378579965,
           0.5868247547815149,
           -0.2948579454662292,
           0.641153278695365,
           0.937083674529481,
           -0.07103853160430984,
           0.4938332522825558,
           -0.7113563766932184,
           0.8274306497600645,
           0.851140831744511,
           0.9196490541867138,
           0.8684172245145148,
           0.3982411298612245,
           -0.7740316909400828,
           0.7683544040652447,
           0.7826448970629462,
           -0.008777421041593259,
           -0.14062251983765264,
           0.3490208752167012,
           0.8572189709860892,
           0.8657515615805857,
           0.8894265664430333,
           0.2989392003219655,
           0.46014380325572957,
           0.9224004782549483,
           0.3848150233871677,
           0.04003741545633431,
           0.7778501989344391,
           0.9328031818624035,
           -0.16159475579856838
          ],
          [
           0.9512665423073577,
           0.4893664855647181,
           0.49151073985878624,
           0.9592597726703556,
           0.8513969188286687,
           0.22647427999055236,
           0.9120491415104062,
           0.8644985932385134,
           0.9442893029774263,
           0.8351535840973597,
           0.9208688670222108,
           -0.13907304345059399,
           0.11850525420381562,
           0.5655021597409401,
           0.8855441119249848,
           0.6297263545412161,
           0.6699666810533952,
           0.3423448804113281,
           0.9398247195406075,
           0.8845283487647333,
           0.7589190046348904,
           0.4700221417472936,
           0.9625591194950341,
           0.05960453034912907,
           0.9086565378401518,
           0.8369869546750847,
           0.8998289751325114,
           0.970701718260828,
           0.7740374722985289,
           0.08337665668723003,
           0.9332117647576804,
           0.8927552278096149,
           0.3019200843446853,
           0.9143415259123059,
           0.7389857062069463,
           -0.29440425016519073,
           0.9516288490342993,
           0.5708468969438506,
           0.06385037786427676,
           0.386297577106445,
           0.7575768854321444,
           -0.364864844421978,
           -0.052654008975459125,
           0.6649832075204761,
           0.7332909309896588,
           -0.5597141739730184,
           0.08748932559768167,
           0.7614344341868838,
           -0.3296775197582227,
           0.2680524967383065,
           0.5239921432428336,
           0.28457944493938253,
           0.8542121013641236,
           -0.07141095730379379,
           0.6549988790469636,
           -0.844391829493382,
           0.8116406690303812,
           0.36409237193849336,
           0.7764649053047825,
           0.6006193969000974,
           0.832893177198463
          ],
          [
           null,
           0.2092853762151053,
           -0.5419655650021448,
           -0.07541946124132137,
           0.4993624039688967,
           -0.8292846853618169,
           0.49567057934330444,
           null,
           -0.6304065165964967,
           0.6794463686606637,
           0.5247812238226288,
           -0.625138400482878,
           -0.7028256479304498,
           -0.1888230182773624,
           0.10180819012835386,
           -0.21458485809235,
           0.590724012425836,
           0.9397965139516107,
           0.04363042851447973,
           0.1899955989701903,
           0.8541041342334559,
           0.6562721834894754,
           0.7121681842030105,
           -0.06912333650844175,
           -0.773126877378266,
           0.22963491364995436,
           0.6410301806576604,
           0.967421723418934,
           -0.04517052665852391,
           0.2100871779237575,
           -0.8402088453317867,
           0.3805005791994887,
           -0.23086080864393518,
           -0.3563390705642739,
           null,
           0.8230734645200665,
           -0.6779621159920417,
           0.013368940909516364,
           0.9046068778556361,
           -0.22968110893243307,
           -0.9262684064884845,
           0.8345711084882895,
           null,
           null,
           -0.7008757160795772,
           -0.7376468991682501,
           0.14823959400985812,
           null,
           -0.27908137252871773,
           0.10030050516093507,
           -0.36454289911863125,
           0.7184077420743965,
           0.6861376801504505,
           0.018711278371811316,
           -0.07214107682303064,
           0.29586328066831763,
           -0.679577623243258,
           0.2959336968739031,
           0.7200608026533761,
           0.542481377408356,
           0.553446568825399
          ],
          [
           0.44110413810593246,
           0.35320120692912255,
           0.2914322691720051,
           0.29980174224351264,
           0.18293384029298748,
           0.4316734608514718,
           0.23516762364765043,
           -0.012905999344010075,
           0.8883388339987665,
           0.32777156853550365,
           0.4116441819181544,
           -0.2700100892898541,
           0.5404169234893967,
           0.6320319354349152,
           0.7643859909877789,
           -0.06266275984358215,
           0.5882042959976822,
           0.6248046624691058,
           0.1475900723253692,
           0.20535427467701067,
           0.6613707160591137,
           0.7379123280837216,
           -0.4908225158327332,
           -0.04623504725267048,
           -0.4798355163438608,
           0.8039921919841337,
           0.23622650737361345,
           0.22018469095497822,
           0.5436529794471939,
           0.6026737781616688,
           0.563344573655147,
           -0.5166770482189532,
           -0.16298474335918586,
           -0.4517977771740276,
           0.30126694351703104,
           null,
           0.3661070028685336,
           0.22587409077756365,
           -0.31449514066610634,
           -0.039699440803787185,
           -0.649597265284484,
           -0.49315763517376165,
           null,
           -0.32348134175739973,
           -0.6534166221923675,
           0.7300583167387039,
           -0.13752896673955978,
           -0.4815564750796606,
           null,
           -0.42506388571389364,
           0.10569455948852552,
           -0.3255963598753527,
           0.8447264267752908,
           null,
           0.06394124395466352,
           null,
           -0.4724615320432712,
           null,
           -0.4698391391119141,
           -0.4503803005052984,
           -0.5586044371705245
          ],
          [
           -0.26462437192109856,
           -0.4666387164695267,
           -0.09781287679235165,
           0.6365418051747314,
           0.293680186983343,
           0.9209264156570055,
           0.8724719455028352,
           0.537897596737119,
           0.8475568953089616,
           0.5755144568669578,
           -0.24718975698071768,
           0.13980898441633674,
           0.1437255713312163,
           0.7473537873651238,
           0.6704650515747165,
           0.6034093659396549,
           0.12540113317766347,
           -0.05697351692046442,
           -0.1967983987470562,
           0.11470787486836147,
           0.44519567817119826,
           -0.07773784434681308,
           0.8931123446416354,
           0.15107413045015455,
           0.3360671172302653,
           0.5491608929713043,
           0.6506930527119258,
           0.9386934227395292,
           0.7120511480526238,
           0.08818420910403692,
           0.6909435886490656,
           -0.1436915945122081,
           0.2553839262241273,
           -0.6266257233139192,
           0.26769570586972763,
           -0.6342458950789106,
           -0.6056371034949766,
           -0.35322655624722765,
           -0.6545014623565644,
           -0.3477999294306972,
           0.2661124424846172,
           0.8691225578763419,
           -0.04419877159657703,
           -0.058751016766650815,
           -0.4529142372115952,
           -0.27971617137512617,
           0.08864151701316444,
           0.336459876234534,
           0.35493944340841854,
           0.6596023559593578,
           -0.5676113799004808,
           0.6728629978103752,
           -0.47073245145549253,
           0.36175694216993176,
           0.40965240451643264,
           0.19409842620200113,
           -0.8486722459152998,
           -0.07775328688768174,
           -0.49803788589780323,
           0.34400899944796914,
           -0.013557302980551814
          ],
          [
           null,
           0.07918957290585056,
           null,
           0.03349479285659345,
           0.19241247477462103,
           0.4742385002947094,
           0.8115979474108768,
           null,
           0.7422939006449963,
           0.266385654448049,
           0.6888417027296985,
           0.4644227957247132,
           0.699087369557917,
           null,
           -0.653356528645493,
           -0.2948160196255322,
           -0.03959390475479062,
           0.4935862462262603,
           0.7534043022034903,
           -0.22578138114605745,
           0.6182587181309671,
           -0.6809034628334307,
           0.8455493031015526,
           -0.3704157330711211,
           -0.3820036088697116,
           -0.002506902747327434,
           0.7925931534004277,
           0.7323980985114473,
           -0.3423054939147536,
           -0.3507626212996381,
           0.8204399699763526,
           0.5658124349722949,
           -0.4518013059956834,
           -0.5296711067960438,
           -0.5025897054524027,
           null,
           0.7510172667150549,
           -0.18554616653324696,
           0.7821851106686264,
           null,
           null,
           0.8606263131253864,
           null,
           null,
           null,
           null,
           -0.4001778347678208,
           -0.6262573911530345,
           0.2522729735755554,
           null,
           0.15071326147695197,
           null,
           null,
           null,
           null,
           -0.22577172913190383,
           null,
           0.5211638144963244,
           -0.40410938010522474,
           0.7968375280775825,
           null
          ],
          [
           0.4224874937494558,
           0.7400714645551326,
           0.39956602240496647,
           0.12911439110414188,
           -0.06481666680356944,
           0.9398486459463169,
           -0.34985407294026766,
           0.8602060116958609,
           0.8671574574225706,
           -0.479292809972052,
           -0.19396734813814634,
           0.42955261186805993,
           -0.37606275821735585,
           0.5774371100263435,
           0.8796731983487394,
           0.429000229480415,
           0.3601746748073439,
           0.9515860788929412,
           0.4295999739373985,
           0.18718326259736046,
           0.789495926920281,
           0.5529092731269792,
           0.9270826565014625,
           0.47439508746512604,
           -0.1481728828632494,
           -0.30273318882833533,
           0.7448990019018051,
           0.9194124510239557,
           0.8173217542514661,
           0.6985259701172921,
           0.4976288909086599,
           -0.39008840319127436,
           0.14394462755589726,
           -0.4221522115194008,
           0.3931801408222577,
           0.8759068311398738,
           -0.13033722028807904,
           0.03755498045799972,
           0.22619044401953547,
           0.7790691435505585,
           -0.0067900571121421935,
           0.6730921405353781,
           0.28632046529129734,
           -0.3175932641579346,
           0.9241300199497513,
           0.4760774086008274,
           0.9133914421229055,
           0.8591449768388337,
           0.33181422802677174,
           0.9583150519678592,
           0.5406689388901834,
           0.5426431795089799,
           0.718294532907622,
           0.603903602441641,
           0.12287547303599947,
           0.8239270829013788,
           0.9182154315044091,
           0.7104420381477429,
           0.8791638874078146,
           0.7425186040829057,
           0.7977038438789513
          ],
          [
           0.3016074584681601,
           0.6393418680388652,
           0.748673191230179,
           0.07619679638869446,
           0.6301581937775325,
           0.6924816568660247,
           0.8038107905805298,
           0.7013608577872825,
           0.9104918726917751,
           0.8820323709286485,
           0.9044241960414425,
           0.46657812328387366,
           0.25459418647336707,
           -0.5151779689564755,
           -0.08208287601084073,
           -0.4302326424713004,
           0.5362503594536714,
           0.7434891669000364,
           0.1206399443023344,
           -0.45315199777703796,
           -0.4341778293051724,
           0.17103469717310288,
           0.728882885711984,
           0.4006559761082881,
           -0.1391773794703483,
           -0.4988922374250029,
           0.7375799336429512,
           0.9306189298644449,
           0.7630371228261753,
           0.4587953332693342,
           0.6742114784673882,
           0.732552955350551,
           0.5493409585023806,
           0.2340812769928042,
           -0.0843296273658711,
           0.8369936477402035,
           -0.7899237555542772,
           -0.13062213395129338,
           -0.8737420554352417,
           0.6288649328828451,
           -0.2814984797975677,
           0.7612726641008603,
           -0.2811264281396325,
           0.14002494800007365,
           -0.8415827756522267,
           0.752337198299171,
           0.19836004902252985,
           -0.051352750360035344,
           0.7483154946338079,
           0.7333402556927828,
           -0.11459526493319194,
           0.5634072874743569,
           0.9012367138913144,
           0.4682686710212486,
           -0.023945003520337748,
           -0.23484549037484975,
           0.21347874787483587,
           0.35711751366146194,
           -0.142498117913773,
           0.9077601800744869,
           0.22464837759583212
          ],
          [
           0.9338821192151132,
           0.4240747311515591,
           0.7294591570380377,
           0.23599921051772538,
           0.9061591973134827,
           0.9769109936762659,
           0.8954082446759002,
           0.6270166859093306,
           0.9703566264672536,
           0.9732114752239486,
           0.6468900163503276,
           0.585041880016466,
           0.9165375457410496,
           0.9147106598387931,
           0.9415405220567613,
           0.7416445971952824,
           0.6836011065667016,
           0.9818097132594488,
           0.5629335957593509,
           0.9024922311587829,
           0.4203599140971967,
           0.7399900941181445,
           0.9797954644499354,
           0.6282351538938135,
           0.7672043495797353,
           0.17575776626706316,
           0.4649537795294237,
           -0.731363883514442,
           0.7791917288696567,
           0.5328032835118486,
           0.20921231853799918,
           0.5759129994714185,
           0.6669327174052,
           -0.026983393584340216,
           0.8537962158024486,
           0.16510898609674204,
           0.606828173761747,
           0.7391912825218647,
           -0.6835173725871879,
           0.23015001111435288,
           0.34733865956965904,
           0.8824499230427173,
           0.779835058339088,
           0.5202268286820575,
           0.7906374814024153,
           0.8500104929142962,
           0.914428046178543,
           0.8931621395991389,
           0.8785218622196536,
           0.3878786588466815,
           0.5509374336208552,
           0.26238773844176516,
           0.48759149374061633,
           0.6075333436362115,
           -0.3292097858673913,
           0.8026301932221583,
           0.7427589539158966,
           0.24864161218595346,
           0.08639764528267248,
           0.7449891388914786,
           0.8184730056899526
          ],
          [
           -0.018782675867573564,
           -0.5464131517355881,
           null,
           0.17107134898419163,
           -0.47178881352662644,
           0.33875360236753255,
           0.8095718545925348,
           0.49427866823168864,
           0.9085171079087186,
           0.8749269625613799,
           0.8022038080679309,
           0.3000297871086362,
           0.4380328584009957,
           0.18670948450004435,
           0.5160021464902192,
           0.13619011681375998,
           0.4238214522286424,
           0.9154633737643457,
           -0.8286817484732725,
           0.7340671609531725,
           0.861474956284821,
           0.4696336335225806,
           0.910506203893202,
           0.21836389319640326,
           -0.6991850263819739,
           0.32473915462570896,
           0.15650892491672166,
           0.48315817066423905,
           0.7383128198902594,
           0.408288801273006,
           null,
           null,
           null,
           null,
           null,
           null,
           null,
           null,
           null,
           null,
           null,
           null,
           null,
           null,
           null,
           null,
           null,
           null,
           null,
           null,
           null,
           null,
           null,
           null,
           null,
           null,
           null,
           null,
           null,
           null,
           null
          ],
          [
           0.9711917661588088,
           0.9642031147317959,
           0.5445683558063493,
           0.9304025610476885,
           0.5985976959229556,
           0.9153606456896021,
           0.8257505374326178,
           0.8465824410034997,
           0.8949670357980712,
           0.9610575310637219,
           0.9031334893068911,
           0.81350596559544,
           0.8870641554541843,
           0.8640185890039771,
           0.6640000403990306,
           -0.08642552775412998,
           0.8938127304054215,
           0.9687214026189259,
           0.816904652088195,
           0.6392841629071282,
           0.12535296004749483,
           -0.008318174482465105,
           -0.7168329989347235,
           -0.09748547570887553,
           0.5312323904472677,
           -0.6063292633059314,
           0.015756617316355807,
           0.5516716339381185,
           0.44808856943334974,
           0.25299388441879317,
           -0.6771211920588949,
           0.4154549908037359,
           0.2883543492570899,
           0.5020760044328066,
           0.021028665547644012,
           0.41390592846294877,
           -0.4642105056980085,
           0.7628249046777498,
           0.9033211642431612,
           0.600724177442611,
           0.8436647436332654,
           0.7772081367805904,
           -0.2262549568031102,
           0.14706616471110948,
           -0.8668023862118953,
           -0.5381154267079648,
           0.001921911677653623,
           -0.3628253919021481,
           0.39124321843676535,
           -0.2448450453586219,
           0.01420944712743512,
           0.42323421356962154,
           0.8134544227226315,
           0.2857311147311801,
           0.5600471271570018,
           0.8771385234799808,
           -0.2752260773433294,
           -0.16844390012271548,
           0.4017247491106116,
           0.979083712245139,
           0.17258265451166105
          ],
          [
           null,
           null,
           null,
           null,
           null,
           null,
           null,
           null,
           null,
           null,
           null,
           null,
           null,
           null,
           null,
           null,
           null,
           null,
           null,
           null,
           null,
           null,
           null,
           null,
           null,
           null,
           null,
           null,
           null,
           null,
           null,
           null,
           null,
           null,
           null,
           null,
           null,
           null,
           null,
           null,
           null,
           null,
           null,
           null,
           null,
           null,
           null,
           null,
           0.814543943704975,
           0.15209451650754827,
           0.2464984725434839,
           -0.6498102889111563,
           -0.6427151872576069,
           0.7171354413316718,
           -0.2994795096941134,
           -0.5211802554833763,
           0.5318297402044269,
           0.4243861927437773,
           0.7527217598528708,
           0.5234352734446628,
           0.14334151039405268
          ],
          [
           0.9841973334612406,
           -0.3276299072883577,
           0.3936019504914744,
           0.8410157884725546,
           0.8713185344647408,
           0.9717408486646429,
           0.9443173261871619,
           0.8966062027683063,
           0.9800730989791644,
           0.9718183878070268,
           0.9661883796520645,
           0.7821329417640245,
           0.8544677537660345,
           0.9752734975728953,
           0.8865888830051951,
           0.8702480493743392,
           0.7760085361512934,
           0.9933314350891391,
           0.8928298464518922,
           0.8182031646746404,
           0.9761544403117616,
           0.7868892233371606,
           0.9625799341663934,
           0.7027250559807897,
           0.8950844934922193,
           0.7351211537846253,
           0.9570264933353373,
           0.9544414711860648,
           0.8221934712828359,
           0.7380681146733531,
           0.6109779265490508,
           0.6509462767777955,
           0.6949543385974816,
           0.016579954695899773,
           0.8845698694335243,
           0.8312102273038351,
           0.9517736679030715,
           0.4148785360468609,
           0.4798336714878772,
           0.5484239045795718,
           0.8319905410102683,
           0.9234743585177074,
           0.8098855747361158,
           0.029081670235655766,
           0.9439915038167865,
           0.8934564910264815,
           0.8734976667438946,
           0.5262638476810724,
           0.7264028228971174,
           0.719438101788416,
           0.8768643163982706,
           0.5895314432292356,
           0.9171902442700247,
           0.8165505337154398,
           0.6022430129374878,
           0.8484571276345191,
           0.22455632839539358,
           0.5322771722191126,
           0.8285243286945003,
           0.9828430826834825,
           -0.34682481491397016
          ],
          [
           0.8906093403296705,
           0.48726819922695697,
           -0.07141810378289419,
           0.409454205421329,
           0.7106468380669969,
           0.9273354828235977,
           0.8228043202917933,
           0.44396708824992354,
           0.5823076305993803,
           0.8656614191462639,
           0.959933152361606,
           0.7087227691086075,
           0.7597232026185055,
           0.8846791274681144,
           0.8962244704953134,
           0.45159511488165577,
           0.9561055213900974,
           0.9013803099288182,
           0.5842849223694613,
           -0.1486032690568114,
           0.6959831820676314,
           0.8417805408615558,
           0.9336467743443816,
           0.2613650753229391,
           0.7752926318046159,
           0.8828058682873188,
           0.818349378609143,
           0.8116663963193029,
           0.4183185057218908,
           0.727389207888161,
           0.8634083427191703,
           0.3827316668348761,
           0.6215607836724095,
           0.7454481164287045,
           0.774487444614229,
           0.846324194359974,
           0.9016179694135172,
           0.15276439188099392,
           0.7676802846965433,
           0.7254200695362177,
           0.9184401990730204,
           0.869761595060388,
           0.7418486650840554,
           0.30792690820223945,
           0.5929246937920581,
           -0.1467063282234287,
           0.838604323638836,
           0.7398253784542234,
           0.4628558358059202,
           0.7930313965453947,
           -0.18048641347464572,
           0.8696365152061412,
           0.7113894927605524,
           0.8977937569954063,
           0.8561581675654922,
           0.801448147643003,
           -0.2923129674114792,
           0.7232475574145062,
           0.9020996421077597,
           0.9283373846494793,
           -0.3284119712525829
          ],
          [
           0.8252129120121744,
           0.02284993155564763,
           -0.1756781221922709,
           0.41023341989310236,
           0.8319426658536909,
           -0.4573924841596129,
           0.8765050126726237,
           0.14621705744194075,
           -0.16536482683227996,
           0.7916857223454393,
           -0.10785393483613973,
           0.28985977282069564,
           -0.6545138825822554,
           0.3975288509104983,
           0.8160395462560347,
           0.2095633222229172,
           0.775154129064943,
           0.3334570222903522,
           0.6507036518230712,
           -0.0027161227882601733,
           0.8898848206128841,
           0.21387848947795618,
           0.88625704609797,
           0.8521159333926177,
           -0.34514182318881603,
           0.7799657781809076,
           0.7595395296705038,
           0.9748784616270483,
           0.5969557991517451,
           -0.2935367191820019,
           0.860902464021235,
           -0.41014688153856044,
           0.22976290220553536,
           0.4346986101586083,
           0.30879172143818107,
           0.6919381603359364,
           -0.17239713622503136,
           0.42638063423691336,
           0.549780822404138,
           0.6215972335446952,
           0.8314393887766218,
           0.7491127930141505,
           -0.2470826226311967,
           0.6686501313578899,
           -0.8773953852239146,
           0.7726536627725248,
           0.5992297452169423,
           0.48279335099369697,
           0.6685488563786403,
           0.2741177874031669,
           0.19303118257410554,
           -0.04983428217617828,
           -0.12828847386217423,
           0.5591436055775728,
           -0.09995727724220572,
           0.28687554672264903,
           0.8407266751837308,
           -0.21226820203343294,
           0.6603357182408843,
           0.8648335331504952,
           -0.45237376240905525
          ],
          [
           0.9267274748628895,
           0.3765546763541,
           0.36391285747934105,
           0.6038961366384695,
           0.47969938997004974,
           0.8903728458136567,
           0.7242134737985253,
           0.43716259225049575,
           0.6883963023390164,
           0.33717212962404275,
           -0.5864247719372463,
           0.5121610265268219,
           -0.004889038405712706,
           0.8036468509994543,
           0.9256827696868731,
           0.31941634595022467,
           0.802196353484692,
           0.9479701997387184,
           0.39473460175742636,
           0.9277928940675746,
           -0.3774181076463062,
           0.6396541676199902,
           0.8968968672600942,
           0.26178070072777243,
           0.5074896841904758,
           -0.7875137095105607,
           0.36845348972709613,
           -0.024782728316207824,
           0.2203070327537842,
           0.3964632495997311,
           0.592502159224351,
           0.5946797205816917,
           0.3015278457248016,
           -0.16520292623931365,
           0.243097396550624,
           -0.6575260172583485,
           0.6634793630966157,
           0.7637619919639084,
           0.8923436024195728,
           0.7230900645021813,
           -0.41784948093620994,
           -0.09180499597462087,
           -0.4436746814948418,
           0.11071771961095146,
           -0.040436320724449484,
           -0.8163562383511789,
           -0.21985962268079637,
           -0.09667014599999002,
           -0.2445496885231784,
           0.5787246991281705,
           -0.1641934225577612,
           0.25627875229523367,
           -0.3909657097645347,
           0.4444830688835621,
           -0.4766182249003223,
           0.8530530568386573,
           -0.31939765163112305,
           0.4400487531802823,
           0.5640650244126868,
           0.774601942682262,
           -0.2442066924754746
          ],
          [
           null,
           null,
           null,
           null,
           null,
           null,
           null,
           null,
           null,
           null,
           null,
           null,
           null,
           null,
           null,
           null,
           null,
           null,
           null,
           null,
           null,
           null,
           null,
           null,
           null,
           null,
           null,
           null,
           null,
           -0.43724430935706066,
           0.4649482871851482,
           -0.346038890850265,
           0.12895564891176423,
           0.7545647936933254,
           0.27008572775219514,
           0.9681387522823109,
           0.7770403311058565,
           0.50019953627321,
           0.8356162280333631,
           -0.6628278620707281,
           0.4603352469678756,
           -0.8748336424284316,
           0.7909517234417406,
           0.7361776370292953,
           0.7285337692476321,
           0.8481957058940532,
           0.032173064142806185,
           -0.20146285900298463,
           0.2737303672135316,
           0.7606157530150024,
           0.2552751504572236,
           0.5895258728279429,
           0.8206295872577097,
           0.8684780868655276,
           0.10145811528124786,
           -0.02449857886676495,
           0.8391420195625128,
           0.17604624695927248,
           0.45982508078973844,
           -0.4120429919813936,
           0.47630097568342017
          ],
          [
           0.8461919410632929,
           0.5897614560605684,
           0.7447777465287599,
           0.8907346586360558,
           0.9336296657487965,
           0.9708912660186368,
           0.9277244233384161,
           0.6928958245380598,
           0.8442525350237295,
           0.9769227057652244,
           0.4735992884005729,
           0.8045718134265955,
           0.6723357343927288,
           0.743967497288888,
           0.7861359704270054,
           0.464358947612557,
           0.893053631998284,
           0.9739938492116503,
           0.4238623006626629,
           0.7733846553938329,
           0.8418642261564694,
           0.6678532702556913,
           0.9773974089678703,
           0.5025881648499444,
           -0.7081850462285341,
           0.06253376695344086,
           0.2862501328345262,
           0.9752556441132276,
           0.8367737949338852,
           0.6104532330149228,
           -0.7280652760987663,
           null,
           null,
           null,
           null,
           null,
           null,
           null,
           null,
           null,
           null,
           null,
           null,
           null,
           null,
           null,
           null,
           null,
           null,
           null,
           null,
           null,
           null,
           null,
           null,
           null,
           null,
           null,
           null,
           null,
           null
          ],
          [
           0.9296413597373178,
           0.9143739030545284,
           0.9403430052909983,
           0.9648550393406836,
           0.5058455329666337,
           0.9416779650608992,
           0.9801225410889741,
           0.7734105246157335,
           0.9892395520935922,
           0.9736760416081407,
           0.8320964123629258,
           0.8220021486162568,
           0.8771175777270349,
           0.9192722425084557,
           0.8434875966138209,
           -0.047646960251842514,
           0.4208876672772752,
           0.9865865493195802,
           0.9484771242056204,
           0.8432829531259828,
           0.9697313889028516,
           0.8616970176124898,
           0.9790421054375426,
           0.8795556642627939,
           0.9787718466342147,
           0.8588390473686502,
           0.8377545443392479,
           0.9855649130288917,
           0.6412426537932933,
           0.8816080374767505,
           0.9711760819425426,
           0.7899902479589657,
           0.534609298342987,
           0.8780015483228928,
           0.2772567196705299,
           0.928923143550501,
           0.9745384217556541,
           0.9285287406377208,
           0.9408952091483181,
           0.9649592388698546,
           0.966700895627166,
           0.8582435976784252,
           0.7072483808291283,
           0.6802400372697872,
           0.8476542699081484,
           0.9440379655659333,
           0.5598843635664855,
           0.9199965279403802,
           0.862817686207085,
           0.8836364761449016,
           0.9540219975378778,
           0.8248019875981165,
           0.8120983351665255,
           0.960289192600017,
           0.9350856245876904,
           0.936615442325584,
           0.8869273044442086,
           0.7331772204440234,
           0.958454855932059,
           0.9749865196278558,
           0.8708981558327356
          ],
          [
           0.892214326410095,
           0.47964102284000437,
           0.7854588601177502,
           0.6033958009561754,
           0.9206161123381044,
           0.9863863604714096,
           0.37640466126649885,
           0.826645969909915,
           0.8832259431026807,
           0.9568979255902914,
           0.01214797942514692,
           0.5581485338993594,
           0.8538625430938367,
           0.7708561780196003,
           0.8854906561814111,
           0.4420053445742853,
           0.2934679831602736,
           0.9618156115280913,
           -0.13145417808976545,
           0.8501480363975821,
           0.8998633196031198,
           0.1723081107571327,
           0.952000730278512,
           0.5749753852808073,
           -0.02078780368483118,
           0.7113470101725372,
           0.8179269059964097,
           0.9676403720114112,
           0.6063840650927311,
           0.4255799978731176,
           0.8834036270759431,
           -0.1273848557194515,
           0.5787872071611341,
           0.07777537286303256,
           0.5687203179463497,
           0.764870061514628,
           0.009562881655858717,
           0.24908259992501278,
           0.7347930746017423,
           0.6002178030797105,
           -0.33107012287670917,
           0.712605070949629,
           0.7116219974618516,
           0.051705321630473144,
           0.9399152164410016,
           0.8040320975394745,
           0.17235352747449872,
           0.8319550286827427,
           0.8170970670018567,
           0.8461711707305113,
           -0.7220058825363204,
           -0.12513444000845608,
           0.22781107743554374,
           0.6877901300656102,
           0.47512229010660445,
           -0.5684822690129598,
           0.7776390884978428,
           0.13586326364285065,
           -0.11179095840083,
           -0.4884188225170391,
           -0.42084627214252773
          ],
          [
           -0.7026304294312251,
           0.23897504737733494,
           0.6521213763853517,
           0.0491362340895572,
           -0.4446752719863024,
           0.8244930516038631,
           0.7417728250095714,
           0.42183281177436077,
           0.9217581846025439,
           0.7306907143861215,
           0.3652397766477574,
           -0.009694086020351142,
           0.0026339650723098394,
           -0.12914936870769297,
           0.5810915621540067,
           0.10058542101156272,
           0.6519309234796109,
           0.5105778246146295,
           0.6248664984181913,
           -0.31913349989004164,
           0.48306312881138785,
           0.6760799862250447,
           0.8878975885161197,
           0.7124244869450667,
           0.47931943026844026,
           -0.721605388902172,
           0.6302415068783802,
           0.9829420517892147,
           0.83789539993752,
           -0.3687548123339997,
           0.8185059376599504,
           -0.3157738514435196,
           -0.19643091463940177,
           0.1932859303962724,
           0.703008407898107,
           0.8613984546102935,
           0.5367151410967742,
           0.3894303734825507,
           0.12959161230854194,
           0.7161687922179776,
           0.8398275870392782,
           0.8117512070220247,
           0.5401447829667471,
           0.18432146230240562,
           -0.6113577066287953,
           0.6372107463659507,
           0.7419758917830696,
           0.6812046174029737,
           0.5928742762567585,
           -0.06774679538689526,
           -0.6719769612959876,
           0.8455796926607281,
           0.9251826276337686,
           0.06072891490599462,
           0.2813851706395022,
           0.9352999307192348,
           0.46756959045947505,
           0.26496040488485945,
           0.7929272408877323,
           0.8638263967228219,
           0.6860248626038629
          ],
          [
           0.9618803933149415,
           0.5057428617587914,
           0.6152953095309626,
           0.5532082030161076,
           -0.23675037952126085,
           0.9265669856629293,
           0.8774859175031389,
           0.510312385569674,
           0.960780643681737,
           0.9577179356248585,
           0.596160758310693,
           0.6365869781735362,
           0.7415304436542045,
           0.3575265401303338,
           0.9088782095402391,
           0.16127793902307688,
           0.4478686473258806,
           0.9837423917912264,
           0.7878545911519863,
           0.8554906541983064,
           0.9104291095216788,
           0.7309984369952311,
           0.8717492660292477,
           0.5562847640305308,
           0.8234934516222017,
           0.5476357895901129,
           0.4991128065256406,
           0.8843940098056446,
           0.8876487768864587,
           0.42638883498095287,
           0.4502634855822971,
           -0.44652621299696743,
           0.7240859367634215,
           0.2957940911260367,
           0.7158148835261373,
           0.728755039065277,
           0.7096377541121903,
           -0.15219673060189845,
           0.9240081109775281,
           0.6961315128192084,
           0.9441742781412861,
           0.885326928304855,
           -0.3032936425385348,
           0.37649968345094165,
           -0.23289071370274345,
           0.8657633851785194,
           0.4236149050198141,
           0.5779427659705842,
           0.1030763343800655,
           0.7281664359417982,
           0.5971432418206075,
           0.9002130775209982,
           0.918443127743192,
           0.2056208394682514,
           -0.3555876381097915,
           0.5491099370255109,
           0.7338843141657959,
           0.31478332843285856,
           0.6016125058393521,
           0.9380764893251381,
           0.7902126855406688
          ],
          [
           0.9790503531527952,
           0.6190104682706388,
           0.8506964418772769,
           0.6896294133415051,
           0.755223528770324,
           0.9083799343910651,
           0.13577073834307238,
           0.6344411389748879,
           0.833306509095067,
           0.9377889631281813,
           0.07922607340667406,
           0.510780335055014,
           0.9290111152244636,
           0.883973735291646,
           0.923828247653032,
           0.5634455743514264,
           0.6991017150175171,
           0.8831705140123562,
           0.7057536695829553,
           0.840825032955945,
           0.44108807092931723,
           0.5535608332390302,
           0.9609082760145478,
           0.6190308771756978,
           -0.06479156631576606,
           0.7305736700783981,
           0.8798473921808219,
           0.9271233879754174,
           0.33721923756026334,
           -0.04769112424837708,
           0.8649503499849365,
           -0.28718806305268735,
           -0.015844798897088928,
           0.26700854028328136,
           0.5257550160044495,
           0.3452280894774016,
           0.7733729450502878,
           0.14996169028895434,
           0.289534762443893,
           -0.5891490478396997,
           0.11180085814530985,
           0.9122223235250004,
           0.6309860428363103,
           0.0019019304620799165,
           0.9183925190898939,
           0.8396899393303565,
           0.3748695473157191,
           0.6297067030833821,
           0.658007397107425,
           0.5529535790128132,
           0.7070388306936414,
           0.6041464579249286,
           0.6953107032143585,
           0.7720818695581451,
           0.38385209768065026,
           0.9569868890967314,
           0.775256197113393,
           -0.2650759713099089,
           -0.014430063869793093,
           0.8909351393826033,
           0.4107106939005505
          ],
          [
           0.936560185353915,
           0.5219810154980817,
           0.5332602121739752,
           0.8938064854785236,
           0.8726978491883849,
           0.9566964910934327,
           0.6264931355038488,
           0.7721820560672994,
           0.8830103449924829,
           0.9219919198379727,
           0.910566006671367,
           0.6925122195441786,
           0.9285610657252276,
           0.9240581425716705,
           0.7788314079443625,
           0.09262814061842305,
           0.8792270526867196,
           0.9750677167256199,
           0.816432643026991,
           0.6167912952414378,
           0.20795920624682604,
           0.12957444145155342,
           0.9458906349619596,
           0.6986391993466227,
           0.39077969916889577,
           0.4452018393021688,
           0.514203331418153,
           0.9882341173787091,
           0.5696882364456919,
           -0.1802448135601163,
           0.7795352067207372,
           -0.04304634305434599,
           0.3800505017125222,
           0.708177102492153,
           0.5581787106183554,
           0.975549826120435,
           0.8362068282638695,
           0.7396610128357066,
           0.23917831581329663,
           -0.5462347843515918,
           0.7336636979361848,
           0.8171687302239292,
           -0.3519781341064157,
           0.1930761137956729,
           0.5017143255024996,
           0.7733268604375078,
           0.3123983550889952,
           0.467568859928704,
           0.3368714542438597,
           0.06615257399985099,
           0.8665672841367332,
           0.1940684013167875,
           0.9350073567440021,
           0.48474946628667004,
           0.6667307961909867,
           0.8345804040676453,
           0.0540448486629246,
           -0.11537194718235379,
           0.9565892921601109,
           0.9224726864617082,
           0.544557218331122
          ],
          [
           -0.20393027217536638,
           0.1768333124208574,
           0.6286148378522373,
           0.4745385833814295,
           0.6790468414651804,
           0.9345233652010885,
           -0.7008989802574992,
           0.4094961355624387,
           0.7691249747556846,
           0.1779045409922697,
           0.7103427503862247,
           0.49858341977560516,
           0.7144922196958451,
           0.4343682570652254,
           0.7696380084632604,
           -0.12604481417507146,
           0.29058424137806615,
           0.9239883278843638,
           0.11612543342967749,
           -0.16707993358867648,
           0.18371083885087547,
           0.3710899601414231,
           0.9023356497974179,
           0.6244424598482742,
           0.7304073844107044,
           0.061613017385178964,
           0.004512608074697229,
           0.9732764843363026,
           0.8622322177605302,
           0.3296039155762658,
           0.8621130543976064,
           -0.22659411804526428,
           -0.28405209936419934,
           -0.4127042667496945,
           0.1032564254547965,
           0.6674996077023387,
           0.2600653696587901,
           0.3122511072876622,
           0.1550576642330543,
           -0.23444806095256968,
           0.8974059525406813,
           0.6963006975232039,
           -0.4190269151006266,
           0.09903291734288236,
           0.35296310697610933,
           0.8484918028505858,
           0.3784834916958789,
           -0.18057405857925846,
           0.11915544877347319,
           -0.5227740238805848,
           0.5585757753949184,
           0.4476387582731481,
           -0.5529024816249519,
           0.33516559578950594,
           -0.06035117054065392,
           -0.21743965313596353,
           -0.045059091499905606,
           -0.048672265206940235,
           -0.6851468906578787,
           0.07677415386766864,
           0.40582148591437606
          ],
          [
           -0.26741561402033026,
           0.5260774825803031,
           0.29796562723195674,
           0.4077479459922018,
           0.7664416857691578,
           0.5762848418207528,
           -0.20262366926729722,
           -0.27960878259138855,
           0.7155665467849223,
           0.246198109412601,
           0.7285999263441983,
           0.11096122675531532,
           0.5761981899477924,
           0.7171735460634278,
           0.5401024835468987,
           -0.2983922858751236,
           0.6722488259798022,
           0.9207210454660155,
           0.4067878966600357,
           0.7974165758035064,
           0.26438492210907555,
           0.05802245724742408,
           0.793516280834263,
           0.21321725097908806,
           -0.8880128595695291,
           0.7338938348489074,
           0.4635008932347303,
           0.9471773374794317,
           0.5127666242664466,
           -0.3927863123028138,
           0.5600020822289666,
           0.17761846384552005,
           0.011282023682164601,
           0.406040334472205,
           0.45101610874337816,
           0.7165235957387303,
           0.20896448176682966,
           -0.17051521670729108,
           -0.14232073490722802,
           0.8339013355438462,
           0.7505306341612583,
           0.7255250508883857,
           -0.4728108742135166,
           0.2449344785051582,
           0.8437352501463043,
           0.7372233250499414,
           0.7383680608516389,
           0.543925228740803,
           -0.5896547859672511,
           -0.06301376826933704,
           0.8363462318944721,
           0.8479370299429116,
           0.7761250851246908,
           0.6765140623152142,
           -0.4645726498132388,
           0.7552050178952584,
           0.9079489853849698,
           -0.07892569000751588,
           0.02082533334319149,
           0.7884761733304217,
           0.8261764034866873
          ]
         ]
        }
       ],
       "layout": {
        "autosize": false,
        "coloraxis": {
         "colorbar": {
          "title": {
           "text": "Correlation"
          }
         },
         "colorscale": [
          [
           0,
           "rgb(5,48,97)"
          ],
          [
           0.1,
           "rgb(33,102,172)"
          ],
          [
           0.2,
           "rgb(67,147,195)"
          ],
          [
           0.3,
           "rgb(146,197,222)"
          ],
          [
           0.4,
           "rgb(209,229,240)"
          ],
          [
           0.5,
           "rgb(247,247,247)"
          ],
          [
           0.6,
           "rgb(253,219,199)"
          ],
          [
           0.7,
           "rgb(244,165,130)"
          ],
          [
           0.8,
           "rgb(214,96,77)"
          ],
          [
           0.9,
           "rgb(178,24,43)"
          ],
          [
           1,
           "rgb(103,0,31)"
          ]
         ]
        },
        "height": 600,
        "template": {
         "data": {
          "bar": [
           {
            "error_x": {
             "color": "#2a3f5f"
            },
            "error_y": {
             "color": "#2a3f5f"
            },
            "marker": {
             "line": {
              "color": "#E5ECF6",
              "width": 0.5
             },
             "pattern": {
              "fillmode": "overlay",
              "size": 10,
              "solidity": 0.2
             }
            },
            "type": "bar"
           }
          ],
          "barpolar": [
           {
            "marker": {
             "line": {
              "color": "#E5ECF6",
              "width": 0.5
             },
             "pattern": {
              "fillmode": "overlay",
              "size": 10,
              "solidity": 0.2
             }
            },
            "type": "barpolar"
           }
          ],
          "carpet": [
           {
            "aaxis": {
             "endlinecolor": "#2a3f5f",
             "gridcolor": "white",
             "linecolor": "white",
             "minorgridcolor": "white",
             "startlinecolor": "#2a3f5f"
            },
            "baxis": {
             "endlinecolor": "#2a3f5f",
             "gridcolor": "white",
             "linecolor": "white",
             "minorgridcolor": "white",
             "startlinecolor": "#2a3f5f"
            },
            "type": "carpet"
           }
          ],
          "choropleth": [
           {
            "colorbar": {
             "outlinewidth": 0,
             "ticks": ""
            },
            "type": "choropleth"
           }
          ],
          "contour": [
           {
            "colorbar": {
             "outlinewidth": 0,
             "ticks": ""
            },
            "colorscale": [
             [
              0,
              "#0d0887"
             ],
             [
              0.1111111111111111,
              "#46039f"
             ],
             [
              0.2222222222222222,
              "#7201a8"
             ],
             [
              0.3333333333333333,
              "#9c179e"
             ],
             [
              0.4444444444444444,
              "#bd3786"
             ],
             [
              0.5555555555555556,
              "#d8576b"
             ],
             [
              0.6666666666666666,
              "#ed7953"
             ],
             [
              0.7777777777777778,
              "#fb9f3a"
             ],
             [
              0.8888888888888888,
              "#fdca26"
             ],
             [
              1,
              "#f0f921"
             ]
            ],
            "type": "contour"
           }
          ],
          "contourcarpet": [
           {
            "colorbar": {
             "outlinewidth": 0,
             "ticks": ""
            },
            "type": "contourcarpet"
           }
          ],
          "heatmap": [
           {
            "colorbar": {
             "outlinewidth": 0,
             "ticks": ""
            },
            "colorscale": [
             [
              0,
              "#0d0887"
             ],
             [
              0.1111111111111111,
              "#46039f"
             ],
             [
              0.2222222222222222,
              "#7201a8"
             ],
             [
              0.3333333333333333,
              "#9c179e"
             ],
             [
              0.4444444444444444,
              "#bd3786"
             ],
             [
              0.5555555555555556,
              "#d8576b"
             ],
             [
              0.6666666666666666,
              "#ed7953"
             ],
             [
              0.7777777777777778,
              "#fb9f3a"
             ],
             [
              0.8888888888888888,
              "#fdca26"
             ],
             [
              1,
              "#f0f921"
             ]
            ],
            "type": "heatmap"
           }
          ],
          "heatmapgl": [
           {
            "colorbar": {
             "outlinewidth": 0,
             "ticks": ""
            },
            "colorscale": [
             [
              0,
              "#0d0887"
             ],
             [
              0.1111111111111111,
              "#46039f"
             ],
             [
              0.2222222222222222,
              "#7201a8"
             ],
             [
              0.3333333333333333,
              "#9c179e"
             ],
             [
              0.4444444444444444,
              "#bd3786"
             ],
             [
              0.5555555555555556,
              "#d8576b"
             ],
             [
              0.6666666666666666,
              "#ed7953"
             ],
             [
              0.7777777777777778,
              "#fb9f3a"
             ],
             [
              0.8888888888888888,
              "#fdca26"
             ],
             [
              1,
              "#f0f921"
             ]
            ],
            "type": "heatmapgl"
           }
          ],
          "histogram": [
           {
            "marker": {
             "pattern": {
              "fillmode": "overlay",
              "size": 10,
              "solidity": 0.2
             }
            },
            "type": "histogram"
           }
          ],
          "histogram2d": [
           {
            "colorbar": {
             "outlinewidth": 0,
             "ticks": ""
            },
            "colorscale": [
             [
              0,
              "#0d0887"
             ],
             [
              0.1111111111111111,
              "#46039f"
             ],
             [
              0.2222222222222222,
              "#7201a8"
             ],
             [
              0.3333333333333333,
              "#9c179e"
             ],
             [
              0.4444444444444444,
              "#bd3786"
             ],
             [
              0.5555555555555556,
              "#d8576b"
             ],
             [
              0.6666666666666666,
              "#ed7953"
             ],
             [
              0.7777777777777778,
              "#fb9f3a"
             ],
             [
              0.8888888888888888,
              "#fdca26"
             ],
             [
              1,
              "#f0f921"
             ]
            ],
            "type": "histogram2d"
           }
          ],
          "histogram2dcontour": [
           {
            "colorbar": {
             "outlinewidth": 0,
             "ticks": ""
            },
            "colorscale": [
             [
              0,
              "#0d0887"
             ],
             [
              0.1111111111111111,
              "#46039f"
             ],
             [
              0.2222222222222222,
              "#7201a8"
             ],
             [
              0.3333333333333333,
              "#9c179e"
             ],
             [
              0.4444444444444444,
              "#bd3786"
             ],
             [
              0.5555555555555556,
              "#d8576b"
             ],
             [
              0.6666666666666666,
              "#ed7953"
             ],
             [
              0.7777777777777778,
              "#fb9f3a"
             ],
             [
              0.8888888888888888,
              "#fdca26"
             ],
             [
              1,
              "#f0f921"
             ]
            ],
            "type": "histogram2dcontour"
           }
          ],
          "mesh3d": [
           {
            "colorbar": {
             "outlinewidth": 0,
             "ticks": ""
            },
            "type": "mesh3d"
           }
          ],
          "parcoords": [
           {
            "line": {
             "colorbar": {
              "outlinewidth": 0,
              "ticks": ""
             }
            },
            "type": "parcoords"
           }
          ],
          "pie": [
           {
            "automargin": true,
            "type": "pie"
           }
          ],
          "scatter": [
           {
            "fillpattern": {
             "fillmode": "overlay",
             "size": 10,
             "solidity": 0.2
            },
            "type": "scatter"
           }
          ],
          "scatter3d": [
           {
            "line": {
             "colorbar": {
              "outlinewidth": 0,
              "ticks": ""
             }
            },
            "marker": {
             "colorbar": {
              "outlinewidth": 0,
              "ticks": ""
             }
            },
            "type": "scatter3d"
           }
          ],
          "scattercarpet": [
           {
            "marker": {
             "colorbar": {
              "outlinewidth": 0,
              "ticks": ""
             }
            },
            "type": "scattercarpet"
           }
          ],
          "scattergeo": [
           {
            "marker": {
             "colorbar": {
              "outlinewidth": 0,
              "ticks": ""
             }
            },
            "type": "scattergeo"
           }
          ],
          "scattergl": [
           {
            "marker": {
             "colorbar": {
              "outlinewidth": 0,
              "ticks": ""
             }
            },
            "type": "scattergl"
           }
          ],
          "scattermapbox": [
           {
            "marker": {
             "colorbar": {
              "outlinewidth": 0,
              "ticks": ""
             }
            },
            "type": "scattermapbox"
           }
          ],
          "scatterpolar": [
           {
            "marker": {
             "colorbar": {
              "outlinewidth": 0,
              "ticks": ""
             }
            },
            "type": "scatterpolar"
           }
          ],
          "scatterpolargl": [
           {
            "marker": {
             "colorbar": {
              "outlinewidth": 0,
              "ticks": ""
             }
            },
            "type": "scatterpolargl"
           }
          ],
          "scatterternary": [
           {
            "marker": {
             "colorbar": {
              "outlinewidth": 0,
              "ticks": ""
             }
            },
            "type": "scatterternary"
           }
          ],
          "surface": [
           {
            "colorbar": {
             "outlinewidth": 0,
             "ticks": ""
            },
            "colorscale": [
             [
              0,
              "#0d0887"
             ],
             [
              0.1111111111111111,
              "#46039f"
             ],
             [
              0.2222222222222222,
              "#7201a8"
             ],
             [
              0.3333333333333333,
              "#9c179e"
             ],
             [
              0.4444444444444444,
              "#bd3786"
             ],
             [
              0.5555555555555556,
              "#d8576b"
             ],
             [
              0.6666666666666666,
              "#ed7953"
             ],
             [
              0.7777777777777778,
              "#fb9f3a"
             ],
             [
              0.8888888888888888,
              "#fdca26"
             ],
             [
              1,
              "#f0f921"
             ]
            ],
            "type": "surface"
           }
          ],
          "table": [
           {
            "cells": {
             "fill": {
              "color": "#EBF0F8"
             },
             "line": {
              "color": "white"
             }
            },
            "header": {
             "fill": {
              "color": "#C8D4E3"
             },
             "line": {
              "color": "white"
             }
            },
            "type": "table"
           }
          ]
         },
         "layout": {
          "annotationdefaults": {
           "arrowcolor": "#2a3f5f",
           "arrowhead": 0,
           "arrowwidth": 1
          },
          "autotypenumbers": "strict",
          "coloraxis": {
           "colorbar": {
            "outlinewidth": 0,
            "ticks": ""
           }
          },
          "colorscale": {
           "diverging": [
            [
             0,
             "#8e0152"
            ],
            [
             0.1,
             "#c51b7d"
            ],
            [
             0.2,
             "#de77ae"
            ],
            [
             0.3,
             "#f1b6da"
            ],
            [
             0.4,
             "#fde0ef"
            ],
            [
             0.5,
             "#f7f7f7"
            ],
            [
             0.6,
             "#e6f5d0"
            ],
            [
             0.7,
             "#b8e186"
            ],
            [
             0.8,
             "#7fbc41"
            ],
            [
             0.9,
             "#4d9221"
            ],
            [
             1,
             "#276419"
            ]
           ],
           "sequential": [
            [
             0,
             "#0d0887"
            ],
            [
             0.1111111111111111,
             "#46039f"
            ],
            [
             0.2222222222222222,
             "#7201a8"
            ],
            [
             0.3333333333333333,
             "#9c179e"
            ],
            [
             0.4444444444444444,
             "#bd3786"
            ],
            [
             0.5555555555555556,
             "#d8576b"
            ],
            [
             0.6666666666666666,
             "#ed7953"
            ],
            [
             0.7777777777777778,
             "#fb9f3a"
            ],
            [
             0.8888888888888888,
             "#fdca26"
            ],
            [
             1,
             "#f0f921"
            ]
           ],
           "sequentialminus": [
            [
             0,
             "#0d0887"
            ],
            [
             0.1111111111111111,
             "#46039f"
            ],
            [
             0.2222222222222222,
             "#7201a8"
            ],
            [
             0.3333333333333333,
             "#9c179e"
            ],
            [
             0.4444444444444444,
             "#bd3786"
            ],
            [
             0.5555555555555556,
             "#d8576b"
            ],
            [
             0.6666666666666666,
             "#ed7953"
            ],
            [
             0.7777777777777778,
             "#fb9f3a"
            ],
            [
             0.8888888888888888,
             "#fdca26"
            ],
            [
             1,
             "#f0f921"
            ]
           ]
          },
          "colorway": [
           "#636efa",
           "#EF553B",
           "#00cc96",
           "#ab63fa",
           "#FFA15A",
           "#19d3f3",
           "#FF6692",
           "#B6E880",
           "#FF97FF",
           "#FECB52"
          ],
          "font": {
           "color": "#2a3f5f"
          },
          "geo": {
           "bgcolor": "white",
           "lakecolor": "white",
           "landcolor": "#E5ECF6",
           "showlakes": true,
           "showland": true,
           "subunitcolor": "white"
          },
          "hoverlabel": {
           "align": "left"
          },
          "hovermode": "closest",
          "mapbox": {
           "style": "light"
          },
          "paper_bgcolor": "white",
          "plot_bgcolor": "#E5ECF6",
          "polar": {
           "angularaxis": {
            "gridcolor": "white",
            "linecolor": "white",
            "ticks": ""
           },
           "bgcolor": "#E5ECF6",
           "radialaxis": {
            "gridcolor": "white",
            "linecolor": "white",
            "ticks": ""
           }
          },
          "scene": {
           "xaxis": {
            "backgroundcolor": "#E5ECF6",
            "gridcolor": "white",
            "gridwidth": 2,
            "linecolor": "white",
            "showbackground": true,
            "ticks": "",
            "zerolinecolor": "white"
           },
           "yaxis": {
            "backgroundcolor": "#E5ECF6",
            "gridcolor": "white",
            "gridwidth": 2,
            "linecolor": "white",
            "showbackground": true,
            "ticks": "",
            "zerolinecolor": "white"
           },
           "zaxis": {
            "backgroundcolor": "#E5ECF6",
            "gridcolor": "white",
            "gridwidth": 2,
            "linecolor": "white",
            "showbackground": true,
            "ticks": "",
            "zerolinecolor": "white"
           }
          },
          "shapedefaults": {
           "line": {
            "color": "#2a3f5f"
           }
          },
          "ternary": {
           "aaxis": {
            "gridcolor": "white",
            "linecolor": "white",
            "ticks": ""
           },
           "baxis": {
            "gridcolor": "white",
            "linecolor": "white",
            "ticks": ""
           },
           "bgcolor": "#E5ECF6",
           "caxis": {
            "gridcolor": "white",
            "linecolor": "white",
            "ticks": ""
           }
          },
          "title": {
           "x": 0.05
          },
          "xaxis": {
           "automargin": true,
           "gridcolor": "white",
           "linecolor": "white",
           "ticks": "",
           "title": {
            "standoff": 15
           },
           "zerolinecolor": "white",
           "zerolinewidth": 2
          },
          "yaxis": {
           "automargin": true,
           "gridcolor": "white",
           "linecolor": "white",
           "ticks": "",
           "title": {
            "standoff": 15
           },
           "zerolinecolor": "white",
           "zerolinewidth": 2
          }
         }
        },
        "title": {
         "text": "📊 Monthly Correlation Heatmap - COLCAP_Valor hoy"
        },
        "width": 1000,
        "xaxis": {
         "anchor": "y",
         "domain": [
          0,
          1
         ],
         "tickangle": -45,
         "title": {
          "text": "Month"
         }
        },
        "yaxis": {
         "anchor": "x",
         "autorange": "reversed",
         "domain": [
          0,
          1
         ],
         "title": {
          "text": "Stock"
         }
        }
       }
      }
     },
     "metadata": {},
     "output_type": "display_data"
    }
   ],
   "source": [
    "import plotly.express as px\n",
    "\n",
    "# 🔹 Convert 'YearMonth' to string (Fix Period object issue)\n",
    "monthly_corr.index = monthly_corr.index.astype(str)\n",
    "\n",
    "# 🔥 **Add Heatmap for Monthly Correlations**\n",
    "fig = px.imshow(\n",
    "    monthly_corr.T,  # Transpose to get stocks on y-axis\n",
    "    labels=dict(x=\"Month\", y=\"Stock\", color=\"Correlation\"),\n",
    "    title=f\"📊 Monthly Correlation Heatmap - {target_stock}\",\n",
    "    color_continuous_scale=\"RdBu_r\",\n",
    "    aspect=\"auto\",\n",
    ")\n",
    "\n",
    "fig.update_layout(\n",
    "    autosize=False,\n",
    "    width=1000,\n",
    "    height=600,\n",
    "    xaxis=dict(tickangle=-45),\n",
    ")"
   ]
  },
  {
   "cell_type": "code",
   "execution_count": 11,
   "metadata": {},
   "outputs": [
    {
     "data": {
      "application/vnd.plotly.v1+json": {
       "config": {
        "plotlyServerURL": "https://plot.ly"
       },
       "data": [
        {
         "coloraxis": "coloraxis",
         "hovertemplate": "Month: %{x}<br>Stock: %{y}<br>Correlation: %{z}<extra></extra>",
         "name": "0",
         "type": "heatmap",
         "x": [
          "2020-03",
          "2020-04",
          "2020-05",
          "2020-06",
          "2020-07",
          "2020-08",
          "2020-09",
          "2020-10",
          "2020-11",
          "2020-12",
          "2021-01",
          "2021-02",
          "2021-03",
          "2021-04",
          "2021-05",
          "2021-06",
          "2021-07",
          "2021-08",
          "2021-09",
          "2021-10",
          "2021-11",
          "2021-12",
          "2022-01",
          "2022-02",
          "2022-03",
          "2022-04",
          "2022-05",
          "2022-06",
          "2022-07",
          "2022-08",
          "2022-09",
          "2022-10",
          "2022-11",
          "2022-12",
          "2023-01",
          "2023-02",
          "2023-03",
          "2023-04",
          "2023-05",
          "2023-06",
          "2023-07",
          "2023-08",
          "2023-09",
          "2023-10",
          "2023-11",
          "2023-12",
          "2024-01",
          "2024-02",
          "2024-03",
          "2024-04",
          "2024-05",
          "2024-06",
          "2024-07",
          "2024-08",
          "2024-09",
          "2024-10",
          "2024-11",
          "2024-12",
          "2025-01",
          "2025-02",
          "2025-03"
         ],
         "xaxis": "x",
         "y": [
          "Fecha",
          "BCOLOMBIA_Precio cierre",
          "BHI_Precio cierre",
          "BOGOTA_Precio cierre",
          "BVC_Precio cierre",
          "CELSIA_Precio cierre",
          "CEMARGOS_Precio cierre",
          "CNEC_Precio cierre",
          "CONCONCRETO_Precio cierre",
          "CORFICOL_Precio cierre",
          "ECOPETROL_Precio cierre",
          "ENKA_Precio cierre",
          "ETB_Precio cierre",
          "EXITO_Precio cierre",
          "FABRICATO_Precio cierre",
          "GEB_Precio cierre",
          "GRUBOLIVAR_Precio cierre"
         ],
         "yaxis": "y",
         "z": [
          [
           0.39900239014945,
           0.059802634488944906,
           -0.3920311971745591,
           -0.420907205611656,
           0.7913803606261647,
           0.9369948489467771,
           -0.9628980626094729,
           -0.44061088965973355,
           0.946739680254395,
           0.873196629711945,
           -0.601987998886975,
           -0.43956186010050197,
           -0.784956405035374,
           -0.8970505467488862,
           -0.5412299477395958,
           0.4082032408693031,
           -0.7464675342600556,
           0.9040513121497956,
           0.34707255460353115,
           0.5896852485859881,
           -0.7192269939141491,
           -0.26023325626328503,
           0.8131628079932471,
           -0.3169871566083639,
           0.815810724434988,
           -0.7899660323996699,
           -0.441216518562866,
           -0.9773419065194429,
           -0.663730167016341,
           -0.24661862808252208,
           -0.8592933038829368,
           0.45979904076306094,
           0.1325002912556953,
           0.5566135428922243,
           -0.09497542810549649,
           -0.9459405685295216,
           -0.7478488213939255,
           0.042218807413512034,
           -0.9518839960427393,
           -0.5081423042446097,
           0.7840613999340336,
           -0.9418000608984795,
           0.8184471828265847,
           -0.27531779146690266,
           0.9494485831054313,
           0.8387295077006865,
           0.233027839115475,
           0.1723252127977144,
           0.6240984935937212,
           -0.513296586469765,
           0.5362324345479188,
           -0.803547345121259,
           -0.9334547285746742,
           0.5706729671570165,
           -0.5029520113165764,
           0.8244269372174222,
           0.7993814151295604,
           -0.3653552275735569,
           0.6349726300197325,
           0.9295789639103076,
           0.4982111398694657
          ],
          [
           0.9147693362460754,
           0.868561582627514,
           0.8840014320254236,
           0.9560019745759764,
           0.5380473494793436,
           0.9180209430221652,
           0.976841891752351,
           0.6843473987129108,
           0.9661319353527373,
           0.9773230781068636,
           0.7647606783913002,
           0.7944599003180702,
           0.7221983672798057,
           0.8272840879262702,
           0.9294132164795376,
           0.08098201460646548,
           0.22830973784972114,
           0.9949105862840971,
           0.962941351951111,
           0.8318305214952433,
           0.9621491863043281,
           0.8470284989325648,
           0.9821271878880571,
           0.8233836325461457,
           0.9588925678804754,
           0.9083370466871282,
           0.7464886905558961,
           0.9557806173783532,
           0.2066684171834643,
           0.8554488126059347,
           0.8513940803643885,
           0.6528860041651485,
           0.5535572464810913,
           0.1995411739210555,
           0.8990082228105634,
           0.9202484072380472,
           0.9462105399774084,
           0.8664819620935789,
           0.9590245390338942,
           0.9552914860323409,
           0.9275685535101595,
           0.950436731640428,
           0.8325187149468349,
           0.738292272230357,
           0.2725598473335571,
           0.8214001289806756,
           0.39429208214368616,
           0.6993022824438248,
           0.8966725942114987,
           0.860699349534896,
           0.921176368831639,
           0.8129679370270808,
           -0.7556979607107307,
           0.7863072767161768,
           0.6014493490785582,
           0.9275178775690662,
           0.8329004526524153,
           0.7578210221994071,
           0.9502090913687269,
           0.9656383096090528,
           0.847707759815022
          ],
          [
           null,
           null,
           null,
           null,
           null,
           null,
           null,
           null,
           null,
           null,
           null,
           null,
           null,
           null,
           null,
           null,
           null,
           null,
           null,
           null,
           null,
           null,
           null,
           null,
           -0.5986965755445466,
           0.4422277299033306,
           0.033394567174077225,
           0.929535968156151,
           0.37639936156849685,
           0.45971489322916304,
           0.6044093897279665,
           0.45233132831720485,
           -0.23990713582575315,
           -0.5053759804731525,
           0.6002249744316805,
           0.9475335840073593,
           0.17983284984703965,
           0.6558467615217372,
           0.9030386827852429,
           -0.3384555830983087,
           0.7370828007818901,
           0.5240326292431996,
           -0.6601176138792142,
           -0.37845163848147667,
           -0.29217974573430555,
           0.16131993552715027,
           0.7842971467457825,
           -0.08278010383069406,
           0.8457863432494267,
           0.15605639214382713,
           0.16468008740287246,
           -0.6359201455120296,
           0.8811202397616107,
           0.8364152085409035,
           -0.05527142265978324,
           0.34264228631302357,
           -0.5499547589790623,
           0.1674882618570538,
           0.19875500434770899,
           0.8587916369861438,
           0.47078586737785993
          ],
          [
           0.751578047661568,
           0.4146417684651228,
           0.600387474772242,
           0.3456821494026168,
           0.9201119903008428,
           0.9726171300515648,
           0.6366481236536793,
           0.06260955781887959,
           0.7383660153044326,
           0.8678680342667856,
           -0.5955412643542776,
           -0.001522262803583862,
           0.27729949123214426,
           0.07965655696889502,
           0.6160678822590584,
           -0.15334187040097513,
           0.7055454068911986,
           0.9080121093384367,
           0.030296903154051095,
           0.3655578630959814,
           0.6156972649288189,
           0.23481013237101142,
           0.8337308758082416,
           0.14556753216685975,
           -0.6943378766941242,
           0.5640878824201003,
           -0.1162478772302471,
           0.9067573481827557,
           0.8615511484906802,
           0.641158376504326,
           0.9426022190378138,
           -0.4141582847087483,
           0.1417007866667897,
           0.7265047208289831,
           0.6305079925014608,
           0.8810047492545828,
           -0.6923569822734403,
           0.6787154303584501,
           0.8876742506564573,
           0.7062982535283425,
           0.3445722566554869,
           0.826528599610037,
           -0.18205596268089258,
           0.7937668570287298,
           -0.6989421157325268,
           0.7584225543523431,
           0.2290595881932056,
           0.561402497940282,
           -0.5403277120344984,
           0.3876930530317983,
           -0.16751556724292666,
           0.6434904682586201,
           0.6364746509804242,
           0.4438079075682196,
           0.39711743766199425,
           0.4451695767467858,
           -0.13057340920143373,
           0.45927351639991815,
           0.8496368562442514,
           0.8399610310281432,
           0.5806286753856473
          ],
          [
           0.28345277573963457,
           -0.08080100649050524,
           0.3898732228151284,
           0.09018521552052253,
           0.6321006793103071,
           0.5898715489409047,
           0.6536266074669614,
           0.3975886284946951,
           0.8206688170275548,
           0.784471495868079,
           0.29120578911217637,
           0.09335833003205238,
           0.15569629550039193,
           -0.15843931047339477,
           0.0327088645011016,
           -0.17486705323887655,
           0.6417288489070068,
           -0.15552838403277902,
           0.4637268892725111,
           0.7320048626755443,
           0.8544989067742118,
           0.43945736704309957,
           0.9343038427463035,
           0.6181272703599713,
           -0.3738692487579639,
           0.2440298558462848,
           0.6866095911484777,
           0.9534991416226433,
           0.614892353716841,
           0.15692143103083198,
           0.28353073592800976,
           -0.17222208627224814,
           -0.5502059264160604,
           -0.3271059557606392,
           -0.5274411598159936,
           -0.7178361460999914,
           -0.856170587363699,
           -0.059990016623894776,
           -0.5270960969161697,
           0.28341862578291754,
           0.7462703785663567,
           0.328508387476906,
           -0.07714699879104443,
           -0.03993339678856988,
           0.9398200066923184,
           0.45123265491866826,
           -0.05602307095144992,
           0.20493524099852556,
           0.4250034454310689,
           0.4123088978326254,
           0.34033908137023267,
           -0.5525815391996942,
           null,
           -0.4962101771516887,
           0.5980437958030483,
           -0.39958985013929715,
           -0.27255871622033107,
           0.2021253670443726,
           0.8963512331040693,
           0.5486025160517555,
           0.6447135419981419
          ],
          [
           0.8244942520089868,
           0.4971738978295845,
           0.7536750791825713,
           0.6457434269156925,
           0.9165562721724733,
           0.9715857567245128,
           0.4427680345497328,
           0.7493723623613572,
           0.7864889729948887,
           0.6411078751482964,
           -0.28051973420784115,
           0.4730582787080477,
           0.2397607503742662,
           0.9445038109724679,
           0.8601267242168985,
           0.04855912699722846,
           0.8998963126553753,
           0.9045099501518374,
           0.38782554297246635,
           0.3510734201131366,
           0.6363699465386523,
           0.4489640443806801,
           0.873019372668311,
           0.3877264006673141,
           0.6584543786813265,
           0.5501231879421374,
           0.3488741105218606,
           0.9726360570910705,
           0.7178090991721132,
           0.7706533939587278,
           0.8439941148330912,
           -0.34836227012575516,
           0.5270922217225573,
           0.20606415866863165,
           0.8008203174820077,
           0.6905051027669412,
           -0.5755892435232003,
           0.5353934233098601,
           0.7425622538874501,
           0.7206738014902492,
           -0.058272742749761464,
           0.7703255368387436,
           0.5602378745966394,
           0.4107531130948172,
           0.6240115967671815,
           0.8914099433936052,
           0.23273977377360666,
           0.6633155965911277,
           0.3936376710422566,
           0.7199685239564533,
           0.8053717676818717,
           0.6475276690755698,
           0.5916885055546539,
           0.6763087125601799,
           0.7555846038590117,
           -0.4511202576986655,
           -0.4689786156168629,
           0.19564428716601312,
           -0.27465678051138265,
           0.8290802850170322,
           0.7797270546338656
          ],
          [
           0.9823662027029123,
           0.16479028431589365,
           0.6146761698347913,
           0.8059574052689641,
           0.9608320512376908,
           0.9805848467012525,
           0.9094460210215797,
           0.8274312582615927,
           0.9431099384207727,
           0.9432504436696176,
           0.29624516251196864,
           0.40206181517212763,
           0.8842914497508001,
           0.4332636673774037,
           0.9584190958580905,
           0.7353401040239378,
           -0.004371024481429493,
           0.9267415350840652,
           0.5026474848139352,
           0.7380822540595351,
           0.7258229236391696,
           0.1576326906731231,
           0.901885499264113,
           0.3078912068024948,
           0.6454745623296724,
           0.8275801423172766,
           0.8428860093462158,
           0.9615560162387363,
           0.8371611636403926,
           0.4562860950485049,
           0.8082230056295451,
           -0.0345365705132524,
           0.45548655122697296,
           0.2568517128555497,
           0.5646659826722896,
           0.6468952081426953,
           -0.684312193406228,
           0.8244455566794846,
           -0.28975829541804426,
           0.8895462636274041,
           0.8242825064439714,
           0.9249586827007865,
           0.658440732081775,
           -0.06041326964556361,
           0.9198176542511223,
           0.6901281255019327,
           0.6391952983936985,
           0.6430461263358006,
           0.7603951350740108,
           0.6843182459863449,
           0.5298121340299407,
           -0.17000298423345578,
           0.27364043955381634,
           0.7942986681458027,
           0.44742464924620534,
           0.7312145074757481,
           0.8819314099587171,
           -0.10060427412303749,
           0.09539584673528775,
           -0.1317474003045663,
           0.2755745052683223
          ],
          [
           0.513040830110947,
           -0.03519347188649843,
           0.03162480242087356,
           0.5125836614310278,
           0.037648842942022843,
           0.7143345467266661,
           0.29948115924234564,
           -0.32101413822257474,
           0.8483716877714644,
           -0.540080407696423,
           -0.5583492647194436,
           0.5568446067296933,
           -0.09182600042503135,
           0.14797777909424112,
           0.26342407771651766,
           0.6186073266108364,
           0.8562398220710115,
           -0.5856432212721512,
           0.18140677896003737,
           0.6841874419313151,
           0.7598076622601441,
           0.3056261352726547,
           0.15636901283110732,
           0.507201427428592,
           -0.39504241634731735,
           0.8928726217681243,
           0.757311914949512,
           0.8864671604119618,
           0.5546741155167102,
           -0.11932064994895587,
           0.9422610700616935,
           0.605341190206075,
           0.23404317317335616,
           0.5990300915196765,
           -0.34018221290734213,
           0.9247471427068047,
           0.6350882315576097,
           -0.12551501190181893,
           -0.8386665610605358,
           0.5615409570891023,
           0.6049629698926987,
           0.9027736476848599,
           -0.7682483852267288,
           0.6014357279908717,
           0.3420483869247795,
           0.3263932339958326,
           -0.1684989618943466,
           0.1166210774138216,
           -0.4105897202873062,
           -0.17511376669947562,
           0.06035452434587991,
           -0.40387924945988735,
           0.2799987172437249,
           0.06568099299451029,
           0.8505880679092073,
           -0.7369474650770007,
           0.9075151055442907,
           0.4709931991296984,
           -0.11824855922245199,
           0.004128481862320518,
           0.5421326994483513
          ],
          [
           -0.43477189504572866,
           -0.02747896143161425,
           0.6223952682673358,
           0.34012132999639205,
           0.6950636472698188,
           -0.03725682379345525,
           0.7587141895600051,
           0.4313411502042381,
           0.8386673274975291,
           0.44857852385149893,
           -0.07248749467089617,
           -0.3215910773815891,
           0.4682905941507279,
           0.9336078139815198,
           0.6049272553662485,
           0.16178352070200205,
           0.7686133479668501,
           0.7788943807649173,
           -0.3745451269327567,
           -0.6660786995273317,
           0.6787879987579714,
           -0.7360265056594998,
           0.6218952746422926,
           0.7730300757097094,
           -0.11474954872633336,
           0.7352351983286984,
           0.6494820377300329,
           0.9145020913086626,
           0.5678401237446404,
           0.7931981107920456,
           0.0033630051639035345,
           -0.3535606728268245,
           0.35265877044920946,
           -0.33337524818986564,
           -0.04112837371360909,
           0.9098472987293309,
           -0.15652329436971846,
           0.647675509187058,
           0.498486207474365,
           0.3060733500563119,
           0.6490328138764699,
           0.8452778519034558,
           0.46620905191657086,
           -0.6520815553463312,
           -0.7536469410430676,
           0.8393695219612517,
           0.4280414896602776,
           0.020355996006125407,
           -0.24688914906964557,
           -0.1957246347832395,
           0.5602810744130297,
           0.5769997811056271,
           0.6483433842942558,
           0.7063630321247704,
           0.8117366087779248,
           0.6067502968214502,
           0.47486244214370793,
           -0.4471993482337891,
           0.28858986283005617,
           -0.8957941352211367,
           -0.07783367122745503
          ],
          [
           0.9306382247765809,
           0.4712496959327529,
           0.7544820687067105,
           0.4769616648322893,
           -0.524500653808669,
           0.8687639600730562,
           0.8558746210075652,
           -0.16330648210534374,
           0.9054389893057544,
           0.8499786947943843,
           -0.36159344747790284,
           -0.020717931427643183,
           0.07887888697518163,
           0.25940500667305383,
           0.7068747708062973,
           0.4862232788688385,
           0.8601629746323927,
           0.551187303658628,
           0.05860658181857779,
           0.7810343028063689,
           0.8405868647175682,
           0.4828956608777363,
           0.8972436136732919,
           0.30364059197264925,
           0.5166537259480268,
           -0.7837674807371774,
           0.642466714576963,
           0.9621076346918407,
           0.8616144988239824,
           -0.2759396834370818,
           0.7498962339001645,
           -0.019610277378579965,
           0.5868247547815149,
           -0.2948579454662292,
           0.641153278695365,
           0.937083674529481,
           -0.07103853160430984,
           0.4938332522825558,
           -0.7113563766932184,
           0.8274306497600645,
           0.851140831744511,
           0.9196490541867138,
           0.8684172245145148,
           0.3982411298612245,
           -0.7740316909400828,
           0.7683544040652447,
           0.7826448970629462,
           -0.008777421041593259,
           -0.14062251983765264,
           0.3490208752167012,
           0.8572189709860892,
           0.8657515615805857,
           0.8894265664430333,
           0.2989392003219655,
           0.46014380325572957,
           0.9224004782549483,
           0.3848150233871677,
           0.04003741545633431,
           0.7778501989344391,
           0.9328031818624035,
           -0.16159475579856838
          ],
          [
           0.9512665423073577,
           0.4893664855647181,
           0.49151073985878624,
           0.9592597726703556,
           0.8513969188286687,
           0.22647427999055236,
           0.9120491415104062,
           0.8644985932385134,
           0.9442893029774263,
           0.8351535840973597,
           0.9208688670222108,
           -0.13907304345059399,
           0.11850525420381562,
           0.5655021597409401,
           0.8855441119249848,
           0.6297263545412161,
           0.6699666810533952,
           0.3423448804113281,
           0.9398247195406075,
           0.8845283487647333,
           0.7589190046348904,
           0.4700221417472936,
           0.9625591194950341,
           0.05960453034912907,
           0.9086565378401518,
           0.8369869546750847,
           0.8998289751325114,
           0.970701718260828,
           0.7740374722985289,
           0.08337665668723003,
           0.9332117647576804,
           0.8927552278096149,
           0.3019200843446853,
           0.9143415259123059,
           0.7389857062069463,
           -0.29440425016519073,
           0.9516288490342993,
           0.5708468969438506,
           0.06385037786427676,
           0.386297577106445,
           0.7575768854321444,
           -0.364864844421978,
           -0.052654008975459125,
           0.6649832075204761,
           0.7332909309896588,
           -0.5597141739730184,
           0.08748932559768167,
           0.7614344341868838,
           -0.3296775197582227,
           0.2680524967383065,
           0.5239921432428336,
           0.28457944493938253,
           0.8542121013641236,
           -0.07141095730379379,
           0.6549988790469636,
           -0.844391829493382,
           0.8116406690303812,
           0.36409237193849336,
           0.7764649053047825,
           0.6006193969000974,
           0.832893177198463
          ],
          [
           null,
           0.2092853762151053,
           -0.5419655650021448,
           -0.07541946124132137,
           0.4993624039688967,
           -0.8292846853618169,
           0.49567057934330444,
           null,
           -0.6304065165964967,
           0.6794463686606637,
           0.5247812238226288,
           -0.625138400482878,
           -0.7028256479304498,
           -0.1888230182773624,
           0.10180819012835386,
           -0.21458485809235,
           0.590724012425836,
           0.9397965139516107,
           0.04363042851447973,
           0.1899955989701903,
           0.8541041342334559,
           0.6562721834894754,
           0.7121681842030105,
           -0.06912333650844175,
           -0.773126877378266,
           0.22963491364995436,
           0.6410301806576604,
           0.967421723418934,
           -0.04517052665852391,
           0.2100871779237575,
           -0.8402088453317867,
           0.3805005791994887,
           -0.23086080864393518,
           -0.3563390705642739,
           null,
           0.8230734645200665,
           -0.6779621159920417,
           0.013368940909516364,
           0.9046068778556361,
           -0.22968110893243307,
           -0.9262684064884845,
           0.8345711084882895,
           null,
           null,
           -0.7008757160795772,
           -0.7376468991682501,
           0.14823959400985812,
           null,
           -0.27908137252871773,
           0.10030050516093507,
           -0.36454289911863125,
           0.7184077420743965,
           0.6861376801504505,
           0.018711278371811316,
           -0.07214107682303064,
           0.29586328066831763,
           -0.679577623243258,
           0.2959336968739031,
           0.7200608026533761,
           0.542481377408356,
           0.553446568825399
          ],
          [
           0.44110413810593246,
           0.35320120692912255,
           0.2914322691720051,
           0.29980174224351264,
           0.18293384029298748,
           0.4316734608514718,
           0.23516762364765043,
           -0.012905999344010075,
           0.8883388339987665,
           0.32777156853550365,
           0.4116441819181544,
           -0.2700100892898541,
           0.5404169234893967,
           0.6320319354349152,
           0.7643859909877789,
           -0.06266275984358215,
           0.5882042959976822,
           0.6248046624691058,
           0.1475900723253692,
           0.20535427467701067,
           0.6613707160591137,
           0.7379123280837216,
           -0.4908225158327332,
           -0.04623504725267048,
           -0.4798355163438608,
           0.8039921919841337,
           0.23622650737361345,
           0.22018469095497822,
           0.5436529794471939,
           0.6026737781616688,
           0.563344573655147,
           -0.5166770482189532,
           -0.16298474335918586,
           -0.4517977771740276,
           0.30126694351703104,
           null,
           0.3661070028685336,
           0.22587409077756365,
           -0.31449514066610634,
           -0.039699440803787185,
           -0.649597265284484,
           -0.49315763517376165,
           null,
           -0.32348134175739973,
           -0.6534166221923675,
           0.7300583167387039,
           -0.13752896673955978,
           -0.4815564750796606,
           null,
           -0.42506388571389364,
           0.10569455948852552,
           -0.3255963598753527,
           0.8447264267752908,
           null,
           0.06394124395466352,
           null,
           -0.4724615320432712,
           null,
           -0.4698391391119141,
           -0.4503803005052984,
           -0.5586044371705245
          ],
          [
           -0.26462437192109856,
           -0.4666387164695267,
           -0.09781287679235165,
           0.6365418051747314,
           0.293680186983343,
           0.9209264156570055,
           0.8724719455028352,
           0.537897596737119,
           0.8475568953089616,
           0.5755144568669578,
           -0.24718975698071768,
           0.13980898441633674,
           0.1437255713312163,
           0.7473537873651238,
           0.6704650515747165,
           0.6034093659396549,
           0.12540113317766347,
           -0.05697351692046442,
           -0.1967983987470562,
           0.11470787486836147,
           0.44519567817119826,
           -0.07773784434681308,
           0.8931123446416354,
           0.15107413045015455,
           0.3360671172302653,
           0.5491608929713043,
           0.6506930527119258,
           0.9386934227395292,
           0.7120511480526238,
           0.08818420910403692,
           0.6909435886490656,
           -0.1436915945122081,
           0.2553839262241273,
           -0.6266257233139192,
           0.26769570586972763,
           -0.6342458950789106,
           -0.6056371034949766,
           -0.35322655624722765,
           -0.6545014623565644,
           -0.3477999294306972,
           0.2661124424846172,
           0.8691225578763419,
           -0.04419877159657703,
           -0.058751016766650815,
           -0.4529142372115952,
           -0.27971617137512617,
           0.08864151701316444,
           0.336459876234534,
           0.35493944340841854,
           0.6596023559593578,
           -0.5676113799004808,
           0.6728629978103752,
           -0.47073245145549253,
           0.36175694216993176,
           0.40965240451643264,
           0.19409842620200113,
           -0.8486722459152998,
           -0.07775328688768174,
           -0.49803788589780323,
           0.34400899944796914,
           -0.013557302980551814
          ],
          [
           null,
           0.07918957290585056,
           null,
           0.03349479285659345,
           0.19241247477462103,
           0.4742385002947094,
           0.8115979474108768,
           null,
           0.7422939006449963,
           0.266385654448049,
           0.6888417027296985,
           0.4644227957247132,
           0.699087369557917,
           null,
           -0.653356528645493,
           -0.2948160196255322,
           -0.03959390475479062,
           0.4935862462262603,
           0.7534043022034903,
           -0.22578138114605745,
           0.6182587181309671,
           -0.6809034628334307,
           0.8455493031015526,
           -0.3704157330711211,
           -0.3820036088697116,
           -0.002506902747327434,
           0.7925931534004277,
           0.7323980985114473,
           -0.3423054939147536,
           -0.3507626212996381,
           0.8204399699763526,
           0.5658124349722949,
           -0.4518013059956834,
           -0.5296711067960438,
           -0.5025897054524027,
           null,
           0.7510172667150549,
           -0.18554616653324696,
           0.7821851106686264,
           null,
           null,
           0.8606263131253864,
           null,
           null,
           null,
           null,
           -0.4001778347678208,
           -0.6262573911530345,
           0.2522729735755554,
           null,
           0.15071326147695197,
           null,
           null,
           null,
           null,
           -0.22577172913190383,
           null,
           0.5211638144963244,
           -0.40410938010522474,
           0.7968375280775825,
           null
          ],
          [
           0.4224874937494558,
           0.7400714645551326,
           0.39956602240496647,
           0.12911439110414188,
           -0.06481666680356944,
           0.9398486459463169,
           -0.34985407294026766,
           0.8602060116958609,
           0.8671574574225706,
           -0.479292809972052,
           -0.19396734813814634,
           0.42955261186805993,
           -0.37606275821735585,
           0.5774371100263435,
           0.8796731983487394,
           0.429000229480415,
           0.3601746748073439,
           0.9515860788929412,
           0.4295999739373985,
           0.18718326259736046,
           0.789495926920281,
           0.5529092731269792,
           0.9270826565014625,
           0.47439508746512604,
           -0.1481728828632494,
           -0.30273318882833533,
           0.7448990019018051,
           0.9194124510239557,
           0.8173217542514661,
           0.6985259701172921,
           0.4976288909086599,
           -0.39008840319127436,
           0.14394462755589726,
           -0.4221522115194008,
           0.3931801408222577,
           0.8759068311398738,
           -0.13033722028807904,
           0.03755498045799972,
           0.22619044401953547,
           0.7790691435505585,
           -0.0067900571121421935,
           0.6730921405353781,
           0.28632046529129734,
           -0.3175932641579346,
           0.9241300199497513,
           0.4760774086008274,
           0.9133914421229055,
           0.8591449768388337,
           0.33181422802677174,
           0.9583150519678592,
           0.5406689388901834,
           0.5426431795089799,
           0.718294532907622,
           0.603903602441641,
           0.12287547303599947,
           0.8239270829013788,
           0.9182154315044091,
           0.7104420381477429,
           0.8791638874078146,
           0.7425186040829057,
           0.7977038438789513
          ],
          [
           0.3016074584681601,
           0.6393418680388652,
           0.748673191230179,
           0.07619679638869446,
           0.6301581937775325,
           0.6924816568660247,
           0.8038107905805298,
           0.7013608577872825,
           0.9104918726917751,
           0.8820323709286485,
           0.9044241960414425,
           0.46657812328387366,
           0.25459418647336707,
           -0.5151779689564755,
           -0.08208287601084073,
           -0.4302326424713004,
           0.5362503594536714,
           0.7434891669000364,
           0.1206399443023344,
           -0.45315199777703796,
           -0.4341778293051724,
           0.17103469717310288,
           0.728882885711984,
           0.4006559761082881,
           -0.1391773794703483,
           -0.4988922374250029,
           0.7375799336429512,
           0.9306189298644449,
           0.7630371228261753,
           0.4587953332693342,
           0.6742114784673882,
           0.732552955350551,
           0.5493409585023806,
           0.2340812769928042,
           -0.0843296273658711,
           0.8369936477402035,
           -0.7899237555542772,
           -0.13062213395129338,
           -0.8737420554352417,
           0.6288649328828451,
           -0.2814984797975677,
           0.7612726641008603,
           -0.2811264281396325,
           0.14002494800007365,
           -0.8415827756522267,
           0.752337198299171,
           0.19836004902252985,
           -0.051352750360035344,
           0.7483154946338079,
           0.7333402556927828,
           -0.11459526493319194,
           0.5634072874743569,
           0.9012367138913144,
           0.4682686710212486,
           -0.023945003520337748,
           -0.23484549037484975,
           0.21347874787483587,
           0.35711751366146194,
           -0.142498117913773,
           0.9077601800744869,
           0.22464837759583212
          ]
         ]
        }
       ],
       "layout": {
        "autosize": false,
        "coloraxis": {
         "colorbar": {
          "title": {
           "text": "Correlation"
          }
         },
         "colorscale": [
          [
           0,
           "rgb(5,48,97)"
          ],
          [
           0.1,
           "rgb(33,102,172)"
          ],
          [
           0.2,
           "rgb(67,147,195)"
          ],
          [
           0.3,
           "rgb(146,197,222)"
          ],
          [
           0.4,
           "rgb(209,229,240)"
          ],
          [
           0.5,
           "rgb(247,247,247)"
          ],
          [
           0.6,
           "rgb(253,219,199)"
          ],
          [
           0.7,
           "rgb(244,165,130)"
          ],
          [
           0.8,
           "rgb(214,96,77)"
          ],
          [
           0.9,
           "rgb(178,24,43)"
          ],
          [
           1,
           "rgb(103,0,31)"
          ]
         ]
        },
        "height": 600,
        "template": {
         "data": {
          "bar": [
           {
            "error_x": {
             "color": "#2a3f5f"
            },
            "error_y": {
             "color": "#2a3f5f"
            },
            "marker": {
             "line": {
              "color": "#E5ECF6",
              "width": 0.5
             },
             "pattern": {
              "fillmode": "overlay",
              "size": 10,
              "solidity": 0.2
             }
            },
            "type": "bar"
           }
          ],
          "barpolar": [
           {
            "marker": {
             "line": {
              "color": "#E5ECF6",
              "width": 0.5
             },
             "pattern": {
              "fillmode": "overlay",
              "size": 10,
              "solidity": 0.2
             }
            },
            "type": "barpolar"
           }
          ],
          "carpet": [
           {
            "aaxis": {
             "endlinecolor": "#2a3f5f",
             "gridcolor": "white",
             "linecolor": "white",
             "minorgridcolor": "white",
             "startlinecolor": "#2a3f5f"
            },
            "baxis": {
             "endlinecolor": "#2a3f5f",
             "gridcolor": "white",
             "linecolor": "white",
             "minorgridcolor": "white",
             "startlinecolor": "#2a3f5f"
            },
            "type": "carpet"
           }
          ],
          "choropleth": [
           {
            "colorbar": {
             "outlinewidth": 0,
             "ticks": ""
            },
            "type": "choropleth"
           }
          ],
          "contour": [
           {
            "colorbar": {
             "outlinewidth": 0,
             "ticks": ""
            },
            "colorscale": [
             [
              0,
              "#0d0887"
             ],
             [
              0.1111111111111111,
              "#46039f"
             ],
             [
              0.2222222222222222,
              "#7201a8"
             ],
             [
              0.3333333333333333,
              "#9c179e"
             ],
             [
              0.4444444444444444,
              "#bd3786"
             ],
             [
              0.5555555555555556,
              "#d8576b"
             ],
             [
              0.6666666666666666,
              "#ed7953"
             ],
             [
              0.7777777777777778,
              "#fb9f3a"
             ],
             [
              0.8888888888888888,
              "#fdca26"
             ],
             [
              1,
              "#f0f921"
             ]
            ],
            "type": "contour"
           }
          ],
          "contourcarpet": [
           {
            "colorbar": {
             "outlinewidth": 0,
             "ticks": ""
            },
            "type": "contourcarpet"
           }
          ],
          "heatmap": [
           {
            "colorbar": {
             "outlinewidth": 0,
             "ticks": ""
            },
            "colorscale": [
             [
              0,
              "#0d0887"
             ],
             [
              0.1111111111111111,
              "#46039f"
             ],
             [
              0.2222222222222222,
              "#7201a8"
             ],
             [
              0.3333333333333333,
              "#9c179e"
             ],
             [
              0.4444444444444444,
              "#bd3786"
             ],
             [
              0.5555555555555556,
              "#d8576b"
             ],
             [
              0.6666666666666666,
              "#ed7953"
             ],
             [
              0.7777777777777778,
              "#fb9f3a"
             ],
             [
              0.8888888888888888,
              "#fdca26"
             ],
             [
              1,
              "#f0f921"
             ]
            ],
            "type": "heatmap"
           }
          ],
          "heatmapgl": [
           {
            "colorbar": {
             "outlinewidth": 0,
             "ticks": ""
            },
            "colorscale": [
             [
              0,
              "#0d0887"
             ],
             [
              0.1111111111111111,
              "#46039f"
             ],
             [
              0.2222222222222222,
              "#7201a8"
             ],
             [
              0.3333333333333333,
              "#9c179e"
             ],
             [
              0.4444444444444444,
              "#bd3786"
             ],
             [
              0.5555555555555556,
              "#d8576b"
             ],
             [
              0.6666666666666666,
              "#ed7953"
             ],
             [
              0.7777777777777778,
              "#fb9f3a"
             ],
             [
              0.8888888888888888,
              "#fdca26"
             ],
             [
              1,
              "#f0f921"
             ]
            ],
            "type": "heatmapgl"
           }
          ],
          "histogram": [
           {
            "marker": {
             "pattern": {
              "fillmode": "overlay",
              "size": 10,
              "solidity": 0.2
             }
            },
            "type": "histogram"
           }
          ],
          "histogram2d": [
           {
            "colorbar": {
             "outlinewidth": 0,
             "ticks": ""
            },
            "colorscale": [
             [
              0,
              "#0d0887"
             ],
             [
              0.1111111111111111,
              "#46039f"
             ],
             [
              0.2222222222222222,
              "#7201a8"
             ],
             [
              0.3333333333333333,
              "#9c179e"
             ],
             [
              0.4444444444444444,
              "#bd3786"
             ],
             [
              0.5555555555555556,
              "#d8576b"
             ],
             [
              0.6666666666666666,
              "#ed7953"
             ],
             [
              0.7777777777777778,
              "#fb9f3a"
             ],
             [
              0.8888888888888888,
              "#fdca26"
             ],
             [
              1,
              "#f0f921"
             ]
            ],
            "type": "histogram2d"
           }
          ],
          "histogram2dcontour": [
           {
            "colorbar": {
             "outlinewidth": 0,
             "ticks": ""
            },
            "colorscale": [
             [
              0,
              "#0d0887"
             ],
             [
              0.1111111111111111,
              "#46039f"
             ],
             [
              0.2222222222222222,
              "#7201a8"
             ],
             [
              0.3333333333333333,
              "#9c179e"
             ],
             [
              0.4444444444444444,
              "#bd3786"
             ],
             [
              0.5555555555555556,
              "#d8576b"
             ],
             [
              0.6666666666666666,
              "#ed7953"
             ],
             [
              0.7777777777777778,
              "#fb9f3a"
             ],
             [
              0.8888888888888888,
              "#fdca26"
             ],
             [
              1,
              "#f0f921"
             ]
            ],
            "type": "histogram2dcontour"
           }
          ],
          "mesh3d": [
           {
            "colorbar": {
             "outlinewidth": 0,
             "ticks": ""
            },
            "type": "mesh3d"
           }
          ],
          "parcoords": [
           {
            "line": {
             "colorbar": {
              "outlinewidth": 0,
              "ticks": ""
             }
            },
            "type": "parcoords"
           }
          ],
          "pie": [
           {
            "automargin": true,
            "type": "pie"
           }
          ],
          "scatter": [
           {
            "fillpattern": {
             "fillmode": "overlay",
             "size": 10,
             "solidity": 0.2
            },
            "type": "scatter"
           }
          ],
          "scatter3d": [
           {
            "line": {
             "colorbar": {
              "outlinewidth": 0,
              "ticks": ""
             }
            },
            "marker": {
             "colorbar": {
              "outlinewidth": 0,
              "ticks": ""
             }
            },
            "type": "scatter3d"
           }
          ],
          "scattercarpet": [
           {
            "marker": {
             "colorbar": {
              "outlinewidth": 0,
              "ticks": ""
             }
            },
            "type": "scattercarpet"
           }
          ],
          "scattergeo": [
           {
            "marker": {
             "colorbar": {
              "outlinewidth": 0,
              "ticks": ""
             }
            },
            "type": "scattergeo"
           }
          ],
          "scattergl": [
           {
            "marker": {
             "colorbar": {
              "outlinewidth": 0,
              "ticks": ""
             }
            },
            "type": "scattergl"
           }
          ],
          "scattermapbox": [
           {
            "marker": {
             "colorbar": {
              "outlinewidth": 0,
              "ticks": ""
             }
            },
            "type": "scattermapbox"
           }
          ],
          "scatterpolar": [
           {
            "marker": {
             "colorbar": {
              "outlinewidth": 0,
              "ticks": ""
             }
            },
            "type": "scatterpolar"
           }
          ],
          "scatterpolargl": [
           {
            "marker": {
             "colorbar": {
              "outlinewidth": 0,
              "ticks": ""
             }
            },
            "type": "scatterpolargl"
           }
          ],
          "scatterternary": [
           {
            "marker": {
             "colorbar": {
              "outlinewidth": 0,
              "ticks": ""
             }
            },
            "type": "scatterternary"
           }
          ],
          "surface": [
           {
            "colorbar": {
             "outlinewidth": 0,
             "ticks": ""
            },
            "colorscale": [
             [
              0,
              "#0d0887"
             ],
             [
              0.1111111111111111,
              "#46039f"
             ],
             [
              0.2222222222222222,
              "#7201a8"
             ],
             [
              0.3333333333333333,
              "#9c179e"
             ],
             [
              0.4444444444444444,
              "#bd3786"
             ],
             [
              0.5555555555555556,
              "#d8576b"
             ],
             [
              0.6666666666666666,
              "#ed7953"
             ],
             [
              0.7777777777777778,
              "#fb9f3a"
             ],
             [
              0.8888888888888888,
              "#fdca26"
             ],
             [
              1,
              "#f0f921"
             ]
            ],
            "type": "surface"
           }
          ],
          "table": [
           {
            "cells": {
             "fill": {
              "color": "#EBF0F8"
             },
             "line": {
              "color": "white"
             }
            },
            "header": {
             "fill": {
              "color": "#C8D4E3"
             },
             "line": {
              "color": "white"
             }
            },
            "type": "table"
           }
          ]
         },
         "layout": {
          "annotationdefaults": {
           "arrowcolor": "#2a3f5f",
           "arrowhead": 0,
           "arrowwidth": 1
          },
          "autotypenumbers": "strict",
          "coloraxis": {
           "colorbar": {
            "outlinewidth": 0,
            "ticks": ""
           }
          },
          "colorscale": {
           "diverging": [
            [
             0,
             "#8e0152"
            ],
            [
             0.1,
             "#c51b7d"
            ],
            [
             0.2,
             "#de77ae"
            ],
            [
             0.3,
             "#f1b6da"
            ],
            [
             0.4,
             "#fde0ef"
            ],
            [
             0.5,
             "#f7f7f7"
            ],
            [
             0.6,
             "#e6f5d0"
            ],
            [
             0.7,
             "#b8e186"
            ],
            [
             0.8,
             "#7fbc41"
            ],
            [
             0.9,
             "#4d9221"
            ],
            [
             1,
             "#276419"
            ]
           ],
           "sequential": [
            [
             0,
             "#0d0887"
            ],
            [
             0.1111111111111111,
             "#46039f"
            ],
            [
             0.2222222222222222,
             "#7201a8"
            ],
            [
             0.3333333333333333,
             "#9c179e"
            ],
            [
             0.4444444444444444,
             "#bd3786"
            ],
            [
             0.5555555555555556,
             "#d8576b"
            ],
            [
             0.6666666666666666,
             "#ed7953"
            ],
            [
             0.7777777777777778,
             "#fb9f3a"
            ],
            [
             0.8888888888888888,
             "#fdca26"
            ],
            [
             1,
             "#f0f921"
            ]
           ],
           "sequentialminus": [
            [
             0,
             "#0d0887"
            ],
            [
             0.1111111111111111,
             "#46039f"
            ],
            [
             0.2222222222222222,
             "#7201a8"
            ],
            [
             0.3333333333333333,
             "#9c179e"
            ],
            [
             0.4444444444444444,
             "#bd3786"
            ],
            [
             0.5555555555555556,
             "#d8576b"
            ],
            [
             0.6666666666666666,
             "#ed7953"
            ],
            [
             0.7777777777777778,
             "#fb9f3a"
            ],
            [
             0.8888888888888888,
             "#fdca26"
            ],
            [
             1,
             "#f0f921"
            ]
           ]
          },
          "colorway": [
           "#636efa",
           "#EF553B",
           "#00cc96",
           "#ab63fa",
           "#FFA15A",
           "#19d3f3",
           "#FF6692",
           "#B6E880",
           "#FF97FF",
           "#FECB52"
          ],
          "font": {
           "color": "#2a3f5f"
          },
          "geo": {
           "bgcolor": "white",
           "lakecolor": "white",
           "landcolor": "#E5ECF6",
           "showlakes": true,
           "showland": true,
           "subunitcolor": "white"
          },
          "hoverlabel": {
           "align": "left"
          },
          "hovermode": "closest",
          "mapbox": {
           "style": "light"
          },
          "paper_bgcolor": "white",
          "plot_bgcolor": "#E5ECF6",
          "polar": {
           "angularaxis": {
            "gridcolor": "white",
            "linecolor": "white",
            "ticks": ""
           },
           "bgcolor": "#E5ECF6",
           "radialaxis": {
            "gridcolor": "white",
            "linecolor": "white",
            "ticks": ""
           }
          },
          "scene": {
           "xaxis": {
            "backgroundcolor": "#E5ECF6",
            "gridcolor": "white",
            "gridwidth": 2,
            "linecolor": "white",
            "showbackground": true,
            "ticks": "",
            "zerolinecolor": "white"
           },
           "yaxis": {
            "backgroundcolor": "#E5ECF6",
            "gridcolor": "white",
            "gridwidth": 2,
            "linecolor": "white",
            "showbackground": true,
            "ticks": "",
            "zerolinecolor": "white"
           },
           "zaxis": {
            "backgroundcolor": "#E5ECF6",
            "gridcolor": "white",
            "gridwidth": 2,
            "linecolor": "white",
            "showbackground": true,
            "ticks": "",
            "zerolinecolor": "white"
           }
          },
          "shapedefaults": {
           "line": {
            "color": "#2a3f5f"
           }
          },
          "ternary": {
           "aaxis": {
            "gridcolor": "white",
            "linecolor": "white",
            "ticks": ""
           },
           "baxis": {
            "gridcolor": "white",
            "linecolor": "white",
            "ticks": ""
           },
           "bgcolor": "#E5ECF6",
           "caxis": {
            "gridcolor": "white",
            "linecolor": "white",
            "ticks": ""
           }
          },
          "title": {
           "x": 0.05
          },
          "xaxis": {
           "automargin": true,
           "gridcolor": "white",
           "linecolor": "white",
           "ticks": "",
           "title": {
            "standoff": 15
           },
           "zerolinecolor": "white",
           "zerolinewidth": 2
          },
          "yaxis": {
           "automargin": true,
           "gridcolor": "white",
           "linecolor": "white",
           "ticks": "",
           "title": {
            "standoff": 15
           },
           "zerolinecolor": "white",
           "zerolinewidth": 2
          }
         }
        },
        "title": {
         "text": "📊 Monthly Correlation Heatmap (Group 1) - COLCAP_Valor hoy"
        },
        "width": 1000,
        "xaxis": {
         "anchor": "y",
         "domain": [
          0,
          1
         ],
         "tickangle": -45,
         "title": {
          "text": "Month"
         }
        },
        "yaxis": {
         "anchor": "x",
         "autorange": "reversed",
         "domain": [
          0,
          1
         ],
         "title": {
          "text": "Stock"
         }
        }
       }
      }
     },
     "metadata": {},
     "output_type": "display_data"
    },
    {
     "data": {
      "application/vnd.plotly.v1+json": {
       "config": {
        "plotlyServerURL": "https://plot.ly"
       },
       "data": [
        {
         "coloraxis": "coloraxis",
         "hovertemplate": "Month: %{x}<br>Stock: %{y}<br>Correlation: %{z}<extra></extra>",
         "name": "0",
         "type": "heatmap",
         "x": [
          "2020-03",
          "2020-04",
          "2020-05",
          "2020-06",
          "2020-07",
          "2020-08",
          "2020-09",
          "2020-10",
          "2020-11",
          "2020-12",
          "2021-01",
          "2021-02",
          "2021-03",
          "2021-04",
          "2021-05",
          "2021-06",
          "2021-07",
          "2021-08",
          "2021-09",
          "2021-10",
          "2021-11",
          "2021-12",
          "2022-01",
          "2022-02",
          "2022-03",
          "2022-04",
          "2022-05",
          "2022-06",
          "2022-07",
          "2022-08",
          "2022-09",
          "2022-10",
          "2022-11",
          "2022-12",
          "2023-01",
          "2023-02",
          "2023-03",
          "2023-04",
          "2023-05",
          "2023-06",
          "2023-07",
          "2023-08",
          "2023-09",
          "2023-10",
          "2023-11",
          "2023-12",
          "2024-01",
          "2024-02",
          "2024-03",
          "2024-04",
          "2024-05",
          "2024-06",
          "2024-07",
          "2024-08",
          "2024-09",
          "2024-10",
          "2024-11",
          "2024-12",
          "2025-01",
          "2025-02",
          "2025-03"
         ],
         "xaxis": "x",
         "y": [
          "GRUPOARGOS_Precio cierre",
          "GRUPOAVAL_Precio cierre",
          "GRUPOSURA_Precio cierre",
          "GXTESCOL_Precio cierre",
          "HCOLSEL_Precio cierre",
          "ISA_Precio cierre",
          "MINEROS_Precio cierre",
          "NUTRESA_Precio cierre",
          "PEI_Precio cierre",
          "PFAVAL_Precio cierre",
          "PFBCOLOMBIA_Precio cierre",
          "PFCEMARGOS_Precio cierre",
          "PFCORFICOL_Precio cierre",
          "PFDAVVNDA_Precio cierre",
          "PFGRUPARG_Precio cierre",
          "PFGRUPOSURA_Precio cierre",
          "PROMIGAS_Precio cierre",
          "TERPEL_Precio cierre"
         ],
         "yaxis": "y",
         "z": [
          [
           0.9338821192151132,
           0.4240747311515591,
           0.7294591570380377,
           0.23599921051772538,
           0.9061591973134827,
           0.9769109936762659,
           0.8954082446759002,
           0.6270166859093306,
           0.9703566264672536,
           0.9732114752239486,
           0.6468900163503276,
           0.585041880016466,
           0.9165375457410496,
           0.9147106598387931,
           0.9415405220567613,
           0.7416445971952824,
           0.6836011065667016,
           0.9818097132594488,
           0.5629335957593509,
           0.9024922311587829,
           0.4203599140971967,
           0.7399900941181445,
           0.9797954644499354,
           0.6282351538938135,
           0.7672043495797353,
           0.17575776626706316,
           0.4649537795294237,
           -0.731363883514442,
           0.7791917288696567,
           0.5328032835118486,
           0.20921231853799918,
           0.5759129994714185,
           0.6669327174052,
           -0.026983393584340216,
           0.8537962158024486,
           0.16510898609674204,
           0.606828173761747,
           0.7391912825218647,
           -0.6835173725871879,
           0.23015001111435288,
           0.34733865956965904,
           0.8824499230427173,
           0.779835058339088,
           0.5202268286820575,
           0.7906374814024153,
           0.8500104929142962,
           0.914428046178543,
           0.8931621395991389,
           0.8785218622196536,
           0.3878786588466815,
           0.5509374336208552,
           0.26238773844176516,
           0.48759149374061633,
           0.6075333436362115,
           -0.3292097858673913,
           0.8026301932221583,
           0.7427589539158966,
           0.24864161218595346,
           0.08639764528267248,
           0.7449891388914786,
           0.8184730056899526
          ],
          [
           -0.018782675867573564,
           -0.5464131517355881,
           null,
           0.17107134898419163,
           -0.47178881352662644,
           0.33875360236753255,
           0.8095718545925348,
           0.49427866823168864,
           0.9085171079087186,
           0.8749269625613799,
           0.8022038080679309,
           0.3000297871086362,
           0.4380328584009957,
           0.18670948450004435,
           0.5160021464902192,
           0.13619011681375998,
           0.4238214522286424,
           0.9154633737643457,
           -0.8286817484732725,
           0.7340671609531725,
           0.861474956284821,
           0.4696336335225806,
           0.910506203893202,
           0.21836389319640326,
           -0.6991850263819739,
           0.32473915462570896,
           0.15650892491672166,
           0.48315817066423905,
           0.7383128198902594,
           0.408288801273006,
           null,
           null,
           null,
           null,
           null,
           null,
           null,
           null,
           null,
           null,
           null,
           null,
           null,
           null,
           null,
           null,
           null,
           null,
           null,
           null,
           null,
           null,
           null,
           null,
           null,
           null,
           null,
           null,
           null,
           null,
           null
          ],
          [
           0.9711917661588088,
           0.9642031147317959,
           0.5445683558063493,
           0.9304025610476885,
           0.5985976959229556,
           0.9153606456896021,
           0.8257505374326178,
           0.8465824410034997,
           0.8949670357980712,
           0.9610575310637219,
           0.9031334893068911,
           0.81350596559544,
           0.8870641554541843,
           0.8640185890039771,
           0.6640000403990306,
           -0.08642552775412998,
           0.8938127304054215,
           0.9687214026189259,
           0.816904652088195,
           0.6392841629071282,
           0.12535296004749483,
           -0.008318174482465105,
           -0.7168329989347235,
           -0.09748547570887553,
           0.5312323904472677,
           -0.6063292633059314,
           0.015756617316355807,
           0.5516716339381185,
           0.44808856943334974,
           0.25299388441879317,
           -0.6771211920588949,
           0.4154549908037359,
           0.2883543492570899,
           0.5020760044328066,
           0.021028665547644012,
           0.41390592846294877,
           -0.4642105056980085,
           0.7628249046777498,
           0.9033211642431612,
           0.600724177442611,
           0.8436647436332654,
           0.7772081367805904,
           -0.2262549568031102,
           0.14706616471110948,
           -0.8668023862118953,
           -0.5381154267079648,
           0.001921911677653623,
           -0.3628253919021481,
           0.39124321843676535,
           -0.2448450453586219,
           0.01420944712743512,
           0.42323421356962154,
           0.8134544227226315,
           0.2857311147311801,
           0.5600471271570018,
           0.8771385234799808,
           -0.2752260773433294,
           -0.16844390012271548,
           0.4017247491106116,
           0.979083712245139,
           0.17258265451166105
          ],
          [
           null,
           null,
           null,
           null,
           null,
           null,
           null,
           null,
           null,
           null,
           null,
           null,
           null,
           null,
           null,
           null,
           null,
           null,
           null,
           null,
           null,
           null,
           null,
           null,
           null,
           null,
           null,
           null,
           null,
           null,
           null,
           null,
           null,
           null,
           null,
           null,
           null,
           null,
           null,
           null,
           null,
           null,
           null,
           null,
           null,
           null,
           null,
           null,
           0.814543943704975,
           0.15209451650754827,
           0.2464984725434839,
           -0.6498102889111563,
           -0.6427151872576069,
           0.7171354413316718,
           -0.2994795096941134,
           -0.5211802554833763,
           0.5318297402044269,
           0.4243861927437773,
           0.7527217598528708,
           0.5234352734446628,
           0.14334151039405268
          ],
          [
           0.9841973334612406,
           -0.3276299072883577,
           0.3936019504914744,
           0.8410157884725546,
           0.8713185344647408,
           0.9717408486646429,
           0.9443173261871619,
           0.8966062027683063,
           0.9800730989791644,
           0.9718183878070268,
           0.9661883796520645,
           0.7821329417640245,
           0.8544677537660345,
           0.9752734975728953,
           0.8865888830051951,
           0.8702480493743392,
           0.7760085361512934,
           0.9933314350891391,
           0.8928298464518922,
           0.8182031646746404,
           0.9761544403117616,
           0.7868892233371606,
           0.9625799341663934,
           0.7027250559807897,
           0.8950844934922193,
           0.7351211537846253,
           0.9570264933353373,
           0.9544414711860648,
           0.8221934712828359,
           0.7380681146733531,
           0.6109779265490508,
           0.6509462767777955,
           0.6949543385974816,
           0.016579954695899773,
           0.8845698694335243,
           0.8312102273038351,
           0.9517736679030715,
           0.4148785360468609,
           0.4798336714878772,
           0.5484239045795718,
           0.8319905410102683,
           0.9234743585177074,
           0.8098855747361158,
           0.029081670235655766,
           0.9439915038167865,
           0.8934564910264815,
           0.8734976667438946,
           0.5262638476810724,
           0.7264028228971174,
           0.719438101788416,
           0.8768643163982706,
           0.5895314432292356,
           0.9171902442700247,
           0.8165505337154398,
           0.6022430129374878,
           0.8484571276345191,
           0.22455632839539358,
           0.5322771722191126,
           0.8285243286945003,
           0.9828430826834825,
           -0.34682481491397016
          ],
          [
           0.8906093403296705,
           0.48726819922695697,
           -0.07141810378289419,
           0.409454205421329,
           0.7106468380669969,
           0.9273354828235977,
           0.8228043202917933,
           0.44396708824992354,
           0.5823076305993803,
           0.8656614191462639,
           0.959933152361606,
           0.7087227691086075,
           0.7597232026185055,
           0.8846791274681144,
           0.8962244704953134,
           0.45159511488165577,
           0.9561055213900974,
           0.9013803099288182,
           0.5842849223694613,
           -0.1486032690568114,
           0.6959831820676314,
           0.8417805408615558,
           0.9336467743443816,
           0.2613650753229391,
           0.7752926318046159,
           0.8828058682873188,
           0.818349378609143,
           0.8116663963193029,
           0.4183185057218908,
           0.727389207888161,
           0.8634083427191703,
           0.3827316668348761,
           0.6215607836724095,
           0.7454481164287045,
           0.774487444614229,
           0.846324194359974,
           0.9016179694135172,
           0.15276439188099392,
           0.7676802846965433,
           0.7254200695362177,
           0.9184401990730204,
           0.869761595060388,
           0.7418486650840554,
           0.30792690820223945,
           0.5929246937920581,
           -0.1467063282234287,
           0.838604323638836,
           0.7398253784542234,
           0.4628558358059202,
           0.7930313965453947,
           -0.18048641347464572,
           0.8696365152061412,
           0.7113894927605524,
           0.8977937569954063,
           0.8561581675654922,
           0.801448147643003,
           -0.2923129674114792,
           0.7232475574145062,
           0.9020996421077597,
           0.9283373846494793,
           -0.3284119712525829
          ],
          [
           0.8252129120121744,
           0.02284993155564763,
           -0.1756781221922709,
           0.41023341989310236,
           0.8319426658536909,
           -0.4573924841596129,
           0.8765050126726237,
           0.14621705744194075,
           -0.16536482683227996,
           0.7916857223454393,
           -0.10785393483613973,
           0.28985977282069564,
           -0.6545138825822554,
           0.3975288509104983,
           0.8160395462560347,
           0.2095633222229172,
           0.775154129064943,
           0.3334570222903522,
           0.6507036518230712,
           -0.0027161227882601733,
           0.8898848206128841,
           0.21387848947795618,
           0.88625704609797,
           0.8521159333926177,
           -0.34514182318881603,
           0.7799657781809076,
           0.7595395296705038,
           0.9748784616270483,
           0.5969557991517451,
           -0.2935367191820019,
           0.860902464021235,
           -0.41014688153856044,
           0.22976290220553536,
           0.4346986101586083,
           0.30879172143818107,
           0.6919381603359364,
           -0.17239713622503136,
           0.42638063423691336,
           0.549780822404138,
           0.6215972335446952,
           0.8314393887766218,
           0.7491127930141505,
           -0.2470826226311967,
           0.6686501313578899,
           -0.8773953852239146,
           0.7726536627725248,
           0.5992297452169423,
           0.48279335099369697,
           0.6685488563786403,
           0.2741177874031669,
           0.19303118257410554,
           -0.04983428217617828,
           -0.12828847386217423,
           0.5591436055775728,
           -0.09995727724220572,
           0.28687554672264903,
           0.8407266751837308,
           -0.21226820203343294,
           0.6603357182408843,
           0.8648335331504952,
           -0.45237376240905525
          ],
          [
           0.9267274748628895,
           0.3765546763541,
           0.36391285747934105,
           0.6038961366384695,
           0.47969938997004974,
           0.8903728458136567,
           0.7242134737985253,
           0.43716259225049575,
           0.6883963023390164,
           0.33717212962404275,
           -0.5864247719372463,
           0.5121610265268219,
           -0.004889038405712706,
           0.8036468509994543,
           0.9256827696868731,
           0.31941634595022467,
           0.802196353484692,
           0.9479701997387184,
           0.39473460175742636,
           0.9277928940675746,
           -0.3774181076463062,
           0.6396541676199902,
           0.8968968672600942,
           0.26178070072777243,
           0.5074896841904758,
           -0.7875137095105607,
           0.36845348972709613,
           -0.024782728316207824,
           0.2203070327537842,
           0.3964632495997311,
           0.592502159224351,
           0.5946797205816917,
           0.3015278457248016,
           -0.16520292623931365,
           0.243097396550624,
           -0.6575260172583485,
           0.6634793630966157,
           0.7637619919639084,
           0.8923436024195728,
           0.7230900645021813,
           -0.41784948093620994,
           -0.09180499597462087,
           -0.4436746814948418,
           0.11071771961095146,
           -0.040436320724449484,
           -0.8163562383511789,
           -0.21985962268079637,
           -0.09667014599999002,
           -0.2445496885231784,
           0.5787246991281705,
           -0.1641934225577612,
           0.25627875229523367,
           -0.3909657097645347,
           0.4444830688835621,
           -0.4766182249003223,
           0.8530530568386573,
           -0.31939765163112305,
           0.4400487531802823,
           0.5640650244126868,
           0.774601942682262,
           -0.2442066924754746
          ],
          [
           null,
           null,
           null,
           null,
           null,
           null,
           null,
           null,
           null,
           null,
           null,
           null,
           null,
           null,
           null,
           null,
           null,
           null,
           null,
           null,
           null,
           null,
           null,
           null,
           null,
           null,
           null,
           null,
           null,
           -0.43724430935706066,
           0.4649482871851482,
           -0.346038890850265,
           0.12895564891176423,
           0.7545647936933254,
           0.27008572775219514,
           0.9681387522823109,
           0.7770403311058565,
           0.50019953627321,
           0.8356162280333631,
           -0.6628278620707281,
           0.4603352469678756,
           -0.8748336424284316,
           0.7909517234417406,
           0.7361776370292953,
           0.7285337692476321,
           0.8481957058940532,
           0.032173064142806185,
           -0.20146285900298463,
           0.2737303672135316,
           0.7606157530150024,
           0.2552751504572236,
           0.5895258728279429,
           0.8206295872577097,
           0.8684780868655276,
           0.10145811528124786,
           -0.02449857886676495,
           0.8391420195625128,
           0.17604624695927248,
           0.45982508078973844,
           -0.4120429919813936,
           0.47630097568342017
          ],
          [
           0.8461919410632929,
           0.5897614560605684,
           0.7447777465287599,
           0.8907346586360558,
           0.9336296657487965,
           0.9708912660186368,
           0.9277244233384161,
           0.6928958245380598,
           0.8442525350237295,
           0.9769227057652244,
           0.4735992884005729,
           0.8045718134265955,
           0.6723357343927288,
           0.743967497288888,
           0.7861359704270054,
           0.464358947612557,
           0.893053631998284,
           0.9739938492116503,
           0.4238623006626629,
           0.7733846553938329,
           0.8418642261564694,
           0.6678532702556913,
           0.9773974089678703,
           0.5025881648499444,
           -0.7081850462285341,
           0.06253376695344086,
           0.2862501328345262,
           0.9752556441132276,
           0.8367737949338852,
           0.6104532330149228,
           -0.7280652760987663,
           null,
           null,
           null,
           null,
           null,
           null,
           null,
           null,
           null,
           null,
           null,
           null,
           null,
           null,
           null,
           null,
           null,
           null,
           null,
           null,
           null,
           null,
           null,
           null,
           null,
           null,
           null,
           null,
           null,
           null
          ],
          [
           0.9296413597373178,
           0.9143739030545284,
           0.9403430052909983,
           0.9648550393406836,
           0.5058455329666337,
           0.9416779650608992,
           0.9801225410889741,
           0.7734105246157335,
           0.9892395520935922,
           0.9736760416081407,
           0.8320964123629258,
           0.8220021486162568,
           0.8771175777270349,
           0.9192722425084557,
           0.8434875966138209,
           -0.047646960251842514,
           0.4208876672772752,
           0.9865865493195802,
           0.9484771242056204,
           0.8432829531259828,
           0.9697313889028516,
           0.8616970176124898,
           0.9790421054375426,
           0.8795556642627939,
           0.9787718466342147,
           0.8588390473686502,
           0.8377545443392479,
           0.9855649130288917,
           0.6412426537932933,
           0.8816080374767505,
           0.9711760819425426,
           0.7899902479589657,
           0.534609298342987,
           0.8780015483228928,
           0.2772567196705299,
           0.928923143550501,
           0.9745384217556541,
           0.9285287406377208,
           0.9408952091483181,
           0.9649592388698546,
           0.966700895627166,
           0.8582435976784252,
           0.7072483808291283,
           0.6802400372697872,
           0.8476542699081484,
           0.9440379655659333,
           0.5598843635664855,
           0.9199965279403802,
           0.862817686207085,
           0.8836364761449016,
           0.9540219975378778,
           0.8248019875981165,
           0.8120983351665255,
           0.960289192600017,
           0.9350856245876904,
           0.936615442325584,
           0.8869273044442086,
           0.7331772204440234,
           0.958454855932059,
           0.9749865196278558,
           0.8708981558327356
          ],
          [
           0.892214326410095,
           0.47964102284000437,
           0.7854588601177502,
           0.6033958009561754,
           0.9206161123381044,
           0.9863863604714096,
           0.37640466126649885,
           0.826645969909915,
           0.8832259431026807,
           0.9568979255902914,
           0.01214797942514692,
           0.5581485338993594,
           0.8538625430938367,
           0.7708561780196003,
           0.8854906561814111,
           0.4420053445742853,
           0.2934679831602736,
           0.9618156115280913,
           -0.13145417808976545,
           0.8501480363975821,
           0.8998633196031198,
           0.1723081107571327,
           0.952000730278512,
           0.5749753852808073,
           -0.02078780368483118,
           0.7113470101725372,
           0.8179269059964097,
           0.9676403720114112,
           0.6063840650927311,
           0.4255799978731176,
           0.8834036270759431,
           -0.1273848557194515,
           0.5787872071611341,
           0.07777537286303256,
           0.5687203179463497,
           0.764870061514628,
           0.009562881655858717,
           0.24908259992501278,
           0.7347930746017423,
           0.6002178030797105,
           -0.33107012287670917,
           0.712605070949629,
           0.7116219974618516,
           0.051705321630473144,
           0.9399152164410016,
           0.8040320975394745,
           0.17235352747449872,
           0.8319550286827427,
           0.8170970670018567,
           0.8461711707305113,
           -0.7220058825363204,
           -0.12513444000845608,
           0.22781107743554374,
           0.6877901300656102,
           0.47512229010660445,
           -0.5684822690129598,
           0.7776390884978428,
           0.13586326364285065,
           -0.11179095840083,
           -0.4884188225170391,
           -0.42084627214252773
          ],
          [
           -0.7026304294312251,
           0.23897504737733494,
           0.6521213763853517,
           0.0491362340895572,
           -0.4446752719863024,
           0.8244930516038631,
           0.7417728250095714,
           0.42183281177436077,
           0.9217581846025439,
           0.7306907143861215,
           0.3652397766477574,
           -0.009694086020351142,
           0.0026339650723098394,
           -0.12914936870769297,
           0.5810915621540067,
           0.10058542101156272,
           0.6519309234796109,
           0.5105778246146295,
           0.6248664984181913,
           -0.31913349989004164,
           0.48306312881138785,
           0.6760799862250447,
           0.8878975885161197,
           0.7124244869450667,
           0.47931943026844026,
           -0.721605388902172,
           0.6302415068783802,
           0.9829420517892147,
           0.83789539993752,
           -0.3687548123339997,
           0.8185059376599504,
           -0.3157738514435196,
           -0.19643091463940177,
           0.1932859303962724,
           0.703008407898107,
           0.8613984546102935,
           0.5367151410967742,
           0.3894303734825507,
           0.12959161230854194,
           0.7161687922179776,
           0.8398275870392782,
           0.8117512070220247,
           0.5401447829667471,
           0.18432146230240562,
           -0.6113577066287953,
           0.6372107463659507,
           0.7419758917830696,
           0.6812046174029737,
           0.5928742762567585,
           -0.06774679538689526,
           -0.6719769612959876,
           0.8455796926607281,
           0.9251826276337686,
           0.06072891490599462,
           0.2813851706395022,
           0.9352999307192348,
           0.46756959045947505,
           0.26496040488485945,
           0.7929272408877323,
           0.8638263967228219,
           0.6860248626038629
          ],
          [
           0.9618803933149415,
           0.5057428617587914,
           0.6152953095309626,
           0.5532082030161076,
           -0.23675037952126085,
           0.9265669856629293,
           0.8774859175031389,
           0.510312385569674,
           0.960780643681737,
           0.9577179356248585,
           0.596160758310693,
           0.6365869781735362,
           0.7415304436542045,
           0.3575265401303338,
           0.9088782095402391,
           0.16127793902307688,
           0.4478686473258806,
           0.9837423917912264,
           0.7878545911519863,
           0.8554906541983064,
           0.9104291095216788,
           0.7309984369952311,
           0.8717492660292477,
           0.5562847640305308,
           0.8234934516222017,
           0.5476357895901129,
           0.4991128065256406,
           0.8843940098056446,
           0.8876487768864587,
           0.42638883498095287,
           0.4502634855822971,
           -0.44652621299696743,
           0.7240859367634215,
           0.2957940911260367,
           0.7158148835261373,
           0.728755039065277,
           0.7096377541121903,
           -0.15219673060189845,
           0.9240081109775281,
           0.6961315128192084,
           0.9441742781412861,
           0.885326928304855,
           -0.3032936425385348,
           0.37649968345094165,
           -0.23289071370274345,
           0.8657633851785194,
           0.4236149050198141,
           0.5779427659705842,
           0.1030763343800655,
           0.7281664359417982,
           0.5971432418206075,
           0.9002130775209982,
           0.918443127743192,
           0.2056208394682514,
           -0.3555876381097915,
           0.5491099370255109,
           0.7338843141657959,
           0.31478332843285856,
           0.6016125058393521,
           0.9380764893251381,
           0.7902126855406688
          ],
          [
           0.9790503531527952,
           0.6190104682706388,
           0.8506964418772769,
           0.6896294133415051,
           0.755223528770324,
           0.9083799343910651,
           0.13577073834307238,
           0.6344411389748879,
           0.833306509095067,
           0.9377889631281813,
           0.07922607340667406,
           0.510780335055014,
           0.9290111152244636,
           0.883973735291646,
           0.923828247653032,
           0.5634455743514264,
           0.6991017150175171,
           0.8831705140123562,
           0.7057536695829553,
           0.840825032955945,
           0.44108807092931723,
           0.5535608332390302,
           0.9609082760145478,
           0.6190308771756978,
           -0.06479156631576606,
           0.7305736700783981,
           0.8798473921808219,
           0.9271233879754174,
           0.33721923756026334,
           -0.04769112424837708,
           0.8649503499849365,
           -0.28718806305268735,
           -0.015844798897088928,
           0.26700854028328136,
           0.5257550160044495,
           0.3452280894774016,
           0.7733729450502878,
           0.14996169028895434,
           0.289534762443893,
           -0.5891490478396997,
           0.11180085814530985,
           0.9122223235250004,
           0.6309860428363103,
           0.0019019304620799165,
           0.9183925190898939,
           0.8396899393303565,
           0.3748695473157191,
           0.6297067030833821,
           0.658007397107425,
           0.5529535790128132,
           0.7070388306936414,
           0.6041464579249286,
           0.6953107032143585,
           0.7720818695581451,
           0.38385209768065026,
           0.9569868890967314,
           0.775256197113393,
           -0.2650759713099089,
           -0.014430063869793093,
           0.8909351393826033,
           0.4107106939005505
          ],
          [
           0.936560185353915,
           0.5219810154980817,
           0.5332602121739752,
           0.8938064854785236,
           0.8726978491883849,
           0.9566964910934327,
           0.6264931355038488,
           0.7721820560672994,
           0.8830103449924829,
           0.9219919198379727,
           0.910566006671367,
           0.6925122195441786,
           0.9285610657252276,
           0.9240581425716705,
           0.7788314079443625,
           0.09262814061842305,
           0.8792270526867196,
           0.9750677167256199,
           0.816432643026991,
           0.6167912952414378,
           0.20795920624682604,
           0.12957444145155342,
           0.9458906349619596,
           0.6986391993466227,
           0.39077969916889577,
           0.4452018393021688,
           0.514203331418153,
           0.9882341173787091,
           0.5696882364456919,
           -0.1802448135601163,
           0.7795352067207372,
           -0.04304634305434599,
           0.3800505017125222,
           0.708177102492153,
           0.5581787106183554,
           0.975549826120435,
           0.8362068282638695,
           0.7396610128357066,
           0.23917831581329663,
           -0.5462347843515918,
           0.7336636979361848,
           0.8171687302239292,
           -0.3519781341064157,
           0.1930761137956729,
           0.5017143255024996,
           0.7733268604375078,
           0.3123983550889952,
           0.467568859928704,
           0.3368714542438597,
           0.06615257399985099,
           0.8665672841367332,
           0.1940684013167875,
           0.9350073567440021,
           0.48474946628667004,
           0.6667307961909867,
           0.8345804040676453,
           0.0540448486629246,
           -0.11537194718235379,
           0.9565892921601109,
           0.9224726864617082,
           0.544557218331122
          ],
          [
           -0.20393027217536638,
           0.1768333124208574,
           0.6286148378522373,
           0.4745385833814295,
           0.6790468414651804,
           0.9345233652010885,
           -0.7008989802574992,
           0.4094961355624387,
           0.7691249747556846,
           0.1779045409922697,
           0.7103427503862247,
           0.49858341977560516,
           0.7144922196958451,
           0.4343682570652254,
           0.7696380084632604,
           -0.12604481417507146,
           0.29058424137806615,
           0.9239883278843638,
           0.11612543342967749,
           -0.16707993358867648,
           0.18371083885087547,
           0.3710899601414231,
           0.9023356497974179,
           0.6244424598482742,
           0.7304073844107044,
           0.061613017385178964,
           0.004512608074697229,
           0.9732764843363026,
           0.8622322177605302,
           0.3296039155762658,
           0.8621130543976064,
           -0.22659411804526428,
           -0.28405209936419934,
           -0.4127042667496945,
           0.1032564254547965,
           0.6674996077023387,
           0.2600653696587901,
           0.3122511072876622,
           0.1550576642330543,
           -0.23444806095256968,
           0.8974059525406813,
           0.6963006975232039,
           -0.4190269151006266,
           0.09903291734288236,
           0.35296310697610933,
           0.8484918028505858,
           0.3784834916958789,
           -0.18057405857925846,
           0.11915544877347319,
           -0.5227740238805848,
           0.5585757753949184,
           0.4476387582731481,
           -0.5529024816249519,
           0.33516559578950594,
           -0.06035117054065392,
           -0.21743965313596353,
           -0.045059091499905606,
           -0.048672265206940235,
           -0.6851468906578787,
           0.07677415386766864,
           0.40582148591437606
          ],
          [
           -0.26741561402033026,
           0.5260774825803031,
           0.29796562723195674,
           0.4077479459922018,
           0.7664416857691578,
           0.5762848418207528,
           -0.20262366926729722,
           -0.27960878259138855,
           0.7155665467849223,
           0.246198109412601,
           0.7285999263441983,
           0.11096122675531532,
           0.5761981899477924,
           0.7171735460634278,
           0.5401024835468987,
           -0.2983922858751236,
           0.6722488259798022,
           0.9207210454660155,
           0.4067878966600357,
           0.7974165758035064,
           0.26438492210907555,
           0.05802245724742408,
           0.793516280834263,
           0.21321725097908806,
           -0.8880128595695291,
           0.7338938348489074,
           0.4635008932347303,
           0.9471773374794317,
           0.5127666242664466,
           -0.3927863123028138,
           0.5600020822289666,
           0.17761846384552005,
           0.011282023682164601,
           0.406040334472205,
           0.45101610874337816,
           0.7165235957387303,
           0.20896448176682966,
           -0.17051521670729108,
           -0.14232073490722802,
           0.8339013355438462,
           0.7505306341612583,
           0.7255250508883857,
           -0.4728108742135166,
           0.2449344785051582,
           0.8437352501463043,
           0.7372233250499414,
           0.7383680608516389,
           0.543925228740803,
           -0.5896547859672511,
           -0.06301376826933704,
           0.8363462318944721,
           0.8479370299429116,
           0.7761250851246908,
           0.6765140623152142,
           -0.4645726498132388,
           0.7552050178952584,
           0.9079489853849698,
           -0.07892569000751588,
           0.02082533334319149,
           0.7884761733304217,
           0.8261764034866873
          ]
         ]
        }
       ],
       "layout": {
        "autosize": false,
        "coloraxis": {
         "colorbar": {
          "title": {
           "text": "Correlation"
          }
         },
         "colorscale": [
          [
           0,
           "rgb(5,48,97)"
          ],
          [
           0.1,
           "rgb(33,102,172)"
          ],
          [
           0.2,
           "rgb(67,147,195)"
          ],
          [
           0.3,
           "rgb(146,197,222)"
          ],
          [
           0.4,
           "rgb(209,229,240)"
          ],
          [
           0.5,
           "rgb(247,247,247)"
          ],
          [
           0.6,
           "rgb(253,219,199)"
          ],
          [
           0.7,
           "rgb(244,165,130)"
          ],
          [
           0.8,
           "rgb(214,96,77)"
          ],
          [
           0.9,
           "rgb(178,24,43)"
          ],
          [
           1,
           "rgb(103,0,31)"
          ]
         ]
        },
        "height": 600,
        "template": {
         "data": {
          "bar": [
           {
            "error_x": {
             "color": "#2a3f5f"
            },
            "error_y": {
             "color": "#2a3f5f"
            },
            "marker": {
             "line": {
              "color": "#E5ECF6",
              "width": 0.5
             },
             "pattern": {
              "fillmode": "overlay",
              "size": 10,
              "solidity": 0.2
             }
            },
            "type": "bar"
           }
          ],
          "barpolar": [
           {
            "marker": {
             "line": {
              "color": "#E5ECF6",
              "width": 0.5
             },
             "pattern": {
              "fillmode": "overlay",
              "size": 10,
              "solidity": 0.2
             }
            },
            "type": "barpolar"
           }
          ],
          "carpet": [
           {
            "aaxis": {
             "endlinecolor": "#2a3f5f",
             "gridcolor": "white",
             "linecolor": "white",
             "minorgridcolor": "white",
             "startlinecolor": "#2a3f5f"
            },
            "baxis": {
             "endlinecolor": "#2a3f5f",
             "gridcolor": "white",
             "linecolor": "white",
             "minorgridcolor": "white",
             "startlinecolor": "#2a3f5f"
            },
            "type": "carpet"
           }
          ],
          "choropleth": [
           {
            "colorbar": {
             "outlinewidth": 0,
             "ticks": ""
            },
            "type": "choropleth"
           }
          ],
          "contour": [
           {
            "colorbar": {
             "outlinewidth": 0,
             "ticks": ""
            },
            "colorscale": [
             [
              0,
              "#0d0887"
             ],
             [
              0.1111111111111111,
              "#46039f"
             ],
             [
              0.2222222222222222,
              "#7201a8"
             ],
             [
              0.3333333333333333,
              "#9c179e"
             ],
             [
              0.4444444444444444,
              "#bd3786"
             ],
             [
              0.5555555555555556,
              "#d8576b"
             ],
             [
              0.6666666666666666,
              "#ed7953"
             ],
             [
              0.7777777777777778,
              "#fb9f3a"
             ],
             [
              0.8888888888888888,
              "#fdca26"
             ],
             [
              1,
              "#f0f921"
             ]
            ],
            "type": "contour"
           }
          ],
          "contourcarpet": [
           {
            "colorbar": {
             "outlinewidth": 0,
             "ticks": ""
            },
            "type": "contourcarpet"
           }
          ],
          "heatmap": [
           {
            "colorbar": {
             "outlinewidth": 0,
             "ticks": ""
            },
            "colorscale": [
             [
              0,
              "#0d0887"
             ],
             [
              0.1111111111111111,
              "#46039f"
             ],
             [
              0.2222222222222222,
              "#7201a8"
             ],
             [
              0.3333333333333333,
              "#9c179e"
             ],
             [
              0.4444444444444444,
              "#bd3786"
             ],
             [
              0.5555555555555556,
              "#d8576b"
             ],
             [
              0.6666666666666666,
              "#ed7953"
             ],
             [
              0.7777777777777778,
              "#fb9f3a"
             ],
             [
              0.8888888888888888,
              "#fdca26"
             ],
             [
              1,
              "#f0f921"
             ]
            ],
            "type": "heatmap"
           }
          ],
          "heatmapgl": [
           {
            "colorbar": {
             "outlinewidth": 0,
             "ticks": ""
            },
            "colorscale": [
             [
              0,
              "#0d0887"
             ],
             [
              0.1111111111111111,
              "#46039f"
             ],
             [
              0.2222222222222222,
              "#7201a8"
             ],
             [
              0.3333333333333333,
              "#9c179e"
             ],
             [
              0.4444444444444444,
              "#bd3786"
             ],
             [
              0.5555555555555556,
              "#d8576b"
             ],
             [
              0.6666666666666666,
              "#ed7953"
             ],
             [
              0.7777777777777778,
              "#fb9f3a"
             ],
             [
              0.8888888888888888,
              "#fdca26"
             ],
             [
              1,
              "#f0f921"
             ]
            ],
            "type": "heatmapgl"
           }
          ],
          "histogram": [
           {
            "marker": {
             "pattern": {
              "fillmode": "overlay",
              "size": 10,
              "solidity": 0.2
             }
            },
            "type": "histogram"
           }
          ],
          "histogram2d": [
           {
            "colorbar": {
             "outlinewidth": 0,
             "ticks": ""
            },
            "colorscale": [
             [
              0,
              "#0d0887"
             ],
             [
              0.1111111111111111,
              "#46039f"
             ],
             [
              0.2222222222222222,
              "#7201a8"
             ],
             [
              0.3333333333333333,
              "#9c179e"
             ],
             [
              0.4444444444444444,
              "#bd3786"
             ],
             [
              0.5555555555555556,
              "#d8576b"
             ],
             [
              0.6666666666666666,
              "#ed7953"
             ],
             [
              0.7777777777777778,
              "#fb9f3a"
             ],
             [
              0.8888888888888888,
              "#fdca26"
             ],
             [
              1,
              "#f0f921"
             ]
            ],
            "type": "histogram2d"
           }
          ],
          "histogram2dcontour": [
           {
            "colorbar": {
             "outlinewidth": 0,
             "ticks": ""
            },
            "colorscale": [
             [
              0,
              "#0d0887"
             ],
             [
              0.1111111111111111,
              "#46039f"
             ],
             [
              0.2222222222222222,
              "#7201a8"
             ],
             [
              0.3333333333333333,
              "#9c179e"
             ],
             [
              0.4444444444444444,
              "#bd3786"
             ],
             [
              0.5555555555555556,
              "#d8576b"
             ],
             [
              0.6666666666666666,
              "#ed7953"
             ],
             [
              0.7777777777777778,
              "#fb9f3a"
             ],
             [
              0.8888888888888888,
              "#fdca26"
             ],
             [
              1,
              "#f0f921"
             ]
            ],
            "type": "histogram2dcontour"
           }
          ],
          "mesh3d": [
           {
            "colorbar": {
             "outlinewidth": 0,
             "ticks": ""
            },
            "type": "mesh3d"
           }
          ],
          "parcoords": [
           {
            "line": {
             "colorbar": {
              "outlinewidth": 0,
              "ticks": ""
             }
            },
            "type": "parcoords"
           }
          ],
          "pie": [
           {
            "automargin": true,
            "type": "pie"
           }
          ],
          "scatter": [
           {
            "fillpattern": {
             "fillmode": "overlay",
             "size": 10,
             "solidity": 0.2
            },
            "type": "scatter"
           }
          ],
          "scatter3d": [
           {
            "line": {
             "colorbar": {
              "outlinewidth": 0,
              "ticks": ""
             }
            },
            "marker": {
             "colorbar": {
              "outlinewidth": 0,
              "ticks": ""
             }
            },
            "type": "scatter3d"
           }
          ],
          "scattercarpet": [
           {
            "marker": {
             "colorbar": {
              "outlinewidth": 0,
              "ticks": ""
             }
            },
            "type": "scattercarpet"
           }
          ],
          "scattergeo": [
           {
            "marker": {
             "colorbar": {
              "outlinewidth": 0,
              "ticks": ""
             }
            },
            "type": "scattergeo"
           }
          ],
          "scattergl": [
           {
            "marker": {
             "colorbar": {
              "outlinewidth": 0,
              "ticks": ""
             }
            },
            "type": "scattergl"
           }
          ],
          "scattermapbox": [
           {
            "marker": {
             "colorbar": {
              "outlinewidth": 0,
              "ticks": ""
             }
            },
            "type": "scattermapbox"
           }
          ],
          "scatterpolar": [
           {
            "marker": {
             "colorbar": {
              "outlinewidth": 0,
              "ticks": ""
             }
            },
            "type": "scatterpolar"
           }
          ],
          "scatterpolargl": [
           {
            "marker": {
             "colorbar": {
              "outlinewidth": 0,
              "ticks": ""
             }
            },
            "type": "scatterpolargl"
           }
          ],
          "scatterternary": [
           {
            "marker": {
             "colorbar": {
              "outlinewidth": 0,
              "ticks": ""
             }
            },
            "type": "scatterternary"
           }
          ],
          "surface": [
           {
            "colorbar": {
             "outlinewidth": 0,
             "ticks": ""
            },
            "colorscale": [
             [
              0,
              "#0d0887"
             ],
             [
              0.1111111111111111,
              "#46039f"
             ],
             [
              0.2222222222222222,
              "#7201a8"
             ],
             [
              0.3333333333333333,
              "#9c179e"
             ],
             [
              0.4444444444444444,
              "#bd3786"
             ],
             [
              0.5555555555555556,
              "#d8576b"
             ],
             [
              0.6666666666666666,
              "#ed7953"
             ],
             [
              0.7777777777777778,
              "#fb9f3a"
             ],
             [
              0.8888888888888888,
              "#fdca26"
             ],
             [
              1,
              "#f0f921"
             ]
            ],
            "type": "surface"
           }
          ],
          "table": [
           {
            "cells": {
             "fill": {
              "color": "#EBF0F8"
             },
             "line": {
              "color": "white"
             }
            },
            "header": {
             "fill": {
              "color": "#C8D4E3"
             },
             "line": {
              "color": "white"
             }
            },
            "type": "table"
           }
          ]
         },
         "layout": {
          "annotationdefaults": {
           "arrowcolor": "#2a3f5f",
           "arrowhead": 0,
           "arrowwidth": 1
          },
          "autotypenumbers": "strict",
          "coloraxis": {
           "colorbar": {
            "outlinewidth": 0,
            "ticks": ""
           }
          },
          "colorscale": {
           "diverging": [
            [
             0,
             "#8e0152"
            ],
            [
             0.1,
             "#c51b7d"
            ],
            [
             0.2,
             "#de77ae"
            ],
            [
             0.3,
             "#f1b6da"
            ],
            [
             0.4,
             "#fde0ef"
            ],
            [
             0.5,
             "#f7f7f7"
            ],
            [
             0.6,
             "#e6f5d0"
            ],
            [
             0.7,
             "#b8e186"
            ],
            [
             0.8,
             "#7fbc41"
            ],
            [
             0.9,
             "#4d9221"
            ],
            [
             1,
             "#276419"
            ]
           ],
           "sequential": [
            [
             0,
             "#0d0887"
            ],
            [
             0.1111111111111111,
             "#46039f"
            ],
            [
             0.2222222222222222,
             "#7201a8"
            ],
            [
             0.3333333333333333,
             "#9c179e"
            ],
            [
             0.4444444444444444,
             "#bd3786"
            ],
            [
             0.5555555555555556,
             "#d8576b"
            ],
            [
             0.6666666666666666,
             "#ed7953"
            ],
            [
             0.7777777777777778,
             "#fb9f3a"
            ],
            [
             0.8888888888888888,
             "#fdca26"
            ],
            [
             1,
             "#f0f921"
            ]
           ],
           "sequentialminus": [
            [
             0,
             "#0d0887"
            ],
            [
             0.1111111111111111,
             "#46039f"
            ],
            [
             0.2222222222222222,
             "#7201a8"
            ],
            [
             0.3333333333333333,
             "#9c179e"
            ],
            [
             0.4444444444444444,
             "#bd3786"
            ],
            [
             0.5555555555555556,
             "#d8576b"
            ],
            [
             0.6666666666666666,
             "#ed7953"
            ],
            [
             0.7777777777777778,
             "#fb9f3a"
            ],
            [
             0.8888888888888888,
             "#fdca26"
            ],
            [
             1,
             "#f0f921"
            ]
           ]
          },
          "colorway": [
           "#636efa",
           "#EF553B",
           "#00cc96",
           "#ab63fa",
           "#FFA15A",
           "#19d3f3",
           "#FF6692",
           "#B6E880",
           "#FF97FF",
           "#FECB52"
          ],
          "font": {
           "color": "#2a3f5f"
          },
          "geo": {
           "bgcolor": "white",
           "lakecolor": "white",
           "landcolor": "#E5ECF6",
           "showlakes": true,
           "showland": true,
           "subunitcolor": "white"
          },
          "hoverlabel": {
           "align": "left"
          },
          "hovermode": "closest",
          "mapbox": {
           "style": "light"
          },
          "paper_bgcolor": "white",
          "plot_bgcolor": "#E5ECF6",
          "polar": {
           "angularaxis": {
            "gridcolor": "white",
            "linecolor": "white",
            "ticks": ""
           },
           "bgcolor": "#E5ECF6",
           "radialaxis": {
            "gridcolor": "white",
            "linecolor": "white",
            "ticks": ""
           }
          },
          "scene": {
           "xaxis": {
            "backgroundcolor": "#E5ECF6",
            "gridcolor": "white",
            "gridwidth": 2,
            "linecolor": "white",
            "showbackground": true,
            "ticks": "",
            "zerolinecolor": "white"
           },
           "yaxis": {
            "backgroundcolor": "#E5ECF6",
            "gridcolor": "white",
            "gridwidth": 2,
            "linecolor": "white",
            "showbackground": true,
            "ticks": "",
            "zerolinecolor": "white"
           },
           "zaxis": {
            "backgroundcolor": "#E5ECF6",
            "gridcolor": "white",
            "gridwidth": 2,
            "linecolor": "white",
            "showbackground": true,
            "ticks": "",
            "zerolinecolor": "white"
           }
          },
          "shapedefaults": {
           "line": {
            "color": "#2a3f5f"
           }
          },
          "ternary": {
           "aaxis": {
            "gridcolor": "white",
            "linecolor": "white",
            "ticks": ""
           },
           "baxis": {
            "gridcolor": "white",
            "linecolor": "white",
            "ticks": ""
           },
           "bgcolor": "#E5ECF6",
           "caxis": {
            "gridcolor": "white",
            "linecolor": "white",
            "ticks": ""
           }
          },
          "title": {
           "x": 0.05
          },
          "xaxis": {
           "automargin": true,
           "gridcolor": "white",
           "linecolor": "white",
           "ticks": "",
           "title": {
            "standoff": 15
           },
           "zerolinecolor": "white",
           "zerolinewidth": 2
          },
          "yaxis": {
           "automargin": true,
           "gridcolor": "white",
           "linecolor": "white",
           "ticks": "",
           "title": {
            "standoff": 15
           },
           "zerolinecolor": "white",
           "zerolinewidth": 2
          }
         }
        },
        "title": {
         "text": "📊 Monthly Correlation Heatmap (Group 2) - COLCAP_Valor hoy"
        },
        "width": 1000,
        "xaxis": {
         "anchor": "y",
         "domain": [
          0,
          1
         ],
         "tickangle": -45,
         "title": {
          "text": "Month"
         }
        },
        "yaxis": {
         "anchor": "x",
         "autorange": "reversed",
         "domain": [
          0,
          1
         ],
         "title": {
          "text": "Stock"
         }
        }
       }
      }
     },
     "metadata": {},
     "output_type": "display_data"
    }
   ],
   "source": [
    "monthly_corr.index = monthly_corr.index.astype(str)\n",
    "# 🔥 **Split into Two Groups**\n",
    "stocks = list(monthly_corr.columns)\n",
    "midpoint = len(stocks) // 2  # Divide into two equal parts\n",
    "\n",
    "group1 = stocks[:midpoint]  # First half\n",
    "group2 = stocks[midpoint:]  # Second half\n",
    "\n",
    "# **Function to Create Heatmap**\n",
    "def plot_heatmap(corr_data, group, title):\n",
    "    fig = px.imshow(\n",
    "        corr_data[group].T,  # Transpose for better view\n",
    "        labels=dict(x=\"Month\", y=\"Stock\", color=\"Correlation\"),\n",
    "        title=title,\n",
    "        color_continuous_scale=\"RdBu_r\",\n",
    "        aspect=\"auto\",\n",
    "    )\n",
    "\n",
    "    fig.update_layout(\n",
    "        autosize=False,\n",
    "        width=1000,\n",
    "        height=600,\n",
    "        xaxis=dict(tickangle=-45),\n",
    "    )\n",
    "\n",
    "    fig.show()\n",
    "\n",
    "# **Plot Heatmaps**\n",
    "plot_heatmap(monthly_corr, group1, f\"📊 Monthly Correlation Heatmap (Group 1) - {target_stock}\")\n",
    "plot_heatmap(monthly_corr, group2, f\"📊 Monthly Correlation Heatmap (Group 2) - {target_stock}\")\n"
   ]
  },
  {
   "cell_type": "code",
   "execution_count": 12,
   "metadata": {},
   "outputs": [
    {
     "name": "stderr",
     "output_type": "stream",
     "text": [
      "C:\\Users\\Admin\\AppData\\Local\\Temp\\ipykernel_33064\\2233729640.py:19: FutureWarning:\n",
      "\n",
      "DataFrame.fillna with 'method' is deprecated and will raise in a future version. Use obj.ffill() or obj.bfill() instead.\n",
      "\n",
      "C:\\Users\\Admin\\AppData\\Local\\Temp\\ipykernel_33064\\2233729640.py:20: FutureWarning:\n",
      "\n",
      "DataFrame.fillna with 'method' is deprecated and will raise in a future version. Use obj.ffill() or obj.bfill() instead.\n",
      "\n"
     ]
    },
    {
     "data": {
      "application/vnd.plotly.v1+json": {
       "config": {
        "plotlyServerURL": "https://plot.ly"
       },
       "data": [
        {
         "coloraxis": "coloraxis",
         "hovertemplate": "Month: %{x}<br>Stock: %{y}<br>Correlation: %{z}<extra></extra>",
         "name": "0",
         "type": "heatmap",
         "x": [
          "2024-04",
          "2024-05",
          "2024-06",
          "2024-07",
          "2024-08",
          "2024-09",
          "2024-10",
          "2024-11",
          "2024-12",
          "2025-01",
          "2025-02",
          "2025-03"
         ],
         "xaxis": "x",
         "y": [
          "BCOLOMBIA_Precio cierre",
          "BHI_Precio cierre",
          "BOGOTA_Precio cierre",
          "BVC_Precio cierre",
          "CELSIA_Precio cierre",
          "CEMARGOS_Precio cierre",
          "CNEC_Precio cierre",
          "CONCONCRETO_Precio cierre",
          "CORFICOL_Precio cierre",
          "ECOPETROL_Precio cierre",
          "ENKA_Precio cierre",
          "ETB_Precio cierre",
          "EXITO_Precio cierre",
          "FABRICATO_Precio cierre",
          "GEB_Precio cierre",
          "GRUBOLIVAR_Precio cierre",
          "GRUPOARGOS_Precio cierre"
         ],
         "yaxis": "y",
         "z": [
          [
           0.8750970777755134,
           0.921176368831639,
           0.8129679370270808,
           -0.7556979607107307,
           0.7863072767161768,
           0.6014493490785582,
           0.9275178775690662,
           0.8329004526524153,
           0.7578210221994071,
           0.9502090913687269,
           0.9648308359411945,
           0.8762162012620355
          ],
          [
           0.3555264499423426,
           0.16468008740287246,
           -0.6359201455120296,
           0.8811202397616107,
           0.8364152085409035,
           -0.05527142265978324,
           0.34264228631302357,
           -0.5499547589790623,
           0.1674882618570538,
           0.19875500434770899,
           0.8464581534641221,
           0.5441260780302505
          ],
          [
           0.6947512368142815,
           -0.16751556724292666,
           0.6434904682586201,
           0.6364746509804242,
           0.4438079075682196,
           0.39711743766199425,
           0.4451695767467858,
           -0.13057340920143373,
           0.45927351639991815,
           0.8496368562442514,
           0.8308635228741488,
           0.6319507277431844
          ],
          [
           0.7691586382231836,
           0.34033908137023267,
           -0.5525815391996942,
           null,
           -0.4962101771516887,
           0.5980437958030483,
           -0.39958985013929715,
           -0.27255871622033107,
           0.2021253670443726,
           0.8963512331040693,
           0.556258200475116,
           0.6296853211796954
          ],
          [
           0.9224503943341148,
           0.8053717676818717,
           0.6475276690755698,
           0.5916885055546539,
           0.6763087125601799,
           0.7555846038590117,
           -0.4511202576986655,
           -0.4689786156168629,
           0.19564428716601312,
           -0.27465678051138265,
           0.827502914929338,
           0.830374436372174
          ],
          [
           0.706105831835988,
           0.5298121340299407,
           -0.17000298423345578,
           0.27364043955381634,
           0.7942986681458027,
           0.44742464924620534,
           0.7312145074757481,
           0.8819314099587171,
           -0.10060427412303749,
           0.09539584673528775,
           -0.1394624965027196,
           0.3518162845803089
          ],
          [
           -0.1491083751669896,
           0.06035452434587991,
           -0.40387924945988735,
           0.2799987172437249,
           0.06568099299451029,
           0.8505880679092073,
           -0.7369474650770007,
           0.9075151055442907,
           0.4709931991296984,
           -0.11824855922245199,
           0.015064994436400315,
           0.5661911937630245
          ],
          [
           0.011006421459702752,
           0.5602810744130297,
           0.5769997811056271,
           0.6483433842942558,
           0.7063630321247704,
           0.8117366087779248,
           0.6067502968214502,
           0.47486244214370793,
           -0.4471993482337891,
           0.28858986283005617,
           -0.8968619784554235,
           -0.20495975855042728
          ],
          [
           0.8295515112904878,
           0.8572189709860892,
           0.8657515615805857,
           0.8894265664430333,
           0.2989392003219655,
           0.46014380325572957,
           0.9224004782549483,
           0.3848150233871677,
           0.04003741545633431,
           0.7778501989344391,
           0.9312244996295097,
           -0.2603441181106763
          ],
          [
           0.08247970476197951,
           0.5239921432428336,
           0.28457944493938253,
           0.8542121013641236,
           -0.07141095730379379,
           0.6549988790469636,
           -0.844391829493382,
           0.8116406690303812,
           0.36409237193849336,
           0.7764649053047825,
           0.5958035224678021,
           0.8647590894540678
          ],
          [
           0.738955956668462,
           -0.36454289911863125,
           0.7184077420743965,
           0.6861376801504505,
           0.018711278371811316,
           -0.07214107682303064,
           0.29586328066831763,
           -0.679577623243258,
           0.2959336968739031,
           0.7200608026533761,
           0.47129184192455226,
           0.6765654381257279
          ],
          [
           -0.413061238165128,
           0.10569455948852552,
           -0.3255963598753527,
           0.8447264267752908,
           null,
           0.06394124395466352,
           null,
           -0.4724615320432712,
           null,
           -0.4698391391119141,
           -0.4558857544388616,
           -0.5861154244300354
          ],
          [
           0.7242789782023396,
           -0.5676113799004808,
           0.6728629978103752,
           -0.47073245145549253,
           0.36175694216993176,
           0.40965240451643264,
           0.19409842620200113,
           -0.8486722459152998,
           -0.07775328688768174,
           -0.49803788589780323,
           0.3250150998637738,
           0.03331480776419609
          ],
          [
           null,
           0.15071326147695197,
           null,
           null,
           null,
           null,
           -0.22577172913190383,
           null,
           0.5211638144963244,
           -0.40410938010522474,
           0.7995749370785152,
           null
          ],
          [
           0.9614568182863431,
           0.5406689388901834,
           0.5426431795089799,
           0.718294532907622,
           0.603903602441641,
           0.12287547303599947,
           0.8239270829013788,
           0.9182154315044091,
           0.7104420381477429,
           0.8791638874078146,
           0.7447170844908889,
           0.8259714812791877
          ],
          [
           0.7486352413812803,
           -0.11459526493319194,
           0.5634072874743569,
           0.9012367138913144,
           0.4682686710212486,
           -0.023945003520337748,
           -0.23484549037484975,
           0.21347874787483587,
           0.35711751366146194,
           -0.142498117913773,
           0.9068052583927004,
           0.18497760161108745
          ],
          [
           0.7549678576547472,
           0.5509374336208552,
           0.26238773844176516,
           0.48759149374061633,
           0.6075333436362115,
           -0.3292097858673913,
           0.8026301932221583,
           0.7427589539158966,
           0.24864161218595346,
           0.08639764528267248,
           0.7344455038170093,
           0.6573461586675842
          ]
         ]
        }
       ],
       "layout": {
        "autosize": false,
        "coloraxis": {
         "colorbar": {
          "title": {
           "text": "Correlation"
          }
         },
         "colorscale": [
          [
           0,
           "rgb(5,48,97)"
          ],
          [
           0.1,
           "rgb(33,102,172)"
          ],
          [
           0.2,
           "rgb(67,147,195)"
          ],
          [
           0.3,
           "rgb(146,197,222)"
          ],
          [
           0.4,
           "rgb(209,229,240)"
          ],
          [
           0.5,
           "rgb(247,247,247)"
          ],
          [
           0.6,
           "rgb(253,219,199)"
          ],
          [
           0.7,
           "rgb(244,165,130)"
          ],
          [
           0.8,
           "rgb(214,96,77)"
          ],
          [
           0.9,
           "rgb(178,24,43)"
          ],
          [
           1,
           "rgb(103,0,31)"
          ]
         ]
        },
        "height": 600,
        "template": {
         "data": {
          "bar": [
           {
            "error_x": {
             "color": "#2a3f5f"
            },
            "error_y": {
             "color": "#2a3f5f"
            },
            "marker": {
             "line": {
              "color": "white",
              "width": 0.5
             },
             "pattern": {
              "fillmode": "overlay",
              "size": 10,
              "solidity": 0.2
             }
            },
            "type": "bar"
           }
          ],
          "barpolar": [
           {
            "marker": {
             "line": {
              "color": "white",
              "width": 0.5
             },
             "pattern": {
              "fillmode": "overlay",
              "size": 10,
              "solidity": 0.2
             }
            },
            "type": "barpolar"
           }
          ],
          "carpet": [
           {
            "aaxis": {
             "endlinecolor": "#2a3f5f",
             "gridcolor": "#C8D4E3",
             "linecolor": "#C8D4E3",
             "minorgridcolor": "#C8D4E3",
             "startlinecolor": "#2a3f5f"
            },
            "baxis": {
             "endlinecolor": "#2a3f5f",
             "gridcolor": "#C8D4E3",
             "linecolor": "#C8D4E3",
             "minorgridcolor": "#C8D4E3",
             "startlinecolor": "#2a3f5f"
            },
            "type": "carpet"
           }
          ],
          "choropleth": [
           {
            "colorbar": {
             "outlinewidth": 0,
             "ticks": ""
            },
            "type": "choropleth"
           }
          ],
          "contour": [
           {
            "colorbar": {
             "outlinewidth": 0,
             "ticks": ""
            },
            "colorscale": [
             [
              0,
              "#0d0887"
             ],
             [
              0.1111111111111111,
              "#46039f"
             ],
             [
              0.2222222222222222,
              "#7201a8"
             ],
             [
              0.3333333333333333,
              "#9c179e"
             ],
             [
              0.4444444444444444,
              "#bd3786"
             ],
             [
              0.5555555555555556,
              "#d8576b"
             ],
             [
              0.6666666666666666,
              "#ed7953"
             ],
             [
              0.7777777777777778,
              "#fb9f3a"
             ],
             [
              0.8888888888888888,
              "#fdca26"
             ],
             [
              1,
              "#f0f921"
             ]
            ],
            "type": "contour"
           }
          ],
          "contourcarpet": [
           {
            "colorbar": {
             "outlinewidth": 0,
             "ticks": ""
            },
            "type": "contourcarpet"
           }
          ],
          "heatmap": [
           {
            "colorbar": {
             "outlinewidth": 0,
             "ticks": ""
            },
            "colorscale": [
             [
              0,
              "#0d0887"
             ],
             [
              0.1111111111111111,
              "#46039f"
             ],
             [
              0.2222222222222222,
              "#7201a8"
             ],
             [
              0.3333333333333333,
              "#9c179e"
             ],
             [
              0.4444444444444444,
              "#bd3786"
             ],
             [
              0.5555555555555556,
              "#d8576b"
             ],
             [
              0.6666666666666666,
              "#ed7953"
             ],
             [
              0.7777777777777778,
              "#fb9f3a"
             ],
             [
              0.8888888888888888,
              "#fdca26"
             ],
             [
              1,
              "#f0f921"
             ]
            ],
            "type": "heatmap"
           }
          ],
          "heatmapgl": [
           {
            "colorbar": {
             "outlinewidth": 0,
             "ticks": ""
            },
            "colorscale": [
             [
              0,
              "#0d0887"
             ],
             [
              0.1111111111111111,
              "#46039f"
             ],
             [
              0.2222222222222222,
              "#7201a8"
             ],
             [
              0.3333333333333333,
              "#9c179e"
             ],
             [
              0.4444444444444444,
              "#bd3786"
             ],
             [
              0.5555555555555556,
              "#d8576b"
             ],
             [
              0.6666666666666666,
              "#ed7953"
             ],
             [
              0.7777777777777778,
              "#fb9f3a"
             ],
             [
              0.8888888888888888,
              "#fdca26"
             ],
             [
              1,
              "#f0f921"
             ]
            ],
            "type": "heatmapgl"
           }
          ],
          "histogram": [
           {
            "marker": {
             "pattern": {
              "fillmode": "overlay",
              "size": 10,
              "solidity": 0.2
             }
            },
            "type": "histogram"
           }
          ],
          "histogram2d": [
           {
            "colorbar": {
             "outlinewidth": 0,
             "ticks": ""
            },
            "colorscale": [
             [
              0,
              "#0d0887"
             ],
             [
              0.1111111111111111,
              "#46039f"
             ],
             [
              0.2222222222222222,
              "#7201a8"
             ],
             [
              0.3333333333333333,
              "#9c179e"
             ],
             [
              0.4444444444444444,
              "#bd3786"
             ],
             [
              0.5555555555555556,
              "#d8576b"
             ],
             [
              0.6666666666666666,
              "#ed7953"
             ],
             [
              0.7777777777777778,
              "#fb9f3a"
             ],
             [
              0.8888888888888888,
              "#fdca26"
             ],
             [
              1,
              "#f0f921"
             ]
            ],
            "type": "histogram2d"
           }
          ],
          "histogram2dcontour": [
           {
            "colorbar": {
             "outlinewidth": 0,
             "ticks": ""
            },
            "colorscale": [
             [
              0,
              "#0d0887"
             ],
             [
              0.1111111111111111,
              "#46039f"
             ],
             [
              0.2222222222222222,
              "#7201a8"
             ],
             [
              0.3333333333333333,
              "#9c179e"
             ],
             [
              0.4444444444444444,
              "#bd3786"
             ],
             [
              0.5555555555555556,
              "#d8576b"
             ],
             [
              0.6666666666666666,
              "#ed7953"
             ],
             [
              0.7777777777777778,
              "#fb9f3a"
             ],
             [
              0.8888888888888888,
              "#fdca26"
             ],
             [
              1,
              "#f0f921"
             ]
            ],
            "type": "histogram2dcontour"
           }
          ],
          "mesh3d": [
           {
            "colorbar": {
             "outlinewidth": 0,
             "ticks": ""
            },
            "type": "mesh3d"
           }
          ],
          "parcoords": [
           {
            "line": {
             "colorbar": {
              "outlinewidth": 0,
              "ticks": ""
             }
            },
            "type": "parcoords"
           }
          ],
          "pie": [
           {
            "automargin": true,
            "type": "pie"
           }
          ],
          "scatter": [
           {
            "fillpattern": {
             "fillmode": "overlay",
             "size": 10,
             "solidity": 0.2
            },
            "type": "scatter"
           }
          ],
          "scatter3d": [
           {
            "line": {
             "colorbar": {
              "outlinewidth": 0,
              "ticks": ""
             }
            },
            "marker": {
             "colorbar": {
              "outlinewidth": 0,
              "ticks": ""
             }
            },
            "type": "scatter3d"
           }
          ],
          "scattercarpet": [
           {
            "marker": {
             "colorbar": {
              "outlinewidth": 0,
              "ticks": ""
             }
            },
            "type": "scattercarpet"
           }
          ],
          "scattergeo": [
           {
            "marker": {
             "colorbar": {
              "outlinewidth": 0,
              "ticks": ""
             }
            },
            "type": "scattergeo"
           }
          ],
          "scattergl": [
           {
            "marker": {
             "colorbar": {
              "outlinewidth": 0,
              "ticks": ""
             }
            },
            "type": "scattergl"
           }
          ],
          "scattermapbox": [
           {
            "marker": {
             "colorbar": {
              "outlinewidth": 0,
              "ticks": ""
             }
            },
            "type": "scattermapbox"
           }
          ],
          "scatterpolar": [
           {
            "marker": {
             "colorbar": {
              "outlinewidth": 0,
              "ticks": ""
             }
            },
            "type": "scatterpolar"
           }
          ],
          "scatterpolargl": [
           {
            "marker": {
             "colorbar": {
              "outlinewidth": 0,
              "ticks": ""
             }
            },
            "type": "scatterpolargl"
           }
          ],
          "scatterternary": [
           {
            "marker": {
             "colorbar": {
              "outlinewidth": 0,
              "ticks": ""
             }
            },
            "type": "scatterternary"
           }
          ],
          "surface": [
           {
            "colorbar": {
             "outlinewidth": 0,
             "ticks": ""
            },
            "colorscale": [
             [
              0,
              "#0d0887"
             ],
             [
              0.1111111111111111,
              "#46039f"
             ],
             [
              0.2222222222222222,
              "#7201a8"
             ],
             [
              0.3333333333333333,
              "#9c179e"
             ],
             [
              0.4444444444444444,
              "#bd3786"
             ],
             [
              0.5555555555555556,
              "#d8576b"
             ],
             [
              0.6666666666666666,
              "#ed7953"
             ],
             [
              0.7777777777777778,
              "#fb9f3a"
             ],
             [
              0.8888888888888888,
              "#fdca26"
             ],
             [
              1,
              "#f0f921"
             ]
            ],
            "type": "surface"
           }
          ],
          "table": [
           {
            "cells": {
             "fill": {
              "color": "#EBF0F8"
             },
             "line": {
              "color": "white"
             }
            },
            "header": {
             "fill": {
              "color": "#C8D4E3"
             },
             "line": {
              "color": "white"
             }
            },
            "type": "table"
           }
          ]
         },
         "layout": {
          "annotationdefaults": {
           "arrowcolor": "#2a3f5f",
           "arrowhead": 0,
           "arrowwidth": 1
          },
          "autotypenumbers": "strict",
          "coloraxis": {
           "colorbar": {
            "outlinewidth": 0,
            "ticks": ""
           }
          },
          "colorscale": {
           "diverging": [
            [
             0,
             "#8e0152"
            ],
            [
             0.1,
             "#c51b7d"
            ],
            [
             0.2,
             "#de77ae"
            ],
            [
             0.3,
             "#f1b6da"
            ],
            [
             0.4,
             "#fde0ef"
            ],
            [
             0.5,
             "#f7f7f7"
            ],
            [
             0.6,
             "#e6f5d0"
            ],
            [
             0.7,
             "#b8e186"
            ],
            [
             0.8,
             "#7fbc41"
            ],
            [
             0.9,
             "#4d9221"
            ],
            [
             1,
             "#276419"
            ]
           ],
           "sequential": [
            [
             0,
             "#0d0887"
            ],
            [
             0.1111111111111111,
             "#46039f"
            ],
            [
             0.2222222222222222,
             "#7201a8"
            ],
            [
             0.3333333333333333,
             "#9c179e"
            ],
            [
             0.4444444444444444,
             "#bd3786"
            ],
            [
             0.5555555555555556,
             "#d8576b"
            ],
            [
             0.6666666666666666,
             "#ed7953"
            ],
            [
             0.7777777777777778,
             "#fb9f3a"
            ],
            [
             0.8888888888888888,
             "#fdca26"
            ],
            [
             1,
             "#f0f921"
            ]
           ],
           "sequentialminus": [
            [
             0,
             "#0d0887"
            ],
            [
             0.1111111111111111,
             "#46039f"
            ],
            [
             0.2222222222222222,
             "#7201a8"
            ],
            [
             0.3333333333333333,
             "#9c179e"
            ],
            [
             0.4444444444444444,
             "#bd3786"
            ],
            [
             0.5555555555555556,
             "#d8576b"
            ],
            [
             0.6666666666666666,
             "#ed7953"
            ],
            [
             0.7777777777777778,
             "#fb9f3a"
            ],
            [
             0.8888888888888888,
             "#fdca26"
            ],
            [
             1,
             "#f0f921"
            ]
           ]
          },
          "colorway": [
           "#636efa",
           "#EF553B",
           "#00cc96",
           "#ab63fa",
           "#FFA15A",
           "#19d3f3",
           "#FF6692",
           "#B6E880",
           "#FF97FF",
           "#FECB52"
          ],
          "font": {
           "color": "#2a3f5f"
          },
          "geo": {
           "bgcolor": "white",
           "lakecolor": "white",
           "landcolor": "white",
           "showlakes": true,
           "showland": true,
           "subunitcolor": "#C8D4E3"
          },
          "hoverlabel": {
           "align": "left"
          },
          "hovermode": "closest",
          "mapbox": {
           "style": "light"
          },
          "paper_bgcolor": "white",
          "plot_bgcolor": "white",
          "polar": {
           "angularaxis": {
            "gridcolor": "#EBF0F8",
            "linecolor": "#EBF0F8",
            "ticks": ""
           },
           "bgcolor": "white",
           "radialaxis": {
            "gridcolor": "#EBF0F8",
            "linecolor": "#EBF0F8",
            "ticks": ""
           }
          },
          "scene": {
           "xaxis": {
            "backgroundcolor": "white",
            "gridcolor": "#DFE8F3",
            "gridwidth": 2,
            "linecolor": "#EBF0F8",
            "showbackground": true,
            "ticks": "",
            "zerolinecolor": "#EBF0F8"
           },
           "yaxis": {
            "backgroundcolor": "white",
            "gridcolor": "#DFE8F3",
            "gridwidth": 2,
            "linecolor": "#EBF0F8",
            "showbackground": true,
            "ticks": "",
            "zerolinecolor": "#EBF0F8"
           },
           "zaxis": {
            "backgroundcolor": "white",
            "gridcolor": "#DFE8F3",
            "gridwidth": 2,
            "linecolor": "#EBF0F8",
            "showbackground": true,
            "ticks": "",
            "zerolinecolor": "#EBF0F8"
           }
          },
          "shapedefaults": {
           "line": {
            "color": "#2a3f5f"
           }
          },
          "ternary": {
           "aaxis": {
            "gridcolor": "#DFE8F3",
            "linecolor": "#A2B1C6",
            "ticks": ""
           },
           "baxis": {
            "gridcolor": "#DFE8F3",
            "linecolor": "#A2B1C6",
            "ticks": ""
           },
           "bgcolor": "white",
           "caxis": {
            "gridcolor": "#DFE8F3",
            "linecolor": "#A2B1C6",
            "ticks": ""
           }
          },
          "title": {
           "x": 0.05
          },
          "xaxis": {
           "automargin": true,
           "gridcolor": "#EBF0F8",
           "linecolor": "#EBF0F8",
           "ticks": "",
           "title": {
            "standoff": 15
           },
           "zerolinecolor": "#EBF0F8",
           "zerolinewidth": 2
          },
          "yaxis": {
           "automargin": true,
           "gridcolor": "#EBF0F8",
           "linecolor": "#EBF0F8",
           "ticks": "",
           "title": {
            "standoff": 15
           },
           "zerolinecolor": "#EBF0F8",
           "zerolinewidth": 2
          }
         }
        },
        "title": {
         "text": "📊 Monthly Correlation Heatmap (Group 1) - COLCAP_Valor hoy"
        },
        "width": 1000,
        "xaxis": {
         "anchor": "y",
         "domain": [
          0,
          1
         ],
         "tickangle": -45,
         "title": {
          "text": "Month"
         }
        },
        "yaxis": {
         "anchor": "x",
         "autorange": "reversed",
         "domain": [
          0,
          1
         ],
         "title": {
          "text": "Stock"
         }
        }
       }
      }
     },
     "metadata": {},
     "output_type": "display_data"
    },
    {
     "data": {
      "application/vnd.plotly.v1+json": {
       "config": {
        "plotlyServerURL": "https://plot.ly"
       },
       "data": [
        {
         "coloraxis": "coloraxis",
         "hovertemplate": "Month: %{x}<br>Stock: %{y}<br>Correlation: %{z}<extra></extra>",
         "name": "0",
         "type": "heatmap",
         "x": [
          "2024-04",
          "2024-05",
          "2024-06",
          "2024-07",
          "2024-08",
          "2024-09",
          "2024-10",
          "2024-11",
          "2024-12",
          "2025-01",
          "2025-02",
          "2025-03"
         ],
         "xaxis": "x",
         "y": [
          "GRUPOAVAL_Precio cierre",
          "GRUPOSURA_Precio cierre",
          "GXTESCOL_Precio cierre",
          "HCOLSEL_Precio cierre",
          "ISA_Precio cierre",
          "MINEROS_Precio cierre",
          "NUTRESA_Precio cierre",
          "PEI_Precio cierre",
          "PFAVAL_Precio cierre",
          "PFBCOLOMBIA_Precio cierre",
          "PFCEMARGOS_Precio cierre",
          "PFCORFICOL_Precio cierre",
          "PFDAVVNDA_Precio cierre",
          "PFGRUPARG_Precio cierre",
          "PFGRUPOSURA_Precio cierre",
          "PROMIGAS_Precio cierre",
          "TERPEL_Precio cierre"
         ],
         "yaxis": "y",
         "z": [
          [
           null,
           null,
           null,
           null,
           null,
           null,
           null,
           null,
           null,
           null,
           null,
           null
          ],
          [
           -0.1293671106273002,
           0.01420944712743512,
           0.42323421356962154,
           0.8134544227226315,
           0.2857311147311801,
           0.5600471271570018,
           0.8771385234799808,
           -0.2752260773433294,
           -0.16844390012271548,
           0.4017247491106116,
           0.9767647724383663,
           0.05433663998792102
          ],
          [
           -0.14730723025370798,
           0.2464984725434839,
           -0.6498102889111563,
           -0.6427151872576069,
           0.7171354413316718,
           -0.2994795096941134,
           -0.5211802554833763,
           0.5318297402044269,
           0.4243861927437773,
           0.7527217598528708,
           0.5290645883225,
           0.24456737198986775
          ],
          [
           0.9708680362949358,
           0.8768643163982706,
           0.5895314432292356,
           0.9171902442700247,
           0.8165505337154398,
           0.6022430129374878,
           0.8484571276345191,
           0.22455632839539358,
           0.5322771722191126,
           0.8285243286945003,
           0.9780740757959969,
           -0.2789361244594568
          ],
          [
           0.9070935083656976,
           -0.18048641347464572,
           0.8696365152061412,
           0.7113894927605524,
           0.8977937569954063,
           0.8561581675654922,
           0.801448147643003,
           -0.2923129674114792,
           0.7232475574145062,
           0.9020996421077597,
           0.9195250533091971,
           -0.24115745741735622
          ],
          [
           0.2752172993356255,
           0.19303118257410554,
           -0.04983428217617828,
           -0.12828847386217423,
           0.5591436055775728,
           -0.09995727724220572,
           0.28687554672264903,
           0.8407266751837308,
           -0.21226820203343294,
           0.6603357182408843,
           0.8623325735954244,
           -0.16630714079777006
          ],
          [
           0.7735920320518375,
           -0.1641934225577612,
           0.25627875229523367,
           -0.3909657097645347,
           0.4444830688835621,
           -0.4766182249003223,
           0.8530530568386573,
           -0.31939765163112305,
           0.4400487531802823,
           0.5640650244126868,
           0.7673823764464154,
           0.2070888865146119
          ],
          [
           0.7721163779319965,
           0.2552751504572236,
           0.5895258728279429,
           0.8206295872577097,
           0.8684780868655276,
           0.10145811528124786,
           -0.02449857886676495,
           0.8391420195625128,
           0.17604624695927248,
           0.45982508078973844,
           -0.4026993759276904,
           0.1871352211445442
          ],
          [
           null,
           null,
           null,
           null,
           null,
           null,
           null,
           null,
           null,
           null,
           null,
           null
          ],
          [
           0.8970632352942324,
           0.9540219975378778,
           0.8248019875981165,
           0.8120983351665255,
           0.960289192600017,
           0.9350856245876904,
           0.936615442325584,
           0.8869273044442086,
           0.7331772204440234,
           0.958454855932059,
           0.9752278859495388,
           0.9004680436515283
          ],
          [
           0.8887400179905496,
           -0.7220058825363204,
           -0.12513444000845608,
           0.22781107743554374,
           0.6877901300656102,
           0.47512229010660445,
           -0.5684822690129598,
           0.7776390884978428,
           0.13586326364285065,
           -0.11179095840083,
           -0.4976210253577864,
           -0.5382125272766017
          ],
          [
           0.4226749408602758,
           -0.6719769612959876,
           0.8455796926607281,
           0.9251826276337686,
           0.06072891490599462,
           0.2813851706395022,
           0.9352999307192348,
           0.46756959045947505,
           0.26496040488485945,
           0.7929272408877323,
           0.8654583555937846,
           0.5816312604895564
          ],
          [
           0.9195164562448842,
           0.5971432418206075,
           0.9002130775209982,
           0.918443127743192,
           0.2056208394682514,
           -0.3555876381097915,
           0.5491099370255109,
           0.7338843141657959,
           0.31478332843285856,
           0.6016125058393521,
           0.9301440249132585,
           0.8135437855055332
          ],
          [
           0.761517310724319,
           0.7070388306936414,
           0.6041464579249286,
           0.6953107032143585,
           0.7720818695581451,
           0.38385209768065026,
           0.9569868890967314,
           0.775256197113393,
           -0.2650759713099089,
           -0.014430063869793093,
           0.8920792559834224,
           0.13968080056205498
          ],
          [
           0.31641971806436997,
           0.8665672841367332,
           0.1940684013167875,
           0.9350073567440021,
           0.48474946628667004,
           0.6667307961909867,
           0.8345804040676453,
           0.0540448486629246,
           -0.11537194718235379,
           0.9565892921601109,
           0.9233930282791115,
           0.38336976925342764
          ],
          [
           -0.5459656877853946,
           0.5585757753949184,
           0.4476387582731481,
           -0.5529024816249519,
           0.33516559578950594,
           -0.06035117054065392,
           -0.21743965313596353,
           -0.045059091499905606,
           -0.048672265206940235,
           -0.6851468906578787,
           0.08859566349399454,
           0.27329846543118785
          ],
          [
           0.0265386597753799,
           0.8363462318944721,
           0.8479370299429116,
           0.7761250851246908,
           0.6765140623152142,
           -0.4645726498132388,
           0.7552050178952584,
           0.9079489853849698,
           -0.07892569000751588,
           0.02082533334319149,
           0.7849735214684461,
           0.5918886850942378
          ]
         ]
        }
       ],
       "layout": {
        "autosize": false,
        "coloraxis": {
         "colorbar": {
          "title": {
           "text": "Correlation"
          }
         },
         "colorscale": [
          [
           0,
           "rgb(5,48,97)"
          ],
          [
           0.1,
           "rgb(33,102,172)"
          ],
          [
           0.2,
           "rgb(67,147,195)"
          ],
          [
           0.3,
           "rgb(146,197,222)"
          ],
          [
           0.4,
           "rgb(209,229,240)"
          ],
          [
           0.5,
           "rgb(247,247,247)"
          ],
          [
           0.6,
           "rgb(253,219,199)"
          ],
          [
           0.7,
           "rgb(244,165,130)"
          ],
          [
           0.8,
           "rgb(214,96,77)"
          ],
          [
           0.9,
           "rgb(178,24,43)"
          ],
          [
           1,
           "rgb(103,0,31)"
          ]
         ]
        },
        "height": 600,
        "template": {
         "data": {
          "bar": [
           {
            "error_x": {
             "color": "#2a3f5f"
            },
            "error_y": {
             "color": "#2a3f5f"
            },
            "marker": {
             "line": {
              "color": "white",
              "width": 0.5
             },
             "pattern": {
              "fillmode": "overlay",
              "size": 10,
              "solidity": 0.2
             }
            },
            "type": "bar"
           }
          ],
          "barpolar": [
           {
            "marker": {
             "line": {
              "color": "white",
              "width": 0.5
             },
             "pattern": {
              "fillmode": "overlay",
              "size": 10,
              "solidity": 0.2
             }
            },
            "type": "barpolar"
           }
          ],
          "carpet": [
           {
            "aaxis": {
             "endlinecolor": "#2a3f5f",
             "gridcolor": "#C8D4E3",
             "linecolor": "#C8D4E3",
             "minorgridcolor": "#C8D4E3",
             "startlinecolor": "#2a3f5f"
            },
            "baxis": {
             "endlinecolor": "#2a3f5f",
             "gridcolor": "#C8D4E3",
             "linecolor": "#C8D4E3",
             "minorgridcolor": "#C8D4E3",
             "startlinecolor": "#2a3f5f"
            },
            "type": "carpet"
           }
          ],
          "choropleth": [
           {
            "colorbar": {
             "outlinewidth": 0,
             "ticks": ""
            },
            "type": "choropleth"
           }
          ],
          "contour": [
           {
            "colorbar": {
             "outlinewidth": 0,
             "ticks": ""
            },
            "colorscale": [
             [
              0,
              "#0d0887"
             ],
             [
              0.1111111111111111,
              "#46039f"
             ],
             [
              0.2222222222222222,
              "#7201a8"
             ],
             [
              0.3333333333333333,
              "#9c179e"
             ],
             [
              0.4444444444444444,
              "#bd3786"
             ],
             [
              0.5555555555555556,
              "#d8576b"
             ],
             [
              0.6666666666666666,
              "#ed7953"
             ],
             [
              0.7777777777777778,
              "#fb9f3a"
             ],
             [
              0.8888888888888888,
              "#fdca26"
             ],
             [
              1,
              "#f0f921"
             ]
            ],
            "type": "contour"
           }
          ],
          "contourcarpet": [
           {
            "colorbar": {
             "outlinewidth": 0,
             "ticks": ""
            },
            "type": "contourcarpet"
           }
          ],
          "heatmap": [
           {
            "colorbar": {
             "outlinewidth": 0,
             "ticks": ""
            },
            "colorscale": [
             [
              0,
              "#0d0887"
             ],
             [
              0.1111111111111111,
              "#46039f"
             ],
             [
              0.2222222222222222,
              "#7201a8"
             ],
             [
              0.3333333333333333,
              "#9c179e"
             ],
             [
              0.4444444444444444,
              "#bd3786"
             ],
             [
              0.5555555555555556,
              "#d8576b"
             ],
             [
              0.6666666666666666,
              "#ed7953"
             ],
             [
              0.7777777777777778,
              "#fb9f3a"
             ],
             [
              0.8888888888888888,
              "#fdca26"
             ],
             [
              1,
              "#f0f921"
             ]
            ],
            "type": "heatmap"
           }
          ],
          "heatmapgl": [
           {
            "colorbar": {
             "outlinewidth": 0,
             "ticks": ""
            },
            "colorscale": [
             [
              0,
              "#0d0887"
             ],
             [
              0.1111111111111111,
              "#46039f"
             ],
             [
              0.2222222222222222,
              "#7201a8"
             ],
             [
              0.3333333333333333,
              "#9c179e"
             ],
             [
              0.4444444444444444,
              "#bd3786"
             ],
             [
              0.5555555555555556,
              "#d8576b"
             ],
             [
              0.6666666666666666,
              "#ed7953"
             ],
             [
              0.7777777777777778,
              "#fb9f3a"
             ],
             [
              0.8888888888888888,
              "#fdca26"
             ],
             [
              1,
              "#f0f921"
             ]
            ],
            "type": "heatmapgl"
           }
          ],
          "histogram": [
           {
            "marker": {
             "pattern": {
              "fillmode": "overlay",
              "size": 10,
              "solidity": 0.2
             }
            },
            "type": "histogram"
           }
          ],
          "histogram2d": [
           {
            "colorbar": {
             "outlinewidth": 0,
             "ticks": ""
            },
            "colorscale": [
             [
              0,
              "#0d0887"
             ],
             [
              0.1111111111111111,
              "#46039f"
             ],
             [
              0.2222222222222222,
              "#7201a8"
             ],
             [
              0.3333333333333333,
              "#9c179e"
             ],
             [
              0.4444444444444444,
              "#bd3786"
             ],
             [
              0.5555555555555556,
              "#d8576b"
             ],
             [
              0.6666666666666666,
              "#ed7953"
             ],
             [
              0.7777777777777778,
              "#fb9f3a"
             ],
             [
              0.8888888888888888,
              "#fdca26"
             ],
             [
              1,
              "#f0f921"
             ]
            ],
            "type": "histogram2d"
           }
          ],
          "histogram2dcontour": [
           {
            "colorbar": {
             "outlinewidth": 0,
             "ticks": ""
            },
            "colorscale": [
             [
              0,
              "#0d0887"
             ],
             [
              0.1111111111111111,
              "#46039f"
             ],
             [
              0.2222222222222222,
              "#7201a8"
             ],
             [
              0.3333333333333333,
              "#9c179e"
             ],
             [
              0.4444444444444444,
              "#bd3786"
             ],
             [
              0.5555555555555556,
              "#d8576b"
             ],
             [
              0.6666666666666666,
              "#ed7953"
             ],
             [
              0.7777777777777778,
              "#fb9f3a"
             ],
             [
              0.8888888888888888,
              "#fdca26"
             ],
             [
              1,
              "#f0f921"
             ]
            ],
            "type": "histogram2dcontour"
           }
          ],
          "mesh3d": [
           {
            "colorbar": {
             "outlinewidth": 0,
             "ticks": ""
            },
            "type": "mesh3d"
           }
          ],
          "parcoords": [
           {
            "line": {
             "colorbar": {
              "outlinewidth": 0,
              "ticks": ""
             }
            },
            "type": "parcoords"
           }
          ],
          "pie": [
           {
            "automargin": true,
            "type": "pie"
           }
          ],
          "scatter": [
           {
            "fillpattern": {
             "fillmode": "overlay",
             "size": 10,
             "solidity": 0.2
            },
            "type": "scatter"
           }
          ],
          "scatter3d": [
           {
            "line": {
             "colorbar": {
              "outlinewidth": 0,
              "ticks": ""
             }
            },
            "marker": {
             "colorbar": {
              "outlinewidth": 0,
              "ticks": ""
             }
            },
            "type": "scatter3d"
           }
          ],
          "scattercarpet": [
           {
            "marker": {
             "colorbar": {
              "outlinewidth": 0,
              "ticks": ""
             }
            },
            "type": "scattercarpet"
           }
          ],
          "scattergeo": [
           {
            "marker": {
             "colorbar": {
              "outlinewidth": 0,
              "ticks": ""
             }
            },
            "type": "scattergeo"
           }
          ],
          "scattergl": [
           {
            "marker": {
             "colorbar": {
              "outlinewidth": 0,
              "ticks": ""
             }
            },
            "type": "scattergl"
           }
          ],
          "scattermapbox": [
           {
            "marker": {
             "colorbar": {
              "outlinewidth": 0,
              "ticks": ""
             }
            },
            "type": "scattermapbox"
           }
          ],
          "scatterpolar": [
           {
            "marker": {
             "colorbar": {
              "outlinewidth": 0,
              "ticks": ""
             }
            },
            "type": "scatterpolar"
           }
          ],
          "scatterpolargl": [
           {
            "marker": {
             "colorbar": {
              "outlinewidth": 0,
              "ticks": ""
             }
            },
            "type": "scatterpolargl"
           }
          ],
          "scatterternary": [
           {
            "marker": {
             "colorbar": {
              "outlinewidth": 0,
              "ticks": ""
             }
            },
            "type": "scatterternary"
           }
          ],
          "surface": [
           {
            "colorbar": {
             "outlinewidth": 0,
             "ticks": ""
            },
            "colorscale": [
             [
              0,
              "#0d0887"
             ],
             [
              0.1111111111111111,
              "#46039f"
             ],
             [
              0.2222222222222222,
              "#7201a8"
             ],
             [
              0.3333333333333333,
              "#9c179e"
             ],
             [
              0.4444444444444444,
              "#bd3786"
             ],
             [
              0.5555555555555556,
              "#d8576b"
             ],
             [
              0.6666666666666666,
              "#ed7953"
             ],
             [
              0.7777777777777778,
              "#fb9f3a"
             ],
             [
              0.8888888888888888,
              "#fdca26"
             ],
             [
              1,
              "#f0f921"
             ]
            ],
            "type": "surface"
           }
          ],
          "table": [
           {
            "cells": {
             "fill": {
              "color": "#EBF0F8"
             },
             "line": {
              "color": "white"
             }
            },
            "header": {
             "fill": {
              "color": "#C8D4E3"
             },
             "line": {
              "color": "white"
             }
            },
            "type": "table"
           }
          ]
         },
         "layout": {
          "annotationdefaults": {
           "arrowcolor": "#2a3f5f",
           "arrowhead": 0,
           "arrowwidth": 1
          },
          "autotypenumbers": "strict",
          "coloraxis": {
           "colorbar": {
            "outlinewidth": 0,
            "ticks": ""
           }
          },
          "colorscale": {
           "diverging": [
            [
             0,
             "#8e0152"
            ],
            [
             0.1,
             "#c51b7d"
            ],
            [
             0.2,
             "#de77ae"
            ],
            [
             0.3,
             "#f1b6da"
            ],
            [
             0.4,
             "#fde0ef"
            ],
            [
             0.5,
             "#f7f7f7"
            ],
            [
             0.6,
             "#e6f5d0"
            ],
            [
             0.7,
             "#b8e186"
            ],
            [
             0.8,
             "#7fbc41"
            ],
            [
             0.9,
             "#4d9221"
            ],
            [
             1,
             "#276419"
            ]
           ],
           "sequential": [
            [
             0,
             "#0d0887"
            ],
            [
             0.1111111111111111,
             "#46039f"
            ],
            [
             0.2222222222222222,
             "#7201a8"
            ],
            [
             0.3333333333333333,
             "#9c179e"
            ],
            [
             0.4444444444444444,
             "#bd3786"
            ],
            [
             0.5555555555555556,
             "#d8576b"
            ],
            [
             0.6666666666666666,
             "#ed7953"
            ],
            [
             0.7777777777777778,
             "#fb9f3a"
            ],
            [
             0.8888888888888888,
             "#fdca26"
            ],
            [
             1,
             "#f0f921"
            ]
           ],
           "sequentialminus": [
            [
             0,
             "#0d0887"
            ],
            [
             0.1111111111111111,
             "#46039f"
            ],
            [
             0.2222222222222222,
             "#7201a8"
            ],
            [
             0.3333333333333333,
             "#9c179e"
            ],
            [
             0.4444444444444444,
             "#bd3786"
            ],
            [
             0.5555555555555556,
             "#d8576b"
            ],
            [
             0.6666666666666666,
             "#ed7953"
            ],
            [
             0.7777777777777778,
             "#fb9f3a"
            ],
            [
             0.8888888888888888,
             "#fdca26"
            ],
            [
             1,
             "#f0f921"
            ]
           ]
          },
          "colorway": [
           "#636efa",
           "#EF553B",
           "#00cc96",
           "#ab63fa",
           "#FFA15A",
           "#19d3f3",
           "#FF6692",
           "#B6E880",
           "#FF97FF",
           "#FECB52"
          ],
          "font": {
           "color": "#2a3f5f"
          },
          "geo": {
           "bgcolor": "white",
           "lakecolor": "white",
           "landcolor": "white",
           "showlakes": true,
           "showland": true,
           "subunitcolor": "#C8D4E3"
          },
          "hoverlabel": {
           "align": "left"
          },
          "hovermode": "closest",
          "mapbox": {
           "style": "light"
          },
          "paper_bgcolor": "white",
          "plot_bgcolor": "white",
          "polar": {
           "angularaxis": {
            "gridcolor": "#EBF0F8",
            "linecolor": "#EBF0F8",
            "ticks": ""
           },
           "bgcolor": "white",
           "radialaxis": {
            "gridcolor": "#EBF0F8",
            "linecolor": "#EBF0F8",
            "ticks": ""
           }
          },
          "scene": {
           "xaxis": {
            "backgroundcolor": "white",
            "gridcolor": "#DFE8F3",
            "gridwidth": 2,
            "linecolor": "#EBF0F8",
            "showbackground": true,
            "ticks": "",
            "zerolinecolor": "#EBF0F8"
           },
           "yaxis": {
            "backgroundcolor": "white",
            "gridcolor": "#DFE8F3",
            "gridwidth": 2,
            "linecolor": "#EBF0F8",
            "showbackground": true,
            "ticks": "",
            "zerolinecolor": "#EBF0F8"
           },
           "zaxis": {
            "backgroundcolor": "white",
            "gridcolor": "#DFE8F3",
            "gridwidth": 2,
            "linecolor": "#EBF0F8",
            "showbackground": true,
            "ticks": "",
            "zerolinecolor": "#EBF0F8"
           }
          },
          "shapedefaults": {
           "line": {
            "color": "#2a3f5f"
           }
          },
          "ternary": {
           "aaxis": {
            "gridcolor": "#DFE8F3",
            "linecolor": "#A2B1C6",
            "ticks": ""
           },
           "baxis": {
            "gridcolor": "#DFE8F3",
            "linecolor": "#A2B1C6",
            "ticks": ""
           },
           "bgcolor": "white",
           "caxis": {
            "gridcolor": "#DFE8F3",
            "linecolor": "#A2B1C6",
            "ticks": ""
           }
          },
          "title": {
           "x": 0.05
          },
          "xaxis": {
           "automargin": true,
           "gridcolor": "#EBF0F8",
           "linecolor": "#EBF0F8",
           "ticks": "",
           "title": {
            "standoff": 15
           },
           "zerolinecolor": "#EBF0F8",
           "zerolinewidth": 2
          },
          "yaxis": {
           "automargin": true,
           "gridcolor": "#EBF0F8",
           "linecolor": "#EBF0F8",
           "ticks": "",
           "title": {
            "standoff": 15
           },
           "zerolinecolor": "#EBF0F8",
           "zerolinewidth": 2
          }
         }
        },
        "title": {
         "text": "📊 Monthly Correlation Heatmap (Group 2) - COLCAP_Valor hoy"
        },
        "width": 1000,
        "xaxis": {
         "anchor": "y",
         "domain": [
          0,
          1
         ],
         "tickangle": -45,
         "title": {
          "text": "Month"
         }
        },
        "yaxis": {
         "anchor": "x",
         "autorange": "reversed",
         "domain": [
          0,
          1
         ],
         "title": {
          "text": "Stock"
         }
        }
       }
      }
     },
     "metadata": {},
     "output_type": "display_data"
    }
   ],
   "source": [
    "from datetime import datetime, timedelta\n",
    "\n",
    "# Compute the date one year ago from today\n",
    "one_year_ago = datetime.today() - timedelta(days=365)\n",
    "\n",
    "# 🔹 **Filter data from the last year**\n",
    "df_close = df_close[df_close[\"Fecha\"] >= one_year_ago]\n",
    "\n",
    "# Create 'YearMonth' column for grouping\n",
    "df_close[\"YearMonth\"] = df_close[\"Fecha\"].dt.to_period(\"M\")\n",
    "\n",
    "# Drop 'Fecha' and 'YearMonth' before correlation calculations\n",
    "df_corr = df_close.drop(columns=[\"Fecha\", \"YearMonth\"])\n",
    "\n",
    "# Compute monthly correlation\n",
    "monthly_corr = df_close.groupby(\"YearMonth\").corr()\n",
    "\n",
    "# Handle missing data (Forward-fill & Back-fill)\n",
    "df_close.fillna(method='ffill', inplace=True)\n",
    "df_close.fillna(method='bfill', inplace=True)\n",
    "\n",
    "# Select target stock\n",
    "target_stock = \"COLCAP_Valor hoy\"  # Replace with your chosen stock column name\n",
    "\n",
    "# **1️⃣ Calculate Historical Correlation**\n",
    "historical_corr = df_corr.corr()[target_stock].drop(target_stock, errors=\"ignore\")\n",
    "\n",
    "# **2️⃣ Calculate Monthly Correlation**\n",
    "monthly_corr = monthly_corr.xs(target_stock, level=1, axis=0)\n",
    "monthly_corr = monthly_corr.drop(target_stock, axis=1, errors=\"ignore\")\n",
    "\n",
    "# 🔹 Convert 'YearMonth' to string (Fix Period object issue)\n",
    "monthly_corr.index = monthly_corr.index.astype(str)\n",
    "\n",
    "#delete the column \"Fecha\"\n",
    "if \"Fecha\" in monthly_corr.columns:\n",
    "    monthly_corr = monthly_corr.drop(columns=[\"Fecha\"])\n",
    "\n",
    "# 🔥 **Split into Two Groups**\n",
    "stocks = list(monthly_corr.columns)\n",
    "midpoint = len(stocks) // 2  # Divide into two equal parts\n",
    "\n",
    "group1 = stocks[:midpoint]  # First half\n",
    "group2 = stocks[midpoint:]  # Second half\n",
    "\n",
    "\n",
    "# **Function to Create Heatmap**\n",
    "def plot_heatmap(corr_data, group, title):\n",
    "    fig = px.imshow(\n",
    "        corr_data[group].T,  # Transpose for better view\n",
    "        labels=dict(x=\"Month\", y=\"Stock\", color=\"Correlation\"),\n",
    "        title=title,\n",
    "        color_continuous_scale=\"RdBu_r\",\n",
    "        aspect=\"auto\",\n",
    "    )\n",
    "\n",
    "    fig.update_layout(\n",
    "        autosize=False,\n",
    "        width=1000,\n",
    "        height=600,\n",
    "        xaxis=dict(tickangle=-45),\n",
    "        template=\"plotly_white\",  # ✅ Clean & professional look\n",
    "    )\n",
    "\n",
    "    fig.show()\n",
    "\n",
    "# **Plot Heatmaps**\n",
    "plot_heatmap(monthly_corr, group1, f\"📊 Monthly Correlation Heatmap (Group 1) - {target_stock}\")\n",
    "plot_heatmap(monthly_corr, group2, f\"📊 Monthly Correlation Heatmap (Group 2) - {target_stock}\")"
   ]
  },
  {
   "cell_type": "code",
   "execution_count": 13,
   "metadata": {},
   "outputs": [
    {
     "data": {
      "text/html": [
       "\n",
       "        <iframe\n",
       "            width=\"100%\"\n",
       "            height=\"650\"\n",
       "            src=\"http://127.0.0.1:8050/\"\n",
       "            frameborder=\"0\"\n",
       "            allowfullscreen\n",
       "            \n",
       "        ></iframe>\n",
       "        "
      ],
      "text/plain": [
       "<IPython.lib.display.IFrame at 0x1e428896e90>"
      ]
     },
     "metadata": {},
     "output_type": "display_data"
    }
   ],
   "source": [
    "import pandas as pd\n",
    "import plotly.express as px\n",
    "import dash\n",
    "from dash import dcc, html\n",
    "from dash.dependencies import Input, Output\n",
    "\n",
    "# Load the monthly correlation data\n",
    "df = pd.read_csv(\"Monthly_Correlation.csv\", index_col=0, parse_dates=True)\n",
    "df.index = pd.to_datetime(df.index.astype(str))  # Ensure index is datetime\n",
    "\n",
    "# Filter data from March 2024 onwards\n",
    "df_filtered = df[df.index >= \"2024-03\"]\n",
    "\n",
    "# Split columns into two groups\n",
    "stocks = list(df_filtered.columns)\n",
    "midpoint = len(stocks) // 2\n",
    "group1 = stocks[:midpoint]\n",
    "group2 = stocks[midpoint:]\n",
    "\n",
    "def plot_heatmap(data, title):\n",
    "    fig = px.imshow(\n",
    "        data.T,  # Transpose for better layout\n",
    "        labels=dict(x=\"Month\", y=\"Stock\", color=\"Correlation\"),\n",
    "        title=title,\n",
    "        color_continuous_scale=\"RdBu_r\",\n",
    "        aspect=\"auto\",\n",
    "    )\n",
    "    fig.update_layout(\n",
    "        autosize=False,\n",
    "        width=1000,\n",
    "        height=600,\n",
    "        xaxis=dict(tickangle=-45),\n",
    "    )\n",
    "    return fig\n",
    "\n",
    "# Dash app setup\n",
    "app = dash.Dash(__name__)\n",
    "server = app.server\n",
    "\n",
    "app.layout = html.Div([\n",
    "    html.H1(\"📊 Monthly Correlation Heatmaps\", style={'textAlign': 'center'}),\n",
    "    \n",
    "    dcc.Dropdown(\n",
    "        id=\"group_selector\",\n",
    "        options=[\n",
    "            {\"label\": \"Group 1\", \"value\": \"group1\"},\n",
    "            {\"label\": \"Group 2\", \"value\": \"group2\"}\n",
    "        ],\n",
    "        value=\"group1\",\n",
    "        clearable=False,\n",
    "        style={\"width\": \"50%\", \"margin\": \"auto\"}\n",
    "    ),\n",
    "    \n",
    "    dcc.Graph(id=\"heatmap\")\n",
    "])\n",
    "\n",
    "@app.callback(\n",
    "    Output(\"heatmap\", \"figure\"),\n",
    "    Input(\"group_selector\", \"value\")\n",
    ")\n",
    "def update_heatmap(selected_group):\n",
    "    data = df_filtered[group1] if selected_group == \"group1\" else df_filtered[group2]\n",
    "    title = f\"📊 Monthly Correlation Heatmap ({selected_group.replace('group', 'Group ')})\"\n",
    "    return plot_heatmap(data, title)\n",
    "\n",
    "if __name__ == \"__main__\":\n",
    "    app.run(debug=True)\n"
   ]
  },
  {
   "cell_type": "code",
   "execution_count": 14,
   "metadata": {},
   "outputs": [
    {
     "data": {
      "text/html": [
       "<div>\n",
       "<style scoped>\n",
       "    .dataframe tbody tr th:only-of-type {\n",
       "        vertical-align: middle;\n",
       "    }\n",
       "\n",
       "    .dataframe tbody tr th {\n",
       "        vertical-align: top;\n",
       "    }\n",
       "\n",
       "    .dataframe thead th {\n",
       "        text-align: right;\n",
       "    }\n",
       "</style>\n",
       "<table border=\"1\" class=\"dataframe\">\n",
       "  <thead>\n",
       "    <tr style=\"text-align: right;\">\n",
       "      <th></th>\n",
       "      <th>Stock</th>\n",
       "      <th>Correlation</th>\n",
       "    </tr>\n",
       "  </thead>\n",
       "  <tbody>\n",
       "    <tr>\n",
       "      <th>0</th>\n",
       "      <td>HCOLSEL_Precio cierre</td>\n",
       "      <td>0.906751</td>\n",
       "    </tr>\n",
       "    <tr>\n",
       "      <th>1</th>\n",
       "      <td>PFBCOLOMBIA_Precio cierre</td>\n",
       "      <td>0.900616</td>\n",
       "    </tr>\n",
       "    <tr>\n",
       "      <th>2</th>\n",
       "      <td>PFGRUPOSURA_Precio cierre</td>\n",
       "      <td>0.789961</td>\n",
       "    </tr>\n",
       "    <tr>\n",
       "      <th>3</th>\n",
       "      <td>BHI_Precio cierre</td>\n",
       "      <td>0.780928</td>\n",
       "    </tr>\n",
       "    <tr>\n",
       "      <th>4</th>\n",
       "      <td>TERPEL_Precio cierre</td>\n",
       "      <td>0.743705</td>\n",
       "    </tr>\n",
       "    <tr>\n",
       "      <th>5</th>\n",
       "      <td>BCOLOMBIA_Precio cierre</td>\n",
       "      <td>0.705082</td>\n",
       "    </tr>\n",
       "    <tr>\n",
       "      <th>6</th>\n",
       "      <td>GRUPOARGOS_Precio cierre</td>\n",
       "      <td>0.701101</td>\n",
       "    </tr>\n",
       "    <tr>\n",
       "      <th>7</th>\n",
       "      <td>CEMARGOS_Precio cierre</td>\n",
       "      <td>0.643139</td>\n",
       "    </tr>\n",
       "    <tr>\n",
       "      <th>8</th>\n",
       "      <td>PEI_Precio cierre</td>\n",
       "      <td>0.642555</td>\n",
       "    </tr>\n",
       "    <tr>\n",
       "      <th>9</th>\n",
       "      <td>GRUBOLIVAR_Precio cierre</td>\n",
       "      <td>0.629054</td>\n",
       "    </tr>\n",
       "    <tr>\n",
       "      <th>10</th>\n",
       "      <td>PFGRUPARG_Precio cierre</td>\n",
       "      <td>0.626306</td>\n",
       "    </tr>\n",
       "    <tr>\n",
       "      <th>11</th>\n",
       "      <td>GEB_Precio cierre</td>\n",
       "      <td>0.602788</td>\n",
       "    </tr>\n",
       "    <tr>\n",
       "      <th>12</th>\n",
       "      <td>ISA_Precio cierre</td>\n",
       "      <td>0.573038</td>\n",
       "    </tr>\n",
       "    <tr>\n",
       "      <th>13</th>\n",
       "      <td>MINEROS_Precio cierre</td>\n",
       "      <td>0.536067</td>\n",
       "    </tr>\n",
       "    <tr>\n",
       "      <th>14</th>\n",
       "      <td>PROMIGAS_Precio cierre</td>\n",
       "      <td>0.528314</td>\n",
       "    </tr>\n",
       "    <tr>\n",
       "      <th>15</th>\n",
       "      <td>PFCEMARGOS_Precio cierre</td>\n",
       "      <td>0.521023</td>\n",
       "    </tr>\n",
       "    <tr>\n",
       "      <th>16</th>\n",
       "      <td>CELSIA_Precio cierre</td>\n",
       "      <td>0.489855</td>\n",
       "    </tr>\n",
       "    <tr>\n",
       "      <th>17</th>\n",
       "      <td>ECOPETROL_Precio cierre</td>\n",
       "      <td>0.452651</td>\n",
       "    </tr>\n",
       "    <tr>\n",
       "      <th>18</th>\n",
       "      <td>CONCONCRETO_Precio cierre</td>\n",
       "      <td>0.360060</td>\n",
       "    </tr>\n",
       "    <tr>\n",
       "      <th>19</th>\n",
       "      <td>PFDAVVNDA_Precio cierre</td>\n",
       "      <td>0.344139</td>\n",
       "    </tr>\n",
       "    <tr>\n",
       "      <th>20</th>\n",
       "      <td>PFCORFICOL_Precio cierre</td>\n",
       "      <td>0.319236</td>\n",
       "    </tr>\n",
       "    <tr>\n",
       "      <th>21</th>\n",
       "      <td>CORFICOL_Precio cierre</td>\n",
       "      <td>0.292170</td>\n",
       "    </tr>\n",
       "    <tr>\n",
       "      <th>22</th>\n",
       "      <td>NUTRESA_Precio cierre</td>\n",
       "      <td>0.274875</td>\n",
       "    </tr>\n",
       "    <tr>\n",
       "      <th>23</th>\n",
       "      <td>ENKA_Precio cierre</td>\n",
       "      <td>0.273211</td>\n",
       "    </tr>\n",
       "    <tr>\n",
       "      <th>24</th>\n",
       "      <td>PFAVAL_Precio cierre</td>\n",
       "      <td>0.272907</td>\n",
       "    </tr>\n",
       "    <tr>\n",
       "      <th>25</th>\n",
       "      <td>FABRICATO_Precio cierre</td>\n",
       "      <td>0.256540</td>\n",
       "    </tr>\n",
       "    <tr>\n",
       "      <th>26</th>\n",
       "      <td>GRUPOSURA_Precio cierre</td>\n",
       "      <td>0.248453</td>\n",
       "    </tr>\n",
       "    <tr>\n",
       "      <th>27</th>\n",
       "      <td>BVC_Precio cierre</td>\n",
       "      <td>0.226516</td>\n",
       "    </tr>\n",
       "    <tr>\n",
       "      <th>28</th>\n",
       "      <td>EXITO_Precio cierre</td>\n",
       "      <td>0.190283</td>\n",
       "    </tr>\n",
       "    <tr>\n",
       "      <th>29</th>\n",
       "      <td>BOGOTA_Precio cierre</td>\n",
       "      <td>0.162733</td>\n",
       "    </tr>\n",
       "    <tr>\n",
       "      <th>30</th>\n",
       "      <td>ETB_Precio cierre</td>\n",
       "      <td>0.050187</td>\n",
       "    </tr>\n",
       "    <tr>\n",
       "      <th>31</th>\n",
       "      <td>GRUPOAVAL_Precio cierre</td>\n",
       "      <td>0.006655</td>\n",
       "    </tr>\n",
       "    <tr>\n",
       "      <th>32</th>\n",
       "      <td>GXTESCOL_Precio cierre</td>\n",
       "      <td>-0.036718</td>\n",
       "    </tr>\n",
       "    <tr>\n",
       "      <th>33</th>\n",
       "      <td>CNEC_Precio cierre</td>\n",
       "      <td>-0.426040</td>\n",
       "    </tr>\n",
       "  </tbody>\n",
       "</table>\n",
       "</div>"
      ],
      "text/plain": [
       "                        Stock  Correlation\n",
       "0       HCOLSEL_Precio cierre     0.906751\n",
       "1   PFBCOLOMBIA_Precio cierre     0.900616\n",
       "2   PFGRUPOSURA_Precio cierre     0.789961\n",
       "3           BHI_Precio cierre     0.780928\n",
       "4        TERPEL_Precio cierre     0.743705\n",
       "5     BCOLOMBIA_Precio cierre     0.705082\n",
       "6    GRUPOARGOS_Precio cierre     0.701101\n",
       "7      CEMARGOS_Precio cierre     0.643139\n",
       "8           PEI_Precio cierre     0.642555\n",
       "9    GRUBOLIVAR_Precio cierre     0.629054\n",
       "10    PFGRUPARG_Precio cierre     0.626306\n",
       "11          GEB_Precio cierre     0.602788\n",
       "12          ISA_Precio cierre     0.573038\n",
       "13      MINEROS_Precio cierre     0.536067\n",
       "14     PROMIGAS_Precio cierre     0.528314\n",
       "15   PFCEMARGOS_Precio cierre     0.521023\n",
       "16       CELSIA_Precio cierre     0.489855\n",
       "17    ECOPETROL_Precio cierre     0.452651\n",
       "18  CONCONCRETO_Precio cierre     0.360060\n",
       "19    PFDAVVNDA_Precio cierre     0.344139\n",
       "20   PFCORFICOL_Precio cierre     0.319236\n",
       "21     CORFICOL_Precio cierre     0.292170\n",
       "22      NUTRESA_Precio cierre     0.274875\n",
       "23         ENKA_Precio cierre     0.273211\n",
       "24       PFAVAL_Precio cierre     0.272907\n",
       "25    FABRICATO_Precio cierre     0.256540\n",
       "26    GRUPOSURA_Precio cierre     0.248453\n",
       "27          BVC_Precio cierre     0.226516\n",
       "28        EXITO_Precio cierre     0.190283\n",
       "29       BOGOTA_Precio cierre     0.162733\n",
       "30          ETB_Precio cierre     0.050187\n",
       "31    GRUPOAVAL_Precio cierre     0.006655\n",
       "32     GXTESCOL_Precio cierre    -0.036718\n",
       "33         CNEC_Precio cierre    -0.426040"
      ]
     },
     "execution_count": 14,
     "metadata": {},
     "output_type": "execute_result"
    }
   ],
   "source": [
    "df_corr = pd.read_csv(\"Historical_Correlation.csv\", index_col=0, header=None, names=[\"Stock\", \"Correlation\"], skiprows=1)\n",
    "df_corr=df_corr.reset_index()\n",
    "df_corr = df_corr.sort_values(\"Correlation\", ascending=False).reset_index(drop=True)\n",
    "df_corr"
   ]
  },
  {
   "cell_type": "code",
   "execution_count": 15,
   "metadata": {},
   "outputs": [
    {
     "data": {
      "application/vnd.plotly.v1+json": {
       "config": {
        "plotlyServerURL": "https://plot.ly"
       },
       "data": [
        {
         "alignmentgroup": "True",
         "hovertemplate": "Correlation Coefficient=%{marker.color}<br>Stock=%{y}<extra></extra>",
         "legendgroup": "",
         "marker": {
          "color": [
           0.9067512235404832,
           0.9006161571325065,
           0.7899609371592566,
           0.7809276015742118,
           0.7437052637205531,
           0.7050815430069788,
           0.7011005329507661,
           0.6431390221562558,
           0.6425546316168423,
           0.6290539327669585,
           0.6263060697481121,
           0.6027880556183075,
           0.573037615085155,
           0.5360666503971189,
           0.5283144197879042,
           0.5210228784251889,
           0.4898545355756843,
           0.4526505444157714,
           0.3600604912405528,
           0.3441386456540936,
           0.3192357971347239,
           0.29217000387875,
           0.2748748595882327,
           0.2732113350339862,
           0.2729073971428772,
           0.2565397124579629,
           0.2484534231000577,
           0.2265163478223499,
           0.1902830939595821,
           0.1627329538871876,
           0.0501870699853063,
           0.0066549239069074,
           -0.0367184986862188,
           -0.4260395947329752
          ],
          "coloraxis": "coloraxis",
          "pattern": {
           "shape": ""
          }
         },
         "name": "",
         "offsetgroup": "",
         "orientation": "h",
         "showlegend": false,
         "textposition": "auto",
         "type": "bar",
         "x": [
          0.9067512235404832,
          0.9006161571325065,
          0.7899609371592566,
          0.7809276015742118,
          0.7437052637205531,
          0.7050815430069788,
          0.7011005329507661,
          0.6431390221562558,
          0.6425546316168423,
          0.6290539327669585,
          0.6263060697481121,
          0.6027880556183075,
          0.573037615085155,
          0.5360666503971189,
          0.5283144197879042,
          0.5210228784251889,
          0.4898545355756843,
          0.4526505444157714,
          0.3600604912405528,
          0.3441386456540936,
          0.3192357971347239,
          0.29217000387875,
          0.2748748595882327,
          0.2732113350339862,
          0.2729073971428772,
          0.2565397124579629,
          0.2484534231000577,
          0.2265163478223499,
          0.1902830939595821,
          0.1627329538871876,
          0.0501870699853063,
          0.0066549239069074,
          -0.0367184986862188,
          -0.4260395947329752
         ],
         "xaxis": "x",
         "y": [
          "HCOLSEL",
          "PFBCOLOMBIA",
          "PFGRUPOSURA",
          "BHI",
          "TERPEL",
          "BCOLOMBIA",
          "GRUPOARGOS",
          "CEMARGOS",
          "PEI",
          "GRUBOLIVAR",
          "PFGRUPARG",
          "GEB",
          "ISA",
          "MINEROS",
          "PROMIGAS",
          "PFCEMARGOS",
          "CELSIA",
          "ECOPETROL",
          "CONCONCRETO",
          "PFDAVVNDA",
          "PFCORFICOL",
          "CORFICOL",
          "NUTRESA",
          "ENKA",
          "PFAVAL",
          "FABRICATO",
          "GRUPOSURA",
          "BVC",
          "EXITO",
          "BOGOTA",
          "ETB",
          "GRUPOAVAL",
          "GXTESCOL",
          "CNEC"
         ],
         "yaxis": "y"
        }
       ],
       "layout": {
        "barmode": "relative",
        "coloraxis": {
         "cmax": 1,
         "cmin": -1,
         "colorbar": {
          "title": {
           "text": "Correlation Coefficient"
          }
         },
         "colorscale": [
          [
           0,
           "rgb(5,48,97)"
          ],
          [
           0.1,
           "rgb(33,102,172)"
          ],
          [
           0.2,
           "rgb(67,147,195)"
          ],
          [
           0.3,
           "rgb(146,197,222)"
          ],
          [
           0.4,
           "rgb(209,229,240)"
          ],
          [
           0.5,
           "rgb(247,247,247)"
          ],
          [
           0.6,
           "rgb(253,219,199)"
          ],
          [
           0.7,
           "rgb(244,165,130)"
          ],
          [
           0.8,
           "rgb(214,96,77)"
          ],
          [
           0.9,
           "rgb(178,24,43)"
          ],
          [
           1,
           "rgb(103,0,31)"
          ]
         ]
        },
        "height": 800,
        "legend": {
         "tracegroupgap": 0
        },
        "template": {
         "data": {
          "bar": [
           {
            "error_x": {
             "color": "#2a3f5f"
            },
            "error_y": {
             "color": "#2a3f5f"
            },
            "marker": {
             "line": {
              "color": "#E5ECF6",
              "width": 0.5
             },
             "pattern": {
              "fillmode": "overlay",
              "size": 10,
              "solidity": 0.2
             }
            },
            "type": "bar"
           }
          ],
          "barpolar": [
           {
            "marker": {
             "line": {
              "color": "#E5ECF6",
              "width": 0.5
             },
             "pattern": {
              "fillmode": "overlay",
              "size": 10,
              "solidity": 0.2
             }
            },
            "type": "barpolar"
           }
          ],
          "carpet": [
           {
            "aaxis": {
             "endlinecolor": "#2a3f5f",
             "gridcolor": "white",
             "linecolor": "white",
             "minorgridcolor": "white",
             "startlinecolor": "#2a3f5f"
            },
            "baxis": {
             "endlinecolor": "#2a3f5f",
             "gridcolor": "white",
             "linecolor": "white",
             "minorgridcolor": "white",
             "startlinecolor": "#2a3f5f"
            },
            "type": "carpet"
           }
          ],
          "choropleth": [
           {
            "colorbar": {
             "outlinewidth": 0,
             "ticks": ""
            },
            "type": "choropleth"
           }
          ],
          "contour": [
           {
            "colorbar": {
             "outlinewidth": 0,
             "ticks": ""
            },
            "colorscale": [
             [
              0,
              "#0d0887"
             ],
             [
              0.1111111111111111,
              "#46039f"
             ],
             [
              0.2222222222222222,
              "#7201a8"
             ],
             [
              0.3333333333333333,
              "#9c179e"
             ],
             [
              0.4444444444444444,
              "#bd3786"
             ],
             [
              0.5555555555555556,
              "#d8576b"
             ],
             [
              0.6666666666666666,
              "#ed7953"
             ],
             [
              0.7777777777777778,
              "#fb9f3a"
             ],
             [
              0.8888888888888888,
              "#fdca26"
             ],
             [
              1,
              "#f0f921"
             ]
            ],
            "type": "contour"
           }
          ],
          "contourcarpet": [
           {
            "colorbar": {
             "outlinewidth": 0,
             "ticks": ""
            },
            "type": "contourcarpet"
           }
          ],
          "heatmap": [
           {
            "colorbar": {
             "outlinewidth": 0,
             "ticks": ""
            },
            "colorscale": [
             [
              0,
              "#0d0887"
             ],
             [
              0.1111111111111111,
              "#46039f"
             ],
             [
              0.2222222222222222,
              "#7201a8"
             ],
             [
              0.3333333333333333,
              "#9c179e"
             ],
             [
              0.4444444444444444,
              "#bd3786"
             ],
             [
              0.5555555555555556,
              "#d8576b"
             ],
             [
              0.6666666666666666,
              "#ed7953"
             ],
             [
              0.7777777777777778,
              "#fb9f3a"
             ],
             [
              0.8888888888888888,
              "#fdca26"
             ],
             [
              1,
              "#f0f921"
             ]
            ],
            "type": "heatmap"
           }
          ],
          "heatmapgl": [
           {
            "colorbar": {
             "outlinewidth": 0,
             "ticks": ""
            },
            "colorscale": [
             [
              0,
              "#0d0887"
             ],
             [
              0.1111111111111111,
              "#46039f"
             ],
             [
              0.2222222222222222,
              "#7201a8"
             ],
             [
              0.3333333333333333,
              "#9c179e"
             ],
             [
              0.4444444444444444,
              "#bd3786"
             ],
             [
              0.5555555555555556,
              "#d8576b"
             ],
             [
              0.6666666666666666,
              "#ed7953"
             ],
             [
              0.7777777777777778,
              "#fb9f3a"
             ],
             [
              0.8888888888888888,
              "#fdca26"
             ],
             [
              1,
              "#f0f921"
             ]
            ],
            "type": "heatmapgl"
           }
          ],
          "histogram": [
           {
            "marker": {
             "pattern": {
              "fillmode": "overlay",
              "size": 10,
              "solidity": 0.2
             }
            },
            "type": "histogram"
           }
          ],
          "histogram2d": [
           {
            "colorbar": {
             "outlinewidth": 0,
             "ticks": ""
            },
            "colorscale": [
             [
              0,
              "#0d0887"
             ],
             [
              0.1111111111111111,
              "#46039f"
             ],
             [
              0.2222222222222222,
              "#7201a8"
             ],
             [
              0.3333333333333333,
              "#9c179e"
             ],
             [
              0.4444444444444444,
              "#bd3786"
             ],
             [
              0.5555555555555556,
              "#d8576b"
             ],
             [
              0.6666666666666666,
              "#ed7953"
             ],
             [
              0.7777777777777778,
              "#fb9f3a"
             ],
             [
              0.8888888888888888,
              "#fdca26"
             ],
             [
              1,
              "#f0f921"
             ]
            ],
            "type": "histogram2d"
           }
          ],
          "histogram2dcontour": [
           {
            "colorbar": {
             "outlinewidth": 0,
             "ticks": ""
            },
            "colorscale": [
             [
              0,
              "#0d0887"
             ],
             [
              0.1111111111111111,
              "#46039f"
             ],
             [
              0.2222222222222222,
              "#7201a8"
             ],
             [
              0.3333333333333333,
              "#9c179e"
             ],
             [
              0.4444444444444444,
              "#bd3786"
             ],
             [
              0.5555555555555556,
              "#d8576b"
             ],
             [
              0.6666666666666666,
              "#ed7953"
             ],
             [
              0.7777777777777778,
              "#fb9f3a"
             ],
             [
              0.8888888888888888,
              "#fdca26"
             ],
             [
              1,
              "#f0f921"
             ]
            ],
            "type": "histogram2dcontour"
           }
          ],
          "mesh3d": [
           {
            "colorbar": {
             "outlinewidth": 0,
             "ticks": ""
            },
            "type": "mesh3d"
           }
          ],
          "parcoords": [
           {
            "line": {
             "colorbar": {
              "outlinewidth": 0,
              "ticks": ""
             }
            },
            "type": "parcoords"
           }
          ],
          "pie": [
           {
            "automargin": true,
            "type": "pie"
           }
          ],
          "scatter": [
           {
            "fillpattern": {
             "fillmode": "overlay",
             "size": 10,
             "solidity": 0.2
            },
            "type": "scatter"
           }
          ],
          "scatter3d": [
           {
            "line": {
             "colorbar": {
              "outlinewidth": 0,
              "ticks": ""
             }
            },
            "marker": {
             "colorbar": {
              "outlinewidth": 0,
              "ticks": ""
             }
            },
            "type": "scatter3d"
           }
          ],
          "scattercarpet": [
           {
            "marker": {
             "colorbar": {
              "outlinewidth": 0,
              "ticks": ""
             }
            },
            "type": "scattercarpet"
           }
          ],
          "scattergeo": [
           {
            "marker": {
             "colorbar": {
              "outlinewidth": 0,
              "ticks": ""
             }
            },
            "type": "scattergeo"
           }
          ],
          "scattergl": [
           {
            "marker": {
             "colorbar": {
              "outlinewidth": 0,
              "ticks": ""
             }
            },
            "type": "scattergl"
           }
          ],
          "scattermapbox": [
           {
            "marker": {
             "colorbar": {
              "outlinewidth": 0,
              "ticks": ""
             }
            },
            "type": "scattermapbox"
           }
          ],
          "scatterpolar": [
           {
            "marker": {
             "colorbar": {
              "outlinewidth": 0,
              "ticks": ""
             }
            },
            "type": "scatterpolar"
           }
          ],
          "scatterpolargl": [
           {
            "marker": {
             "colorbar": {
              "outlinewidth": 0,
              "ticks": ""
             }
            },
            "type": "scatterpolargl"
           }
          ],
          "scatterternary": [
           {
            "marker": {
             "colorbar": {
              "outlinewidth": 0,
              "ticks": ""
             }
            },
            "type": "scatterternary"
           }
          ],
          "surface": [
           {
            "colorbar": {
             "outlinewidth": 0,
             "ticks": ""
            },
            "colorscale": [
             [
              0,
              "#0d0887"
             ],
             [
              0.1111111111111111,
              "#46039f"
             ],
             [
              0.2222222222222222,
              "#7201a8"
             ],
             [
              0.3333333333333333,
              "#9c179e"
             ],
             [
              0.4444444444444444,
              "#bd3786"
             ],
             [
              0.5555555555555556,
              "#d8576b"
             ],
             [
              0.6666666666666666,
              "#ed7953"
             ],
             [
              0.7777777777777778,
              "#fb9f3a"
             ],
             [
              0.8888888888888888,
              "#fdca26"
             ],
             [
              1,
              "#f0f921"
             ]
            ],
            "type": "surface"
           }
          ],
          "table": [
           {
            "cells": {
             "fill": {
              "color": "#EBF0F8"
             },
             "line": {
              "color": "white"
             }
            },
            "header": {
             "fill": {
              "color": "#C8D4E3"
             },
             "line": {
              "color": "white"
             }
            },
            "type": "table"
           }
          ]
         },
         "layout": {
          "annotationdefaults": {
           "arrowcolor": "#2a3f5f",
           "arrowhead": 0,
           "arrowwidth": 1
          },
          "autotypenumbers": "strict",
          "coloraxis": {
           "colorbar": {
            "outlinewidth": 0,
            "ticks": ""
           }
          },
          "colorscale": {
           "diverging": [
            [
             0,
             "#8e0152"
            ],
            [
             0.1,
             "#c51b7d"
            ],
            [
             0.2,
             "#de77ae"
            ],
            [
             0.3,
             "#f1b6da"
            ],
            [
             0.4,
             "#fde0ef"
            ],
            [
             0.5,
             "#f7f7f7"
            ],
            [
             0.6,
             "#e6f5d0"
            ],
            [
             0.7,
             "#b8e186"
            ],
            [
             0.8,
             "#7fbc41"
            ],
            [
             0.9,
             "#4d9221"
            ],
            [
             1,
             "#276419"
            ]
           ],
           "sequential": [
            [
             0,
             "#0d0887"
            ],
            [
             0.1111111111111111,
             "#46039f"
            ],
            [
             0.2222222222222222,
             "#7201a8"
            ],
            [
             0.3333333333333333,
             "#9c179e"
            ],
            [
             0.4444444444444444,
             "#bd3786"
            ],
            [
             0.5555555555555556,
             "#d8576b"
            ],
            [
             0.6666666666666666,
             "#ed7953"
            ],
            [
             0.7777777777777778,
             "#fb9f3a"
            ],
            [
             0.8888888888888888,
             "#fdca26"
            ],
            [
             1,
             "#f0f921"
            ]
           ],
           "sequentialminus": [
            [
             0,
             "#0d0887"
            ],
            [
             0.1111111111111111,
             "#46039f"
            ],
            [
             0.2222222222222222,
             "#7201a8"
            ],
            [
             0.3333333333333333,
             "#9c179e"
            ],
            [
             0.4444444444444444,
             "#bd3786"
            ],
            [
             0.5555555555555556,
             "#d8576b"
            ],
            [
             0.6666666666666666,
             "#ed7953"
            ],
            [
             0.7777777777777778,
             "#fb9f3a"
            ],
            [
             0.8888888888888888,
             "#fdca26"
            ],
            [
             1,
             "#f0f921"
            ]
           ]
          },
          "colorway": [
           "#636efa",
           "#EF553B",
           "#00cc96",
           "#ab63fa",
           "#FFA15A",
           "#19d3f3",
           "#FF6692",
           "#B6E880",
           "#FF97FF",
           "#FECB52"
          ],
          "font": {
           "color": "#2a3f5f"
          },
          "geo": {
           "bgcolor": "white",
           "lakecolor": "white",
           "landcolor": "#E5ECF6",
           "showlakes": true,
           "showland": true,
           "subunitcolor": "white"
          },
          "hoverlabel": {
           "align": "left"
          },
          "hovermode": "closest",
          "mapbox": {
           "style": "light"
          },
          "paper_bgcolor": "white",
          "plot_bgcolor": "#E5ECF6",
          "polar": {
           "angularaxis": {
            "gridcolor": "white",
            "linecolor": "white",
            "ticks": ""
           },
           "bgcolor": "#E5ECF6",
           "radialaxis": {
            "gridcolor": "white",
            "linecolor": "white",
            "ticks": ""
           }
          },
          "scene": {
           "xaxis": {
            "backgroundcolor": "#E5ECF6",
            "gridcolor": "white",
            "gridwidth": 2,
            "linecolor": "white",
            "showbackground": true,
            "ticks": "",
            "zerolinecolor": "white"
           },
           "yaxis": {
            "backgroundcolor": "#E5ECF6",
            "gridcolor": "white",
            "gridwidth": 2,
            "linecolor": "white",
            "showbackground": true,
            "ticks": "",
            "zerolinecolor": "white"
           },
           "zaxis": {
            "backgroundcolor": "#E5ECF6",
            "gridcolor": "white",
            "gridwidth": 2,
            "linecolor": "white",
            "showbackground": true,
            "ticks": "",
            "zerolinecolor": "white"
           }
          },
          "shapedefaults": {
           "line": {
            "color": "#2a3f5f"
           }
          },
          "ternary": {
           "aaxis": {
            "gridcolor": "white",
            "linecolor": "white",
            "ticks": ""
           },
           "baxis": {
            "gridcolor": "white",
            "linecolor": "white",
            "ticks": ""
           },
           "bgcolor": "#E5ECF6",
           "caxis": {
            "gridcolor": "white",
            "linecolor": "white",
            "ticks": ""
           }
          },
          "title": {
           "x": 0.05
          },
          "xaxis": {
           "automargin": true,
           "gridcolor": "white",
           "linecolor": "white",
           "ticks": "",
           "title": {
            "standoff": 15
           },
           "zerolinecolor": "white",
           "zerolinewidth": 2
          },
          "yaxis": {
           "automargin": true,
           "gridcolor": "white",
           "linecolor": "white",
           "ticks": "",
           "title": {
            "standoff": 15
           },
           "zerolinecolor": "white",
           "zerolinewidth": 2
          }
         }
        },
        "title": {
         "text": "📈 Historical Correlation Stocks vs COLCAP Index Mar-2020 to Mar 2025"
        },
        "xaxis": {
         "anchor": "y",
         "domain": [
          0,
          1
         ],
         "tickformat": ".2f",
         "title": {
          "text": "Correlation Coefficient"
         }
        },
        "yaxis": {
         "anchor": "x",
         "autorange": "reversed",
         "domain": [
          0,
          1
         ],
         "title": {
          "text": "Stock"
         }
        }
       }
      }
     },
     "metadata": {},
     "output_type": "display_data"
    }
   ],
   "source": [
    "import pandas as pd\n",
    "import plotly.express as px\n",
    "\n",
    "# Load the correlation CSV\n",
    "df_corr = pd.read_csv(\"Historical_Correlation.csv\", index_col=0, header=None, names=[\"Stock\", \"Correlation\"],skiprows=1)\n",
    "\n",
    "#Reset index to have the correct form of the dataframe\n",
    "df_corr=df_corr.reset_index()\n",
    "\n",
    "#turn to float the data\n",
    "df_corr[\"Correlation\"] = df_corr[\"Correlation\"].astype(float)\n",
    "\n",
    "#order the data according to the correlation\n",
    "df_corr = df_corr.sort_values(\"Correlation\", ascending=False).reset_index(drop=True)\n",
    "\n",
    "# Optional: clean column names\n",
    "df_corr[\"Stock\"] = df_corr[\"Stock\"].str.replace(\"_Precio cierre\", \"\", regex=False)\n",
    "\n",
    "# Create the bar chart\n",
    "fig = px.bar(\n",
    "    df_corr,\n",
    "    x=\"Correlation\",\n",
    "    y=\"Stock\",\n",
    "    orientation='h',\n",
    "    color=\"Correlation\",\n",
    "    color_continuous_scale='RdBu_r',\n",
    "    range_color=[-1, 1],\n",
    "    title=\"📈 Historical Correlation Stocks vs COLCAP Index Mar-2020 to Mar 2025\",\n",
    "    labels={\"Correlation\": \"Correlation Coefficient\", \"Stock\": \"Stock\"},\n",
    ")\n",
    "\n",
    "# Update layout for better appearance\n",
    "fig.update_layout(\n",
    "    yaxis=dict(autorange=\"reversed\"),\n",
    "    height=800,\n",
    "    xaxis=dict(tickformat=\".2f\"),\n",
    ")\n",
    "\n",
    "# Show the chart (or use in Dash app)\n",
    "fig.show()"
   ]
  },
  {
   "cell_type": "code",
   "execution_count": 18,
   "metadata": {},
   "outputs": [
    {
     "data": {
      "text/html": [
       "\n",
       "        <iframe\n",
       "            width=\"100%\"\n",
       "            height=\"650\"\n",
       "            src=\"http://127.0.0.1:8050/\"\n",
       "            frameborder=\"0\"\n",
       "            allowfullscreen\n",
       "            \n",
       "        ></iframe>\n",
       "        "
      ],
      "text/plain": [
       "<IPython.lib.display.IFrame at 0x1e42bfd79d0>"
      ]
     },
     "metadata": {},
     "output_type": "display_data"
    }
   ],
   "source": [
    "import pandas as pd\n",
    "import plotly.express as px\n",
    "import dash\n",
    "from dash import dcc, html\n",
    "from dash.dependencies import Input, Output\n",
    "\n",
    "#FIRST PART --> CREATION OF HEATMAP\n",
    "\n",
    "# Load the monthly correlation data\n",
    "df = pd.read_csv(\"Monthly_Correlation.csv\", index_col=0, parse_dates=True)\n",
    "df.index = pd.to_datetime(df.index.astype(str))  # Ensure index is datetime\n",
    "\n",
    "# Filter data from March 2024 onwards\n",
    "df_filtered = df[df.index >= \"2024-03\"]\n",
    "\n",
    "#delete the column \"Fecha\"\n",
    "if \"Fecha\" in df_filtered.columns:\n",
    "    df_filtered = df_filtered.drop(columns=[\"Fecha\"])\n",
    "\n",
    "# Split columns into two groups\n",
    "stocks = list(df_filtered.columns)\n",
    "midpoint = len(stocks) // 2\n",
    "group1 = stocks[:midpoint]\n",
    "group2 = stocks[midpoint:]\n",
    "\n",
    "def plot_heatmap(data, title):\n",
    "    fig = px.imshow(\n",
    "        data.T,  # Transpose for better layout\n",
    "        labels=dict(x=\"Month\", y=\"Stock\", color=\"Correlation\"),\n",
    "        title=title,\n",
    "        color_continuous_scale=\"RdBu_r\",\n",
    "        aspect=\"auto\",\n",
    "    )\n",
    "    fig.update_layout(\n",
    "        autosize=False,\n",
    "        width=1000,\n",
    "        height=600,\n",
    "        xaxis=dict(tickangle=-45),\n",
    "    )\n",
    "    return fig\n",
    "\n",
    "# SECOND PART --> CREATION OF THE CORRELATION BARCHART\n",
    "\n",
    "# Load the correlation CSV\n",
    "df_corr = pd.read_csv(\"Historical_Correlation.csv\", index_col=0, header=None, names=[\"Stock\", \"Correlation\"],skiprows=1)\n",
    "\n",
    "#Reset index to have the correct form of the dataframe\n",
    "df_corr=df_corr.reset_index()\n",
    "\n",
    "#turn to float the data\n",
    "df_corr[\"Correlation\"] = df_corr[\"Correlation\"].astype(float)\n",
    "\n",
    "#order the data according to the correlation\n",
    "df_corr = df_corr.sort_values(\"Correlation\", ascending=False).reset_index(drop=True)\n",
    "\n",
    "# Optional: clean column names\n",
    "df_corr[\"Stock\"] = df_corr[\"Stock\"].str.replace(\"_Precio cierre\", \"\", regex=False)\n",
    "\n",
    "def create_bar_chart():\n",
    "    fig = px.bar(\n",
    "        df_corr,\n",
    "        x=\"Correlation\",\n",
    "        y=\"Stock\",\n",
    "        orientation=\"h\",\n",
    "        title=\"📊 Historical Correlation with COLCAP since 2020\",\n",
    "        color=\"Correlation\",\n",
    "        color_continuous_scale=\"RdBu_r\",\n",
    "        range_color=[-1, 1],\n",
    "        labels={\"Correlation\": \"Correlation Coefficient\", \"Stock\": \"Stock\"}\n",
    "    )\n",
    "    fig.update_layout(\n",
    "        yaxis=dict(autorange=\"reversed\"),\n",
    "        height=800,\n",
    "        xaxis=dict(tickformat=\".2f\"))\n",
    "    return fig\n",
    "\n",
    "\n",
    "# Dash app setup\n",
    "app = dash.Dash(__name__)\n",
    "server = app.server\n",
    "\n",
    "app.layout = html.Div([\n",
    "    html.H1(\"📈 Correlation Visualizations\", style={'textAlign': 'center'}),\n",
    "    \n",
    "    dcc.Dropdown(\n",
    "        id=\"group_selector\",\n",
    "        options=[\n",
    "            {\"label\": \"Group 1\", \"value\": \"group1\"},\n",
    "            {\"label\": \"Group 2\", \"value\": \"group2\"}\n",
    "        ],\n",
    "        value=\"group1\",\n",
    "        clearable=False,\n",
    "        style={\"width\": \"50%\", \"margin\": \"auto\"}\n",
    "    ),\n",
    "    \n",
    "    html.Div(\n",
    "        dcc.Graph(id=\"heatmap\"),\n",
    "        style={\"display\": \"flex\", \"justifyContent\": \"center\"}\n",
    "    ),\n",
    "    \n",
    "    dcc.Tab(label=\"Historical Correlation Bar Chart\", children=[\n",
    "            html.Br(),\n",
    "            dcc.Graph(figure=create_bar_chart(), style={\"margin\": \"0 auto\", \"width\": \"90%\"})\n",
    "        ])\n",
    "    \n",
    "])\n",
    "\n",
    "@app.callback(\n",
    "    Output(\"heatmap\", \"figure\"),\n",
    "    Input(\"group_selector\", \"value\")\n",
    ")\n",
    "def update_heatmap(selected_group):\n",
    "    data = df_filtered[group1] if selected_group == \"group1\" else df_filtered[group2]\n",
    "    title = f\"📊 Monthly Correlation Heatmap ({selected_group.replace('group', 'Group ')})\"\n",
    "    return plot_heatmap(data, title)\n",
    "\n",
    "# Run the server locally\n",
    "if __name__ == \"__main__\":\n",
    "    app.run(debug=True)"
   ]
  }
 ],
 "metadata": {
  "kernelspec": {
   "display_name": "base",
   "language": "python",
   "name": "python3"
  },
  "language_info": {
   "codemirror_mode": {
    "name": "ipython",
    "version": 3
   },
   "file_extension": ".py",
   "mimetype": "text/x-python",
   "name": "python",
   "nbconvert_exporter": "python",
   "pygments_lexer": "ipython3",
   "version": "3.11.7"
  }
 },
 "nbformat": 4,
 "nbformat_minor": 2
}
